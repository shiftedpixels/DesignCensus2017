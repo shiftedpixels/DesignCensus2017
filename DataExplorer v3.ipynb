{
  "cells": [
    {
      "cell_type": "code",
      "source": [
        "import numpy as np\n",
        "import pandas as pd\n",
        "import math\n",
        "import random\n",
        "from IPython.display import display\n",
        "import seaborn as sns\n",
        "import matplotlib.pyplot as plt\n",
        "import locale\n",
        "locale.setlocale(locale.LC_ALL, '')\n",
        "%matplotlib inline\n",
        "\n",
        "# Bokeh is cool.\n",
        "from bokeh.io import show,curdoc, output_notebook, export_png, export_svgs #output_file\n",
        "from bokeh.models import Quad, FactorRange, LabelSet\n",
        "from bokeh.layouts import row, layout,widgetbox\n",
        "from bokeh.models.widgets import Select,MultiSelect\n",
        "from bokeh.plotting import ColumnDataSource,figure,reset_output,gridplot\n",
        "from bokeh.palettes import Spectral6\n",
        "\n",
        "reset_output()\n",
        "output_notebook()\n",
        "\n\n",
        "import pickle\n",
        "\n\n",
        "# Ensure vector figure output uses editable text\n",
        "plt.rcParams['pdf.fonttype'] = 42\n",
        "plt.rcParams['ps.fonttype'] = 42\n",
        "plt.rcParams['svg.fonttype'] = 'none'\n",
        "# Autolayout on graphs\n",
        "plt.rcParams['figure.autolayout'] = True\n",
        "\n",
        "# Read in our preprocessed data\n",
        "df = pd.read_csv('./export_csv/processed_output_without_column_names.csv', encoding = 'utf8')\n",
        "with open('SavedVariables.pckl', 'rb') as f:\n",
        "    continous_cols, cate_cols, cate_cols_v2, pipe_col, col_dict, pipe_col_dict = pickle.load(f)\n"
      ],
      "outputs": [
        {
          "output_type": "display_data",
          "data": {
            "text/html": [
              "\n",
              "    <div class=\"bk-root\">\n",
              "        <a href=\"https://bokeh.pydata.org\" target=\"_blank\" class=\"bk-logo bk-logo-small bk-logo-notebook\"></a>\n",
              "        <span id=\"c5cd5399-3d86-4463-bd9b-f4733c8ccec3\">Loading BokehJS ...</span>\n",
              "    </div>"
            ]
          },
          "metadata": {}
        },
        {
          "output_type": "display_data",
          "data": {
            "application/javascript": [
              "\n",
              "(function(root) {\n",
              "  function now() {\n",
              "    return new Date();\n",
              "  }\n",
              "\n",
              "  var force = true;\n",
              "\n",
              "  if (typeof (root._bokeh_onload_callbacks) === \"undefined\" || force === true) {\n",
              "    root._bokeh_onload_callbacks = [];\n",
              "    root._bokeh_is_loading = undefined;\n",
              "  }\n",
              "\n",
              "  var JS_MIME_TYPE = 'application/javascript';\n",
              "  var HTML_MIME_TYPE = 'text/html';\n",
              "  var EXEC_MIME_TYPE = 'application/vnd.bokehjs_exec.v0+json';\n",
              "  var CLASS_NAME = 'output_bokeh rendered_html';\n",
              "\n",
              "  /**\n",
              "   * Render data to the DOM node\n",
              "   */\n",
              "  function render(props, node) {\n",
              "    var script = document.createElement(\"script\");\n",
              "    node.appendChild(script);\n",
              "  }\n",
              "\n",
              "  /**\n",
              "   * Handle when an output is cleared or removed\n",
              "   */\n",
              "  function handleClearOutput(event, handle) {\n",
              "    var cell = handle.cell;\n",
              "\n",
              "    var id = cell.output_area._bokeh_element_id;\n",
              "    var server_id = cell.output_area._bokeh_server_id;\n",
              "    // Clean up Bokeh references\n",
              "    if (id !== undefined) {\n",
              "      Bokeh.index[id].model.document.clear();\n",
              "      delete Bokeh.index[id];\n",
              "    }\n",
              "\n",
              "    if (server_id !== undefined) {\n",
              "      // Clean up Bokeh references\n",
              "      var cmd = \"from bokeh.io.state import curstate; print(curstate().uuid_to_server['\" + server_id + \"'].get_sessions()[0].document.roots[0]._id)\";\n",
              "      cell.notebook.kernel.execute(cmd, {\n",
              "        iopub: {\n",
              "          output: function(msg) {\n",
              "            var element_id = msg.content.text.trim();\n",
              "            Bokeh.index[element_id].model.document.clear();\n",
              "            delete Bokeh.index[element_id];\n",
              "          }\n",
              "        }\n",
              "      });\n",
              "      // Destroy server and session\n",
              "      var cmd = \"import bokeh.io.notebook as ion; ion.destroy_server('\" + server_id + \"')\";\n",
              "      cell.notebook.kernel.execute(cmd);\n",
              "    }\n",
              "  }\n",
              "\n",
              "  /**\n",
              "   * Handle when a new output is added\n",
              "   */\n",
              "  function handleAddOutput(event, handle) {\n",
              "    var output_area = handle.output_area;\n",
              "    var output = handle.output;\n",
              "\n",
              "    // limit handleAddOutput to display_data with EXEC_MIME_TYPE content only\n",
              "    if ((output.output_type != \"display_data\") || (!output.data.hasOwnProperty(EXEC_MIME_TYPE))) {\n",
              "      return\n",
              "    }\n",
              "\n",
              "    var toinsert = output_area.element.find(\".\" + CLASS_NAME.split(' ')[0]);\n",
              "\n",
              "    if (output.metadata[EXEC_MIME_TYPE][\"id\"] !== undefined) {\n",
              "      toinsert[0].firstChild.textContent = output.data[JS_MIME_TYPE];\n",
              "      // store reference to embed id on output_area\n",
              "      output_area._bokeh_element_id = output.metadata[EXEC_MIME_TYPE][\"id\"];\n",
              "    }\n",
              "    if (output.metadata[EXEC_MIME_TYPE][\"server_id\"] !== undefined) {\n",
              "      var bk_div = document.createElement(\"div\");\n",
              "      bk_div.innerHTML = output.data[HTML_MIME_TYPE];\n",
              "      var script_attrs = bk_div.children[0].attributes;\n",
              "      for (var i = 0; i < script_attrs.length; i++) {\n",
              "        toinsert[0].firstChild.setAttribute(script_attrs[i].name, script_attrs[i].value);\n",
              "      }\n",
              "      // store reference to server id on output_area\n",
              "      output_area._bokeh_server_id = output.metadata[EXEC_MIME_TYPE][\"server_id\"];\n",
              "    }\n",
              "  }\n",
              "\n",
              "  function register_renderer(events, OutputArea) {\n",
              "\n",
              "    function append_mime(data, metadata, element) {\n",
              "      // create a DOM node to render to\n",
              "      var toinsert = this.create_output_subarea(\n",
              "        metadata,\n",
              "        CLASS_NAME,\n",
              "        EXEC_MIME_TYPE\n",
              "      );\n",
              "      this.keyboard_manager.register_events(toinsert);\n",
              "      // Render to node\n",
              "      var props = {data: data, metadata: metadata[EXEC_MIME_TYPE]};\n",
              "      render(props, toinsert[0]);\n",
              "      element.append(toinsert);\n",
              "      return toinsert\n",
              "    }\n",
              "\n",
              "    /* Handle when an output is cleared or removed */\n",
              "    events.on('clear_output.CodeCell', handleClearOutput);\n",
              "    events.on('delete.Cell', handleClearOutput);\n",
              "\n",
              "    /* Handle when a new output is added */\n",
              "    events.on('output_added.OutputArea', handleAddOutput);\n",
              "\n",
              "    /**\n",
              "     * Register the mime type and append_mime function with output_area\n",
              "     */\n",
              "    OutputArea.prototype.register_mime_type(EXEC_MIME_TYPE, append_mime, {\n",
              "      /* Is output safe? */\n",
              "      safe: true,\n",
              "      /* Index of renderer in `output_area.display_order` */\n",
              "      index: 0\n",
              "    });\n",
              "  }\n",
              "\n",
              "  // register the mime type if in Jupyter Notebook environment and previously unregistered\n",
              "  if (root.Jupyter !== undefined) {\n",
              "    var events = require('base/js/events');\n",
              "    var OutputArea = require('notebook/js/outputarea').OutputArea;\n",
              "\n",
              "    if (OutputArea.prototype.mime_types().indexOf(EXEC_MIME_TYPE) == -1) {\n",
              "      register_renderer(events, OutputArea);\n",
              "    }\n",
              "  }\n",
              "\n",
              "  \n",
              "  if (typeof (root._bokeh_timeout) === \"undefined\" || force === true) {\n",
              "    root._bokeh_timeout = Date.now() + 5000;\n",
              "    root._bokeh_failed_load = false;\n",
              "  }\n",
              "\n",
              "  var NB_LOAD_WARNING = {'data': {'text/html':\n",
              "     \"<div style='background-color: #fdd'>\\n\"+\n",
              "     \"<p>\\n\"+\n",
              "     \"BokehJS does not appear to have successfully loaded. If loading BokehJS from CDN, this \\n\"+\n",
              "     \"may be due to a slow or bad network connection. Possible fixes:\\n\"+\n",
              "     \"</p>\\n\"+\n",
              "     \"<ul>\\n\"+\n",
              "     \"<li>re-rerun `output_notebook()` to attempt to load from CDN again, or</li>\\n\"+\n",
              "     \"<li>use INLINE resources instead, as so:</li>\\n\"+\n",
              "     \"</ul>\\n\"+\n",
              "     \"<code>\\n\"+\n",
              "     \"from bokeh.resources import INLINE\\n\"+\n",
              "     \"output_notebook(resources=INLINE)\\n\"+\n",
              "     \"</code>\\n\"+\n",
              "     \"</div>\"}};\n",
              "\n",
              "  function display_loaded() {\n",
              "    var el = document.getElementById(\"c5cd5399-3d86-4463-bd9b-f4733c8ccec3\");\n",
              "    if (el != null) {\n",
              "      el.textContent = \"BokehJS is loading...\";\n",
              "    }\n",
              "    if (root.Bokeh !== undefined) {\n",
              "      if (el != null) {\n",
              "        el.textContent = \"BokehJS \" + root.Bokeh.version + \" successfully loaded.\";\n",
              "      }\n",
              "    } else if (Date.now() < root._bokeh_timeout) {\n",
              "      setTimeout(display_loaded, 100)\n",
              "    }\n",
              "  }\n",
              "\n\n",
              "  function run_callbacks() {\n",
              "    try {\n",
              "      root._bokeh_onload_callbacks.forEach(function(callback) { callback() });\n",
              "    }\n",
              "    finally {\n",
              "      delete root._bokeh_onload_callbacks\n",
              "    }\n",
              "    console.info(\"Bokeh: all callbacks have finished\");\n",
              "  }\n",
              "\n",
              "  function load_libs(js_urls, callback) {\n",
              "    root._bokeh_onload_callbacks.push(callback);\n",
              "    if (root._bokeh_is_loading > 0) {\n",
              "      console.log(\"Bokeh: BokehJS is being loaded, scheduling callback at\", now());\n",
              "      return null;\n",
              "    }\n",
              "    if (js_urls == null || js_urls.length === 0) {\n",
              "      run_callbacks();\n",
              "      return null;\n",
              "    }\n",
              "    console.log(\"Bokeh: BokehJS not loaded, scheduling load and callback at\", now());\n",
              "    root._bokeh_is_loading = js_urls.length;\n",
              "    for (var i = 0; i < js_urls.length; i++) {\n",
              "      var url = js_urls[i];\n",
              "      var s = document.createElement('script');\n",
              "      s.src = url;\n",
              "      s.async = false;\n",
              "      s.onreadystatechange = s.onload = function() {\n",
              "        root._bokeh_is_loading--;\n",
              "        if (root._bokeh_is_loading === 0) {\n",
              "          console.log(\"Bokeh: all BokehJS libraries loaded\");\n",
              "          run_callbacks()\n",
              "        }\n",
              "      };\n",
              "      s.onerror = function() {\n",
              "        console.warn(\"failed to load library \" + url);\n",
              "      };\n",
              "      console.log(\"Bokeh: injecting script tag for BokehJS library: \", url);\n",
              "      document.getElementsByTagName(\"head\")[0].appendChild(s);\n",
              "    }\n",
              "  };var element = document.getElementById(\"c5cd5399-3d86-4463-bd9b-f4733c8ccec3\");\n",
              "  if (element == null) {\n",
              "    console.log(\"Bokeh: ERROR: autoload.js configured with elementid 'c5cd5399-3d86-4463-bd9b-f4733c8ccec3' but no matching script tag was found. \")\n",
              "    return false;\n",
              "  }\n",
              "\n",
              "  var js_urls = [\"https://cdn.pydata.org/bokeh/release/bokeh-0.12.13.min.js\", \"https://cdn.pydata.org/bokeh/release/bokeh-widgets-0.12.13.min.js\", \"https://cdn.pydata.org/bokeh/release/bokeh-tables-0.12.13.min.js\", \"https://cdn.pydata.org/bokeh/release/bokeh-gl-0.12.13.min.js\"];\n",
              "\n",
              "  var inline_js = [\n",
              "    function(Bokeh) {\n",
              "      Bokeh.set_log_level(\"info\");\n",
              "    },\n",
              "    \n",
              "    function(Bokeh) {\n",
              "      \n",
              "    },\n",
              "    function(Bokeh) {\n",
              "      console.log(\"Bokeh: injecting CSS: https://cdn.pydata.org/bokeh/release/bokeh-0.12.13.min.css\");\n",
              "      Bokeh.embed.inject_css(\"https://cdn.pydata.org/bokeh/release/bokeh-0.12.13.min.css\");\n",
              "      console.log(\"Bokeh: injecting CSS: https://cdn.pydata.org/bokeh/release/bokeh-widgets-0.12.13.min.css\");\n",
              "      Bokeh.embed.inject_css(\"https://cdn.pydata.org/bokeh/release/bokeh-widgets-0.12.13.min.css\");\n",
              "      console.log(\"Bokeh: injecting CSS: https://cdn.pydata.org/bokeh/release/bokeh-tables-0.12.13.min.css\");\n",
              "      Bokeh.embed.inject_css(\"https://cdn.pydata.org/bokeh/release/bokeh-tables-0.12.13.min.css\");\n",
              "    }\n",
              "  ];\n",
              "\n",
              "  function run_inline_js() {\n",
              "    \n",
              "    if ((root.Bokeh !== undefined) || (force === true)) {\n",
              "      for (var i = 0; i < inline_js.length; i++) {\n",
              "        inline_js[i].call(root, root.Bokeh);\n",
              "      }if (force === true) {\n",
              "        display_loaded();\n",
              "      }} else if (Date.now() < root._bokeh_timeout) {\n",
              "      setTimeout(run_inline_js, 100);\n",
              "    } else if (!root._bokeh_failed_load) {\n",
              "      console.log(\"Bokeh: BokehJS failed to load within specified timeout.\");\n",
              "      root._bokeh_failed_load = true;\n",
              "    } else if (force !== true) {\n",
              "      var cell = $(document.getElementById(\"c5cd5399-3d86-4463-bd9b-f4733c8ccec3\")).parents('.cell').data().cell;\n",
              "      cell.output_area.append_execute_result(NB_LOAD_WARNING)\n",
              "    }\n",
              "\n",
              "  }\n",
              "\n",
              "  if (root._bokeh_is_loading === 0) {\n",
              "    console.log(\"Bokeh: BokehJS loaded, going straight to plotting\");\n",
              "    run_inline_js();\n",
              "  } else {\n",
              "    load_libs(js_urls, function() {\n",
              "      console.log(\"Bokeh: BokehJS plotting callback run at\", now());\n",
              "      run_inline_js();\n",
              "    });\n",
              "  }\n",
              "}(window));"
            ],
            "application/vnd.bokehjs_load.v0+json": "\n(function(root) {\n  function now() {\n    return new Date();\n  }\n\n  var force = true;\n\n  if (typeof (root._bokeh_onload_callbacks) === \"undefined\" || force === true) {\n    root._bokeh_onload_callbacks = [];\n    root._bokeh_is_loading = undefined;\n  }\n\n  \n\n  \n  if (typeof (root._bokeh_timeout) === \"undefined\" || force === true) {\n    root._bokeh_timeout = Date.now() + 5000;\n    root._bokeh_failed_load = false;\n  }\n\n  var NB_LOAD_WARNING = {'data': {'text/html':\n     \"<div style='background-color: #fdd'>\\n\"+\n     \"<p>\\n\"+\n     \"BokehJS does not appear to have successfully loaded. If loading BokehJS from CDN, this \\n\"+\n     \"may be due to a slow or bad network connection. Possible fixes:\\n\"+\n     \"</p>\\n\"+\n     \"<ul>\\n\"+\n     \"<li>re-rerun `output_notebook()` to attempt to load from CDN again, or</li>\\n\"+\n     \"<li>use INLINE resources instead, as so:</li>\\n\"+\n     \"</ul>\\n\"+\n     \"<code>\\n\"+\n     \"from bokeh.resources import INLINE\\n\"+\n     \"output_notebook(resources=INLINE)\\n\"+\n     \"</code>\\n\"+\n     \"</div>\"}};\n\n  function display_loaded() {\n    var el = document.getElementById(\"c5cd5399-3d86-4463-bd9b-f4733c8ccec3\");\n    if (el != null) {\n      el.textContent = \"BokehJS is loading...\";\n    }\n    if (root.Bokeh !== undefined) {\n      if (el != null) {\n        el.textContent = \"BokehJS \" + root.Bokeh.version + \" successfully loaded.\";\n      }\n    } else if (Date.now() < root._bokeh_timeout) {\n      setTimeout(display_loaded, 100)\n    }\n  }\n\n\n  function run_callbacks() {\n    try {\n      root._bokeh_onload_callbacks.forEach(function(callback) { callback() });\n    }\n    finally {\n      delete root._bokeh_onload_callbacks\n    }\n    console.info(\"Bokeh: all callbacks have finished\");\n  }\n\n  function load_libs(js_urls, callback) {\n    root._bokeh_onload_callbacks.push(callback);\n    if (root._bokeh_is_loading > 0) {\n      console.log(\"Bokeh: BokehJS is being loaded, scheduling callback at\", now());\n      return null;\n    }\n    if (js_urls == null || js_urls.length === 0) {\n      run_callbacks();\n      return null;\n    }\n    console.log(\"Bokeh: BokehJS not loaded, scheduling load and callback at\", now());\n    root._bokeh_is_loading = js_urls.length;\n    for (var i = 0; i < js_urls.length; i++) {\n      var url = js_urls[i];\n      var s = document.createElement('script');\n      s.src = url;\n      s.async = false;\n      s.onreadystatechange = s.onload = function() {\n        root._bokeh_is_loading--;\n        if (root._bokeh_is_loading === 0) {\n          console.log(\"Bokeh: all BokehJS libraries loaded\");\n          run_callbacks()\n        }\n      };\n      s.onerror = function() {\n        console.warn(\"failed to load library \" + url);\n      };\n      console.log(\"Bokeh: injecting script tag for BokehJS library: \", url);\n      document.getElementsByTagName(\"head\")[0].appendChild(s);\n    }\n  };var element = document.getElementById(\"c5cd5399-3d86-4463-bd9b-f4733c8ccec3\");\n  if (element == null) {\n    console.log(\"Bokeh: ERROR: autoload.js configured with elementid 'c5cd5399-3d86-4463-bd9b-f4733c8ccec3' but no matching script tag was found. \")\n    return false;\n  }\n\n  var js_urls = [\"https://cdn.pydata.org/bokeh/release/bokeh-0.12.13.min.js\", \"https://cdn.pydata.org/bokeh/release/bokeh-widgets-0.12.13.min.js\", \"https://cdn.pydata.org/bokeh/release/bokeh-tables-0.12.13.min.js\", \"https://cdn.pydata.org/bokeh/release/bokeh-gl-0.12.13.min.js\"];\n\n  var inline_js = [\n    function(Bokeh) {\n      Bokeh.set_log_level(\"info\");\n    },\n    \n    function(Bokeh) {\n      \n    },\n    function(Bokeh) {\n      console.log(\"Bokeh: injecting CSS: https://cdn.pydata.org/bokeh/release/bokeh-0.12.13.min.css\");\n      Bokeh.embed.inject_css(\"https://cdn.pydata.org/bokeh/release/bokeh-0.12.13.min.css\");\n      console.log(\"Bokeh: injecting CSS: https://cdn.pydata.org/bokeh/release/bokeh-widgets-0.12.13.min.css\");\n      Bokeh.embed.inject_css(\"https://cdn.pydata.org/bokeh/release/bokeh-widgets-0.12.13.min.css\");\n      console.log(\"Bokeh: injecting CSS: https://cdn.pydata.org/bokeh/release/bokeh-tables-0.12.13.min.css\");\n      Bokeh.embed.inject_css(\"https://cdn.pydata.org/bokeh/release/bokeh-tables-0.12.13.min.css\");\n    }\n  ];\n\n  function run_inline_js() {\n    \n    if ((root.Bokeh !== undefined) || (force === true)) {\n      for (var i = 0; i < inline_js.length; i++) {\n        inline_js[i].call(root, root.Bokeh);\n      }if (force === true) {\n        display_loaded();\n      }} else if (Date.now() < root._bokeh_timeout) {\n      setTimeout(run_inline_js, 100);\n    } else if (!root._bokeh_failed_load) {\n      console.log(\"Bokeh: BokehJS failed to load within specified timeout.\");\n      root._bokeh_failed_load = true;\n    } else if (force !== true) {\n      var cell = $(document.getElementById(\"c5cd5399-3d86-4463-bd9b-f4733c8ccec3\")).parents('.cell').data().cell;\n      cell.output_area.append_execute_result(NB_LOAD_WARNING)\n    }\n\n  }\n\n  if (root._bokeh_is_loading === 0) {\n    console.log(\"Bokeh: BokehJS loaded, going straight to plotting\");\n    run_inline_js();\n  } else {\n    load_libs(js_urls, function() {\n      console.log(\"Bokeh: BokehJS plotting callback run at\", now());\n      run_inline_js();\n    });\n  }\n}(window));"
          },
          "metadata": {}
        }
      ],
      "execution_count": 2,
      "metadata": {
        "collapsed": true,
        "outputExpanded": true
      }
    },
    {
      "cell_type": "code",
      "source": [],
      "outputs": [],
      "execution_count": 4,
      "metadata": {}
    },
    {
      "cell_type": "code",
      "source": [
        "AIGA_col = pipe_col_dict['V_32']['AIGA']\n",
        "print('The total number of AIGA responses: ' + str(len(df[df[AIGA_col] == 1])))\n",
        "print('The total number of Non-AIGA responses: ' + str(len(df[df[AIGA_col] == 0])))"
      ],
      "outputs": [
        {
          "output_type": "stream",
          "name": "stdout",
          "text": [
            "The total number of AIGA responses: 4638\n",
            "The total number of Non-AIGA responses: 7839\n"
          ]
        }
      ],
      "execution_count": 3,
      "metadata": {
        "outputExpanded": true
      }
    },
    {
      "cell_type": "code",
      "source": [
        "def summary_cate_col(col, AllorAIGA = 'All'): #default is all records\n",
        "    \n",
        "    AIGA_col = pipe_col_dict['V_32']['AIGA']\n",
        "    if AllorAIGA == 'All':\n",
        "        df_filtered = df\n",
        "    elif AllorAIGA ==\"NotAIGA\":\n",
        "        df_filtered = df[df[AIGA_col] == 0]\n",
        "    else:\n",
        "        df_filtered = df[df[AIGA_col] == 1]\n",
        "\n",
        "        \n",
        "    if col in continous_cols:\n",
        "        return\n",
        "    \n",
        "    elif col in pipe_col:\n",
        "        dff = pd.DataFrame(columns=['Options','Count','Percent'])\n",
        "        for key, value in pipe_col_dict[col].items():\n",
        "            count = df_filtered[value].sum()\n",
        "            dff = dff.append({'Options': key, 'Count' : count}, ignore_index=True)\n",
        "    else:\n",
        "        dff = pd.DataFrame(df_filtered[col].value_counts())\n",
        "        dff.reset_index(inplace=True)\n",
        "        dff.columns = ['Options','Count']\n",
        "    \n",
        "    dff['Percent'] = dff.Count / len(df_filtered)\n",
        "    dff = dff.sort_values(by = 'Percent', ascending = False)\n",
        "    return dff\n"
      ],
      "outputs": [],
      "execution_count": 4,
      "metadata": {
        "collapsed": false,
        "outputHidden": false,
        "inputHidden": false
      }
    },
    {
      "cell_type": "code",
      "source": [
        "# Vertical bar plot\n",
        "\n",
        "def plotVBar(dff, AllorAIGA):\n",
        "\n",
        "    source = ColumnDataSource(dict(x= dff['Options'],y=dff['Count']))\n",
        "\n",
        "    x_label = \"Categories\"\n",
        "    y_label = \"Respondents\"\n",
        "    title = AllorAIGA + ': ' + col_dict[col] \n",
        "    \n",
        "    plot = figure(plot_width=700, plot_height=500,\n",
        "            x_axis_label = x_label,\n",
        "            y_axis_label = y_label,\n",
        "            title=title,\n",
        "            x_range=FactorRange(factors=list(dff['Options']))\n",
        "            )\n",
        "\n",
        "    plot.vbar(source=source,x='x',top='y',bottom=0,width=0.3)\n",
        "    show(plot)\n",
        "\n\n",
        "# Horizontal bar graph\n",
        "# dff - dataframe\n",
        "# t - title of chart\n",
        "def plotHBar(dff, t):\n",
        "\n",
        "    #round percentages\n",
        "    dff['Percent'] = pd.Series([\"{0:.2f}%\".format(val * 100) for val in dff['Percent']], index = dff.index)\n",
        "    source = ColumnDataSource(dict(x=dff['Count'],y=dff['Options'], pct=dff['Percent']))\n",
        "    x_label = \"Respondents\"\n",
        "    y_label = \"Categories\"\n",
        "    title = t + ': ' + col_dict[col] \n",
        "    \n",
        "    #constant width, height variable based on options in the Y axis\n",
        "    h = 50 * dff['Options'].shape[0]\n",
        "    max_count = max(dff['Count'])\n",
        "    maxX = 50 + max_count\n",
        "    maxX += .2*maxX\n",
        "    minHeight = 900\n",
        "    \n",
        "    if h < minHeight:\n",
        "        h = minHeight\n",
        "    \n",
        "    plot = figure(plot_width=1400, plot_height=h,\n",
        "            x_axis_label = x_label,\n",
        "            y_axis_label = y_label,\n",
        "            title=title, x_range=(0, maxX),\n",
        "            y_range=FactorRange(factors=list(dff['Options']))\n",
        "            )\n",
        "    plot.min_border_right = 50\n",
        "    \n",
        "    pctLabels = LabelSet(x='x', y='y', text='pct', text_font_size='8pt', level='glyph',\n",
        "            x_offset=10, y_offset=2, source=source, render_mode='canvas')\n",
        "\n",
        "    countLabels = LabelSet(x='x', y='y', text='x', text_font_size='8pt', level='glyph',\n",
        "            x_offset=10, y_offset=-12, source=source, render_mode='canvas')\n",
        "\n",
        "    plot.hbar(source=source,y='y',right='x',left=0,height=0.75)\n",
        "    plot.add_layout(pctLabels)\n",
        "    plot.add_layout(countLabels)\n",
        "    plot.output_backend = \"svg\"\n",
        "    \n",
        "    return plot\n",
        "    # export_svgs(plot, filename = t + '-' + col_dict[col] + str(max_count) + '.svg')\n",
        "    #export_png(plot, t + '-' + col_dict[col] + '.png' )\n",
        "    \n",
        "    #show(plot)\n"
      ],
      "outputs": [],
      "execution_count": 5,
      "metadata": {
        "collapsed": false,
        "outputHidden": false,
        "inputHidden": false
      }
    },
    {
      "cell_type": "code",
      "source": [
        "\n",
        "figureCount = 0\n",
        "\n",
        "for col in cate_cols:\n",
        "    if 'V_8' in col:\n",
        "        continue\n",
        "    if 'V_35' in col:\n",
        "        continue\n",
        "    if 'V_36' in col:\n",
        "        continue\n",
        "        \n",
        "    # get summary table each column (All)\n",
        "    #if 'V_38' in col:\n",
        "    #dff = summary_cate_col(col, AllorAIGA = 'All')\n",
        "    #plotHBar(dff, 'All')\n",
        "    \n",
        "    # get summary table each column (AIGA-Only)\n",
        "    #dff = summary_cate_col(col, AllorAIGA = 'AIGA-Only')\n",
        "    #plotHBar(dff, 'AIGA-Only')\n",
        "    \n",
        "    # get summary table each column (Not AIGA)\n",
        "    #dff = summary_cate_col(col, AllorAIGA = 'NotAIGA')\n",
        "    #plotHBar(dff, 'NotAIGA')\n",
        "\n",
        "    dff1 = summary_cate_col(col, AllorAIGA = 'AIGA-Only')\n",
        "    AIGA = plotHBar(dff1, 'AIGA-Only')\n",
        "    dff2 = summary_cate_col(col, AllorAIGA = 'NotAIGA')\n",
        "    NOTAIGA = plotHBar(dff2, 'NotAIGA')\n",
        "    #figureCount +=1\n",
        "    #filename = 'AIGA_' + str(figureCount).decode(\"utf-8\") + '.png'\n",
        "    #display(filename)\n",
        "    show(AIGA)\n",
        "    show(NOTAIGA)\n",
        "    \n",
        "    #export_png(AIGA, 'AIGA-' + col_dict[col] + str(random.randint(1, 100000)) + '.png' )\n",
        "    #export_svgs(row(AIGA,NOTAIGA), filename = col_dict[col] + str(random.randint(1, 100000)) + '.svg')\n"
      ],
      "outputs": [
        {
          "output_type": "display_data",
          "data": {
            "text/html": [
              "\n",
              "<div class=\"bk-root\">\n",
              "    <div class=\"bk-plotdiv\" id=\"a4357198-21fe-4529-b92e-117e351165cb\"></div>\n",
              "</div>"
            ]
          },
          "metadata": {}
        },
        {
          "output_type": "display_data",
          "data": {
            "application/javascript": [
              "(function(root) {\n",
              "  function embed_document(root) {\n",
              "    \n",
              "  var docs_json = {\"86cd612a-c8bd-4400-b2e3-6942052e809e\":{\"roots\":{\"references\":[{\"attributes\":{},\"id\":\"c5630857-4114-4523-ab50-99c9675dbbf0\",\"type\":\"CategoricalTickFormatter\"},{\"attributes\":{},\"id\":\"a8f5daea-0fd9-4d54-b5db-d3df81768b58\",\"type\":\"WheelZoomTool\"},{\"attributes\":{\"callback\":null,\"end\":1807.2},\"id\":\"e1d60065-65ed-4fa9-b69d-634f4153bc01\",\"type\":\"Range1d\"},{\"attributes\":{\"axis_label\":\"Respondents\",\"formatter\":{\"id\":\"f69613f7-eb41-4492-83fd-424989b512a8\",\"type\":\"BasicTickFormatter\"},\"plot\":{\"id\":\"eec9129a-fedb-48a2-bc7e-49a8d90e2360\",\"subtype\":\"Figure\",\"type\":\"Plot\"},\"ticker\":{\"id\":\"4044ce82-8576-499f-a752-cd2621dc3614\",\"type\":\"BasicTicker\"}},\"id\":\"2d53b944-56d0-4c22-9d91-f5c800e4d85c\",\"type\":\"LinearAxis\"},{\"attributes\":{\"callback\":null,\"factors\":[\"1-4 years\",\"5-9 years\",\"10-14 years\",\"20+ years\",\"15-20 years\",\"Less than 1 year\"]},\"id\":\"27425579-2477-440a-9b5d-b873f78d5ae5\",\"type\":\"FactorRange\"},{\"attributes\":{\"level\":\"glyph\",\"plot\":{\"id\":\"eec9129a-fedb-48a2-bc7e-49a8d90e2360\",\"subtype\":\"Figure\",\"type\":\"Plot\"},\"source\":{\"id\":\"c2faf733-824f-49f8-8876-5e7cfdba4cbb\",\"type\":\"ColumnDataSource\"},\"text\":{\"field\":\"pct\"},\"text_font_size\":{\"value\":\"8pt\"},\"x\":{\"field\":\"x\"},\"x_offset\":{\"value\":10},\"y\":{\"field\":\"y\"},\"y_offset\":{\"value\":2}},\"id\":\"d0fba9cd-d752-434f-adb6-981de87deca6\",\"type\":\"LabelSet\"},{\"attributes\":{},\"id\":\"2bcccd0f-e573-4240-a98b-47678d66c5fb\",\"type\":\"SaveTool\"},{\"attributes\":{},\"id\":\"d3c8feda-aa49-4f88-a2c2-2f29f40a5808\",\"type\":\"CategoricalTicker\"},{\"attributes\":{\"bottom_units\":\"screen\",\"fill_alpha\":{\"value\":0.5},\"fill_color\":{\"value\":\"lightgrey\"},\"left_units\":\"screen\",\"level\":\"overlay\",\"line_alpha\":{\"value\":1.0},\"line_color\":{\"value\":\"black\"},\"line_dash\":[4,4],\"line_width\":{\"value\":2},\"plot\":null,\"render_mode\":\"css\",\"right_units\":\"screen\",\"top_units\":\"screen\"},\"id\":\"09a92b74-5209-4d3c-9a78-9909c02736d6\",\"type\":\"BoxAnnotation\"},{\"attributes\":{\"source\":{\"id\":\"c2faf733-824f-49f8-8876-5e7cfdba4cbb\",\"type\":\"ColumnDataSource\"}},\"id\":\"dc0708c0-2f35-4adf-841c-94e1c3acfda2\",\"type\":\"CDSView\"},{\"attributes\":{\"plot\":null,\"text\":\"AIGA-Only:  I've worked in design for:\"},\"id\":\"9badc905-ee9a-4d59-908c-31ff388aa266\",\"type\":\"Title\"},{\"attributes\":{},\"id\":\"ed1e9e18-9db6-4d27-9ba1-6ae452822293\",\"type\":\"LinearScale\"},{\"attributes\":{\"axis_label\":\"Categories\",\"formatter\":{\"id\":\"c5630857-4114-4523-ab50-99c9675dbbf0\",\"type\":\"CategoricalTickFormatter\"},\"plot\":{\"id\":\"eec9129a-fedb-48a2-bc7e-49a8d90e2360\",\"subtype\":\"Figure\",\"type\":\"Plot\"},\"ticker\":{\"id\":\"d3c8feda-aa49-4f88-a2c2-2f29f40a5808\",\"type\":\"CategoricalTicker\"}},\"id\":\"e7378f24-9a81-4919-92ab-a153009a94fe\",\"type\":\"CategoricalAxis\"},{\"attributes\":{},\"id\":\"dd21ab22-2dff-48f8-a9bf-5c129e90cd42\",\"type\":\"ResetTool\"},{\"attributes\":{\"dimension\":1,\"plot\":{\"id\":\"eec9129a-fedb-48a2-bc7e-49a8d90e2360\",\"subtype\":\"Figure\",\"type\":\"Plot\"},\"ticker\":{\"id\":\"d3c8feda-aa49-4f88-a2c2-2f29f40a5808\",\"type\":\"CategoricalTicker\"}},\"id\":\"24cb3906-2831-41ea-bc64-158bdf70a155\",\"type\":\"Grid\"},{\"attributes\":{\"below\":[{\"id\":\"2d53b944-56d0-4c22-9d91-f5c800e4d85c\",\"type\":\"LinearAxis\"}],\"left\":[{\"id\":\"e7378f24-9a81-4919-92ab-a153009a94fe\",\"type\":\"CategoricalAxis\"}],\"min_border_right\":50,\"output_backend\":\"svg\",\"plot_height\":900,\"plot_width\":1400,\"renderers\":[{\"id\":\"2d53b944-56d0-4c22-9d91-f5c800e4d85c\",\"type\":\"LinearAxis\"},{\"id\":\"1daddf74-d84c-4e96-98c9-e3d09a68589c\",\"type\":\"Grid\"},{\"id\":\"e7378f24-9a81-4919-92ab-a153009a94fe\",\"type\":\"CategoricalAxis\"},{\"id\":\"24cb3906-2831-41ea-bc64-158bdf70a155\",\"type\":\"Grid\"},{\"id\":\"09a92b74-5209-4d3c-9a78-9909c02736d6\",\"type\":\"BoxAnnotation\"},{\"id\":\"b26ae639-86db-44e4-860f-a7fbf41ddb73\",\"type\":\"GlyphRenderer\"},{\"id\":\"d0fba9cd-d752-434f-adb6-981de87deca6\",\"type\":\"LabelSet\"},{\"id\":\"9ccbdad7-a2df-49ca-adc3-c1e3a6aed173\",\"type\":\"LabelSet\"}],\"title\":{\"id\":\"9badc905-ee9a-4d59-908c-31ff388aa266\",\"type\":\"Title\"},\"toolbar\":{\"id\":\"83aaab85-3a21-4ed8-a9fc-b712567b68af\",\"type\":\"Toolbar\"},\"x_range\":{\"id\":\"e1d60065-65ed-4fa9-b69d-634f4153bc01\",\"type\":\"Range1d\"},\"x_scale\":{\"id\":\"ed1e9e18-9db6-4d27-9ba1-6ae452822293\",\"type\":\"LinearScale\"},\"y_range\":{\"id\":\"27425579-2477-440a-9b5d-b873f78d5ae5\",\"type\":\"FactorRange\"},\"y_scale\":{\"id\":\"48e34838-1893-4357-9f67-5c4a276ec2df\",\"type\":\"CategoricalScale\"}},\"id\":\"eec9129a-fedb-48a2-bc7e-49a8d90e2360\",\"subtype\":\"Figure\",\"type\":\"Plot\"},{\"attributes\":{\"fill_color\":{\"value\":\"#1f77b4\"},\"height\":{\"value\":0.75},\"line_color\":{\"value\":\"#1f77b4\"},\"right\":{\"field\":\"x\"},\"y\":{\"field\":\"y\"}},\"id\":\"2785954c-561c-4d73-ab18-244cb06f9540\",\"type\":\"HBar\"},{\"attributes\":{\"data_source\":{\"id\":\"c2faf733-824f-49f8-8876-5e7cfdba4cbb\",\"type\":\"ColumnDataSource\"},\"glyph\":{\"id\":\"2785954c-561c-4d73-ab18-244cb06f9540\",\"type\":\"HBar\"},\"hover_glyph\":null,\"muted_glyph\":null,\"nonselection_glyph\":{\"id\":\"ee76a0bc-1967-403d-ad1c-50cd63da0354\",\"type\":\"HBar\"},\"selection_glyph\":null,\"view\":{\"id\":\"dc0708c0-2f35-4adf-841c-94e1c3acfda2\",\"type\":\"CDSView\"}},\"id\":\"b26ae639-86db-44e4-860f-a7fbf41ddb73\",\"type\":\"GlyphRenderer\"},{\"attributes\":{\"callback\":null,\"column_names\":[\"y\",\"x\",\"pct\"],\"data\":{\"pct\":[\"31.39%\",\"26.80%\",\"14.86%\",\"12.05%\",\"10.80%\",\"4.10%\"],\"x\":[1456,1243,689,559,501,190],\"y\":[\"1-4 years\",\"5-9 years\",\"10-14 years\",\"20+ years\",\"15-20 years\",\"Less than 1 year\"]}},\"id\":\"c2faf733-824f-49f8-8876-5e7cfdba4cbb\",\"type\":\"ColumnDataSource\"},{\"attributes\":{},\"id\":\"f69613f7-eb41-4492-83fd-424989b512a8\",\"type\":\"BasicTickFormatter\"},{\"attributes\":{\"fill_alpha\":{\"value\":0.1},\"fill_color\":{\"value\":\"#1f77b4\"},\"height\":{\"value\":0.75},\"line_alpha\":{\"value\":0.1},\"line_color\":{\"value\":\"#1f77b4\"},\"right\":{\"field\":\"x\"},\"y\":{\"field\":\"y\"}},\"id\":\"ee76a0bc-1967-403d-ad1c-50cd63da0354\",\"type\":\"HBar\"},{\"attributes\":{},\"id\":\"a9c3709f-aa5a-4a32-a717-432bda511258\",\"type\":\"HelpTool\"},{\"attributes\":{\"active_drag\":\"auto\",\"active_inspect\":\"auto\",\"active_scroll\":\"auto\",\"active_tap\":\"auto\",\"tools\":[{\"id\":\"dd41ee12-b272-4625-9f38-51f5d5fa8aa8\",\"type\":\"PanTool\"},{\"id\":\"a8f5daea-0fd9-4d54-b5db-d3df81768b58\",\"type\":\"WheelZoomTool\"},{\"id\":\"2c7ce278-ccaf-4d80-a431-7743b7179e46\",\"type\":\"BoxZoomTool\"},{\"id\":\"2bcccd0f-e573-4240-a98b-47678d66c5fb\",\"type\":\"SaveTool\"},{\"id\":\"dd21ab22-2dff-48f8-a9bf-5c129e90cd42\",\"type\":\"ResetTool\"},{\"id\":\"a9c3709f-aa5a-4a32-a717-432bda511258\",\"type\":\"HelpTool\"}]},\"id\":\"83aaab85-3a21-4ed8-a9fc-b712567b68af\",\"type\":\"Toolbar\"},{\"attributes\":{\"overlay\":{\"id\":\"09a92b74-5209-4d3c-9a78-9909c02736d6\",\"type\":\"BoxAnnotation\"}},\"id\":\"2c7ce278-ccaf-4d80-a431-7743b7179e46\",\"type\":\"BoxZoomTool\"},{\"attributes\":{\"plot\":{\"id\":\"eec9129a-fedb-48a2-bc7e-49a8d90e2360\",\"subtype\":\"Figure\",\"type\":\"Plot\"},\"ticker\":{\"id\":\"4044ce82-8576-499f-a752-cd2621dc3614\",\"type\":\"BasicTicker\"}},\"id\":\"1daddf74-d84c-4e96-98c9-e3d09a68589c\",\"type\":\"Grid\"},{\"attributes\":{},\"id\":\"dd41ee12-b272-4625-9f38-51f5d5fa8aa8\",\"type\":\"PanTool\"},{\"attributes\":{\"level\":\"glyph\",\"plot\":{\"id\":\"eec9129a-fedb-48a2-bc7e-49a8d90e2360\",\"subtype\":\"Figure\",\"type\":\"Plot\"},\"source\":{\"id\":\"c2faf733-824f-49f8-8876-5e7cfdba4cbb\",\"type\":\"ColumnDataSource\"},\"text\":{\"field\":\"x\"},\"text_font_size\":{\"value\":\"8pt\"},\"x\":{\"field\":\"x\"},\"x_offset\":{\"value\":10},\"y\":{\"field\":\"y\"},\"y_offset\":{\"value\":-12}},\"id\":\"9ccbdad7-a2df-49ca-adc3-c1e3a6aed173\",\"type\":\"LabelSet\"},{\"attributes\":{},\"id\":\"4044ce82-8576-499f-a752-cd2621dc3614\",\"type\":\"BasicTicker\"},{\"attributes\":{},\"id\":\"48e34838-1893-4357-9f67-5c4a276ec2df\",\"type\":\"CategoricalScale\"}],\"root_ids\":[\"eec9129a-fedb-48a2-bc7e-49a8d90e2360\"]},\"title\":\"Bokeh Application\",\"version\":\"0.12.13\"}};\n",
              "  var render_items = [{\"docid\":\"86cd612a-c8bd-4400-b2e3-6942052e809e\",\"elementid\":\"a4357198-21fe-4529-b92e-117e351165cb\",\"modelid\":\"eec9129a-fedb-48a2-bc7e-49a8d90e2360\"}];\n",
              "  root.Bokeh.embed.embed_items_notebook(docs_json, render_items);\n",
              "\n",
              "  }\n",
              "  if (root.Bokeh !== undefined) {\n",
              "    embed_document(root);\n",
              "  } else {\n",
              "    var attempts = 0;\n",
              "    var timer = setInterval(function(root) {\n",
              "      if (root.Bokeh !== undefined) {\n",
              "        embed_document(root);\n",
              "        clearInterval(timer);\n",
              "      }\n",
              "      attempts++;\n",
              "      if (attempts > 100) {\n",
              "        console.log(\"Bokeh: ERROR: Unable to run BokehJS code because BokehJS library is missing\")\n",
              "        clearInterval(timer);\n",
              "      }\n",
              "    }, 10, root)\n",
              "  }\n",
              "})(window);"
            ],
            "application/vnd.bokehjs_exec.v0+json": ""
          },
          "metadata": {
            "application/vnd.bokehjs_exec.v0+json": {
              "id": "eec9129a-fedb-48a2-bc7e-49a8d90e2360"
            }
          }
        },
        {
          "output_type": "display_data",
          "data": {
            "text/html": [
              "\n",
              "<div class=\"bk-root\">\n",
              "    <div class=\"bk-plotdiv\" id=\"889520f2-68aa-40e1-81a4-f99cd088cd27\"></div>\n",
              "</div>"
            ]
          },
          "metadata": {}
        },
        {
          "output_type": "display_data",
          "data": {
            "application/javascript": [
              "(function(root) {\n",
              "  function embed_document(root) {\n",
              "    \n",
              "  var docs_json = {\"5bf49f42-dd88-4a97-a8c9-d57de8545f70\":{\"roots\":{\"references\":[{\"attributes\":{\"dimension\":1,\"plot\":{\"id\":\"4a10d5a7-987a-4439-8895-309e54557ff1\",\"subtype\":\"Figure\",\"type\":\"Plot\"},\"ticker\":{\"id\":\"1cab6121-b7f9-4834-b21b-a9df8b780605\",\"type\":\"CategoricalTicker\"}},\"id\":\"f8a31d6d-53cb-4ded-94b0-393bbb1b975b\",\"type\":\"Grid\"},{\"attributes\":{},\"id\":\"3299f0d2-2ace-4fc7-9ec1-1da438c8ca71\",\"type\":\"BasicTickFormatter\"},{\"attributes\":{},\"id\":\"bd3b4ac9-3a9a-4659-9ab6-30ca11d94f56\",\"type\":\"WheelZoomTool\"},{\"attributes\":{},\"id\":\"a51c1a6f-522a-460e-88f9-4f236470f60c\",\"type\":\"CategoricalTickFormatter\"},{\"attributes\":{\"callback\":null,\"column_names\":[\"y\",\"x\",\"pct\"],\"data\":{\"pct\":[\"80.49%\",\"37.00%\",\"36.14%\",\"33.96%\",\"24.69%\",\"22.64%\",\"20.53%\",\"15.65%\",\"14.29%\",\"14.06%\",\"13.22%\",\"13.07%\",\"12.66%\",\"10.28%\",\"10.03%\",\"9.25%\",\"8.13%\",\"7.78%\",\"6.88%\",\"5.35%\",\"5.02%\",\"4.29%\",\"3.79%\",\"2.11%\",\"1.66%\",\"1.32%\",\"1.32%\",\"1.27%\",\"0.99%\",\"0.86%\",\"0.71%\",\"0.52%\",\"0.39%\",\"0.37%\"],\"x\":[3733,1716,1676,1575,1145,1050,952,726,663,652,613,606,587,477,465,429,377,361,319,248,233,199,176,98,77,61,61,59,46,40,33,24,18,17],\"y\":[\"Graphic Design\",\"Marketing\",\"Web Design\",\"Communication Design\",\"UX Design\",\"UI Design\",\"Illustration\",\"Strategy\",\"Experience Design\",\"Interaction Design\",\"Packaging Design\",\"Product Design\",\"Photography\",\"Education\",\"Production\",\"Environmental Design\",\"Motion Graphics\",\"Research\",\"Front-end Development\",\"Social Impact Design\",\"Film and Video\",\"Service Design\",\"Animation\",\"Instructional Design\",\"Interior Design\",\"Civic Design\",\"VR or AR Design\",\"Industrial Design\",\"Data Science\",\"Fashion Design\",\"AI or Algorithm Design\",\"Game Design\",\"Urban Design\",\"Automotive Design\"]}},\"id\":\"34e1e904-7eca-4f00-bd6c-6e3f4ee9d19f\",\"type\":\"ColumnDataSource\"},{\"attributes\":{\"callback\":null,\"factors\":[\"Graphic Design\",\"Marketing\",\"Web Design\",\"Communication Design\",\"UX Design\",\"UI Design\",\"Illustration\",\"Strategy\",\"Experience Design\",\"Interaction Design\",\"Packaging Design\",\"Product Design\",\"Photography\",\"Education\",\"Production\",\"Environmental Design\",\"Motion Graphics\",\"Research\",\"Front-end Development\",\"Social Impact Design\",\"Film and Video\",\"Service Design\",\"Animation\",\"Instructional Design\",\"Interior Design\",\"Civic Design\",\"VR or AR Design\",\"Industrial Design\",\"Data Science\",\"Fashion Design\",\"AI or Algorithm Design\",\"Game Design\",\"Urban Design\",\"Automotive Design\"]},\"id\":\"a062c33e-776f-4516-bd82-87420ccf70f3\",\"type\":\"FactorRange\"},{\"attributes\":{},\"id\":\"af18445f-381c-4c7a-9e34-622f0ad1f6eb\",\"type\":\"CategoricalScale\"},{\"attributes\":{\"plot\":null,\"text\":\"AIGA-Only: I primarily work in:\"},\"id\":\"4d508d30-2703-4799-a586-c94f9933061c\",\"type\":\"Title\"},{\"attributes\":{\"axis_label\":\"Respondents\",\"formatter\":{\"id\":\"3299f0d2-2ace-4fc7-9ec1-1da438c8ca71\",\"type\":\"BasicTickFormatter\"},\"plot\":{\"id\":\"4a10d5a7-987a-4439-8895-309e54557ff1\",\"subtype\":\"Figure\",\"type\":\"Plot\"},\"ticker\":{\"id\":\"c8e11b68-fa28-4158-a772-281a60b2e521\",\"type\":\"BasicTicker\"}},\"id\":\"128219ff-7910-463c-a2d0-9d8a90bd887a\",\"type\":\"LinearAxis\"},{\"attributes\":{},\"id\":\"1cab6121-b7f9-4834-b21b-a9df8b780605\",\"type\":\"CategoricalTicker\"},{\"attributes\":{\"below\":[{\"id\":\"128219ff-7910-463c-a2d0-9d8a90bd887a\",\"type\":\"LinearAxis\"}],\"left\":[{\"id\":\"69537e98-3353-467c-8951-0c2cb7df0633\",\"type\":\"CategoricalAxis\"}],\"min_border_right\":50,\"output_backend\":\"svg\",\"plot_height\":1700,\"plot_width\":1400,\"renderers\":[{\"id\":\"128219ff-7910-463c-a2d0-9d8a90bd887a\",\"type\":\"LinearAxis\"},{\"id\":\"149d9a69-f438-4384-86bf-effd3cb7015e\",\"type\":\"Grid\"},{\"id\":\"69537e98-3353-467c-8951-0c2cb7df0633\",\"type\":\"CategoricalAxis\"},{\"id\":\"f8a31d6d-53cb-4ded-94b0-393bbb1b975b\",\"type\":\"Grid\"},{\"id\":\"902f23c1-3a08-43a9-b8b8-1e4e5bb6922f\",\"type\":\"BoxAnnotation\"},{\"id\":\"77256dc7-9a10-4c46-b0e5-b16bd52f6d5a\",\"type\":\"GlyphRenderer\"},{\"id\":\"21c0899e-b6e2-4d75-b52f-c9b232b4bf18\",\"type\":\"LabelSet\"},{\"id\":\"a1c6be16-2236-45e5-b5bf-6c1d7d3abca9\",\"type\":\"LabelSet\"}],\"title\":{\"id\":\"4d508d30-2703-4799-a586-c94f9933061c\",\"type\":\"Title\"},\"toolbar\":{\"id\":\"4ec9d58d-7a08-4d1c-9508-76112ff2e727\",\"type\":\"Toolbar\"},\"x_range\":{\"id\":\"2ad98c20-718e-4ada-910b-622afb08681f\",\"type\":\"Range1d\"},\"x_scale\":{\"id\":\"b7b85ac4-1e2e-48da-ada4-898728a95f25\",\"type\":\"LinearScale\"},\"y_range\":{\"id\":\"a062c33e-776f-4516-bd82-87420ccf70f3\",\"type\":\"FactorRange\"},\"y_scale\":{\"id\":\"af18445f-381c-4c7a-9e34-622f0ad1f6eb\",\"type\":\"CategoricalScale\"}},\"id\":\"4a10d5a7-987a-4439-8895-309e54557ff1\",\"subtype\":\"Figure\",\"type\":\"Plot\"},{\"attributes\":{\"axis_label\":\"Categories\",\"formatter\":{\"id\":\"a51c1a6f-522a-460e-88f9-4f236470f60c\",\"type\":\"CategoricalTickFormatter\"},\"plot\":{\"id\":\"4a10d5a7-987a-4439-8895-309e54557ff1\",\"subtype\":\"Figure\",\"type\":\"Plot\"},\"ticker\":{\"id\":\"1cab6121-b7f9-4834-b21b-a9df8b780605\",\"type\":\"CategoricalTicker\"}},\"id\":\"69537e98-3353-467c-8951-0c2cb7df0633\",\"type\":\"CategoricalAxis\"},{\"attributes\":{},\"id\":\"599a67a1-200e-4dfc-b23a-a2778251ef63\",\"type\":\"HelpTool\"},{\"attributes\":{\"plot\":{\"id\":\"4a10d5a7-987a-4439-8895-309e54557ff1\",\"subtype\":\"Figure\",\"type\":\"Plot\"},\"ticker\":{\"id\":\"c8e11b68-fa28-4158-a772-281a60b2e521\",\"type\":\"BasicTicker\"}},\"id\":\"149d9a69-f438-4384-86bf-effd3cb7015e\",\"type\":\"Grid\"},{\"attributes\":{\"callback\":null,\"end\":4539.6},\"id\":\"2ad98c20-718e-4ada-910b-622afb08681f\",\"type\":\"Range1d\"},{\"attributes\":{},\"id\":\"e7e1625f-cbf0-4e18-b5d8-3e8012732990\",\"type\":\"SaveTool\"},{\"attributes\":{},\"id\":\"2c2f8949-62db-4dee-898f-b54fa2917b8d\",\"type\":\"ResetTool\"},{\"attributes\":{},\"id\":\"b7b85ac4-1e2e-48da-ada4-898728a95f25\",\"type\":\"LinearScale\"},{\"attributes\":{\"bottom_units\":\"screen\",\"fill_alpha\":{\"value\":0.5},\"fill_color\":{\"value\":\"lightgrey\"},\"left_units\":\"screen\",\"level\":\"overlay\",\"line_alpha\":{\"value\":1.0},\"line_color\":{\"value\":\"black\"},\"line_dash\":[4,4],\"line_width\":{\"value\":2},\"plot\":null,\"render_mode\":\"css\",\"right_units\":\"screen\",\"top_units\":\"screen\"},\"id\":\"902f23c1-3a08-43a9-b8b8-1e4e5bb6922f\",\"type\":\"BoxAnnotation\"},{\"attributes\":{\"active_drag\":\"auto\",\"active_inspect\":\"auto\",\"active_scroll\":\"auto\",\"active_tap\":\"auto\",\"tools\":[{\"id\":\"c68c56d8-3f65-4ec1-8bbe-b42a5624f996\",\"type\":\"PanTool\"},{\"id\":\"bd3b4ac9-3a9a-4659-9ab6-30ca11d94f56\",\"type\":\"WheelZoomTool\"},{\"id\":\"0ac3b8a7-f0ab-4f1e-8071-95f251a0407f\",\"type\":\"BoxZoomTool\"},{\"id\":\"e7e1625f-cbf0-4e18-b5d8-3e8012732990\",\"type\":\"SaveTool\"},{\"id\":\"2c2f8949-62db-4dee-898f-b54fa2917b8d\",\"type\":\"ResetTool\"},{\"id\":\"599a67a1-200e-4dfc-b23a-a2778251ef63\",\"type\":\"HelpTool\"}]},\"id\":\"4ec9d58d-7a08-4d1c-9508-76112ff2e727\",\"type\":\"Toolbar\"},{\"attributes\":{\"fill_color\":{\"value\":\"#1f77b4\"},\"height\":{\"value\":0.75},\"line_color\":{\"value\":\"#1f77b4\"},\"right\":{\"field\":\"x\"},\"y\":{\"field\":\"y\"}},\"id\":\"44f81e09-daf6-4a64-a0db-1745893ab8f7\",\"type\":\"HBar\"},{\"attributes\":{\"source\":{\"id\":\"34e1e904-7eca-4f00-bd6c-6e3f4ee9d19f\",\"type\":\"ColumnDataSource\"}},\"id\":\"84f0e7f8-fbc8-4fc4-a856-784a85042a37\",\"type\":\"CDSView\"},{\"attributes\":{\"fill_alpha\":{\"value\":0.1},\"fill_color\":{\"value\":\"#1f77b4\"},\"height\":{\"value\":0.75},\"line_alpha\":{\"value\":0.1},\"line_color\":{\"value\":\"#1f77b4\"},\"right\":{\"field\":\"x\"},\"y\":{\"field\":\"y\"}},\"id\":\"2cc061d1-5eae-434f-9ffc-57f5124013d6\",\"type\":\"HBar\"},{\"attributes\":{},\"id\":\"c68c56d8-3f65-4ec1-8bbe-b42a5624f996\",\"type\":\"PanTool\"},{\"attributes\":{},\"id\":\"c8e11b68-fa28-4158-a772-281a60b2e521\",\"type\":\"BasicTicker\"},{\"attributes\":{\"level\":\"glyph\",\"plot\":{\"id\":\"4a10d5a7-987a-4439-8895-309e54557ff1\",\"subtype\":\"Figure\",\"type\":\"Plot\"},\"source\":{\"id\":\"34e1e904-7eca-4f00-bd6c-6e3f4ee9d19f\",\"type\":\"ColumnDataSource\"},\"text\":{\"field\":\"pct\"},\"text_font_size\":{\"value\":\"8pt\"},\"x\":{\"field\":\"x\"},\"x_offset\":{\"value\":10},\"y\":{\"field\":\"y\"},\"y_offset\":{\"value\":2}},\"id\":\"21c0899e-b6e2-4d75-b52f-c9b232b4bf18\",\"type\":\"LabelSet\"},{\"attributes\":{\"overlay\":{\"id\":\"902f23c1-3a08-43a9-b8b8-1e4e5bb6922f\",\"type\":\"BoxAnnotation\"}},\"id\":\"0ac3b8a7-f0ab-4f1e-8071-95f251a0407f\",\"type\":\"BoxZoomTool\"},{\"attributes\":{\"data_source\":{\"id\":\"34e1e904-7eca-4f00-bd6c-6e3f4ee9d19f\",\"type\":\"ColumnDataSource\"},\"glyph\":{\"id\":\"44f81e09-daf6-4a64-a0db-1745893ab8f7\",\"type\":\"HBar\"},\"hover_glyph\":null,\"muted_glyph\":null,\"nonselection_glyph\":{\"id\":\"2cc061d1-5eae-434f-9ffc-57f5124013d6\",\"type\":\"HBar\"},\"selection_glyph\":null,\"view\":{\"id\":\"84f0e7f8-fbc8-4fc4-a856-784a85042a37\",\"type\":\"CDSView\"}},\"id\":\"77256dc7-9a10-4c46-b0e5-b16bd52f6d5a\",\"type\":\"GlyphRenderer\"},{\"attributes\":{\"level\":\"glyph\",\"plot\":{\"id\":\"4a10d5a7-987a-4439-8895-309e54557ff1\",\"subtype\":\"Figure\",\"type\":\"Plot\"},\"source\":{\"id\":\"34e1e904-7eca-4f00-bd6c-6e3f4ee9d19f\",\"type\":\"ColumnDataSource\"},\"text\":{\"field\":\"x\"},\"text_font_size\":{\"value\":\"8pt\"},\"x\":{\"field\":\"x\"},\"x_offset\":{\"value\":10},\"y\":{\"field\":\"y\"},\"y_offset\":{\"value\":-12}},\"id\":\"a1c6be16-2236-45e5-b5bf-6c1d7d3abca9\",\"type\":\"LabelSet\"}],\"root_ids\":[\"4a10d5a7-987a-4439-8895-309e54557ff1\"]},\"title\":\"Bokeh Application\",\"version\":\"0.12.13\"}};\n",
              "  var render_items = [{\"docid\":\"5bf49f42-dd88-4a97-a8c9-d57de8545f70\",\"elementid\":\"889520f2-68aa-40e1-81a4-f99cd088cd27\",\"modelid\":\"4a10d5a7-987a-4439-8895-309e54557ff1\"}];\n",
              "  root.Bokeh.embed.embed_items_notebook(docs_json, render_items);\n",
              "\n",
              "  }\n",
              "  if (root.Bokeh !== undefined) {\n",
              "    embed_document(root);\n",
              "  } else {\n",
              "    var attempts = 0;\n",
              "    var timer = setInterval(function(root) {\n",
              "      if (root.Bokeh !== undefined) {\n",
              "        embed_document(root);\n",
              "        clearInterval(timer);\n",
              "      }\n",
              "      attempts++;\n",
              "      if (attempts > 100) {\n",
              "        console.log(\"Bokeh: ERROR: Unable to run BokehJS code because BokehJS library is missing\")\n",
              "        clearInterval(timer);\n",
              "      }\n",
              "    }, 10, root)\n",
              "  }\n",
              "})(window);"
            ],
            "application/vnd.bokehjs_exec.v0+json": ""
          },
          "metadata": {
            "application/vnd.bokehjs_exec.v0+json": {
              "id": "4a10d5a7-987a-4439-8895-309e54557ff1"
            }
          }
        },
        {
          "output_type": "display_data",
          "data": {
            "text/html": [
              "\n",
              "<div class=\"bk-root\">\n",
              "    <div class=\"bk-plotdiv\" id=\"06cd2a80-a9e1-4b86-9bc1-3ddd020e03f5\"></div>\n",
              "</div>"
            ]
          },
          "metadata": {}
        },
        {
          "output_type": "display_data",
          "data": {
            "application/javascript": [
              "(function(root) {\n",
              "  function embed_document(root) {\n",
              "    \n",
              "  var docs_json = {\"d027b6e1-1f8a-4c1d-9e07-a97d6259d1df\":{\"roots\":{\"references\":[{\"attributes\":{\"callback\":null,\"end\":4478.4},\"id\":\"2fe4076a-cdf6-4743-91b5-94017348862e\",\"type\":\"Range1d\"},{\"attributes\":{},\"id\":\"2815d2c9-181a-4fac-ac87-e5f5db17daa3\",\"type\":\"HelpTool\"},{\"attributes\":{},\"id\":\"ea62ec8f-ddc6-4aa9-8902-d0c8d9790c03\",\"type\":\"CategoricalTicker\"},{\"attributes\":{\"callback\":null,\"column_names\":[\"y\",\"x\",\"pct\"],\"data\":{\"pct\":[\"79.39%\",\"47.54%\",\"44.33%\",\"42.95%\",\"38.62%\",\"38.23%\",\"34.84%\",\"24.90%\",\"23.72%\",\"22.29%\",\"19.56%\",\"16.52%\",\"16.13%\",\"9.31%\",\"5.54%\",\"4.89%\",\"1.81%\",\"1.27%\"],\"x\":[3682,2205,2056,1992,1791,1773,1616,1155,1100,1034,907,766,748,432,257,227,84,59],\"y\":[\"Brainstorming and Ideation\",\"Project Management\",\"Leadership\",\"Drawing or Painting\",\"Writing\",\"Mentoring\",\"Social Media\",\"Business\",\"Public Speaking\",\"Diversity and Inclusion\",\"Facilitation\",\"Relationship Management\",\"Coding\",\"Data Analysis\",\"Sales\",\"SEO/SEM\",\"Engineering\",\"None of these\"]}},\"id\":\"25834732-c543-45b8-ac9b-5a68df2a44b4\",\"type\":\"ColumnDataSource\"},{\"attributes\":{\"dimension\":1,\"plot\":{\"id\":\"21a01832-3f63-4b77-a052-9dc37f6f8f6c\",\"subtype\":\"Figure\",\"type\":\"Plot\"},\"ticker\":{\"id\":\"ea62ec8f-ddc6-4aa9-8902-d0c8d9790c03\",\"type\":\"CategoricalTicker\"}},\"id\":\"7fe22b6f-f29f-4597-b31f-5c6446abf6d8\",\"type\":\"Grid\"},{\"attributes\":{\"level\":\"glyph\",\"plot\":{\"id\":\"21a01832-3f63-4b77-a052-9dc37f6f8f6c\",\"subtype\":\"Figure\",\"type\":\"Plot\"},\"source\":{\"id\":\"25834732-c543-45b8-ac9b-5a68df2a44b4\",\"type\":\"ColumnDataSource\"},\"text\":{\"field\":\"pct\"},\"text_font_size\":{\"value\":\"8pt\"},\"x\":{\"field\":\"x\"},\"x_offset\":{\"value\":10},\"y\":{\"field\":\"y\"},\"y_offset\":{\"value\":2}},\"id\":\"eede5925-343c-4e2f-b234-466d5021dfb6\",\"type\":\"LabelSet\"},{\"attributes\":{\"fill_color\":{\"value\":\"#1f77b4\"},\"height\":{\"value\":0.75},\"line_color\":{\"value\":\"#1f77b4\"},\"right\":{\"field\":\"x\"},\"y\":{\"field\":\"y\"}},\"id\":\"1255c622-fed6-4d64-a3ce-7ea04bdd3391\",\"type\":\"HBar\"},{\"attributes\":{\"below\":[{\"id\":\"483f64fc-fd38-4458-8db3-efaf58ce60b8\",\"type\":\"LinearAxis\"}],\"left\":[{\"id\":\"075a2da1-a3da-4086-acc7-1dae437b6128\",\"type\":\"CategoricalAxis\"}],\"min_border_right\":50,\"output_backend\":\"svg\",\"plot_height\":900,\"plot_width\":1400,\"renderers\":[{\"id\":\"483f64fc-fd38-4458-8db3-efaf58ce60b8\",\"type\":\"LinearAxis\"},{\"id\":\"d48d8967-b812-4727-aff8-1eb2f6a9a99b\",\"type\":\"Grid\"},{\"id\":\"075a2da1-a3da-4086-acc7-1dae437b6128\",\"type\":\"CategoricalAxis\"},{\"id\":\"7fe22b6f-f29f-4597-b31f-5c6446abf6d8\",\"type\":\"Grid\"},{\"id\":\"682ba8a4-8ab0-4cfb-85e5-3e4bc9383744\",\"type\":\"BoxAnnotation\"},{\"id\":\"2708614b-ae9e-4c27-8cf1-7acb8986e540\",\"type\":\"GlyphRenderer\"},{\"id\":\"eede5925-343c-4e2f-b234-466d5021dfb6\",\"type\":\"LabelSet\"},{\"id\":\"16a836ad-bdd9-4938-8873-574227dfc1bb\",\"type\":\"LabelSet\"}],\"title\":{\"id\":\"933f965c-e917-4485-b3f0-ca2a5e8c0a32\",\"type\":\"Title\"},\"toolbar\":{\"id\":\"53fc39ff-ae7a-45b1-81be-d567ecd0da56\",\"type\":\"Toolbar\"},\"x_range\":{\"id\":\"2fe4076a-cdf6-4743-91b5-94017348862e\",\"type\":\"Range1d\"},\"x_scale\":{\"id\":\"8e71a1ae-ff3e-400b-b1d5-7531f49338fa\",\"type\":\"LinearScale\"},\"y_range\":{\"id\":\"6fba456e-41ad-417c-a04d-813effa2e004\",\"type\":\"FactorRange\"},\"y_scale\":{\"id\":\"19eb61e0-63db-4d28-b196-b600b75f8b8b\",\"type\":\"CategoricalScale\"}},\"id\":\"21a01832-3f63-4b77-a052-9dc37f6f8f6c\",\"subtype\":\"Figure\",\"type\":\"Plot\"},{\"attributes\":{\"axis_label\":\"Categories\",\"formatter\":{\"id\":\"8e796707-2fbe-4c01-8055-341fd4199947\",\"type\":\"CategoricalTickFormatter\"},\"plot\":{\"id\":\"21a01832-3f63-4b77-a052-9dc37f6f8f6c\",\"subtype\":\"Figure\",\"type\":\"Plot\"},\"ticker\":{\"id\":\"ea62ec8f-ddc6-4aa9-8902-d0c8d9790c03\",\"type\":\"CategoricalTicker\"}},\"id\":\"075a2da1-a3da-4086-acc7-1dae437b6128\",\"type\":\"CategoricalAxis\"},{\"attributes\":{},\"id\":\"1151f7b7-7087-4119-8620-1a77e402a078\",\"type\":\"WheelZoomTool\"},{\"attributes\":{\"callback\":null,\"factors\":[\"Brainstorming and Ideation\",\"Project Management\",\"Leadership\",\"Drawing or Painting\",\"Writing\",\"Mentoring\",\"Social Media\",\"Business\",\"Public Speaking\",\"Diversity and Inclusion\",\"Facilitation\",\"Relationship Management\",\"Coding\",\"Data Analysis\",\"Sales\",\"SEO/SEM\",\"Engineering\",\"None of these\"]},\"id\":\"6fba456e-41ad-417c-a04d-813effa2e004\",\"type\":\"FactorRange\"},{\"attributes\":{\"axis_label\":\"Respondents\",\"formatter\":{\"id\":\"db3d85c9-4be1-4a38-9f1e-03e7bfff9076\",\"type\":\"BasicTickFormatter\"},\"plot\":{\"id\":\"21a01832-3f63-4b77-a052-9dc37f6f8f6c\",\"subtype\":\"Figure\",\"type\":\"Plot\"},\"ticker\":{\"id\":\"e51b25fa-1dd9-4c1d-9b0c-b285eb7215c8\",\"type\":\"BasicTicker\"}},\"id\":\"483f64fc-fd38-4458-8db3-efaf58ce60b8\",\"type\":\"LinearAxis\"},{\"attributes\":{\"fill_alpha\":{\"value\":0.1},\"fill_color\":{\"value\":\"#1f77b4\"},\"height\":{\"value\":0.75},\"line_alpha\":{\"value\":0.1},\"line_color\":{\"value\":\"#1f77b4\"},\"right\":{\"field\":\"x\"},\"y\":{\"field\":\"y\"}},\"id\":\"d03fcd67-58eb-48c3-8210-26cf48ff50ef\",\"type\":\"HBar\"},{\"attributes\":{},\"id\":\"8e71a1ae-ff3e-400b-b1d5-7531f49338fa\",\"type\":\"LinearScale\"},{\"attributes\":{\"overlay\":{\"id\":\"682ba8a4-8ab0-4cfb-85e5-3e4bc9383744\",\"type\":\"BoxAnnotation\"}},\"id\":\"7412116e-ebd3-4157-8381-ad42d1f46be7\",\"type\":\"BoxZoomTool\"},{\"attributes\":{},\"id\":\"19eb61e0-63db-4d28-b196-b600b75f8b8b\",\"type\":\"CategoricalScale\"},{\"attributes\":{\"active_drag\":\"auto\",\"active_inspect\":\"auto\",\"active_scroll\":\"auto\",\"active_tap\":\"auto\",\"tools\":[{\"id\":\"4e37b344-efc6-4e71-8e9f-8602751a0f83\",\"type\":\"PanTool\"},{\"id\":\"1151f7b7-7087-4119-8620-1a77e402a078\",\"type\":\"WheelZoomTool\"},{\"id\":\"7412116e-ebd3-4157-8381-ad42d1f46be7\",\"type\":\"BoxZoomTool\"},{\"id\":\"51248817-21d4-416f-bdc2-57c5f8339276\",\"type\":\"SaveTool\"},{\"id\":\"fe3a0edb-f773-4d57-90f9-245c856844ca\",\"type\":\"ResetTool\"},{\"id\":\"2815d2c9-181a-4fac-ac87-e5f5db17daa3\",\"type\":\"HelpTool\"}]},\"id\":\"53fc39ff-ae7a-45b1-81be-d567ecd0da56\",\"type\":\"Toolbar\"},{\"attributes\":{},\"id\":\"fe3a0edb-f773-4d57-90f9-245c856844ca\",\"type\":\"ResetTool\"},{\"attributes\":{},\"id\":\"db3d85c9-4be1-4a38-9f1e-03e7bfff9076\",\"type\":\"BasicTickFormatter\"},{\"attributes\":{\"plot\":{\"id\":\"21a01832-3f63-4b77-a052-9dc37f6f8f6c\",\"subtype\":\"Figure\",\"type\":\"Plot\"},\"ticker\":{\"id\":\"e51b25fa-1dd9-4c1d-9b0c-b285eb7215c8\",\"type\":\"BasicTicker\"}},\"id\":\"d48d8967-b812-4727-aff8-1eb2f6a9a99b\",\"type\":\"Grid\"},{\"attributes\":{},\"id\":\"e51b25fa-1dd9-4c1d-9b0c-b285eb7215c8\",\"type\":\"BasicTicker\"},{\"attributes\":{\"source\":{\"id\":\"25834732-c543-45b8-ac9b-5a68df2a44b4\",\"type\":\"ColumnDataSource\"}},\"id\":\"88859276-2590-4fd4-b98e-e5a78016f82c\",\"type\":\"CDSView\"},{\"attributes\":{\"plot\":null,\"text\":\"AIGA-Only: I'm also good at:\"},\"id\":\"933f965c-e917-4485-b3f0-ca2a5e8c0a32\",\"type\":\"Title\"},{\"attributes\":{},\"id\":\"8e796707-2fbe-4c01-8055-341fd4199947\",\"type\":\"CategoricalTickFormatter\"},{\"attributes\":{\"level\":\"glyph\",\"plot\":{\"id\":\"21a01832-3f63-4b77-a052-9dc37f6f8f6c\",\"subtype\":\"Figure\",\"type\":\"Plot\"},\"source\":{\"id\":\"25834732-c543-45b8-ac9b-5a68df2a44b4\",\"type\":\"ColumnDataSource\"},\"text\":{\"field\":\"x\"},\"text_font_size\":{\"value\":\"8pt\"},\"x\":{\"field\":\"x\"},\"x_offset\":{\"value\":10},\"y\":{\"field\":\"y\"},\"y_offset\":{\"value\":-12}},\"id\":\"16a836ad-bdd9-4938-8873-574227dfc1bb\",\"type\":\"LabelSet\"},{\"attributes\":{\"bottom_units\":\"screen\",\"fill_alpha\":{\"value\":0.5},\"fill_color\":{\"value\":\"lightgrey\"},\"left_units\":\"screen\",\"level\":\"overlay\",\"line_alpha\":{\"value\":1.0},\"line_color\":{\"value\":\"black\"},\"line_dash\":[4,4],\"line_width\":{\"value\":2},\"plot\":null,\"render_mode\":\"css\",\"right_units\":\"screen\",\"top_units\":\"screen\"},\"id\":\"682ba8a4-8ab0-4cfb-85e5-3e4bc9383744\",\"type\":\"BoxAnnotation\"},{\"attributes\":{\"data_source\":{\"id\":\"25834732-c543-45b8-ac9b-5a68df2a44b4\",\"type\":\"ColumnDataSource\"},\"glyph\":{\"id\":\"1255c622-fed6-4d64-a3ce-7ea04bdd3391\",\"type\":\"HBar\"},\"hover_glyph\":null,\"muted_glyph\":null,\"nonselection_glyph\":{\"id\":\"d03fcd67-58eb-48c3-8210-26cf48ff50ef\",\"type\":\"HBar\"},\"selection_glyph\":null,\"view\":{\"id\":\"88859276-2590-4fd4-b98e-e5a78016f82c\",\"type\":\"CDSView\"}},\"id\":\"2708614b-ae9e-4c27-8cf1-7acb8986e540\",\"type\":\"GlyphRenderer\"},{\"attributes\":{},\"id\":\"51248817-21d4-416f-bdc2-57c5f8339276\",\"type\":\"SaveTool\"},{\"attributes\":{},\"id\":\"4e37b344-efc6-4e71-8e9f-8602751a0f83\",\"type\":\"PanTool\"}],\"root_ids\":[\"21a01832-3f63-4b77-a052-9dc37f6f8f6c\"]},\"title\":\"Bokeh Application\",\"version\":\"0.12.13\"}};\n",
              "  var render_items = [{\"docid\":\"d027b6e1-1f8a-4c1d-9e07-a97d6259d1df\",\"elementid\":\"06cd2a80-a9e1-4b86-9bc1-3ddd020e03f5\",\"modelid\":\"21a01832-3f63-4b77-a052-9dc37f6f8f6c\"}];\n",
              "  root.Bokeh.embed.embed_items_notebook(docs_json, render_items);\n",
              "\n",
              "  }\n",
              "  if (root.Bokeh !== undefined) {\n",
              "    embed_document(root);\n",
              "  } else {\n",
              "    var attempts = 0;\n",
              "    var timer = setInterval(function(root) {\n",
              "      if (root.Bokeh !== undefined) {\n",
              "        embed_document(root);\n",
              "        clearInterval(timer);\n",
              "      }\n",
              "      attempts++;\n",
              "      if (attempts > 100) {\n",
              "        console.log(\"Bokeh: ERROR: Unable to run BokehJS code because BokehJS library is missing\")\n",
              "        clearInterval(timer);\n",
              "      }\n",
              "    }, 10, root)\n",
              "  }\n",
              "})(window);"
            ],
            "application/vnd.bokehjs_exec.v0+json": ""
          },
          "metadata": {
            "application/vnd.bokehjs_exec.v0+json": {
              "id": "21a01832-3f63-4b77-a052-9dc37f6f8f6c"
            }
          }
        },
        {
          "output_type": "display_data",
          "data": {
            "text/html": [
              "\n",
              "<div class=\"bk-root\">\n",
              "    <div class=\"bk-plotdiv\" id=\"eea83c6c-7339-47aa-b9d3-054bc1bd5d4b\"></div>\n",
              "</div>"
            ]
          },
          "metadata": {}
        },
        {
          "output_type": "display_data",
          "data": {
            "application/javascript": [
              "(function(root) {\n",
              "  function embed_document(root) {\n",
              "    \n",
              "  var docs_json = {\"58ed3b3f-e9bf-4435-8a94-4f88770ab256\":{\"roots\":{\"references\":[{\"attributes\":{},\"id\":\"ba00c36d-2697-4859-be13-b889ad1ffd14\",\"type\":\"WheelZoomTool\"},{\"attributes\":{},\"id\":\"e71fb894-d137-4538-bbd1-be6b95768f39\",\"type\":\"CategoricalScale\"},{\"attributes\":{\"source\":{\"id\":\"fa02036d-35c8-45ef-ba62-522571d63f7f\",\"type\":\"ColumnDataSource\"}},\"id\":\"bf54fe3d-18a5-4c8b-96bc-a6a6b6cfb5e8\",\"type\":\"CDSView\"},{\"attributes\":{\"fill_alpha\":{\"value\":0.1},\"fill_color\":{\"value\":\"#1f77b4\"},\"height\":{\"value\":0.75},\"line_alpha\":{\"value\":0.1},\"line_color\":{\"value\":\"#1f77b4\"},\"right\":{\"field\":\"x\"},\"y\":{\"field\":\"y\"}},\"id\":\"75e3e07a-f56f-4caa-8cf6-eb3787af6000\",\"type\":\"HBar\"},{\"attributes\":{},\"id\":\"b00550b8-c660-4fb9-a127-a2371dad5bfa\",\"type\":\"PanTool\"},{\"attributes\":{\"callback\":null,\"end\":2452.8},\"id\":\"83fa6fa4-7b59-425a-9876-dbc0b7659fa3\",\"type\":\"Range1d\"},{\"attributes\":{},\"id\":\"a5f4cf29-b989-4165-be22-6d84be4aab28\",\"type\":\"SaveTool\"},{\"attributes\":{},\"id\":\"5f7b949b-e321-45d7-ad48-1f6a301e88c5\",\"type\":\"BasicTickFormatter\"},{\"attributes\":{\"level\":\"glyph\",\"plot\":{\"id\":\"169b5215-d50e-45c8-b428-e992bf2fc33d\",\"subtype\":\"Figure\",\"type\":\"Plot\"},\"source\":{\"id\":\"fa02036d-35c8-45ef-ba62-522571d63f7f\",\"type\":\"ColumnDataSource\"},\"text\":{\"field\":\"x\"},\"text_font_size\":{\"value\":\"8pt\"},\"x\":{\"field\":\"x\"},\"x_offset\":{\"value\":10},\"y\":{\"field\":\"y\"},\"y_offset\":{\"value\":-12}},\"id\":\"90149d77-c10f-4886-8c34-24a894b1b43a\",\"type\":\"LabelSet\"},{\"attributes\":{\"bottom_units\":\"screen\",\"fill_alpha\":{\"value\":0.5},\"fill_color\":{\"value\":\"lightgrey\"},\"left_units\":\"screen\",\"level\":\"overlay\",\"line_alpha\":{\"value\":1.0},\"line_color\":{\"value\":\"black\"},\"line_dash\":[4,4],\"line_width\":{\"value\":2},\"plot\":null,\"render_mode\":\"css\",\"right_units\":\"screen\",\"top_units\":\"screen\"},\"id\":\"c649a2bf-28b7-482f-8241-8c454c04c016\",\"type\":\"BoxAnnotation\"},{\"attributes\":{\"data_source\":{\"id\":\"fa02036d-35c8-45ef-ba62-522571d63f7f\",\"type\":\"ColumnDataSource\"},\"glyph\":{\"id\":\"3c4a39c5-ee3a-4306-9ebb-ac141be8b6df\",\"type\":\"HBar\"},\"hover_glyph\":null,\"muted_glyph\":null,\"nonselection_glyph\":{\"id\":\"75e3e07a-f56f-4caa-8cf6-eb3787af6000\",\"type\":\"HBar\"},\"selection_glyph\":null,\"view\":{\"id\":\"bf54fe3d-18a5-4c8b-96bc-a6a6b6cfb5e8\",\"type\":\"CDSView\"}},\"id\":\"ca108257-0541-4161-837b-02c77c2e36a8\",\"type\":\"GlyphRenderer\"},{\"attributes\":{},\"id\":\"ee406d2c-5f61-4fb5-b21f-d40df55824c9\",\"type\":\"HelpTool\"},{\"attributes\":{\"fill_color\":{\"value\":\"#1f77b4\"},\"height\":{\"value\":0.75},\"line_color\":{\"value\":\"#1f77b4\"},\"right\":{\"field\":\"x\"},\"y\":{\"field\":\"y\"}},\"id\":\"3c4a39c5-ee3a-4306-9ebb-ac141be8b6df\",\"type\":\"HBar\"},{\"attributes\":{},\"id\":\"ec470fcd-1ff2-4a7f-9da5-461798a8c422\",\"type\":\"LinearScale\"},{\"attributes\":{\"level\":\"glyph\",\"plot\":{\"id\":\"169b5215-d50e-45c8-b428-e992bf2fc33d\",\"subtype\":\"Figure\",\"type\":\"Plot\"},\"source\":{\"id\":\"fa02036d-35c8-45ef-ba62-522571d63f7f\",\"type\":\"ColumnDataSource\"},\"text\":{\"field\":\"pct\"},\"text_font_size\":{\"value\":\"8pt\"},\"x\":{\"field\":\"x\"},\"x_offset\":{\"value\":10},\"y\":{\"field\":\"y\"},\"y_offset\":{\"value\":2}},\"id\":\"485ca5ae-34a1-4ac9-ae2e-69387ea2a548\",\"type\":\"LabelSet\"},{\"attributes\":{},\"id\":\"6f72e6d5-05b9-4ed0-8d98-7bcd8de0b99f\",\"type\":\"ResetTool\"},{\"attributes\":{\"below\":[{\"id\":\"8353a7fb-01a4-41d9-8ea8-f92b1ce02639\",\"type\":\"LinearAxis\"}],\"left\":[{\"id\":\"e6f1d47b-024f-42e4-9467-42add541e8df\",\"type\":\"CategoricalAxis\"}],\"min_border_right\":50,\"output_backend\":\"svg\",\"plot_height\":900,\"plot_width\":1400,\"renderers\":[{\"id\":\"8353a7fb-01a4-41d9-8ea8-f92b1ce02639\",\"type\":\"LinearAxis\"},{\"id\":\"99b8c4c5-eace-477f-aa95-e8355656135d\",\"type\":\"Grid\"},{\"id\":\"e6f1d47b-024f-42e4-9467-42add541e8df\",\"type\":\"CategoricalAxis\"},{\"id\":\"5d6e824b-c9d8-40f7-9cb8-a2dfffd736d4\",\"type\":\"Grid\"},{\"id\":\"c649a2bf-28b7-482f-8241-8c454c04c016\",\"type\":\"BoxAnnotation\"},{\"id\":\"ca108257-0541-4161-837b-02c77c2e36a8\",\"type\":\"GlyphRenderer\"},{\"id\":\"485ca5ae-34a1-4ac9-ae2e-69387ea2a548\",\"type\":\"LabelSet\"},{\"id\":\"90149d77-c10f-4886-8c34-24a894b1b43a\",\"type\":\"LabelSet\"}],\"title\":{\"id\":\"e42adeea-cd4f-4188-832b-3a4d91783535\",\"type\":\"Title\"},\"toolbar\":{\"id\":\"aa1089ad-a273-42b7-b1b9-95d8b2623e88\",\"type\":\"Toolbar\"},\"x_range\":{\"id\":\"83fa6fa4-7b59-425a-9876-dbc0b7659fa3\",\"type\":\"Range1d\"},\"x_scale\":{\"id\":\"ec470fcd-1ff2-4a7f-9da5-461798a8c422\",\"type\":\"LinearScale\"},\"y_range\":{\"id\":\"4a4a1b32-33d7-4892-81d7-d01692cc1b32\",\"type\":\"FactorRange\"},\"y_scale\":{\"id\":\"e71fb894-d137-4538-bbd1-be6b95768f39\",\"type\":\"CategoricalScale\"}},\"id\":\"169b5215-d50e-45c8-b428-e992bf2fc33d\",\"subtype\":\"Figure\",\"type\":\"Plot\"},{\"attributes\":{},\"id\":\"5b2ffc61-f194-44a4-a1f0-df56b0bb3b1a\",\"type\":\"BasicTicker\"},{\"attributes\":{},\"id\":\"8ced0751-21d6-4b1d-ade5-6450e4fe0634\",\"type\":\"CategoricalTickFormatter\"},{\"attributes\":{\"active_drag\":\"auto\",\"active_inspect\":\"auto\",\"active_scroll\":\"auto\",\"active_tap\":\"auto\",\"tools\":[{\"id\":\"b00550b8-c660-4fb9-a127-a2371dad5bfa\",\"type\":\"PanTool\"},{\"id\":\"ba00c36d-2697-4859-be13-b889ad1ffd14\",\"type\":\"WheelZoomTool\"},{\"id\":\"b6c628b7-1562-49d7-8885-1a35b7b8a819\",\"type\":\"BoxZoomTool\"},{\"id\":\"a5f4cf29-b989-4165-be22-6d84be4aab28\",\"type\":\"SaveTool\"},{\"id\":\"6f72e6d5-05b9-4ed0-8d98-7bcd8de0b99f\",\"type\":\"ResetTool\"},{\"id\":\"ee406d2c-5f61-4fb5-b21f-d40df55824c9\",\"type\":\"HelpTool\"}]},\"id\":\"aa1089ad-a273-42b7-b1b9-95d8b2623e88\",\"type\":\"Toolbar\"},{\"attributes\":{\"callback\":null,\"column_names\":[\"y\",\"x\",\"pct\"],\"data\":{\"pct\":[\"42.99%\",\"28.03%\",\"15.91%\",\"4.85%\",\"2.98%\",\"2.85%\",\"2.39%\"],\"x\":[1994,1300,738,225,138,132,111],\"y\":[\"A full-time employee in-house\",\"A full-time employee at an agency or consultancy\",\"Self-employed or freelancing\",\"An educator\",\"A contract employee in-house\",\"Other\",\"A contract employee at an agency or consultancy\"]}},\"id\":\"fa02036d-35c8-45ef-ba62-522571d63f7f\",\"type\":\"ColumnDataSource\"},{\"attributes\":{\"overlay\":{\"id\":\"c649a2bf-28b7-482f-8241-8c454c04c016\",\"type\":\"BoxAnnotation\"}},\"id\":\"b6c628b7-1562-49d7-8885-1a35b7b8a819\",\"type\":\"BoxZoomTool\"},{\"attributes\":{\"callback\":null,\"factors\":[\"A full-time employee in-house\",\"A full-time employee at an agency or consultancy\",\"Self-employed or freelancing\",\"An educator\",\"A contract employee in-house\",\"Other\",\"A contract employee at an agency or consultancy\"]},\"id\":\"4a4a1b32-33d7-4892-81d7-d01692cc1b32\",\"type\":\"FactorRange\"},{\"attributes\":{},\"id\":\"1b2acddd-89d6-4136-826f-ae15dd688bc0\",\"type\":\"CategoricalTicker\"},{\"attributes\":{\"dimension\":1,\"plot\":{\"id\":\"169b5215-d50e-45c8-b428-e992bf2fc33d\",\"subtype\":\"Figure\",\"type\":\"Plot\"},\"ticker\":{\"id\":\"1b2acddd-89d6-4136-826f-ae15dd688bc0\",\"type\":\"CategoricalTicker\"}},\"id\":\"5d6e824b-c9d8-40f7-9cb8-a2dfffd736d4\",\"type\":\"Grid\"},{\"attributes\":{\"plot\":null,\"text\":\"AIGA-Only: I am currently:\"},\"id\":\"e42adeea-cd4f-4188-832b-3a4d91783535\",\"type\":\"Title\"},{\"attributes\":{\"axis_label\":\"Categories\",\"formatter\":{\"id\":\"8ced0751-21d6-4b1d-ade5-6450e4fe0634\",\"type\":\"CategoricalTickFormatter\"},\"plot\":{\"id\":\"169b5215-d50e-45c8-b428-e992bf2fc33d\",\"subtype\":\"Figure\",\"type\":\"Plot\"},\"ticker\":{\"id\":\"1b2acddd-89d6-4136-826f-ae15dd688bc0\",\"type\":\"CategoricalTicker\"}},\"id\":\"e6f1d47b-024f-42e4-9467-42add541e8df\",\"type\":\"CategoricalAxis\"},{\"attributes\":{\"plot\":{\"id\":\"169b5215-d50e-45c8-b428-e992bf2fc33d\",\"subtype\":\"Figure\",\"type\":\"Plot\"},\"ticker\":{\"id\":\"5b2ffc61-f194-44a4-a1f0-df56b0bb3b1a\",\"type\":\"BasicTicker\"}},\"id\":\"99b8c4c5-eace-477f-aa95-e8355656135d\",\"type\":\"Grid\"},{\"attributes\":{\"axis_label\":\"Respondents\",\"formatter\":{\"id\":\"5f7b949b-e321-45d7-ad48-1f6a301e88c5\",\"type\":\"BasicTickFormatter\"},\"plot\":{\"id\":\"169b5215-d50e-45c8-b428-e992bf2fc33d\",\"subtype\":\"Figure\",\"type\":\"Plot\"},\"ticker\":{\"id\":\"5b2ffc61-f194-44a4-a1f0-df56b0bb3b1a\",\"type\":\"BasicTicker\"}},\"id\":\"8353a7fb-01a4-41d9-8ea8-f92b1ce02639\",\"type\":\"LinearAxis\"}],\"root_ids\":[\"169b5215-d50e-45c8-b428-e992bf2fc33d\"]},\"title\":\"Bokeh Application\",\"version\":\"0.12.13\"}};\n",
              "  var render_items = [{\"docid\":\"58ed3b3f-e9bf-4435-8a94-4f88770ab256\",\"elementid\":\"eea83c6c-7339-47aa-b9d3-054bc1bd5d4b\",\"modelid\":\"169b5215-d50e-45c8-b428-e992bf2fc33d\"}];\n",
              "  root.Bokeh.embed.embed_items_notebook(docs_json, render_items);\n",
              "\n",
              "  }\n",
              "  if (root.Bokeh !== undefined) {\n",
              "    embed_document(root);\n",
              "  } else {\n",
              "    var attempts = 0;\n",
              "    var timer = setInterval(function(root) {\n",
              "      if (root.Bokeh !== undefined) {\n",
              "        embed_document(root);\n",
              "        clearInterval(timer);\n",
              "      }\n",
              "      attempts++;\n",
              "      if (attempts > 100) {\n",
              "        console.log(\"Bokeh: ERROR: Unable to run BokehJS code because BokehJS library is missing\")\n",
              "        clearInterval(timer);\n",
              "      }\n",
              "    }, 10, root)\n",
              "  }\n",
              "})(window);"
            ],
            "application/vnd.bokehjs_exec.v0+json": ""
          },
          "metadata": {
            "application/vnd.bokehjs_exec.v0+json": {
              "id": "169b5215-d50e-45c8-b428-e992bf2fc33d"
            }
          }
        },
        {
          "output_type": "display_data",
          "data": {
            "text/html": [
              "\n",
              "<div class=\"bk-root\">\n",
              "    <div class=\"bk-plotdiv\" id=\"0e04763a-569a-466f-8af4-a8517dfc6611\"></div>\n",
              "</div>"
            ]
          },
          "metadata": {}
        },
        {
          "output_type": "display_data",
          "data": {
            "application/javascript": [
              "(function(root) {\n",
              "  function embed_document(root) {\n",
              "    \n",
              "  var docs_json = {\"26cb1ba3-0b4d-4c5b-8479-6e2342e8b57f\":{\"roots\":{\"references\":[{\"attributes\":{\"data_source\":{\"id\":\"24d299dd-4aa9-4e13-889e-dd22e22c5105\",\"type\":\"ColumnDataSource\"},\"glyph\":{\"id\":\"f80bacdc-548c-48e1-8edb-64d939334bf6\",\"type\":\"HBar\"},\"hover_glyph\":null,\"muted_glyph\":null,\"nonselection_glyph\":{\"id\":\"bd4d3a08-287d-4e6d-9e0f-97b43d64712a\",\"type\":\"HBar\"},\"selection_glyph\":null,\"view\":{\"id\":\"b705ec97-2533-4d3f-b0f3-2955dad7349e\",\"type\":\"CDSView\"}},\"id\":\"5fc6073d-5eb5-4d44-af59-653422c451e2\",\"type\":\"GlyphRenderer\"},{\"attributes\":{\"level\":\"glyph\",\"plot\":{\"id\":\"08bdc94c-0cc7-40cc-ae46-2667f6e9086a\",\"subtype\":\"Figure\",\"type\":\"Plot\"},\"source\":{\"id\":\"24d299dd-4aa9-4e13-889e-dd22e22c5105\",\"type\":\"ColumnDataSource\"},\"text\":{\"field\":\"pct\"},\"text_font_size\":{\"value\":\"8pt\"},\"x\":{\"field\":\"x\"},\"x_offset\":{\"value\":10},\"y\":{\"field\":\"y\"},\"y_offset\":{\"value\":2}},\"id\":\"5fcd29c4-e26c-4992-8509-19bf854c69c0\",\"type\":\"LabelSet\"},{\"attributes\":{\"fill_alpha\":{\"value\":0.1},\"fill_color\":{\"value\":\"#1f77b4\"},\"height\":{\"value\":0.75},\"line_alpha\":{\"value\":0.1},\"line_color\":{\"value\":\"#1f77b4\"},\"right\":{\"field\":\"x\"},\"y\":{\"field\":\"y\"}},\"id\":\"bd4d3a08-287d-4e6d-9e0f-97b43d64712a\",\"type\":\"HBar\"},{\"attributes\":{},\"id\":\"d7d0c5cc-b423-4a04-8b76-3aef716362f8\",\"type\":\"CategoricalTickFormatter\"},{\"attributes\":{\"overlay\":{\"id\":\"5d6931b6-6bd0-407c-80d4-6f87257d9520\",\"type\":\"BoxAnnotation\"}},\"id\":\"98268306-4af2-490b-b99c-891bb88d136c\",\"type\":\"BoxZoomTool\"},{\"attributes\":{},\"id\":\"7b47e277-76e8-4a9c-8d46-567730cdc0d0\",\"type\":\"LinearScale\"},{\"attributes\":{\"callback\":null,\"column_names\":[\"y\",\"x\",\"pct\"],\"data\":{\"pct\":[\"27.25%\",\"25.57%\",\"22.66%\",\"17.81%\",\"17.21%\",\"7.93%\",\"7.14%\",\"6.23%\",\"5.22%\",\"3.08%\",\"2.22%\"],\"x\":[1264,1186,1051,826,798,368,331,289,242,143,103],\"y\":[\"Branding\",\"Digital\",\"Print\",\"Advertising\",\"Strategy\",\"Product Design\",\"Innovation\",\"Social Impact\",\"Service Design\",\"None of these\",\"Broadcast\"]}},\"id\":\"24d299dd-4aa9-4e13-889e-dd22e22c5105\",\"type\":\"ColumnDataSource\"},{\"attributes\":{},\"id\":\"304d496d-9c55-4e31-b1b9-f9272d67ac32\",\"type\":\"WheelZoomTool\"},{\"attributes\":{\"axis_label\":\"Respondents\",\"formatter\":{\"id\":\"b2a65ec8-972c-4d70-8e6b-ea3aca90e2e1\",\"type\":\"BasicTickFormatter\"},\"plot\":{\"id\":\"08bdc94c-0cc7-40cc-ae46-2667f6e9086a\",\"subtype\":\"Figure\",\"type\":\"Plot\"},\"ticker\":{\"id\":\"8bc8dd32-6ef7-4f52-80ef-74c7b2235c09\",\"type\":\"BasicTicker\"}},\"id\":\"557e6c6b-1402-4992-89d5-e2ba052345cb\",\"type\":\"LinearAxis\"},{\"attributes\":{},\"id\":\"b2a65ec8-972c-4d70-8e6b-ea3aca90e2e1\",\"type\":\"BasicTickFormatter\"},{\"attributes\":{\"plot\":null,\"text\":\"AIGA-Only: My company specializes in:\"},\"id\":\"fc26ea9b-b652-47d4-a9a7-f287fa4e952e\",\"type\":\"Title\"},{\"attributes\":{},\"id\":\"8bc8dd32-6ef7-4f52-80ef-74c7b2235c09\",\"type\":\"BasicTicker\"},{\"attributes\":{\"active_drag\":\"auto\",\"active_inspect\":\"auto\",\"active_scroll\":\"auto\",\"active_tap\":\"auto\",\"tools\":[{\"id\":\"407c7f4f-c8ee-456c-84f0-d9505cbf2153\",\"type\":\"PanTool\"},{\"id\":\"304d496d-9c55-4e31-b1b9-f9272d67ac32\",\"type\":\"WheelZoomTool\"},{\"id\":\"98268306-4af2-490b-b99c-891bb88d136c\",\"type\":\"BoxZoomTool\"},{\"id\":\"e83fd6aa-f82d-46e9-994c-e64502c850f3\",\"type\":\"SaveTool\"},{\"id\":\"7076cd6e-5d95-41a7-8734-273649bc14bd\",\"type\":\"ResetTool\"},{\"id\":\"2ea3aa1d-78ab-465c-9634-692a0e5bbbb7\",\"type\":\"HelpTool\"}]},\"id\":\"fee252ad-a7f4-4698-9c47-bc7491235cba\",\"type\":\"Toolbar\"},{\"attributes\":{},\"id\":\"fd603e94-3ef7-4a43-9fbf-10454a6800da\",\"type\":\"CategoricalTicker\"},{\"attributes\":{\"bottom_units\":\"screen\",\"fill_alpha\":{\"value\":0.5},\"fill_color\":{\"value\":\"lightgrey\"},\"left_units\":\"screen\",\"level\":\"overlay\",\"line_alpha\":{\"value\":1.0},\"line_color\":{\"value\":\"black\"},\"line_dash\":[4,4],\"line_width\":{\"value\":2},\"plot\":null,\"render_mode\":\"css\",\"right_units\":\"screen\",\"top_units\":\"screen\"},\"id\":\"5d6931b6-6bd0-407c-80d4-6f87257d9520\",\"type\":\"BoxAnnotation\"},{\"attributes\":{\"fill_color\":{\"value\":\"#1f77b4\"},\"height\":{\"value\":0.75},\"line_color\":{\"value\":\"#1f77b4\"},\"right\":{\"field\":\"x\"},\"y\":{\"field\":\"y\"}},\"id\":\"f80bacdc-548c-48e1-8edb-64d939334bf6\",\"type\":\"HBar\"},{\"attributes\":{\"callback\":null,\"end\":1576.8},\"id\":\"f81d0427-c937-45e3-9e92-5238a58fd00f\",\"type\":\"Range1d\"},{\"attributes\":{\"below\":[{\"id\":\"557e6c6b-1402-4992-89d5-e2ba052345cb\",\"type\":\"LinearAxis\"}],\"left\":[{\"id\":\"7eae49e9-531f-4b95-ad6e-281282546d3e\",\"type\":\"CategoricalAxis\"}],\"min_border_right\":50,\"output_backend\":\"svg\",\"plot_height\":900,\"plot_width\":1400,\"renderers\":[{\"id\":\"557e6c6b-1402-4992-89d5-e2ba052345cb\",\"type\":\"LinearAxis\"},{\"id\":\"924ee922-b700-4dd2-b4b9-eebe6f46957b\",\"type\":\"Grid\"},{\"id\":\"7eae49e9-531f-4b95-ad6e-281282546d3e\",\"type\":\"CategoricalAxis\"},{\"id\":\"fefe0b18-b06c-4cf0-98a9-c03f899d06e1\",\"type\":\"Grid\"},{\"id\":\"5d6931b6-6bd0-407c-80d4-6f87257d9520\",\"type\":\"BoxAnnotation\"},{\"id\":\"5fc6073d-5eb5-4d44-af59-653422c451e2\",\"type\":\"GlyphRenderer\"},{\"id\":\"5fcd29c4-e26c-4992-8509-19bf854c69c0\",\"type\":\"LabelSet\"},{\"id\":\"98e40acb-0746-4301-a0c7-fe82329cd761\",\"type\":\"LabelSet\"}],\"title\":{\"id\":\"fc26ea9b-b652-47d4-a9a7-f287fa4e952e\",\"type\":\"Title\"},\"toolbar\":{\"id\":\"fee252ad-a7f4-4698-9c47-bc7491235cba\",\"type\":\"Toolbar\"},\"x_range\":{\"id\":\"f81d0427-c937-45e3-9e92-5238a58fd00f\",\"type\":\"Range1d\"},\"x_scale\":{\"id\":\"7b47e277-76e8-4a9c-8d46-567730cdc0d0\",\"type\":\"LinearScale\"},\"y_range\":{\"id\":\"5f490987-39f6-43ab-aae0-0afb0452f094\",\"type\":\"FactorRange\"},\"y_scale\":{\"id\":\"3591bfdf-4b95-4269-9df3-655b8d52b663\",\"type\":\"CategoricalScale\"}},\"id\":\"08bdc94c-0cc7-40cc-ae46-2667f6e9086a\",\"subtype\":\"Figure\",\"type\":\"Plot\"},{\"attributes\":{\"dimension\":1,\"plot\":{\"id\":\"08bdc94c-0cc7-40cc-ae46-2667f6e9086a\",\"subtype\":\"Figure\",\"type\":\"Plot\"},\"ticker\":{\"id\":\"fd603e94-3ef7-4a43-9fbf-10454a6800da\",\"type\":\"CategoricalTicker\"}},\"id\":\"fefe0b18-b06c-4cf0-98a9-c03f899d06e1\",\"type\":\"Grid\"},{\"attributes\":{},\"id\":\"7076cd6e-5d95-41a7-8734-273649bc14bd\",\"type\":\"ResetTool\"},{\"attributes\":{\"level\":\"glyph\",\"plot\":{\"id\":\"08bdc94c-0cc7-40cc-ae46-2667f6e9086a\",\"subtype\":\"Figure\",\"type\":\"Plot\"},\"source\":{\"id\":\"24d299dd-4aa9-4e13-889e-dd22e22c5105\",\"type\":\"ColumnDataSource\"},\"text\":{\"field\":\"x\"},\"text_font_size\":{\"value\":\"8pt\"},\"x\":{\"field\":\"x\"},\"x_offset\":{\"value\":10},\"y\":{\"field\":\"y\"},\"y_offset\":{\"value\":-12}},\"id\":\"98e40acb-0746-4301-a0c7-fe82329cd761\",\"type\":\"LabelSet\"},{\"attributes\":{},\"id\":\"407c7f4f-c8ee-456c-84f0-d9505cbf2153\",\"type\":\"PanTool\"},{\"attributes\":{\"callback\":null,\"factors\":[\"Branding\",\"Digital\",\"Print\",\"Advertising\",\"Strategy\",\"Product Design\",\"Innovation\",\"Social Impact\",\"Service Design\",\"None of these\",\"Broadcast\"]},\"id\":\"5f490987-39f6-43ab-aae0-0afb0452f094\",\"type\":\"FactorRange\"},{\"attributes\":{},\"id\":\"e83fd6aa-f82d-46e9-994c-e64502c850f3\",\"type\":\"SaveTool\"},{\"attributes\":{},\"id\":\"3591bfdf-4b95-4269-9df3-655b8d52b663\",\"type\":\"CategoricalScale\"},{\"attributes\":{\"source\":{\"id\":\"24d299dd-4aa9-4e13-889e-dd22e22c5105\",\"type\":\"ColumnDataSource\"}},\"id\":\"b705ec97-2533-4d3f-b0f3-2955dad7349e\",\"type\":\"CDSView\"},{\"attributes\":{\"axis_label\":\"Categories\",\"formatter\":{\"id\":\"d7d0c5cc-b423-4a04-8b76-3aef716362f8\",\"type\":\"CategoricalTickFormatter\"},\"plot\":{\"id\":\"08bdc94c-0cc7-40cc-ae46-2667f6e9086a\",\"subtype\":\"Figure\",\"type\":\"Plot\"},\"ticker\":{\"id\":\"fd603e94-3ef7-4a43-9fbf-10454a6800da\",\"type\":\"CategoricalTicker\"}},\"id\":\"7eae49e9-531f-4b95-ad6e-281282546d3e\",\"type\":\"CategoricalAxis\"},{\"attributes\":{\"plot\":{\"id\":\"08bdc94c-0cc7-40cc-ae46-2667f6e9086a\",\"subtype\":\"Figure\",\"type\":\"Plot\"},\"ticker\":{\"id\":\"8bc8dd32-6ef7-4f52-80ef-74c7b2235c09\",\"type\":\"BasicTicker\"}},\"id\":\"924ee922-b700-4dd2-b4b9-eebe6f46957b\",\"type\":\"Grid\"},{\"attributes\":{},\"id\":\"2ea3aa1d-78ab-465c-9634-692a0e5bbbb7\",\"type\":\"HelpTool\"}],\"root_ids\":[\"08bdc94c-0cc7-40cc-ae46-2667f6e9086a\"]},\"title\":\"Bokeh Application\",\"version\":\"0.12.13\"}};\n",
              "  var render_items = [{\"docid\":\"26cb1ba3-0b4d-4c5b-8479-6e2342e8b57f\",\"elementid\":\"0e04763a-569a-466f-8af4-a8517dfc6611\",\"modelid\":\"08bdc94c-0cc7-40cc-ae46-2667f6e9086a\"}];\n",
              "  root.Bokeh.embed.embed_items_notebook(docs_json, render_items);\n",
              "\n",
              "  }\n",
              "  if (root.Bokeh !== undefined) {\n",
              "    embed_document(root);\n",
              "  } else {\n",
              "    var attempts = 0;\n",
              "    var timer = setInterval(function(root) {\n",
              "      if (root.Bokeh !== undefined) {\n",
              "        embed_document(root);\n",
              "        clearInterval(timer);\n",
              "      }\n",
              "      attempts++;\n",
              "      if (attempts > 100) {\n",
              "        console.log(\"Bokeh: ERROR: Unable to run BokehJS code because BokehJS library is missing\")\n",
              "        clearInterval(timer);\n",
              "      }\n",
              "    }, 10, root)\n",
              "  }\n",
              "})(window);"
            ],
            "application/vnd.bokehjs_exec.v0+json": ""
          },
          "metadata": {
            "application/vnd.bokehjs_exec.v0+json": {
              "id": "08bdc94c-0cc7-40cc-ae46-2667f6e9086a"
            }
          }
        },
        {
          "output_type": "display_data",
          "data": {
            "text/html": [
              "\n",
              "<div class=\"bk-root\">\n",
              "    <div class=\"bk-plotdiv\" id=\"a02d2097-7ef2-4dc6-86ff-1e3eb6878d5c\"></div>\n",
              "</div>"
            ]
          },
          "metadata": {}
        },
        {
          "output_type": "display_data",
          "data": {
            "application/javascript": [
              "(function(root) {\n",
              "  function embed_document(root) {\n",
              "    \n",
              "  var docs_json = {\"a86af8ec-540a-4752-a8f9-3fe86f26d970\":{\"roots\":{\"references\":[{\"attributes\":{},\"id\":\"3504480f-5366-4eaf-9da6-b73523167a72\",\"type\":\"CategoricalTicker\"},{\"attributes\":{\"plot\":{\"id\":\"0a832e77-0e9f-43e2-ae68-14af55c79cb2\",\"subtype\":\"Figure\",\"type\":\"Plot\"},\"ticker\":{\"id\":\"9e0d34b2-c28e-49e5-a49f-6b7e96174cca\",\"type\":\"BasicTicker\"}},\"id\":\"b1ac2679-f94e-459f-969b-1cd535eee413\",\"type\":\"Grid\"},{\"attributes\":{\"axis_label\":\"Respondents\",\"formatter\":{\"id\":\"91fd2e12-da69-47c3-9827-5293c0ca0bba\",\"type\":\"BasicTickFormatter\"},\"plot\":{\"id\":\"0a832e77-0e9f-43e2-ae68-14af55c79cb2\",\"subtype\":\"Figure\",\"type\":\"Plot\"},\"ticker\":{\"id\":\"9e0d34b2-c28e-49e5-a49f-6b7e96174cca\",\"type\":\"BasicTicker\"}},\"id\":\"88ae06e5-d6d5-42c3-9f8e-6e58da35e39d\",\"type\":\"LinearAxis\"},{\"attributes\":{},\"id\":\"9e0d34b2-c28e-49e5-a49f-6b7e96174cca\",\"type\":\"BasicTicker\"},{\"attributes\":{},\"id\":\"ebbae391-9f54-45e8-9796-619639a7e6cf\",\"type\":\"PanTool\"},{\"attributes\":{\"axis_label\":\"Categories\",\"formatter\":{\"id\":\"4f4c304c-93a0-4553-b004-20ee45c262c0\",\"type\":\"CategoricalTickFormatter\"},\"plot\":{\"id\":\"0a832e77-0e9f-43e2-ae68-14af55c79cb2\",\"subtype\":\"Figure\",\"type\":\"Plot\"},\"ticker\":{\"id\":\"3504480f-5366-4eaf-9da6-b73523167a72\",\"type\":\"CategoricalTicker\"}},\"id\":\"758ed16f-c386-4125-b017-a6b372746b8a\",\"type\":\"CategoricalAxis\"},{\"attributes\":{},\"id\":\"a9381455-ed15-486d-9792-0dc715c48035\",\"type\":\"WheelZoomTool\"},{\"attributes\":{\"callback\":null,\"column_names\":[\"y\",\"x\",\"pct\"],\"data\":{\"pct\":[\"27.43%\",\"6.45%\",\"4.61%\",\"3.47%\",\"1.79%\",\"1.44%\"],\"x\":[1272,299,214,161,83,67],\"y\":[\"For-Profit/Corporate\",\"Non-Profit\",\"Education\",\"Startup\",\"Other\",\"Government\"]}},\"id\":\"6a2fe201-254f-4364-bb0e-bfb0f05e3cf2\",\"type\":\"ColumnDataSource\"},{\"attributes\":{\"bottom_units\":\"screen\",\"fill_alpha\":{\"value\":0.5},\"fill_color\":{\"value\":\"lightgrey\"},\"left_units\":\"screen\",\"level\":\"overlay\",\"line_alpha\":{\"value\":1.0},\"line_color\":{\"value\":\"black\"},\"line_dash\":[4,4],\"line_width\":{\"value\":2},\"plot\":null,\"render_mode\":\"css\",\"right_units\":\"screen\",\"top_units\":\"screen\"},\"id\":\"9eccfea0-bea9-48bf-b04c-f75527020271\",\"type\":\"BoxAnnotation\"},{\"attributes\":{},\"id\":\"ce887c77-9ada-424d-a0b9-e07f32429d3d\",\"type\":\"CategoricalScale\"},{\"attributes\":{\"active_drag\":\"auto\",\"active_inspect\":\"auto\",\"active_scroll\":\"auto\",\"active_tap\":\"auto\",\"tools\":[{\"id\":\"ebbae391-9f54-45e8-9796-619639a7e6cf\",\"type\":\"PanTool\"},{\"id\":\"a9381455-ed15-486d-9792-0dc715c48035\",\"type\":\"WheelZoomTool\"},{\"id\":\"31937c36-2178-46d2-8eca-20317d0745fa\",\"type\":\"BoxZoomTool\"},{\"id\":\"d8e16942-76db-47cb-865a-ea2499a2a612\",\"type\":\"SaveTool\"},{\"id\":\"fce43212-c864-4e22-86ad-da59164ca851\",\"type\":\"ResetTool\"},{\"id\":\"8c9124bb-588c-4350-94b9-f0d0a6f12c33\",\"type\":\"HelpTool\"}]},\"id\":\"93fb4986-79a8-419c-93b1-8c30da8c9479\",\"type\":\"Toolbar\"},{\"attributes\":{},\"id\":\"8c9124bb-588c-4350-94b9-f0d0a6f12c33\",\"type\":\"HelpTool\"},{\"attributes\":{\"level\":\"glyph\",\"plot\":{\"id\":\"0a832e77-0e9f-43e2-ae68-14af55c79cb2\",\"subtype\":\"Figure\",\"type\":\"Plot\"},\"source\":{\"id\":\"6a2fe201-254f-4364-bb0e-bfb0f05e3cf2\",\"type\":\"ColumnDataSource\"},\"text\":{\"field\":\"pct\"},\"text_font_size\":{\"value\":\"8pt\"},\"x\":{\"field\":\"x\"},\"x_offset\":{\"value\":10},\"y\":{\"field\":\"y\"},\"y_offset\":{\"value\":2}},\"id\":\"5cbd1d99-3a7b-40e5-824e-cd117d498e17\",\"type\":\"LabelSet\"},{\"attributes\":{\"source\":{\"id\":\"6a2fe201-254f-4364-bb0e-bfb0f05e3cf2\",\"type\":\"ColumnDataSource\"}},\"id\":\"02b3c2b7-124a-471d-8cab-afd19a9cd37f\",\"type\":\"CDSView\"},{\"attributes\":{\"level\":\"glyph\",\"plot\":{\"id\":\"0a832e77-0e9f-43e2-ae68-14af55c79cb2\",\"subtype\":\"Figure\",\"type\":\"Plot\"},\"source\":{\"id\":\"6a2fe201-254f-4364-bb0e-bfb0f05e3cf2\",\"type\":\"ColumnDataSource\"},\"text\":{\"field\":\"x\"},\"text_font_size\":{\"value\":\"8pt\"},\"x\":{\"field\":\"x\"},\"x_offset\":{\"value\":10},\"y\":{\"field\":\"y\"},\"y_offset\":{\"value\":-12}},\"id\":\"0ae216ee-b9f5-4274-8221-1d33e681933b\",\"type\":\"LabelSet\"},{\"attributes\":{\"plot\":null,\"text\":\"AIGA-Only: My company is:\"},\"id\":\"cc0bd55e-2ac6-413f-ba9f-efc6f5ac9c72\",\"type\":\"Title\"},{\"attributes\":{},\"id\":\"91fd2e12-da69-47c3-9827-5293c0ca0bba\",\"type\":\"BasicTickFormatter\"},{\"attributes\":{},\"id\":\"fce43212-c864-4e22-86ad-da59164ca851\",\"type\":\"ResetTool\"},{\"attributes\":{\"fill_color\":{\"value\":\"#1f77b4\"},\"height\":{\"value\":0.75},\"line_color\":{\"value\":\"#1f77b4\"},\"right\":{\"field\":\"x\"},\"y\":{\"field\":\"y\"}},\"id\":\"9fd13636-de85-43b4-8ca8-55da66776da8\",\"type\":\"HBar\"},{\"attributes\":{\"dimension\":1,\"plot\":{\"id\":\"0a832e77-0e9f-43e2-ae68-14af55c79cb2\",\"subtype\":\"Figure\",\"type\":\"Plot\"},\"ticker\":{\"id\":\"3504480f-5366-4eaf-9da6-b73523167a72\",\"type\":\"CategoricalTicker\"}},\"id\":\"bfd23368-94eb-47a6-8abe-7a28beef0007\",\"type\":\"Grid\"},{\"attributes\":{},\"id\":\"d8e16942-76db-47cb-865a-ea2499a2a612\",\"type\":\"SaveTool\"},{\"attributes\":{\"fill_alpha\":{\"value\":0.1},\"fill_color\":{\"value\":\"#1f77b4\"},\"height\":{\"value\":0.75},\"line_alpha\":{\"value\":0.1},\"line_color\":{\"value\":\"#1f77b4\"},\"right\":{\"field\":\"x\"},\"y\":{\"field\":\"y\"}},\"id\":\"e2759c69-2fe7-407f-845c-55619d141fe8\",\"type\":\"HBar\"},{\"attributes\":{\"data_source\":{\"id\":\"6a2fe201-254f-4364-bb0e-bfb0f05e3cf2\",\"type\":\"ColumnDataSource\"},\"glyph\":{\"id\":\"9fd13636-de85-43b4-8ca8-55da66776da8\",\"type\":\"HBar\"},\"hover_glyph\":null,\"muted_glyph\":null,\"nonselection_glyph\":{\"id\":\"e2759c69-2fe7-407f-845c-55619d141fe8\",\"type\":\"HBar\"},\"selection_glyph\":null,\"view\":{\"id\":\"02b3c2b7-124a-471d-8cab-afd19a9cd37f\",\"type\":\"CDSView\"}},\"id\":\"f7e859de-d6ec-4500-aede-66480af5af2b\",\"type\":\"GlyphRenderer\"},{\"attributes\":{\"below\":[{\"id\":\"88ae06e5-d6d5-42c3-9f8e-6e58da35e39d\",\"type\":\"LinearAxis\"}],\"left\":[{\"id\":\"758ed16f-c386-4125-b017-a6b372746b8a\",\"type\":\"CategoricalAxis\"}],\"min_border_right\":50,\"output_backend\":\"svg\",\"plot_height\":900,\"plot_width\":1400,\"renderers\":[{\"id\":\"88ae06e5-d6d5-42c3-9f8e-6e58da35e39d\",\"type\":\"LinearAxis\"},{\"id\":\"b1ac2679-f94e-459f-969b-1cd535eee413\",\"type\":\"Grid\"},{\"id\":\"758ed16f-c386-4125-b017-a6b372746b8a\",\"type\":\"CategoricalAxis\"},{\"id\":\"bfd23368-94eb-47a6-8abe-7a28beef0007\",\"type\":\"Grid\"},{\"id\":\"9eccfea0-bea9-48bf-b04c-f75527020271\",\"type\":\"BoxAnnotation\"},{\"id\":\"f7e859de-d6ec-4500-aede-66480af5af2b\",\"type\":\"GlyphRenderer\"},{\"id\":\"5cbd1d99-3a7b-40e5-824e-cd117d498e17\",\"type\":\"LabelSet\"},{\"id\":\"0ae216ee-b9f5-4274-8221-1d33e681933b\",\"type\":\"LabelSet\"}],\"title\":{\"id\":\"cc0bd55e-2ac6-413f-ba9f-efc6f5ac9c72\",\"type\":\"Title\"},\"toolbar\":{\"id\":\"93fb4986-79a8-419c-93b1-8c30da8c9479\",\"type\":\"Toolbar\"},\"x_range\":{\"id\":\"a029dc88-d960-447c-b7b8-e73aad4e1b50\",\"type\":\"Range1d\"},\"x_scale\":{\"id\":\"b20c3f29-9021-472a-aef5-709dfe9bd879\",\"type\":\"LinearScale\"},\"y_range\":{\"id\":\"ad676328-c1ae-42db-8d40-09d2a64729bf\",\"type\":\"FactorRange\"},\"y_scale\":{\"id\":\"ce887c77-9ada-424d-a0b9-e07f32429d3d\",\"type\":\"CategoricalScale\"}},\"id\":\"0a832e77-0e9f-43e2-ae68-14af55c79cb2\",\"subtype\":\"Figure\",\"type\":\"Plot\"},{\"attributes\":{},\"id\":\"b20c3f29-9021-472a-aef5-709dfe9bd879\",\"type\":\"LinearScale\"},{\"attributes\":{},\"id\":\"4f4c304c-93a0-4553-b004-20ee45c262c0\",\"type\":\"CategoricalTickFormatter\"},{\"attributes\":{\"callback\":null,\"factors\":[\"For-Profit/Corporate\",\"Non-Profit\",\"Education\",\"Startup\",\"Other\",\"Government\"]},\"id\":\"ad676328-c1ae-42db-8d40-09d2a64729bf\",\"type\":\"FactorRange\"},{\"attributes\":{\"callback\":null,\"end\":1586.4},\"id\":\"a029dc88-d960-447c-b7b8-e73aad4e1b50\",\"type\":\"Range1d\"},{\"attributes\":{\"overlay\":{\"id\":\"9eccfea0-bea9-48bf-b04c-f75527020271\",\"type\":\"BoxAnnotation\"}},\"id\":\"31937c36-2178-46d2-8eca-20317d0745fa\",\"type\":\"BoxZoomTool\"}],\"root_ids\":[\"0a832e77-0e9f-43e2-ae68-14af55c79cb2\"]},\"title\":\"Bokeh Application\",\"version\":\"0.12.13\"}};\n",
              "  var render_items = [{\"docid\":\"a86af8ec-540a-4752-a8f9-3fe86f26d970\",\"elementid\":\"a02d2097-7ef2-4dc6-86ff-1e3eb6878d5c\",\"modelid\":\"0a832e77-0e9f-43e2-ae68-14af55c79cb2\"}];\n",
              "  root.Bokeh.embed.embed_items_notebook(docs_json, render_items);\n",
              "\n",
              "  }\n",
              "  if (root.Bokeh !== undefined) {\n",
              "    embed_document(root);\n",
              "  } else {\n",
              "    var attempts = 0;\n",
              "    var timer = setInterval(function(root) {\n",
              "      if (root.Bokeh !== undefined) {\n",
              "        embed_document(root);\n",
              "        clearInterval(timer);\n",
              "      }\n",
              "      attempts++;\n",
              "      if (attempts > 100) {\n",
              "        console.log(\"Bokeh: ERROR: Unable to run BokehJS code because BokehJS library is missing\")\n",
              "        clearInterval(timer);\n",
              "      }\n",
              "    }, 10, root)\n",
              "  }\n",
              "})(window);"
            ],
            "application/vnd.bokehjs_exec.v0+json": ""
          },
          "metadata": {
            "application/vnd.bokehjs_exec.v0+json": {
              "id": "0a832e77-0e9f-43e2-ae68-14af55c79cb2"
            }
          }
        },
        {
          "output_type": "display_data",
          "data": {
            "text/html": [
              "\n",
              "<div class=\"bk-root\">\n",
              "    <div class=\"bk-plotdiv\" id=\"c8f4d092-eeea-4246-8927-57fbdfd17ce0\"></div>\n",
              "</div>"
            ]
          },
          "metadata": {}
        },
        {
          "output_type": "display_data",
          "data": {
            "application/javascript": [
              "(function(root) {\n",
              "  function embed_document(root) {\n",
              "    \n",
              "  var docs_json = {\"8df738bc-f2f9-4bc8-a2c4-0380e08c90f2\":{\"roots\":{\"references\":[{\"attributes\":{\"axis_label\":\"Respondents\",\"formatter\":{\"id\":\"fa38e76c-5396-4f22-b293-9846d90069d2\",\"type\":\"BasicTickFormatter\"},\"plot\":{\"id\":\"0b0ad177-7913-4477-8b54-64bdaf48b3d5\",\"subtype\":\"Figure\",\"type\":\"Plot\"},\"ticker\":{\"id\":\"27d74af1-9bbb-4dde-ac61-b0faebf9016b\",\"type\":\"BasicTicker\"}},\"id\":\"ccee5380-a3e4-4ce4-b2ae-1c567b1f0e56\",\"type\":\"LinearAxis\"},{\"attributes\":{},\"id\":\"41f4eb73-07b9-44d8-a50c-8e58ae9b34dc\",\"type\":\"CategoricalTicker\"},{\"attributes\":{\"level\":\"glyph\",\"plot\":{\"id\":\"0b0ad177-7913-4477-8b54-64bdaf48b3d5\",\"subtype\":\"Figure\",\"type\":\"Plot\"},\"source\":{\"id\":\"31cd2f72-c1f2-4c3f-966c-aa988a5e516a\",\"type\":\"ColumnDataSource\"},\"text\":{\"field\":\"x\"},\"text_font_size\":{\"value\":\"8pt\"},\"x\":{\"field\":\"x\"},\"x_offset\":{\"value\":10},\"y\":{\"field\":\"y\"},\"y_offset\":{\"value\":-12}},\"id\":\"773f04fd-709f-47e2-b241-90abe4527420\",\"type\":\"LabelSet\"},{\"attributes\":{\"callback\":null,\"end\":274.8},\"id\":\"73749642-6e3b-4f64-95d9-5bdb0eca0bc8\",\"type\":\"Range1d\"},{\"attributes\":{},\"id\":\"02860b07-e584-448e-9131-12693aef46ac\",\"type\":\"PanTool\"},{\"attributes\":{\"data_source\":{\"id\":\"31cd2f72-c1f2-4c3f-966c-aa988a5e516a\",\"type\":\"ColumnDataSource\"},\"glyph\":{\"id\":\"90e0d3b5-9d81-4c26-856a-3c8e09f1ed2d\",\"type\":\"HBar\"},\"hover_glyph\":null,\"muted_glyph\":null,\"nonselection_glyph\":{\"id\":\"e3c3440b-f8eb-4af2-934b-b9724ca94362\",\"type\":\"HBar\"},\"selection_glyph\":null,\"view\":{\"id\":\"6050d0b0-b204-4275-8a12-38bbffe7f560\",\"type\":\"CDSView\"}},\"id\":\"8f546135-fd31-4953-968f-2cd6685c44ea\",\"type\":\"GlyphRenderer\"},{\"attributes\":{\"bottom_units\":\"screen\",\"fill_alpha\":{\"value\":0.5},\"fill_color\":{\"value\":\"lightgrey\"},\"left_units\":\"screen\",\"level\":\"overlay\",\"line_alpha\":{\"value\":1.0},\"line_color\":{\"value\":\"black\"},\"line_dash\":[4,4],\"line_width\":{\"value\":2},\"plot\":null,\"render_mode\":\"css\",\"right_units\":\"screen\",\"top_units\":\"screen\"},\"id\":\"1a182bc5-8414-488f-a45e-9f909b534a1e\",\"type\":\"BoxAnnotation\"},{\"attributes\":{\"fill_color\":{\"value\":\"#1f77b4\"},\"height\":{\"value\":0.75},\"line_color\":{\"value\":\"#1f77b4\"},\"right\":{\"field\":\"x\"},\"y\":{\"field\":\"y\"}},\"id\":\"90e0d3b5-9d81-4c26-856a-3c8e09f1ed2d\",\"type\":\"HBar\"},{\"attributes\":{\"plot\":null,\"text\":\"AIGA-Only: I teach:\"},\"id\":\"000e386f-3c60-45aa-8eeb-7e30ce3ff2c2\",\"type\":\"Title\"},{\"attributes\":{},\"id\":\"9ac0a823-39dd-498d-99ea-93fafab054d2\",\"type\":\"LinearScale\"},{\"attributes\":{\"fill_alpha\":{\"value\":0.1},\"fill_color\":{\"value\":\"#1f77b4\"},\"height\":{\"value\":0.75},\"line_alpha\":{\"value\":0.1},\"line_color\":{\"value\":\"#1f77b4\"},\"right\":{\"field\":\"x\"},\"y\":{\"field\":\"y\"}},\"id\":\"e3c3440b-f8eb-4af2-934b-b9724ca94362\",\"type\":\"HBar\"},{\"attributes\":{\"dimension\":1,\"plot\":{\"id\":\"0b0ad177-7913-4477-8b54-64bdaf48b3d5\",\"subtype\":\"Figure\",\"type\":\"Plot\"},\"ticker\":{\"id\":\"41f4eb73-07b9-44d8-a50c-8e58ae9b34dc\",\"type\":\"CategoricalTicker\"}},\"id\":\"62084791-fae4-4fca-a6fa-0c78ee344f8a\",\"type\":\"Grid\"},{\"attributes\":{},\"id\":\"76605d70-7c33-4194-8ed0-45cc18772565\",\"type\":\"SaveTool\"},{\"attributes\":{\"callback\":null,\"factors\":[\"Undergraduate school\",\"Graduate school\",\"Programs or workshops\",\"Art school\",\"Technical or Trade school\",\"Junior High or High school\",\"Elementary school\"]},\"id\":\"3dadf1a1-64cc-43c9-9ca1-467aea1f8f40\",\"type\":\"FactorRange\"},{\"attributes\":{\"callback\":null,\"column_names\":[\"y\",\"x\",\"pct\"],\"data\":{\"pct\":[\"3.86%\",\"1.38%\",\"1.10%\",\"0.84%\",\"0.26%\",\"0.22%\",\"0.02%\"],\"x\":[179,64,51,39,12,10,1],\"y\":[\"Undergraduate school\",\"Graduate school\",\"Programs or workshops\",\"Art school\",\"Technical or Trade school\",\"Junior High or High school\",\"Elementary school\"]}},\"id\":\"31cd2f72-c1f2-4c3f-966c-aa988a5e516a\",\"type\":\"ColumnDataSource\"},{\"attributes\":{},\"id\":\"ed43cf1f-8490-453e-abe0-ebba9e4b73d1\",\"type\":\"ResetTool\"},{\"attributes\":{\"source\":{\"id\":\"31cd2f72-c1f2-4c3f-966c-aa988a5e516a\",\"type\":\"ColumnDataSource\"}},\"id\":\"6050d0b0-b204-4275-8a12-38bbffe7f560\",\"type\":\"CDSView\"},{\"attributes\":{},\"id\":\"b21a993b-d1eb-487b-bbec-d2d00d16a803\",\"type\":\"CategoricalScale\"},{\"attributes\":{\"overlay\":{\"id\":\"1a182bc5-8414-488f-a45e-9f909b534a1e\",\"type\":\"BoxAnnotation\"}},\"id\":\"e1d6d715-39d1-4d43-8940-04ed9a0daded\",\"type\":\"BoxZoomTool\"},{\"attributes\":{},\"id\":\"27d74af1-9bbb-4dde-ac61-b0faebf9016b\",\"type\":\"BasicTicker\"},{\"attributes\":{\"plot\":{\"id\":\"0b0ad177-7913-4477-8b54-64bdaf48b3d5\",\"subtype\":\"Figure\",\"type\":\"Plot\"},\"ticker\":{\"id\":\"27d74af1-9bbb-4dde-ac61-b0faebf9016b\",\"type\":\"BasicTicker\"}},\"id\":\"1bc4a025-1300-4e1d-8e3e-48b314210a14\",\"type\":\"Grid\"},{\"attributes\":{\"axis_label\":\"Categories\",\"formatter\":{\"id\":\"989068d0-971e-4660-bc46-8183c2f761e7\",\"type\":\"CategoricalTickFormatter\"},\"plot\":{\"id\":\"0b0ad177-7913-4477-8b54-64bdaf48b3d5\",\"subtype\":\"Figure\",\"type\":\"Plot\"},\"ticker\":{\"id\":\"41f4eb73-07b9-44d8-a50c-8e58ae9b34dc\",\"type\":\"CategoricalTicker\"}},\"id\":\"c69745fc-1628-44eb-9e57-4038a55da3b6\",\"type\":\"CategoricalAxis\"},{\"attributes\":{},\"id\":\"53509b2d-f947-49cf-97d4-2454c6943ad9\",\"type\":\"WheelZoomTool\"},{\"attributes\":{\"below\":[{\"id\":\"ccee5380-a3e4-4ce4-b2ae-1c567b1f0e56\",\"type\":\"LinearAxis\"}],\"left\":[{\"id\":\"c69745fc-1628-44eb-9e57-4038a55da3b6\",\"type\":\"CategoricalAxis\"}],\"min_border_right\":50,\"output_backend\":\"svg\",\"plot_height\":900,\"plot_width\":1400,\"renderers\":[{\"id\":\"ccee5380-a3e4-4ce4-b2ae-1c567b1f0e56\",\"type\":\"LinearAxis\"},{\"id\":\"1bc4a025-1300-4e1d-8e3e-48b314210a14\",\"type\":\"Grid\"},{\"id\":\"c69745fc-1628-44eb-9e57-4038a55da3b6\",\"type\":\"CategoricalAxis\"},{\"id\":\"62084791-fae4-4fca-a6fa-0c78ee344f8a\",\"type\":\"Grid\"},{\"id\":\"1a182bc5-8414-488f-a45e-9f909b534a1e\",\"type\":\"BoxAnnotation\"},{\"id\":\"8f546135-fd31-4953-968f-2cd6685c44ea\",\"type\":\"GlyphRenderer\"},{\"id\":\"4c5614da-e376-4b1c-8f63-a489c724b578\",\"type\":\"LabelSet\"},{\"id\":\"773f04fd-709f-47e2-b241-90abe4527420\",\"type\":\"LabelSet\"}],\"title\":{\"id\":\"000e386f-3c60-45aa-8eeb-7e30ce3ff2c2\",\"type\":\"Title\"},\"toolbar\":{\"id\":\"1759fd44-baf1-4c03-8086-4ed2b9098d2e\",\"type\":\"Toolbar\"},\"x_range\":{\"id\":\"73749642-6e3b-4f64-95d9-5bdb0eca0bc8\",\"type\":\"Range1d\"},\"x_scale\":{\"id\":\"9ac0a823-39dd-498d-99ea-93fafab054d2\",\"type\":\"LinearScale\"},\"y_range\":{\"id\":\"3dadf1a1-64cc-43c9-9ca1-467aea1f8f40\",\"type\":\"FactorRange\"},\"y_scale\":{\"id\":\"b21a993b-d1eb-487b-bbec-d2d00d16a803\",\"type\":\"CategoricalScale\"}},\"id\":\"0b0ad177-7913-4477-8b54-64bdaf48b3d5\",\"subtype\":\"Figure\",\"type\":\"Plot\"},{\"attributes\":{},\"id\":\"989068d0-971e-4660-bc46-8183c2f761e7\",\"type\":\"CategoricalTickFormatter\"},{\"attributes\":{},\"id\":\"8b4d5875-8826-468a-ae12-641d5112de25\",\"type\":\"HelpTool\"},{\"attributes\":{},\"id\":\"fa38e76c-5396-4f22-b293-9846d90069d2\",\"type\":\"BasicTickFormatter\"},{\"attributes\":{\"active_drag\":\"auto\",\"active_inspect\":\"auto\",\"active_scroll\":\"auto\",\"active_tap\":\"auto\",\"tools\":[{\"id\":\"02860b07-e584-448e-9131-12693aef46ac\",\"type\":\"PanTool\"},{\"id\":\"53509b2d-f947-49cf-97d4-2454c6943ad9\",\"type\":\"WheelZoomTool\"},{\"id\":\"e1d6d715-39d1-4d43-8940-04ed9a0daded\",\"type\":\"BoxZoomTool\"},{\"id\":\"76605d70-7c33-4194-8ed0-45cc18772565\",\"type\":\"SaveTool\"},{\"id\":\"ed43cf1f-8490-453e-abe0-ebba9e4b73d1\",\"type\":\"ResetTool\"},{\"id\":\"8b4d5875-8826-468a-ae12-641d5112de25\",\"type\":\"HelpTool\"}]},\"id\":\"1759fd44-baf1-4c03-8086-4ed2b9098d2e\",\"type\":\"Toolbar\"},{\"attributes\":{\"level\":\"glyph\",\"plot\":{\"id\":\"0b0ad177-7913-4477-8b54-64bdaf48b3d5\",\"subtype\":\"Figure\",\"type\":\"Plot\"},\"source\":{\"id\":\"31cd2f72-c1f2-4c3f-966c-aa988a5e516a\",\"type\":\"ColumnDataSource\"},\"text\":{\"field\":\"pct\"},\"text_font_size\":{\"value\":\"8pt\"},\"x\":{\"field\":\"x\"},\"x_offset\":{\"value\":10},\"y\":{\"field\":\"y\"},\"y_offset\":{\"value\":2}},\"id\":\"4c5614da-e376-4b1c-8f63-a489c724b578\",\"type\":\"LabelSet\"}],\"root_ids\":[\"0b0ad177-7913-4477-8b54-64bdaf48b3d5\"]},\"title\":\"Bokeh Application\",\"version\":\"0.12.13\"}};\n",
              "  var render_items = [{\"docid\":\"8df738bc-f2f9-4bc8-a2c4-0380e08c90f2\",\"elementid\":\"c8f4d092-eeea-4246-8927-57fbdfd17ce0\",\"modelid\":\"0b0ad177-7913-4477-8b54-64bdaf48b3d5\"}];\n",
              "  root.Bokeh.embed.embed_items_notebook(docs_json, render_items);\n",
              "\n",
              "  }\n",
              "  if (root.Bokeh !== undefined) {\n",
              "    embed_document(root);\n",
              "  } else {\n",
              "    var attempts = 0;\n",
              "    var timer = setInterval(function(root) {\n",
              "      if (root.Bokeh !== undefined) {\n",
              "        embed_document(root);\n",
              "        clearInterval(timer);\n",
              "      }\n",
              "      attempts++;\n",
              "      if (attempts > 100) {\n",
              "        console.log(\"Bokeh: ERROR: Unable to run BokehJS code because BokehJS library is missing\")\n",
              "        clearInterval(timer);\n",
              "      }\n",
              "    }, 10, root)\n",
              "  }\n",
              "})(window);"
            ],
            "application/vnd.bokehjs_exec.v0+json": ""
          },
          "metadata": {
            "application/vnd.bokehjs_exec.v0+json": {
              "id": "0b0ad177-7913-4477-8b54-64bdaf48b3d5"
            }
          }
        },
        {
          "output_type": "display_data",
          "data": {
            "text/html": [
              "\n",
              "<div class=\"bk-root\">\n",
              "    <div class=\"bk-plotdiv\" id=\"dea7f8ab-23f6-455b-8f4c-4107d38b1ebc\"></div>\n",
              "</div>"
            ]
          },
          "metadata": {}
        },
        {
          "output_type": "display_data",
          "data": {
            "application/javascript": [
              "(function(root) {\n",
              "  function embed_document(root) {\n",
              "    \n",
              "  var docs_json = {\"951b5916-e6d2-429e-ba4b-79af5072fd51\":{\"roots\":{\"references\":[{\"attributes\":{\"axis_label\":\"Respondents\",\"formatter\":{\"id\":\"0fad0ee9-826b-4394-aff4-e81ef95b8bbb\",\"type\":\"BasicTickFormatter\"},\"plot\":{\"id\":\"26879c4d-f0a0-4171-9b4e-f532f50599d9\",\"subtype\":\"Figure\",\"type\":\"Plot\"},\"ticker\":{\"id\":\"d1a5c88f-6845-427d-b17c-018c1efcfc4c\",\"type\":\"BasicTicker\"}},\"id\":\"ed50b7db-41b6-4984-b819-699c150a2b6c\",\"type\":\"LinearAxis\"},{\"attributes\":{},\"id\":\"61f13c3e-dff0-4c70-a934-0af0ef2592be\",\"type\":\"LinearScale\"},{\"attributes\":{},\"id\":\"1a220e6f-6e37-411f-a420-7b0864b0f916\",\"type\":\"CategoricalScale\"},{\"attributes\":{},\"id\":\"0fad0ee9-826b-4394-aff4-e81ef95b8bbb\",\"type\":\"BasicTickFormatter\"},{\"attributes\":{\"callback\":null,\"factors\":[\"1-10 employees\",\"1000+ employees\",\"11-50 employees\",\"101-250 employees\",\"51-100 employees\",\"251-500 employees\",\"501-1000 employees\",\"Not sure\"]},\"id\":\"af93389d-ea52-49c1-9273-2c8cd2f55e16\",\"type\":\"FactorRange\"},{\"attributes\":{\"plot\":null,\"text\":\"AIGA-Only: My organization has:\"},\"id\":\"c17f88b5-0f6a-474e-92d0-df02fcf2be26\",\"type\":\"Title\"},{\"attributes\":{},\"id\":\"a2f01abb-578f-4a64-a86f-72dd0b3f4f89\",\"type\":\"SaveTool\"},{\"attributes\":{\"source\":{\"id\":\"f6a0effc-80ef-4024-b6e4-bce9da6c76ce\",\"type\":\"ColumnDataSource\"}},\"id\":\"cff72a46-eb26-4099-98d0-44d9b9f33b1e\",\"type\":\"CDSView\"},{\"attributes\":{},\"id\":\"6f76f617-1a6d-4cf1-818c-2ac464f3b95e\",\"type\":\"WheelZoomTool\"},{\"attributes\":{\"axis_label\":\"Categories\",\"formatter\":{\"id\":\"2b994cf0-b959-4fba-9b6f-30475c752d82\",\"type\":\"CategoricalTickFormatter\"},\"plot\":{\"id\":\"26879c4d-f0a0-4171-9b4e-f532f50599d9\",\"subtype\":\"Figure\",\"type\":\"Plot\"},\"ticker\":{\"id\":\"3596f3b6-53b9-4c9e-b552-85fdad2de830\",\"type\":\"CategoricalTicker\"}},\"id\":\"6dba6bf4-cfa0-4884-9a26-273305cff0bf\",\"type\":\"CategoricalAxis\"},{\"attributes\":{\"fill_alpha\":{\"value\":0.1},\"fill_color\":{\"value\":\"#1f77b4\"},\"height\":{\"value\":0.75},\"line_alpha\":{\"value\":0.1},\"line_color\":{\"value\":\"#1f77b4\"},\"right\":{\"field\":\"x\"},\"y\":{\"field\":\"y\"}},\"id\":\"52414458-1dff-4345-9ee8-4537570e75bf\",\"type\":\"HBar\"},{\"attributes\":{\"active_drag\":\"auto\",\"active_inspect\":\"auto\",\"active_scroll\":\"auto\",\"active_tap\":\"auto\",\"tools\":[{\"id\":\"b61aa4dc-5758-4ee3-9c7d-62f08c1a0732\",\"type\":\"PanTool\"},{\"id\":\"6f76f617-1a6d-4cf1-818c-2ac464f3b95e\",\"type\":\"WheelZoomTool\"},{\"id\":\"6bd5698f-9288-4fe7-b412-d438954e0571\",\"type\":\"BoxZoomTool\"},{\"id\":\"a2f01abb-578f-4a64-a86f-72dd0b3f4f89\",\"type\":\"SaveTool\"},{\"id\":\"90b2a235-0743-4128-83df-d5ae3d86a768\",\"type\":\"ResetTool\"},{\"id\":\"513124f0-5b8a-4b77-be7d-a49cfd583ae8\",\"type\":\"HelpTool\"}]},\"id\":\"e9da7526-5fbd-4c4c-b395-edb6b182f5e4\",\"type\":\"Toolbar\"},{\"attributes\":{\"data_source\":{\"id\":\"f6a0effc-80ef-4024-b6e4-bce9da6c76ce\",\"type\":\"ColumnDataSource\"},\"glyph\":{\"id\":\"5a918b04-b2d2-457b-ac00-0f27500e71da\",\"type\":\"HBar\"},\"hover_glyph\":null,\"muted_glyph\":null,\"nonselection_glyph\":{\"id\":\"52414458-1dff-4345-9ee8-4537570e75bf\",\"type\":\"HBar\"},\"selection_glyph\":null,\"view\":{\"id\":\"cff72a46-eb26-4099-98d0-44d9b9f33b1e\",\"type\":\"CDSView\"}},\"id\":\"24d7452a-64cb-45ad-a77a-88e53d28c415\",\"type\":\"GlyphRenderer\"},{\"attributes\":{\"overlay\":{\"id\":\"142e041c-764a-49d0-8082-838dfaa73e41\",\"type\":\"BoxAnnotation\"}},\"id\":\"6bd5698f-9288-4fe7-b412-d438954e0571\",\"type\":\"BoxZoomTool\"},{\"attributes\":{\"fill_color\":{\"value\":\"#1f77b4\"},\"height\":{\"value\":0.75},\"line_color\":{\"value\":\"#1f77b4\"},\"right\":{\"field\":\"x\"},\"y\":{\"field\":\"y\"}},\"id\":\"5a918b04-b2d2-457b-ac00-0f27500e71da\",\"type\":\"HBar\"},{\"attributes\":{},\"id\":\"3596f3b6-53b9-4c9e-b552-85fdad2de830\",\"type\":\"CategoricalTicker\"},{\"attributes\":{},\"id\":\"d1a5c88f-6845-427d-b17c-018c1efcfc4c\",\"type\":\"BasicTicker\"},{\"attributes\":{\"level\":\"glyph\",\"plot\":{\"id\":\"26879c4d-f0a0-4171-9b4e-f532f50599d9\",\"subtype\":\"Figure\",\"type\":\"Plot\"},\"source\":{\"id\":\"f6a0effc-80ef-4024-b6e4-bce9da6c76ce\",\"type\":\"ColumnDataSource\"},\"text\":{\"field\":\"pct\"},\"text_font_size\":{\"value\":\"8pt\"},\"x\":{\"field\":\"x\"},\"x_offset\":{\"value\":10},\"y\":{\"field\":\"y\"},\"y_offset\":{\"value\":2}},\"id\":\"21cbc66a-6004-4c62-88f6-22352424dce2\",\"type\":\"LabelSet\"},{\"attributes\":{\"plot\":{\"id\":\"26879c4d-f0a0-4171-9b4e-f532f50599d9\",\"subtype\":\"Figure\",\"type\":\"Plot\"},\"ticker\":{\"id\":\"d1a5c88f-6845-427d-b17c-018c1efcfc4c\",\"type\":\"BasicTicker\"}},\"id\":\"2cdc11b8-70b6-47b4-9eda-1734382a153b\",\"type\":\"Grid\"},{\"attributes\":{\"level\":\"glyph\",\"plot\":{\"id\":\"26879c4d-f0a0-4171-9b4e-f532f50599d9\",\"subtype\":\"Figure\",\"type\":\"Plot\"},\"source\":{\"id\":\"f6a0effc-80ef-4024-b6e4-bce9da6c76ce\",\"type\":\"ColumnDataSource\"},\"text\":{\"field\":\"x\"},\"text_font_size\":{\"value\":\"8pt\"},\"x\":{\"field\":\"x\"},\"x_offset\":{\"value\":10},\"y\":{\"field\":\"y\"},\"y_offset\":{\"value\":-12}},\"id\":\"fb03c401-4304-4194-b829-31691bd18f62\",\"type\":\"LabelSet\"},{\"attributes\":{\"callback\":null,\"column_names\":[\"y\",\"x\",\"pct\"],\"data\":{\"pct\":[\"25.57%\",\"22.77%\",\"18.95%\",\"8.97%\",\"8.21%\",\"7.12%\",\"6.19%\",\"2.16%\"],\"x\":[1186,1056,879,416,381,330,287,100],\"y\":[\"1-10 employees\",\"1000+ employees\",\"11-50 employees\",\"101-250 employees\",\"51-100 employees\",\"251-500 employees\",\"501-1000 employees\",\"Not sure\"]}},\"id\":\"f6a0effc-80ef-4024-b6e4-bce9da6c76ce\",\"type\":\"ColumnDataSource\"},{\"attributes\":{\"below\":[{\"id\":\"ed50b7db-41b6-4984-b819-699c150a2b6c\",\"type\":\"LinearAxis\"}],\"left\":[{\"id\":\"6dba6bf4-cfa0-4884-9a26-273305cff0bf\",\"type\":\"CategoricalAxis\"}],\"min_border_right\":50,\"output_backend\":\"svg\",\"plot_height\":900,\"plot_width\":1400,\"renderers\":[{\"id\":\"ed50b7db-41b6-4984-b819-699c150a2b6c\",\"type\":\"LinearAxis\"},{\"id\":\"2cdc11b8-70b6-47b4-9eda-1734382a153b\",\"type\":\"Grid\"},{\"id\":\"6dba6bf4-cfa0-4884-9a26-273305cff0bf\",\"type\":\"CategoricalAxis\"},{\"id\":\"9b11e5cd-22ba-4036-9a3a-6033343c400d\",\"type\":\"Grid\"},{\"id\":\"142e041c-764a-49d0-8082-838dfaa73e41\",\"type\":\"BoxAnnotation\"},{\"id\":\"24d7452a-64cb-45ad-a77a-88e53d28c415\",\"type\":\"GlyphRenderer\"},{\"id\":\"21cbc66a-6004-4c62-88f6-22352424dce2\",\"type\":\"LabelSet\"},{\"id\":\"fb03c401-4304-4194-b829-31691bd18f62\",\"type\":\"LabelSet\"}],\"title\":{\"id\":\"c17f88b5-0f6a-474e-92d0-df02fcf2be26\",\"type\":\"Title\"},\"toolbar\":{\"id\":\"e9da7526-5fbd-4c4c-b395-edb6b182f5e4\",\"type\":\"Toolbar\"},\"x_range\":{\"id\":\"e8253fc0-9313-4b0b-9371-b7b5dbb82255\",\"type\":\"Range1d\"},\"x_scale\":{\"id\":\"61f13c3e-dff0-4c70-a934-0af0ef2592be\",\"type\":\"LinearScale\"},\"y_range\":{\"id\":\"af93389d-ea52-49c1-9273-2c8cd2f55e16\",\"type\":\"FactorRange\"},\"y_scale\":{\"id\":\"1a220e6f-6e37-411f-a420-7b0864b0f916\",\"type\":\"CategoricalScale\"}},\"id\":\"26879c4d-f0a0-4171-9b4e-f532f50599d9\",\"subtype\":\"Figure\",\"type\":\"Plot\"},{\"attributes\":{},\"id\":\"90b2a235-0743-4128-83df-d5ae3d86a768\",\"type\":\"ResetTool\"},{\"attributes\":{\"bottom_units\":\"screen\",\"fill_alpha\":{\"value\":0.5},\"fill_color\":{\"value\":\"lightgrey\"},\"left_units\":\"screen\",\"level\":\"overlay\",\"line_alpha\":{\"value\":1.0},\"line_color\":{\"value\":\"black\"},\"line_dash\":[4,4],\"line_width\":{\"value\":2},\"plot\":null,\"render_mode\":\"css\",\"right_units\":\"screen\",\"top_units\":\"screen\"},\"id\":\"142e041c-764a-49d0-8082-838dfaa73e41\",\"type\":\"BoxAnnotation\"},{\"attributes\":{\"dimension\":1,\"plot\":{\"id\":\"26879c4d-f0a0-4171-9b4e-f532f50599d9\",\"subtype\":\"Figure\",\"type\":\"Plot\"},\"ticker\":{\"id\":\"3596f3b6-53b9-4c9e-b552-85fdad2de830\",\"type\":\"CategoricalTicker\"}},\"id\":\"9b11e5cd-22ba-4036-9a3a-6033343c400d\",\"type\":\"Grid\"},{\"attributes\":{},\"id\":\"513124f0-5b8a-4b77-be7d-a49cfd583ae8\",\"type\":\"HelpTool\"},{\"attributes\":{\"callback\":null,\"end\":1483.2},\"id\":\"e8253fc0-9313-4b0b-9371-b7b5dbb82255\",\"type\":\"Range1d\"},{\"attributes\":{},\"id\":\"2b994cf0-b959-4fba-9b6f-30475c752d82\",\"type\":\"CategoricalTickFormatter\"},{\"attributes\":{},\"id\":\"b61aa4dc-5758-4ee3-9c7d-62f08c1a0732\",\"type\":\"PanTool\"}],\"root_ids\":[\"26879c4d-f0a0-4171-9b4e-f532f50599d9\"]},\"title\":\"Bokeh Application\",\"version\":\"0.12.13\"}};\n",
              "  var render_items = [{\"docid\":\"951b5916-e6d2-429e-ba4b-79af5072fd51\",\"elementid\":\"dea7f8ab-23f6-455b-8f4c-4107d38b1ebc\",\"modelid\":\"26879c4d-f0a0-4171-9b4e-f532f50599d9\"}];\n",
              "  root.Bokeh.embed.embed_items_notebook(docs_json, render_items);\n",
              "\n",
              "  }\n",
              "  if (root.Bokeh !== undefined) {\n",
              "    embed_document(root);\n",
              "  } else {\n",
              "    var attempts = 0;\n",
              "    var timer = setInterval(function(root) {\n",
              "      if (root.Bokeh !== undefined) {\n",
              "        embed_document(root);\n",
              "        clearInterval(timer);\n",
              "      }\n",
              "      attempts++;\n",
              "      if (attempts > 100) {\n",
              "        console.log(\"Bokeh: ERROR: Unable to run BokehJS code because BokehJS library is missing\")\n",
              "        clearInterval(timer);\n",
              "      }\n",
              "    }, 10, root)\n",
              "  }\n",
              "})(window);"
            ],
            "application/vnd.bokehjs_exec.v0+json": ""
          },
          "metadata": {
            "application/vnd.bokehjs_exec.v0+json": {
              "id": "26879c4d-f0a0-4171-9b4e-f532f50599d9"
            }
          }
        },
        {
          "output_type": "display_data",
          "data": {
            "text/html": [
              "\n",
              "<div class=\"bk-root\">\n",
              "    <div class=\"bk-plotdiv\" id=\"258035cc-8e89-4c6a-a7f0-5ffb94dd5e2e\"></div>\n",
              "</div>"
            ]
          },
          "metadata": {}
        },
        {
          "output_type": "display_data",
          "data": {
            "application/javascript": [
              "(function(root) {\n",
              "  function embed_document(root) {\n",
              "    \n",
              "  var docs_json = {\"1af9918d-b535-4225-a3ef-4b8c4c783a1d\":{\"roots\":{\"references\":[{\"attributes\":{\"overlay\":{\"id\":\"53c1367a-bad4-4a9c-a01a-77eb9852252b\",\"type\":\"BoxAnnotation\"}},\"id\":\"2e4d1c84-6510-4612-a295-9236c01025bc\",\"type\":\"BoxZoomTool\"},{\"attributes\":{\"below\":[{\"id\":\"24159a73-17b0-4b59-a470-e4053727b37f\",\"type\":\"LinearAxis\"}],\"left\":[{\"id\":\"ad0e4712-12af-4a75-afac-79db5ded371f\",\"type\":\"CategoricalAxis\"}],\"min_border_right\":50,\"output_backend\":\"svg\",\"plot_height\":900,\"plot_width\":1400,\"renderers\":[{\"id\":\"24159a73-17b0-4b59-a470-e4053727b37f\",\"type\":\"LinearAxis\"},{\"id\":\"7925f8e3-c7b9-449a-8c91-11195f37bac0\",\"type\":\"Grid\"},{\"id\":\"ad0e4712-12af-4a75-afac-79db5ded371f\",\"type\":\"CategoricalAxis\"},{\"id\":\"c7034625-d933-4ffc-a50a-a19110ee5633\",\"type\":\"Grid\"},{\"id\":\"53c1367a-bad4-4a9c-a01a-77eb9852252b\",\"type\":\"BoxAnnotation\"},{\"id\":\"803e6dc1-7b5b-4dee-aa64-8a4eb5399c86\",\"type\":\"GlyphRenderer\"},{\"id\":\"31ceaade-692e-4d54-92e0-831c7254555d\",\"type\":\"LabelSet\"},{\"id\":\"0a10805b-9035-47ce-83ec-0bd60a465e4c\",\"type\":\"LabelSet\"}],\"title\":{\"id\":\"fd44f17b-6e2c-4480-b306-54d929e228a8\",\"type\":\"Title\"},\"toolbar\":{\"id\":\"175ba119-fe04-4aa6-b782-3fe67016b365\",\"type\":\"Toolbar\"},\"x_range\":{\"id\":\"a9a6ac69-9122-47b3-84a8-d109fd146517\",\"type\":\"Range1d\"},\"x_scale\":{\"id\":\"7fc2dd15-21d7-4490-8ea5-0d5e46a9a463\",\"type\":\"LinearScale\"},\"y_range\":{\"id\":\"638917a8-b3cf-44c3-b207-2530547792bc\",\"type\":\"FactorRange\"},\"y_scale\":{\"id\":\"55a45c2d-15ca-43ff-88e2-466b4fb235a2\",\"type\":\"CategoricalScale\"}},\"id\":\"28c408c4-a3e6-4f82-bd7a-a9e368cdb631\",\"subtype\":\"Figure\",\"type\":\"Plot\"},{\"attributes\":{},\"id\":\"8109c11f-ee86-4ae1-9671-7386cec82782\",\"type\":\"PanTool\"},{\"attributes\":{\"fill_color\":{\"value\":\"#1f77b4\"},\"height\":{\"value\":0.75},\"line_color\":{\"value\":\"#1f77b4\"},\"right\":{\"field\":\"x\"},\"y\":{\"field\":\"y\"}},\"id\":\"72914ae3-ff9a-43ca-bd54-ada30b393014\",\"type\":\"HBar\"},{\"attributes\":{\"fill_alpha\":{\"value\":0.1},\"fill_color\":{\"value\":\"#1f77b4\"},\"height\":{\"value\":0.75},\"line_alpha\":{\"value\":0.1},\"line_color\":{\"value\":\"#1f77b4\"},\"right\":{\"field\":\"x\"},\"y\":{\"field\":\"y\"}},\"id\":\"4d794a16-e41a-49e6-be6e-365828e1878b\",\"type\":\"HBar\"},{\"attributes\":{},\"id\":\"464317a4-097b-498b-97c3-040212c04d4b\",\"type\":\"WheelZoomTool\"},{\"attributes\":{\"source\":{\"id\":\"af552aab-3d3a-4f68-a3a6-18a30d00d313\",\"type\":\"ColumnDataSource\"}},\"id\":\"2912aa81-177d-4edb-90a8-34327f9d2c05\",\"type\":\"CDSView\"},{\"attributes\":{\"plot\":{\"id\":\"28c408c4-a3e6-4f82-bd7a-a9e368cdb631\",\"subtype\":\"Figure\",\"type\":\"Plot\"},\"ticker\":{\"id\":\"c26ddb09-df14-4b9f-9f43-3878a725be17\",\"type\":\"BasicTicker\"}},\"id\":\"7925f8e3-c7b9-449a-8c91-11195f37bac0\",\"type\":\"Grid\"},{\"attributes\":{\"callback\":null,\"end\":2206.8},\"id\":\"a9a6ac69-9122-47b3-84a8-d109fd146517\",\"type\":\"Range1d\"},{\"attributes\":{\"level\":\"glyph\",\"plot\":{\"id\":\"28c408c4-a3e6-4f82-bd7a-a9e368cdb631\",\"subtype\":\"Figure\",\"type\":\"Plot\"},\"source\":{\"id\":\"af552aab-3d3a-4f68-a3a6-18a30d00d313\",\"type\":\"ColumnDataSource\"},\"text\":{\"field\":\"pct\"},\"text_font_size\":{\"value\":\"8pt\"},\"x\":{\"field\":\"x\"},\"x_offset\":{\"value\":10},\"y\":{\"field\":\"y\"},\"y_offset\":{\"value\":2}},\"id\":\"31ceaade-692e-4d54-92e0-831c7254555d\",\"type\":\"LabelSet\"},{\"attributes\":{\"plot\":null,\"text\":\"AIGA-Only: My immediate team is:\"},\"id\":\"fd44f17b-6e2c-4480-b306-54d929e228a8\",\"type\":\"Title\"},{\"attributes\":{\"data_source\":{\"id\":\"af552aab-3d3a-4f68-a3a6-18a30d00d313\",\"type\":\"ColumnDataSource\"},\"glyph\":{\"id\":\"72914ae3-ff9a-43ca-bd54-ada30b393014\",\"type\":\"HBar\"},\"hover_glyph\":null,\"muted_glyph\":null,\"nonselection_glyph\":{\"id\":\"4d794a16-e41a-49e6-be6e-365828e1878b\",\"type\":\"HBar\"},\"selection_glyph\":null,\"view\":{\"id\":\"2912aa81-177d-4edb-90a8-34327f9d2c05\",\"type\":\"CDSView\"}},\"id\":\"803e6dc1-7b5b-4dee-aa64-8a4eb5399c86\",\"type\":\"GlyphRenderer\"},{\"attributes\":{\"callback\":null,\"factors\":[\"2-4 people\",\"5-10 people\",\"Just me\",\"11-20 people\",\"20+ people\"]},\"id\":\"638917a8-b3cf-44c3-b207-2530547792bc\",\"type\":\"FactorRange\"},{\"attributes\":{\"active_drag\":\"auto\",\"active_inspect\":\"auto\",\"active_scroll\":\"auto\",\"active_tap\":\"auto\",\"tools\":[{\"id\":\"8109c11f-ee86-4ae1-9671-7386cec82782\",\"type\":\"PanTool\"},{\"id\":\"464317a4-097b-498b-97c3-040212c04d4b\",\"type\":\"WheelZoomTool\"},{\"id\":\"2e4d1c84-6510-4612-a295-9236c01025bc\",\"type\":\"BoxZoomTool\"},{\"id\":\"7122d14a-ec7f-4462-8179-bf51f35c116a\",\"type\":\"SaveTool\"},{\"id\":\"52346e0f-a68c-47b9-b876-edea1b539e19\",\"type\":\"ResetTool\"},{\"id\":\"d79667f4-7a0d-4356-83d6-e2dad89c56c6\",\"type\":\"HelpTool\"}]},\"id\":\"175ba119-fe04-4aa6-b782-3fe67016b365\",\"type\":\"Toolbar\"},{\"attributes\":{\"callback\":null,\"column_names\":[\"y\",\"x\",\"pct\"],\"data\":{\"pct\":[\"38.57%\",\"30.72%\",\"17.98%\",\"8.90%\",\"3.75%\"],\"x\":[1789,1425,834,413,174],\"y\":[\"2-4 people\",\"5-10 people\",\"Just me\",\"11-20 people\",\"20+ people\"]}},\"id\":\"af552aab-3d3a-4f68-a3a6-18a30d00d313\",\"type\":\"ColumnDataSource\"},{\"attributes\":{},\"id\":\"c26ddb09-df14-4b9f-9f43-3878a725be17\",\"type\":\"BasicTicker\"},{\"attributes\":{\"dimension\":1,\"plot\":{\"id\":\"28c408c4-a3e6-4f82-bd7a-a9e368cdb631\",\"subtype\":\"Figure\",\"type\":\"Plot\"},\"ticker\":{\"id\":\"8652eb68-291a-4c36-b08a-9ac6800d41a5\",\"type\":\"CategoricalTicker\"}},\"id\":\"c7034625-d933-4ffc-a50a-a19110ee5633\",\"type\":\"Grid\"},{\"attributes\":{\"axis_label\":\"Categories\",\"formatter\":{\"id\":\"789430f1-408d-4947-9e1a-60de432f6136\",\"type\":\"CategoricalTickFormatter\"},\"plot\":{\"id\":\"28c408c4-a3e6-4f82-bd7a-a9e368cdb631\",\"subtype\":\"Figure\",\"type\":\"Plot\"},\"ticker\":{\"id\":\"8652eb68-291a-4c36-b08a-9ac6800d41a5\",\"type\":\"CategoricalTicker\"}},\"id\":\"ad0e4712-12af-4a75-afac-79db5ded371f\",\"type\":\"CategoricalAxis\"},{\"attributes\":{\"axis_label\":\"Respondents\",\"formatter\":{\"id\":\"33d32112-3513-458f-8903-15ff7fb9e267\",\"type\":\"BasicTickFormatter\"},\"plot\":{\"id\":\"28c408c4-a3e6-4f82-bd7a-a9e368cdb631\",\"subtype\":\"Figure\",\"type\":\"Plot\"},\"ticker\":{\"id\":\"c26ddb09-df14-4b9f-9f43-3878a725be17\",\"type\":\"BasicTicker\"}},\"id\":\"24159a73-17b0-4b59-a470-e4053727b37f\",\"type\":\"LinearAxis\"},{\"attributes\":{},\"id\":\"52346e0f-a68c-47b9-b876-edea1b539e19\",\"type\":\"ResetTool\"},{\"attributes\":{},\"id\":\"33d32112-3513-458f-8903-15ff7fb9e267\",\"type\":\"BasicTickFormatter\"},{\"attributes\":{},\"id\":\"d79667f4-7a0d-4356-83d6-e2dad89c56c6\",\"type\":\"HelpTool\"},{\"attributes\":{},\"id\":\"55a45c2d-15ca-43ff-88e2-466b4fb235a2\",\"type\":\"CategoricalScale\"},{\"attributes\":{\"level\":\"glyph\",\"plot\":{\"id\":\"28c408c4-a3e6-4f82-bd7a-a9e368cdb631\",\"subtype\":\"Figure\",\"type\":\"Plot\"},\"source\":{\"id\":\"af552aab-3d3a-4f68-a3a6-18a30d00d313\",\"type\":\"ColumnDataSource\"},\"text\":{\"field\":\"x\"},\"text_font_size\":{\"value\":\"8pt\"},\"x\":{\"field\":\"x\"},\"x_offset\":{\"value\":10},\"y\":{\"field\":\"y\"},\"y_offset\":{\"value\":-12}},\"id\":\"0a10805b-9035-47ce-83ec-0bd60a465e4c\",\"type\":\"LabelSet\"},{\"attributes\":{},\"id\":\"789430f1-408d-4947-9e1a-60de432f6136\",\"type\":\"CategoricalTickFormatter\"},{\"attributes\":{},\"id\":\"8652eb68-291a-4c36-b08a-9ac6800d41a5\",\"type\":\"CategoricalTicker\"},{\"attributes\":{},\"id\":\"7fc2dd15-21d7-4490-8ea5-0d5e46a9a463\",\"type\":\"LinearScale\"},{\"attributes\":{\"bottom_units\":\"screen\",\"fill_alpha\":{\"value\":0.5},\"fill_color\":{\"value\":\"lightgrey\"},\"left_units\":\"screen\",\"level\":\"overlay\",\"line_alpha\":{\"value\":1.0},\"line_color\":{\"value\":\"black\"},\"line_dash\":[4,4],\"line_width\":{\"value\":2},\"plot\":null,\"render_mode\":\"css\",\"right_units\":\"screen\",\"top_units\":\"screen\"},\"id\":\"53c1367a-bad4-4a9c-a01a-77eb9852252b\",\"type\":\"BoxAnnotation\"},{\"attributes\":{},\"id\":\"7122d14a-ec7f-4462-8179-bf51f35c116a\",\"type\":\"SaveTool\"}],\"root_ids\":[\"28c408c4-a3e6-4f82-bd7a-a9e368cdb631\"]},\"title\":\"Bokeh Application\",\"version\":\"0.12.13\"}};\n",
              "  var render_items = [{\"docid\":\"1af9918d-b535-4225-a3ef-4b8c4c783a1d\",\"elementid\":\"258035cc-8e89-4c6a-a7f0-5ffb94dd5e2e\",\"modelid\":\"28c408c4-a3e6-4f82-bd7a-a9e368cdb631\"}];\n",
              "  root.Bokeh.embed.embed_items_notebook(docs_json, render_items);\n",
              "\n",
              "  }\n",
              "  if (root.Bokeh !== undefined) {\n",
              "    embed_document(root);\n",
              "  } else {\n",
              "    var attempts = 0;\n",
              "    var timer = setInterval(function(root) {\n",
              "      if (root.Bokeh !== undefined) {\n",
              "        embed_document(root);\n",
              "        clearInterval(timer);\n",
              "      }\n",
              "      attempts++;\n",
              "      if (attempts > 100) {\n",
              "        console.log(\"Bokeh: ERROR: Unable to run BokehJS code because BokehJS library is missing\")\n",
              "        clearInterval(timer);\n",
              "      }\n",
              "    }, 10, root)\n",
              "  }\n",
              "})(window);"
            ],
            "application/vnd.bokehjs_exec.v0+json": ""
          },
          "metadata": {
            "application/vnd.bokehjs_exec.v0+json": {
              "id": "28c408c4-a3e6-4f82-bd7a-a9e368cdb631"
            }
          }
        },
        {
          "output_type": "display_data",
          "data": {
            "text/html": [
              "\n",
              "<div class=\"bk-root\">\n",
              "    <div class=\"bk-plotdiv\" id=\"2abe95f7-8851-4979-9d73-ab1d3e6cf980\"></div>\n",
              "</div>"
            ]
          },
          "metadata": {}
        },
        {
          "output_type": "display_data",
          "data": {
            "application/javascript": [
              "(function(root) {\n",
              "  function embed_document(root) {\n",
              "    \n",
              "  var docs_json = {\"7e7b196d-bfc5-4d20-b38d-f508e3ec28ae\":{\"roots\":{\"references\":[{\"attributes\":{},\"id\":\"a09a3a7f-dd7a-4d96-b17b-523ccbbecdf5\",\"type\":\"SaveTool\"},{\"attributes\":{\"axis_label\":\"Categories\",\"formatter\":{\"id\":\"62a8afc9-5097-4c88-b0cd-58ffa43d1aaf\",\"type\":\"CategoricalTickFormatter\"},\"plot\":{\"id\":\"c5aaf3f9-0350-4a2c-8121-9cfe8c750e96\",\"subtype\":\"Figure\",\"type\":\"Plot\"},\"ticker\":{\"id\":\"f5aa4844-246f-431b-8769-a0f32927fc89\",\"type\":\"CategoricalTicker\"}},\"id\":\"8adaec8d-a9ed-4eb6-bd3a-4fb1102bfe4d\",\"type\":\"CategoricalAxis\"},{\"attributes\":{\"active_drag\":\"auto\",\"active_inspect\":\"auto\",\"active_scroll\":\"auto\",\"active_tap\":\"auto\",\"tools\":[{\"id\":\"84af7462-6ce4-493e-a0b1-703327f32568\",\"type\":\"PanTool\"},{\"id\":\"b78cc61e-e036-48dd-9c0f-c1f9913f88b9\",\"type\":\"WheelZoomTool\"},{\"id\":\"5233b99e-fe16-4fa4-bf4d-c8c46e8692a0\",\"type\":\"BoxZoomTool\"},{\"id\":\"a09a3a7f-dd7a-4d96-b17b-523ccbbecdf5\",\"type\":\"SaveTool\"},{\"id\":\"cecf0fb0-2403-4aff-8ed3-b13eb8a9648b\",\"type\":\"ResetTool\"},{\"id\":\"64d4b281-3741-4aba-9cc1-111254cab18c\",\"type\":\"HelpTool\"}]},\"id\":\"7468264e-08ac-4398-a479-de105aff4f94\",\"type\":\"Toolbar\"},{\"attributes\":{\"plot\":{\"id\":\"c5aaf3f9-0350-4a2c-8121-9cfe8c750e96\",\"subtype\":\"Figure\",\"type\":\"Plot\"},\"ticker\":{\"id\":\"fd16431e-0bf5-42ab-9172-dcb0b98c64d6\",\"type\":\"BasicTicker\"}},\"id\":\"74a48597-4e0c-45be-86f4-54ee8ae1722a\",\"type\":\"Grid\"},{\"attributes\":{},\"id\":\"c29b3e58-d5e4-40cb-ab96-8ef4d00fc7d5\",\"type\":\"CategoricalScale\"},{\"attributes\":{\"axis_label\":\"Respondents\",\"formatter\":{\"id\":\"6596b505-c212-47f9-a609-a88acfc6f324\",\"type\":\"BasicTickFormatter\"},\"plot\":{\"id\":\"c5aaf3f9-0350-4a2c-8121-9cfe8c750e96\",\"subtype\":\"Figure\",\"type\":\"Plot\"},\"ticker\":{\"id\":\"fd16431e-0bf5-42ab-9172-dcb0b98c64d6\",\"type\":\"BasicTicker\"}},\"id\":\"365f00e5-614e-493a-8c58-6af8fff2462c\",\"type\":\"LinearAxis\"},{\"attributes\":{\"callback\":null,\"column_names\":[\"y\",\"x\",\"pct\"],\"data\":{\"pct\":[\"50.11%\",\"44.42%\",\"37.99%\",\"32.02%\",\"30.64%\",\"30.40%\",\"28.03%\",\"26.20%\",\"24.95%\",\"24.26%\",\"22.01%\",\"19.84%\",\"19.19%\",\"17.83%\",\"17.66%\",\"17.34%\",\"16.80%\",\"16.02%\",\"15.98%\",\"15.20%\",\"14.79%\",\"14.77%\",\"14.66%\",\"14.27%\",\"14.14%\",\"13.58%\",\"11.86%\",\"10.82%\",\"10.50%\",\"10.41%\",\"10.16%\",\"10.03%\",\"9.68%\",\"9.16%\",\"9.10%\",\"9.08%\",\"8.69%\",\"7.85%\",\"7.83%\",\"7.20%\",\"7.09%\",\"6.94%\",\"6.43%\",\"6.32%\",\"6.02%\",\"5.78%\",\"4.51%\",\"4.38%\",\"4.29%\",\"1.62%\"],\"x\":[2324,2060,1762,1485,1421,1410,1300,1215,1157,1125,1021,920,890,827,819,804,779,743,741,705,686,685,680,662,656,630,550,502,487,483,471,465,449,425,422,421,403,364,363,334,329,322,298,293,279,268,209,203,199,75],\"y\":[\"Marketing and Communications\",\"Advertising\",\"Education\",\"Arts\",\"Health Care\",\"Technology\",\"Retail\",\"Web Services\",\"Food and Beverage\",\"Consumer Products\",\"Entertainment\",\"Government\",\"Financial Services\",\"Media and Broadcasting\",\"Hospitality\",\"Consulting\",\"Apparel and Accessories\",\"Travel and Tourism\",\"Information Technology\",\"Banking\",\"Sports and Fitness\",\"Architecture\",\"Publishing\",\"Real Estate\",\"Computers\",\"Construction\",\"Manufacturing\",\"Transportation\",\"Energy\",\"Music\",\"Electronics\",\"Automotive\",\"Pharmaceutical\",\"Insurance\",\"Telecommunications\",\"Legal\",\"Agriculture\",\"Accounting\",\"Medical Equipment\",\"Biotechnology\",\"Industrial Goods\",\"Utilities\",\"Information Sciences\",\"Alcohol or Tobacco\",\"Gaming\",\"Air Transportation\",\"Aerospace\",\"Shipping\",\"Chemical\",\"Mining\"]}},\"id\":\"4e95d716-e1db-4fd1-aaec-81e6456ba265\",\"type\":\"ColumnDataSource\"},{\"attributes\":{\"bottom_units\":\"screen\",\"fill_alpha\":{\"value\":0.5},\"fill_color\":{\"value\":\"lightgrey\"},\"left_units\":\"screen\",\"level\":\"overlay\",\"line_alpha\":{\"value\":1.0},\"line_color\":{\"value\":\"black\"},\"line_dash\":[4,4],\"line_width\":{\"value\":2},\"plot\":null,\"render_mode\":\"css\",\"right_units\":\"screen\",\"top_units\":\"screen\"},\"id\":\"346c9ff7-2547-4a7b-b6be-abcbbe6e61e5\",\"type\":\"BoxAnnotation\"},{\"attributes\":{\"below\":[{\"id\":\"365f00e5-614e-493a-8c58-6af8fff2462c\",\"type\":\"LinearAxis\"}],\"left\":[{\"id\":\"8adaec8d-a9ed-4eb6-bd3a-4fb1102bfe4d\",\"type\":\"CategoricalAxis\"}],\"min_border_right\":50,\"output_backend\":\"svg\",\"plot_height\":2500,\"plot_width\":1400,\"renderers\":[{\"id\":\"365f00e5-614e-493a-8c58-6af8fff2462c\",\"type\":\"LinearAxis\"},{\"id\":\"74a48597-4e0c-45be-86f4-54ee8ae1722a\",\"type\":\"Grid\"},{\"id\":\"8adaec8d-a9ed-4eb6-bd3a-4fb1102bfe4d\",\"type\":\"CategoricalAxis\"},{\"id\":\"b69345e3-6c84-4c2f-8777-c7b2802c934d\",\"type\":\"Grid\"},{\"id\":\"346c9ff7-2547-4a7b-b6be-abcbbe6e61e5\",\"type\":\"BoxAnnotation\"},{\"id\":\"0cd18b8d-af11-4186-9d2d-d5f260dc9b43\",\"type\":\"GlyphRenderer\"},{\"id\":\"67affb78-e6c3-41cb-b56d-089211820aec\",\"type\":\"LabelSet\"},{\"id\":\"8b04e97f-2d46-4a2e-9a55-c99a9d3672a0\",\"type\":\"LabelSet\"}],\"title\":{\"id\":\"735dda69-f758-42c2-b8a0-ae565882121f\",\"type\":\"Title\"},\"toolbar\":{\"id\":\"7468264e-08ac-4398-a479-de105aff4f94\",\"type\":\"Toolbar\"},\"x_range\":{\"id\":\"e127a9f7-48f7-44ea-bf96-9f41a196c9c4\",\"type\":\"Range1d\"},\"x_scale\":{\"id\":\"0d540d1a-537f-4854-b645-46a1ff16d565\",\"type\":\"LinearScale\"},\"y_range\":{\"id\":\"77ea97e0-e59f-4b7c-b309-369a347a3abb\",\"type\":\"FactorRange\"},\"y_scale\":{\"id\":\"c29b3e58-d5e4-40cb-ab96-8ef4d00fc7d5\",\"type\":\"CategoricalScale\"}},\"id\":\"c5aaf3f9-0350-4a2c-8121-9cfe8c750e96\",\"subtype\":\"Figure\",\"type\":\"Plot\"},{\"attributes\":{},\"id\":\"62a8afc9-5097-4c88-b0cd-58ffa43d1aaf\",\"type\":\"CategoricalTickFormatter\"},{\"attributes\":{\"dimension\":1,\"plot\":{\"id\":\"c5aaf3f9-0350-4a2c-8121-9cfe8c750e96\",\"subtype\":\"Figure\",\"type\":\"Plot\"},\"ticker\":{\"id\":\"f5aa4844-246f-431b-8769-a0f32927fc89\",\"type\":\"CategoricalTicker\"}},\"id\":\"b69345e3-6c84-4c2f-8777-c7b2802c934d\",\"type\":\"Grid\"},{\"attributes\":{\"fill_alpha\":{\"value\":0.1},\"fill_color\":{\"value\":\"#1f77b4\"},\"height\":{\"value\":0.75},\"line_alpha\":{\"value\":0.1},\"line_color\":{\"value\":\"#1f77b4\"},\"right\":{\"field\":\"x\"},\"y\":{\"field\":\"y\"}},\"id\":\"3f6b9174-254d-4ed5-ba72-ecf26a0035c9\",\"type\":\"HBar\"},{\"attributes\":{\"overlay\":{\"id\":\"346c9ff7-2547-4a7b-b6be-abcbbe6e61e5\",\"type\":\"BoxAnnotation\"}},\"id\":\"5233b99e-fe16-4fa4-bf4d-c8c46e8692a0\",\"type\":\"BoxZoomTool\"},{\"attributes\":{},\"id\":\"6596b505-c212-47f9-a609-a88acfc6f324\",\"type\":\"BasicTickFormatter\"},{\"attributes\":{},\"id\":\"b78cc61e-e036-48dd-9c0f-c1f9913f88b9\",\"type\":\"WheelZoomTool\"},{\"attributes\":{},\"id\":\"f5aa4844-246f-431b-8769-a0f32927fc89\",\"type\":\"CategoricalTicker\"},{\"attributes\":{\"source\":{\"id\":\"4e95d716-e1db-4fd1-aaec-81e6456ba265\",\"type\":\"ColumnDataSource\"}},\"id\":\"2e7aa044-77f3-4887-954c-c2e722236df1\",\"type\":\"CDSView\"},{\"attributes\":{\"callback\":null,\"factors\":[\"Marketing and Communications\",\"Advertising\",\"Education\",\"Arts\",\"Health Care\",\"Technology\",\"Retail\",\"Web Services\",\"Food and Beverage\",\"Consumer Products\",\"Entertainment\",\"Government\",\"Financial Services\",\"Media and Broadcasting\",\"Hospitality\",\"Consulting\",\"Apparel and Accessories\",\"Travel and Tourism\",\"Information Technology\",\"Banking\",\"Sports and Fitness\",\"Architecture\",\"Publishing\",\"Real Estate\",\"Computers\",\"Construction\",\"Manufacturing\",\"Transportation\",\"Energy\",\"Music\",\"Electronics\",\"Automotive\",\"Pharmaceutical\",\"Insurance\",\"Telecommunications\",\"Legal\",\"Agriculture\",\"Accounting\",\"Medical Equipment\",\"Biotechnology\",\"Industrial Goods\",\"Utilities\",\"Information Sciences\",\"Alcohol or Tobacco\",\"Gaming\",\"Air Transportation\",\"Aerospace\",\"Shipping\",\"Chemical\",\"Mining\"]},\"id\":\"77ea97e0-e59f-4b7c-b309-369a347a3abb\",\"type\":\"FactorRange\"},{\"attributes\":{},\"id\":\"fd16431e-0bf5-42ab-9172-dcb0b98c64d6\",\"type\":\"BasicTicker\"},{\"attributes\":{},\"id\":\"64d4b281-3741-4aba-9cc1-111254cab18c\",\"type\":\"HelpTool\"},{\"attributes\":{\"fill_color\":{\"value\":\"#1f77b4\"},\"height\":{\"value\":0.75},\"line_color\":{\"value\":\"#1f77b4\"},\"right\":{\"field\":\"x\"},\"y\":{\"field\":\"y\"}},\"id\":\"a305fe80-b649-42f0-ade1-2e0b55712a87\",\"type\":\"HBar\"},{\"attributes\":{\"data_source\":{\"id\":\"4e95d716-e1db-4fd1-aaec-81e6456ba265\",\"type\":\"ColumnDataSource\"},\"glyph\":{\"id\":\"a305fe80-b649-42f0-ade1-2e0b55712a87\",\"type\":\"HBar\"},\"hover_glyph\":null,\"muted_glyph\":null,\"nonselection_glyph\":{\"id\":\"3f6b9174-254d-4ed5-ba72-ecf26a0035c9\",\"type\":\"HBar\"},\"selection_glyph\":null,\"view\":{\"id\":\"2e7aa044-77f3-4887-954c-c2e722236df1\",\"type\":\"CDSView\"}},\"id\":\"0cd18b8d-af11-4186-9d2d-d5f260dc9b43\",\"type\":\"GlyphRenderer\"},{\"attributes\":{},\"id\":\"84af7462-6ce4-493e-a0b1-703327f32568\",\"type\":\"PanTool\"},{\"attributes\":{\"callback\":null,\"end\":2848.8},\"id\":\"e127a9f7-48f7-44ea-bf96-9f41a196c9c4\",\"type\":\"Range1d\"},{\"attributes\":{\"level\":\"glyph\",\"plot\":{\"id\":\"c5aaf3f9-0350-4a2c-8121-9cfe8c750e96\",\"subtype\":\"Figure\",\"type\":\"Plot\"},\"source\":{\"id\":\"4e95d716-e1db-4fd1-aaec-81e6456ba265\",\"type\":\"ColumnDataSource\"},\"text\":{\"field\":\"x\"},\"text_font_size\":{\"value\":\"8pt\"},\"x\":{\"field\":\"x\"},\"x_offset\":{\"value\":10},\"y\":{\"field\":\"y\"},\"y_offset\":{\"value\":-12}},\"id\":\"8b04e97f-2d46-4a2e-9a55-c99a9d3672a0\",\"type\":\"LabelSet\"},{\"attributes\":{\"plot\":null,\"text\":\"AIGA-Only: My work touches these industries or sectors:\"},\"id\":\"735dda69-f758-42c2-b8a0-ae565882121f\",\"type\":\"Title\"},{\"attributes\":{},\"id\":\"cecf0fb0-2403-4aff-8ed3-b13eb8a9648b\",\"type\":\"ResetTool\"},{\"attributes\":{\"level\":\"glyph\",\"plot\":{\"id\":\"c5aaf3f9-0350-4a2c-8121-9cfe8c750e96\",\"subtype\":\"Figure\",\"type\":\"Plot\"},\"source\":{\"id\":\"4e95d716-e1db-4fd1-aaec-81e6456ba265\",\"type\":\"ColumnDataSource\"},\"text\":{\"field\":\"pct\"},\"text_font_size\":{\"value\":\"8pt\"},\"x\":{\"field\":\"x\"},\"x_offset\":{\"value\":10},\"y\":{\"field\":\"y\"},\"y_offset\":{\"value\":2}},\"id\":\"67affb78-e6c3-41cb-b56d-089211820aec\",\"type\":\"LabelSet\"},{\"attributes\":{},\"id\":\"0d540d1a-537f-4854-b645-46a1ff16d565\",\"type\":\"LinearScale\"}],\"root_ids\":[\"c5aaf3f9-0350-4a2c-8121-9cfe8c750e96\"]},\"title\":\"Bokeh Application\",\"version\":\"0.12.13\"}};\n",
              "  var render_items = [{\"docid\":\"7e7b196d-bfc5-4d20-b38d-f508e3ec28ae\",\"elementid\":\"2abe95f7-8851-4979-9d73-ab1d3e6cf980\",\"modelid\":\"c5aaf3f9-0350-4a2c-8121-9cfe8c750e96\"}];\n",
              "  root.Bokeh.embed.embed_items_notebook(docs_json, render_items);\n",
              "\n",
              "  }\n",
              "  if (root.Bokeh !== undefined) {\n",
              "    embed_document(root);\n",
              "  } else {\n",
              "    var attempts = 0;\n",
              "    var timer = setInterval(function(root) {\n",
              "      if (root.Bokeh !== undefined) {\n",
              "        embed_document(root);\n",
              "        clearInterval(timer);\n",
              "      }\n",
              "      attempts++;\n",
              "      if (attempts > 100) {\n",
              "        console.log(\"Bokeh: ERROR: Unable to run BokehJS code because BokehJS library is missing\")\n",
              "        clearInterval(timer);\n",
              "      }\n",
              "    }, 10, root)\n",
              "  }\n",
              "})(window);"
            ],
            "application/vnd.bokehjs_exec.v0+json": ""
          },
          "metadata": {
            "application/vnd.bokehjs_exec.v0+json": {
              "id": "c5aaf3f9-0350-4a2c-8121-9cfe8c750e96"
            }
          }
        },
        {
          "output_type": "display_data",
          "data": {
            "text/html": [
              "\n",
              "<div class=\"bk-root\">\n",
              "    <div class=\"bk-plotdiv\" id=\"1f5bd9bf-eac4-4603-a0ea-ed2062f91490\"></div>\n",
              "</div>"
            ]
          },
          "metadata": {}
        },
        {
          "output_type": "display_data",
          "data": {
            "application/javascript": [
              "(function(root) {\n",
              "  function embed_document(root) {\n",
              "    \n",
              "  var docs_json = {\"63c466d9-6d30-4727-91db-b73f5573e751\":{\"roots\":{\"references\":[{\"attributes\":{\"data_source\":{\"id\":\"eebc142b-e07a-4eb6-bb9e-128cac9b53df\",\"type\":\"ColumnDataSource\"},\"glyph\":{\"id\":\"8576f202-cc02-474a-97de-add33589ffab\",\"type\":\"HBar\"},\"hover_glyph\":null,\"muted_glyph\":null,\"nonselection_glyph\":{\"id\":\"586a1df8-635f-4a3c-a197-cd6901ecdaa9\",\"type\":\"HBar\"},\"selection_glyph\":null,\"view\":{\"id\":\"a16e0f29-0202-48d6-ad60-d7cdeb15a00e\",\"type\":\"CDSView\"}},\"id\":\"8693e109-bb4c-4c6b-b83e-04151e1645ab\",\"type\":\"GlyphRenderer\"},{\"attributes\":{\"below\":[{\"id\":\"695b9436-c8f6-4491-8f48-7232269557ca\",\"type\":\"LinearAxis\"}],\"left\":[{\"id\":\"8d0d92db-173b-4cab-8f4e-437915319a6a\",\"type\":\"CategoricalAxis\"}],\"min_border_right\":50,\"output_backend\":\"svg\",\"plot_height\":900,\"plot_width\":1400,\"renderers\":[{\"id\":\"695b9436-c8f6-4491-8f48-7232269557ca\",\"type\":\"LinearAxis\"},{\"id\":\"56a58839-687d-4fa3-a8e1-68a36d6db31a\",\"type\":\"Grid\"},{\"id\":\"8d0d92db-173b-4cab-8f4e-437915319a6a\",\"type\":\"CategoricalAxis\"},{\"id\":\"8549ff23-dbff-48c5-ad3f-78d47856d312\",\"type\":\"Grid\"},{\"id\":\"9777a2a9-e5ce-4208-8b5c-4fc769f36fec\",\"type\":\"BoxAnnotation\"},{\"id\":\"8693e109-bb4c-4c6b-b83e-04151e1645ab\",\"type\":\"GlyphRenderer\"},{\"id\":\"c03b6580-56c6-4e6c-9654-8912192062d3\",\"type\":\"LabelSet\"},{\"id\":\"d4af139a-be51-46d0-8e10-2eafcbec6b93\",\"type\":\"LabelSet\"}],\"title\":{\"id\":\"05ed542f-2c68-44ec-9d7e-c6621720dea9\",\"type\":\"Title\"},\"toolbar\":{\"id\":\"51d47cca-1800-41ce-b57f-965b9a2af914\",\"type\":\"Toolbar\"},\"x_range\":{\"id\":\"f444cfef-5da0-4507-9266-1798fd28fbbc\",\"type\":\"Range1d\"},\"x_scale\":{\"id\":\"1af40ab8-f6f6-488f-b50d-c5b15ff7ad76\",\"type\":\"LinearScale\"},\"y_range\":{\"id\":\"6a94cfb5-bc26-4ae5-b6c7-368777d09494\",\"type\":\"FactorRange\"},\"y_scale\":{\"id\":\"d38fc97c-cc5b-46ce-8018-5dc74be6191e\",\"type\":\"CategoricalScale\"}},\"id\":\"70564dbc-d280-4f95-9134-0d382f89af1f\",\"subtype\":\"Figure\",\"type\":\"Plot\"},{\"attributes\":{\"level\":\"glyph\",\"plot\":{\"id\":\"70564dbc-d280-4f95-9134-0d382f89af1f\",\"subtype\":\"Figure\",\"type\":\"Plot\"},\"source\":{\"id\":\"eebc142b-e07a-4eb6-bb9e-128cac9b53df\",\"type\":\"ColumnDataSource\"},\"text\":{\"field\":\"x\"},\"text_font_size\":{\"value\":\"8pt\"},\"x\":{\"field\":\"x\"},\"x_offset\":{\"value\":10},\"y\":{\"field\":\"y\"},\"y_offset\":{\"value\":-12}},\"id\":\"d4af139a-be51-46d0-8e10-2eafcbec6b93\",\"type\":\"LabelSet\"},{\"attributes\":{\"overlay\":{\"id\":\"9777a2a9-e5ce-4208-8b5c-4fc769f36fec\",\"type\":\"BoxAnnotation\"}},\"id\":\"09ba8953-1b14-456e-9d76-c22cf69457c3\",\"type\":\"BoxZoomTool\"},{\"attributes\":{\"bottom_units\":\"screen\",\"fill_alpha\":{\"value\":0.5},\"fill_color\":{\"value\":\"lightgrey\"},\"left_units\":\"screen\",\"level\":\"overlay\",\"line_alpha\":{\"value\":1.0},\"line_color\":{\"value\":\"black\"},\"line_dash\":[4,4],\"line_width\":{\"value\":2},\"plot\":null,\"render_mode\":\"css\",\"right_units\":\"screen\",\"top_units\":\"screen\"},\"id\":\"9777a2a9-e5ce-4208-8b5c-4fc769f36fec\",\"type\":\"BoxAnnotation\"},{\"attributes\":{\"source\":{\"id\":\"eebc142b-e07a-4eb6-bb9e-128cac9b53df\",\"type\":\"ColumnDataSource\"}},\"id\":\"a16e0f29-0202-48d6-ad60-d7cdeb15a00e\",\"type\":\"CDSView\"},{\"attributes\":{\"active_drag\":\"auto\",\"active_inspect\":\"auto\",\"active_scroll\":\"auto\",\"active_tap\":\"auto\",\"tools\":[{\"id\":\"d242ead4-b4f7-4803-aa6d-4b5717180aa9\",\"type\":\"PanTool\"},{\"id\":\"61ae59d3-ac33-43a7-b3b8-96c4f16ea7bc\",\"type\":\"WheelZoomTool\"},{\"id\":\"09ba8953-1b14-456e-9d76-c22cf69457c3\",\"type\":\"BoxZoomTool\"},{\"id\":\"02c47238-f703-49f2-95c4-011a85149a17\",\"type\":\"SaveTool\"},{\"id\":\"948dcb56-074d-43f5-a1c9-70d5f6761dd7\",\"type\":\"ResetTool\"},{\"id\":\"cc1bb637-57f6-43f9-910d-ed696a36e597\",\"type\":\"HelpTool\"}]},\"id\":\"51d47cca-1800-41ce-b57f-965b9a2af914\",\"type\":\"Toolbar\"},{\"attributes\":{},\"id\":\"256d311b-aff2-4a2d-8990-8f3f0781182c\",\"type\":\"BasicTickFormatter\"},{\"attributes\":{},\"id\":\"02c47238-f703-49f2-95c4-011a85149a17\",\"type\":\"SaveTool\"},{\"attributes\":{\"fill_color\":{\"value\":\"#1f77b4\"},\"height\":{\"value\":0.75},\"line_color\":{\"value\":\"#1f77b4\"},\"right\":{\"field\":\"x\"},\"y\":{\"field\":\"y\"}},\"id\":\"8576f202-cc02-474a-97de-add33589ffab\",\"type\":\"HBar\"},{\"attributes\":{\"plot\":null,\"text\":\"AIGA-Only: I\\u2019ve been at my current place of work for:\"},\"id\":\"05ed542f-2c68-44ec-9d7e-c6621720dea9\",\"type\":\"Title\"},{\"attributes\":{\"axis_label\":\"Categories\",\"formatter\":{\"id\":\"40337d6d-2712-4b28-b7c3-7ae87471ff17\",\"type\":\"CategoricalTickFormatter\"},\"plot\":{\"id\":\"70564dbc-d280-4f95-9134-0d382f89af1f\",\"subtype\":\"Figure\",\"type\":\"Plot\"},\"ticker\":{\"id\":\"a0beb93c-5759-4689-854c-150c6100b7a0\",\"type\":\"CategoricalTicker\"}},\"id\":\"8d0d92db-173b-4cab-8f4e-437915319a6a\",\"type\":\"CategoricalAxis\"},{\"attributes\":{\"level\":\"glyph\",\"plot\":{\"id\":\"70564dbc-d280-4f95-9134-0d382f89af1f\",\"subtype\":\"Figure\",\"type\":\"Plot\"},\"source\":{\"id\":\"eebc142b-e07a-4eb6-bb9e-128cac9b53df\",\"type\":\"ColumnDataSource\"},\"text\":{\"field\":\"pct\"},\"text_font_size\":{\"value\":\"8pt\"},\"x\":{\"field\":\"x\"},\"x_offset\":{\"value\":10},\"y\":{\"field\":\"y\"},\"y_offset\":{\"value\":2}},\"id\":\"c03b6580-56c6-4e6c-9654-8912192062d3\",\"type\":\"LabelSet\"},{\"attributes\":{\"callback\":null,\"end\":1664.4},\"id\":\"f444cfef-5da0-4507-9266-1798fd28fbbc\",\"type\":\"Range1d\"},{\"attributes\":{\"callback\":null,\"factors\":[\"1-2 years\",\"Less than 1 year\",\"3-4 years\",\"10+ years\",\"5-7 years\",\"8-10 years\"]},\"id\":\"6a94cfb5-bc26-4ae5-b6c7-368777d09494\",\"type\":\"FactorRange\"},{\"attributes\":{},\"id\":\"948dcb56-074d-43f5-a1c9-70d5f6761dd7\",\"type\":\"ResetTool\"},{\"attributes\":{},\"id\":\"1af40ab8-f6f6-488f-b50d-c5b15ff7ad76\",\"type\":\"LinearScale\"},{\"attributes\":{},\"id\":\"a0beb93c-5759-4689-854c-150c6100b7a0\",\"type\":\"CategoricalTicker\"},{\"attributes\":{\"plot\":{\"id\":\"70564dbc-d280-4f95-9134-0d382f89af1f\",\"subtype\":\"Figure\",\"type\":\"Plot\"},\"ticker\":{\"id\":\"f6fea2e4-1a9a-4dce-8c93-314b11b03036\",\"type\":\"BasicTicker\"}},\"id\":\"56a58839-687d-4fa3-a8e1-68a36d6db31a\",\"type\":\"Grid\"},{\"attributes\":{},\"id\":\"f6fea2e4-1a9a-4dce-8c93-314b11b03036\",\"type\":\"BasicTicker\"},{\"attributes\":{},\"id\":\"d38fc97c-cc5b-46ce-8018-5dc74be6191e\",\"type\":\"CategoricalScale\"},{\"attributes\":{},\"id\":\"cc1bb637-57f6-43f9-910d-ed696a36e597\",\"type\":\"HelpTool\"},{\"attributes\":{},\"id\":\"61ae59d3-ac33-43a7-b3b8-96c4f16ea7bc\",\"type\":\"WheelZoomTool\"},{\"attributes\":{\"fill_alpha\":{\"value\":0.1},\"fill_color\":{\"value\":\"#1f77b4\"},\"height\":{\"value\":0.75},\"line_alpha\":{\"value\":0.1},\"line_color\":{\"value\":\"#1f77b4\"},\"right\":{\"field\":\"x\"},\"y\":{\"field\":\"y\"}},\"id\":\"586a1df8-635f-4a3c-a197-cd6901ecdaa9\",\"type\":\"HBar\"},{\"attributes\":{\"axis_label\":\"Respondents\",\"formatter\":{\"id\":\"256d311b-aff2-4a2d-8990-8f3f0781182c\",\"type\":\"BasicTickFormatter\"},\"plot\":{\"id\":\"70564dbc-d280-4f95-9134-0d382f89af1f\",\"subtype\":\"Figure\",\"type\":\"Plot\"},\"ticker\":{\"id\":\"f6fea2e4-1a9a-4dce-8c93-314b11b03036\",\"type\":\"BasicTicker\"}},\"id\":\"695b9436-c8f6-4491-8f48-7232269557ca\",\"type\":\"LinearAxis\"},{\"attributes\":{},\"id\":\"d242ead4-b4f7-4803-aa6d-4b5717180aa9\",\"type\":\"PanTool\"},{\"attributes\":{\"callback\":null,\"column_names\":[\"y\",\"x\",\"pct\"],\"data\":{\"pct\":[\"28.83%\",\"26.99%\",\"19.19%\",\"10.82%\",\"10.11%\",\"3.99%\"],\"x\":[1337,1252,890,502,469,185],\"y\":[\"1-2 years\",\"Less than 1 year\",\"3-4 years\",\"10+ years\",\"5-7 years\",\"8-10 years\"]}},\"id\":\"eebc142b-e07a-4eb6-bb9e-128cac9b53df\",\"type\":\"ColumnDataSource\"},{\"attributes\":{\"dimension\":1,\"plot\":{\"id\":\"70564dbc-d280-4f95-9134-0d382f89af1f\",\"subtype\":\"Figure\",\"type\":\"Plot\"},\"ticker\":{\"id\":\"a0beb93c-5759-4689-854c-150c6100b7a0\",\"type\":\"CategoricalTicker\"}},\"id\":\"8549ff23-dbff-48c5-ad3f-78d47856d312\",\"type\":\"Grid\"},{\"attributes\":{},\"id\":\"40337d6d-2712-4b28-b7c3-7ae87471ff17\",\"type\":\"CategoricalTickFormatter\"}],\"root_ids\":[\"70564dbc-d280-4f95-9134-0d382f89af1f\"]},\"title\":\"Bokeh Application\",\"version\":\"0.12.13\"}};\n",
              "  var render_items = [{\"docid\":\"63c466d9-6d30-4727-91db-b73f5573e751\",\"elementid\":\"1f5bd9bf-eac4-4603-a0ea-ed2062f91490\",\"modelid\":\"70564dbc-d280-4f95-9134-0d382f89af1f\"}];\n",
              "  root.Bokeh.embed.embed_items_notebook(docs_json, render_items);\n",
              "\n",
              "  }\n",
              "  if (root.Bokeh !== undefined) {\n",
              "    embed_document(root);\n",
              "  } else {\n",
              "    var attempts = 0;\n",
              "    var timer = setInterval(function(root) {\n",
              "      if (root.Bokeh !== undefined) {\n",
              "        embed_document(root);\n",
              "        clearInterval(timer);\n",
              "      }\n",
              "      attempts++;\n",
              "      if (attempts > 100) {\n",
              "        console.log(\"Bokeh: ERROR: Unable to run BokehJS code because BokehJS library is missing\")\n",
              "        clearInterval(timer);\n",
              "      }\n",
              "    }, 10, root)\n",
              "  }\n",
              "})(window);"
            ],
            "application/vnd.bokehjs_exec.v0+json": ""
          },
          "metadata": {
            "application/vnd.bokehjs_exec.v0+json": {
              "id": "70564dbc-d280-4f95-9134-0d382f89af1f"
            }
          }
        },
        {
          "output_type": "display_data",
          "data": {
            "text/html": [
              "\n",
              "<div class=\"bk-root\">\n",
              "    <div class=\"bk-plotdiv\" id=\"9487561c-876e-4a37-9fc0-4996aef5d959\"></div>\n",
              "</div>"
            ]
          },
          "metadata": {}
        },
        {
          "output_type": "display_data",
          "data": {
            "application/javascript": [
              "(function(root) {\n",
              "  function embed_document(root) {\n",
              "    \n",
              "  var docs_json = {\"4a136e42-72ed-4f4c-9eaf-7ddf90639138\":{\"roots\":{\"references\":[{\"attributes\":{},\"id\":\"cacbf8e7-04cd-4fd2-b038-f83f5307868d\",\"type\":\"LinearScale\"},{\"attributes\":{},\"id\":\"4ef1f76c-0b8b-495b-b7e7-5bbfc5a940f5\",\"type\":\"BasicTicker\"},{\"attributes\":{\"callback\":null,\"column_names\":[\"y\",\"x\",\"pct\"],\"data\":{\"pct\":[\"12.31%\",\"9.72%\",\"5.99%\",\"5.95%\",\"4.44%\",\"3.26%\",\"2.35%\",\"0.91%\",\"0.80%\",\"0.60%\"],\"x\":[571,451,278,276,206,151,109,42,37,28],\"y\":[\"Owner/Partner\",\"Mid-level specialist\",\"Art Director\",\"Junior contributor\",\"Creative Director\",\"Other\",\"Senior manager\",\"Director\",\"Intern\",\"Executive\"]}},\"id\":\"dbd85d4c-d7ca-4122-a2f7-79321bf31a2b\",\"type\":\"ColumnDataSource\"},{\"attributes\":{},\"id\":\"149e371f-c261-4e22-941b-f4160676bdf5\",\"type\":\"WheelZoomTool\"},{\"attributes\":{\"source\":{\"id\":\"dbd85d4c-d7ca-4122-a2f7-79321bf31a2b\",\"type\":\"ColumnDataSource\"}},\"id\":\"e7735a36-f187-4ad1-896c-67835ceb125e\",\"type\":\"CDSView\"},{\"attributes\":{},\"id\":\"3cf43769-d6f2-43ca-9756-4fd11b6b1679\",\"type\":\"SaveTool\"},{\"attributes\":{\"callback\":null,\"factors\":[\"Owner/Partner\",\"Mid-level specialist\",\"Art Director\",\"Junior contributor\",\"Creative Director\",\"Other\",\"Senior manager\",\"Director\",\"Intern\",\"Executive\"]},\"id\":\"6221d4cb-de92-4e02-911d-5255ed38bf3c\",\"type\":\"FactorRange\"},{\"attributes\":{},\"id\":\"bbca781c-db09-4822-8cc0-ad6b2297c158\",\"type\":\"ResetTool\"},{\"attributes\":{\"callback\":null,\"end\":745.2},\"id\":\"6a5dfda8-5e8d-4c8c-90d7-bfa73a7ab279\",\"type\":\"Range1d\"},{\"attributes\":{\"bottom_units\":\"screen\",\"fill_alpha\":{\"value\":0.5},\"fill_color\":{\"value\":\"lightgrey\"},\"left_units\":\"screen\",\"level\":\"overlay\",\"line_alpha\":{\"value\":1.0},\"line_color\":{\"value\":\"black\"},\"line_dash\":[4,4],\"line_width\":{\"value\":2},\"plot\":null,\"render_mode\":\"css\",\"right_units\":\"screen\",\"top_units\":\"screen\"},\"id\":\"21a8ecbf-68b8-4a34-88db-d77ce79a0751\",\"type\":\"BoxAnnotation\"},{\"attributes\":{\"data_source\":{\"id\":\"dbd85d4c-d7ca-4122-a2f7-79321bf31a2b\",\"type\":\"ColumnDataSource\"},\"glyph\":{\"id\":\"d805dfda-32aa-4fd6-9073-70fdc1180336\",\"type\":\"HBar\"},\"hover_glyph\":null,\"muted_glyph\":null,\"nonselection_glyph\":{\"id\":\"6658b5e3-c0dc-4dc1-b83b-b245b1d2b3d1\",\"type\":\"HBar\"},\"selection_glyph\":null,\"view\":{\"id\":\"e7735a36-f187-4ad1-896c-67835ceb125e\",\"type\":\"CDSView\"}},\"id\":\"2061f239-49be-4517-92da-ee82b3354650\",\"type\":\"GlyphRenderer\"},{\"attributes\":{\"below\":[{\"id\":\"a9139469-5a6d-444b-be19-f74b19930d87\",\"type\":\"LinearAxis\"}],\"left\":[{\"id\":\"a5844757-f8d3-459b-ba99-cca3dee7a65f\",\"type\":\"CategoricalAxis\"}],\"min_border_right\":50,\"output_backend\":\"svg\",\"plot_height\":900,\"plot_width\":1400,\"renderers\":[{\"id\":\"a9139469-5a6d-444b-be19-f74b19930d87\",\"type\":\"LinearAxis\"},{\"id\":\"b7f89d03-1610-4782-8991-a8d5e642bebc\",\"type\":\"Grid\"},{\"id\":\"a5844757-f8d3-459b-ba99-cca3dee7a65f\",\"type\":\"CategoricalAxis\"},{\"id\":\"bc6c3700-14d4-4b72-a96f-af9f670068ea\",\"type\":\"Grid\"},{\"id\":\"21a8ecbf-68b8-4a34-88db-d77ce79a0751\",\"type\":\"BoxAnnotation\"},{\"id\":\"2061f239-49be-4517-92da-ee82b3354650\",\"type\":\"GlyphRenderer\"},{\"id\":\"d8551281-09e3-4394-9ce7-36d31fbf1479\",\"type\":\"LabelSet\"},{\"id\":\"94f45ee4-f534-4ab1-93b6-73f1c33ee7b5\",\"type\":\"LabelSet\"}],\"title\":{\"id\":\"7fdf0dad-ef4f-4f1a-a376-e3d23363c1e8\",\"type\":\"Title\"},\"toolbar\":{\"id\":\"cda5b3d7-e625-4bf0-b79d-05e1218cfdbf\",\"type\":\"Toolbar\"},\"x_range\":{\"id\":\"6a5dfda8-5e8d-4c8c-90d7-bfa73a7ab279\",\"type\":\"Range1d\"},\"x_scale\":{\"id\":\"cacbf8e7-04cd-4fd2-b038-f83f5307868d\",\"type\":\"LinearScale\"},\"y_range\":{\"id\":\"6221d4cb-de92-4e02-911d-5255ed38bf3c\",\"type\":\"FactorRange\"},\"y_scale\":{\"id\":\"b29ac0d4-4474-45ce-b5ac-48a88f7e2deb\",\"type\":\"CategoricalScale\"}},\"id\":\"a1ff8a08-d8ea-4379-9976-eb588227f2ed\",\"subtype\":\"Figure\",\"type\":\"Plot\"},{\"attributes\":{\"fill_alpha\":{\"value\":0.1},\"fill_color\":{\"value\":\"#1f77b4\"},\"height\":{\"value\":0.75},\"line_alpha\":{\"value\":0.1},\"line_color\":{\"value\":\"#1f77b4\"},\"right\":{\"field\":\"x\"},\"y\":{\"field\":\"y\"}},\"id\":\"6658b5e3-c0dc-4dc1-b83b-b245b1d2b3d1\",\"type\":\"HBar\"},{\"attributes\":{\"active_drag\":\"auto\",\"active_inspect\":\"auto\",\"active_scroll\":\"auto\",\"active_tap\":\"auto\",\"tools\":[{\"id\":\"8d2ba1aa-49d4-4707-a644-cd65f1aa6db5\",\"type\":\"PanTool\"},{\"id\":\"149e371f-c261-4e22-941b-f4160676bdf5\",\"type\":\"WheelZoomTool\"},{\"id\":\"2e4279ad-da5d-4aae-a169-b72c5f0b5cb3\",\"type\":\"BoxZoomTool\"},{\"id\":\"3cf43769-d6f2-43ca-9756-4fd11b6b1679\",\"type\":\"SaveTool\"},{\"id\":\"bbca781c-db09-4822-8cc0-ad6b2297c158\",\"type\":\"ResetTool\"},{\"id\":\"ef4d96f6-8161-437a-8cff-5d52d47d3c78\",\"type\":\"HelpTool\"}]},\"id\":\"cda5b3d7-e625-4bf0-b79d-05e1218cfdbf\",\"type\":\"Toolbar\"},{\"attributes\":{},\"id\":\"50388d1b-110b-4548-a7a7-e2e9dccdb6a4\",\"type\":\"BasicTickFormatter\"},{\"attributes\":{\"fill_color\":{\"value\":\"#1f77b4\"},\"height\":{\"value\":0.75},\"line_color\":{\"value\":\"#1f77b4\"},\"right\":{\"field\":\"x\"},\"y\":{\"field\":\"y\"}},\"id\":\"d805dfda-32aa-4fd6-9073-70fdc1180336\",\"type\":\"HBar\"},{\"attributes\":{},\"id\":\"ef4d96f6-8161-437a-8cff-5d52d47d3c78\",\"type\":\"HelpTool\"},{\"attributes\":{},\"id\":\"2e9ac8d6-67f8-4951-bd2c-0594bb64d5bc\",\"type\":\"CategoricalTickFormatter\"},{\"attributes\":{},\"id\":\"7005b74b-ac81-4be5-a4e8-4fcac1225190\",\"type\":\"CategoricalTicker\"},{\"attributes\":{\"overlay\":{\"id\":\"21a8ecbf-68b8-4a34-88db-d77ce79a0751\",\"type\":\"BoxAnnotation\"}},\"id\":\"2e4279ad-da5d-4aae-a169-b72c5f0b5cb3\",\"type\":\"BoxZoomTool\"},{\"attributes\":{},\"id\":\"b29ac0d4-4474-45ce-b5ac-48a88f7e2deb\",\"type\":\"CategoricalScale\"},{\"attributes\":{\"level\":\"glyph\",\"plot\":{\"id\":\"a1ff8a08-d8ea-4379-9976-eb588227f2ed\",\"subtype\":\"Figure\",\"type\":\"Plot\"},\"source\":{\"id\":\"dbd85d4c-d7ca-4122-a2f7-79321bf31a2b\",\"type\":\"ColumnDataSource\"},\"text\":{\"field\":\"pct\"},\"text_font_size\":{\"value\":\"8pt\"},\"x\":{\"field\":\"x\"},\"x_offset\":{\"value\":10},\"y\":{\"field\":\"y\"},\"y_offset\":{\"value\":2}},\"id\":\"d8551281-09e3-4394-9ce7-36d31fbf1479\",\"type\":\"LabelSet\"},{\"attributes\":{},\"id\":\"8d2ba1aa-49d4-4707-a644-cd65f1aa6db5\",\"type\":\"PanTool\"},{\"attributes\":{\"axis_label\":\"Respondents\",\"formatter\":{\"id\":\"50388d1b-110b-4548-a7a7-e2e9dccdb6a4\",\"type\":\"BasicTickFormatter\"},\"plot\":{\"id\":\"a1ff8a08-d8ea-4379-9976-eb588227f2ed\",\"subtype\":\"Figure\",\"type\":\"Plot\"},\"ticker\":{\"id\":\"4ef1f76c-0b8b-495b-b7e7-5bbfc5a940f5\",\"type\":\"BasicTicker\"}},\"id\":\"a9139469-5a6d-444b-be19-f74b19930d87\",\"type\":\"LinearAxis\"},{\"attributes\":{\"dimension\":1,\"plot\":{\"id\":\"a1ff8a08-d8ea-4379-9976-eb588227f2ed\",\"subtype\":\"Figure\",\"type\":\"Plot\"},\"ticker\":{\"id\":\"7005b74b-ac81-4be5-a4e8-4fcac1225190\",\"type\":\"CategoricalTicker\"}},\"id\":\"bc6c3700-14d4-4b72-a96f-af9f670068ea\",\"type\":\"Grid\"},{\"attributes\":{\"axis_label\":\"Categories\",\"formatter\":{\"id\":\"2e9ac8d6-67f8-4951-bd2c-0594bb64d5bc\",\"type\":\"CategoricalTickFormatter\"},\"plot\":{\"id\":\"a1ff8a08-d8ea-4379-9976-eb588227f2ed\",\"subtype\":\"Figure\",\"type\":\"Plot\"},\"ticker\":{\"id\":\"7005b74b-ac81-4be5-a4e8-4fcac1225190\",\"type\":\"CategoricalTicker\"}},\"id\":\"a5844757-f8d3-459b-ba99-cca3dee7a65f\",\"type\":\"CategoricalAxis\"},{\"attributes\":{\"plot\":{\"id\":\"a1ff8a08-d8ea-4379-9976-eb588227f2ed\",\"subtype\":\"Figure\",\"type\":\"Plot\"},\"ticker\":{\"id\":\"4ef1f76c-0b8b-495b-b7e7-5bbfc5a940f5\",\"type\":\"BasicTicker\"}},\"id\":\"b7f89d03-1610-4782-8991-a8d5e642bebc\",\"type\":\"Grid\"},{\"attributes\":{\"plot\":null,\"text\":\"AIGA-Only: My role is:\"},\"id\":\"7fdf0dad-ef4f-4f1a-a376-e3d23363c1e8\",\"type\":\"Title\"},{\"attributes\":{\"level\":\"glyph\",\"plot\":{\"id\":\"a1ff8a08-d8ea-4379-9976-eb588227f2ed\",\"subtype\":\"Figure\",\"type\":\"Plot\"},\"source\":{\"id\":\"dbd85d4c-d7ca-4122-a2f7-79321bf31a2b\",\"type\":\"ColumnDataSource\"},\"text\":{\"field\":\"x\"},\"text_font_size\":{\"value\":\"8pt\"},\"x\":{\"field\":\"x\"},\"x_offset\":{\"value\":10},\"y\":{\"field\":\"y\"},\"y_offset\":{\"value\":-12}},\"id\":\"94f45ee4-f534-4ab1-93b6-73f1c33ee7b5\",\"type\":\"LabelSet\"}],\"root_ids\":[\"a1ff8a08-d8ea-4379-9976-eb588227f2ed\"]},\"title\":\"Bokeh Application\",\"version\":\"0.12.13\"}};\n",
              "  var render_items = [{\"docid\":\"4a136e42-72ed-4f4c-9eaf-7ddf90639138\",\"elementid\":\"9487561c-876e-4a37-9fc0-4996aef5d959\",\"modelid\":\"a1ff8a08-d8ea-4379-9976-eb588227f2ed\"}];\n",
              "  root.Bokeh.embed.embed_items_notebook(docs_json, render_items);\n",
              "\n",
              "  }\n",
              "  if (root.Bokeh !== undefined) {\n",
              "    embed_document(root);\n",
              "  } else {\n",
              "    var attempts = 0;\n",
              "    var timer = setInterval(function(root) {\n",
              "      if (root.Bokeh !== undefined) {\n",
              "        embed_document(root);\n",
              "        clearInterval(timer);\n",
              "      }\n",
              "      attempts++;\n",
              "      if (attempts > 100) {\n",
              "        console.log(\"Bokeh: ERROR: Unable to run BokehJS code because BokehJS library is missing\")\n",
              "        clearInterval(timer);\n",
              "      }\n",
              "    }, 10, root)\n",
              "  }\n",
              "})(window);"
            ],
            "application/vnd.bokehjs_exec.v0+json": ""
          },
          "metadata": {
            "application/vnd.bokehjs_exec.v0+json": {
              "id": "a1ff8a08-d8ea-4379-9976-eb588227f2ed"
            }
          }
        },
        {
          "output_type": "display_data",
          "data": {
            "text/html": [
              "\n",
              "<div class=\"bk-root\">\n",
              "    <div class=\"bk-plotdiv\" id=\"60672603-e3e6-4ded-a6e5-14611bc138dd\"></div>\n",
              "</div>"
            ]
          },
          "metadata": {}
        },
        {
          "output_type": "display_data",
          "data": {
            "application/javascript": [
              "(function(root) {\n",
              "  function embed_document(root) {\n",
              "    \n",
              "  var docs_json = {\"c61690d9-f335-457a-b2e4-cc9e2b47b5b8\":{\"roots\":{\"references\":[{\"attributes\":{\"plot\":{\"id\":\"b14c9553-520a-4f03-8506-6e455f2eabca\",\"subtype\":\"Figure\",\"type\":\"Plot\"},\"ticker\":{\"id\":\"c27377d4-270e-4431-a0a2-77ff847a9088\",\"type\":\"BasicTicker\"}},\"id\":\"1d61517e-caf6-4b26-8c72-f7f305755147\",\"type\":\"Grid\"},{\"attributes\":{\"data_source\":{\"id\":\"6eb86441-b3c0-4b34-8690-c112f42f9c4c\",\"type\":\"ColumnDataSource\"},\"glyph\":{\"id\":\"ca4dc2c5-7692-406a-8570-e7886bd8222a\",\"type\":\"HBar\"},\"hover_glyph\":null,\"muted_glyph\":null,\"nonselection_glyph\":{\"id\":\"72b1741c-22e4-496a-b1b6-1053ce21f9b5\",\"type\":\"HBar\"},\"selection_glyph\":null,\"view\":{\"id\":\"b47fee08-87a4-45f5-a64d-2d1e936a5f05\",\"type\":\"CDSView\"}},\"id\":\"d8eb0faf-0f07-4146-882e-b690343df2f1\",\"type\":\"GlyphRenderer\"},{\"attributes\":{\"callback\":null,\"column_names\":[\"y\",\"x\",\"pct\"],\"data\":{\"pct\":[\"21.30%\",\"6.21%\",\"4.98%\",\"4.51%\",\"4.05%\",\"2.93%\",\"0.97%\",\"0.43%\",\"0.30%\",\"0.28%\"],\"x\":[988,288,231,209,188,136,45,20,14,13],\"y\":[\"Mid-level specialist\",\"Junior contributor\",\"Director\",\"Senior manager\",\"Team Leader\",\"Other\",\"Group Leader\",\"Executive\",\"Senior Executive\",\"Intern\"]}},\"id\":\"6eb86441-b3c0-4b34-8690-c112f42f9c4c\",\"type\":\"ColumnDataSource\"},{\"attributes\":{\"level\":\"glyph\",\"plot\":{\"id\":\"b14c9553-520a-4f03-8506-6e455f2eabca\",\"subtype\":\"Figure\",\"type\":\"Plot\"},\"source\":{\"id\":\"6eb86441-b3c0-4b34-8690-c112f42f9c4c\",\"type\":\"ColumnDataSource\"},\"text\":{\"field\":\"x\"},\"text_font_size\":{\"value\":\"8pt\"},\"x\":{\"field\":\"x\"},\"x_offset\":{\"value\":10},\"y\":{\"field\":\"y\"},\"y_offset\":{\"value\":-12}},\"id\":\"ca815196-0114-48e4-a31e-0dbfbbe8b1a2\",\"type\":\"LabelSet\"},{\"attributes\":{\"fill_alpha\":{\"value\":0.1},\"fill_color\":{\"value\":\"#1f77b4\"},\"height\":{\"value\":0.75},\"line_alpha\":{\"value\":0.1},\"line_color\":{\"value\":\"#1f77b4\"},\"right\":{\"field\":\"x\"},\"y\":{\"field\":\"y\"}},\"id\":\"72b1741c-22e4-496a-b1b6-1053ce21f9b5\",\"type\":\"HBar\"},{\"attributes\":{\"axis_label\":\"Categories\",\"formatter\":{\"id\":\"4bae024f-1d3c-40fb-8345-2e3e9e962ec6\",\"type\":\"CategoricalTickFormatter\"},\"plot\":{\"id\":\"b14c9553-520a-4f03-8506-6e455f2eabca\",\"subtype\":\"Figure\",\"type\":\"Plot\"},\"ticker\":{\"id\":\"abe24264-6226-4e92-ae24-bb7a73032fba\",\"type\":\"CategoricalTicker\"}},\"id\":\"4c893cf0-e601-44c0-812d-3340244d6099\",\"type\":\"CategoricalAxis\"},{\"attributes\":{},\"id\":\"6f92d578-8295-408a-9252-6fcf0e4059d3\",\"type\":\"WheelZoomTool\"},{\"attributes\":{\"active_drag\":\"auto\",\"active_inspect\":\"auto\",\"active_scroll\":\"auto\",\"active_tap\":\"auto\",\"tools\":[{\"id\":\"0b5088c0-2afd-490b-8c6f-053a6539b6ad\",\"type\":\"PanTool\"},{\"id\":\"6f92d578-8295-408a-9252-6fcf0e4059d3\",\"type\":\"WheelZoomTool\"},{\"id\":\"4c44b024-10e1-438d-b421-010737a1db6d\",\"type\":\"BoxZoomTool\"},{\"id\":\"80f66dd5-c67f-4ee7-8c5d-c93eea3035e5\",\"type\":\"SaveTool\"},{\"id\":\"d104e802-b69c-4811-899e-0848e4ce7dd6\",\"type\":\"ResetTool\"},{\"id\":\"bdfb2a51-77cf-4c19-982f-53e0f38b6fad\",\"type\":\"HelpTool\"}]},\"id\":\"7337e19d-5933-4da3-b8e7-61b186742e1d\",\"type\":\"Toolbar\"},{\"attributes\":{\"source\":{\"id\":\"6eb86441-b3c0-4b34-8690-c112f42f9c4c\",\"type\":\"ColumnDataSource\"}},\"id\":\"b47fee08-87a4-45f5-a64d-2d1e936a5f05\",\"type\":\"CDSView\"},{\"attributes\":{\"callback\":null,\"factors\":[\"Mid-level specialist\",\"Junior contributor\",\"Director\",\"Senior manager\",\"Team Leader\",\"Other\",\"Group Leader\",\"Executive\",\"Senior Executive\",\"Intern\"]},\"id\":\"8934f396-3abc-4d95-b7a7-53f176a37073\",\"type\":\"FactorRange\"},{\"attributes\":{},\"id\":\"26b9a9c6-3394-4db0-9b2b-1181847880fe\",\"type\":\"CategoricalScale\"},{\"attributes\":{},\"id\":\"80f66dd5-c67f-4ee7-8c5d-c93eea3035e5\",\"type\":\"SaveTool\"},{\"attributes\":{},\"id\":\"c27377d4-270e-4431-a0a2-77ff847a9088\",\"type\":\"BasicTicker\"},{\"attributes\":{\"overlay\":{\"id\":\"54c4f13d-5b1a-47fa-a070-09fdd578a57a\",\"type\":\"BoxAnnotation\"}},\"id\":\"4c44b024-10e1-438d-b421-010737a1db6d\",\"type\":\"BoxZoomTool\"},{\"attributes\":{\"callback\":null,\"end\":1245.6},\"id\":\"888ba3bf-b312-4b86-b61c-00c56a2b077d\",\"type\":\"Range1d\"},{\"attributes\":{\"dimension\":1,\"plot\":{\"id\":\"b14c9553-520a-4f03-8506-6e455f2eabca\",\"subtype\":\"Figure\",\"type\":\"Plot\"},\"ticker\":{\"id\":\"abe24264-6226-4e92-ae24-bb7a73032fba\",\"type\":\"CategoricalTicker\"}},\"id\":\"a54cb43e-0e39-4ebb-80da-fe7163069672\",\"type\":\"Grid\"},{\"attributes\":{},\"id\":\"abe24264-6226-4e92-ae24-bb7a73032fba\",\"type\":\"CategoricalTicker\"},{\"attributes\":{},\"id\":\"a1da9ef1-cc77-4f88-af40-207ed889b1ea\",\"type\":\"LinearScale\"},{\"attributes\":{\"fill_color\":{\"value\":\"#1f77b4\"},\"height\":{\"value\":0.75},\"line_color\":{\"value\":\"#1f77b4\"},\"right\":{\"field\":\"x\"},\"y\":{\"field\":\"y\"}},\"id\":\"ca4dc2c5-7692-406a-8570-e7886bd8222a\",\"type\":\"HBar\"},{\"attributes\":{},\"id\":\"4bae024f-1d3c-40fb-8345-2e3e9e962ec6\",\"type\":\"CategoricalTickFormatter\"},{\"attributes\":{},\"id\":\"bdfb2a51-77cf-4c19-982f-53e0f38b6fad\",\"type\":\"HelpTool\"},{\"attributes\":{\"axis_label\":\"Respondents\",\"formatter\":{\"id\":\"aba3cf8d-6ab1-4250-95f0-4638eb431165\",\"type\":\"BasicTickFormatter\"},\"plot\":{\"id\":\"b14c9553-520a-4f03-8506-6e455f2eabca\",\"subtype\":\"Figure\",\"type\":\"Plot\"},\"ticker\":{\"id\":\"c27377d4-270e-4431-a0a2-77ff847a9088\",\"type\":\"BasicTicker\"}},\"id\":\"fe5def53-dd80-4948-ad09-079ecb4c0ba8\",\"type\":\"LinearAxis\"},{\"attributes\":{},\"id\":\"d104e802-b69c-4811-899e-0848e4ce7dd6\",\"type\":\"ResetTool\"},{\"attributes\":{\"plot\":null,\"text\":\"AIGA-Only: My role is:\"},\"id\":\"9b9f5a50-cb2a-4312-a411-f968ef6b6a7f\",\"type\":\"Title\"},{\"attributes\":{},\"id\":\"aba3cf8d-6ab1-4250-95f0-4638eb431165\",\"type\":\"BasicTickFormatter\"},{\"attributes\":{},\"id\":\"0b5088c0-2afd-490b-8c6f-053a6539b6ad\",\"type\":\"PanTool\"},{\"attributes\":{\"below\":[{\"id\":\"fe5def53-dd80-4948-ad09-079ecb4c0ba8\",\"type\":\"LinearAxis\"}],\"left\":[{\"id\":\"4c893cf0-e601-44c0-812d-3340244d6099\",\"type\":\"CategoricalAxis\"}],\"min_border_right\":50,\"output_backend\":\"svg\",\"plot_height\":900,\"plot_width\":1400,\"renderers\":[{\"id\":\"fe5def53-dd80-4948-ad09-079ecb4c0ba8\",\"type\":\"LinearAxis\"},{\"id\":\"1d61517e-caf6-4b26-8c72-f7f305755147\",\"type\":\"Grid\"},{\"id\":\"4c893cf0-e601-44c0-812d-3340244d6099\",\"type\":\"CategoricalAxis\"},{\"id\":\"a54cb43e-0e39-4ebb-80da-fe7163069672\",\"type\":\"Grid\"},{\"id\":\"54c4f13d-5b1a-47fa-a070-09fdd578a57a\",\"type\":\"BoxAnnotation\"},{\"id\":\"d8eb0faf-0f07-4146-882e-b690343df2f1\",\"type\":\"GlyphRenderer\"},{\"id\":\"3e020337-a9f5-474a-8c96-b3c93e722a3a\",\"type\":\"LabelSet\"},{\"id\":\"ca815196-0114-48e4-a31e-0dbfbbe8b1a2\",\"type\":\"LabelSet\"}],\"title\":{\"id\":\"9b9f5a50-cb2a-4312-a411-f968ef6b6a7f\",\"type\":\"Title\"},\"toolbar\":{\"id\":\"7337e19d-5933-4da3-b8e7-61b186742e1d\",\"type\":\"Toolbar\"},\"x_range\":{\"id\":\"888ba3bf-b312-4b86-b61c-00c56a2b077d\",\"type\":\"Range1d\"},\"x_scale\":{\"id\":\"a1da9ef1-cc77-4f88-af40-207ed889b1ea\",\"type\":\"LinearScale\"},\"y_range\":{\"id\":\"8934f396-3abc-4d95-b7a7-53f176a37073\",\"type\":\"FactorRange\"},\"y_scale\":{\"id\":\"26b9a9c6-3394-4db0-9b2b-1181847880fe\",\"type\":\"CategoricalScale\"}},\"id\":\"b14c9553-520a-4f03-8506-6e455f2eabca\",\"subtype\":\"Figure\",\"type\":\"Plot\"},{\"attributes\":{\"level\":\"glyph\",\"plot\":{\"id\":\"b14c9553-520a-4f03-8506-6e455f2eabca\",\"subtype\":\"Figure\",\"type\":\"Plot\"},\"source\":{\"id\":\"6eb86441-b3c0-4b34-8690-c112f42f9c4c\",\"type\":\"ColumnDataSource\"},\"text\":{\"field\":\"pct\"},\"text_font_size\":{\"value\":\"8pt\"},\"x\":{\"field\":\"x\"},\"x_offset\":{\"value\":10},\"y\":{\"field\":\"y\"},\"y_offset\":{\"value\":2}},\"id\":\"3e020337-a9f5-474a-8c96-b3c93e722a3a\",\"type\":\"LabelSet\"},{\"attributes\":{\"bottom_units\":\"screen\",\"fill_alpha\":{\"value\":0.5},\"fill_color\":{\"value\":\"lightgrey\"},\"left_units\":\"screen\",\"level\":\"overlay\",\"line_alpha\":{\"value\":1.0},\"line_color\":{\"value\":\"black\"},\"line_dash\":[4,4],\"line_width\":{\"value\":2},\"plot\":null,\"render_mode\":\"css\",\"right_units\":\"screen\",\"top_units\":\"screen\"},\"id\":\"54c4f13d-5b1a-47fa-a070-09fdd578a57a\",\"type\":\"BoxAnnotation\"}],\"root_ids\":[\"b14c9553-520a-4f03-8506-6e455f2eabca\"]},\"title\":\"Bokeh Application\",\"version\":\"0.12.13\"}};\n",
              "  var render_items = [{\"docid\":\"c61690d9-f335-457a-b2e4-cc9e2b47b5b8\",\"elementid\":\"60672603-e3e6-4ded-a6e5-14611bc138dd\",\"modelid\":\"b14c9553-520a-4f03-8506-6e455f2eabca\"}];\n",
              "  root.Bokeh.embed.embed_items_notebook(docs_json, render_items);\n",
              "\n",
              "  }\n",
              "  if (root.Bokeh !== undefined) {\n",
              "    embed_document(root);\n",
              "  } else {\n",
              "    var attempts = 0;\n",
              "    var timer = setInterval(function(root) {\n",
              "      if (root.Bokeh !== undefined) {\n",
              "        embed_document(root);\n",
              "        clearInterval(timer);\n",
              "      }\n",
              "      attempts++;\n",
              "      if (attempts > 100) {\n",
              "        console.log(\"Bokeh: ERROR: Unable to run BokehJS code because BokehJS library is missing\")\n",
              "        clearInterval(timer);\n",
              "      }\n",
              "    }, 10, root)\n",
              "  }\n",
              "})(window);"
            ],
            "application/vnd.bokehjs_exec.v0+json": ""
          },
          "metadata": {
            "application/vnd.bokehjs_exec.v0+json": {
              "id": "b14c9553-520a-4f03-8506-6e455f2eabca"
            }
          }
        },
        {
          "output_type": "display_data",
          "data": {
            "text/html": [
              "\n",
              "<div class=\"bk-root\">\n",
              "    <div class=\"bk-plotdiv\" id=\"37b16681-ace2-4bbf-8c13-b313f55e2413\"></div>\n",
              "</div>"
            ]
          },
          "metadata": {}
        },
        {
          "output_type": "display_data",
          "data": {
            "application/javascript": [
              "(function(root) {\n",
              "  function embed_document(root) {\n",
              "    \n",
              "  var docs_json = {\"4b899812-3be6-4fee-a312-6f78f7bd4075\":{\"roots\":{\"references\":[{\"attributes\":{\"active_drag\":\"auto\",\"active_inspect\":\"auto\",\"active_scroll\":\"auto\",\"active_tap\":\"auto\",\"tools\":[{\"id\":\"877cc228-dad9-4808-958a-4d6f95b3fc50\",\"type\":\"PanTool\"},{\"id\":\"3fb60092-444d-4c29-8d93-33e27bb16517\",\"type\":\"WheelZoomTool\"},{\"id\":\"6b156f4b-2eb1-4f4f-872a-94ece36aea04\",\"type\":\"BoxZoomTool\"},{\"id\":\"a3ed2628-8e48-4c94-8364-3b0ddf143d69\",\"type\":\"SaveTool\"},{\"id\":\"2a94b2cc-31fa-47ca-bf2e-4b04d468ec57\",\"type\":\"ResetTool\"},{\"id\":\"c5ea2595-9a93-40eb-81a9-c2508da8a095\",\"type\":\"HelpTool\"}]},\"id\":\"c846fee8-4667-456e-819b-642a004c9434\",\"type\":\"Toolbar\"},{\"attributes\":{},\"id\":\"877cc228-dad9-4808-958a-4d6f95b3fc50\",\"type\":\"PanTool\"},{\"attributes\":{\"data_source\":{\"id\":\"117e2912-054e-4f63-9bf7-a0589f248253\",\"type\":\"ColumnDataSource\"},\"glyph\":{\"id\":\"340b3e5a-d94b-4a17-bb47-b4b51c9dcc66\",\"type\":\"HBar\"},\"hover_glyph\":null,\"muted_glyph\":null,\"nonselection_glyph\":{\"id\":\"7cab5ccf-c34b-4e4e-b362-5eff06fe07d0\",\"type\":\"HBar\"},\"selection_glyph\":null,\"view\":{\"id\":\"aa058c38-8bc1-465a-a46b-4689cc72f3d4\",\"type\":\"CDSView\"}},\"id\":\"160e4db0-c8cd-413f-b31d-103a3d0e4912\",\"type\":\"GlyphRenderer\"},{\"attributes\":{},\"id\":\"bbefd64b-9fd0-46ac-b722-f2a235112d88\",\"type\":\"CategoricalTicker\"},{\"attributes\":{\"dimension\":1,\"plot\":{\"id\":\"b62cca82-05c5-41ec-83bc-ba63e7a40f32\",\"subtype\":\"Figure\",\"type\":\"Plot\"},\"ticker\":{\"id\":\"bbefd64b-9fd0-46ac-b722-f2a235112d88\",\"type\":\"CategoricalTicker\"}},\"id\":\"a80eb9b5-9838-4893-8d62-5252076b0132\",\"type\":\"Grid\"},{\"attributes\":{\"bottom_units\":\"screen\",\"fill_alpha\":{\"value\":0.5},\"fill_color\":{\"value\":\"lightgrey\"},\"left_units\":\"screen\",\"level\":\"overlay\",\"line_alpha\":{\"value\":1.0},\"line_color\":{\"value\":\"black\"},\"line_dash\":[4,4],\"line_width\":{\"value\":2},\"plot\":null,\"render_mode\":\"css\",\"right_units\":\"screen\",\"top_units\":\"screen\"},\"id\":\"e4a86fd1-91a5-46d8-a42f-ce58880ac1db\",\"type\":\"BoxAnnotation\"},{\"attributes\":{},\"id\":\"377d4b16-82b4-456a-9df5-8ce177edcd85\",\"type\":\"BasicTicker\"},{\"attributes\":{},\"id\":\"2c2fcef1-7e85-4748-af43-b0ecb5d6c733\",\"type\":\"CategoricalScale\"},{\"attributes\":{},\"id\":\"fd8f4c14-dd19-4d99-9338-4fda0b961372\",\"type\":\"CategoricalTickFormatter\"},{\"attributes\":{\"level\":\"glyph\",\"plot\":{\"id\":\"b62cca82-05c5-41ec-83bc-ba63e7a40f32\",\"subtype\":\"Figure\",\"type\":\"Plot\"},\"source\":{\"id\":\"117e2912-054e-4f63-9bf7-a0589f248253\",\"type\":\"ColumnDataSource\"},\"text\":{\"field\":\"pct\"},\"text_font_size\":{\"value\":\"8pt\"},\"x\":{\"field\":\"x\"},\"x_offset\":{\"value\":10},\"y\":{\"field\":\"y\"},\"y_offset\":{\"value\":2}},\"id\":\"ccfd5c97-3b57-4f53-b964-cf3399a648d3\",\"type\":\"LabelSet\"},{\"attributes\":{\"source\":{\"id\":\"117e2912-054e-4f63-9bf7-a0589f248253\",\"type\":\"ColumnDataSource\"}},\"id\":\"aa058c38-8bc1-465a-a46b-4689cc72f3d4\",\"type\":\"CDSView\"},{\"attributes\":{\"callback\":null,\"factors\":[\"Associate Professor\",\"Professor\",\"Program Chair\",\"Other\",\"Instructor\",\"Adjunct Professor\",\"Lecturer\",\"Dean\",\"Associate Dean\"]},\"id\":\"9c4cfc3e-a146-4dd0-8f0b-d6d18fc5d1c1\",\"type\":\"FactorRange\"},{\"attributes\":{},\"id\":\"a3ed2628-8e48-4c94-8364-3b0ddf143d69\",\"type\":\"SaveTool\"},{\"attributes\":{\"plot\":{\"id\":\"b62cca82-05c5-41ec-83bc-ba63e7a40f32\",\"subtype\":\"Figure\",\"type\":\"Plot\"},\"ticker\":{\"id\":\"377d4b16-82b4-456a-9df5-8ce177edcd85\",\"type\":\"BasicTicker\"}},\"id\":\"a9bf96dd-b3a5-46df-a3c3-629a751c20b5\",\"type\":\"Grid\"},{\"attributes\":{\"overlay\":{\"id\":\"e4a86fd1-91a5-46d8-a42f-ce58880ac1db\",\"type\":\"BoxAnnotation\"}},\"id\":\"6b156f4b-2eb1-4f4f-872a-94ece36aea04\",\"type\":\"BoxZoomTool\"},{\"attributes\":{\"level\":\"glyph\",\"plot\":{\"id\":\"b62cca82-05c5-41ec-83bc-ba63e7a40f32\",\"subtype\":\"Figure\",\"type\":\"Plot\"},\"source\":{\"id\":\"117e2912-054e-4f63-9bf7-a0589f248253\",\"type\":\"ColumnDataSource\"},\"text\":{\"field\":\"x\"},\"text_font_size\":{\"value\":\"8pt\"},\"x\":{\"field\":\"x\"},\"x_offset\":{\"value\":10},\"y\":{\"field\":\"y\"},\"y_offset\":{\"value\":-12}},\"id\":\"301693c4-85b4-415c-bd9c-70eb1a7695e8\",\"type\":\"LabelSet\"},{\"attributes\":{\"callback\":null,\"end\":163.2},\"id\":\"14533c0d-1370-4a65-9047-018f7c994402\",\"type\":\"Range1d\"},{\"attributes\":{\"fill_color\":{\"value\":\"#1f77b4\"},\"height\":{\"value\":0.75},\"line_color\":{\"value\":\"#1f77b4\"},\"right\":{\"field\":\"x\"},\"y\":{\"field\":\"y\"}},\"id\":\"340b3e5a-d94b-4a17-bb47-b4b51c9dcc66\",\"type\":\"HBar\"},{\"attributes\":{},\"id\":\"2a94b2cc-31fa-47ca-bf2e-4b04d468ec57\",\"type\":\"ResetTool\"},{\"attributes\":{\"callback\":null,\"column_names\":[\"y\",\"x\",\"pct\"],\"data\":{\"pct\":[\"1.85%\",\"0.75%\",\"0.60%\",\"0.56%\",\"0.50%\",\"0.28%\",\"0.24%\",\"0.04%\",\"0.02%\"],\"x\":[86,35,28,26,23,13,11,2,1],\"y\":[\"Associate Professor\",\"Professor\",\"Program Chair\",\"Other\",\"Instructor\",\"Adjunct Professor\",\"Lecturer\",\"Dean\",\"Associate Dean\"]}},\"id\":\"117e2912-054e-4f63-9bf7-a0589f248253\",\"type\":\"ColumnDataSource\"},{\"attributes\":{},\"id\":\"6133ba13-8466-4136-8d73-ca597b067612\",\"type\":\"LinearScale\"},{\"attributes\":{},\"id\":\"e043355b-a8b3-4f79-b961-4d343fa512b3\",\"type\":\"BasicTickFormatter\"},{\"attributes\":{\"below\":[{\"id\":\"1010c04f-fc92-4c81-9822-6597e80cb5d7\",\"type\":\"LinearAxis\"}],\"left\":[{\"id\":\"13ca91f0-e35e-457e-8af8-f2c647af333c\",\"type\":\"CategoricalAxis\"}],\"min_border_right\":50,\"output_backend\":\"svg\",\"plot_height\":900,\"plot_width\":1400,\"renderers\":[{\"id\":\"1010c04f-fc92-4c81-9822-6597e80cb5d7\",\"type\":\"LinearAxis\"},{\"id\":\"a9bf96dd-b3a5-46df-a3c3-629a751c20b5\",\"type\":\"Grid\"},{\"id\":\"13ca91f0-e35e-457e-8af8-f2c647af333c\",\"type\":\"CategoricalAxis\"},{\"id\":\"a80eb9b5-9838-4893-8d62-5252076b0132\",\"type\":\"Grid\"},{\"id\":\"e4a86fd1-91a5-46d8-a42f-ce58880ac1db\",\"type\":\"BoxAnnotation\"},{\"id\":\"160e4db0-c8cd-413f-b31d-103a3d0e4912\",\"type\":\"GlyphRenderer\"},{\"id\":\"ccfd5c97-3b57-4f53-b964-cf3399a648d3\",\"type\":\"LabelSet\"},{\"id\":\"301693c4-85b4-415c-bd9c-70eb1a7695e8\",\"type\":\"LabelSet\"}],\"title\":{\"id\":\"5708f78a-8abf-4140-a873-1b6ef958a4ec\",\"type\":\"Title\"},\"toolbar\":{\"id\":\"c846fee8-4667-456e-819b-642a004c9434\",\"type\":\"Toolbar\"},\"x_range\":{\"id\":\"14533c0d-1370-4a65-9047-018f7c994402\",\"type\":\"Range1d\"},\"x_scale\":{\"id\":\"6133ba13-8466-4136-8d73-ca597b067612\",\"type\":\"LinearScale\"},\"y_range\":{\"id\":\"9c4cfc3e-a146-4dd0-8f0b-d6d18fc5d1c1\",\"type\":\"FactorRange\"},\"y_scale\":{\"id\":\"2c2fcef1-7e85-4748-af43-b0ecb5d6c733\",\"type\":\"CategoricalScale\"}},\"id\":\"b62cca82-05c5-41ec-83bc-ba63e7a40f32\",\"subtype\":\"Figure\",\"type\":\"Plot\"},{\"attributes\":{\"axis_label\":\"Categories\",\"formatter\":{\"id\":\"fd8f4c14-dd19-4d99-9338-4fda0b961372\",\"type\":\"CategoricalTickFormatter\"},\"plot\":{\"id\":\"b62cca82-05c5-41ec-83bc-ba63e7a40f32\",\"subtype\":\"Figure\",\"type\":\"Plot\"},\"ticker\":{\"id\":\"bbefd64b-9fd0-46ac-b722-f2a235112d88\",\"type\":\"CategoricalTicker\"}},\"id\":\"13ca91f0-e35e-457e-8af8-f2c647af333c\",\"type\":\"CategoricalAxis\"},{\"attributes\":{\"plot\":null,\"text\":\"AIGA-Only: My role is:\"},\"id\":\"5708f78a-8abf-4140-a873-1b6ef958a4ec\",\"type\":\"Title\"},{\"attributes\":{},\"id\":\"3fb60092-444d-4c29-8d93-33e27bb16517\",\"type\":\"WheelZoomTool\"},{\"attributes\":{\"fill_alpha\":{\"value\":0.1},\"fill_color\":{\"value\":\"#1f77b4\"},\"height\":{\"value\":0.75},\"line_alpha\":{\"value\":0.1},\"line_color\":{\"value\":\"#1f77b4\"},\"right\":{\"field\":\"x\"},\"y\":{\"field\":\"y\"}},\"id\":\"7cab5ccf-c34b-4e4e-b362-5eff06fe07d0\",\"type\":\"HBar\"},{\"attributes\":{\"axis_label\":\"Respondents\",\"formatter\":{\"id\":\"e043355b-a8b3-4f79-b961-4d343fa512b3\",\"type\":\"BasicTickFormatter\"},\"plot\":{\"id\":\"b62cca82-05c5-41ec-83bc-ba63e7a40f32\",\"subtype\":\"Figure\",\"type\":\"Plot\"},\"ticker\":{\"id\":\"377d4b16-82b4-456a-9df5-8ce177edcd85\",\"type\":\"BasicTicker\"}},\"id\":\"1010c04f-fc92-4c81-9822-6597e80cb5d7\",\"type\":\"LinearAxis\"},{\"attributes\":{},\"id\":\"c5ea2595-9a93-40eb-81a9-c2508da8a095\",\"type\":\"HelpTool\"}],\"root_ids\":[\"b62cca82-05c5-41ec-83bc-ba63e7a40f32\"]},\"title\":\"Bokeh Application\",\"version\":\"0.12.13\"}};\n",
              "  var render_items = [{\"docid\":\"4b899812-3be6-4fee-a312-6f78f7bd4075\",\"elementid\":\"37b16681-ace2-4bbf-8c13-b313f55e2413\",\"modelid\":\"b62cca82-05c5-41ec-83bc-ba63e7a40f32\"}];\n",
              "  root.Bokeh.embed.embed_items_notebook(docs_json, render_items);\n",
              "\n",
              "  }\n",
              "  if (root.Bokeh !== undefined) {\n",
              "    embed_document(root);\n",
              "  } else {\n",
              "    var attempts = 0;\n",
              "    var timer = setInterval(function(root) {\n",
              "      if (root.Bokeh !== undefined) {\n",
              "        embed_document(root);\n",
              "        clearInterval(timer);\n",
              "      }\n",
              "      attempts++;\n",
              "      if (attempts > 100) {\n",
              "        console.log(\"Bokeh: ERROR: Unable to run BokehJS code because BokehJS library is missing\")\n",
              "        clearInterval(timer);\n",
              "      }\n",
              "    }, 10, root)\n",
              "  }\n",
              "})(window);"
            ],
            "application/vnd.bokehjs_exec.v0+json": ""
          },
          "metadata": {
            "application/vnd.bokehjs_exec.v0+json": {
              "id": "b62cca82-05c5-41ec-83bc-ba63e7a40f32"
            }
          }
        },
        {
          "output_type": "display_data",
          "data": {
            "text/html": [
              "\n",
              "<div class=\"bk-root\">\n",
              "    <div class=\"bk-plotdiv\" id=\"ca1cf09e-14c2-49d6-97b0-86b85e8ab4df\"></div>\n",
              "</div>"
            ]
          },
          "metadata": {}
        },
        {
          "output_type": "display_data",
          "data": {
            "application/javascript": [
              "(function(root) {\n",
              "  function embed_document(root) {\n",
              "    \n",
              "  var docs_json = {\"ef9aba30-4d58-4651-ad2d-4fef617ff866\":{\"roots\":{\"references\":[{\"attributes\":{\"overlay\":{\"id\":\"bb5b0ed6-d747-4cf3-888f-6de1963cf51b\",\"type\":\"BoxAnnotation\"}},\"id\":\"fa364508-316d-4d9e-ac6a-8bf6a288e2fd\",\"type\":\"BoxZoomTool\"},{\"attributes\":{\"callback\":null,\"column_names\":[\"y\",\"x\",\"pct\"],\"data\":{\"pct\":[\"33.38%\",\"30.66%\",\"16.88%\",\"8.15%\",\"7.76%\",\"3.10%\"],\"x\":[1548,1422,783,378,360,144],\"y\":[\"1-2 years\",\"Less than 1 year\",\"3-4 years\",\"5-7 years\",\"10+ years\",\"8-10 years\"]}},\"id\":\"6bbb8d1f-7a0d-4a4a-a677-977058915abe\",\"type\":\"ColumnDataSource\"},{\"attributes\":{},\"id\":\"78d6405e-9598-4f05-9317-aa76b59a5af0\",\"type\":\"LinearScale\"},{\"attributes\":{},\"id\":\"6448922f-e862-4c63-9db4-9b70328d96f1\",\"type\":\"WheelZoomTool\"},{\"attributes\":{\"fill_alpha\":{\"value\":0.1},\"fill_color\":{\"value\":\"#1f77b4\"},\"height\":{\"value\":0.75},\"line_alpha\":{\"value\":0.1},\"line_color\":{\"value\":\"#1f77b4\"},\"right\":{\"field\":\"x\"},\"y\":{\"field\":\"y\"}},\"id\":\"e08b18b7-3d8a-44fd-b28a-ae6cb4015e7f\",\"type\":\"HBar\"},{\"attributes\":{\"active_drag\":\"auto\",\"active_inspect\":\"auto\",\"active_scroll\":\"auto\",\"active_tap\":\"auto\",\"tools\":[{\"id\":\"7283290c-d522-4fa2-8a55-3294a886ce26\",\"type\":\"PanTool\"},{\"id\":\"6448922f-e862-4c63-9db4-9b70328d96f1\",\"type\":\"WheelZoomTool\"},{\"id\":\"fa364508-316d-4d9e-ac6a-8bf6a288e2fd\",\"type\":\"BoxZoomTool\"},{\"id\":\"98c6b948-ccbd-41c8-bc5b-ecf2e9a91feb\",\"type\":\"SaveTool\"},{\"id\":\"b590d724-2d76-4f99-98e0-53b7f0664f5a\",\"type\":\"ResetTool\"},{\"id\":\"8380c741-e0bd-478d-bf84-dfd41b296c41\",\"type\":\"HelpTool\"}]},\"id\":\"483703a5-2880-410d-8ed9-eed3def652a6\",\"type\":\"Toolbar\"},{\"attributes\":{\"plot\":null,\"text\":\"AIGA-Only: I've been in my current role for:\"},\"id\":\"1c06a1db-b7f6-49d1-83a1-ef04ebccb04b\",\"type\":\"Title\"},{\"attributes\":{\"callback\":null,\"factors\":[\"1-2 years\",\"Less than 1 year\",\"3-4 years\",\"5-7 years\",\"10+ years\",\"8-10 years\"]},\"id\":\"cb0e5134-c4aa-43c1-be3a-b385f26b69d9\",\"type\":\"FactorRange\"},{\"attributes\":{\"level\":\"glyph\",\"plot\":{\"id\":\"f38a47f9-7849-44e6-a435-10edcf20fb27\",\"subtype\":\"Figure\",\"type\":\"Plot\"},\"source\":{\"id\":\"6bbb8d1f-7a0d-4a4a-a677-977058915abe\",\"type\":\"ColumnDataSource\"},\"text\":{\"field\":\"x\"},\"text_font_size\":{\"value\":\"8pt\"},\"x\":{\"field\":\"x\"},\"x_offset\":{\"value\":10},\"y\":{\"field\":\"y\"},\"y_offset\":{\"value\":-12}},\"id\":\"5bbee278-d2b5-40c5-9324-5a1fc570c735\",\"type\":\"LabelSet\"},{\"attributes\":{\"data_source\":{\"id\":\"6bbb8d1f-7a0d-4a4a-a677-977058915abe\",\"type\":\"ColumnDataSource\"},\"glyph\":{\"id\":\"0b11f47d-ab4f-4591-9d01-2a92bd84ca91\",\"type\":\"HBar\"},\"hover_glyph\":null,\"muted_glyph\":null,\"nonselection_glyph\":{\"id\":\"e08b18b7-3d8a-44fd-b28a-ae6cb4015e7f\",\"type\":\"HBar\"},\"selection_glyph\":null,\"view\":{\"id\":\"13afc614-8122-4c8d-9a2d-840b11499318\",\"type\":\"CDSView\"}},\"id\":\"b1658da8-5113-4a51-9313-6498fe53c1c6\",\"type\":\"GlyphRenderer\"},{\"attributes\":{\"axis_label\":\"Categories\",\"formatter\":{\"id\":\"a26816eb-0248-4fc4-9036-eee56414923d\",\"type\":\"CategoricalTickFormatter\"},\"plot\":{\"id\":\"f38a47f9-7849-44e6-a435-10edcf20fb27\",\"subtype\":\"Figure\",\"type\":\"Plot\"},\"ticker\":{\"id\":\"9d3bf3f9-16f1-4f30-bf70-ca4f11c60672\",\"type\":\"CategoricalTicker\"}},\"id\":\"97d393f1-b95d-42ab-8804-cd55e225e1ca\",\"type\":\"CategoricalAxis\"},{\"attributes\":{},\"id\":\"9d3bf3f9-16f1-4f30-bf70-ca4f11c60672\",\"type\":\"CategoricalTicker\"},{\"attributes\":{},\"id\":\"8380c741-e0bd-478d-bf84-dfd41b296c41\",\"type\":\"HelpTool\"},{\"attributes\":{},\"id\":\"7283290c-d522-4fa2-8a55-3294a886ce26\",\"type\":\"PanTool\"},{\"attributes\":{\"callback\":null,\"end\":1917.6},\"id\":\"c87b2a22-c8da-45b5-81ae-c9d93acf617e\",\"type\":\"Range1d\"},{\"attributes\":{\"axis_label\":\"Respondents\",\"formatter\":{\"id\":\"09b3d0dd-27ac-42e3-98bf-5fb553f06572\",\"type\":\"BasicTickFormatter\"},\"plot\":{\"id\":\"f38a47f9-7849-44e6-a435-10edcf20fb27\",\"subtype\":\"Figure\",\"type\":\"Plot\"},\"ticker\":{\"id\":\"d6a44123-de80-4fbd-b9f5-19d1310b249a\",\"type\":\"BasicTicker\"}},\"id\":\"eecc408c-d541-4613-8730-99b2ff94e2ec\",\"type\":\"LinearAxis\"},{\"attributes\":{},\"id\":\"a26816eb-0248-4fc4-9036-eee56414923d\",\"type\":\"CategoricalTickFormatter\"},{\"attributes\":{},\"id\":\"09b3d0dd-27ac-42e3-98bf-5fb553f06572\",\"type\":\"BasicTickFormatter\"},{\"attributes\":{\"below\":[{\"id\":\"eecc408c-d541-4613-8730-99b2ff94e2ec\",\"type\":\"LinearAxis\"}],\"left\":[{\"id\":\"97d393f1-b95d-42ab-8804-cd55e225e1ca\",\"type\":\"CategoricalAxis\"}],\"min_border_right\":50,\"output_backend\":\"svg\",\"plot_height\":900,\"plot_width\":1400,\"renderers\":[{\"id\":\"eecc408c-d541-4613-8730-99b2ff94e2ec\",\"type\":\"LinearAxis\"},{\"id\":\"0d14f073-a539-4830-a38e-3e930461f7ce\",\"type\":\"Grid\"},{\"id\":\"97d393f1-b95d-42ab-8804-cd55e225e1ca\",\"type\":\"CategoricalAxis\"},{\"id\":\"d068d8be-1702-4af7-b749-778ffbad1de1\",\"type\":\"Grid\"},{\"id\":\"bb5b0ed6-d747-4cf3-888f-6de1963cf51b\",\"type\":\"BoxAnnotation\"},{\"id\":\"b1658da8-5113-4a51-9313-6498fe53c1c6\",\"type\":\"GlyphRenderer\"},{\"id\":\"ee7015ba-58f6-4a27-87c8-493afa97c729\",\"type\":\"LabelSet\"},{\"id\":\"5bbee278-d2b5-40c5-9324-5a1fc570c735\",\"type\":\"LabelSet\"}],\"title\":{\"id\":\"1c06a1db-b7f6-49d1-83a1-ef04ebccb04b\",\"type\":\"Title\"},\"toolbar\":{\"id\":\"483703a5-2880-410d-8ed9-eed3def652a6\",\"type\":\"Toolbar\"},\"x_range\":{\"id\":\"c87b2a22-c8da-45b5-81ae-c9d93acf617e\",\"type\":\"Range1d\"},\"x_scale\":{\"id\":\"78d6405e-9598-4f05-9317-aa76b59a5af0\",\"type\":\"LinearScale\"},\"y_range\":{\"id\":\"cb0e5134-c4aa-43c1-be3a-b385f26b69d9\",\"type\":\"FactorRange\"},\"y_scale\":{\"id\":\"987df2c9-5a61-436c-ab17-03258bc8cf28\",\"type\":\"CategoricalScale\"}},\"id\":\"f38a47f9-7849-44e6-a435-10edcf20fb27\",\"subtype\":\"Figure\",\"type\":\"Plot\"},{\"attributes\":{\"plot\":{\"id\":\"f38a47f9-7849-44e6-a435-10edcf20fb27\",\"subtype\":\"Figure\",\"type\":\"Plot\"},\"ticker\":{\"id\":\"d6a44123-de80-4fbd-b9f5-19d1310b249a\",\"type\":\"BasicTicker\"}},\"id\":\"0d14f073-a539-4830-a38e-3e930461f7ce\",\"type\":\"Grid\"},{\"attributes\":{},\"id\":\"b590d724-2d76-4f99-98e0-53b7f0664f5a\",\"type\":\"ResetTool\"},{\"attributes\":{},\"id\":\"d6a44123-de80-4fbd-b9f5-19d1310b249a\",\"type\":\"BasicTicker\"},{\"attributes\":{},\"id\":\"987df2c9-5a61-436c-ab17-03258bc8cf28\",\"type\":\"CategoricalScale\"},{\"attributes\":{\"fill_color\":{\"value\":\"#1f77b4\"},\"height\":{\"value\":0.75},\"line_color\":{\"value\":\"#1f77b4\"},\"right\":{\"field\":\"x\"},\"y\":{\"field\":\"y\"}},\"id\":\"0b11f47d-ab4f-4591-9d01-2a92bd84ca91\",\"type\":\"HBar\"},{\"attributes\":{\"level\":\"glyph\",\"plot\":{\"id\":\"f38a47f9-7849-44e6-a435-10edcf20fb27\",\"subtype\":\"Figure\",\"type\":\"Plot\"},\"source\":{\"id\":\"6bbb8d1f-7a0d-4a4a-a677-977058915abe\",\"type\":\"ColumnDataSource\"},\"text\":{\"field\":\"pct\"},\"text_font_size\":{\"value\":\"8pt\"},\"x\":{\"field\":\"x\"},\"x_offset\":{\"value\":10},\"y\":{\"field\":\"y\"},\"y_offset\":{\"value\":2}},\"id\":\"ee7015ba-58f6-4a27-87c8-493afa97c729\",\"type\":\"LabelSet\"},{\"attributes\":{},\"id\":\"98c6b948-ccbd-41c8-bc5b-ecf2e9a91feb\",\"type\":\"SaveTool\"},{\"attributes\":{\"dimension\":1,\"plot\":{\"id\":\"f38a47f9-7849-44e6-a435-10edcf20fb27\",\"subtype\":\"Figure\",\"type\":\"Plot\"},\"ticker\":{\"id\":\"9d3bf3f9-16f1-4f30-bf70-ca4f11c60672\",\"type\":\"CategoricalTicker\"}},\"id\":\"d068d8be-1702-4af7-b749-778ffbad1de1\",\"type\":\"Grid\"},{\"attributes\":{\"source\":{\"id\":\"6bbb8d1f-7a0d-4a4a-a677-977058915abe\",\"type\":\"ColumnDataSource\"}},\"id\":\"13afc614-8122-4c8d-9a2d-840b11499318\",\"type\":\"CDSView\"},{\"attributes\":{\"bottom_units\":\"screen\",\"fill_alpha\":{\"value\":0.5},\"fill_color\":{\"value\":\"lightgrey\"},\"left_units\":\"screen\",\"level\":\"overlay\",\"line_alpha\":{\"value\":1.0},\"line_color\":{\"value\":\"black\"},\"line_dash\":[4,4],\"line_width\":{\"value\":2},\"plot\":null,\"render_mode\":\"css\",\"right_units\":\"screen\",\"top_units\":\"screen\"},\"id\":\"bb5b0ed6-d747-4cf3-888f-6de1963cf51b\",\"type\":\"BoxAnnotation\"}],\"root_ids\":[\"f38a47f9-7849-44e6-a435-10edcf20fb27\"]},\"title\":\"Bokeh Application\",\"version\":\"0.12.13\"}};\n",
              "  var render_items = [{\"docid\":\"ef9aba30-4d58-4651-ad2d-4fef617ff866\",\"elementid\":\"ca1cf09e-14c2-49d6-97b0-86b85e8ab4df\",\"modelid\":\"f38a47f9-7849-44e6-a435-10edcf20fb27\"}];\n",
              "  root.Bokeh.embed.embed_items_notebook(docs_json, render_items);\n",
              "\n",
              "  }\n",
              "  if (root.Bokeh !== undefined) {\n",
              "    embed_document(root);\n",
              "  } else {\n",
              "    var attempts = 0;\n",
              "    var timer = setInterval(function(root) {\n",
              "      if (root.Bokeh !== undefined) {\n",
              "        embed_document(root);\n",
              "        clearInterval(timer);\n",
              "      }\n",
              "      attempts++;\n",
              "      if (attempts > 100) {\n",
              "        console.log(\"Bokeh: ERROR: Unable to run BokehJS code because BokehJS library is missing\")\n",
              "        clearInterval(timer);\n",
              "      }\n",
              "    }, 10, root)\n",
              "  }\n",
              "})(window);"
            ],
            "application/vnd.bokehjs_exec.v0+json": ""
          },
          "metadata": {
            "application/vnd.bokehjs_exec.v0+json": {
              "id": "f38a47f9-7849-44e6-a435-10edcf20fb27"
            }
          }
        },
        {
          "output_type": "display_data",
          "data": {
            "text/html": [
              "\n",
              "<div class=\"bk-root\">\n",
              "    <div class=\"bk-plotdiv\" id=\"cbade9c2-52a3-48a3-9b20-e5c9c1105f6a\"></div>\n",
              "</div>"
            ]
          },
          "metadata": {}
        },
        {
          "output_type": "display_data",
          "data": {
            "application/javascript": [
              "(function(root) {\n",
              "  function embed_document(root) {\n",
              "    \n",
              "  var docs_json = {\"1c14a922-8b4b-47b6-b072-5a253abb739c\":{\"roots\":{\"references\":[{\"attributes\":{\"dimension\":1,\"plot\":{\"id\":\"38c4bc9f-4e40-4071-b103-a8c7e143f024\",\"subtype\":\"Figure\",\"type\":\"Plot\"},\"ticker\":{\"id\":\"aea5e039-f153-47aa-8c54-636b23bcdd33\",\"type\":\"CategoricalTicker\"}},\"id\":\"6c7d1816-203d-45cf-85f4-5e3dfbd73d0c\",\"type\":\"Grid\"},{\"attributes\":{},\"id\":\"aea5e039-f153-47aa-8c54-636b23bcdd33\",\"type\":\"CategoricalTicker\"},{\"attributes\":{\"level\":\"glyph\",\"plot\":{\"id\":\"38c4bc9f-4e40-4071-b103-a8c7e143f024\",\"subtype\":\"Figure\",\"type\":\"Plot\"},\"source\":{\"id\":\"5cda85e1-53bf-4952-b079-9ee8ab9ddfd7\",\"type\":\"ColumnDataSource\"},\"text\":{\"field\":\"x\"},\"text_font_size\":{\"value\":\"8pt\"},\"x\":{\"field\":\"x\"},\"x_offset\":{\"value\":10},\"y\":{\"field\":\"y\"},\"y_offset\":{\"value\":-12}},\"id\":\"0ad0e72c-685d-426e-9abb-a486d0c710ce\",\"type\":\"LabelSet\"},{\"attributes\":{\"callback\":null,\"end\":2496.0},\"id\":\"a83b2344-84a6-4f9f-b8cf-18b48fb87da6\",\"type\":\"Range1d\"},{\"attributes\":{},\"id\":\"036b2c0e-4b90-4094-84b5-b525c516817b\",\"type\":\"CategoricalScale\"},{\"attributes\":{\"level\":\"glyph\",\"plot\":{\"id\":\"38c4bc9f-4e40-4071-b103-a8c7e143f024\",\"subtype\":\"Figure\",\"type\":\"Plot\"},\"source\":{\"id\":\"5cda85e1-53bf-4952-b079-9ee8ab9ddfd7\",\"type\":\"ColumnDataSource\"},\"text\":{\"field\":\"pct\"},\"text_font_size\":{\"value\":\"8pt\"},\"x\":{\"field\":\"x\"},\"x_offset\":{\"value\":10},\"y\":{\"field\":\"y\"},\"y_offset\":{\"value\":2}},\"id\":\"5cf8337e-6985-483f-894c-b9b643490b62\",\"type\":\"LabelSet\"},{\"attributes\":{\"active_drag\":\"auto\",\"active_inspect\":\"auto\",\"active_scroll\":\"auto\",\"active_tap\":\"auto\",\"tools\":[{\"id\":\"a92d9c0e-d207-4326-8a0d-ccde281bf7e1\",\"type\":\"PanTool\"},{\"id\":\"30ba8f71-850d-4c7a-af82-f91a950ab24f\",\"type\":\"WheelZoomTool\"},{\"id\":\"666aa679-c207-4b77-937a-9e3f536e7fd2\",\"type\":\"BoxZoomTool\"},{\"id\":\"f968705b-0c79-449e-93c0-6f5851939ded\",\"type\":\"SaveTool\"},{\"id\":\"4abbec2c-a6ce-45fd-8f8a-3910bf07f45d\",\"type\":\"ResetTool\"},{\"id\":\"ea38832a-2b1d-4c94-b7cb-4c67f3559173\",\"type\":\"HelpTool\"}]},\"id\":\"44933809-5bc6-408a-aa60-70ec8987e17b\",\"type\":\"Toolbar\"},{\"attributes\":{},\"id\":\"2e293ba6-07cc-41ac-a944-34ce5acdb684\",\"type\":\"BasicTicker\"},{\"attributes\":{},\"id\":\"a92d9c0e-d207-4326-8a0d-ccde281bf7e1\",\"type\":\"PanTool\"},{\"attributes\":{\"bottom_units\":\"screen\",\"fill_alpha\":{\"value\":0.5},\"fill_color\":{\"value\":\"lightgrey\"},\"left_units\":\"screen\",\"level\":\"overlay\",\"line_alpha\":{\"value\":1.0},\"line_color\":{\"value\":\"black\"},\"line_dash\":[4,4],\"line_width\":{\"value\":2},\"plot\":null,\"render_mode\":\"css\",\"right_units\":\"screen\",\"top_units\":\"screen\"},\"id\":\"c0666c8a-35fc-4f40-94b8-d9218a545f5e\",\"type\":\"BoxAnnotation\"},{\"attributes\":{},\"id\":\"4abbec2c-a6ce-45fd-8f8a-3910bf07f45d\",\"type\":\"ResetTool\"},{\"attributes\":{\"source\":{\"id\":\"5cda85e1-53bf-4952-b079-9ee8ab9ddfd7\",\"type\":\"ColumnDataSource\"}},\"id\":\"33ab8ad5-18ba-4725-9eac-ca8e902d5a87\",\"type\":\"CDSView\"},{\"attributes\":{},\"id\":\"f968705b-0c79-449e-93c0-6f5851939ded\",\"type\":\"SaveTool\"},{\"attributes\":{},\"id\":\"30ba8f71-850d-4c7a-af82-f91a950ab24f\",\"type\":\"WheelZoomTool\"},{\"attributes\":{\"plot\":{\"id\":\"38c4bc9f-4e40-4071-b103-a8c7e143f024\",\"subtype\":\"Figure\",\"type\":\"Plot\"},\"ticker\":{\"id\":\"2e293ba6-07cc-41ac-a944-34ce5acdb684\",\"type\":\"BasicTicker\"}},\"id\":\"cca35cec-ac53-45e8-b738-2994c697ae19\",\"type\":\"Grid\"},{\"attributes\":{},\"id\":\"30b9909c-9a05-4928-b999-87ec02713473\",\"type\":\"CategoricalTickFormatter\"},{\"attributes\":{\"fill_color\":{\"value\":\"#1f77b4\"},\"height\":{\"value\":0.75},\"line_color\":{\"value\":\"#1f77b4\"},\"right\":{\"field\":\"x\"},\"y\":{\"field\":\"y\"}},\"id\":\"d891b545-bcba-4a21-b819-6f56f1cfd41b\",\"type\":\"HBar\"},{\"attributes\":{\"axis_label\":\"Respondents\",\"formatter\":{\"id\":\"7a9f7461-e116-4056-8566-4e00f9f025d2\",\"type\":\"BasicTickFormatter\"},\"plot\":{\"id\":\"38c4bc9f-4e40-4071-b103-a8c7e143f024\",\"subtype\":\"Figure\",\"type\":\"Plot\"},\"ticker\":{\"id\":\"2e293ba6-07cc-41ac-a944-34ce5acdb684\",\"type\":\"BasicTicker\"}},\"id\":\"d02f7f9d-d333-455e-88f6-777059591a0b\",\"type\":\"LinearAxis\"},{\"attributes\":{},\"id\":\"7a9f7461-e116-4056-8566-4e00f9f025d2\",\"type\":\"BasicTickFormatter\"},{\"attributes\":{\"plot\":null,\"text\":\"AIGA-Only: I typically work:\"},\"id\":\"01770679-9270-4c6c-9eb2-b8defc3936a6\",\"type\":\"Title\"},{\"attributes\":{\"callback\":null,\"column_names\":[\"y\",\"x\",\"pct\"],\"data\":{\"pct\":[\"43.77%\",\"33.55%\",\"14.86%\",\"5.91%\",\"1.85%\"],\"x\":[2030,1556,689,274,86],\"y\":[\"40 hours per week\",\"41-50 hours per week\",\"Less than 40 hours per week\",\"51-60 hours per week\",\"60+ hours per week\"]}},\"id\":\"5cda85e1-53bf-4952-b079-9ee8ab9ddfd7\",\"type\":\"ColumnDataSource\"},{\"attributes\":{},\"id\":\"0311fbb4-8f7b-408d-9551-595d7f707082\",\"type\":\"LinearScale\"},{\"attributes\":{},\"id\":\"ea38832a-2b1d-4c94-b7cb-4c67f3559173\",\"type\":\"HelpTool\"},{\"attributes\":{\"callback\":null,\"factors\":[\"40 hours per week\",\"41-50 hours per week\",\"Less than 40 hours per week\",\"51-60 hours per week\",\"60+ hours per week\"]},\"id\":\"2cbd8a0c-7acf-43e9-9a0b-c97f1edd618e\",\"type\":\"FactorRange\"},{\"attributes\":{\"fill_alpha\":{\"value\":0.1},\"fill_color\":{\"value\":\"#1f77b4\"},\"height\":{\"value\":0.75},\"line_alpha\":{\"value\":0.1},\"line_color\":{\"value\":\"#1f77b4\"},\"right\":{\"field\":\"x\"},\"y\":{\"field\":\"y\"}},\"id\":\"0e40c809-47fa-42f0-93b1-24a6d6c73518\",\"type\":\"HBar\"},{\"attributes\":{\"overlay\":{\"id\":\"c0666c8a-35fc-4f40-94b8-d9218a545f5e\",\"type\":\"BoxAnnotation\"}},\"id\":\"666aa679-c207-4b77-937a-9e3f536e7fd2\",\"type\":\"BoxZoomTool\"},{\"attributes\":{\"axis_label\":\"Categories\",\"formatter\":{\"id\":\"30b9909c-9a05-4928-b999-87ec02713473\",\"type\":\"CategoricalTickFormatter\"},\"plot\":{\"id\":\"38c4bc9f-4e40-4071-b103-a8c7e143f024\",\"subtype\":\"Figure\",\"type\":\"Plot\"},\"ticker\":{\"id\":\"aea5e039-f153-47aa-8c54-636b23bcdd33\",\"type\":\"CategoricalTicker\"}},\"id\":\"fb17cf61-95a4-40c9-875e-dd5e56ec9438\",\"type\":\"CategoricalAxis\"},{\"attributes\":{\"data_source\":{\"id\":\"5cda85e1-53bf-4952-b079-9ee8ab9ddfd7\",\"type\":\"ColumnDataSource\"},\"glyph\":{\"id\":\"d891b545-bcba-4a21-b819-6f56f1cfd41b\",\"type\":\"HBar\"},\"hover_glyph\":null,\"muted_glyph\":null,\"nonselection_glyph\":{\"id\":\"0e40c809-47fa-42f0-93b1-24a6d6c73518\",\"type\":\"HBar\"},\"selection_glyph\":null,\"view\":{\"id\":\"33ab8ad5-18ba-4725-9eac-ca8e902d5a87\",\"type\":\"CDSView\"}},\"id\":\"5af9abbd-5395-460d-acd1-74f1035317ef\",\"type\":\"GlyphRenderer\"},{\"attributes\":{\"below\":[{\"id\":\"d02f7f9d-d333-455e-88f6-777059591a0b\",\"type\":\"LinearAxis\"}],\"left\":[{\"id\":\"fb17cf61-95a4-40c9-875e-dd5e56ec9438\",\"type\":\"CategoricalAxis\"}],\"min_border_right\":50,\"output_backend\":\"svg\",\"plot_height\":900,\"plot_width\":1400,\"renderers\":[{\"id\":\"d02f7f9d-d333-455e-88f6-777059591a0b\",\"type\":\"LinearAxis\"},{\"id\":\"cca35cec-ac53-45e8-b738-2994c697ae19\",\"type\":\"Grid\"},{\"id\":\"fb17cf61-95a4-40c9-875e-dd5e56ec9438\",\"type\":\"CategoricalAxis\"},{\"id\":\"6c7d1816-203d-45cf-85f4-5e3dfbd73d0c\",\"type\":\"Grid\"},{\"id\":\"c0666c8a-35fc-4f40-94b8-d9218a545f5e\",\"type\":\"BoxAnnotation\"},{\"id\":\"5af9abbd-5395-460d-acd1-74f1035317ef\",\"type\":\"GlyphRenderer\"},{\"id\":\"5cf8337e-6985-483f-894c-b9b643490b62\",\"type\":\"LabelSet\"},{\"id\":\"0ad0e72c-685d-426e-9abb-a486d0c710ce\",\"type\":\"LabelSet\"}],\"title\":{\"id\":\"01770679-9270-4c6c-9eb2-b8defc3936a6\",\"type\":\"Title\"},\"toolbar\":{\"id\":\"44933809-5bc6-408a-aa60-70ec8987e17b\",\"type\":\"Toolbar\"},\"x_range\":{\"id\":\"a83b2344-84a6-4f9f-b8cf-18b48fb87da6\",\"type\":\"Range1d\"},\"x_scale\":{\"id\":\"0311fbb4-8f7b-408d-9551-595d7f707082\",\"type\":\"LinearScale\"},\"y_range\":{\"id\":\"2cbd8a0c-7acf-43e9-9a0b-c97f1edd618e\",\"type\":\"FactorRange\"},\"y_scale\":{\"id\":\"036b2c0e-4b90-4094-84b5-b525c516817b\",\"type\":\"CategoricalScale\"}},\"id\":\"38c4bc9f-4e40-4071-b103-a8c7e143f024\",\"subtype\":\"Figure\",\"type\":\"Plot\"}],\"root_ids\":[\"38c4bc9f-4e40-4071-b103-a8c7e143f024\"]},\"title\":\"Bokeh Application\",\"version\":\"0.12.13\"}};\n",
              "  var render_items = [{\"docid\":\"1c14a922-8b4b-47b6-b072-5a253abb739c\",\"elementid\":\"cbade9c2-52a3-48a3-9b20-e5c9c1105f6a\",\"modelid\":\"38c4bc9f-4e40-4071-b103-a8c7e143f024\"}];\n",
              "  root.Bokeh.embed.embed_items_notebook(docs_json, render_items);\n",
              "\n",
              "  }\n",
              "  if (root.Bokeh !== undefined) {\n",
              "    embed_document(root);\n",
              "  } else {\n",
              "    var attempts = 0;\n",
              "    var timer = setInterval(function(root) {\n",
              "      if (root.Bokeh !== undefined) {\n",
              "        embed_document(root);\n",
              "        clearInterval(timer);\n",
              "      }\n",
              "      attempts++;\n",
              "      if (attempts > 100) {\n",
              "        console.log(\"Bokeh: ERROR: Unable to run BokehJS code because BokehJS library is missing\")\n",
              "        clearInterval(timer);\n",
              "      }\n",
              "    }, 10, root)\n",
              "  }\n",
              "})(window);"
            ],
            "application/vnd.bokehjs_exec.v0+json": ""
          },
          "metadata": {
            "application/vnd.bokehjs_exec.v0+json": {
              "id": "38c4bc9f-4e40-4071-b103-a8c7e143f024"
            }
          }
        },
        {
          "output_type": "display_data",
          "data": {
            "text/html": [
              "\n",
              "<div class=\"bk-root\">\n",
              "    <div class=\"bk-plotdiv\" id=\"5592f653-ce45-4c4a-9db8-ef72e033b522\"></div>\n",
              "</div>"
            ]
          },
          "metadata": {}
        },
        {
          "output_type": "display_data",
          "data": {
            "application/javascript": [
              "(function(root) {\n",
              "  function embed_document(root) {\n",
              "    \n",
              "  var docs_json = {\"ba59997a-d0fd-4197-b246-4ef96c5d3534\":{\"roots\":{\"references\":[{\"attributes\":{\"active_drag\":\"auto\",\"active_inspect\":\"auto\",\"active_scroll\":\"auto\",\"active_tap\":\"auto\",\"tools\":[{\"id\":\"1e31c382-25eb-46f1-90d1-c9ae5af56a49\",\"type\":\"PanTool\"},{\"id\":\"6f0109b0-1b94-4996-aca8-87ae01c18d95\",\"type\":\"WheelZoomTool\"},{\"id\":\"40b6c2ed-c8f3-4fa8-9d87-a63cc88f3e00\",\"type\":\"BoxZoomTool\"},{\"id\":\"998a164c-6082-4585-818d-e1e9c3f3f4f4\",\"type\":\"SaveTool\"},{\"id\":\"693c07c4-2fd9-4670-9cc6-6e1300e1807d\",\"type\":\"ResetTool\"},{\"id\":\"f6482700-764d-4a41-8917-99bfac682ab2\",\"type\":\"HelpTool\"}]},\"id\":\"00f0866d-59e0-45ec-bb56-51b30fe20df0\",\"type\":\"Toolbar\"},{\"attributes\":{\"plot\":{\"id\":\"4e148a21-6a8f-43bc-9739-e0400b106f29\",\"subtype\":\"Figure\",\"type\":\"Plot\"},\"ticker\":{\"id\":\"58ba0843-c80a-4cca-8586-ab222af971e8\",\"type\":\"BasicTicker\"}},\"id\":\"0fe640f0-0e28-4880-8ecb-26f2b5bda2a3\",\"type\":\"Grid\"},{\"attributes\":{\"below\":[{\"id\":\"8efdac98-9e75-4188-8686-b96f16c3b89b\",\"type\":\"LinearAxis\"}],\"left\":[{\"id\":\"ab22e32f-8725-4693-8e50-4dccf4a6bd86\",\"type\":\"CategoricalAxis\"}],\"min_border_right\":50,\"output_backend\":\"svg\",\"plot_height\":900,\"plot_width\":1400,\"renderers\":[{\"id\":\"8efdac98-9e75-4188-8686-b96f16c3b89b\",\"type\":\"LinearAxis\"},{\"id\":\"0fe640f0-0e28-4880-8ecb-26f2b5bda2a3\",\"type\":\"Grid\"},{\"id\":\"ab22e32f-8725-4693-8e50-4dccf4a6bd86\",\"type\":\"CategoricalAxis\"},{\"id\":\"ae6afb2a-992a-420a-bfe5-d5826f93daee\",\"type\":\"Grid\"},{\"id\":\"30915e31-e2fa-489f-b3da-c098c8add20f\",\"type\":\"BoxAnnotation\"},{\"id\":\"f78c3261-d187-4606-ba5d-5613a6972010\",\"type\":\"GlyphRenderer\"},{\"id\":\"a8bec74e-8bd3-4be5-8f40-983d1afb42c5\",\"type\":\"LabelSet\"},{\"id\":\"ba040f41-468f-4bd1-b80f-23dd5e022f37\",\"type\":\"LabelSet\"}],\"title\":{\"id\":\"c84cadb1-f148-4f37-b9d0-97986921f631\",\"type\":\"Title\"},\"toolbar\":{\"id\":\"00f0866d-59e0-45ec-bb56-51b30fe20df0\",\"type\":\"Toolbar\"},\"x_range\":{\"id\":\"ce27086c-02d2-4a72-8906-14e8bc437468\",\"type\":\"Range1d\"},\"x_scale\":{\"id\":\"8f685e1a-dbfd-4fba-8d62-0986d8d98dfd\",\"type\":\"LinearScale\"},\"y_range\":{\"id\":\"f6d90177-51a4-458b-8006-539ab562a0a6\",\"type\":\"FactorRange\"},\"y_scale\":{\"id\":\"b9395b20-30d3-44d7-85a3-bf430f96511f\",\"type\":\"CategoricalScale\"}},\"id\":\"4e148a21-6a8f-43bc-9739-e0400b106f29\",\"subtype\":\"Figure\",\"type\":\"Plot\"},{\"attributes\":{\"callback\":null,\"column_names\":[\"y\",\"x\",\"pct\"],\"data\":{\"pct\":[\"73.76%\",\"72.70%\",\"66.67%\",\"53.36%\",\"50.86%\",\"49.55%\",\"41.03%\",\"39.18%\",\"30.70%\",\"30.19%\",\"28.93%\",\"27.66%\",\"24.86%\",\"22.55%\",\"17.44%\",\"5.45%\"],\"x\":[3421,3372,3092,2475,2359,2298,1903,1817,1424,1400,1342,1283,1153,1046,809,253],\"y\":[\"Medical Insurance\",\"Paid Time Off\",\"Dental Insurance\",\"Employer-matched Retirement\",\"Life Insurance\",\"Professional Development\",\"Disability Insurance\",\"Paid Parental Leave\",\"Wellness Programs\",\"Professional Memberships\",\"Fitness Benefits\",\"Education Funding\",\"Commuting Benefits\",\"Profit Sharing or Stock Options\",\"None of these\",\"Child Care\"]}},\"id\":\"27660eb7-20ad-4c11-b827-add9d8bfd557\",\"type\":\"ColumnDataSource\"},{\"attributes\":{},\"id\":\"b64930fb-51ec-4003-97dd-f4dcb7b3d4b0\",\"type\":\"CategoricalTickFormatter\"},{\"attributes\":{},\"id\":\"f6482700-764d-4a41-8917-99bfac682ab2\",\"type\":\"HelpTool\"},{\"attributes\":{\"overlay\":{\"id\":\"30915e31-e2fa-489f-b3da-c098c8add20f\",\"type\":\"BoxAnnotation\"}},\"id\":\"40b6c2ed-c8f3-4fa8-9d87-a63cc88f3e00\",\"type\":\"BoxZoomTool\"},{\"attributes\":{\"fill_alpha\":{\"value\":0.1},\"fill_color\":{\"value\":\"#1f77b4\"},\"height\":{\"value\":0.75},\"line_alpha\":{\"value\":0.1},\"line_color\":{\"value\":\"#1f77b4\"},\"right\":{\"field\":\"x\"},\"y\":{\"field\":\"y\"}},\"id\":\"fc65ddc4-c6cb-4587-b14d-b85bfb11fd4e\",\"type\":\"HBar\"},{\"attributes\":{\"data_source\":{\"id\":\"27660eb7-20ad-4c11-b827-add9d8bfd557\",\"type\":\"ColumnDataSource\"},\"glyph\":{\"id\":\"8a540ac6-224c-417c-8a9c-98e3e25b7217\",\"type\":\"HBar\"},\"hover_glyph\":null,\"muted_glyph\":null,\"nonselection_glyph\":{\"id\":\"fc65ddc4-c6cb-4587-b14d-b85bfb11fd4e\",\"type\":\"HBar\"},\"selection_glyph\":null,\"view\":{\"id\":\"4407c5a4-04f6-4e06-b96e-181d8dd8fe94\",\"type\":\"CDSView\"}},\"id\":\"f78c3261-d187-4606-ba5d-5613a6972010\",\"type\":\"GlyphRenderer\"},{\"attributes\":{},\"id\":\"693c07c4-2fd9-4670-9cc6-6e1300e1807d\",\"type\":\"ResetTool\"},{\"attributes\":{\"plot\":null,\"text\":\"AIGA-Only: My job provides:\"},\"id\":\"c84cadb1-f148-4f37-b9d0-97986921f631\",\"type\":\"Title\"},{\"attributes\":{},\"id\":\"1e31c382-25eb-46f1-90d1-c9ae5af56a49\",\"type\":\"PanTool\"},{\"attributes\":{\"callback\":null,\"factors\":[\"Medical Insurance\",\"Paid Time Off\",\"Dental Insurance\",\"Employer-matched Retirement\",\"Life Insurance\",\"Professional Development\",\"Disability Insurance\",\"Paid Parental Leave\",\"Wellness Programs\",\"Professional Memberships\",\"Fitness Benefits\",\"Education Funding\",\"Commuting Benefits\",\"Profit Sharing or Stock Options\",\"None of these\",\"Child Care\"]},\"id\":\"f6d90177-51a4-458b-8006-539ab562a0a6\",\"type\":\"FactorRange\"},{\"attributes\":{\"callback\":null,\"end\":4165.2},\"id\":\"ce27086c-02d2-4a72-8906-14e8bc437468\",\"type\":\"Range1d\"},{\"attributes\":{\"level\":\"glyph\",\"plot\":{\"id\":\"4e148a21-6a8f-43bc-9739-e0400b106f29\",\"subtype\":\"Figure\",\"type\":\"Plot\"},\"source\":{\"id\":\"27660eb7-20ad-4c11-b827-add9d8bfd557\",\"type\":\"ColumnDataSource\"},\"text\":{\"field\":\"x\"},\"text_font_size\":{\"value\":\"8pt\"},\"x\":{\"field\":\"x\"},\"x_offset\":{\"value\":10},\"y\":{\"field\":\"y\"},\"y_offset\":{\"value\":-12}},\"id\":\"ba040f41-468f-4bd1-b80f-23dd5e022f37\",\"type\":\"LabelSet\"},{\"attributes\":{},\"id\":\"58ba0843-c80a-4cca-8586-ab222af971e8\",\"type\":\"BasicTicker\"},{\"attributes\":{\"axis_label\":\"Respondents\",\"formatter\":{\"id\":\"37443e44-4d68-4d84-a2f3-47a32132d678\",\"type\":\"BasicTickFormatter\"},\"plot\":{\"id\":\"4e148a21-6a8f-43bc-9739-e0400b106f29\",\"subtype\":\"Figure\",\"type\":\"Plot\"},\"ticker\":{\"id\":\"58ba0843-c80a-4cca-8586-ab222af971e8\",\"type\":\"BasicTicker\"}},\"id\":\"8efdac98-9e75-4188-8686-b96f16c3b89b\",\"type\":\"LinearAxis\"},{\"attributes\":{},\"id\":\"8f685e1a-dbfd-4fba-8d62-0986d8d98dfd\",\"type\":\"LinearScale\"},{\"attributes\":{\"level\":\"glyph\",\"plot\":{\"id\":\"4e148a21-6a8f-43bc-9739-e0400b106f29\",\"subtype\":\"Figure\",\"type\":\"Plot\"},\"source\":{\"id\":\"27660eb7-20ad-4c11-b827-add9d8bfd557\",\"type\":\"ColumnDataSource\"},\"text\":{\"field\":\"pct\"},\"text_font_size\":{\"value\":\"8pt\"},\"x\":{\"field\":\"x\"},\"x_offset\":{\"value\":10},\"y\":{\"field\":\"y\"},\"y_offset\":{\"value\":2}},\"id\":\"a8bec74e-8bd3-4be5-8f40-983d1afb42c5\",\"type\":\"LabelSet\"},{\"attributes\":{},\"id\":\"37443e44-4d68-4d84-a2f3-47a32132d678\",\"type\":\"BasicTickFormatter\"},{\"attributes\":{\"dimension\":1,\"plot\":{\"id\":\"4e148a21-6a8f-43bc-9739-e0400b106f29\",\"subtype\":\"Figure\",\"type\":\"Plot\"},\"ticker\":{\"id\":\"6f9247be-522a-4b3a-acaf-067b5b5b0fda\",\"type\":\"CategoricalTicker\"}},\"id\":\"ae6afb2a-992a-420a-bfe5-d5826f93daee\",\"type\":\"Grid\"},{\"attributes\":{\"axis_label\":\"Categories\",\"formatter\":{\"id\":\"b64930fb-51ec-4003-97dd-f4dcb7b3d4b0\",\"type\":\"CategoricalTickFormatter\"},\"plot\":{\"id\":\"4e148a21-6a8f-43bc-9739-e0400b106f29\",\"subtype\":\"Figure\",\"type\":\"Plot\"},\"ticker\":{\"id\":\"6f9247be-522a-4b3a-acaf-067b5b5b0fda\",\"type\":\"CategoricalTicker\"}},\"id\":\"ab22e32f-8725-4693-8e50-4dccf4a6bd86\",\"type\":\"CategoricalAxis\"},{\"attributes\":{},\"id\":\"6f9247be-522a-4b3a-acaf-067b5b5b0fda\",\"type\":\"CategoricalTicker\"},{\"attributes\":{},\"id\":\"b9395b20-30d3-44d7-85a3-bf430f96511f\",\"type\":\"CategoricalScale\"},{\"attributes\":{\"source\":{\"id\":\"27660eb7-20ad-4c11-b827-add9d8bfd557\",\"type\":\"ColumnDataSource\"}},\"id\":\"4407c5a4-04f6-4e06-b96e-181d8dd8fe94\",\"type\":\"CDSView\"},{\"attributes\":{\"fill_color\":{\"value\":\"#1f77b4\"},\"height\":{\"value\":0.75},\"line_color\":{\"value\":\"#1f77b4\"},\"right\":{\"field\":\"x\"},\"y\":{\"field\":\"y\"}},\"id\":\"8a540ac6-224c-417c-8a9c-98e3e25b7217\",\"type\":\"HBar\"},{\"attributes\":{},\"id\":\"6f0109b0-1b94-4996-aca8-87ae01c18d95\",\"type\":\"WheelZoomTool\"},{\"attributes\":{},\"id\":\"998a164c-6082-4585-818d-e1e9c3f3f4f4\",\"type\":\"SaveTool\"},{\"attributes\":{\"bottom_units\":\"screen\",\"fill_alpha\":{\"value\":0.5},\"fill_color\":{\"value\":\"lightgrey\"},\"left_units\":\"screen\",\"level\":\"overlay\",\"line_alpha\":{\"value\":1.0},\"line_color\":{\"value\":\"black\"},\"line_dash\":[4,4],\"line_width\":{\"value\":2},\"plot\":null,\"render_mode\":\"css\",\"right_units\":\"screen\",\"top_units\":\"screen\"},\"id\":\"30915e31-e2fa-489f-b3da-c098c8add20f\",\"type\":\"BoxAnnotation\"}],\"root_ids\":[\"4e148a21-6a8f-43bc-9739-e0400b106f29\"]},\"title\":\"Bokeh Application\",\"version\":\"0.12.13\"}};\n",
              "  var render_items = [{\"docid\":\"ba59997a-d0fd-4197-b246-4ef96c5d3534\",\"elementid\":\"5592f653-ce45-4c4a-9db8-ef72e033b522\",\"modelid\":\"4e148a21-6a8f-43bc-9739-e0400b106f29\"}];\n",
              "  root.Bokeh.embed.embed_items_notebook(docs_json, render_items);\n",
              "\n",
              "  }\n",
              "  if (root.Bokeh !== undefined) {\n",
              "    embed_document(root);\n",
              "  } else {\n",
              "    var attempts = 0;\n",
              "    var timer = setInterval(function(root) {\n",
              "      if (root.Bokeh !== undefined) {\n",
              "        embed_document(root);\n",
              "        clearInterval(timer);\n",
              "      }\n",
              "      attempts++;\n",
              "      if (attempts > 100) {\n",
              "        console.log(\"Bokeh: ERROR: Unable to run BokehJS code because BokehJS library is missing\")\n",
              "        clearInterval(timer);\n",
              "      }\n",
              "    }, 10, root)\n",
              "  }\n",
              "})(window);"
            ],
            "application/vnd.bokehjs_exec.v0+json": ""
          },
          "metadata": {
            "application/vnd.bokehjs_exec.v0+json": {
              "id": "4e148a21-6a8f-43bc-9739-e0400b106f29"
            }
          }
        },
        {
          "output_type": "display_data",
          "data": {
            "text/html": [
              "\n",
              "<div class=\"bk-root\">\n",
              "    <div class=\"bk-plotdiv\" id=\"74bd9ee2-402b-4295-a16c-07270f9fb19b\"></div>\n",
              "</div>"
            ]
          },
          "metadata": {}
        },
        {
          "output_type": "display_data",
          "data": {
            "application/javascript": [
              "(function(root) {\n",
              "  function embed_document(root) {\n",
              "    \n",
              "  var docs_json = {\"43748ecb-94ad-402b-b44d-10cb6a7f3a38\":{\"roots\":{\"references\":[{\"attributes\":{\"fill_alpha\":{\"value\":0.1},\"fill_color\":{\"value\":\"#1f77b4\"},\"height\":{\"value\":0.75},\"line_alpha\":{\"value\":0.1},\"line_color\":{\"value\":\"#1f77b4\"},\"right\":{\"field\":\"x\"},\"y\":{\"field\":\"y\"}},\"id\":\"915497bf-d4ef-4701-8dd0-b5bbf95e9b19\",\"type\":\"HBar\"},{\"attributes\":{\"level\":\"glyph\",\"plot\":{\"id\":\"84e4b8ee-65a1-4f3f-b804-cef09b16edbc\",\"subtype\":\"Figure\",\"type\":\"Plot\"},\"source\":{\"id\":\"5fdae6e6-8993-4b87-a960-323da31bd1ca\",\"type\":\"ColumnDataSource\"},\"text\":{\"field\":\"pct\"},\"text_font_size\":{\"value\":\"8pt\"},\"x\":{\"field\":\"x\"},\"x_offset\":{\"value\":10},\"y\":{\"field\":\"y\"},\"y_offset\":{\"value\":2}},\"id\":\"dded28d7-5092-4076-9886-8252bd3d4a1d\",\"type\":\"LabelSet\"},{\"attributes\":{\"data_source\":{\"id\":\"5fdae6e6-8993-4b87-a960-323da31bd1ca\",\"type\":\"ColumnDataSource\"},\"glyph\":{\"id\":\"19f58049-c0aa-469a-be93-495d2db0b44f\",\"type\":\"HBar\"},\"hover_glyph\":null,\"muted_glyph\":null,\"nonselection_glyph\":{\"id\":\"915497bf-d4ef-4701-8dd0-b5bbf95e9b19\",\"type\":\"HBar\"},\"selection_glyph\":null,\"view\":{\"id\":\"0ab7dd3a-dae0-4015-99ee-ce1d9ceec397\",\"type\":\"CDSView\"}},\"id\":\"8491fbf3-1ea9-4f6c-a5a5-ff35cb7dd4df\",\"type\":\"GlyphRenderer\"},{\"attributes\":{\"source\":{\"id\":\"5fdae6e6-8993-4b87-a960-323da31bd1ca\",\"type\":\"ColumnDataSource\"}},\"id\":\"0ab7dd3a-dae0-4015-99ee-ce1d9ceec397\",\"type\":\"CDSView\"},{\"attributes\":{},\"id\":\"676a350a-15f5-4296-bf1e-f1b5f2021840\",\"type\":\"CategoricalTickFormatter\"},{\"attributes\":{},\"id\":\"a805a2aa-f7f9-43ef-af7a-5c1b4f653829\",\"type\":\"CategoricalTicker\"},{\"attributes\":{\"active_drag\":\"auto\",\"active_inspect\":\"auto\",\"active_scroll\":\"auto\",\"active_tap\":\"auto\",\"tools\":[{\"id\":\"6b0b976b-7c00-4bb0-a162-1016d3c7ef7f\",\"type\":\"PanTool\"},{\"id\":\"2080cb26-4a18-4e6d-9da2-b5aba43dba3e\",\"type\":\"WheelZoomTool\"},{\"id\":\"56b8f12c-1749-42cb-9c34-dcae8324f734\",\"type\":\"BoxZoomTool\"},{\"id\":\"d8046b90-53a2-4865-a7ac-98d7d012af36\",\"type\":\"SaveTool\"},{\"id\":\"2a516297-efa1-4b9b-ba26-9d28f8a5c350\",\"type\":\"ResetTool\"},{\"id\":\"d565cee7-1c0c-4bfc-89b4-a6689b08b795\",\"type\":\"HelpTool\"}]},\"id\":\"97c626b2-bc71-4ed0-8011-28565f6ffdf4\",\"type\":\"Toolbar\"},{\"attributes\":{\"axis_label\":\"Categories\",\"formatter\":{\"id\":\"676a350a-15f5-4296-bf1e-f1b5f2021840\",\"type\":\"CategoricalTickFormatter\"},\"plot\":{\"id\":\"84e4b8ee-65a1-4f3f-b804-cef09b16edbc\",\"subtype\":\"Figure\",\"type\":\"Plot\"},\"ticker\":{\"id\":\"a805a2aa-f7f9-43ef-af7a-5c1b4f653829\",\"type\":\"CategoricalTicker\"}},\"id\":\"285043c7-4a2e-4852-949e-20f4026a1707\",\"type\":\"CategoricalAxis\"},{\"attributes\":{\"plot\":{\"id\":\"84e4b8ee-65a1-4f3f-b804-cef09b16edbc\",\"subtype\":\"Figure\",\"type\":\"Plot\"},\"ticker\":{\"id\":\"a5a8a67c-77a3-426a-850a-406fb3c3615d\",\"type\":\"BasicTicker\"}},\"id\":\"4a2bd1f9-85d6-43be-be10-f924e39a11f6\",\"type\":\"Grid\"},{\"attributes\":{},\"id\":\"d8046b90-53a2-4865-a7ac-98d7d012af36\",\"type\":\"SaveTool\"},{\"attributes\":{},\"id\":\"2a516297-efa1-4b9b-ba26-9d28f8a5c350\",\"type\":\"ResetTool\"},{\"attributes\":{\"overlay\":{\"id\":\"ae95a4b1-e1d8-4248-8568-dcd9ed522d73\",\"type\":\"BoxAnnotation\"}},\"id\":\"56b8f12c-1749-42cb-9c34-dcae8324f734\",\"type\":\"BoxZoomTool\"},{\"attributes\":{},\"id\":\"1614cfe4-055d-4dcc-a47e-a8943ab30e85\",\"type\":\"CategoricalScale\"},{\"attributes\":{\"level\":\"glyph\",\"plot\":{\"id\":\"84e4b8ee-65a1-4f3f-b804-cef09b16edbc\",\"subtype\":\"Figure\",\"type\":\"Plot\"},\"source\":{\"id\":\"5fdae6e6-8993-4b87-a960-323da31bd1ca\",\"type\":\"ColumnDataSource\"},\"text\":{\"field\":\"x\"},\"text_font_size\":{\"value\":\"8pt\"},\"x\":{\"field\":\"x\"},\"x_offset\":{\"value\":10},\"y\":{\"field\":\"y\"},\"y_offset\":{\"value\":-12}},\"id\":\"24d39cd0-e3e7-4cf8-bc65-99cd72cd4081\",\"type\":\"LabelSet\"},{\"attributes\":{},\"id\":\"2080cb26-4a18-4e6d-9da2-b5aba43dba3e\",\"type\":\"WheelZoomTool\"},{\"attributes\":{\"plot\":null,\"text\":\"AIGA-Only: In my current role, there is:\"},\"id\":\"07be0889-a0e9-4dba-8f24-78554fd5fa9d\",\"type\":\"Title\"},{\"attributes\":{\"callback\":null,\"factors\":[\"Some opportunity for advancement\",\"Limited opportunity for advancement\",\"Promising opportunity for advancement\",\"No opportunity for advancement\",\"Not sure\"]},\"id\":\"d8cc19ce-0c6d-4bb8-a475-962f99b51b8d\",\"type\":\"FactorRange\"},{\"attributes\":{},\"id\":\"6b0b976b-7c00-4bb0-a162-1016d3c7ef7f\",\"type\":\"PanTool\"},{\"attributes\":{\"callback\":null,\"end\":1735.2},\"id\":\"63c7ec62-dc33-49a3-8c23-954f52c7638b\",\"type\":\"Range1d\"},{\"attributes\":{},\"id\":\"a5a8a67c-77a3-426a-850a-406fb3c3615d\",\"type\":\"BasicTicker\"},{\"attributes\":{\"bottom_units\":\"screen\",\"fill_alpha\":{\"value\":0.5},\"fill_color\":{\"value\":\"lightgrey\"},\"left_units\":\"screen\",\"level\":\"overlay\",\"line_alpha\":{\"value\":1.0},\"line_color\":{\"value\":\"black\"},\"line_dash\":[4,4],\"line_width\":{\"value\":2},\"plot\":null,\"render_mode\":\"css\",\"right_units\":\"screen\",\"top_units\":\"screen\"},\"id\":\"ae95a4b1-e1d8-4248-8568-dcd9ed522d73\",\"type\":\"BoxAnnotation\"},{\"attributes\":{},\"id\":\"d565cee7-1c0c-4bfc-89b4-a6689b08b795\",\"type\":\"HelpTool\"},{\"attributes\":{\"fill_color\":{\"value\":\"#1f77b4\"},\"height\":{\"value\":0.75},\"line_color\":{\"value\":\"#1f77b4\"},\"right\":{\"field\":\"x\"},\"y\":{\"field\":\"y\"}},\"id\":\"19f58049-c0aa-469a-be93-495d2db0b44f\",\"type\":\"HBar\"},{\"attributes\":{\"below\":[{\"id\":\"c091cfb4-3117-4e3c-acf9-76ba699ea43d\",\"type\":\"LinearAxis\"}],\"left\":[{\"id\":\"285043c7-4a2e-4852-949e-20f4026a1707\",\"type\":\"CategoricalAxis\"}],\"min_border_right\":50,\"output_backend\":\"svg\",\"plot_height\":900,\"plot_width\":1400,\"renderers\":[{\"id\":\"c091cfb4-3117-4e3c-acf9-76ba699ea43d\",\"type\":\"LinearAxis\"},{\"id\":\"4a2bd1f9-85d6-43be-be10-f924e39a11f6\",\"type\":\"Grid\"},{\"id\":\"285043c7-4a2e-4852-949e-20f4026a1707\",\"type\":\"CategoricalAxis\"},{\"id\":\"51a4b596-9093-436e-8fc3-d5067c5b365d\",\"type\":\"Grid\"},{\"id\":\"ae95a4b1-e1d8-4248-8568-dcd9ed522d73\",\"type\":\"BoxAnnotation\"},{\"id\":\"8491fbf3-1ea9-4f6c-a5a5-ff35cb7dd4df\",\"type\":\"GlyphRenderer\"},{\"id\":\"dded28d7-5092-4076-9886-8252bd3d4a1d\",\"type\":\"LabelSet\"},{\"id\":\"24d39cd0-e3e7-4cf8-bc65-99cd72cd4081\",\"type\":\"LabelSet\"}],\"title\":{\"id\":\"07be0889-a0e9-4dba-8f24-78554fd5fa9d\",\"type\":\"Title\"},\"toolbar\":{\"id\":\"97c626b2-bc71-4ed0-8011-28565f6ffdf4\",\"type\":\"Toolbar\"},\"x_range\":{\"id\":\"63c7ec62-dc33-49a3-8c23-954f52c7638b\",\"type\":\"Range1d\"},\"x_scale\":{\"id\":\"4340dc02-2533-40f0-b8fe-759e07f64f03\",\"type\":\"LinearScale\"},\"y_range\":{\"id\":\"d8cc19ce-0c6d-4bb8-a475-962f99b51b8d\",\"type\":\"FactorRange\"},\"y_scale\":{\"id\":\"1614cfe4-055d-4dcc-a47e-a8943ab30e85\",\"type\":\"CategoricalScale\"}},\"id\":\"84e4b8ee-65a1-4f3f-b804-cef09b16edbc\",\"subtype\":\"Figure\",\"type\":\"Plot\"},{\"attributes\":{\"callback\":null,\"column_names\":[\"y\",\"x\",\"pct\"],\"data\":{\"pct\":[\"30.10%\",\"25.59%\",\"24.80%\",\"13.04%\",\"6.43%\"],\"x\":[1396,1187,1150,605,298],\"y\":[\"Some opportunity for advancement\",\"Limited opportunity for advancement\",\"Promising opportunity for advancement\",\"No opportunity for advancement\",\"Not sure\"]}},\"id\":\"5fdae6e6-8993-4b87-a960-323da31bd1ca\",\"type\":\"ColumnDataSource\"},{\"attributes\":{\"axis_label\":\"Respondents\",\"formatter\":{\"id\":\"a58ae4ad-fb03-4939-be1b-032270beb0a6\",\"type\":\"BasicTickFormatter\"},\"plot\":{\"id\":\"84e4b8ee-65a1-4f3f-b804-cef09b16edbc\",\"subtype\":\"Figure\",\"type\":\"Plot\"},\"ticker\":{\"id\":\"a5a8a67c-77a3-426a-850a-406fb3c3615d\",\"type\":\"BasicTicker\"}},\"id\":\"c091cfb4-3117-4e3c-acf9-76ba699ea43d\",\"type\":\"LinearAxis\"},{\"attributes\":{\"dimension\":1,\"plot\":{\"id\":\"84e4b8ee-65a1-4f3f-b804-cef09b16edbc\",\"subtype\":\"Figure\",\"type\":\"Plot\"},\"ticker\":{\"id\":\"a805a2aa-f7f9-43ef-af7a-5c1b4f653829\",\"type\":\"CategoricalTicker\"}},\"id\":\"51a4b596-9093-436e-8fc3-d5067c5b365d\",\"type\":\"Grid\"},{\"attributes\":{},\"id\":\"a58ae4ad-fb03-4939-be1b-032270beb0a6\",\"type\":\"BasicTickFormatter\"},{\"attributes\":{},\"id\":\"4340dc02-2533-40f0-b8fe-759e07f64f03\",\"type\":\"LinearScale\"}],\"root_ids\":[\"84e4b8ee-65a1-4f3f-b804-cef09b16edbc\"]},\"title\":\"Bokeh Application\",\"version\":\"0.12.13\"}};\n",
              "  var render_items = [{\"docid\":\"43748ecb-94ad-402b-b44d-10cb6a7f3a38\",\"elementid\":\"74bd9ee2-402b-4295-a16c-07270f9fb19b\",\"modelid\":\"84e4b8ee-65a1-4f3f-b804-cef09b16edbc\"}];\n",
              "  root.Bokeh.embed.embed_items_notebook(docs_json, render_items);\n",
              "\n",
              "  }\n",
              "  if (root.Bokeh !== undefined) {\n",
              "    embed_document(root);\n",
              "  } else {\n",
              "    var attempts = 0;\n",
              "    var timer = setInterval(function(root) {\n",
              "      if (root.Bokeh !== undefined) {\n",
              "        embed_document(root);\n",
              "        clearInterval(timer);\n",
              "      }\n",
              "      attempts++;\n",
              "      if (attempts > 100) {\n",
              "        console.log(\"Bokeh: ERROR: Unable to run BokehJS code because BokehJS library is missing\")\n",
              "        clearInterval(timer);\n",
              "      }\n",
              "    }, 10, root)\n",
              "  }\n",
              "})(window);"
            ],
            "application/vnd.bokehjs_exec.v0+json": ""
          },
          "metadata": {
            "application/vnd.bokehjs_exec.v0+json": {
              "id": "84e4b8ee-65a1-4f3f-b804-cef09b16edbc"
            }
          }
        },
        {
          "output_type": "display_data",
          "data": {
            "text/html": [
              "\n",
              "<div class=\"bk-root\">\n",
              "    <div class=\"bk-plotdiv\" id=\"e4930f3a-30ce-4a0f-a85d-f82f692dcab2\"></div>\n",
              "</div>"
            ]
          },
          "metadata": {}
        },
        {
          "output_type": "display_data",
          "data": {
            "application/javascript": [
              "(function(root) {\n",
              "  function embed_document(root) {\n",
              "    \n",
              "  var docs_json = {\"914c2b88-9d27-4b4f-9ab6-f5a1ab1231b1\":{\"roots\":{\"references\":[{\"attributes\":{},\"id\":\"e761a21e-331a-414d-88ca-5af666b9632b\",\"type\":\"ResetTool\"},{\"attributes\":{},\"id\":\"992bcd62-6597-4604-83b1-434234a0060b\",\"type\":\"CategoricalTicker\"},{\"attributes\":{\"fill_color\":{\"value\":\"#1f77b4\"},\"height\":{\"value\":0.75},\"line_color\":{\"value\":\"#1f77b4\"},\"right\":{\"field\":\"x\"},\"y\":{\"field\":\"y\"}},\"id\":\"b5b6bc62-a4d0-47e1-9421-6a2b35f6ea10\",\"type\":\"HBar\"},{\"attributes\":{\"data_source\":{\"id\":\"883f198b-7cad-47e0-abfc-9a3f4acd454f\",\"type\":\"ColumnDataSource\"},\"glyph\":{\"id\":\"b5b6bc62-a4d0-47e1-9421-6a2b35f6ea10\",\"type\":\"HBar\"},\"hover_glyph\":null,\"muted_glyph\":null,\"nonselection_glyph\":{\"id\":\"5ceaacb1-cbd1-4f7f-935d-db13cd0610b2\",\"type\":\"HBar\"},\"selection_glyph\":null,\"view\":{\"id\":\"8b58fec1-4867-4c91-85e0-08f7e3e2b592\",\"type\":\"CDSView\"}},\"id\":\"68272d8e-160e-46a4-ab6c-fe7f38fad74c\",\"type\":\"GlyphRenderer\"},{\"attributes\":{\"level\":\"glyph\",\"plot\":{\"id\":\"97411304-fcb8-41de-a463-5afabf0409f3\",\"subtype\":\"Figure\",\"type\":\"Plot\"},\"source\":{\"id\":\"883f198b-7cad-47e0-abfc-9a3f4acd454f\",\"type\":\"ColumnDataSource\"},\"text\":{\"field\":\"pct\"},\"text_font_size\":{\"value\":\"8pt\"},\"x\":{\"field\":\"x\"},\"x_offset\":{\"value\":10},\"y\":{\"field\":\"y\"},\"y_offset\":{\"value\":2}},\"id\":\"6a2f4fb7-de86-4a49-a751-ff06d8355aa9\",\"type\":\"LabelSet\"},{\"attributes\":{\"callback\":null,\"column_names\":[\"y\",\"x\",\"pct\"],\"data\":{\"pct\":[\"45.77%\",\"38.98%\",\"12.68%\",\"2.01%\",\"0.52%\"],\"x\":[2123,1808,588,93,24],\"y\":[\"Learning some new skills\",\"Learning and increasing my skill set every day\",\"Learning very little\",\"Learning nothing\",\"Not sure\"]}},\"id\":\"883f198b-7cad-47e0-abfc-9a3f4acd454f\",\"type\":\"ColumnDataSource\"},{\"attributes\":{},\"id\":\"189cf33e-f7cd-4564-8f16-13229116c113\",\"type\":\"BasicTickFormatter\"},{\"attributes\":{\"active_drag\":\"auto\",\"active_inspect\":\"auto\",\"active_scroll\":\"auto\",\"active_tap\":\"auto\",\"tools\":[{\"id\":\"0ec05030-2247-4095-8f0f-9fdbf04938c6\",\"type\":\"PanTool\"},{\"id\":\"0f5ef114-bfca-4650-8f3d-6ab910490d7a\",\"type\":\"WheelZoomTool\"},{\"id\":\"e3d2f936-e281-4f6c-8262-b568d0c88a95\",\"type\":\"BoxZoomTool\"},{\"id\":\"8312b3a3-8235-4a01-9641-6b8daaada3a8\",\"type\":\"SaveTool\"},{\"id\":\"e761a21e-331a-414d-88ca-5af666b9632b\",\"type\":\"ResetTool\"},{\"id\":\"d88cc031-ef72-4628-87ba-e8f61e98d818\",\"type\":\"HelpTool\"}]},\"id\":\"ab3edc9f-bce3-41b5-94b4-e0fac07086c1\",\"type\":\"Toolbar\"},{\"attributes\":{\"axis_label\":\"Respondents\",\"formatter\":{\"id\":\"189cf33e-f7cd-4564-8f16-13229116c113\",\"type\":\"BasicTickFormatter\"},\"plot\":{\"id\":\"97411304-fcb8-41de-a463-5afabf0409f3\",\"subtype\":\"Figure\",\"type\":\"Plot\"},\"ticker\":{\"id\":\"c3ca11aa-4f43-41f2-aa03-b788abb6eb60\",\"type\":\"BasicTicker\"}},\"id\":\"da9f0632-149a-42ad-af7a-c4583687aa3e\",\"type\":\"LinearAxis\"},{\"attributes\":{\"plot\":null,\"text\":\"AIGA-Only: In my current role, I am:\"},\"id\":\"258f31fd-025c-49d7-88bc-af3004809ead\",\"type\":\"Title\"},{\"attributes\":{},\"id\":\"c3433bab-48bd-47f3-be15-8a194b0db11a\",\"type\":\"CategoricalScale\"},{\"attributes\":{\"callback\":null,\"end\":2607.6},\"id\":\"91c0bb82-440c-4ab7-9f17-94ceaa8df293\",\"type\":\"Range1d\"},{\"attributes\":{\"overlay\":{\"id\":\"02661c05-db33-4364-834f-b5d99c5a7dec\",\"type\":\"BoxAnnotation\"}},\"id\":\"e3d2f936-e281-4f6c-8262-b568d0c88a95\",\"type\":\"BoxZoomTool\"},{\"attributes\":{},\"id\":\"c3ca11aa-4f43-41f2-aa03-b788abb6eb60\",\"type\":\"BasicTicker\"},{\"attributes\":{\"plot\":{\"id\":\"97411304-fcb8-41de-a463-5afabf0409f3\",\"subtype\":\"Figure\",\"type\":\"Plot\"},\"ticker\":{\"id\":\"c3ca11aa-4f43-41f2-aa03-b788abb6eb60\",\"type\":\"BasicTicker\"}},\"id\":\"6c196f1e-a02c-43cc-acbf-072940e320b2\",\"type\":\"Grid\"},{\"attributes\":{\"fill_alpha\":{\"value\":0.1},\"fill_color\":{\"value\":\"#1f77b4\"},\"height\":{\"value\":0.75},\"line_alpha\":{\"value\":0.1},\"line_color\":{\"value\":\"#1f77b4\"},\"right\":{\"field\":\"x\"},\"y\":{\"field\":\"y\"}},\"id\":\"5ceaacb1-cbd1-4f7f-935d-db13cd0610b2\",\"type\":\"HBar\"},{\"attributes\":{},\"id\":\"8312b3a3-8235-4a01-9641-6b8daaada3a8\",\"type\":\"SaveTool\"},{\"attributes\":{},\"id\":\"d88cc031-ef72-4628-87ba-e8f61e98d818\",\"type\":\"HelpTool\"},{\"attributes\":{\"level\":\"glyph\",\"plot\":{\"id\":\"97411304-fcb8-41de-a463-5afabf0409f3\",\"subtype\":\"Figure\",\"type\":\"Plot\"},\"source\":{\"id\":\"883f198b-7cad-47e0-abfc-9a3f4acd454f\",\"type\":\"ColumnDataSource\"},\"text\":{\"field\":\"x\"},\"text_font_size\":{\"value\":\"8pt\"},\"x\":{\"field\":\"x\"},\"x_offset\":{\"value\":10},\"y\":{\"field\":\"y\"},\"y_offset\":{\"value\":-12}},\"id\":\"4da2f038-34a7-4cdd-9073-562cbf110f54\",\"type\":\"LabelSet\"},{\"attributes\":{\"below\":[{\"id\":\"da9f0632-149a-42ad-af7a-c4583687aa3e\",\"type\":\"LinearAxis\"}],\"left\":[{\"id\":\"6c7c51a4-5bb3-4a0a-941e-43449a09c041\",\"type\":\"CategoricalAxis\"}],\"min_border_right\":50,\"output_backend\":\"svg\",\"plot_height\":900,\"plot_width\":1400,\"renderers\":[{\"id\":\"da9f0632-149a-42ad-af7a-c4583687aa3e\",\"type\":\"LinearAxis\"},{\"id\":\"6c196f1e-a02c-43cc-acbf-072940e320b2\",\"type\":\"Grid\"},{\"id\":\"6c7c51a4-5bb3-4a0a-941e-43449a09c041\",\"type\":\"CategoricalAxis\"},{\"id\":\"c4c52b8d-d7d0-46d3-a774-1ef663845380\",\"type\":\"Grid\"},{\"id\":\"02661c05-db33-4364-834f-b5d99c5a7dec\",\"type\":\"BoxAnnotation\"},{\"id\":\"68272d8e-160e-46a4-ab6c-fe7f38fad74c\",\"type\":\"GlyphRenderer\"},{\"id\":\"6a2f4fb7-de86-4a49-a751-ff06d8355aa9\",\"type\":\"LabelSet\"},{\"id\":\"4da2f038-34a7-4cdd-9073-562cbf110f54\",\"type\":\"LabelSet\"}],\"title\":{\"id\":\"258f31fd-025c-49d7-88bc-af3004809ead\",\"type\":\"Title\"},\"toolbar\":{\"id\":\"ab3edc9f-bce3-41b5-94b4-e0fac07086c1\",\"type\":\"Toolbar\"},\"x_range\":{\"id\":\"91c0bb82-440c-4ab7-9f17-94ceaa8df293\",\"type\":\"Range1d\"},\"x_scale\":{\"id\":\"37fb1129-03da-4e84-b5bb-84f9c4e9696c\",\"type\":\"LinearScale\"},\"y_range\":{\"id\":\"d04a5515-ee6c-4f99-94e5-65fda391344b\",\"type\":\"FactorRange\"},\"y_scale\":{\"id\":\"c3433bab-48bd-47f3-be15-8a194b0db11a\",\"type\":\"CategoricalScale\"}},\"id\":\"97411304-fcb8-41de-a463-5afabf0409f3\",\"subtype\":\"Figure\",\"type\":\"Plot\"},{\"attributes\":{},\"id\":\"0f5ef114-bfca-4650-8f3d-6ab910490d7a\",\"type\":\"WheelZoomTool\"},{\"attributes\":{},\"id\":\"ed9fe309-5f76-422a-9181-153cd8aa4a52\",\"type\":\"CategoricalTickFormatter\"},{\"attributes\":{\"callback\":null,\"factors\":[\"Learning some new skills\",\"Learning and increasing my skill set every day\",\"Learning very little\",\"Learning nothing\",\"Not sure\"]},\"id\":\"d04a5515-ee6c-4f99-94e5-65fda391344b\",\"type\":\"FactorRange\"},{\"attributes\":{\"dimension\":1,\"plot\":{\"id\":\"97411304-fcb8-41de-a463-5afabf0409f3\",\"subtype\":\"Figure\",\"type\":\"Plot\"},\"ticker\":{\"id\":\"992bcd62-6597-4604-83b1-434234a0060b\",\"type\":\"CategoricalTicker\"}},\"id\":\"c4c52b8d-d7d0-46d3-a774-1ef663845380\",\"type\":\"Grid\"},{\"attributes\":{\"source\":{\"id\":\"883f198b-7cad-47e0-abfc-9a3f4acd454f\",\"type\":\"ColumnDataSource\"}},\"id\":\"8b58fec1-4867-4c91-85e0-08f7e3e2b592\",\"type\":\"CDSView\"},{\"attributes\":{\"bottom_units\":\"screen\",\"fill_alpha\":{\"value\":0.5},\"fill_color\":{\"value\":\"lightgrey\"},\"left_units\":\"screen\",\"level\":\"overlay\",\"line_alpha\":{\"value\":1.0},\"line_color\":{\"value\":\"black\"},\"line_dash\":[4,4],\"line_width\":{\"value\":2},\"plot\":null,\"render_mode\":\"css\",\"right_units\":\"screen\",\"top_units\":\"screen\"},\"id\":\"02661c05-db33-4364-834f-b5d99c5a7dec\",\"type\":\"BoxAnnotation\"},{\"attributes\":{\"axis_label\":\"Categories\",\"formatter\":{\"id\":\"ed9fe309-5f76-422a-9181-153cd8aa4a52\",\"type\":\"CategoricalTickFormatter\"},\"plot\":{\"id\":\"97411304-fcb8-41de-a463-5afabf0409f3\",\"subtype\":\"Figure\",\"type\":\"Plot\"},\"ticker\":{\"id\":\"992bcd62-6597-4604-83b1-434234a0060b\",\"type\":\"CategoricalTicker\"}},\"id\":\"6c7c51a4-5bb3-4a0a-941e-43449a09c041\",\"type\":\"CategoricalAxis\"},{\"attributes\":{},\"id\":\"37fb1129-03da-4e84-b5bb-84f9c4e9696c\",\"type\":\"LinearScale\"},{\"attributes\":{},\"id\":\"0ec05030-2247-4095-8f0f-9fdbf04938c6\",\"type\":\"PanTool\"}],\"root_ids\":[\"97411304-fcb8-41de-a463-5afabf0409f3\"]},\"title\":\"Bokeh Application\",\"version\":\"0.12.13\"}};\n",
              "  var render_items = [{\"docid\":\"914c2b88-9d27-4b4f-9ab6-f5a1ab1231b1\",\"elementid\":\"e4930f3a-30ce-4a0f-a85d-f82f692dcab2\",\"modelid\":\"97411304-fcb8-41de-a463-5afabf0409f3\"}];\n",
              "  root.Bokeh.embed.embed_items_notebook(docs_json, render_items);\n",
              "\n",
              "  }\n",
              "  if (root.Bokeh !== undefined) {\n",
              "    embed_document(root);\n",
              "  } else {\n",
              "    var attempts = 0;\n",
              "    var timer = setInterval(function(root) {\n",
              "      if (root.Bokeh !== undefined) {\n",
              "        embed_document(root);\n",
              "        clearInterval(timer);\n",
              "      }\n",
              "      attempts++;\n",
              "      if (attempts > 100) {\n",
              "        console.log(\"Bokeh: ERROR: Unable to run BokehJS code because BokehJS library is missing\")\n",
              "        clearInterval(timer);\n",
              "      }\n",
              "    }, 10, root)\n",
              "  }\n",
              "})(window);"
            ],
            "application/vnd.bokehjs_exec.v0+json": ""
          },
          "metadata": {
            "application/vnd.bokehjs_exec.v0+json": {
              "id": "97411304-fcb8-41de-a463-5afabf0409f3"
            }
          }
        },
        {
          "output_type": "display_data",
          "data": {
            "text/html": [
              "\n",
              "<div class=\"bk-root\">\n",
              "    <div class=\"bk-plotdiv\" id=\"c4f1ccdc-f78f-43a4-929a-f6d3d3575949\"></div>\n",
              "</div>"
            ]
          },
          "metadata": {}
        },
        {
          "output_type": "display_data",
          "data": {
            "application/javascript": [
              "(function(root) {\n",
              "  function embed_document(root) {\n",
              "    \n",
              "  var docs_json = {\"6ee79c1a-a40d-4b9a-a8b1-a3aac438c4b8\":{\"roots\":{\"references\":[{\"attributes\":{\"active_drag\":\"auto\",\"active_inspect\":\"auto\",\"active_scroll\":\"auto\",\"active_tap\":\"auto\",\"tools\":[{\"id\":\"80542323-31b1-4e57-98cc-b04529f7cf14\",\"type\":\"PanTool\"},{\"id\":\"14e39133-cb2d-4512-9c6b-16ce404b22b7\",\"type\":\"WheelZoomTool\"},{\"id\":\"1809fa41-7b33-4ed5-95e6-342d9d9dcaf0\",\"type\":\"BoxZoomTool\"},{\"id\":\"5c0a0142-d417-49a2-bb51-d5af0d8cc743\",\"type\":\"SaveTool\"},{\"id\":\"315b0532-60d1-4662-bd24-049dbbacc69d\",\"type\":\"ResetTool\"},{\"id\":\"12b1843a-5ec3-49c1-af41-50da04d5e511\",\"type\":\"HelpTool\"}]},\"id\":\"75070d43-b51d-4ab9-bdbf-a72fb782281a\",\"type\":\"Toolbar\"},{\"attributes\":{\"callback\":null,\"factors\":[\"Pretty good\",\"The best\",\"Not great\",\"The worst\",\"Not sure\"]},\"id\":\"76955719-90dc-4708-a80d-bcb5d3a6cd1f\",\"type\":\"FactorRange\"},{\"attributes\":{},\"id\":\"89d94a0c-c7c7-4499-b535-7afc2cb88c96\",\"type\":\"LinearScale\"},{\"attributes\":{},\"id\":\"315b0532-60d1-4662-bd24-049dbbacc69d\",\"type\":\"ResetTool\"},{\"attributes\":{},\"id\":\"12b1843a-5ec3-49c1-af41-50da04d5e511\",\"type\":\"HelpTool\"},{\"attributes\":{\"level\":\"glyph\",\"plot\":{\"id\":\"d85072a0-8880-4cfe-a302-e2ea6f29513c\",\"subtype\":\"Figure\",\"type\":\"Plot\"},\"source\":{\"id\":\"599cfc7c-8195-43f9-87b6-44b936b3f04b\",\"type\":\"ColumnDataSource\"},\"text\":{\"field\":\"x\"},\"text_font_size\":{\"value\":\"8pt\"},\"x\":{\"field\":\"x\"},\"x_offset\":{\"value\":10},\"y\":{\"field\":\"y\"},\"y_offset\":{\"value\":-12}},\"id\":\"64577b6b-7309-4667-a69c-aefa621ca48e\",\"type\":\"LabelSet\"},{\"attributes\":{\"plot\":null,\"text\":\"AIGA-Only: My job is:\"},\"id\":\"5762a6f9-e222-47e9-94dd-c705b9ee08c4\",\"type\":\"Title\"},{\"attributes\":{\"overlay\":{\"id\":\"947b40a6-22a8-4da3-84d0-a7b850b439bd\",\"type\":\"BoxAnnotation\"}},\"id\":\"1809fa41-7b33-4ed5-95e6-342d9d9dcaf0\",\"type\":\"BoxZoomTool\"},{\"attributes\":{},\"id\":\"0ee55420-c21d-4118-a928-e85083013c5e\",\"type\":\"BasicTickFormatter\"},{\"attributes\":{\"callback\":null,\"column_names\":[\"y\",\"x\",\"pct\"],\"data\":{\"pct\":[\"63.45%\",\"17.62%\",\"15.91%\",\"1.60%\",\"1.38%\"],\"x\":[2943,817,738,74,64],\"y\":[\"Pretty good\",\"The best\",\"Not great\",\"The worst\",\"Not sure\"]}},\"id\":\"599cfc7c-8195-43f9-87b6-44b936b3f04b\",\"type\":\"ColumnDataSource\"},{\"attributes\":{},\"id\":\"5c0a0142-d417-49a2-bb51-d5af0d8cc743\",\"type\":\"SaveTool\"},{\"attributes\":{\"source\":{\"id\":\"599cfc7c-8195-43f9-87b6-44b936b3f04b\",\"type\":\"ColumnDataSource\"}},\"id\":\"dbe90703-52a8-495c-b61a-8ca2fd108600\",\"type\":\"CDSView\"},{\"attributes\":{},\"id\":\"af0cb65b-bb77-436c-8261-ef51c8fb03b8\",\"type\":\"BasicTicker\"},{\"attributes\":{\"fill_alpha\":{\"value\":0.1},\"fill_color\":{\"value\":\"#1f77b4\"},\"height\":{\"value\":0.75},\"line_alpha\":{\"value\":0.1},\"line_color\":{\"value\":\"#1f77b4\"},\"right\":{\"field\":\"x\"},\"y\":{\"field\":\"y\"}},\"id\":\"2a580b0a-1817-4569-9934-b263af883998\",\"type\":\"HBar\"},{\"attributes\":{\"bottom_units\":\"screen\",\"fill_alpha\":{\"value\":0.5},\"fill_color\":{\"value\":\"lightgrey\"},\"left_units\":\"screen\",\"level\":\"overlay\",\"line_alpha\":{\"value\":1.0},\"line_color\":{\"value\":\"black\"},\"line_dash\":[4,4],\"line_width\":{\"value\":2},\"plot\":null,\"render_mode\":\"css\",\"right_units\":\"screen\",\"top_units\":\"screen\"},\"id\":\"947b40a6-22a8-4da3-84d0-a7b850b439bd\",\"type\":\"BoxAnnotation\"},{\"attributes\":{\"level\":\"glyph\",\"plot\":{\"id\":\"d85072a0-8880-4cfe-a302-e2ea6f29513c\",\"subtype\":\"Figure\",\"type\":\"Plot\"},\"source\":{\"id\":\"599cfc7c-8195-43f9-87b6-44b936b3f04b\",\"type\":\"ColumnDataSource\"},\"text\":{\"field\":\"pct\"},\"text_font_size\":{\"value\":\"8pt\"},\"x\":{\"field\":\"x\"},\"x_offset\":{\"value\":10},\"y\":{\"field\":\"y\"},\"y_offset\":{\"value\":2}},\"id\":\"462fd199-9512-4736-9d58-cee2e0fbc16a\",\"type\":\"LabelSet\"},{\"attributes\":{\"callback\":null,\"end\":3591.6},\"id\":\"1517f957-4a21-4bd5-8d4d-6a18076c05d9\",\"type\":\"Range1d\"},{\"attributes\":{\"data_source\":{\"id\":\"599cfc7c-8195-43f9-87b6-44b936b3f04b\",\"type\":\"ColumnDataSource\"},\"glyph\":{\"id\":\"202d3cd9-a123-47cd-bc56-5603db85e9bc\",\"type\":\"HBar\"},\"hover_glyph\":null,\"muted_glyph\":null,\"nonselection_glyph\":{\"id\":\"2a580b0a-1817-4569-9934-b263af883998\",\"type\":\"HBar\"},\"selection_glyph\":null,\"view\":{\"id\":\"dbe90703-52a8-495c-b61a-8ca2fd108600\",\"type\":\"CDSView\"}},\"id\":\"857c655d-407d-41b0-a5cb-fc9cc156cfcf\",\"type\":\"GlyphRenderer\"},{\"attributes\":{},\"id\":\"3c3a33f0-a0fc-4a00-9291-1a662d708ff0\",\"type\":\"CategoricalScale\"},{\"attributes\":{\"dimension\":1,\"plot\":{\"id\":\"d85072a0-8880-4cfe-a302-e2ea6f29513c\",\"subtype\":\"Figure\",\"type\":\"Plot\"},\"ticker\":{\"id\":\"2f6b8818-5b5a-4a34-8a48-a6f7cf98acd3\",\"type\":\"CategoricalTicker\"}},\"id\":\"ba084111-9d68-487b-ab67-59debf8f66a1\",\"type\":\"Grid\"},{\"attributes\":{},\"id\":\"2f6b8818-5b5a-4a34-8a48-a6f7cf98acd3\",\"type\":\"CategoricalTicker\"},{\"attributes\":{\"axis_label\":\"Respondents\",\"formatter\":{\"id\":\"0ee55420-c21d-4118-a928-e85083013c5e\",\"type\":\"BasicTickFormatter\"},\"plot\":{\"id\":\"d85072a0-8880-4cfe-a302-e2ea6f29513c\",\"subtype\":\"Figure\",\"type\":\"Plot\"},\"ticker\":{\"id\":\"af0cb65b-bb77-436c-8261-ef51c8fb03b8\",\"type\":\"BasicTicker\"}},\"id\":\"e760de87-bab0-443e-bb4b-1ed10d92f74c\",\"type\":\"LinearAxis\"},{\"attributes\":{\"axis_label\":\"Categories\",\"formatter\":{\"id\":\"6e87a5c3-e393-4f81-9fc5-681ebdfba566\",\"type\":\"CategoricalTickFormatter\"},\"plot\":{\"id\":\"d85072a0-8880-4cfe-a302-e2ea6f29513c\",\"subtype\":\"Figure\",\"type\":\"Plot\"},\"ticker\":{\"id\":\"2f6b8818-5b5a-4a34-8a48-a6f7cf98acd3\",\"type\":\"CategoricalTicker\"}},\"id\":\"3b87f868-44e0-4174-8fb9-480f05cfbb73\",\"type\":\"CategoricalAxis\"},{\"attributes\":{},\"id\":\"80542323-31b1-4e57-98cc-b04529f7cf14\",\"type\":\"PanTool\"},{\"attributes\":{},\"id\":\"6e87a5c3-e393-4f81-9fc5-681ebdfba566\",\"type\":\"CategoricalTickFormatter\"},{\"attributes\":{},\"id\":\"14e39133-cb2d-4512-9c6b-16ce404b22b7\",\"type\":\"WheelZoomTool\"},{\"attributes\":{\"below\":[{\"id\":\"e760de87-bab0-443e-bb4b-1ed10d92f74c\",\"type\":\"LinearAxis\"}],\"left\":[{\"id\":\"3b87f868-44e0-4174-8fb9-480f05cfbb73\",\"type\":\"CategoricalAxis\"}],\"min_border_right\":50,\"output_backend\":\"svg\",\"plot_height\":900,\"plot_width\":1400,\"renderers\":[{\"id\":\"e760de87-bab0-443e-bb4b-1ed10d92f74c\",\"type\":\"LinearAxis\"},{\"id\":\"04a5666c-84f8-4f42-9e9b-8821df04b743\",\"type\":\"Grid\"},{\"id\":\"3b87f868-44e0-4174-8fb9-480f05cfbb73\",\"type\":\"CategoricalAxis\"},{\"id\":\"ba084111-9d68-487b-ab67-59debf8f66a1\",\"type\":\"Grid\"},{\"id\":\"947b40a6-22a8-4da3-84d0-a7b850b439bd\",\"type\":\"BoxAnnotation\"},{\"id\":\"857c655d-407d-41b0-a5cb-fc9cc156cfcf\",\"type\":\"GlyphRenderer\"},{\"id\":\"462fd199-9512-4736-9d58-cee2e0fbc16a\",\"type\":\"LabelSet\"},{\"id\":\"64577b6b-7309-4667-a69c-aefa621ca48e\",\"type\":\"LabelSet\"}],\"title\":{\"id\":\"5762a6f9-e222-47e9-94dd-c705b9ee08c4\",\"type\":\"Title\"},\"toolbar\":{\"id\":\"75070d43-b51d-4ab9-bdbf-a72fb782281a\",\"type\":\"Toolbar\"},\"x_range\":{\"id\":\"1517f957-4a21-4bd5-8d4d-6a18076c05d9\",\"type\":\"Range1d\"},\"x_scale\":{\"id\":\"89d94a0c-c7c7-4499-b535-7afc2cb88c96\",\"type\":\"LinearScale\"},\"y_range\":{\"id\":\"76955719-90dc-4708-a80d-bcb5d3a6cd1f\",\"type\":\"FactorRange\"},\"y_scale\":{\"id\":\"3c3a33f0-a0fc-4a00-9291-1a662d708ff0\",\"type\":\"CategoricalScale\"}},\"id\":\"d85072a0-8880-4cfe-a302-e2ea6f29513c\",\"subtype\":\"Figure\",\"type\":\"Plot\"},{\"attributes\":{\"fill_color\":{\"value\":\"#1f77b4\"},\"height\":{\"value\":0.75},\"line_color\":{\"value\":\"#1f77b4\"},\"right\":{\"field\":\"x\"},\"y\":{\"field\":\"y\"}},\"id\":\"202d3cd9-a123-47cd-bc56-5603db85e9bc\",\"type\":\"HBar\"},{\"attributes\":{\"plot\":{\"id\":\"d85072a0-8880-4cfe-a302-e2ea6f29513c\",\"subtype\":\"Figure\",\"type\":\"Plot\"},\"ticker\":{\"id\":\"af0cb65b-bb77-436c-8261-ef51c8fb03b8\",\"type\":\"BasicTicker\"}},\"id\":\"04a5666c-84f8-4f42-9e9b-8821df04b743\",\"type\":\"Grid\"}],\"root_ids\":[\"d85072a0-8880-4cfe-a302-e2ea6f29513c\"]},\"title\":\"Bokeh Application\",\"version\":\"0.12.13\"}};\n",
              "  var render_items = [{\"docid\":\"6ee79c1a-a40d-4b9a-a8b1-a3aac438c4b8\",\"elementid\":\"c4f1ccdc-f78f-43a4-929a-f6d3d3575949\",\"modelid\":\"d85072a0-8880-4cfe-a302-e2ea6f29513c\"}];\n",
              "  root.Bokeh.embed.embed_items_notebook(docs_json, render_items);\n",
              "\n",
              "  }\n",
              "  if (root.Bokeh !== undefined) {\n",
              "    embed_document(root);\n",
              "  } else {\n",
              "    var attempts = 0;\n",
              "    var timer = setInterval(function(root) {\n",
              "      if (root.Bokeh !== undefined) {\n",
              "        embed_document(root);\n",
              "        clearInterval(timer);\n",
              "      }\n",
              "      attempts++;\n",
              "      if (attempts > 100) {\n",
              "        console.log(\"Bokeh: ERROR: Unable to run BokehJS code because BokehJS library is missing\")\n",
              "        clearInterval(timer);\n",
              "      }\n",
              "    }, 10, root)\n",
              "  }\n",
              "})(window);"
            ],
            "application/vnd.bokehjs_exec.v0+json": ""
          },
          "metadata": {
            "application/vnd.bokehjs_exec.v0+json": {
              "id": "d85072a0-8880-4cfe-a302-e2ea6f29513c"
            }
          }
        },
        {
          "output_type": "display_data",
          "data": {
            "text/html": [
              "\n",
              "<div class=\"bk-root\">\n",
              "    <div class=\"bk-plotdiv\" id=\"41af7426-4440-4d2c-94e5-f18b9fc8a965\"></div>\n",
              "</div>"
            ]
          },
          "metadata": {}
        },
        {
          "output_type": "display_data",
          "data": {
            "application/javascript": [
              "(function(root) {\n",
              "  function embed_document(root) {\n",
              "    \n",
              "  var docs_json = {\"2baf3ff6-e416-4925-a369-5d1b236f5b90\":{\"roots\":{\"references\":[{\"attributes\":{},\"id\":\"f71c5d27-7ba5-429d-bdc3-236154b7e068\",\"type\":\"CategoricalScale\"},{\"attributes\":{\"overlay\":{\"id\":\"0cdea784-f958-4698-bdbc-db88a848a318\",\"type\":\"BoxAnnotation\"}},\"id\":\"675cb939-45f3-4cde-babe-53f3089d3038\",\"type\":\"BoxZoomTool\"},{\"attributes\":{\"below\":[{\"id\":\"48287741-ad7e-46c6-946f-977dc8dd4d81\",\"type\":\"LinearAxis\"}],\"left\":[{\"id\":\"35786055-7077-4546-b429-4ff04eac10f3\",\"type\":\"CategoricalAxis\"}],\"min_border_right\":50,\"output_backend\":\"svg\",\"plot_height\":900,\"plot_width\":1400,\"renderers\":[{\"id\":\"48287741-ad7e-46c6-946f-977dc8dd4d81\",\"type\":\"LinearAxis\"},{\"id\":\"ceac0454-f403-4ae7-b15c-102fed625047\",\"type\":\"Grid\"},{\"id\":\"35786055-7077-4546-b429-4ff04eac10f3\",\"type\":\"CategoricalAxis\"},{\"id\":\"90a8fd5f-053f-494c-adbe-85108dbf4d09\",\"type\":\"Grid\"},{\"id\":\"0cdea784-f958-4698-bdbc-db88a848a318\",\"type\":\"BoxAnnotation\"},{\"id\":\"3df86437-f485-4b36-9cb7-0aeaa717d409\",\"type\":\"GlyphRenderer\"},{\"id\":\"17f96f57-b58b-4d97-a36e-a869d726f794\",\"type\":\"LabelSet\"},{\"id\":\"b53f807c-c734-4f10-bf6a-1b9371b3f8a5\",\"type\":\"LabelSet\"}],\"title\":{\"id\":\"9ed53d29-0667-472c-ae3a-6387e39645b4\",\"type\":\"Title\"},\"toolbar\":{\"id\":\"e3430c0e-1a7d-4a6d-a2db-4a4d69e0fcc6\",\"type\":\"Toolbar\"},\"x_range\":{\"id\":\"043076df-60d7-4265-a2e7-a0b0bc230ffe\",\"type\":\"Range1d\"},\"x_scale\":{\"id\":\"5be55ef0-7b19-4280-a42b-5de897e3d389\",\"type\":\"LinearScale\"},\"y_range\":{\"id\":\"230e6545-d044-4c52-ac22-081d41a5ad19\",\"type\":\"FactorRange\"},\"y_scale\":{\"id\":\"f71c5d27-7ba5-429d-bdc3-236154b7e068\",\"type\":\"CategoricalScale\"}},\"id\":\"8f90eb67-87a2-4730-a798-62b6cd618d96\",\"subtype\":\"Figure\",\"type\":\"Plot\"},{\"attributes\":{},\"id\":\"5be55ef0-7b19-4280-a42b-5de897e3d389\",\"type\":\"LinearScale\"},{\"attributes\":{},\"id\":\"e041d263-ee43-4729-a838-a02abe91ad77\",\"type\":\"CategoricalTickFormatter\"},{\"attributes\":{\"bottom_units\":\"screen\",\"fill_alpha\":{\"value\":0.5},\"fill_color\":{\"value\":\"lightgrey\"},\"left_units\":\"screen\",\"level\":\"overlay\",\"line_alpha\":{\"value\":1.0},\"line_color\":{\"value\":\"black\"},\"line_dash\":[4,4],\"line_width\":{\"value\":2},\"plot\":null,\"render_mode\":\"css\",\"right_units\":\"screen\",\"top_units\":\"screen\"},\"id\":\"0cdea784-f958-4698-bdbc-db88a848a318\",\"type\":\"BoxAnnotation\"},{\"attributes\":{},\"id\":\"dff5470d-deec-404b-9410-c22a5439c8e4\",\"type\":\"ResetTool\"},{\"attributes\":{\"level\":\"glyph\",\"plot\":{\"id\":\"8f90eb67-87a2-4730-a798-62b6cd618d96\",\"subtype\":\"Figure\",\"type\":\"Plot\"},\"source\":{\"id\":\"0f6a922d-cfd1-44ea-ab4a-75901f970f24\",\"type\":\"ColumnDataSource\"},\"text\":{\"field\":\"x\"},\"text_font_size\":{\"value\":\"8pt\"},\"x\":{\"field\":\"x\"},\"x_offset\":{\"value\":10},\"y\":{\"field\":\"y\"},\"y_offset\":{\"value\":-12}},\"id\":\"b53f807c-c734-4f10-bf6a-1b9371b3f8a5\",\"type\":\"LabelSet\"},{\"attributes\":{\"plot\":null,\"text\":\"AIGA-Only: My job stability is:\"},\"id\":\"9ed53d29-0667-472c-ae3a-6387e39645b4\",\"type\":\"Title\"},{\"attributes\":{},\"id\":\"6b227148-dbac-4b1e-b801-e1d2869129e4\",\"type\":\"BasicTickFormatter\"},{\"attributes\":{\"axis_label\":\"Categories\",\"formatter\":{\"id\":\"e041d263-ee43-4729-a838-a02abe91ad77\",\"type\":\"CategoricalTickFormatter\"},\"plot\":{\"id\":\"8f90eb67-87a2-4730-a798-62b6cd618d96\",\"subtype\":\"Figure\",\"type\":\"Plot\"},\"ticker\":{\"id\":\"69e92f4f-5834-43cd-bf20-57a7276f9d7c\",\"type\":\"CategoricalTicker\"}},\"id\":\"35786055-7077-4546-b429-4ff04eac10f3\",\"type\":\"CategoricalAxis\"},{\"attributes\":{\"callback\":null,\"column_names\":[\"y\",\"x\",\"pct\"],\"data\":{\"pct\":[\"56.32%\",\"27.32%\",\"11.99%\",\"2.95%\",\"1.38%\"],\"x\":[2612,1267,556,137,64],\"y\":[\"Fairly stable\",\"Rock solid\",\"Somewhat shaky\",\"Non-existent\",\"Not sure\"]}},\"id\":\"0f6a922d-cfd1-44ea-ab4a-75901f970f24\",\"type\":\"ColumnDataSource\"},{\"attributes\":{},\"id\":\"2c1f6f11-a035-44df-bbe1-cd106ded76dd\",\"type\":\"WheelZoomTool\"},{\"attributes\":{\"callback\":null,\"factors\":[\"Fairly stable\",\"Rock solid\",\"Somewhat shaky\",\"Non-existent\",\"Not sure\"]},\"id\":\"230e6545-d044-4c52-ac22-081d41a5ad19\",\"type\":\"FactorRange\"},{\"attributes\":{\"level\":\"glyph\",\"plot\":{\"id\":\"8f90eb67-87a2-4730-a798-62b6cd618d96\",\"subtype\":\"Figure\",\"type\":\"Plot\"},\"source\":{\"id\":\"0f6a922d-cfd1-44ea-ab4a-75901f970f24\",\"type\":\"ColumnDataSource\"},\"text\":{\"field\":\"pct\"},\"text_font_size\":{\"value\":\"8pt\"},\"x\":{\"field\":\"x\"},\"x_offset\":{\"value\":10},\"y\":{\"field\":\"y\"},\"y_offset\":{\"value\":2}},\"id\":\"17f96f57-b58b-4d97-a36e-a869d726f794\",\"type\":\"LabelSet\"},{\"attributes\":{\"fill_alpha\":{\"value\":0.1},\"fill_color\":{\"value\":\"#1f77b4\"},\"height\":{\"value\":0.75},\"line_alpha\":{\"value\":0.1},\"line_color\":{\"value\":\"#1f77b4\"},\"right\":{\"field\":\"x\"},\"y\":{\"field\":\"y\"}},\"id\":\"8b538afa-815d-4cdd-bad8-63070b41539d\",\"type\":\"HBar\"},{\"attributes\":{\"active_drag\":\"auto\",\"active_inspect\":\"auto\",\"active_scroll\":\"auto\",\"active_tap\":\"auto\",\"tools\":[{\"id\":\"7458d079-89cb-4059-9f2a-fcf5dde1a604\",\"type\":\"PanTool\"},{\"id\":\"2c1f6f11-a035-44df-bbe1-cd106ded76dd\",\"type\":\"WheelZoomTool\"},{\"id\":\"675cb939-45f3-4cde-babe-53f3089d3038\",\"type\":\"BoxZoomTool\"},{\"id\":\"39cf72c6-83b5-4cb9-9540-cf174a616518\",\"type\":\"SaveTool\"},{\"id\":\"dff5470d-deec-404b-9410-c22a5439c8e4\",\"type\":\"ResetTool\"},{\"id\":\"e9c01b1d-0dc9-4f09-8d17-8f23bf65d66f\",\"type\":\"HelpTool\"}]},\"id\":\"e3430c0e-1a7d-4a6d-a2db-4a4d69e0fcc6\",\"type\":\"Toolbar\"},{\"attributes\":{},\"id\":\"69e92f4f-5834-43cd-bf20-57a7276f9d7c\",\"type\":\"CategoricalTicker\"},{\"attributes\":{\"fill_color\":{\"value\":\"#1f77b4\"},\"height\":{\"value\":0.75},\"line_color\":{\"value\":\"#1f77b4\"},\"right\":{\"field\":\"x\"},\"y\":{\"field\":\"y\"}},\"id\":\"6e1a0944-2395-4399-8385-13215ce11598\",\"type\":\"HBar\"},{\"attributes\":{\"source\":{\"id\":\"0f6a922d-cfd1-44ea-ab4a-75901f970f24\",\"type\":\"ColumnDataSource\"}},\"id\":\"30295963-f65a-426f-8d39-64668ffbaa69\",\"type\":\"CDSView\"},{\"attributes\":{},\"id\":\"1d006bcd-7213-49f9-b3fe-2d0f19074dc3\",\"type\":\"BasicTicker\"},{\"attributes\":{\"plot\":{\"id\":\"8f90eb67-87a2-4730-a798-62b6cd618d96\",\"subtype\":\"Figure\",\"type\":\"Plot\"},\"ticker\":{\"id\":\"1d006bcd-7213-49f9-b3fe-2d0f19074dc3\",\"type\":\"BasicTicker\"}},\"id\":\"ceac0454-f403-4ae7-b15c-102fed625047\",\"type\":\"Grid\"},{\"attributes\":{\"callback\":null,\"end\":3194.4},\"id\":\"043076df-60d7-4265-a2e7-a0b0bc230ffe\",\"type\":\"Range1d\"},{\"attributes\":{\"data_source\":{\"id\":\"0f6a922d-cfd1-44ea-ab4a-75901f970f24\",\"type\":\"ColumnDataSource\"},\"glyph\":{\"id\":\"6e1a0944-2395-4399-8385-13215ce11598\",\"type\":\"HBar\"},\"hover_glyph\":null,\"muted_glyph\":null,\"nonselection_glyph\":{\"id\":\"8b538afa-815d-4cdd-bad8-63070b41539d\",\"type\":\"HBar\"},\"selection_glyph\":null,\"view\":{\"id\":\"30295963-f65a-426f-8d39-64668ffbaa69\",\"type\":\"CDSView\"}},\"id\":\"3df86437-f485-4b36-9cb7-0aeaa717d409\",\"type\":\"GlyphRenderer\"},{\"attributes\":{},\"id\":\"39cf72c6-83b5-4cb9-9540-cf174a616518\",\"type\":\"SaveTool\"},{\"attributes\":{\"dimension\":1,\"plot\":{\"id\":\"8f90eb67-87a2-4730-a798-62b6cd618d96\",\"subtype\":\"Figure\",\"type\":\"Plot\"},\"ticker\":{\"id\":\"69e92f4f-5834-43cd-bf20-57a7276f9d7c\",\"type\":\"CategoricalTicker\"}},\"id\":\"90a8fd5f-053f-494c-adbe-85108dbf4d09\",\"type\":\"Grid\"},{\"attributes\":{\"axis_label\":\"Respondents\",\"formatter\":{\"id\":\"6b227148-dbac-4b1e-b801-e1d2869129e4\",\"type\":\"BasicTickFormatter\"},\"plot\":{\"id\":\"8f90eb67-87a2-4730-a798-62b6cd618d96\",\"subtype\":\"Figure\",\"type\":\"Plot\"},\"ticker\":{\"id\":\"1d006bcd-7213-49f9-b3fe-2d0f19074dc3\",\"type\":\"BasicTicker\"}},\"id\":\"48287741-ad7e-46c6-946f-977dc8dd4d81\",\"type\":\"LinearAxis\"},{\"attributes\":{},\"id\":\"e9c01b1d-0dc9-4f09-8d17-8f23bf65d66f\",\"type\":\"HelpTool\"},{\"attributes\":{},\"id\":\"7458d079-89cb-4059-9f2a-fcf5dde1a604\",\"type\":\"PanTool\"}],\"root_ids\":[\"8f90eb67-87a2-4730-a798-62b6cd618d96\"]},\"title\":\"Bokeh Application\",\"version\":\"0.12.13\"}};\n",
              "  var render_items = [{\"docid\":\"2baf3ff6-e416-4925-a369-5d1b236f5b90\",\"elementid\":\"41af7426-4440-4d2c-94e5-f18b9fc8a965\",\"modelid\":\"8f90eb67-87a2-4730-a798-62b6cd618d96\"}];\n",
              "  root.Bokeh.embed.embed_items_notebook(docs_json, render_items);\n",
              "\n",
              "  }\n",
              "  if (root.Bokeh !== undefined) {\n",
              "    embed_document(root);\n",
              "  } else {\n",
              "    var attempts = 0;\n",
              "    var timer = setInterval(function(root) {\n",
              "      if (root.Bokeh !== undefined) {\n",
              "        embed_document(root);\n",
              "        clearInterval(timer);\n",
              "      }\n",
              "      attempts++;\n",
              "      if (attempts > 100) {\n",
              "        console.log(\"Bokeh: ERROR: Unable to run BokehJS code because BokehJS library is missing\")\n",
              "        clearInterval(timer);\n",
              "      }\n",
              "    }, 10, root)\n",
              "  }\n",
              "})(window);"
            ],
            "application/vnd.bokehjs_exec.v0+json": ""
          },
          "metadata": {
            "application/vnd.bokehjs_exec.v0+json": {
              "id": "8f90eb67-87a2-4730-a798-62b6cd618d96"
            }
          }
        },
        {
          "output_type": "display_data",
          "data": {
            "text/html": [
              "\n",
              "<div class=\"bk-root\">\n",
              "    <div class=\"bk-plotdiv\" id=\"37904218-24e8-4968-afeb-814565df2a82\"></div>\n",
              "</div>"
            ]
          },
          "metadata": {}
        },
        {
          "output_type": "display_data",
          "data": {
            "application/javascript": [
              "(function(root) {\n",
              "  function embed_document(root) {\n",
              "    \n",
              "  var docs_json = {\"22352122-418f-4fd4-90fc-20e5c76d3b37\":{\"roots\":{\"references\":[{\"attributes\":{\"callback\":null,\"factors\":[\"Design for friends and family\",\"Maintain personal projects\",\"Take occasional freelance projects\",\"Volunteer\",\"Have regular freelance clients\",\"Own my own business\",\"Teach\",\"Have a part-time job\",\"None of these\"]},\"id\":\"c09a110d-f29b-4e2e-961f-d93bdca4ef98\",\"type\":\"FactorRange\"},{\"attributes\":{\"data_source\":{\"id\":\"7604406f-c6e8-4e3f-a49f-52a31030fbde\",\"type\":\"ColumnDataSource\"},\"glyph\":{\"id\":\"0d053dc2-2649-4ec8-bcfa-6db12e5740c2\",\"type\":\"HBar\"},\"hover_glyph\":null,\"muted_glyph\":null,\"nonselection_glyph\":{\"id\":\"61a9f17a-8a89-4618-a41d-95c98c3ed900\",\"type\":\"HBar\"},\"selection_glyph\":null,\"view\":{\"id\":\"ccda122f-35ae-4f70-9222-e5c2ab582f91\",\"type\":\"CDSView\"}},\"id\":\"6aff2178-dd27-46d8-950a-cbd2b54c0d99\",\"type\":\"GlyphRenderer\"},{\"attributes\":{},\"id\":\"c1ca0562-cb9c-48f3-813b-1a67af1c2932\",\"type\":\"LinearScale\"},{\"attributes\":{\"dimension\":1,\"plot\":{\"id\":\"66514b71-6ed6-404c-ba26-9994fecd439b\",\"subtype\":\"Figure\",\"type\":\"Plot\"},\"ticker\":{\"id\":\"a5dc42f4-8783-4501-b3a7-1a5dc4dd0515\",\"type\":\"CategoricalTicker\"}},\"id\":\"3a1ef4f1-1334-4b91-8331-f6ad9c735c02\",\"type\":\"Grid\"},{\"attributes\":{\"level\":\"glyph\",\"plot\":{\"id\":\"66514b71-6ed6-404c-ba26-9994fecd439b\",\"subtype\":\"Figure\",\"type\":\"Plot\"},\"source\":{\"id\":\"7604406f-c6e8-4e3f-a49f-52a31030fbde\",\"type\":\"ColumnDataSource\"},\"text\":{\"field\":\"pct\"},\"text_font_size\":{\"value\":\"8pt\"},\"x\":{\"field\":\"x\"},\"x_offset\":{\"value\":10},\"y\":{\"field\":\"y\"},\"y_offset\":{\"value\":2}},\"id\":\"cceab7fc-e7aa-480a-8c43-26adad237a43\",\"type\":\"LabelSet\"},{\"attributes\":{},\"id\":\"22f02b80-d867-4097-87c2-782fd52060d3\",\"type\":\"BasicTicker\"},{\"attributes\":{},\"id\":\"76d51778-6f8e-46bd-89ed-5838a622a489\",\"type\":\"SaveTool\"},{\"attributes\":{\"source\":{\"id\":\"7604406f-c6e8-4e3f-a49f-52a31030fbde\",\"type\":\"ColumnDataSource\"}},\"id\":\"ccda122f-35ae-4f70-9222-e5c2ab582f91\",\"type\":\"CDSView\"},{\"attributes\":{\"plot\":null,\"text\":\"AIGA-Only: In addition to my job, I also:\"},\"id\":\"47497dbc-d00c-4060-ba19-120e40dab41b\",\"type\":\"Title\"},{\"attributes\":{\"callback\":null,\"column_names\":[\"y\",\"x\",\"pct\"],\"data\":{\"pct\":[\"60.82%\",\"56.71%\",\"53.60%\",\"41.10%\",\"19.04%\",\"16.32%\",\"10.89%\",\"6.21%\",\"4.87%\"],\"x\":[2821,2630,2486,1906,883,757,505,288,226],\"y\":[\"Design for friends and family\",\"Maintain personal projects\",\"Take occasional freelance projects\",\"Volunteer\",\"Have regular freelance clients\",\"Own my own business\",\"Teach\",\"Have a part-time job\",\"None of these\"]}},\"id\":\"7604406f-c6e8-4e3f-a49f-52a31030fbde\",\"type\":\"ColumnDataSource\"},{\"attributes\":{\"fill_alpha\":{\"value\":0.1},\"fill_color\":{\"value\":\"#1f77b4\"},\"height\":{\"value\":0.75},\"line_alpha\":{\"value\":0.1},\"line_color\":{\"value\":\"#1f77b4\"},\"right\":{\"field\":\"x\"},\"y\":{\"field\":\"y\"}},\"id\":\"61a9f17a-8a89-4618-a41d-95c98c3ed900\",\"type\":\"HBar\"},{\"attributes\":{},\"id\":\"f93e0174-fc7d-4db0-a8f6-aeb73b382491\",\"type\":\"PanTool\"},{\"attributes\":{\"active_drag\":\"auto\",\"active_inspect\":\"auto\",\"active_scroll\":\"auto\",\"active_tap\":\"auto\",\"tools\":[{\"id\":\"f93e0174-fc7d-4db0-a8f6-aeb73b382491\",\"type\":\"PanTool\"},{\"id\":\"c574c9c3-1692-4469-b46e-d8e89d411b2e\",\"type\":\"WheelZoomTool\"},{\"id\":\"4ae28a2b-1b2f-4576-bb52-5a4c8d38ced9\",\"type\":\"BoxZoomTool\"},{\"id\":\"76d51778-6f8e-46bd-89ed-5838a622a489\",\"type\":\"SaveTool\"},{\"id\":\"3231e777-074a-45d6-9712-0e034475b032\",\"type\":\"ResetTool\"},{\"id\":\"7c417702-eab3-42f8-9809-c4b9290918f9\",\"type\":\"HelpTool\"}]},\"id\":\"f881e0b4-803f-4f5d-a8bd-af9620a31481\",\"type\":\"Toolbar\"},{\"attributes\":{},\"id\":\"a5dc42f4-8783-4501-b3a7-1a5dc4dd0515\",\"type\":\"CategoricalTicker\"},{\"attributes\":{\"callback\":null,\"end\":3445.2},\"id\":\"db75bf8a-bf7e-4121-a897-d38ba9ddb440\",\"type\":\"Range1d\"},{\"attributes\":{},\"id\":\"ba2fc110-4dd2-4643-9773-419fca104290\",\"type\":\"CategoricalScale\"},{\"attributes\":{\"plot\":{\"id\":\"66514b71-6ed6-404c-ba26-9994fecd439b\",\"subtype\":\"Figure\",\"type\":\"Plot\"},\"ticker\":{\"id\":\"22f02b80-d867-4097-87c2-782fd52060d3\",\"type\":\"BasicTicker\"}},\"id\":\"a43b9a09-faed-42c9-9196-b95eced88c66\",\"type\":\"Grid\"},{\"attributes\":{\"axis_label\":\"Respondents\",\"formatter\":{\"id\":\"5dff022a-e438-4a4a-8225-5410b50654e7\",\"type\":\"BasicTickFormatter\"},\"plot\":{\"id\":\"66514b71-6ed6-404c-ba26-9994fecd439b\",\"subtype\":\"Figure\",\"type\":\"Plot\"},\"ticker\":{\"id\":\"22f02b80-d867-4097-87c2-782fd52060d3\",\"type\":\"BasicTicker\"}},\"id\":\"241d3467-50c8-496d-a9af-6d14e3dd34de\",\"type\":\"LinearAxis\"},{\"attributes\":{\"overlay\":{\"id\":\"47689350-47ae-45a3-8b6d-4d877faca3a8\",\"type\":\"BoxAnnotation\"}},\"id\":\"4ae28a2b-1b2f-4576-bb52-5a4c8d38ced9\",\"type\":\"BoxZoomTool\"},{\"attributes\":{},\"id\":\"7c417702-eab3-42f8-9809-c4b9290918f9\",\"type\":\"HelpTool\"},{\"attributes\":{\"fill_color\":{\"value\":\"#1f77b4\"},\"height\":{\"value\":0.75},\"line_color\":{\"value\":\"#1f77b4\"},\"right\":{\"field\":\"x\"},\"y\":{\"field\":\"y\"}},\"id\":\"0d053dc2-2649-4ec8-bcfa-6db12e5740c2\",\"type\":\"HBar\"},{\"attributes\":{\"level\":\"glyph\",\"plot\":{\"id\":\"66514b71-6ed6-404c-ba26-9994fecd439b\",\"subtype\":\"Figure\",\"type\":\"Plot\"},\"source\":{\"id\":\"7604406f-c6e8-4e3f-a49f-52a31030fbde\",\"type\":\"ColumnDataSource\"},\"text\":{\"field\":\"x\"},\"text_font_size\":{\"value\":\"8pt\"},\"x\":{\"field\":\"x\"},\"x_offset\":{\"value\":10},\"y\":{\"field\":\"y\"},\"y_offset\":{\"value\":-12}},\"id\":\"3fb6e7d4-3c9c-4f4b-882c-ef99bc3f303a\",\"type\":\"LabelSet\"},{\"attributes\":{},\"id\":\"c574c9c3-1692-4469-b46e-d8e89d411b2e\",\"type\":\"WheelZoomTool\"},{\"attributes\":{},\"id\":\"3231e777-074a-45d6-9712-0e034475b032\",\"type\":\"ResetTool\"},{\"attributes\":{\"axis_label\":\"Categories\",\"formatter\":{\"id\":\"544caa02-50e1-4a70-bed8-8f51c2dd1815\",\"type\":\"CategoricalTickFormatter\"},\"plot\":{\"id\":\"66514b71-6ed6-404c-ba26-9994fecd439b\",\"subtype\":\"Figure\",\"type\":\"Plot\"},\"ticker\":{\"id\":\"a5dc42f4-8783-4501-b3a7-1a5dc4dd0515\",\"type\":\"CategoricalTicker\"}},\"id\":\"22f1d639-f1e3-4c74-a185-698fe3a10658\",\"type\":\"CategoricalAxis\"},{\"attributes\":{\"bottom_units\":\"screen\",\"fill_alpha\":{\"value\":0.5},\"fill_color\":{\"value\":\"lightgrey\"},\"left_units\":\"screen\",\"level\":\"overlay\",\"line_alpha\":{\"value\":1.0},\"line_color\":{\"value\":\"black\"},\"line_dash\":[4,4],\"line_width\":{\"value\":2},\"plot\":null,\"render_mode\":\"css\",\"right_units\":\"screen\",\"top_units\":\"screen\"},\"id\":\"47689350-47ae-45a3-8b6d-4d877faca3a8\",\"type\":\"BoxAnnotation\"},{\"attributes\":{\"below\":[{\"id\":\"241d3467-50c8-496d-a9af-6d14e3dd34de\",\"type\":\"LinearAxis\"}],\"left\":[{\"id\":\"22f1d639-f1e3-4c74-a185-698fe3a10658\",\"type\":\"CategoricalAxis\"}],\"min_border_right\":50,\"output_backend\":\"svg\",\"plot_height\":900,\"plot_width\":1400,\"renderers\":[{\"id\":\"241d3467-50c8-496d-a9af-6d14e3dd34de\",\"type\":\"LinearAxis\"},{\"id\":\"a43b9a09-faed-42c9-9196-b95eced88c66\",\"type\":\"Grid\"},{\"id\":\"22f1d639-f1e3-4c74-a185-698fe3a10658\",\"type\":\"CategoricalAxis\"},{\"id\":\"3a1ef4f1-1334-4b91-8331-f6ad9c735c02\",\"type\":\"Grid\"},{\"id\":\"47689350-47ae-45a3-8b6d-4d877faca3a8\",\"type\":\"BoxAnnotation\"},{\"id\":\"6aff2178-dd27-46d8-950a-cbd2b54c0d99\",\"type\":\"GlyphRenderer\"},{\"id\":\"cceab7fc-e7aa-480a-8c43-26adad237a43\",\"type\":\"LabelSet\"},{\"id\":\"3fb6e7d4-3c9c-4f4b-882c-ef99bc3f303a\",\"type\":\"LabelSet\"}],\"title\":{\"id\":\"47497dbc-d00c-4060-ba19-120e40dab41b\",\"type\":\"Title\"},\"toolbar\":{\"id\":\"f881e0b4-803f-4f5d-a8bd-af9620a31481\",\"type\":\"Toolbar\"},\"x_range\":{\"id\":\"db75bf8a-bf7e-4121-a897-d38ba9ddb440\",\"type\":\"Range1d\"},\"x_scale\":{\"id\":\"c1ca0562-cb9c-48f3-813b-1a67af1c2932\",\"type\":\"LinearScale\"},\"y_range\":{\"id\":\"c09a110d-f29b-4e2e-961f-d93bdca4ef98\",\"type\":\"FactorRange\"},\"y_scale\":{\"id\":\"ba2fc110-4dd2-4643-9773-419fca104290\",\"type\":\"CategoricalScale\"}},\"id\":\"66514b71-6ed6-404c-ba26-9994fecd439b\",\"subtype\":\"Figure\",\"type\":\"Plot\"},{\"attributes\":{},\"id\":\"544caa02-50e1-4a70-bed8-8f51c2dd1815\",\"type\":\"CategoricalTickFormatter\"},{\"attributes\":{},\"id\":\"5dff022a-e438-4a4a-8225-5410b50654e7\",\"type\":\"BasicTickFormatter\"}],\"root_ids\":[\"66514b71-6ed6-404c-ba26-9994fecd439b\"]},\"title\":\"Bokeh Application\",\"version\":\"0.12.13\"}};\n",
              "  var render_items = [{\"docid\":\"22352122-418f-4fd4-90fc-20e5c76d3b37\",\"elementid\":\"37904218-24e8-4968-afeb-814565df2a82\",\"modelid\":\"66514b71-6ed6-404c-ba26-9994fecd439b\"}];\n",
              "  root.Bokeh.embed.embed_items_notebook(docs_json, render_items);\n",
              "\n",
              "  }\n",
              "  if (root.Bokeh !== undefined) {\n",
              "    embed_document(root);\n",
              "  } else {\n",
              "    var attempts = 0;\n",
              "    var timer = setInterval(function(root) {\n",
              "      if (root.Bokeh !== undefined) {\n",
              "        embed_document(root);\n",
              "        clearInterval(timer);\n",
              "      }\n",
              "      attempts++;\n",
              "      if (attempts > 100) {\n",
              "        console.log(\"Bokeh: ERROR: Unable to run BokehJS code because BokehJS library is missing\")\n",
              "        clearInterval(timer);\n",
              "      }\n",
              "    }, 10, root)\n",
              "  }\n",
              "})(window);"
            ],
            "application/vnd.bokehjs_exec.v0+json": ""
          },
          "metadata": {
            "application/vnd.bokehjs_exec.v0+json": {
              "id": "66514b71-6ed6-404c-ba26-9994fecd439b"
            }
          }
        },
        {
          "output_type": "display_data",
          "data": {
            "text/html": [
              "\n",
              "<div class=\"bk-root\">\n",
              "    <div class=\"bk-plotdiv\" id=\"c9dac25f-6d42-44d7-a62c-e2f39adda836\"></div>\n",
              "</div>"
            ]
          },
          "metadata": {}
        },
        {
          "output_type": "display_data",
          "data": {
            "application/javascript": [
              "(function(root) {\n",
              "  function embed_document(root) {\n",
              "    \n",
              "  var docs_json = {\"dc59949b-3338-490d-a36e-6738bb0f73d8\":{\"roots\":{\"references\":[{\"attributes\":{},\"id\":\"3fd5d8d9-4c5c-4a7e-8739-4de507678c59\",\"type\":\"HelpTool\"},{\"attributes\":{},\"id\":\"d388295e-5628-45b5-87ec-380747ab4a7a\",\"type\":\"CategoricalTicker\"},{\"attributes\":{\"active_drag\":\"auto\",\"active_inspect\":\"auto\",\"active_scroll\":\"auto\",\"active_tap\":\"auto\",\"tools\":[{\"id\":\"5cbbae26-7472-4b2c-b41b-99c601e0c122\",\"type\":\"PanTool\"},{\"id\":\"c8ceddfe-5b0a-4028-95e9-42cbde27cbfc\",\"type\":\"WheelZoomTool\"},{\"id\":\"2c6b41ac-1ae2-4521-86fd-f3c5c519a41f\",\"type\":\"BoxZoomTool\"},{\"id\":\"510e83f2-248a-420c-9fc4-c611f3826982\",\"type\":\"SaveTool\"},{\"id\":\"77d2a935-ca1f-4dc7-b55e-db11be176c87\",\"type\":\"ResetTool\"},{\"id\":\"3fd5d8d9-4c5c-4a7e-8739-4de507678c59\",\"type\":\"HelpTool\"}]},\"id\":\"d6dc1376-8784-4395-8609-b2985c213395\",\"type\":\"Toolbar\"},{\"attributes\":{\"axis_label\":\"Categories\",\"formatter\":{\"id\":\"0cd0305f-cf8f-4502-866d-76573428fc1d\",\"type\":\"CategoricalTickFormatter\"},\"plot\":{\"id\":\"c6478334-d4c5-4d0e-a31b-f978999b3e66\",\"subtype\":\"Figure\",\"type\":\"Plot\"},\"ticker\":{\"id\":\"d388295e-5628-45b5-87ec-380747ab4a7a\",\"type\":\"CategoricalTicker\"}},\"id\":\"7196bf79-9b1f-4442-a98a-65d9db9e61b0\",\"type\":\"CategoricalAxis\"},{\"attributes\":{\"source\":{\"id\":\"4bf1772d-b1d8-46f2-b6eb-349a9ddfa821\",\"type\":\"ColumnDataSource\"}},\"id\":\"55bb9e8a-5611-47c8-967a-e814063a6f72\",\"type\":\"CDSView\"},{\"attributes\":{},\"id\":\"e1972f72-e7ac-4eca-9fc7-4c04001c490a\",\"type\":\"BasicTickFormatter\"},{\"attributes\":{},\"id\":\"ca15a06b-285d-46fd-a0b2-2301c9878a30\",\"type\":\"LinearScale\"},{\"attributes\":{\"callback\":null,\"end\":2840.4},\"id\":\"b01be40d-ae72-488a-8096-ab77b84588c1\",\"type\":\"Range1d\"},{\"attributes\":{\"level\":\"glyph\",\"plot\":{\"id\":\"c6478334-d4c5-4d0e-a31b-f978999b3e66\",\"subtype\":\"Figure\",\"type\":\"Plot\"},\"source\":{\"id\":\"4bf1772d-b1d8-46f2-b6eb-349a9ddfa821\",\"type\":\"ColumnDataSource\"},\"text\":{\"field\":\"pct\"},\"text_font_size\":{\"value\":\"8pt\"},\"x\":{\"field\":\"x\"},\"x_offset\":{\"value\":10},\"y\":{\"field\":\"y\"},\"y_offset\":{\"value\":2}},\"id\":\"f91f7964-dc40-46c2-ae4e-f7cd49839b00\",\"type\":\"LabelSet\"},{\"attributes\":{},\"id\":\"c8ceddfe-5b0a-4028-95e9-42cbde27cbfc\",\"type\":\"WheelZoomTool\"},{\"attributes\":{},\"id\":\"77d2a935-ca1f-4dc7-b55e-db11be176c87\",\"type\":\"ResetTool\"},{\"attributes\":{\"callback\":null,\"factors\":[\"1-2 cups\",\"No way, tea\",\"3-4 cups\",\"Other\",\"5-6 cups\",\"7-8 cups\",\"10+ cups\",\"9-10 cups\"]},\"id\":\"407bb316-0b9a-4871-83e7-9809a10bd8e8\",\"type\":\"FactorRange\"},{\"attributes\":{},\"id\":\"0cd0305f-cf8f-4502-866d-76573428fc1d\",\"type\":\"CategoricalTickFormatter\"},{\"attributes\":{},\"id\":\"0de0dc61-6d20-4e34-b30a-a6b673797b6c\",\"type\":\"CategoricalScale\"},{\"attributes\":{\"plot\":null,\"text\":\"AIGA-Only: I fuel my daily creativity with coffee:\"},\"id\":\"d8ef7bbc-125b-4a94-a0c9-03030c5ad800\",\"type\":\"Title\"},{\"attributes\":{},\"id\":\"510e83f2-248a-420c-9fc4-c611f3826982\",\"type\":\"SaveTool\"},{\"attributes\":{\"overlay\":{\"id\":\"f50dac46-b7ad-4777-86f1-c7053a977000\",\"type\":\"BoxAnnotation\"}},\"id\":\"2c6b41ac-1ae2-4521-86fd-f3c5c519a41f\",\"type\":\"BoxZoomTool\"},{\"attributes\":{\"fill_color\":{\"value\":\"#1f77b4\"},\"height\":{\"value\":0.75},\"line_color\":{\"value\":\"#1f77b4\"},\"right\":{\"field\":\"x\"},\"y\":{\"field\":\"y\"}},\"id\":\"167a3547-3f69-458a-8411-e4b67633e086\",\"type\":\"HBar\"},{\"attributes\":{\"plot\":{\"id\":\"c6478334-d4c5-4d0e-a31b-f978999b3e66\",\"subtype\":\"Figure\",\"type\":\"Plot\"},\"ticker\":{\"id\":\"f5055a3a-fe89-4185-bdb6-db375904b495\",\"type\":\"BasicTicker\"}},\"id\":\"f89ed9bf-e978-4a9e-9bff-65de2c7baae3\",\"type\":\"Grid\"},{\"attributes\":{\"data_source\":{\"id\":\"4bf1772d-b1d8-46f2-b6eb-349a9ddfa821\",\"type\":\"ColumnDataSource\"},\"glyph\":{\"id\":\"167a3547-3f69-458a-8411-e4b67633e086\",\"type\":\"HBar\"},\"hover_glyph\":null,\"muted_glyph\":null,\"nonselection_glyph\":{\"id\":\"3e6c5e1c-cf5c-4670-8ada-12a7dca0fd6c\",\"type\":\"HBar\"},\"selection_glyph\":null,\"view\":{\"id\":\"55bb9e8a-5611-47c8-967a-e814063a6f72\",\"type\":\"CDSView\"}},\"id\":\"09535dd0-a7ed-4915-a14e-b8eec9b2f609\",\"type\":\"GlyphRenderer\"},{\"attributes\":{\"bottom_units\":\"screen\",\"fill_alpha\":{\"value\":0.5},\"fill_color\":{\"value\":\"lightgrey\"},\"left_units\":\"screen\",\"level\":\"overlay\",\"line_alpha\":{\"value\":1.0},\"line_color\":{\"value\":\"black\"},\"line_dash\":[4,4],\"line_width\":{\"value\":2},\"plot\":null,\"render_mode\":\"css\",\"right_units\":\"screen\",\"top_units\":\"screen\"},\"id\":\"f50dac46-b7ad-4777-86f1-c7053a977000\",\"type\":\"BoxAnnotation\"},{\"attributes\":{\"dimension\":1,\"plot\":{\"id\":\"c6478334-d4c5-4d0e-a31b-f978999b3e66\",\"subtype\":\"Figure\",\"type\":\"Plot\"},\"ticker\":{\"id\":\"d388295e-5628-45b5-87ec-380747ab4a7a\",\"type\":\"CategoricalTicker\"}},\"id\":\"fb1a8f69-abae-4d1f-a125-019b765f5e15\",\"type\":\"Grid\"},{\"attributes\":{\"axis_label\":\"Respondents\",\"formatter\":{\"id\":\"e1972f72-e7ac-4eca-9fc7-4c04001c490a\",\"type\":\"BasicTickFormatter\"},\"plot\":{\"id\":\"c6478334-d4c5-4d0e-a31b-f978999b3e66\",\"subtype\":\"Figure\",\"type\":\"Plot\"},\"ticker\":{\"id\":\"f5055a3a-fe89-4185-bdb6-db375904b495\",\"type\":\"BasicTicker\"}},\"id\":\"17dfe0f2-5787-4fd9-b45d-b2928cf4c22a\",\"type\":\"LinearAxis\"},{\"attributes\":{\"level\":\"glyph\",\"plot\":{\"id\":\"c6478334-d4c5-4d0e-a31b-f978999b3e66\",\"subtype\":\"Figure\",\"type\":\"Plot\"},\"source\":{\"id\":\"4bf1772d-b1d8-46f2-b6eb-349a9ddfa821\",\"type\":\"ColumnDataSource\"},\"text\":{\"field\":\"x\"},\"text_font_size\":{\"value\":\"8pt\"},\"x\":{\"field\":\"x\"},\"x_offset\":{\"value\":10},\"y\":{\"field\":\"y\"},\"y_offset\":{\"value\":-12}},\"id\":\"2d44aeb2-2638-4341-889f-474049c0792e\",\"type\":\"LabelSet\"},{\"attributes\":{\"fill_alpha\":{\"value\":0.1},\"fill_color\":{\"value\":\"#1f77b4\"},\"height\":{\"value\":0.75},\"line_alpha\":{\"value\":0.1},\"line_color\":{\"value\":\"#1f77b4\"},\"right\":{\"field\":\"x\"},\"y\":{\"field\":\"y\"}},\"id\":\"3e6c5e1c-cf5c-4670-8ada-12a7dca0fd6c\",\"type\":\"HBar\"},{\"attributes\":{\"below\":[{\"id\":\"17dfe0f2-5787-4fd9-b45d-b2928cf4c22a\",\"type\":\"LinearAxis\"}],\"left\":[{\"id\":\"7196bf79-9b1f-4442-a98a-65d9db9e61b0\",\"type\":\"CategoricalAxis\"}],\"min_border_right\":50,\"output_backend\":\"svg\",\"plot_height\":900,\"plot_width\":1400,\"renderers\":[{\"id\":\"17dfe0f2-5787-4fd9-b45d-b2928cf4c22a\",\"type\":\"LinearAxis\"},{\"id\":\"f89ed9bf-e978-4a9e-9bff-65de2c7baae3\",\"type\":\"Grid\"},{\"id\":\"7196bf79-9b1f-4442-a98a-65d9db9e61b0\",\"type\":\"CategoricalAxis\"},{\"id\":\"fb1a8f69-abae-4d1f-a125-019b765f5e15\",\"type\":\"Grid\"},{\"id\":\"f50dac46-b7ad-4777-86f1-c7053a977000\",\"type\":\"BoxAnnotation\"},{\"id\":\"09535dd0-a7ed-4915-a14e-b8eec9b2f609\",\"type\":\"GlyphRenderer\"},{\"id\":\"f91f7964-dc40-46c2-ae4e-f7cd49839b00\",\"type\":\"LabelSet\"},{\"id\":\"2d44aeb2-2638-4341-889f-474049c0792e\",\"type\":\"LabelSet\"}],\"title\":{\"id\":\"d8ef7bbc-125b-4a94-a0c9-03030c5ad800\",\"type\":\"Title\"},\"toolbar\":{\"id\":\"d6dc1376-8784-4395-8609-b2985c213395\",\"type\":\"Toolbar\"},\"x_range\":{\"id\":\"b01be40d-ae72-488a-8096-ab77b84588c1\",\"type\":\"Range1d\"},\"x_scale\":{\"id\":\"ca15a06b-285d-46fd-a0b2-2301c9878a30\",\"type\":\"LinearScale\"},\"y_range\":{\"id\":\"407bb316-0b9a-4871-83e7-9809a10bd8e8\",\"type\":\"FactorRange\"},\"y_scale\":{\"id\":\"0de0dc61-6d20-4e34-b30a-a6b673797b6c\",\"type\":\"CategoricalScale\"}},\"id\":\"c6478334-d4c5-4d0e-a31b-f978999b3e66\",\"subtype\":\"Figure\",\"type\":\"Plot\"},{\"attributes\":{},\"id\":\"5cbbae26-7472-4b2c-b41b-99c601e0c122\",\"type\":\"PanTool\"},{\"attributes\":{\"callback\":null,\"column_names\":[\"y\",\"x\",\"pct\"],\"data\":{\"pct\":[\"49.96%\",\"18.24%\",\"17.16%\",\"10.39%\",\"3.17%\",\"0.82%\",\"0.19%\",\"0.06%\"],\"x\":[2317,846,796,482,147,38,9,3],\"y\":[\"1-2 cups\",\"No way, tea\",\"3-4 cups\",\"Other\",\"5-6 cups\",\"7-8 cups\",\"10+ cups\",\"9-10 cups\"]}},\"id\":\"4bf1772d-b1d8-46f2-b6eb-349a9ddfa821\",\"type\":\"ColumnDataSource\"},{\"attributes\":{},\"id\":\"f5055a3a-fe89-4185-bdb6-db375904b495\",\"type\":\"BasicTicker\"}],\"root_ids\":[\"c6478334-d4c5-4d0e-a31b-f978999b3e66\"]},\"title\":\"Bokeh Application\",\"version\":\"0.12.13\"}};\n",
              "  var render_items = [{\"docid\":\"dc59949b-3338-490d-a36e-6738bb0f73d8\",\"elementid\":\"c9dac25f-6d42-44d7-a62c-e2f39adda836\",\"modelid\":\"c6478334-d4c5-4d0e-a31b-f978999b3e66\"}];\n",
              "  root.Bokeh.embed.embed_items_notebook(docs_json, render_items);\n",
              "\n",
              "  }\n",
              "  if (root.Bokeh !== undefined) {\n",
              "    embed_document(root);\n",
              "  } else {\n",
              "    var attempts = 0;\n",
              "    var timer = setInterval(function(root) {\n",
              "      if (root.Bokeh !== undefined) {\n",
              "        embed_document(root);\n",
              "        clearInterval(timer);\n",
              "      }\n",
              "      attempts++;\n",
              "      if (attempts > 100) {\n",
              "        console.log(\"Bokeh: ERROR: Unable to run BokehJS code because BokehJS library is missing\")\n",
              "        clearInterval(timer);\n",
              "      }\n",
              "    }, 10, root)\n",
              "  }\n",
              "})(window);"
            ],
            "application/vnd.bokehjs_exec.v0+json": ""
          },
          "metadata": {
            "application/vnd.bokehjs_exec.v0+json": {
              "id": "c6478334-d4c5-4d0e-a31b-f978999b3e66"
            }
          }
        },
        {
          "output_type": "display_data",
          "data": {
            "text/html": [
              "\n",
              "<div class=\"bk-root\">\n",
              "    <div class=\"bk-plotdiv\" id=\"0bc49faa-99a0-494c-910d-fa5f73e7ba66\"></div>\n",
              "</div>"
            ]
          },
          "metadata": {}
        },
        {
          "output_type": "display_data",
          "data": {
            "application/javascript": [
              "(function(root) {\n",
              "  function embed_document(root) {\n",
              "    \n",
              "  var docs_json = {\"db676c7e-3285-4c16-82af-ed2bf70cb044\":{\"roots\":{\"references\":[{\"attributes\":{},\"id\":\"3c9c8728-7050-4149-841a-55bb598696f1\",\"type\":\"CategoricalTickFormatter\"},{\"attributes\":{},\"id\":\"dac4ff3e-39ae-4658-9eef-da76266b0466\",\"type\":\"WheelZoomTool\"},{\"attributes\":{\"axis_label\":\"Categories\",\"formatter\":{\"id\":\"3c9c8728-7050-4149-841a-55bb598696f1\",\"type\":\"CategoricalTickFormatter\"},\"plot\":{\"id\":\"00741ae2-4778-45ef-89f2-87ab629e3fe7\",\"subtype\":\"Figure\",\"type\":\"Plot\"},\"ticker\":{\"id\":\"1c858c1c-8a26-400a-8e45-835e3b1c97e2\",\"type\":\"CategoricalTicker\"}},\"id\":\"217af66f-4124-48d0-af02-bc6e9a7c5932\",\"type\":\"CategoricalAxis\"},{\"attributes\":{\"below\":[{\"id\":\"056da391-1bda-4e2e-aeb0-171f7f9ec88f\",\"type\":\"LinearAxis\"}],\"left\":[{\"id\":\"217af66f-4124-48d0-af02-bc6e9a7c5932\",\"type\":\"CategoricalAxis\"}],\"min_border_right\":50,\"output_backend\":\"svg\",\"plot_height\":900,\"plot_width\":1400,\"renderers\":[{\"id\":\"056da391-1bda-4e2e-aeb0-171f7f9ec88f\",\"type\":\"LinearAxis\"},{\"id\":\"5bf1973a-c62a-4dcf-b558-b8ef1aed72f5\",\"type\":\"Grid\"},{\"id\":\"217af66f-4124-48d0-af02-bc6e9a7c5932\",\"type\":\"CategoricalAxis\"},{\"id\":\"c1d55fc1-6153-4890-b80c-a56b6451d83f\",\"type\":\"Grid\"},{\"id\":\"2862627e-eb1d-412c-9d82-b582ec10d88c\",\"type\":\"BoxAnnotation\"},{\"id\":\"a607989e-6b23-433e-b1cc-27098e1e8a30\",\"type\":\"GlyphRenderer\"},{\"id\":\"4f14c141-f8b1-4c40-863e-6407bab5c2cf\",\"type\":\"LabelSet\"},{\"id\":\"3bed4df4-4fd8-458f-98c0-fe05667f5831\",\"type\":\"LabelSet\"}],\"title\":{\"id\":\"ebf86d6f-7b08-4991-91ec-bc9006e2f7b4\",\"type\":\"Title\"},\"toolbar\":{\"id\":\"049d548c-576e-4865-add1-bda53e851fdc\",\"type\":\"Toolbar\"},\"x_range\":{\"id\":\"f67b76df-3ae6-423c-8456-26de73447578\",\"type\":\"Range1d\"},\"x_scale\":{\"id\":\"26eba194-d6d3-481d-b902-ef3d6e54b0fb\",\"type\":\"LinearScale\"},\"y_range\":{\"id\":\"4afcbc69-8610-42c5-bb8a-a825c8165c54\",\"type\":\"FactorRange\"},\"y_scale\":{\"id\":\"3a18bd9e-bc41-4d97-be3f-978bc443805f\",\"type\":\"CategoricalScale\"}},\"id\":\"00741ae2-4778-45ef-89f2-87ab629e3fe7\",\"subtype\":\"Figure\",\"type\":\"Plot\"},{\"attributes\":{\"source\":{\"id\":\"c5af71e9-229e-44a1-99aa-2e6aa29bdeb1\",\"type\":\"ColumnDataSource\"}},\"id\":\"951379ba-64c5-4758-85a3-00bfb0d6598d\",\"type\":\"CDSView\"},{\"attributes\":{\"plot\":{\"id\":\"00741ae2-4778-45ef-89f2-87ab629e3fe7\",\"subtype\":\"Figure\",\"type\":\"Plot\"},\"ticker\":{\"id\":\"dbbef1f7-c76f-4eac-93ca-b03ff8820015\",\"type\":\"BasicTicker\"}},\"id\":\"5bf1973a-c62a-4dcf-b558-b8ef1aed72f5\",\"type\":\"Grid\"},{\"attributes\":{},\"id\":\"e50464c2-3b15-4708-8fbd-deacc10a620a\",\"type\":\"HelpTool\"},{\"attributes\":{},\"id\":\"1c858c1c-8a26-400a-8e45-835e3b1c97e2\",\"type\":\"CategoricalTicker\"},{\"attributes\":{},\"id\":\"6cb599cf-6955-4221-b27f-25d154983015\",\"type\":\"BasicTickFormatter\"},{\"attributes\":{\"data_source\":{\"id\":\"c5af71e9-229e-44a1-99aa-2e6aa29bdeb1\",\"type\":\"ColumnDataSource\"},\"glyph\":{\"id\":\"2e9833e7-c42c-4a48-bdb1-989381c0e02e\",\"type\":\"HBar\"},\"hover_glyph\":null,\"muted_glyph\":null,\"nonselection_glyph\":{\"id\":\"39497309-9114-47b5-89eb-6d30ce465675\",\"type\":\"HBar\"},\"selection_glyph\":null,\"view\":{\"id\":\"951379ba-64c5-4758-85a3-00bfb0d6598d\",\"type\":\"CDSView\"}},\"id\":\"a607989e-6b23-433e-b1cc-27098e1e8a30\",\"type\":\"GlyphRenderer\"},{\"attributes\":{\"callback\":null,\"column_names\":[\"y\",\"x\",\"pct\"],\"data\":{\"pct\":[\"73.16%\",\"16.90%\",\"4.38%\",\"3.69%\",\"0.88%\",\"0.52%\",\"0.47%\"],\"x\":[3393,784,203,171,41,24,22],\"y\":[\"Bachelor's degree\",\"Master's degree\",\"Associate's degree\",\"Some college\",\"Technical degree or certificate\",\"Doctorate\",\"High School or less\"]}},\"id\":\"c5af71e9-229e-44a1-99aa-2e6aa29bdeb1\",\"type\":\"ColumnDataSource\"},{\"attributes\":{\"level\":\"glyph\",\"plot\":{\"id\":\"00741ae2-4778-45ef-89f2-87ab629e3fe7\",\"subtype\":\"Figure\",\"type\":\"Plot\"},\"source\":{\"id\":\"c5af71e9-229e-44a1-99aa-2e6aa29bdeb1\",\"type\":\"ColumnDataSource\"},\"text\":{\"field\":\"x\"},\"text_font_size\":{\"value\":\"8pt\"},\"x\":{\"field\":\"x\"},\"x_offset\":{\"value\":10},\"y\":{\"field\":\"y\"},\"y_offset\":{\"value\":-12}},\"id\":\"3bed4df4-4fd8-458f-98c0-fe05667f5831\",\"type\":\"LabelSet\"},{\"attributes\":{},\"id\":\"dbbef1f7-c76f-4eac-93ca-b03ff8820015\",\"type\":\"BasicTicker\"},{\"attributes\":{},\"id\":\"185b4a7c-71a0-424d-9971-84c8bdd42d30\",\"type\":\"ResetTool\"},{\"attributes\":{\"bottom_units\":\"screen\",\"fill_alpha\":{\"value\":0.5},\"fill_color\":{\"value\":\"lightgrey\"},\"left_units\":\"screen\",\"level\":\"overlay\",\"line_alpha\":{\"value\":1.0},\"line_color\":{\"value\":\"black\"},\"line_dash\":[4,4],\"line_width\":{\"value\":2},\"plot\":null,\"render_mode\":\"css\",\"right_units\":\"screen\",\"top_units\":\"screen\"},\"id\":\"2862627e-eb1d-412c-9d82-b582ec10d88c\",\"type\":\"BoxAnnotation\"},{\"attributes\":{},\"id\":\"cbbb985e-e061-4cdb-8064-83f027e01613\",\"type\":\"SaveTool\"},{\"attributes\":{\"dimension\":1,\"plot\":{\"id\":\"00741ae2-4778-45ef-89f2-87ab629e3fe7\",\"subtype\":\"Figure\",\"type\":\"Plot\"},\"ticker\":{\"id\":\"1c858c1c-8a26-400a-8e45-835e3b1c97e2\",\"type\":\"CategoricalTicker\"}},\"id\":\"c1d55fc1-6153-4890-b80c-a56b6451d83f\",\"type\":\"Grid\"},{\"attributes\":{\"active_drag\":\"auto\",\"active_inspect\":\"auto\",\"active_scroll\":\"auto\",\"active_tap\":\"auto\",\"tools\":[{\"id\":\"00de5324-941d-44dc-b727-98e08e9a443f\",\"type\":\"PanTool\"},{\"id\":\"dac4ff3e-39ae-4658-9eef-da76266b0466\",\"type\":\"WheelZoomTool\"},{\"id\":\"352e3328-883f-4d7e-b1b3-56a08985aa63\",\"type\":\"BoxZoomTool\"},{\"id\":\"cbbb985e-e061-4cdb-8064-83f027e01613\",\"type\":\"SaveTool\"},{\"id\":\"185b4a7c-71a0-424d-9971-84c8bdd42d30\",\"type\":\"ResetTool\"},{\"id\":\"e50464c2-3b15-4708-8fbd-deacc10a620a\",\"type\":\"HelpTool\"}]},\"id\":\"049d548c-576e-4865-add1-bda53e851fdc\",\"type\":\"Toolbar\"},{\"attributes\":{\"level\":\"glyph\",\"plot\":{\"id\":\"00741ae2-4778-45ef-89f2-87ab629e3fe7\",\"subtype\":\"Figure\",\"type\":\"Plot\"},\"source\":{\"id\":\"c5af71e9-229e-44a1-99aa-2e6aa29bdeb1\",\"type\":\"ColumnDataSource\"},\"text\":{\"field\":\"pct\"},\"text_font_size\":{\"value\":\"8pt\"},\"x\":{\"field\":\"x\"},\"x_offset\":{\"value\":10},\"y\":{\"field\":\"y\"},\"y_offset\":{\"value\":2}},\"id\":\"4f14c141-f8b1-4c40-863e-6407bab5c2cf\",\"type\":\"LabelSet\"},{\"attributes\":{},\"id\":\"00de5324-941d-44dc-b727-98e08e9a443f\",\"type\":\"PanTool\"},{\"attributes\":{\"overlay\":{\"id\":\"2862627e-eb1d-412c-9d82-b582ec10d88c\",\"type\":\"BoxAnnotation\"}},\"id\":\"352e3328-883f-4d7e-b1b3-56a08985aa63\",\"type\":\"BoxZoomTool\"},{\"attributes\":{},\"id\":\"3a18bd9e-bc41-4d97-be3f-978bc443805f\",\"type\":\"CategoricalScale\"},{\"attributes\":{},\"id\":\"26eba194-d6d3-481d-b902-ef3d6e54b0fb\",\"type\":\"LinearScale\"},{\"attributes\":{\"callback\":null,\"end\":4131.6},\"id\":\"f67b76df-3ae6-423c-8456-26de73447578\",\"type\":\"Range1d\"},{\"attributes\":{\"fill_alpha\":{\"value\":0.1},\"fill_color\":{\"value\":\"#1f77b4\"},\"height\":{\"value\":0.75},\"line_alpha\":{\"value\":0.1},\"line_color\":{\"value\":\"#1f77b4\"},\"right\":{\"field\":\"x\"},\"y\":{\"field\":\"y\"}},\"id\":\"39497309-9114-47b5-89eb-6d30ce465675\",\"type\":\"HBar\"},{\"attributes\":{\"axis_label\":\"Respondents\",\"formatter\":{\"id\":\"6cb599cf-6955-4221-b27f-25d154983015\",\"type\":\"BasicTickFormatter\"},\"plot\":{\"id\":\"00741ae2-4778-45ef-89f2-87ab629e3fe7\",\"subtype\":\"Figure\",\"type\":\"Plot\"},\"ticker\":{\"id\":\"dbbef1f7-c76f-4eac-93ca-b03ff8820015\",\"type\":\"BasicTicker\"}},\"id\":\"056da391-1bda-4e2e-aeb0-171f7f9ec88f\",\"type\":\"LinearAxis\"},{\"attributes\":{\"callback\":null,\"factors\":[\"Bachelor's degree\",\"Master's degree\",\"Associate's degree\",\"Some college\",\"Technical degree or certificate\",\"Doctorate\",\"High School or less\"]},\"id\":\"4afcbc69-8610-42c5-bb8a-a825c8165c54\",\"type\":\"FactorRange\"},{\"attributes\":{\"fill_color\":{\"value\":\"#1f77b4\"},\"height\":{\"value\":0.75},\"line_color\":{\"value\":\"#1f77b4\"},\"right\":{\"field\":\"x\"},\"y\":{\"field\":\"y\"}},\"id\":\"2e9833e7-c42c-4a48-bdb1-989381c0e02e\",\"type\":\"HBar\"},{\"attributes\":{\"plot\":null,\"text\":\"AIGA-Only: Highest level of education I've completed:\"},\"id\":\"ebf86d6f-7b08-4991-91ec-bc9006e2f7b4\",\"type\":\"Title\"}],\"root_ids\":[\"00741ae2-4778-45ef-89f2-87ab629e3fe7\"]},\"title\":\"Bokeh Application\",\"version\":\"0.12.13\"}};\n",
              "  var render_items = [{\"docid\":\"db676c7e-3285-4c16-82af-ed2bf70cb044\",\"elementid\":\"0bc49faa-99a0-494c-910d-fa5f73e7ba66\",\"modelid\":\"00741ae2-4778-45ef-89f2-87ab629e3fe7\"}];\n",
              "  root.Bokeh.embed.embed_items_notebook(docs_json, render_items);\n",
              "\n",
              "  }\n",
              "  if (root.Bokeh !== undefined) {\n",
              "    embed_document(root);\n",
              "  } else {\n",
              "    var attempts = 0;\n",
              "    var timer = setInterval(function(root) {\n",
              "      if (root.Bokeh !== undefined) {\n",
              "        embed_document(root);\n",
              "        clearInterval(timer);\n",
              "      }\n",
              "      attempts++;\n",
              "      if (attempts > 100) {\n",
              "        console.log(\"Bokeh: ERROR: Unable to run BokehJS code because BokehJS library is missing\")\n",
              "        clearInterval(timer);\n",
              "      }\n",
              "    }, 10, root)\n",
              "  }\n",
              "})(window);"
            ],
            "application/vnd.bokehjs_exec.v0+json": ""
          },
          "metadata": {
            "application/vnd.bokehjs_exec.v0+json": {
              "id": "00741ae2-4778-45ef-89f2-87ab629e3fe7"
            }
          }
        },
        {
          "output_type": "display_data",
          "data": {
            "text/html": [
              "\n",
              "<div class=\"bk-root\">\n",
              "    <div class=\"bk-plotdiv\" id=\"3cac308d-2a96-4721-ac2e-70d629852f3b\"></div>\n",
              "</div>"
            ]
          },
          "metadata": {}
        },
        {
          "output_type": "display_data",
          "data": {
            "application/javascript": [
              "(function(root) {\n",
              "  function embed_document(root) {\n",
              "    \n",
              "  var docs_json = {\"3ddd41e5-1206-4bfa-970e-62b6be82c643\":{\"roots\":{\"references\":[{\"attributes\":{\"level\":\"glyph\",\"plot\":{\"id\":\"ce123ffa-02e6-44ee-accc-996f13b4392f\",\"subtype\":\"Figure\",\"type\":\"Plot\"},\"source\":{\"id\":\"9e72a2eb-cb23-4908-bd91-715137e57702\",\"type\":\"ColumnDataSource\"},\"text\":{\"field\":\"pct\"},\"text_font_size\":{\"value\":\"8pt\"},\"x\":{\"field\":\"x\"},\"x_offset\":{\"value\":10},\"y\":{\"field\":\"y\"},\"y_offset\":{\"value\":2}},\"id\":\"6351c28d-e0f2-4fed-96ca-f38c31a9e50d\",\"type\":\"LabelSet\"},{\"attributes\":{\"fill_alpha\":{\"value\":0.1},\"fill_color\":{\"value\":\"#1f77b4\"},\"height\":{\"value\":0.75},\"line_alpha\":{\"value\":0.1},\"line_color\":{\"value\":\"#1f77b4\"},\"right\":{\"field\":\"x\"},\"y\":{\"field\":\"y\"}},\"id\":\"73a8b7d0-95c3-4546-a52f-dc5d859333d0\",\"type\":\"HBar\"},{\"attributes\":{},\"id\":\"9fe891ea-58fb-4738-82c5-ec76fcf0adbe\",\"type\":\"LinearScale\"},{\"attributes\":{\"callback\":null,\"column_names\":[\"y\",\"x\",\"pct\"],\"data\":{\"pct\":[\"88.29%\",\"73.39%\",\"62.31%\",\"42.65%\",\"33.83%\",\"33.68%\"],\"x\":[4095,3404,2890,1978,1569,1562],\"y\":[\"In school\",\"On the job\",\"On my own\",\"From programs or workshops\",\"Through online training\",\"From a mentor or apprenticeship\"]}},\"id\":\"9e72a2eb-cb23-4908-bd91-715137e57702\",\"type\":\"ColumnDataSource\"},{\"attributes\":{\"callback\":null,\"end\":4974.0},\"id\":\"98f39964-263e-4acf-901b-0958de66cc1d\",\"type\":\"Range1d\"},{\"attributes\":{\"dimension\":1,\"plot\":{\"id\":\"ce123ffa-02e6-44ee-accc-996f13b4392f\",\"subtype\":\"Figure\",\"type\":\"Plot\"},\"ticker\":{\"id\":\"eff3d6fb-2e6e-40cc-ad46-4103b3ec8304\",\"type\":\"CategoricalTicker\"}},\"id\":\"15ca8c5c-01a4-4096-b86b-ccbe3a6164c9\",\"type\":\"Grid\"},{\"attributes\":{\"callback\":null,\"factors\":[\"In school\",\"On the job\",\"On my own\",\"From programs or workshops\",\"Through online training\",\"From a mentor or apprenticeship\"]},\"id\":\"4771aeb8-241c-4fd1-88ed-212c3beef5c3\",\"type\":\"FactorRange\"},{\"attributes\":{},\"id\":\"03463db6-45c2-4b72-ac36-8df4f5c9d01c\",\"type\":\"CategoricalScale\"},{\"attributes\":{},\"id\":\"daf8c04c-d1eb-4d1a-ab6d-965c53414066\",\"type\":\"BasicTickFormatter\"},{\"attributes\":{\"level\":\"glyph\",\"plot\":{\"id\":\"ce123ffa-02e6-44ee-accc-996f13b4392f\",\"subtype\":\"Figure\",\"type\":\"Plot\"},\"source\":{\"id\":\"9e72a2eb-cb23-4908-bd91-715137e57702\",\"type\":\"ColumnDataSource\"},\"text\":{\"field\":\"x\"},\"text_font_size\":{\"value\":\"8pt\"},\"x\":{\"field\":\"x\"},\"x_offset\":{\"value\":10},\"y\":{\"field\":\"y\"},\"y_offset\":{\"value\":-12}},\"id\":\"41511483-5df2-4aa1-9b33-7b0aea4b24b3\",\"type\":\"LabelSet\"},{\"attributes\":{},\"id\":\"28f8f98c-a165-4a86-bed8-f32b43802fe3\",\"type\":\"CategoricalTickFormatter\"},{\"attributes\":{\"fill_color\":{\"value\":\"#1f77b4\"},\"height\":{\"value\":0.75},\"line_color\":{\"value\":\"#1f77b4\"},\"right\":{\"field\":\"x\"},\"y\":{\"field\":\"y\"}},\"id\":\"6c654bfc-5fc8-41ad-bcef-5de65de3df99\",\"type\":\"HBar\"},{\"attributes\":{\"bottom_units\":\"screen\",\"fill_alpha\":{\"value\":0.5},\"fill_color\":{\"value\":\"lightgrey\"},\"left_units\":\"screen\",\"level\":\"overlay\",\"line_alpha\":{\"value\":1.0},\"line_color\":{\"value\":\"black\"},\"line_dash\":[4,4],\"line_width\":{\"value\":2},\"plot\":null,\"render_mode\":\"css\",\"right_units\":\"screen\",\"top_units\":\"screen\"},\"id\":\"8cbe15a3-8317-43f4-b5eb-2fb372cfa5d9\",\"type\":\"BoxAnnotation\"},{\"attributes\":{\"plot\":null,\"text\":\"AIGA-Only: I learned design:\"},\"id\":\"a8e40c90-125e-4fe6-a09b-0b28957a4499\",\"type\":\"Title\"},{\"attributes\":{},\"id\":\"74fff2d1-3d25-4818-85b6-fea841d368cd\",\"type\":\"ResetTool\"},{\"attributes\":{},\"id\":\"cde6d6ed-8073-474c-9359-06d33e13309c\",\"type\":\"WheelZoomTool\"},{\"attributes\":{},\"id\":\"e1e2dccd-dc27-437b-bff4-7e0cd7a7c8a9\",\"type\":\"HelpTool\"},{\"attributes\":{\"source\":{\"id\":\"9e72a2eb-cb23-4908-bd91-715137e57702\",\"type\":\"ColumnDataSource\"}},\"id\":\"64710eab-4fc4-421d-af01-d544b0a1a1cf\",\"type\":\"CDSView\"},{\"attributes\":{\"data_source\":{\"id\":\"9e72a2eb-cb23-4908-bd91-715137e57702\",\"type\":\"ColumnDataSource\"},\"glyph\":{\"id\":\"6c654bfc-5fc8-41ad-bcef-5de65de3df99\",\"type\":\"HBar\"},\"hover_glyph\":null,\"muted_glyph\":null,\"nonselection_glyph\":{\"id\":\"73a8b7d0-95c3-4546-a52f-dc5d859333d0\",\"type\":\"HBar\"},\"selection_glyph\":null,\"view\":{\"id\":\"64710eab-4fc4-421d-af01-d544b0a1a1cf\",\"type\":\"CDSView\"}},\"id\":\"f98c9db7-a381-4a3e-ab97-1670003a2609\",\"type\":\"GlyphRenderer\"},{\"attributes\":{\"axis_label\":\"Categories\",\"formatter\":{\"id\":\"28f8f98c-a165-4a86-bed8-f32b43802fe3\",\"type\":\"CategoricalTickFormatter\"},\"plot\":{\"id\":\"ce123ffa-02e6-44ee-accc-996f13b4392f\",\"subtype\":\"Figure\",\"type\":\"Plot\"},\"ticker\":{\"id\":\"eff3d6fb-2e6e-40cc-ad46-4103b3ec8304\",\"type\":\"CategoricalTicker\"}},\"id\":\"f74be55b-b41b-40a7-af6d-50bcf588ea05\",\"type\":\"CategoricalAxis\"},{\"attributes\":{\"plot\":{\"id\":\"ce123ffa-02e6-44ee-accc-996f13b4392f\",\"subtype\":\"Figure\",\"type\":\"Plot\"},\"ticker\":{\"id\":\"baf6249e-f8cc-4e2f-92d1-c05614ef8ce1\",\"type\":\"BasicTicker\"}},\"id\":\"79a7ae39-c2e1-4401-b81e-6953f17a3308\",\"type\":\"Grid\"},{\"attributes\":{\"axis_label\":\"Respondents\",\"formatter\":{\"id\":\"daf8c04c-d1eb-4d1a-ab6d-965c53414066\",\"type\":\"BasicTickFormatter\"},\"plot\":{\"id\":\"ce123ffa-02e6-44ee-accc-996f13b4392f\",\"subtype\":\"Figure\",\"type\":\"Plot\"},\"ticker\":{\"id\":\"baf6249e-f8cc-4e2f-92d1-c05614ef8ce1\",\"type\":\"BasicTicker\"}},\"id\":\"16e1608f-3a88-452d-b096-d7fd79289f5e\",\"type\":\"LinearAxis\"},{\"attributes\":{},\"id\":\"7c809928-f73a-4dac-aa3d-0971ceb15ca3\",\"type\":\"SaveTool\"},{\"attributes\":{},\"id\":\"eff3d6fb-2e6e-40cc-ad46-4103b3ec8304\",\"type\":\"CategoricalTicker\"},{\"attributes\":{\"below\":[{\"id\":\"16e1608f-3a88-452d-b096-d7fd79289f5e\",\"type\":\"LinearAxis\"}],\"left\":[{\"id\":\"f74be55b-b41b-40a7-af6d-50bcf588ea05\",\"type\":\"CategoricalAxis\"}],\"min_border_right\":50,\"output_backend\":\"svg\",\"plot_height\":900,\"plot_width\":1400,\"renderers\":[{\"id\":\"16e1608f-3a88-452d-b096-d7fd79289f5e\",\"type\":\"LinearAxis\"},{\"id\":\"79a7ae39-c2e1-4401-b81e-6953f17a3308\",\"type\":\"Grid\"},{\"id\":\"f74be55b-b41b-40a7-af6d-50bcf588ea05\",\"type\":\"CategoricalAxis\"},{\"id\":\"15ca8c5c-01a4-4096-b86b-ccbe3a6164c9\",\"type\":\"Grid\"},{\"id\":\"8cbe15a3-8317-43f4-b5eb-2fb372cfa5d9\",\"type\":\"BoxAnnotation\"},{\"id\":\"f98c9db7-a381-4a3e-ab97-1670003a2609\",\"type\":\"GlyphRenderer\"},{\"id\":\"6351c28d-e0f2-4fed-96ca-f38c31a9e50d\",\"type\":\"LabelSet\"},{\"id\":\"41511483-5df2-4aa1-9b33-7b0aea4b24b3\",\"type\":\"LabelSet\"}],\"title\":{\"id\":\"a8e40c90-125e-4fe6-a09b-0b28957a4499\",\"type\":\"Title\"},\"toolbar\":{\"id\":\"8c3c5c92-d046-4e2d-ba61-30b888aa3838\",\"type\":\"Toolbar\"},\"x_range\":{\"id\":\"98f39964-263e-4acf-901b-0958de66cc1d\",\"type\":\"Range1d\"},\"x_scale\":{\"id\":\"9fe891ea-58fb-4738-82c5-ec76fcf0adbe\",\"type\":\"LinearScale\"},\"y_range\":{\"id\":\"4771aeb8-241c-4fd1-88ed-212c3beef5c3\",\"type\":\"FactorRange\"},\"y_scale\":{\"id\":\"03463db6-45c2-4b72-ac36-8df4f5c9d01c\",\"type\":\"CategoricalScale\"}},\"id\":\"ce123ffa-02e6-44ee-accc-996f13b4392f\",\"subtype\":\"Figure\",\"type\":\"Plot\"},{\"attributes\":{\"active_drag\":\"auto\",\"active_inspect\":\"auto\",\"active_scroll\":\"auto\",\"active_tap\":\"auto\",\"tools\":[{\"id\":\"c42cec99-24ed-4de3-b0a1-1c55b5a674e7\",\"type\":\"PanTool\"},{\"id\":\"cde6d6ed-8073-474c-9359-06d33e13309c\",\"type\":\"WheelZoomTool\"},{\"id\":\"b4c65c5b-5e08-4715-bd33-11b605cf5402\",\"type\":\"BoxZoomTool\"},{\"id\":\"7c809928-f73a-4dac-aa3d-0971ceb15ca3\",\"type\":\"SaveTool\"},{\"id\":\"74fff2d1-3d25-4818-85b6-fea841d368cd\",\"type\":\"ResetTool\"},{\"id\":\"e1e2dccd-dc27-437b-bff4-7e0cd7a7c8a9\",\"type\":\"HelpTool\"}]},\"id\":\"8c3c5c92-d046-4e2d-ba61-30b888aa3838\",\"type\":\"Toolbar\"},{\"attributes\":{},\"id\":\"baf6249e-f8cc-4e2f-92d1-c05614ef8ce1\",\"type\":\"BasicTicker\"},{\"attributes\":{},\"id\":\"c42cec99-24ed-4de3-b0a1-1c55b5a674e7\",\"type\":\"PanTool\"},{\"attributes\":{\"overlay\":{\"id\":\"8cbe15a3-8317-43f4-b5eb-2fb372cfa5d9\",\"type\":\"BoxAnnotation\"}},\"id\":\"b4c65c5b-5e08-4715-bd33-11b605cf5402\",\"type\":\"BoxZoomTool\"}],\"root_ids\":[\"ce123ffa-02e6-44ee-accc-996f13b4392f\"]},\"title\":\"Bokeh Application\",\"version\":\"0.12.13\"}};\n",
              "  var render_items = [{\"docid\":\"3ddd41e5-1206-4bfa-970e-62b6be82c643\",\"elementid\":\"3cac308d-2a96-4721-ac2e-70d629852f3b\",\"modelid\":\"ce123ffa-02e6-44ee-accc-996f13b4392f\"}];\n",
              "  root.Bokeh.embed.embed_items_notebook(docs_json, render_items);\n",
              "\n",
              "  }\n",
              "  if (root.Bokeh !== undefined) {\n",
              "    embed_document(root);\n",
              "  } else {\n",
              "    var attempts = 0;\n",
              "    var timer = setInterval(function(root) {\n",
              "      if (root.Bokeh !== undefined) {\n",
              "        embed_document(root);\n",
              "        clearInterval(timer);\n",
              "      }\n",
              "      attempts++;\n",
              "      if (attempts > 100) {\n",
              "        console.log(\"Bokeh: ERROR: Unable to run BokehJS code because BokehJS library is missing\")\n",
              "        clearInterval(timer);\n",
              "      }\n",
              "    }, 10, root)\n",
              "  }\n",
              "})(window);"
            ],
            "application/vnd.bokehjs_exec.v0+json": ""
          },
          "metadata": {
            "application/vnd.bokehjs_exec.v0+json": {
              "id": "ce123ffa-02e6-44ee-accc-996f13b4392f"
            }
          }
        },
        {
          "output_type": "display_data",
          "data": {
            "text/html": [
              "\n",
              "<div class=\"bk-root\">\n",
              "    <div class=\"bk-plotdiv\" id=\"be21042b-f3be-4705-9e80-05f3569c585f\"></div>\n",
              "</div>"
            ]
          },
          "metadata": {}
        },
        {
          "output_type": "display_data",
          "data": {
            "application/javascript": [
              "(function(root) {\n",
              "  function embed_document(root) {\n",
              "    \n",
              "  var docs_json = {\"abbf781e-2657-44f1-86d1-22449501a46c\":{\"roots\":{\"references\":[{\"attributes\":{\"axis_label\":\"Respondents\",\"formatter\":{\"id\":\"bae25459-d8c4-401d-bf8c-21084564f3f9\",\"type\":\"BasicTickFormatter\"},\"plot\":{\"id\":\"0a01d652-97d2-4e92-8333-15dd9a0267ae\",\"subtype\":\"Figure\",\"type\":\"Plot\"},\"ticker\":{\"id\":\"482d7d1c-a7c1-442b-9468-05b8ff918957\",\"type\":\"BasicTicker\"}},\"id\":\"ed273f71-1d23-4774-9dd0-fdcd956a9b8c\",\"type\":\"LinearAxis\"},{\"attributes\":{},\"id\":\"bae25459-d8c4-401d-bf8c-21084564f3f9\",\"type\":\"BasicTickFormatter\"},{\"attributes\":{\"plot\":null,\"text\":\"AIGA-Only: My major focus of study was:\"},\"id\":\"66fe25dd-9170-4b2f-b062-dcfa3ddabb19\",\"type\":\"Title\"},{\"attributes\":{\"level\":\"glyph\",\"plot\":{\"id\":\"0a01d652-97d2-4e92-8333-15dd9a0267ae\",\"subtype\":\"Figure\",\"type\":\"Plot\"},\"source\":{\"id\":\"3b3d6358-c27d-4c29-89b8-4e09001355d8\",\"type\":\"ColumnDataSource\"},\"text\":{\"field\":\"x\"},\"text_font_size\":{\"value\":\"8pt\"},\"x\":{\"field\":\"x\"},\"x_offset\":{\"value\":10},\"y\":{\"field\":\"y\"},\"y_offset\":{\"value\":-12}},\"id\":\"942bb900-cc4d-40f0-87ba-2ac4c8ef4012\",\"type\":\"LabelSet\"},{\"attributes\":{},\"id\":\"269c5f31-0ed4-4e84-9c0c-0900e381096b\",\"type\":\"CategoricalTicker\"},{\"attributes\":{\"overlay\":{\"id\":\"8e13526a-0f57-4d34-a528-1ec23defa38a\",\"type\":\"BoxAnnotation\"}},\"id\":\"de7930b7-5095-4063-8838-4963169cbf38\",\"type\":\"BoxZoomTool\"},{\"attributes\":{\"below\":[{\"id\":\"ed273f71-1d23-4774-9dd0-fdcd956a9b8c\",\"type\":\"LinearAxis\"}],\"left\":[{\"id\":\"75ae0a51-9524-4fbb-bd2e-880272382064\",\"type\":\"CategoricalAxis\"}],\"min_border_right\":50,\"output_backend\":\"svg\",\"plot_height\":1700,\"plot_width\":1400,\"renderers\":[{\"id\":\"ed273f71-1d23-4774-9dd0-fdcd956a9b8c\",\"type\":\"LinearAxis\"},{\"id\":\"7c3a2daa-2ae5-47ac-84cd-ee0f4984d8be\",\"type\":\"Grid\"},{\"id\":\"75ae0a51-9524-4fbb-bd2e-880272382064\",\"type\":\"CategoricalAxis\"},{\"id\":\"9fe0d870-6fad-4d30-bfc0-79aad83dc8e3\",\"type\":\"Grid\"},{\"id\":\"8e13526a-0f57-4d34-a528-1ec23defa38a\",\"type\":\"BoxAnnotation\"},{\"id\":\"117802aa-a6ea-4c24-9c49-afe40ed9f434\",\"type\":\"GlyphRenderer\"},{\"id\":\"c7786add-e596-4d76-97a5-9a371ffa8c17\",\"type\":\"LabelSet\"},{\"id\":\"942bb900-cc4d-40f0-87ba-2ac4c8ef4012\",\"type\":\"LabelSet\"}],\"title\":{\"id\":\"66fe25dd-9170-4b2f-b062-dcfa3ddabb19\",\"type\":\"Title\"},\"toolbar\":{\"id\":\"9f588062-d3b7-469e-8521-d697865c7a0b\",\"type\":\"Toolbar\"},\"x_range\":{\"id\":\"152b8bb5-e4d0-4442-81f7-7cfc988c7b08\",\"type\":\"Range1d\"},\"x_scale\":{\"id\":\"1f7fe30d-2f21-4c62-b704-9980a785dfa5\",\"type\":\"LinearScale\"},\"y_range\":{\"id\":\"8fe26fd4-9746-46f5-810b-6f297fddcabe\",\"type\":\"FactorRange\"},\"y_scale\":{\"id\":\"c4da7062-f4f6-4a17-8d7b-11250dc3e82d\",\"type\":\"CategoricalScale\"}},\"id\":\"0a01d652-97d2-4e92-8333-15dd9a0267ae\",\"subtype\":\"Figure\",\"type\":\"Plot\"},{\"attributes\":{\"fill_alpha\":{\"value\":0.1},\"fill_color\":{\"value\":\"#1f77b4\"},\"height\":{\"value\":0.75},\"line_alpha\":{\"value\":0.1},\"line_color\":{\"value\":\"#1f77b4\"},\"right\":{\"field\":\"x\"},\"y\":{\"field\":\"y\"}},\"id\":\"6c9966e7-781b-4bdb-91f4-9b3139c22f31\",\"type\":\"HBar\"},{\"attributes\":{\"callback\":null,\"end\":4509.6},\"id\":\"152b8bb5-e4d0-4442-81f7-7cfc988c7b08\",\"type\":\"Range1d\"},{\"attributes\":{\"dimension\":1,\"plot\":{\"id\":\"0a01d652-97d2-4e92-8333-15dd9a0267ae\",\"subtype\":\"Figure\",\"type\":\"Plot\"},\"ticker\":{\"id\":\"269c5f31-0ed4-4e84-9c0c-0900e381096b\",\"type\":\"CategoricalTicker\"}},\"id\":\"9fe0d870-6fad-4d30-bfc0-79aad83dc8e3\",\"type\":\"Grid\"},{\"attributes\":{},\"id\":\"482d7d1c-a7c1-442b-9468-05b8ff918957\",\"type\":\"BasicTicker\"},{\"attributes\":{\"fill_color\":{\"value\":\"#1f77b4\"},\"height\":{\"value\":0.75},\"line_color\":{\"value\":\"#1f77b4\"},\"right\":{\"field\":\"x\"},\"y\":{\"field\":\"y\"}},\"id\":\"c5d1a8e1-0ed8-4352-957e-e81c76b9faa5\",\"type\":\"HBar\"},{\"attributes\":{\"level\":\"glyph\",\"plot\":{\"id\":\"0a01d652-97d2-4e92-8333-15dd9a0267ae\",\"subtype\":\"Figure\",\"type\":\"Plot\"},\"source\":{\"id\":\"3b3d6358-c27d-4c29-89b8-4e09001355d8\",\"type\":\"ColumnDataSource\"},\"text\":{\"field\":\"pct\"},\"text_font_size\":{\"value\":\"8pt\"},\"x\":{\"field\":\"x\"},\"x_offset\":{\"value\":10},\"y\":{\"field\":\"y\"},\"y_offset\":{\"value\":2}},\"id\":\"c7786add-e596-4d76-97a5-9a371ffa8c17\",\"type\":\"LabelSet\"},{\"attributes\":{},\"id\":\"ff7a64b4-0424-4e24-8e50-b47fa07b55ce\",\"type\":\"WheelZoomTool\"},{\"attributes\":{},\"id\":\"b4043758-2d33-4cf5-922e-18421b05d8f4\",\"type\":\"ResetTool\"},{\"attributes\":{\"bottom_units\":\"screen\",\"fill_alpha\":{\"value\":0.5},\"fill_color\":{\"value\":\"lightgrey\"},\"left_units\":\"screen\",\"level\":\"overlay\",\"line_alpha\":{\"value\":1.0},\"line_color\":{\"value\":\"black\"},\"line_dash\":[4,4],\"line_width\":{\"value\":2},\"plot\":null,\"render_mode\":\"css\",\"right_units\":\"screen\",\"top_units\":\"screen\"},\"id\":\"8e13526a-0f57-4d34-a528-1ec23defa38a\",\"type\":\"BoxAnnotation\"},{\"attributes\":{\"plot\":{\"id\":\"0a01d652-97d2-4e92-8333-15dd9a0267ae\",\"subtype\":\"Figure\",\"type\":\"Plot\"},\"ticker\":{\"id\":\"482d7d1c-a7c1-442b-9468-05b8ff918957\",\"type\":\"BasicTicker\"}},\"id\":\"7c3a2daa-2ae5-47ac-84cd-ee0f4984d8be\",\"type\":\"Grid\"},{\"attributes\":{\"source\":{\"id\":\"3b3d6358-c27d-4c29-89b8-4e09001355d8\",\"type\":\"ColumnDataSource\"}},\"id\":\"e55486d1-85b8-4716-abaf-a93b2506f1c2\",\"type\":\"CDSView\"},{\"attributes\":{\"axis_label\":\"Categories\",\"formatter\":{\"id\":\"f994d33b-8841-4518-b9e1-118de5e7dc35\",\"type\":\"CategoricalTickFormatter\"},\"plot\":{\"id\":\"0a01d652-97d2-4e92-8333-15dd9a0267ae\",\"subtype\":\"Figure\",\"type\":\"Plot\"},\"ticker\":{\"id\":\"269c5f31-0ed4-4e84-9c0c-0900e381096b\",\"type\":\"CategoricalTicker\"}},\"id\":\"75ae0a51-9524-4fbb-bd2e-880272382064\",\"type\":\"CategoricalAxis\"},{\"attributes\":{},\"id\":\"c4da7062-f4f6-4a17-8d7b-11250dc3e82d\",\"type\":\"CategoricalScale\"},{\"attributes\":{\"callback\":null,\"factors\":[\"Graphic Design\",\"Art\",\"Visual Design\",\"Communication\",\"Illustration\",\"Website Design\",\"Design and Technology\",\"Advertising\",\"Photography\",\"Digital Media\",\"UX and UI\",\"Printing or Print Making\",\"Package Design\",\"Marketing\",\"Other\",\"Multimedia\",\"Painting\",\"Motion Graphics\",\"Product Design\",\"Journalism\",\"Animation\",\"Film and Production\",\"Architecture\",\"Sculpture\",\"Industrial Design\",\"Computer Science\",\"Strategic Design Management\",\"Information Technology\",\"Interior Architecture\",\"Textiles\",\"Gaming\",\"Urban Design\",\"Fashion Design\",\"Landscape Architecture\"]},\"id\":\"8fe26fd4-9746-46f5-810b-6f297fddcabe\",\"type\":\"FactorRange\"},{\"attributes\":{\"active_drag\":\"auto\",\"active_inspect\":\"auto\",\"active_scroll\":\"auto\",\"active_tap\":\"auto\",\"tools\":[{\"id\":\"f1292ae4-f154-432f-9c98-eebcc5ca5283\",\"type\":\"PanTool\"},{\"id\":\"ff7a64b4-0424-4e24-8e50-b47fa07b55ce\",\"type\":\"WheelZoomTool\"},{\"id\":\"de7930b7-5095-4063-8838-4963169cbf38\",\"type\":\"BoxZoomTool\"},{\"id\":\"e26b6d7e-3b25-4540-85ea-7c147a83bc3d\",\"type\":\"SaveTool\"},{\"id\":\"b4043758-2d33-4cf5-922e-18421b05d8f4\",\"type\":\"ResetTool\"},{\"id\":\"b38808c3-305d-45d5-8c4a-597881102933\",\"type\":\"HelpTool\"}]},\"id\":\"9f588062-d3b7-469e-8521-d697865c7a0b\",\"type\":\"Toolbar\"},{\"attributes\":{\"data_source\":{\"id\":\"3b3d6358-c27d-4c29-89b8-4e09001355d8\",\"type\":\"ColumnDataSource\"},\"glyph\":{\"id\":\"c5d1a8e1-0ed8-4352-957e-e81c76b9faa5\",\"type\":\"HBar\"},\"hover_glyph\":null,\"muted_glyph\":null,\"nonselection_glyph\":{\"id\":\"6c9966e7-781b-4bdb-91f4-9b3139c22f31\",\"type\":\"HBar\"},\"selection_glyph\":null,\"view\":{\"id\":\"e55486d1-85b8-4716-abaf-a93b2506f1c2\",\"type\":\"CDSView\"}},\"id\":\"117802aa-a6ea-4c24-9c49-afe40ed9f434\",\"type\":\"GlyphRenderer\"},{\"attributes\":{},\"id\":\"f994d33b-8841-4518-b9e1-118de5e7dc35\",\"type\":\"CategoricalTickFormatter\"},{\"attributes\":{},\"id\":\"f1292ae4-f154-432f-9c98-eebcc5ca5283\",\"type\":\"PanTool\"},{\"attributes\":{},\"id\":\"e26b6d7e-3b25-4540-85ea-7c147a83bc3d\",\"type\":\"SaveTool\"},{\"attributes\":{},\"id\":\"b38808c3-305d-45d5-8c4a-597881102933\",\"type\":\"HelpTool\"},{\"attributes\":{},\"id\":\"1f7fe30d-2f21-4c62-b704-9980a785dfa5\",\"type\":\"LinearScale\"},{\"attributes\":{\"callback\":null,\"column_names\":[\"y\",\"x\",\"pct\"],\"data\":{\"pct\":[\"79.95%\",\"26.97%\",\"19.04%\",\"16.15%\",\"15.07%\",\"14.68%\",\"12.98%\",\"12.98%\",\"12.57%\",\"11.71%\",\"10.50%\",\"10.24%\",\"8.56%\",\"8.45%\",\"6.38%\",\"5.71%\",\"5.52%\",\"5.50%\",\"4.16%\",\"4.05%\",\"3.75%\",\"3.28%\",\"2.05%\",\"2.03%\",\"1.98%\",\"1.98%\",\"1.55%\",\"1.27%\",\"1.01%\",\"0.80%\",\"0.71%\",\"0.58%\",\"0.54%\",\"0.26%\"],\"x\":[3708,1251,883,749,699,681,602,602,583,543,487,475,397,392,296,265,256,255,193,188,174,152,95,94,92,92,72,59,47,37,33,27,25,12],\"y\":[\"Graphic Design\",\"Art\",\"Visual Design\",\"Communication\",\"Illustration\",\"Website Design\",\"Design and Technology\",\"Advertising\",\"Photography\",\"Digital Media\",\"UX and UI\",\"Printing or Print Making\",\"Package Design\",\"Marketing\",\"Other\",\"Multimedia\",\"Painting\",\"Motion Graphics\",\"Product Design\",\"Journalism\",\"Animation\",\"Film and Production\",\"Architecture\",\"Sculpture\",\"Industrial Design\",\"Computer Science\",\"Strategic Design Management\",\"Information Technology\",\"Interior Architecture\",\"Textiles\",\"Gaming\",\"Urban Design\",\"Fashion Design\",\"Landscape Architecture\"]}},\"id\":\"3b3d6358-c27d-4c29-89b8-4e09001355d8\",\"type\":\"ColumnDataSource\"}],\"root_ids\":[\"0a01d652-97d2-4e92-8333-15dd9a0267ae\"]},\"title\":\"Bokeh Application\",\"version\":\"0.12.13\"}};\n",
              "  var render_items = [{\"docid\":\"abbf781e-2657-44f1-86d1-22449501a46c\",\"elementid\":\"be21042b-f3be-4705-9e80-05f3569c585f\",\"modelid\":\"0a01d652-97d2-4e92-8333-15dd9a0267ae\"}];\n",
              "  root.Bokeh.embed.embed_items_notebook(docs_json, render_items);\n",
              "\n",
              "  }\n",
              "  if (root.Bokeh !== undefined) {\n",
              "    embed_document(root);\n",
              "  } else {\n",
              "    var attempts = 0;\n",
              "    var timer = setInterval(function(root) {\n",
              "      if (root.Bokeh !== undefined) {\n",
              "        embed_document(root);\n",
              "        clearInterval(timer);\n",
              "      }\n",
              "      attempts++;\n",
              "      if (attempts > 100) {\n",
              "        console.log(\"Bokeh: ERROR: Unable to run BokehJS code because BokehJS library is missing\")\n",
              "        clearInterval(timer);\n",
              "      }\n",
              "    }, 10, root)\n",
              "  }\n",
              "})(window);"
            ],
            "application/vnd.bokehjs_exec.v0+json": ""
          },
          "metadata": {
            "application/vnd.bokehjs_exec.v0+json": {
              "id": "0a01d652-97d2-4e92-8333-15dd9a0267ae"
            }
          }
        },
        {
          "output_type": "display_data",
          "data": {
            "text/html": [
              "\n",
              "<div class=\"bk-root\">\n",
              "    <div class=\"bk-plotdiv\" id=\"433a1f97-8862-41bc-a9cf-f7a001d8d28b\"></div>\n",
              "</div>"
            ]
          },
          "metadata": {}
        },
        {
          "output_type": "display_data",
          "data": {
            "application/javascript": [
              "(function(root) {\n",
              "  function embed_document(root) {\n",
              "    \n",
              "  var docs_json = {\"18428760-3de5-44c2-8b2b-f63de8f839e2\":{\"roots\":{\"references\":[{\"attributes\":{},\"id\":\"6d7ed887-89f9-470f-a6c8-4033537fbac1\",\"type\":\"ResetTool\"},{\"attributes\":{\"fill_color\":{\"value\":\"#1f77b4\"},\"height\":{\"value\":0.75},\"line_color\":{\"value\":\"#1f77b4\"},\"right\":{\"field\":\"x\"},\"y\":{\"field\":\"y\"}},\"id\":\"74bd1596-5430-4e4c-8ceb-f6cd2bef246d\",\"type\":\"HBar\"},{\"attributes\":{},\"id\":\"7ef71a70-05b3-4b5b-95db-522325cafa28\",\"type\":\"HelpTool\"},{\"attributes\":{\"dimension\":1,\"plot\":{\"id\":\"2d59293a-c044-4e34-a960-45186b72ca6a\",\"subtype\":\"Figure\",\"type\":\"Plot\"},\"ticker\":{\"id\":\"15f953b6-ab49-4114-afcf-59f97bfa1901\",\"type\":\"CategoricalTicker\"}},\"id\":\"d1b7a694-0411-40dc-bde9-430cd353aa2b\",\"type\":\"Grid\"},{\"attributes\":{\"fill_alpha\":{\"value\":0.1},\"fill_color\":{\"value\":\"#1f77b4\"},\"height\":{\"value\":0.75},\"line_alpha\":{\"value\":0.1},\"line_color\":{\"value\":\"#1f77b4\"},\"right\":{\"field\":\"x\"},\"y\":{\"field\":\"y\"}},\"id\":\"80076750-76f0-47d9-9d0a-c75478c5007c\",\"type\":\"HBar\"},{\"attributes\":{\"level\":\"glyph\",\"plot\":{\"id\":\"2d59293a-c044-4e34-a960-45186b72ca6a\",\"subtype\":\"Figure\",\"type\":\"Plot\"},\"source\":{\"id\":\"47f8ace4-da8c-4517-afbd-36e0b4255d9a\",\"type\":\"ColumnDataSource\"},\"text\":{\"field\":\"pct\"},\"text_font_size\":{\"value\":\"8pt\"},\"x\":{\"field\":\"x\"},\"x_offset\":{\"value\":10},\"y\":{\"field\":\"y\"},\"y_offset\":{\"value\":2}},\"id\":\"f801d07d-c142-4bb6-bef2-4561bcaf4ac3\",\"type\":\"LabelSet\"},{\"attributes\":{\"active_drag\":\"auto\",\"active_inspect\":\"auto\",\"active_scroll\":\"auto\",\"active_tap\":\"auto\",\"tools\":[{\"id\":\"2e5727a1-e3c7-4957-b0d3-5abaacaf964f\",\"type\":\"PanTool\"},{\"id\":\"8d710519-9b85-412f-9df2-72e7aa6dd08b\",\"type\":\"WheelZoomTool\"},{\"id\":\"1ddc7a53-0b59-4a8a-ac62-1442e1677909\",\"type\":\"BoxZoomTool\"},{\"id\":\"d283daa6-ff7b-4c6a-a1b6-9cda2589cb00\",\"type\":\"SaveTool\"},{\"id\":\"6d7ed887-89f9-470f-a6c8-4033537fbac1\",\"type\":\"ResetTool\"},{\"id\":\"7ef71a70-05b3-4b5b-95db-522325cafa28\",\"type\":\"HelpTool\"}]},\"id\":\"cedcd64b-d4f7-4f19-b1b3-fc28a288cec2\",\"type\":\"Toolbar\"},{\"attributes\":{\"axis_label\":\"Respondents\",\"formatter\":{\"id\":\"deaa1823-f0b7-4134-8fef-072212ba3b7d\",\"type\":\"BasicTickFormatter\"},\"plot\":{\"id\":\"2d59293a-c044-4e34-a960-45186b72ca6a\",\"subtype\":\"Figure\",\"type\":\"Plot\"},\"ticker\":{\"id\":\"9febefae-dbcd-4817-879d-79149f62b2ff\",\"type\":\"BasicTicker\"}},\"id\":\"721db280-72a0-4f97-9fb4-3fed7d965f48\",\"type\":\"LinearAxis\"},{\"attributes\":{\"source\":{\"id\":\"47f8ace4-da8c-4517-afbd-36e0b4255d9a\",\"type\":\"ColumnDataSource\"}},\"id\":\"10ea0925-4a1e-48de-8cb0-b4a9fcde2e80\",\"type\":\"CDSView\"},{\"attributes\":{},\"id\":\"9febefae-dbcd-4817-879d-79149f62b2ff\",\"type\":\"BasicTicker\"},{\"attributes\":{\"callback\":null,\"column_names\":[\"y\",\"x\",\"pct\"],\"data\":{\"pct\":[\"47.78%\",\"24.11%\",\"12.92%\",\"8.45%\",\"3.49%\",\"3.26%\"],\"x\":[2216,1118,599,392,162,151],\"y\":[\"2-3 design jobs\",\"4-5 design jobs\",\"1 design job\",\"6-7 design jobs\",\"10+ design jobs\",\"8-10 design jobs\"]}},\"id\":\"47f8ace4-da8c-4517-afbd-36e0b4255d9a\",\"type\":\"ColumnDataSource\"},{\"attributes\":{\"bottom_units\":\"screen\",\"fill_alpha\":{\"value\":0.5},\"fill_color\":{\"value\":\"lightgrey\"},\"left_units\":\"screen\",\"level\":\"overlay\",\"line_alpha\":{\"value\":1.0},\"line_color\":{\"value\":\"black\"},\"line_dash\":[4,4],\"line_width\":{\"value\":2},\"plot\":null,\"render_mode\":\"css\",\"right_units\":\"screen\",\"top_units\":\"screen\"},\"id\":\"27abdcc3-057f-42bf-ba5e-2ddc4aea956e\",\"type\":\"BoxAnnotation\"},{\"attributes\":{},\"id\":\"ff83dd9d-409c-4140-8adc-91e01b4a7573\",\"type\":\"LinearScale\"},{\"attributes\":{},\"id\":\"8d710519-9b85-412f-9df2-72e7aa6dd08b\",\"type\":\"WheelZoomTool\"},{\"attributes\":{\"axis_label\":\"Categories\",\"formatter\":{\"id\":\"48711234-8bf7-4ae5-b136-d2d2c4090557\",\"type\":\"CategoricalTickFormatter\"},\"plot\":{\"id\":\"2d59293a-c044-4e34-a960-45186b72ca6a\",\"subtype\":\"Figure\",\"type\":\"Plot\"},\"ticker\":{\"id\":\"15f953b6-ab49-4114-afcf-59f97bfa1901\",\"type\":\"CategoricalTicker\"}},\"id\":\"95831a3d-c945-47b1-80eb-dbfa3a50296b\",\"type\":\"CategoricalAxis\"},{\"attributes\":{},\"id\":\"b8553227-475f-4c04-a7cc-d09fbb291f52\",\"type\":\"CategoricalScale\"},{\"attributes\":{},\"id\":\"deaa1823-f0b7-4134-8fef-072212ba3b7d\",\"type\":\"BasicTickFormatter\"},{\"attributes\":{\"plot\":{\"id\":\"2d59293a-c044-4e34-a960-45186b72ca6a\",\"subtype\":\"Figure\",\"type\":\"Plot\"},\"ticker\":{\"id\":\"9febefae-dbcd-4817-879d-79149f62b2ff\",\"type\":\"BasicTicker\"}},\"id\":\"111a1ca9-a98c-4f71-8412-ae7c5874c82b\",\"type\":\"Grid\"},{\"attributes\":{},\"id\":\"d283daa6-ff7b-4c6a-a1b6-9cda2589cb00\",\"type\":\"SaveTool\"},{\"attributes\":{},\"id\":\"48711234-8bf7-4ae5-b136-d2d2c4090557\",\"type\":\"CategoricalTickFormatter\"},{\"attributes\":{\"plot\":null,\"text\":\"AIGA-Only: Over my career, I've had:\"},\"id\":\"2890fa80-0351-4c03-bc31-01c47f341ec1\",\"type\":\"Title\"},{\"attributes\":{\"level\":\"glyph\",\"plot\":{\"id\":\"2d59293a-c044-4e34-a960-45186b72ca6a\",\"subtype\":\"Figure\",\"type\":\"Plot\"},\"source\":{\"id\":\"47f8ace4-da8c-4517-afbd-36e0b4255d9a\",\"type\":\"ColumnDataSource\"},\"text\":{\"field\":\"x\"},\"text_font_size\":{\"value\":\"8pt\"},\"x\":{\"field\":\"x\"},\"x_offset\":{\"value\":10},\"y\":{\"field\":\"y\"},\"y_offset\":{\"value\":-12}},\"id\":\"49bfad89-3aed-428b-975a-233a1cad614b\",\"type\":\"LabelSet\"},{\"attributes\":{\"below\":[{\"id\":\"721db280-72a0-4f97-9fb4-3fed7d965f48\",\"type\":\"LinearAxis\"}],\"left\":[{\"id\":\"95831a3d-c945-47b1-80eb-dbfa3a50296b\",\"type\":\"CategoricalAxis\"}],\"min_border_right\":50,\"output_backend\":\"svg\",\"plot_height\":900,\"plot_width\":1400,\"renderers\":[{\"id\":\"721db280-72a0-4f97-9fb4-3fed7d965f48\",\"type\":\"LinearAxis\"},{\"id\":\"111a1ca9-a98c-4f71-8412-ae7c5874c82b\",\"type\":\"Grid\"},{\"id\":\"95831a3d-c945-47b1-80eb-dbfa3a50296b\",\"type\":\"CategoricalAxis\"},{\"id\":\"d1b7a694-0411-40dc-bde9-430cd353aa2b\",\"type\":\"Grid\"},{\"id\":\"27abdcc3-057f-42bf-ba5e-2ddc4aea956e\",\"type\":\"BoxAnnotation\"},{\"id\":\"379dfbea-666a-473f-8deb-7293dda82b25\",\"type\":\"GlyphRenderer\"},{\"id\":\"f801d07d-c142-4bb6-bef2-4561bcaf4ac3\",\"type\":\"LabelSet\"},{\"id\":\"49bfad89-3aed-428b-975a-233a1cad614b\",\"type\":\"LabelSet\"}],\"title\":{\"id\":\"2890fa80-0351-4c03-bc31-01c47f341ec1\",\"type\":\"Title\"},\"toolbar\":{\"id\":\"cedcd64b-d4f7-4f19-b1b3-fc28a288cec2\",\"type\":\"Toolbar\"},\"x_range\":{\"id\":\"0a617515-1515-437f-bdcb-b8f65499d2ac\",\"type\":\"Range1d\"},\"x_scale\":{\"id\":\"ff83dd9d-409c-4140-8adc-91e01b4a7573\",\"type\":\"LinearScale\"},\"y_range\":{\"id\":\"c7eace5b-5316-4042-89b3-b1cdd08d959f\",\"type\":\"FactorRange\"},\"y_scale\":{\"id\":\"b8553227-475f-4c04-a7cc-d09fbb291f52\",\"type\":\"CategoricalScale\"}},\"id\":\"2d59293a-c044-4e34-a960-45186b72ca6a\",\"subtype\":\"Figure\",\"type\":\"Plot\"},{\"attributes\":{\"overlay\":{\"id\":\"27abdcc3-057f-42bf-ba5e-2ddc4aea956e\",\"type\":\"BoxAnnotation\"}},\"id\":\"1ddc7a53-0b59-4a8a-ac62-1442e1677909\",\"type\":\"BoxZoomTool\"},{\"attributes\":{\"callback\":null,\"end\":2719.2},\"id\":\"0a617515-1515-437f-bdcb-b8f65499d2ac\",\"type\":\"Range1d\"},{\"attributes\":{},\"id\":\"2e5727a1-e3c7-4957-b0d3-5abaacaf964f\",\"type\":\"PanTool\"},{\"attributes\":{},\"id\":\"15f953b6-ab49-4114-afcf-59f97bfa1901\",\"type\":\"CategoricalTicker\"},{\"attributes\":{\"callback\":null,\"factors\":[\"2-3 design jobs\",\"4-5 design jobs\",\"1 design job\",\"6-7 design jobs\",\"10+ design jobs\",\"8-10 design jobs\"]},\"id\":\"c7eace5b-5316-4042-89b3-b1cdd08d959f\",\"type\":\"FactorRange\"},{\"attributes\":{\"data_source\":{\"id\":\"47f8ace4-da8c-4517-afbd-36e0b4255d9a\",\"type\":\"ColumnDataSource\"},\"glyph\":{\"id\":\"74bd1596-5430-4e4c-8ceb-f6cd2bef246d\",\"type\":\"HBar\"},\"hover_glyph\":null,\"muted_glyph\":null,\"nonselection_glyph\":{\"id\":\"80076750-76f0-47d9-9d0a-c75478c5007c\",\"type\":\"HBar\"},\"selection_glyph\":null,\"view\":{\"id\":\"10ea0925-4a1e-48de-8cb0-b4a9fcde2e80\",\"type\":\"CDSView\"}},\"id\":\"379dfbea-666a-473f-8deb-7293dda82b25\",\"type\":\"GlyphRenderer\"}],\"root_ids\":[\"2d59293a-c044-4e34-a960-45186b72ca6a\"]},\"title\":\"Bokeh Application\",\"version\":\"0.12.13\"}};\n",
              "  var render_items = [{\"docid\":\"18428760-3de5-44c2-8b2b-f63de8f839e2\",\"elementid\":\"433a1f97-8862-41bc-a9cf-f7a001d8d28b\",\"modelid\":\"2d59293a-c044-4e34-a960-45186b72ca6a\"}];\n",
              "  root.Bokeh.embed.embed_items_notebook(docs_json, render_items);\n",
              "\n",
              "  }\n",
              "  if (root.Bokeh !== undefined) {\n",
              "    embed_document(root);\n",
              "  } else {\n",
              "    var attempts = 0;\n",
              "    var timer = setInterval(function(root) {\n",
              "      if (root.Bokeh !== undefined) {\n",
              "        embed_document(root);\n",
              "        clearInterval(timer);\n",
              "      }\n",
              "      attempts++;\n",
              "      if (attempts > 100) {\n",
              "        console.log(\"Bokeh: ERROR: Unable to run BokehJS code because BokehJS library is missing\")\n",
              "        clearInterval(timer);\n",
              "      }\n",
              "    }, 10, root)\n",
              "  }\n",
              "})(window);"
            ],
            "application/vnd.bokehjs_exec.v0+json": ""
          },
          "metadata": {
            "application/vnd.bokehjs_exec.v0+json": {
              "id": "2d59293a-c044-4e34-a960-45186b72ca6a"
            }
          }
        },
        {
          "output_type": "display_data",
          "data": {
            "text/html": [
              "\n",
              "<div class=\"bk-root\">\n",
              "    <div class=\"bk-plotdiv\" id=\"e5746c82-8405-40eb-b4c1-45bbad509c2b\"></div>\n",
              "</div>"
            ]
          },
          "metadata": {}
        },
        {
          "output_type": "display_data",
          "data": {
            "application/javascript": [
              "(function(root) {\n",
              "  function embed_document(root) {\n",
              "    \n",
              "  var docs_json = {\"6a8eeef6-ea6f-413a-af7f-9696818cfcef\":{\"roots\":{\"references\":[{\"attributes\":{},\"id\":\"23f2e24a-5092-4712-b012-8ed110265150\",\"type\":\"CategoricalScale\"},{\"attributes\":{},\"id\":\"74b3f36e-5c8f-4f57-9efb-81e2fec64c68\",\"type\":\"SaveTool\"},{\"attributes\":{\"axis_label\":\"Respondents\",\"formatter\":{\"id\":\"8d67768d-8423-4613-80e8-4475070e5fc8\",\"type\":\"BasicTickFormatter\"},\"plot\":{\"id\":\"803a4d3d-a2de-437c-a23b-1023bdb57d51\",\"subtype\":\"Figure\",\"type\":\"Plot\"},\"ticker\":{\"id\":\"961a123d-3ee3-41c1-80f4-97521ab5e784\",\"type\":\"BasicTicker\"}},\"id\":\"e86c60f9-8cb0-455a-aff9-f04cf3cfcc19\",\"type\":\"LinearAxis\"},{\"attributes\":{\"active_drag\":\"auto\",\"active_inspect\":\"auto\",\"active_scroll\":\"auto\",\"active_tap\":\"auto\",\"tools\":[{\"id\":\"6dd0a857-a789-47ca-a139-d7d550243267\",\"type\":\"PanTool\"},{\"id\":\"49c4fe3f-1dd9-4740-9131-59e54bef9bff\",\"type\":\"WheelZoomTool\"},{\"id\":\"f2b12fa9-b3ba-4911-9c56-d75095c29c74\",\"type\":\"BoxZoomTool\"},{\"id\":\"74b3f36e-5c8f-4f57-9efb-81e2fec64c68\",\"type\":\"SaveTool\"},{\"id\":\"abd052e9-baad-465f-bcbd-56ebf2f5e4b8\",\"type\":\"ResetTool\"},{\"id\":\"8bd478e7-d57d-46ba-bc0e-a0be55d27288\",\"type\":\"HelpTool\"}]},\"id\":\"82929f74-dd6e-43bd-b935-54729c912902\",\"type\":\"Toolbar\"},{\"attributes\":{},\"id\":\"33a7e040-3b2d-4985-a657-e1bbcf1c9e73\",\"type\":\"CategoricalTicker\"},{\"attributes\":{},\"id\":\"8d67768d-8423-4613-80e8-4475070e5fc8\",\"type\":\"BasicTickFormatter\"},{\"attributes\":{\"callback\":null,\"end\":2714.4},\"id\":\"8387f797-18c7-4429-8cde-657dd35374a9\",\"type\":\"Range1d\"},{\"attributes\":{},\"id\":\"6dd0a857-a789-47ca-a139-d7d550243267\",\"type\":\"PanTool\"},{\"attributes\":{\"fill_alpha\":{\"value\":0.1},\"fill_color\":{\"value\":\"#1f77b4\"},\"height\":{\"value\":0.75},\"line_alpha\":{\"value\":0.1},\"line_color\":{\"value\":\"#1f77b4\"},\"right\":{\"field\":\"x\"},\"y\":{\"field\":\"y\"}},\"id\":\"84ecb15e-5989-4680-84d3-47e9a44da5f9\",\"type\":\"HBar\"},{\"attributes\":{},\"id\":\"8bd478e7-d57d-46ba-bc0e-a0be55d27288\",\"type\":\"HelpTool\"},{\"attributes\":{\"callback\":null,\"factors\":[\"1-2 times\",\"0 times\",\"Slowly over time\",\"3-4 times\",\"Always ready for what's next\"]},\"id\":\"f3d87fc4-1294-49be-a266-9f2732642c28\",\"type\":\"FactorRange\"},{\"attributes\":{},\"id\":\"97b15464-9d58-4762-aefb-58de95ffa8c6\",\"type\":\"CategoricalTickFormatter\"},{\"attributes\":{\"source\":{\"id\":\"03fabf97-2b8b-4039-a6ad-f7a534045c7b\",\"type\":\"ColumnDataSource\"}},\"id\":\"9df37045-12f7-40c9-99fb-02cc55b26fcb\",\"type\":\"CDSView\"},{\"attributes\":{\"dimension\":1,\"plot\":{\"id\":\"803a4d3d-a2de-437c-a23b-1023bdb57d51\",\"subtype\":\"Figure\",\"type\":\"Plot\"},\"ticker\":{\"id\":\"33a7e040-3b2d-4985-a657-e1bbcf1c9e73\",\"type\":\"CategoricalTicker\"}},\"id\":\"c0e5236a-40ef-424b-8278-e6a2600f784d\",\"type\":\"Grid\"},{\"attributes\":{\"bottom_units\":\"screen\",\"fill_alpha\":{\"value\":0.5},\"fill_color\":{\"value\":\"lightgrey\"},\"left_units\":\"screen\",\"level\":\"overlay\",\"line_alpha\":{\"value\":1.0},\"line_color\":{\"value\":\"black\"},\"line_dash\":[4,4],\"line_width\":{\"value\":2},\"plot\":null,\"render_mode\":\"css\",\"right_units\":\"screen\",\"top_units\":\"screen\"},\"id\":\"afbbbfe3-13b0-4035-98a1-b6af895481ac\",\"type\":\"BoxAnnotation\"},{\"attributes\":{\"data_source\":{\"id\":\"03fabf97-2b8b-4039-a6ad-f7a534045c7b\",\"type\":\"ColumnDataSource\"},\"glyph\":{\"id\":\"7a61f568-5c25-432c-b152-0581adf28268\",\"type\":\"HBar\"},\"hover_glyph\":null,\"muted_glyph\":null,\"nonselection_glyph\":{\"id\":\"84ecb15e-5989-4680-84d3-47e9a44da5f9\",\"type\":\"HBar\"},\"selection_glyph\":null,\"view\":{\"id\":\"9df37045-12f7-40c9-99fb-02cc55b26fcb\",\"type\":\"CDSView\"}},\"id\":\"d0a4a707-4bac-4e4e-bb08-40a5110a7e66\",\"type\":\"GlyphRenderer\"},{\"attributes\":{\"overlay\":{\"id\":\"afbbbfe3-13b0-4035-98a1-b6af895481ac\",\"type\":\"BoxAnnotation\"}},\"id\":\"f2b12fa9-b3ba-4911-9c56-d75095c29c74\",\"type\":\"BoxZoomTool\"},{\"attributes\":{\"level\":\"glyph\",\"plot\":{\"id\":\"803a4d3d-a2de-437c-a23b-1023bdb57d51\",\"subtype\":\"Figure\",\"type\":\"Plot\"},\"source\":{\"id\":\"03fabf97-2b8b-4039-a6ad-f7a534045c7b\",\"type\":\"ColumnDataSource\"},\"text\":{\"field\":\"pct\"},\"text_font_size\":{\"value\":\"8pt\"},\"x\":{\"field\":\"x\"},\"x_offset\":{\"value\":10},\"y\":{\"field\":\"y\"},\"y_offset\":{\"value\":2}},\"id\":\"a23e9230-8978-442c-86c1-32d637693fb0\",\"type\":\"LabelSet\"},{\"attributes\":{\"plot\":null,\"text\":\"AIGA-Only: I've shifted my specialty or focus area:\"},\"id\":\"a7a1a0ae-17b0-4493-9d36-b2fb17342f80\",\"type\":\"Title\"},{\"attributes\":{\"plot\":{\"id\":\"803a4d3d-a2de-437c-a23b-1023bdb57d51\",\"subtype\":\"Figure\",\"type\":\"Plot\"},\"ticker\":{\"id\":\"961a123d-3ee3-41c1-80f4-97521ab5e784\",\"type\":\"BasicTicker\"}},\"id\":\"7880ac28-0894-4a9e-9ce3-d7f42bc4d1b1\",\"type\":\"Grid\"},{\"attributes\":{\"below\":[{\"id\":\"e86c60f9-8cb0-455a-aff9-f04cf3cfcc19\",\"type\":\"LinearAxis\"}],\"left\":[{\"id\":\"ddc29b7e-a3cb-4e9a-8bdd-5b9079f68a46\",\"type\":\"CategoricalAxis\"}],\"min_border_right\":50,\"output_backend\":\"svg\",\"plot_height\":900,\"plot_width\":1400,\"renderers\":[{\"id\":\"e86c60f9-8cb0-455a-aff9-f04cf3cfcc19\",\"type\":\"LinearAxis\"},{\"id\":\"7880ac28-0894-4a9e-9ce3-d7f42bc4d1b1\",\"type\":\"Grid\"},{\"id\":\"ddc29b7e-a3cb-4e9a-8bdd-5b9079f68a46\",\"type\":\"CategoricalAxis\"},{\"id\":\"c0e5236a-40ef-424b-8278-e6a2600f784d\",\"type\":\"Grid\"},{\"id\":\"afbbbfe3-13b0-4035-98a1-b6af895481ac\",\"type\":\"BoxAnnotation\"},{\"id\":\"d0a4a707-4bac-4e4e-bb08-40a5110a7e66\",\"type\":\"GlyphRenderer\"},{\"id\":\"a23e9230-8978-442c-86c1-32d637693fb0\",\"type\":\"LabelSet\"},{\"id\":\"d5486e4f-ada5-461c-a65d-0789d21f5a54\",\"type\":\"LabelSet\"}],\"title\":{\"id\":\"a7a1a0ae-17b0-4493-9d36-b2fb17342f80\",\"type\":\"Title\"},\"toolbar\":{\"id\":\"82929f74-dd6e-43bd-b935-54729c912902\",\"type\":\"Toolbar\"},\"x_range\":{\"id\":\"8387f797-18c7-4429-8cde-657dd35374a9\",\"type\":\"Range1d\"},\"x_scale\":{\"id\":\"198d7eb6-4b0b-4f85-afd9-aaea4c7d88b7\",\"type\":\"LinearScale\"},\"y_range\":{\"id\":\"f3d87fc4-1294-49be-a266-9f2732642c28\",\"type\":\"FactorRange\"},\"y_scale\":{\"id\":\"23f2e24a-5092-4712-b012-8ed110265150\",\"type\":\"CategoricalScale\"}},\"id\":\"803a4d3d-a2de-437c-a23b-1023bdb57d51\",\"subtype\":\"Figure\",\"type\":\"Plot\"},{\"attributes\":{\"axis_label\":\"Categories\",\"formatter\":{\"id\":\"97b15464-9d58-4762-aefb-58de95ffa8c6\",\"type\":\"CategoricalTickFormatter\"},\"plot\":{\"id\":\"803a4d3d-a2de-437c-a23b-1023bdb57d51\",\"subtype\":\"Figure\",\"type\":\"Plot\"},\"ticker\":{\"id\":\"33a7e040-3b2d-4985-a657-e1bbcf1c9e73\",\"type\":\"CategoricalTicker\"}},\"id\":\"ddc29b7e-a3cb-4e9a-8bdd-5b9079f68a46\",\"type\":\"CategoricalAxis\"},{\"attributes\":{},\"id\":\"198d7eb6-4b0b-4f85-afd9-aaea4c7d88b7\",\"type\":\"LinearScale\"},{\"attributes\":{},\"id\":\"abd052e9-baad-465f-bcbd-56ebf2f5e4b8\",\"type\":\"ResetTool\"},{\"attributes\":{},\"id\":\"961a123d-3ee3-41c1-80f4-97521ab5e784\",\"type\":\"BasicTicker\"},{\"attributes\":{\"callback\":null,\"column_names\":[\"y\",\"x\",\"pct\"],\"data\":{\"pct\":[\"47.69%\",\"25.31%\",\"9.25%\",\"9.18%\",\"8.56%\"],\"x\":[2212,1174,429,426,397],\"y\":[\"1-2 times\",\"0 times\",\"Slowly over time\",\"3-4 times\",\"Always ready for what's next\"]}},\"id\":\"03fabf97-2b8b-4039-a6ad-f7a534045c7b\",\"type\":\"ColumnDataSource\"},{\"attributes\":{\"fill_color\":{\"value\":\"#1f77b4\"},\"height\":{\"value\":0.75},\"line_color\":{\"value\":\"#1f77b4\"},\"right\":{\"field\":\"x\"},\"y\":{\"field\":\"y\"}},\"id\":\"7a61f568-5c25-432c-b152-0581adf28268\",\"type\":\"HBar\"},{\"attributes\":{},\"id\":\"49c4fe3f-1dd9-4740-9131-59e54bef9bff\",\"type\":\"WheelZoomTool\"},{\"attributes\":{\"level\":\"glyph\",\"plot\":{\"id\":\"803a4d3d-a2de-437c-a23b-1023bdb57d51\",\"subtype\":\"Figure\",\"type\":\"Plot\"},\"source\":{\"id\":\"03fabf97-2b8b-4039-a6ad-f7a534045c7b\",\"type\":\"ColumnDataSource\"},\"text\":{\"field\":\"x\"},\"text_font_size\":{\"value\":\"8pt\"},\"x\":{\"field\":\"x\"},\"x_offset\":{\"value\":10},\"y\":{\"field\":\"y\"},\"y_offset\":{\"value\":-12}},\"id\":\"d5486e4f-ada5-461c-a65d-0789d21f5a54\",\"type\":\"LabelSet\"}],\"root_ids\":[\"803a4d3d-a2de-437c-a23b-1023bdb57d51\"]},\"title\":\"Bokeh Application\",\"version\":\"0.12.13\"}};\n",
              "  var render_items = [{\"docid\":\"6a8eeef6-ea6f-413a-af7f-9696818cfcef\",\"elementid\":\"e5746c82-8405-40eb-b4c1-45bbad509c2b\",\"modelid\":\"803a4d3d-a2de-437c-a23b-1023bdb57d51\"}];\n",
              "  root.Bokeh.embed.embed_items_notebook(docs_json, render_items);\n",
              "\n",
              "  }\n",
              "  if (root.Bokeh !== undefined) {\n",
              "    embed_document(root);\n",
              "  } else {\n",
              "    var attempts = 0;\n",
              "    var timer = setInterval(function(root) {\n",
              "      if (root.Bokeh !== undefined) {\n",
              "        embed_document(root);\n",
              "        clearInterval(timer);\n",
              "      }\n",
              "      attempts++;\n",
              "      if (attempts > 100) {\n",
              "        console.log(\"Bokeh: ERROR: Unable to run BokehJS code because BokehJS library is missing\")\n",
              "        clearInterval(timer);\n",
              "      }\n",
              "    }, 10, root)\n",
              "  }\n",
              "})(window);"
            ],
            "application/vnd.bokehjs_exec.v0+json": ""
          },
          "metadata": {
            "application/vnd.bokehjs_exec.v0+json": {
              "id": "803a4d3d-a2de-437c-a23b-1023bdb57d51"
            }
          }
        },
        {
          "output_type": "display_data",
          "data": {
            "text/html": [
              "\n",
              "<div class=\"bk-root\">\n",
              "    <div class=\"bk-plotdiv\" id=\"bc224440-1b80-45d9-b909-fcc5b39bb4a6\"></div>\n",
              "</div>"
            ]
          },
          "metadata": {}
        },
        {
          "output_type": "display_data",
          "data": {
            "application/javascript": [
              "(function(root) {\n",
              "  function embed_document(root) {\n",
              "    \n",
              "  var docs_json = {\"3c4ee1b3-d854-4fd1-8cf4-c47318710be3\":{\"roots\":{\"references\":[{\"attributes\":{\"overlay\":{\"id\":\"e5846701-484f-4f3f-adab-1dccd4b433e9\",\"type\":\"BoxAnnotation\"}},\"id\":\"11d994c2-6619-4650-a706-bc312cbbfe74\",\"type\":\"BoxZoomTool\"},{\"attributes\":{\"fill_color\":{\"value\":\"#1f77b4\"},\"height\":{\"value\":0.75},\"line_color\":{\"value\":\"#1f77b4\"},\"right\":{\"field\":\"x\"},\"y\":{\"field\":\"y\"}},\"id\":\"208a5668-8981-47ca-ba55-2a358a0b4b3a\",\"type\":\"HBar\"},{\"attributes\":{\"callback\":null,\"end\":4638.0},\"id\":\"34f23e6c-c43c-4ed3-931f-7fe1b887d6fb\",\"type\":\"Range1d\"},{\"attributes\":{},\"id\":\"7700d42c-9971-4652-89da-b81f20ad364a\",\"type\":\"BasicTickFormatter\"},{\"attributes\":{},\"id\":\"87ef1f81-fa7c-4edd-84ca-1ff6b5026930\",\"type\":\"CategoricalScale\"},{\"attributes\":{\"callback\":null,\"factors\":[\"Following design feeds\",\"Reading online publications\",\"Following social media\",\"Discussing with peers\",\"Reading books/magazines\",\"Attending conferences\",\"Seeking online training\",\"Having a mentor\",\"None of these\"]},\"id\":\"e5de73e6-4b75-40fa-a869-c9e6e232947a\",\"type\":\"FactorRange\"},{\"attributes\":{\"plot\":{\"id\":\"0c0994da-55fc-4192-8a55-d1dc3dbd5b98\",\"subtype\":\"Figure\",\"type\":\"Plot\"},\"ticker\":{\"id\":\"3c71af51-9757-46e9-8d33-0c8dacbccb5b\",\"type\":\"BasicTicker\"}},\"id\":\"b06a61ef-3cad-4aa8-a338-f352b45cec95\",\"type\":\"Grid\"},{\"attributes\":{\"active_drag\":\"auto\",\"active_inspect\":\"auto\",\"active_scroll\":\"auto\",\"active_tap\":\"auto\",\"tools\":[{\"id\":\"a363b7e8-fae6-4660-958f-3eed19ff6637\",\"type\":\"PanTool\"},{\"id\":\"c70de984-35e9-45b1-93ac-5074693a2685\",\"type\":\"WheelZoomTool\"},{\"id\":\"11d994c2-6619-4650-a706-bc312cbbfe74\",\"type\":\"BoxZoomTool\"},{\"id\":\"4a7350f2-c33d-4588-bb9c-40ced26c085a\",\"type\":\"SaveTool\"},{\"id\":\"cfdec74c-4fd8-4760-a9ce-188b4d099452\",\"type\":\"ResetTool\"},{\"id\":\"4269bfd0-670e-4282-a9b5-5f09f9f00075\",\"type\":\"HelpTool\"}]},\"id\":\"3999354a-1e65-4643-b48e-651077f104b1\",\"type\":\"Toolbar\"},{\"attributes\":{\"bottom_units\":\"screen\",\"fill_alpha\":{\"value\":0.5},\"fill_color\":{\"value\":\"lightgrey\"},\"left_units\":\"screen\",\"level\":\"overlay\",\"line_alpha\":{\"value\":1.0},\"line_color\":{\"value\":\"black\"},\"line_dash\":[4,4],\"line_width\":{\"value\":2},\"plot\":null,\"render_mode\":\"css\",\"right_units\":\"screen\",\"top_units\":\"screen\"},\"id\":\"e5846701-484f-4f3f-adab-1dccd4b433e9\",\"type\":\"BoxAnnotation\"},{\"attributes\":{\"data_source\":{\"id\":\"c088a1c5-2b35-40cc-9b8b-663f106d0602\",\"type\":\"ColumnDataSource\"},\"glyph\":{\"id\":\"208a5668-8981-47ca-ba55-2a358a0b4b3a\",\"type\":\"HBar\"},\"hover_glyph\":null,\"muted_glyph\":null,\"nonselection_glyph\":{\"id\":\"46744d0a-7e27-4ab2-9261-30479e788b18\",\"type\":\"HBar\"},\"selection_glyph\":null,\"view\":{\"id\":\"30968bc1-b279-476d-af6b-e573c3492f1b\",\"type\":\"CDSView\"}},\"id\":\"5b1a3ac9-f7d0-4e79-8889-9c6d58bd007a\",\"type\":\"GlyphRenderer\"},{\"attributes\":{\"level\":\"glyph\",\"plot\":{\"id\":\"0c0994da-55fc-4192-8a55-d1dc3dbd5b98\",\"subtype\":\"Figure\",\"type\":\"Plot\"},\"source\":{\"id\":\"c088a1c5-2b35-40cc-9b8b-663f106d0602\",\"type\":\"ColumnDataSource\"},\"text\":{\"field\":\"pct\"},\"text_font_size\":{\"value\":\"8pt\"},\"x\":{\"field\":\"x\"},\"x_offset\":{\"value\":10},\"y\":{\"field\":\"y\"},\"y_offset\":{\"value\":2}},\"id\":\"98b9289a-6dee-4d84-a379-736e77cfdf7e\",\"type\":\"LabelSet\"},{\"attributes\":{\"level\":\"glyph\",\"plot\":{\"id\":\"0c0994da-55fc-4192-8a55-d1dc3dbd5b98\",\"subtype\":\"Figure\",\"type\":\"Plot\"},\"source\":{\"id\":\"c088a1c5-2b35-40cc-9b8b-663f106d0602\",\"type\":\"ColumnDataSource\"},\"text\":{\"field\":\"x\"},\"text_font_size\":{\"value\":\"8pt\"},\"x\":{\"field\":\"x\"},\"x_offset\":{\"value\":10},\"y\":{\"field\":\"y\"},\"y_offset\":{\"value\":-12}},\"id\":\"cee5ac13-9a82-4e91-b63d-157a8f3af035\",\"type\":\"LabelSet\"},{\"attributes\":{},\"id\":\"a363b7e8-fae6-4660-958f-3eed19ff6637\",\"type\":\"PanTool\"},{\"attributes\":{},\"id\":\"eba9b433-9993-4dd6-a5f6-6998c08a46fa\",\"type\":\"CategoricalTickFormatter\"},{\"attributes\":{},\"id\":\"4a7350f2-c33d-4588-bb9c-40ced26c085a\",\"type\":\"SaveTool\"},{\"attributes\":{\"fill_alpha\":{\"value\":0.1},\"fill_color\":{\"value\":\"#1f77b4\"},\"height\":{\"value\":0.75},\"line_alpha\":{\"value\":0.1},\"line_color\":{\"value\":\"#1f77b4\"},\"right\":{\"field\":\"x\"},\"y\":{\"field\":\"y\"}},\"id\":\"46744d0a-7e27-4ab2-9261-30479e788b18\",\"type\":\"HBar\"},{\"attributes\":{},\"id\":\"d9ffd0f0-4637-42ab-a4f3-0f93fc8fecf2\",\"type\":\"CategoricalTicker\"},{\"attributes\":{},\"id\":\"c70de984-35e9-45b1-93ac-5074693a2685\",\"type\":\"WheelZoomTool\"},{\"attributes\":{},\"id\":\"3c71af51-9757-46e9-8d33-0c8dacbccb5b\",\"type\":\"BasicTicker\"},{\"attributes\":{\"plot\":null,\"text\":\"AIGA-Only: I stay current with design by:\"},\"id\":\"b6602ff3-90b8-4b40-ad3b-2f7a8c48acc5\",\"type\":\"Title\"},{\"attributes\":{\"callback\":null,\"column_names\":[\"y\",\"x\",\"pct\"],\"data\":{\"pct\":[\"82.26%\",\"78.27%\",\"75.77%\",\"74.62%\",\"62.89%\",\"55.82%\",\"53.49%\",\"17.92%\",\"0.67%\"],\"x\":[3815,3630,3514,3461,2917,2589,2481,831,31],\"y\":[\"Following design feeds\",\"Reading online publications\",\"Following social media\",\"Discussing with peers\",\"Reading books/magazines\",\"Attending conferences\",\"Seeking online training\",\"Having a mentor\",\"None of these\"]}},\"id\":\"c088a1c5-2b35-40cc-9b8b-663f106d0602\",\"type\":\"ColumnDataSource\"},{\"attributes\":{},\"id\":\"cfdec74c-4fd8-4760-a9ce-188b4d099452\",\"type\":\"ResetTool\"},{\"attributes\":{\"axis_label\":\"Respondents\",\"formatter\":{\"id\":\"7700d42c-9971-4652-89da-b81f20ad364a\",\"type\":\"BasicTickFormatter\"},\"plot\":{\"id\":\"0c0994da-55fc-4192-8a55-d1dc3dbd5b98\",\"subtype\":\"Figure\",\"type\":\"Plot\"},\"ticker\":{\"id\":\"3c71af51-9757-46e9-8d33-0c8dacbccb5b\",\"type\":\"BasicTicker\"}},\"id\":\"a30ad4d9-b206-4251-90a8-30d0c7f209ba\",\"type\":\"LinearAxis\"},{\"attributes\":{},\"id\":\"8c2e1641-26d3-4bf4-8e68-9fbe5cc068c0\",\"type\":\"LinearScale\"},{\"attributes\":{},\"id\":\"4269bfd0-670e-4282-a9b5-5f09f9f00075\",\"type\":\"HelpTool\"},{\"attributes\":{\"axis_label\":\"Categories\",\"formatter\":{\"id\":\"eba9b433-9993-4dd6-a5f6-6998c08a46fa\",\"type\":\"CategoricalTickFormatter\"},\"plot\":{\"id\":\"0c0994da-55fc-4192-8a55-d1dc3dbd5b98\",\"subtype\":\"Figure\",\"type\":\"Plot\"},\"ticker\":{\"id\":\"d9ffd0f0-4637-42ab-a4f3-0f93fc8fecf2\",\"type\":\"CategoricalTicker\"}},\"id\":\"78bcecdb-6595-4776-b26f-a5c99427ce66\",\"type\":\"CategoricalAxis\"},{\"attributes\":{\"source\":{\"id\":\"c088a1c5-2b35-40cc-9b8b-663f106d0602\",\"type\":\"ColumnDataSource\"}},\"id\":\"30968bc1-b279-476d-af6b-e573c3492f1b\",\"type\":\"CDSView\"},{\"attributes\":{\"below\":[{\"id\":\"a30ad4d9-b206-4251-90a8-30d0c7f209ba\",\"type\":\"LinearAxis\"}],\"left\":[{\"id\":\"78bcecdb-6595-4776-b26f-a5c99427ce66\",\"type\":\"CategoricalAxis\"}],\"min_border_right\":50,\"output_backend\":\"svg\",\"plot_height\":900,\"plot_width\":1400,\"renderers\":[{\"id\":\"a30ad4d9-b206-4251-90a8-30d0c7f209ba\",\"type\":\"LinearAxis\"},{\"id\":\"b06a61ef-3cad-4aa8-a338-f352b45cec95\",\"type\":\"Grid\"},{\"id\":\"78bcecdb-6595-4776-b26f-a5c99427ce66\",\"type\":\"CategoricalAxis\"},{\"id\":\"4151f9b3-7a94-4259-ae5f-9285ebf9c9bd\",\"type\":\"Grid\"},{\"id\":\"e5846701-484f-4f3f-adab-1dccd4b433e9\",\"type\":\"BoxAnnotation\"},{\"id\":\"5b1a3ac9-f7d0-4e79-8889-9c6d58bd007a\",\"type\":\"GlyphRenderer\"},{\"id\":\"98b9289a-6dee-4d84-a379-736e77cfdf7e\",\"type\":\"LabelSet\"},{\"id\":\"cee5ac13-9a82-4e91-b63d-157a8f3af035\",\"type\":\"LabelSet\"}],\"title\":{\"id\":\"b6602ff3-90b8-4b40-ad3b-2f7a8c48acc5\",\"type\":\"Title\"},\"toolbar\":{\"id\":\"3999354a-1e65-4643-b48e-651077f104b1\",\"type\":\"Toolbar\"},\"x_range\":{\"id\":\"34f23e6c-c43c-4ed3-931f-7fe1b887d6fb\",\"type\":\"Range1d\"},\"x_scale\":{\"id\":\"8c2e1641-26d3-4bf4-8e68-9fbe5cc068c0\",\"type\":\"LinearScale\"},\"y_range\":{\"id\":\"e5de73e6-4b75-40fa-a869-c9e6e232947a\",\"type\":\"FactorRange\"},\"y_scale\":{\"id\":\"87ef1f81-fa7c-4edd-84ca-1ff6b5026930\",\"type\":\"CategoricalScale\"}},\"id\":\"0c0994da-55fc-4192-8a55-d1dc3dbd5b98\",\"subtype\":\"Figure\",\"type\":\"Plot\"},{\"attributes\":{\"dimension\":1,\"plot\":{\"id\":\"0c0994da-55fc-4192-8a55-d1dc3dbd5b98\",\"subtype\":\"Figure\",\"type\":\"Plot\"},\"ticker\":{\"id\":\"d9ffd0f0-4637-42ab-a4f3-0f93fc8fecf2\",\"type\":\"CategoricalTicker\"}},\"id\":\"4151f9b3-7a94-4259-ae5f-9285ebf9c9bd\",\"type\":\"Grid\"}],\"root_ids\":[\"0c0994da-55fc-4192-8a55-d1dc3dbd5b98\"]},\"title\":\"Bokeh Application\",\"version\":\"0.12.13\"}};\n",
              "  var render_items = [{\"docid\":\"3c4ee1b3-d854-4fd1-8cf4-c47318710be3\",\"elementid\":\"bc224440-1b80-45d9-b909-fcc5b39bb4a6\",\"modelid\":\"0c0994da-55fc-4192-8a55-d1dc3dbd5b98\"}];\n",
              "  root.Bokeh.embed.embed_items_notebook(docs_json, render_items);\n",
              "\n",
              "  }\n",
              "  if (root.Bokeh !== undefined) {\n",
              "    embed_document(root);\n",
              "  } else {\n",
              "    var attempts = 0;\n",
              "    var timer = setInterval(function(root) {\n",
              "      if (root.Bokeh !== undefined) {\n",
              "        embed_document(root);\n",
              "        clearInterval(timer);\n",
              "      }\n",
              "      attempts++;\n",
              "      if (attempts > 100) {\n",
              "        console.log(\"Bokeh: ERROR: Unable to run BokehJS code because BokehJS library is missing\")\n",
              "        clearInterval(timer);\n",
              "      }\n",
              "    }, 10, root)\n",
              "  }\n",
              "})(window);"
            ],
            "application/vnd.bokehjs_exec.v0+json": ""
          },
          "metadata": {
            "application/vnd.bokehjs_exec.v0+json": {
              "id": "0c0994da-55fc-4192-8a55-d1dc3dbd5b98"
            }
          }
        },
        {
          "output_type": "display_data",
          "data": {
            "text/html": [
              "\n",
              "<div class=\"bk-root\">\n",
              "    <div class=\"bk-plotdiv\" id=\"7e061ad6-a666-4272-9a89-3b218e80f97a\"></div>\n",
              "</div>"
            ]
          },
          "metadata": {}
        },
        {
          "output_type": "display_data",
          "data": {
            "application/javascript": [
              "(function(root) {\n",
              "  function embed_document(root) {\n",
              "    \n",
              "  var docs_json = {\"8017c8ea-843a-4048-abd3-208d89abf9ae\":{\"roots\":{\"references\":[{\"attributes\":{},\"id\":\"51abd03e-8067-48b0-bbe1-17ecb55139be\",\"type\":\"CategoricalScale\"},{\"attributes\":{\"level\":\"glyph\",\"plot\":{\"id\":\"cd38c9eb-4677-4300-9da7-99de6fcaaaaa\",\"subtype\":\"Figure\",\"type\":\"Plot\"},\"source\":{\"id\":\"6a13cf38-aeea-4df7-90d9-5d22d811351c\",\"type\":\"ColumnDataSource\"},\"text\":{\"field\":\"pct\"},\"text_font_size\":{\"value\":\"8pt\"},\"x\":{\"field\":\"x\"},\"x_offset\":{\"value\":10},\"y\":{\"field\":\"y\"},\"y_offset\":{\"value\":2}},\"id\":\"4bb463c1-50d4-463f-8a95-30683c4a3495\",\"type\":\"LabelSet\"},{\"attributes\":{\"data_source\":{\"id\":\"6a13cf38-aeea-4df7-90d9-5d22d811351c\",\"type\":\"ColumnDataSource\"},\"glyph\":{\"id\":\"d2d9ed5e-5be4-4e30-9675-2f07cc69ce5b\",\"type\":\"HBar\"},\"hover_glyph\":null,\"muted_glyph\":null,\"nonselection_glyph\":{\"id\":\"2b42c46f-6083-4dd1-85d9-61986898efad\",\"type\":\"HBar\"},\"selection_glyph\":null,\"view\":{\"id\":\"29c9ee17-bfe3-464b-98bf-1e3828b65aa2\",\"type\":\"CDSView\"}},\"id\":\"3a983981-1035-44b7-a779-94317e6df4da\",\"type\":\"GlyphRenderer\"},{\"attributes\":{\"axis_label\":\"Categories\",\"formatter\":{\"id\":\"41a30a48-c58a-4cdc-95ec-6924074dece3\",\"type\":\"CategoricalTickFormatter\"},\"plot\":{\"id\":\"cd38c9eb-4677-4300-9da7-99de6fcaaaaa\",\"subtype\":\"Figure\",\"type\":\"Plot\"},\"ticker\":{\"id\":\"7aea538a-cae6-458e-b75a-6786ded98281\",\"type\":\"CategoricalTicker\"}},\"id\":\"80c4e703-de56-48fa-a06b-07d2bd62dbe7\",\"type\":\"CategoricalAxis\"},{\"attributes\":{\"active_drag\":\"auto\",\"active_inspect\":\"auto\",\"active_scroll\":\"auto\",\"active_tap\":\"auto\",\"tools\":[{\"id\":\"4f10848d-4182-4b0a-a511-f548ebbe4e3d\",\"type\":\"PanTool\"},{\"id\":\"a888764c-469b-46cf-bc5d-bc8b83f6f43b\",\"type\":\"WheelZoomTool\"},{\"id\":\"31aa0e70-95f4-4e87-9366-05b5545ed6ea\",\"type\":\"BoxZoomTool\"},{\"id\":\"54082cef-2abd-4a4b-a00f-70fd26d91f26\",\"type\":\"SaveTool\"},{\"id\":\"cfa5b715-dcf1-4c83-afcb-698229c1f3f7\",\"type\":\"ResetTool\"},{\"id\":\"747d5648-e96e-49b0-9b23-cc5a2aa4dc38\",\"type\":\"HelpTool\"}]},\"id\":\"9a78f499-5db6-4c2a-801d-80854d1e734b\",\"type\":\"Toolbar\"},{\"attributes\":{},\"id\":\"54082cef-2abd-4a4b-a00f-70fd26d91f26\",\"type\":\"SaveTool\"},{\"attributes\":{},\"id\":\"7bb11840-df27-4e36-95a3-a987f6001c7b\",\"type\":\"BasicTicker\"},{\"attributes\":{\"overlay\":{\"id\":\"a92ebc8a-dcb8-4b98-95d0-86c849c595cd\",\"type\":\"BoxAnnotation\"}},\"id\":\"31aa0e70-95f4-4e87-9366-05b5545ed6ea\",\"type\":\"BoxZoomTool\"},{\"attributes\":{\"source\":{\"id\":\"6a13cf38-aeea-4df7-90d9-5d22d811351c\",\"type\":\"ColumnDataSource\"}},\"id\":\"29c9ee17-bfe3-464b-98bf-1e3828b65aa2\",\"type\":\"CDSView\"},{\"attributes\":{\"callback\":null,\"column_names\":[\"y\",\"x\",\"pct\"],\"data\":{\"pct\":[\"100.00%\",\"23.35%\",\"6.02%\",\"5.15%\",\"5.13%\",\"2.82%\",\"2.24%\",\"2.09%\",\"1.81%\",\"1.77%\",\"1.66%\",\"1.12%\",\"1.10%\",\"0.75%\",\"0.71%\",\"0.71%\",\"0.69%\",\"0.67%\",\"0.63%\",\"0.52%\",\"0.37%\",\"0.24%\",\"0.19%\",\"0.09%\",\"0.06%\",\"0.04%\",\"0.00%\",\"0.00%\",\"0.00%\",\"0.00%\"],\"x\":[4638,1083,279,239,238,131,104,97,84,82,77,52,51,35,33,33,32,31,29,24,17,11,9,4,3,2,0,0,0,0],\"y\":[\"AIGA\",\"Creative Mornings\",\"IXDA\",\"AAF\",\"Freelancers Union\",\"Graphic Artists Guild\",\"SEGD\",\"TDC\",\"ADC\",\"Ad Club\",\"UCDA\",\"D&AD\",\"One Club\",\"DMI\",\"SPARK\",\"IDSA\",\"Society of Illustrators\",\"ico-D (Icograda)\",\"In-Source\",\"SPD\",\"RGD\",\"GDC\",\"IHAF\",\"GAA\",\"ADCE\",\"SOD\",\"JAGDA\",\"ADG-FAD\",\"None of these\",\"DBC\"]}},\"id\":\"6a13cf38-aeea-4df7-90d9-5d22d811351c\",\"type\":\"ColumnDataSource\"},{\"attributes\":{\"callback\":null,\"factors\":[\"AIGA\",\"Creative Mornings\",\"IXDA\",\"AAF\",\"Freelancers Union\",\"Graphic Artists Guild\",\"SEGD\",\"TDC\",\"ADC\",\"Ad Club\",\"UCDA\",\"D&AD\",\"One Club\",\"DMI\",\"SPARK\",\"IDSA\",\"Society of Illustrators\",\"ico-D (Icograda)\",\"In-Source\",\"SPD\",\"RGD\",\"GDC\",\"IHAF\",\"GAA\",\"ADCE\",\"SOD\",\"JAGDA\",\"ADG-FAD\",\"None of these\",\"DBC\"]},\"id\":\"c935ab45-85dc-481a-a42f-7cbf8d009173\",\"type\":\"FactorRange\"},{\"attributes\":{\"axis_label\":\"Respondents\",\"formatter\":{\"id\":\"bc082c45-dbdc-4e71-8b85-50e8f9bd8e1c\",\"type\":\"BasicTickFormatter\"},\"plot\":{\"id\":\"cd38c9eb-4677-4300-9da7-99de6fcaaaaa\",\"subtype\":\"Figure\",\"type\":\"Plot\"},\"ticker\":{\"id\":\"7bb11840-df27-4e36-95a3-a987f6001c7b\",\"type\":\"BasicTicker\"}},\"id\":\"9776b960-994a-4c69-9385-4c1ad6c20859\",\"type\":\"LinearAxis\"},{\"attributes\":{},\"id\":\"7abbd73f-1bbf-480d-a521-993ef8c02239\",\"type\":\"LinearScale\"},{\"attributes\":{},\"id\":\"747d5648-e96e-49b0-9b23-cc5a2aa4dc38\",\"type\":\"HelpTool\"},{\"attributes\":{\"plot\":{\"id\":\"cd38c9eb-4677-4300-9da7-99de6fcaaaaa\",\"subtype\":\"Figure\",\"type\":\"Plot\"},\"ticker\":{\"id\":\"7bb11840-df27-4e36-95a3-a987f6001c7b\",\"type\":\"BasicTicker\"}},\"id\":\"97aadc2b-bd56-4643-b417-431bee9367b0\",\"type\":\"Grid\"},{\"attributes\":{},\"id\":\"7aea538a-cae6-458e-b75a-6786ded98281\",\"type\":\"CategoricalTicker\"},{\"attributes\":{},\"id\":\"cfa5b715-dcf1-4c83-afcb-698229c1f3f7\",\"type\":\"ResetTool\"},{\"attributes\":{\"fill_color\":{\"value\":\"#1f77b4\"},\"height\":{\"value\":0.75},\"line_color\":{\"value\":\"#1f77b4\"},\"right\":{\"field\":\"x\"},\"y\":{\"field\":\"y\"}},\"id\":\"d2d9ed5e-5be4-4e30-9675-2f07cc69ce5b\",\"type\":\"HBar\"},{\"attributes\":{\"callback\":null,\"end\":5625.6},\"id\":\"2b7ad4f8-4af0-489e-8476-9299a3dc2915\",\"type\":\"Range1d\"},{\"attributes\":{\"plot\":null,\"text\":\"AIGA-Only: I'm a member of:\"},\"id\":\"1f9f4446-3a44-4d99-9599-b863f8656fe4\",\"type\":\"Title\"},{\"attributes\":{\"fill_alpha\":{\"value\":0.1},\"fill_color\":{\"value\":\"#1f77b4\"},\"height\":{\"value\":0.75},\"line_alpha\":{\"value\":0.1},\"line_color\":{\"value\":\"#1f77b4\"},\"right\":{\"field\":\"x\"},\"y\":{\"field\":\"y\"}},\"id\":\"2b42c46f-6083-4dd1-85d9-61986898efad\",\"type\":\"HBar\"},{\"attributes\":{\"below\":[{\"id\":\"9776b960-994a-4c69-9385-4c1ad6c20859\",\"type\":\"LinearAxis\"}],\"left\":[{\"id\":\"80c4e703-de56-48fa-a06b-07d2bd62dbe7\",\"type\":\"CategoricalAxis\"}],\"min_border_right\":50,\"output_backend\":\"svg\",\"plot_height\":1500,\"plot_width\":1400,\"renderers\":[{\"id\":\"9776b960-994a-4c69-9385-4c1ad6c20859\",\"type\":\"LinearAxis\"},{\"id\":\"97aadc2b-bd56-4643-b417-431bee9367b0\",\"type\":\"Grid\"},{\"id\":\"80c4e703-de56-48fa-a06b-07d2bd62dbe7\",\"type\":\"CategoricalAxis\"},{\"id\":\"4983f72d-b606-44fe-a6a2-5eb7f9352313\",\"type\":\"Grid\"},{\"id\":\"a92ebc8a-dcb8-4b98-95d0-86c849c595cd\",\"type\":\"BoxAnnotation\"},{\"id\":\"3a983981-1035-44b7-a779-94317e6df4da\",\"type\":\"GlyphRenderer\"},{\"id\":\"4bb463c1-50d4-463f-8a95-30683c4a3495\",\"type\":\"LabelSet\"},{\"id\":\"00aa2abc-fdb7-41f7-a04b-5b4e2ccf98cd\",\"type\":\"LabelSet\"}],\"title\":{\"id\":\"1f9f4446-3a44-4d99-9599-b863f8656fe4\",\"type\":\"Title\"},\"toolbar\":{\"id\":\"9a78f499-5db6-4c2a-801d-80854d1e734b\",\"type\":\"Toolbar\"},\"x_range\":{\"id\":\"2b7ad4f8-4af0-489e-8476-9299a3dc2915\",\"type\":\"Range1d\"},\"x_scale\":{\"id\":\"7abbd73f-1bbf-480d-a521-993ef8c02239\",\"type\":\"LinearScale\"},\"y_range\":{\"id\":\"c935ab45-85dc-481a-a42f-7cbf8d009173\",\"type\":\"FactorRange\"},\"y_scale\":{\"id\":\"51abd03e-8067-48b0-bbe1-17ecb55139be\",\"type\":\"CategoricalScale\"}},\"id\":\"cd38c9eb-4677-4300-9da7-99de6fcaaaaa\",\"subtype\":\"Figure\",\"type\":\"Plot\"},{\"attributes\":{},\"id\":\"41a30a48-c58a-4cdc-95ec-6924074dece3\",\"type\":\"CategoricalTickFormatter\"},{\"attributes\":{},\"id\":\"a888764c-469b-46cf-bc5d-bc8b83f6f43b\",\"type\":\"WheelZoomTool\"},{\"attributes\":{\"level\":\"glyph\",\"plot\":{\"id\":\"cd38c9eb-4677-4300-9da7-99de6fcaaaaa\",\"subtype\":\"Figure\",\"type\":\"Plot\"},\"source\":{\"id\":\"6a13cf38-aeea-4df7-90d9-5d22d811351c\",\"type\":\"ColumnDataSource\"},\"text\":{\"field\":\"x\"},\"text_font_size\":{\"value\":\"8pt\"},\"x\":{\"field\":\"x\"},\"x_offset\":{\"value\":10},\"y\":{\"field\":\"y\"},\"y_offset\":{\"value\":-12}},\"id\":\"00aa2abc-fdb7-41f7-a04b-5b4e2ccf98cd\",\"type\":\"LabelSet\"},{\"attributes\":{\"dimension\":1,\"plot\":{\"id\":\"cd38c9eb-4677-4300-9da7-99de6fcaaaaa\",\"subtype\":\"Figure\",\"type\":\"Plot\"},\"ticker\":{\"id\":\"7aea538a-cae6-458e-b75a-6786ded98281\",\"type\":\"CategoricalTicker\"}},\"id\":\"4983f72d-b606-44fe-a6a2-5eb7f9352313\",\"type\":\"Grid\"},{\"attributes\":{\"bottom_units\":\"screen\",\"fill_alpha\":{\"value\":0.5},\"fill_color\":{\"value\":\"lightgrey\"},\"left_units\":\"screen\",\"level\":\"overlay\",\"line_alpha\":{\"value\":1.0},\"line_color\":{\"value\":\"black\"},\"line_dash\":[4,4],\"line_width\":{\"value\":2},\"plot\":null,\"render_mode\":\"css\",\"right_units\":\"screen\",\"top_units\":\"screen\"},\"id\":\"a92ebc8a-dcb8-4b98-95d0-86c849c595cd\",\"type\":\"BoxAnnotation\"},{\"attributes\":{},\"id\":\"4f10848d-4182-4b0a-a511-f548ebbe4e3d\",\"type\":\"PanTool\"},{\"attributes\":{},\"id\":\"bc082c45-dbdc-4e71-8b85-50e8f9bd8e1c\",\"type\":\"BasicTickFormatter\"}],\"root_ids\":[\"cd38c9eb-4677-4300-9da7-99de6fcaaaaa\"]},\"title\":\"Bokeh Application\",\"version\":\"0.12.13\"}};\n",
              "  var render_items = [{\"docid\":\"8017c8ea-843a-4048-abd3-208d89abf9ae\",\"elementid\":\"7e061ad6-a666-4272-9a89-3b218e80f97a\",\"modelid\":\"cd38c9eb-4677-4300-9da7-99de6fcaaaaa\"}];\n",
              "  root.Bokeh.embed.embed_items_notebook(docs_json, render_items);\n",
              "\n",
              "  }\n",
              "  if (root.Bokeh !== undefined) {\n",
              "    embed_document(root);\n",
              "  } else {\n",
              "    var attempts = 0;\n",
              "    var timer = setInterval(function(root) {\n",
              "      if (root.Bokeh !== undefined) {\n",
              "        embed_document(root);\n",
              "        clearInterval(timer);\n",
              "      }\n",
              "      attempts++;\n",
              "      if (attempts > 100) {\n",
              "        console.log(\"Bokeh: ERROR: Unable to run BokehJS code because BokehJS library is missing\")\n",
              "        clearInterval(timer);\n",
              "      }\n",
              "    }, 10, root)\n",
              "  }\n",
              "})(window);"
            ],
            "application/vnd.bokehjs_exec.v0+json": ""
          },
          "metadata": {
            "application/vnd.bokehjs_exec.v0+json": {
              "id": "cd38c9eb-4677-4300-9da7-99de6fcaaaaa"
            }
          }
        },
        {
          "output_type": "display_data",
          "data": {
            "text/html": [
              "\n",
              "<div class=\"bk-root\">\n",
              "    <div class=\"bk-plotdiv\" id=\"f7c65efe-b018-48c6-81a6-4286c29f4d67\"></div>\n",
              "</div>"
            ]
          },
          "metadata": {}
        },
        {
          "output_type": "display_data",
          "data": {
            "application/javascript": [
              "(function(root) {\n",
              "  function embed_document(root) {\n",
              "    \n",
              "  var docs_json = {\"ca07bdb0-81ef-40ff-8288-e290d8d64ff0\":{\"roots\":{\"references\":[{\"attributes\":{\"level\":\"glyph\",\"plot\":{\"id\":\"83fa86c9-22a8-4d9c-9197-93875ed06a1e\",\"subtype\":\"Figure\",\"type\":\"Plot\"},\"source\":{\"id\":\"b04a9457-63b9-4c5f-9a4a-ca60b6517f4e\",\"type\":\"ColumnDataSource\"},\"text\":{\"field\":\"x\"},\"text_font_size\":{\"value\":\"8pt\"},\"x\":{\"field\":\"x\"},\"x_offset\":{\"value\":10},\"y\":{\"field\":\"y\"},\"y_offset\":{\"value\":-12}},\"id\":\"a81a6e99-780b-48b1-8892-0f48c319f0c4\",\"type\":\"LabelSet\"},{\"attributes\":{\"axis_label\":\"Respondents\",\"formatter\":{\"id\":\"67b57475-524f-4dc4-9cfd-3c9487f69f36\",\"type\":\"BasicTickFormatter\"},\"plot\":{\"id\":\"83fa86c9-22a8-4d9c-9197-93875ed06a1e\",\"subtype\":\"Figure\",\"type\":\"Plot\"},\"ticker\":{\"id\":\"77846cca-3d93-4704-b28f-b8321f7749c9\",\"type\":\"BasicTicker\"}},\"id\":\"e42f5483-ee94-454e-aeab-db3d34ffe9f7\",\"type\":\"LinearAxis\"},{\"attributes\":{},\"id\":\"e97243a6-7d40-4c0b-b50f-fc275ac5cfa7\",\"type\":\"CategoricalTicker\"},{\"attributes\":{\"bottom_units\":\"screen\",\"fill_alpha\":{\"value\":0.5},\"fill_color\":{\"value\":\"lightgrey\"},\"left_units\":\"screen\",\"level\":\"overlay\",\"line_alpha\":{\"value\":1.0},\"line_color\":{\"value\":\"black\"},\"line_dash\":[4,4],\"line_width\":{\"value\":2},\"plot\":null,\"render_mode\":\"css\",\"right_units\":\"screen\",\"top_units\":\"screen\"},\"id\":\"b3a5b833-55b6-4cb5-a63e-8b5ab2896951\",\"type\":\"BoxAnnotation\"},{\"attributes\":{\"plot\":null,\"text\":\"AIGA-Only: I'd like to get better at:\"},\"id\":\"696f00ea-8ecc-49e2-8fe1-122ccf0ee9ac\",\"type\":\"Title\"},{\"attributes\":{\"plot\":{\"id\":\"83fa86c9-22a8-4d9c-9197-93875ed06a1e\",\"subtype\":\"Figure\",\"type\":\"Plot\"},\"ticker\":{\"id\":\"77846cca-3d93-4704-b28f-b8321f7749c9\",\"type\":\"BasicTicker\"}},\"id\":\"f98edfc2-9aff-4ea5-b0d1-a2db06d0e4e5\",\"type\":\"Grid\"},{\"attributes\":{\"level\":\"glyph\",\"plot\":{\"id\":\"83fa86c9-22a8-4d9c-9197-93875ed06a1e\",\"subtype\":\"Figure\",\"type\":\"Plot\"},\"source\":{\"id\":\"b04a9457-63b9-4c5f-9a4a-ca60b6517f4e\",\"type\":\"ColumnDataSource\"},\"text\":{\"field\":\"pct\"},\"text_font_size\":{\"value\":\"8pt\"},\"x\":{\"field\":\"x\"},\"x_offset\":{\"value\":10},\"y\":{\"field\":\"y\"},\"y_offset\":{\"value\":2}},\"id\":\"f9a14e50-e0c0-4324-bf0c-d1ff82ba6355\",\"type\":\"LabelSet\"},{\"attributes\":{\"callback\":null,\"end\":2529.6},\"id\":\"c6be2198-4443-4503-b9fe-dec29e58225f\",\"type\":\"Range1d\"},{\"attributes\":{},\"id\":\"e513a42b-9a13-476a-9a5f-c29e4afa6d8d\",\"type\":\"HelpTool\"},{\"attributes\":{\"callback\":null,\"column_names\":[\"y\",\"x\",\"pct\"],\"data\":{\"pct\":[\"44.37%\",\"42.84%\",\"38.66%\",\"38.03%\",\"37.15%\",\"36.98%\",\"35.12%\",\"32.45%\",\"32.38%\",\"29.95%\",\"29.88%\",\"29.30%\",\"29.13%\",\"28.35%\",\"28.22%\",\"26.24%\",\"25.96%\",\"24.30%\",\"23.63%\",\"20.72%\",\"17.27%\",\"16.39%\",\"15.20%\",\"15.11%\",\"14.06%\",\"11.34%\",\"11.17%\",\"9.77%\",\"9.62%\",\"8.39%\",\"3.43%\"],\"x\":[2058,1987,1793,1764,1723,1715,1629,1505,1502,1389,1386,1359,1351,1315,1309,1217,1204,1127,1096,961,801,760,705,701,652,526,518,453,446,389,159],\"y\":[\"UX Design\",\"Web Design\",\"UI Design\",\"Motion Graphics\",\"Public Speaking\",\"Leadership\",\"Coding\",\"Interaction Design\",\"Photography\",\"Strategy\",\"Writing\",\"Business\",\"Brainstorming and Ideation\",\"Drawing or Painting\",\"Animation\",\"Product Design\",\"Social Impact Design\",\"Project Management\",\"Mentoring\",\"Social Media\",\"Research\",\"VR or AR Design\",\"Data Analysis\",\"Relationship Management\",\"Diversity and Inclusion\",\"SEO/SEM\",\"Service Design\",\"Facilitation\",\"AI or Algorithm Design\",\"Sales\",\"Engineering\"]}},\"id\":\"b04a9457-63b9-4c5f-9a4a-ca60b6517f4e\",\"type\":\"ColumnDataSource\"},{\"attributes\":{},\"id\":\"bdaa0b5e-eba4-4452-8b6b-3336100fd499\",\"type\":\"SaveTool\"},{\"attributes\":{\"axis_label\":\"Categories\",\"formatter\":{\"id\":\"a9a971a5-b462-4892-89c8-863717f359f4\",\"type\":\"CategoricalTickFormatter\"},\"plot\":{\"id\":\"83fa86c9-22a8-4d9c-9197-93875ed06a1e\",\"subtype\":\"Figure\",\"type\":\"Plot\"},\"ticker\":{\"id\":\"e97243a6-7d40-4c0b-b50f-fc275ac5cfa7\",\"type\":\"CategoricalTicker\"}},\"id\":\"4d8dfec1-f8a6-47bd-b340-bd6f1c277d1e\",\"type\":\"CategoricalAxis\"},{\"attributes\":{},\"id\":\"a9a971a5-b462-4892-89c8-863717f359f4\",\"type\":\"CategoricalTickFormatter\"},{\"attributes\":{\"active_drag\":\"auto\",\"active_inspect\":\"auto\",\"active_scroll\":\"auto\",\"active_tap\":\"auto\",\"tools\":[{\"id\":\"2ed7e34b-efc3-49c9-82c3-bdf60d265858\",\"type\":\"PanTool\"},{\"id\":\"883bc399-4c4c-4599-aa55-a982b4395b74\",\"type\":\"WheelZoomTool\"},{\"id\":\"f40422bd-f35e-463d-8769-0661899bc0b8\",\"type\":\"BoxZoomTool\"},{\"id\":\"bdaa0b5e-eba4-4452-8b6b-3336100fd499\",\"type\":\"SaveTool\"},{\"id\":\"d6a5e48c-c5a7-4b36-80bc-3bbb402a15e0\",\"type\":\"ResetTool\"},{\"id\":\"e513a42b-9a13-476a-9a5f-c29e4afa6d8d\",\"type\":\"HelpTool\"}]},\"id\":\"40dd800f-e596-46ee-be43-bef8fa30b578\",\"type\":\"Toolbar\"},{\"attributes\":{\"dimension\":1,\"plot\":{\"id\":\"83fa86c9-22a8-4d9c-9197-93875ed06a1e\",\"subtype\":\"Figure\",\"type\":\"Plot\"},\"ticker\":{\"id\":\"e97243a6-7d40-4c0b-b50f-fc275ac5cfa7\",\"type\":\"CategoricalTicker\"}},\"id\":\"bb90233c-b582-4d79-bc5a-f636d2051947\",\"type\":\"Grid\"},{\"attributes\":{\"fill_color\":{\"value\":\"#1f77b4\"},\"height\":{\"value\":0.75},\"line_color\":{\"value\":\"#1f77b4\"},\"right\":{\"field\":\"x\"},\"y\":{\"field\":\"y\"}},\"id\":\"4113932f-5491-4d84-8b39-d620170cf0d1\",\"type\":\"HBar\"},{\"attributes\":{\"fill_alpha\":{\"value\":0.1},\"fill_color\":{\"value\":\"#1f77b4\"},\"height\":{\"value\":0.75},\"line_alpha\":{\"value\":0.1},\"line_color\":{\"value\":\"#1f77b4\"},\"right\":{\"field\":\"x\"},\"y\":{\"field\":\"y\"}},\"id\":\"1af3e0c1-3f2a-41e3-aef2-7ad119eb05f8\",\"type\":\"HBar\"},{\"attributes\":{\"overlay\":{\"id\":\"b3a5b833-55b6-4cb5-a63e-8b5ab2896951\",\"type\":\"BoxAnnotation\"}},\"id\":\"f40422bd-f35e-463d-8769-0661899bc0b8\",\"type\":\"BoxZoomTool\"},{\"attributes\":{\"below\":[{\"id\":\"e42f5483-ee94-454e-aeab-db3d34ffe9f7\",\"type\":\"LinearAxis\"}],\"left\":[{\"id\":\"4d8dfec1-f8a6-47bd-b340-bd6f1c277d1e\",\"type\":\"CategoricalAxis\"}],\"min_border_right\":50,\"output_backend\":\"svg\",\"plot_height\":1550,\"plot_width\":1400,\"renderers\":[{\"id\":\"e42f5483-ee94-454e-aeab-db3d34ffe9f7\",\"type\":\"LinearAxis\"},{\"id\":\"f98edfc2-9aff-4ea5-b0d1-a2db06d0e4e5\",\"type\":\"Grid\"},{\"id\":\"4d8dfec1-f8a6-47bd-b340-bd6f1c277d1e\",\"type\":\"CategoricalAxis\"},{\"id\":\"bb90233c-b582-4d79-bc5a-f636d2051947\",\"type\":\"Grid\"},{\"id\":\"b3a5b833-55b6-4cb5-a63e-8b5ab2896951\",\"type\":\"BoxAnnotation\"},{\"id\":\"0a24d99a-3777-4939-9038-023a31771022\",\"type\":\"GlyphRenderer\"},{\"id\":\"f9a14e50-e0c0-4324-bf0c-d1ff82ba6355\",\"type\":\"LabelSet\"},{\"id\":\"a81a6e99-780b-48b1-8892-0f48c319f0c4\",\"type\":\"LabelSet\"}],\"title\":{\"id\":\"696f00ea-8ecc-49e2-8fe1-122ccf0ee9ac\",\"type\":\"Title\"},\"toolbar\":{\"id\":\"40dd800f-e596-46ee-be43-bef8fa30b578\",\"type\":\"Toolbar\"},\"x_range\":{\"id\":\"c6be2198-4443-4503-b9fe-dec29e58225f\",\"type\":\"Range1d\"},\"x_scale\":{\"id\":\"8f15bcab-5190-49fe-abbe-d1028f0fcca3\",\"type\":\"LinearScale\"},\"y_range\":{\"id\":\"4ce59036-4dbf-4cae-a2d8-7f662c4136a0\",\"type\":\"FactorRange\"},\"y_scale\":{\"id\":\"68d0cdaf-7c40-4ef3-a39d-7988bb78a666\",\"type\":\"CategoricalScale\"}},\"id\":\"83fa86c9-22a8-4d9c-9197-93875ed06a1e\",\"subtype\":\"Figure\",\"type\":\"Plot\"},{\"attributes\":{},\"id\":\"883bc399-4c4c-4599-aa55-a982b4395b74\",\"type\":\"WheelZoomTool\"},{\"attributes\":{},\"id\":\"67b57475-524f-4dc4-9cfd-3c9487f69f36\",\"type\":\"BasicTickFormatter\"},{\"attributes\":{},\"id\":\"2ed7e34b-efc3-49c9-82c3-bdf60d265858\",\"type\":\"PanTool\"},{\"attributes\":{},\"id\":\"68d0cdaf-7c40-4ef3-a39d-7988bb78a666\",\"type\":\"CategoricalScale\"},{\"attributes\":{},\"id\":\"8f15bcab-5190-49fe-abbe-d1028f0fcca3\",\"type\":\"LinearScale\"},{\"attributes\":{},\"id\":\"d6a5e48c-c5a7-4b36-80bc-3bbb402a15e0\",\"type\":\"ResetTool\"},{\"attributes\":{\"data_source\":{\"id\":\"b04a9457-63b9-4c5f-9a4a-ca60b6517f4e\",\"type\":\"ColumnDataSource\"},\"glyph\":{\"id\":\"4113932f-5491-4d84-8b39-d620170cf0d1\",\"type\":\"HBar\"},\"hover_glyph\":null,\"muted_glyph\":null,\"nonselection_glyph\":{\"id\":\"1af3e0c1-3f2a-41e3-aef2-7ad119eb05f8\",\"type\":\"HBar\"},\"selection_glyph\":null,\"view\":{\"id\":\"d7342a32-24fe-4196-840b-d36f261c078e\",\"type\":\"CDSView\"}},\"id\":\"0a24d99a-3777-4939-9038-023a31771022\",\"type\":\"GlyphRenderer\"},{\"attributes\":{\"source\":{\"id\":\"b04a9457-63b9-4c5f-9a4a-ca60b6517f4e\",\"type\":\"ColumnDataSource\"}},\"id\":\"d7342a32-24fe-4196-840b-d36f261c078e\",\"type\":\"CDSView\"},{\"attributes\":{\"callback\":null,\"factors\":[\"UX Design\",\"Web Design\",\"UI Design\",\"Motion Graphics\",\"Public Speaking\",\"Leadership\",\"Coding\",\"Interaction Design\",\"Photography\",\"Strategy\",\"Writing\",\"Business\",\"Brainstorming and Ideation\",\"Drawing or Painting\",\"Animation\",\"Product Design\",\"Social Impact Design\",\"Project Management\",\"Mentoring\",\"Social Media\",\"Research\",\"VR or AR Design\",\"Data Analysis\",\"Relationship Management\",\"Diversity and Inclusion\",\"SEO/SEM\",\"Service Design\",\"Facilitation\",\"AI or Algorithm Design\",\"Sales\",\"Engineering\"]},\"id\":\"4ce59036-4dbf-4cae-a2d8-7f662c4136a0\",\"type\":\"FactorRange\"},{\"attributes\":{},\"id\":\"77846cca-3d93-4704-b28f-b8321f7749c9\",\"type\":\"BasicTicker\"}],\"root_ids\":[\"83fa86c9-22a8-4d9c-9197-93875ed06a1e\"]},\"title\":\"Bokeh Application\",\"version\":\"0.12.13\"}};\n",
              "  var render_items = [{\"docid\":\"ca07bdb0-81ef-40ff-8288-e290d8d64ff0\",\"elementid\":\"f7c65efe-b018-48c6-81a6-4286c29f4d67\",\"modelid\":\"83fa86c9-22a8-4d9c-9197-93875ed06a1e\"}];\n",
              "  root.Bokeh.embed.embed_items_notebook(docs_json, render_items);\n",
              "\n",
              "  }\n",
              "  if (root.Bokeh !== undefined) {\n",
              "    embed_document(root);\n",
              "  } else {\n",
              "    var attempts = 0;\n",
              "    var timer = setInterval(function(root) {\n",
              "      if (root.Bokeh !== undefined) {\n",
              "        embed_document(root);\n",
              "        clearInterval(timer);\n",
              "      }\n",
              "      attempts++;\n",
              "      if (attempts > 100) {\n",
              "        console.log(\"Bokeh: ERROR: Unable to run BokehJS code because BokehJS library is missing\")\n",
              "        clearInterval(timer);\n",
              "      }\n",
              "    }, 10, root)\n",
              "  }\n",
              "})(window);"
            ],
            "application/vnd.bokehjs_exec.v0+json": ""
          },
          "metadata": {
            "application/vnd.bokehjs_exec.v0+json": {
              "id": "83fa86c9-22a8-4d9c-9197-93875ed06a1e"
            }
          }
        },
        {
          "output_type": "display_data",
          "data": {
            "text/html": [
              "\n",
              "<div class=\"bk-root\">\n",
              "    <div class=\"bk-plotdiv\" id=\"ef0785f8-e54f-4a80-9ea3-d7a0da1f9b01\"></div>\n",
              "</div>"
            ]
          },
          "metadata": {}
        },
        {
          "output_type": "display_data",
          "data": {
            "application/javascript": [
              "(function(root) {\n",
              "  function embed_document(root) {\n",
              "    \n",
              "  var docs_json = {\"95071ac3-1098-4ce7-9c60-5b514a0438a5\":{\"roots\":{\"references\":[{\"attributes\":{},\"id\":\"68679690-dc9b-4f24-aea2-ab8446b6f055\",\"type\":\"CategoricalTicker\"},{\"attributes\":{},\"id\":\"23cbb929-b9da-4419-834d-3383bdd352e0\",\"type\":\"HelpTool\"},{\"attributes\":{\"overlay\":{\"id\":\"60b8ab51-e582-426a-b1af-7af244b51a3d\",\"type\":\"BoxAnnotation\"}},\"id\":\"764bc70d-d1eb-450d-b704-d04a8e105eca\",\"type\":\"BoxZoomTool\"},{\"attributes\":{},\"id\":\"dd91acaa-866b-4618-b7ec-2be06fea0f08\",\"type\":\"BasicTickFormatter\"},{\"attributes\":{\"level\":\"glyph\",\"plot\":{\"id\":\"83bbf872-ab10-4177-bb66-847573da7a53\",\"subtype\":\"Figure\",\"type\":\"Plot\"},\"source\":{\"id\":\"36aa3f28-4744-42c4-8516-33514c5e7fc4\",\"type\":\"ColumnDataSource\"},\"text\":{\"field\":\"pct\"},\"text_font_size\":{\"value\":\"8pt\"},\"x\":{\"field\":\"x\"},\"x_offset\":{\"value\":10},\"y\":{\"field\":\"y\"},\"y_offset\":{\"value\":2}},\"id\":\"0f7951dc-c921-47be-882f-d1f699bf5365\",\"type\":\"LabelSet\"},{\"attributes\":{\"below\":[{\"id\":\"585a126c-dd55-4135-861b-ff517a09bf64\",\"type\":\"LinearAxis\"}],\"left\":[{\"id\":\"5e4d846b-a0fc-4541-a0e4-f03df6acd3a2\",\"type\":\"CategoricalAxis\"}],\"min_border_right\":50,\"output_backend\":\"svg\",\"plot_height\":900,\"plot_width\":1400,\"renderers\":[{\"id\":\"585a126c-dd55-4135-861b-ff517a09bf64\",\"type\":\"LinearAxis\"},{\"id\":\"3f35af49-4e42-49e4-afef-c448c66e3001\",\"type\":\"Grid\"},{\"id\":\"5e4d846b-a0fc-4541-a0e4-f03df6acd3a2\",\"type\":\"CategoricalAxis\"},{\"id\":\"d7f2a082-526b-4d57-85ae-35f666b5ac00\",\"type\":\"Grid\"},{\"id\":\"60b8ab51-e582-426a-b1af-7af244b51a3d\",\"type\":\"BoxAnnotation\"},{\"id\":\"671251a4-069a-4285-806d-8b32188080c9\",\"type\":\"GlyphRenderer\"},{\"id\":\"0f7951dc-c921-47be-882f-d1f699bf5365\",\"type\":\"LabelSet\"},{\"id\":\"f88db952-0ce1-4b71-887f-0b152df6d75f\",\"type\":\"LabelSet\"}],\"title\":{\"id\":\"998632a6-ad8c-45ca-ae93-7217429bb3aa\",\"type\":\"Title\"},\"toolbar\":{\"id\":\"28c6a839-1ba9-4f89-9570-fbf2c26eff1b\",\"type\":\"Toolbar\"},\"x_range\":{\"id\":\"be287171-0781-4be4-888a-156bdd0504f2\",\"type\":\"Range1d\"},\"x_scale\":{\"id\":\"3a50b6c0-650c-4b73-9164-432b30c3f86e\",\"type\":\"LinearScale\"},\"y_range\":{\"id\":\"b4771b1b-6065-4811-a52d-e3528a417b8c\",\"type\":\"FactorRange\"},\"y_scale\":{\"id\":\"efaeacb1-35b3-4df3-b443-32932b7f462c\",\"type\":\"CategoricalScale\"}},\"id\":\"83bbf872-ab10-4177-bb66-847573da7a53\",\"subtype\":\"Figure\",\"type\":\"Plot\"},{\"attributes\":{\"plot\":null,\"text\":\"AIGA-Only: I am:\"},\"id\":\"998632a6-ad8c-45ca-ae93-7217429bb3aa\",\"type\":\"Title\"},{\"attributes\":{\"level\":\"glyph\",\"plot\":{\"id\":\"83bbf872-ab10-4177-bb66-847573da7a53\",\"subtype\":\"Figure\",\"type\":\"Plot\"},\"source\":{\"id\":\"36aa3f28-4744-42c4-8516-33514c5e7fc4\",\"type\":\"ColumnDataSource\"},\"text\":{\"field\":\"x\"},\"text_font_size\":{\"value\":\"8pt\"},\"x\":{\"field\":\"x\"},\"x_offset\":{\"value\":10},\"y\":{\"field\":\"y\"},\"y_offset\":{\"value\":-12}},\"id\":\"f88db952-0ce1-4b71-887f-0b152df6d75f\",\"type\":\"LabelSet\"},{\"attributes\":{\"axis_label\":\"Categories\",\"formatter\":{\"id\":\"614d5ffb-27a8-47f3-8d58-f1a5223551cf\",\"type\":\"CategoricalTickFormatter\"},\"plot\":{\"id\":\"83bbf872-ab10-4177-bb66-847573da7a53\",\"subtype\":\"Figure\",\"type\":\"Plot\"},\"ticker\":{\"id\":\"68679690-dc9b-4f24-aea2-ab8446b6f055\",\"type\":\"CategoricalTicker\"}},\"id\":\"5e4d846b-a0fc-4541-a0e4-f03df6acd3a2\",\"type\":\"CategoricalAxis\"},{\"attributes\":{\"active_drag\":\"auto\",\"active_inspect\":\"auto\",\"active_scroll\":\"auto\",\"active_tap\":\"auto\",\"tools\":[{\"id\":\"19689c98-e816-48b3-8394-e9bffa07270c\",\"type\":\"PanTool\"},{\"id\":\"a537499f-5953-41b0-aa15-42716809435d\",\"type\":\"WheelZoomTool\"},{\"id\":\"764bc70d-d1eb-450d-b704-d04a8e105eca\",\"type\":\"BoxZoomTool\"},{\"id\":\"ace9b16e-56fa-476f-a7ca-692e61149b41\",\"type\":\"SaveTool\"},{\"id\":\"e2356017-5318-4626-8f7e-1bb66bb30a9f\",\"type\":\"ResetTool\"},{\"id\":\"23cbb929-b9da-4419-834d-3383bdd352e0\",\"type\":\"HelpTool\"}]},\"id\":\"28c6a839-1ba9-4f89-9570-fbf2c26eff1b\",\"type\":\"Toolbar\"},{\"attributes\":{\"data_source\":{\"id\":\"36aa3f28-4744-42c4-8516-33514c5e7fc4\",\"type\":\"ColumnDataSource\"},\"glyph\":{\"id\":\"77a8d35c-409d-4d53-8acd-126f23105d24\",\"type\":\"HBar\"},\"hover_glyph\":null,\"muted_glyph\":null,\"nonselection_glyph\":{\"id\":\"09f43693-5e87-4306-bba2-9b13451d9091\",\"type\":\"HBar\"},\"selection_glyph\":null,\"view\":{\"id\":\"1714b88d-e4ae-4fff-95fe-0d320d6dd083\",\"type\":\"CDSView\"}},\"id\":\"671251a4-069a-4285-806d-8b32188080c9\",\"type\":\"GlyphRenderer\"},{\"attributes\":{\"fill_alpha\":{\"value\":0.1},\"fill_color\":{\"value\":\"#1f77b4\"},\"height\":{\"value\":0.75},\"line_alpha\":{\"value\":0.1},\"line_color\":{\"value\":\"#1f77b4\"},\"right\":{\"field\":\"x\"},\"y\":{\"field\":\"y\"}},\"id\":\"09f43693-5e87-4306-bba2-9b13451d9091\",\"type\":\"HBar\"},{\"attributes\":{\"plot\":{\"id\":\"83bbf872-ab10-4177-bb66-847573da7a53\",\"subtype\":\"Figure\",\"type\":\"Plot\"},\"ticker\":{\"id\":\"5a76946f-52a2-43c3-9abd-f50b5e1b7751\",\"type\":\"BasicTicker\"}},\"id\":\"3f35af49-4e42-49e4-afef-c448c66e3001\",\"type\":\"Grid\"},{\"attributes\":{},\"id\":\"efaeacb1-35b3-4df3-b443-32932b7f462c\",\"type\":\"CategoricalScale\"},{\"attributes\":{},\"id\":\"19689c98-e816-48b3-8394-e9bffa07270c\",\"type\":\"PanTool\"},{\"attributes\":{\"dimension\":1,\"plot\":{\"id\":\"83bbf872-ab10-4177-bb66-847573da7a53\",\"subtype\":\"Figure\",\"type\":\"Plot\"},\"ticker\":{\"id\":\"68679690-dc9b-4f24-aea2-ab8446b6f055\",\"type\":\"CategoricalTicker\"}},\"id\":\"d7f2a082-526b-4d57-85ae-35f666b5ac00\",\"type\":\"Grid\"},{\"attributes\":{\"axis_label\":\"Respondents\",\"formatter\":{\"id\":\"dd91acaa-866b-4618-b7ec-2be06fea0f08\",\"type\":\"BasicTickFormatter\"},\"plot\":{\"id\":\"83bbf872-ab10-4177-bb66-847573da7a53\",\"subtype\":\"Figure\",\"type\":\"Plot\"},\"ticker\":{\"id\":\"5a76946f-52a2-43c3-9abd-f50b5e1b7751\",\"type\":\"BasicTicker\"}},\"id\":\"585a126c-dd55-4135-861b-ff517a09bf64\",\"type\":\"LinearAxis\"},{\"attributes\":{},\"id\":\"3a50b6c0-650c-4b73-9164-432b30c3f86e\",\"type\":\"LinearScale\"},{\"attributes\":{},\"id\":\"a537499f-5953-41b0-aa15-42716809435d\",\"type\":\"WheelZoomTool\"},{\"attributes\":{\"source\":{\"id\":\"36aa3f28-4744-42c4-8516-33514c5e7fc4\",\"type\":\"ColumnDataSource\"}},\"id\":\"1714b88d-e4ae-4fff-95fe-0d320d6dd083\",\"type\":\"CDSView\"},{\"attributes\":{},\"id\":\"614d5ffb-27a8-47f3-8d58-f1a5223551cf\",\"type\":\"CategoricalTickFormatter\"},{\"attributes\":{\"bottom_units\":\"screen\",\"fill_alpha\":{\"value\":0.5},\"fill_color\":{\"value\":\"lightgrey\"},\"left_units\":\"screen\",\"level\":\"overlay\",\"line_alpha\":{\"value\":1.0},\"line_color\":{\"value\":\"black\"},\"line_dash\":[4,4],\"line_width\":{\"value\":2},\"plot\":null,\"render_mode\":\"css\",\"right_units\":\"screen\",\"top_units\":\"screen\"},\"id\":\"60b8ab51-e582-426a-b1af-7af244b51a3d\",\"type\":\"BoxAnnotation\"},{\"attributes\":{\"callback\":null,\"factors\":[\"Open to opportunities, but not actively looking\",\"Not interested in a new job right now\",\"Casually looking for the right opportunity\",\"Working hard to find my next job\",\"Not sure\"]},\"id\":\"b4771b1b-6065-4811-a52d-e3528a417b8c\",\"type\":\"FactorRange\"},{\"attributes\":{},\"id\":\"ace9b16e-56fa-476f-a7ca-692e61149b41\",\"type\":\"SaveTool\"},{\"attributes\":{},\"id\":\"5a76946f-52a2-43c3-9abd-f50b5e1b7751\",\"type\":\"BasicTicker\"},{\"attributes\":{\"callback\":null,\"end\":2469.6},\"id\":\"be287171-0781-4be4-888a-156bdd0504f2\",\"type\":\"Range1d\"},{\"attributes\":{\"fill_color\":{\"value\":\"#1f77b4\"},\"height\":{\"value\":0.75},\"line_color\":{\"value\":\"#1f77b4\"},\"right\":{\"field\":\"x\"},\"y\":{\"field\":\"y\"}},\"id\":\"77a8d35c-409d-4d53-8acd-126f23105d24\",\"type\":\"HBar\"},{\"attributes\":{},\"id\":\"e2356017-5318-4626-8f7e-1bb66bb30a9f\",\"type\":\"ResetTool\"},{\"attributes\":{\"callback\":null,\"column_names\":[\"y\",\"x\",\"pct\"],\"data\":{\"pct\":[\"43.29%\",\"22.88%\",\"21.60%\",\"11.54%\",\"0.69%\"],\"x\":[2008,1061,1002,535,32],\"y\":[\"Open to opportunities, but not actively looking\",\"Not interested in a new job right now\",\"Casually looking for the right opportunity\",\"Working hard to find my next job\",\"Not sure\"]}},\"id\":\"36aa3f28-4744-42c4-8516-33514c5e7fc4\",\"type\":\"ColumnDataSource\"}],\"root_ids\":[\"83bbf872-ab10-4177-bb66-847573da7a53\"]},\"title\":\"Bokeh Application\",\"version\":\"0.12.13\"}};\n",
              "  var render_items = [{\"docid\":\"95071ac3-1098-4ce7-9c60-5b514a0438a5\",\"elementid\":\"ef0785f8-e54f-4a80-9ea3-d7a0da1f9b01\",\"modelid\":\"83bbf872-ab10-4177-bb66-847573da7a53\"}];\n",
              "  root.Bokeh.embed.embed_items_notebook(docs_json, render_items);\n",
              "\n",
              "  }\n",
              "  if (root.Bokeh !== undefined) {\n",
              "    embed_document(root);\n",
              "  } else {\n",
              "    var attempts = 0;\n",
              "    var timer = setInterval(function(root) {\n",
              "      if (root.Bokeh !== undefined) {\n",
              "        embed_document(root);\n",
              "        clearInterval(timer);\n",
              "      }\n",
              "      attempts++;\n",
              "      if (attempts > 100) {\n",
              "        console.log(\"Bokeh: ERROR: Unable to run BokehJS code because BokehJS library is missing\")\n",
              "        clearInterval(timer);\n",
              "      }\n",
              "    }, 10, root)\n",
              "  }\n",
              "})(window);"
            ],
            "application/vnd.bokehjs_exec.v0+json": ""
          },
          "metadata": {
            "application/vnd.bokehjs_exec.v0+json": {
              "id": "83bbf872-ab10-4177-bb66-847573da7a53"
            }
          }
        },
        {
          "output_type": "display_data",
          "data": {
            "text/html": [
              "\n",
              "<div class=\"bk-root\">\n",
              "    <div class=\"bk-plotdiv\" id=\"9f35b426-4b4c-4859-bdb4-eedc8b86929b\"></div>\n",
              "</div>"
            ]
          },
          "metadata": {}
        },
        {
          "output_type": "display_data",
          "data": {
            "application/javascript": [
              "(function(root) {\n",
              "  function embed_document(root) {\n",
              "    \n",
              "  var docs_json = {\"37baa560-9362-4379-b585-62d6af0a2c92\":{\"roots\":{\"references\":[{\"attributes\":{\"plot\":null,\"text\":\"AIGA-Only: I am:\"},\"id\":\"9ea44bd5-8a33-4aa0-a075-6b439350d5b5\",\"type\":\"Title\"},{\"attributes\":{},\"id\":\"eea86886-a55b-4bea-af44-28656f8ec698\",\"type\":\"CategoricalTicker\"},{\"attributes\":{\"callback\":null,\"factors\":[\"Female\",\"Male\",\"Non-binary or third gender\",\"Prefer not to say\"]},\"id\":\"216d3e8f-1ee5-4483-89ee-0985d93759ab\",\"type\":\"FactorRange\"},{\"attributes\":{\"callback\":null,\"column_names\":[\"y\",\"x\",\"pct\"],\"data\":{\"pct\":[\"62.05%\",\"36.57%\",\"0.71%\",\"0.67%\"],\"x\":[2878,1696,33,31],\"y\":[\"Female\",\"Male\",\"Non-binary or third gender\",\"Prefer not to say\"]}},\"id\":\"628b7ed4-796d-4798-968b-c794b15cd68c\",\"type\":\"ColumnDataSource\"},{\"attributes\":{\"bottom_units\":\"screen\",\"fill_alpha\":{\"value\":0.5},\"fill_color\":{\"value\":\"lightgrey\"},\"left_units\":\"screen\",\"level\":\"overlay\",\"line_alpha\":{\"value\":1.0},\"line_color\":{\"value\":\"black\"},\"line_dash\":[4,4],\"line_width\":{\"value\":2},\"plot\":null,\"render_mode\":\"css\",\"right_units\":\"screen\",\"top_units\":\"screen\"},\"id\":\"e48d9f48-a9a1-44fb-8992-e32342a01ce2\",\"type\":\"BoxAnnotation\"},{\"attributes\":{\"data_source\":{\"id\":\"628b7ed4-796d-4798-968b-c794b15cd68c\",\"type\":\"ColumnDataSource\"},\"glyph\":{\"id\":\"a0b01c68-9a67-4397-9e82-505018ac11bf\",\"type\":\"HBar\"},\"hover_glyph\":null,\"muted_glyph\":null,\"nonselection_glyph\":{\"id\":\"0d525df1-b82c-4a51-8eaa-23daf2b98945\",\"type\":\"HBar\"},\"selection_glyph\":null,\"view\":{\"id\":\"92a43de3-259e-4c7b-a9d1-e346dca78b81\",\"type\":\"CDSView\"}},\"id\":\"0be20103-0790-4ad3-964d-a0cdf5be47e2\",\"type\":\"GlyphRenderer\"},{\"attributes\":{\"axis_label\":\"Categories\",\"formatter\":{\"id\":\"25ba6dd5-17ec-46f3-867e-c631ad958cb6\",\"type\":\"CategoricalTickFormatter\"},\"plot\":{\"id\":\"35688490-7bbd-4d8e-ab6e-c6348032b2d3\",\"subtype\":\"Figure\",\"type\":\"Plot\"},\"ticker\":{\"id\":\"eea86886-a55b-4bea-af44-28656f8ec698\",\"type\":\"CategoricalTicker\"}},\"id\":\"f514535a-ecf7-4747-a5d8-18c423ccc8c0\",\"type\":\"CategoricalAxis\"},{\"attributes\":{},\"id\":\"d5cb853a-02bc-4fbe-b450-02ab64047397\",\"type\":\"PanTool\"},{\"attributes\":{},\"id\":\"d7553943-d133-4b59-9976-d33ead1997a8\",\"type\":\"BasicTicker\"},{\"attributes\":{},\"id\":\"8227d5e5-0d31-4b6b-b2de-5858cae6b28f\",\"type\":\"SaveTool\"},{\"attributes\":{\"fill_color\":{\"value\":\"#1f77b4\"},\"height\":{\"value\":0.75},\"line_color\":{\"value\":\"#1f77b4\"},\"right\":{\"field\":\"x\"},\"y\":{\"field\":\"y\"}},\"id\":\"a0b01c68-9a67-4397-9e82-505018ac11bf\",\"type\":\"HBar\"},{\"attributes\":{\"plot\":{\"id\":\"35688490-7bbd-4d8e-ab6e-c6348032b2d3\",\"subtype\":\"Figure\",\"type\":\"Plot\"},\"ticker\":{\"id\":\"d7553943-d133-4b59-9976-d33ead1997a8\",\"type\":\"BasicTicker\"}},\"id\":\"111154d8-7e90-4d2e-823b-f79898fe4c99\",\"type\":\"Grid\"},{\"attributes\":{},\"id\":\"baf929d1-59c5-4075-97a2-713f2f265a0a\",\"type\":\"ResetTool\"},{\"attributes\":{},\"id\":\"5563922a-8e73-439e-ab23-94ca6b6c62aa\",\"type\":\"BasicTickFormatter\"},{\"attributes\":{\"fill_alpha\":{\"value\":0.1},\"fill_color\":{\"value\":\"#1f77b4\"},\"height\":{\"value\":0.75},\"line_alpha\":{\"value\":0.1},\"line_color\":{\"value\":\"#1f77b4\"},\"right\":{\"field\":\"x\"},\"y\":{\"field\":\"y\"}},\"id\":\"0d525df1-b82c-4a51-8eaa-23daf2b98945\",\"type\":\"HBar\"},{\"attributes\":{},\"id\":\"de700594-dfee-40e6-a47f-135073b40ab1\",\"type\":\"HelpTool\"},{\"attributes\":{\"level\":\"glyph\",\"plot\":{\"id\":\"35688490-7bbd-4d8e-ab6e-c6348032b2d3\",\"subtype\":\"Figure\",\"type\":\"Plot\"},\"source\":{\"id\":\"628b7ed4-796d-4798-968b-c794b15cd68c\",\"type\":\"ColumnDataSource\"},\"text\":{\"field\":\"x\"},\"text_font_size\":{\"value\":\"8pt\"},\"x\":{\"field\":\"x\"},\"x_offset\":{\"value\":10},\"y\":{\"field\":\"y\"},\"y_offset\":{\"value\":-12}},\"id\":\"b6f7b884-1f07-4f47-90e3-4d4da53baa31\",\"type\":\"LabelSet\"},{\"attributes\":{},\"id\":\"5d29802a-2bf1-49b8-9bbc-210f83fb602d\",\"type\":\"WheelZoomTool\"},{\"attributes\":{\"overlay\":{\"id\":\"e48d9f48-a9a1-44fb-8992-e32342a01ce2\",\"type\":\"BoxAnnotation\"}},\"id\":\"bbd1d23d-ab58-4839-a0ff-8ae2582f59dc\",\"type\":\"BoxZoomTool\"},{\"attributes\":{\"level\":\"glyph\",\"plot\":{\"id\":\"35688490-7bbd-4d8e-ab6e-c6348032b2d3\",\"subtype\":\"Figure\",\"type\":\"Plot\"},\"source\":{\"id\":\"628b7ed4-796d-4798-968b-c794b15cd68c\",\"type\":\"ColumnDataSource\"},\"text\":{\"field\":\"pct\"},\"text_font_size\":{\"value\":\"8pt\"},\"x\":{\"field\":\"x\"},\"x_offset\":{\"value\":10},\"y\":{\"field\":\"y\"},\"y_offset\":{\"value\":2}},\"id\":\"5c7bfbd4-9e6c-43bb-a2c1-b6c19aa750f0\",\"type\":\"LabelSet\"},{\"attributes\":{},\"id\":\"1a4744be-9c91-40cf-b7c6-093c1bbeeeab\",\"type\":\"LinearScale\"},{\"attributes\":{\"axis_label\":\"Respondents\",\"formatter\":{\"id\":\"5563922a-8e73-439e-ab23-94ca6b6c62aa\",\"type\":\"BasicTickFormatter\"},\"plot\":{\"id\":\"35688490-7bbd-4d8e-ab6e-c6348032b2d3\",\"subtype\":\"Figure\",\"type\":\"Plot\"},\"ticker\":{\"id\":\"d7553943-d133-4b59-9976-d33ead1997a8\",\"type\":\"BasicTicker\"}},\"id\":\"c89900c6-dfee-4dfe-8374-444db7668e27\",\"type\":\"LinearAxis\"},{\"attributes\":{},\"id\":\"705a90a1-9b21-4100-ab75-0c764866c302\",\"type\":\"CategoricalScale\"},{\"attributes\":{\"dimension\":1,\"plot\":{\"id\":\"35688490-7bbd-4d8e-ab6e-c6348032b2d3\",\"subtype\":\"Figure\",\"type\":\"Plot\"},\"ticker\":{\"id\":\"eea86886-a55b-4bea-af44-28656f8ec698\",\"type\":\"CategoricalTicker\"}},\"id\":\"f86a357d-8bd0-4b7c-b7df-4142297736f9\",\"type\":\"Grid\"},{\"attributes\":{\"below\":[{\"id\":\"c89900c6-dfee-4dfe-8374-444db7668e27\",\"type\":\"LinearAxis\"}],\"left\":[{\"id\":\"f514535a-ecf7-4747-a5d8-18c423ccc8c0\",\"type\":\"CategoricalAxis\"}],\"min_border_right\":50,\"output_backend\":\"svg\",\"plot_height\":900,\"plot_width\":1400,\"renderers\":[{\"id\":\"c89900c6-dfee-4dfe-8374-444db7668e27\",\"type\":\"LinearAxis\"},{\"id\":\"111154d8-7e90-4d2e-823b-f79898fe4c99\",\"type\":\"Grid\"},{\"id\":\"f514535a-ecf7-4747-a5d8-18c423ccc8c0\",\"type\":\"CategoricalAxis\"},{\"id\":\"f86a357d-8bd0-4b7c-b7df-4142297736f9\",\"type\":\"Grid\"},{\"id\":\"e48d9f48-a9a1-44fb-8992-e32342a01ce2\",\"type\":\"BoxAnnotation\"},{\"id\":\"0be20103-0790-4ad3-964d-a0cdf5be47e2\",\"type\":\"GlyphRenderer\"},{\"id\":\"5c7bfbd4-9e6c-43bb-a2c1-b6c19aa750f0\",\"type\":\"LabelSet\"},{\"id\":\"b6f7b884-1f07-4f47-90e3-4d4da53baa31\",\"type\":\"LabelSet\"}],\"title\":{\"id\":\"9ea44bd5-8a33-4aa0-a075-6b439350d5b5\",\"type\":\"Title\"},\"toolbar\":{\"id\":\"8d621345-aa9b-4099-a82e-fd84742b9e6c\",\"type\":\"Toolbar\"},\"x_range\":{\"id\":\"1b984ea2-9ff7-496d-932c-acc3f3bbab34\",\"type\":\"Range1d\"},\"x_scale\":{\"id\":\"1a4744be-9c91-40cf-b7c6-093c1bbeeeab\",\"type\":\"LinearScale\"},\"y_range\":{\"id\":\"216d3e8f-1ee5-4483-89ee-0985d93759ab\",\"type\":\"FactorRange\"},\"y_scale\":{\"id\":\"705a90a1-9b21-4100-ab75-0c764866c302\",\"type\":\"CategoricalScale\"}},\"id\":\"35688490-7bbd-4d8e-ab6e-c6348032b2d3\",\"subtype\":\"Figure\",\"type\":\"Plot\"},{\"attributes\":{},\"id\":\"25ba6dd5-17ec-46f3-867e-c631ad958cb6\",\"type\":\"CategoricalTickFormatter\"},{\"attributes\":{\"callback\":null,\"end\":3513.6},\"id\":\"1b984ea2-9ff7-496d-932c-acc3f3bbab34\",\"type\":\"Range1d\"},{\"attributes\":{\"active_drag\":\"auto\",\"active_inspect\":\"auto\",\"active_scroll\":\"auto\",\"active_tap\":\"auto\",\"tools\":[{\"id\":\"d5cb853a-02bc-4fbe-b450-02ab64047397\",\"type\":\"PanTool\"},{\"id\":\"5d29802a-2bf1-49b8-9bbc-210f83fb602d\",\"type\":\"WheelZoomTool\"},{\"id\":\"bbd1d23d-ab58-4839-a0ff-8ae2582f59dc\",\"type\":\"BoxZoomTool\"},{\"id\":\"8227d5e5-0d31-4b6b-b2de-5858cae6b28f\",\"type\":\"SaveTool\"},{\"id\":\"baf929d1-59c5-4075-97a2-713f2f265a0a\",\"type\":\"ResetTool\"},{\"id\":\"de700594-dfee-40e6-a47f-135073b40ab1\",\"type\":\"HelpTool\"}]},\"id\":\"8d621345-aa9b-4099-a82e-fd84742b9e6c\",\"type\":\"Toolbar\"},{\"attributes\":{\"source\":{\"id\":\"628b7ed4-796d-4798-968b-c794b15cd68c\",\"type\":\"ColumnDataSource\"}},\"id\":\"92a43de3-259e-4c7b-a9d1-e346dca78b81\",\"type\":\"CDSView\"}],\"root_ids\":[\"35688490-7bbd-4d8e-ab6e-c6348032b2d3\"]},\"title\":\"Bokeh Application\",\"version\":\"0.12.13\"}};\n",
              "  var render_items = [{\"docid\":\"37baa560-9362-4379-b585-62d6af0a2c92\",\"elementid\":\"9f35b426-4b4c-4859-bdb4-eedc8b86929b\",\"modelid\":\"35688490-7bbd-4d8e-ab6e-c6348032b2d3\"}];\n",
              "  root.Bokeh.embed.embed_items_notebook(docs_json, render_items);\n",
              "\n",
              "  }\n",
              "  if (root.Bokeh !== undefined) {\n",
              "    embed_document(root);\n",
              "  } else {\n",
              "    var attempts = 0;\n",
              "    var timer = setInterval(function(root) {\n",
              "      if (root.Bokeh !== undefined) {\n",
              "        embed_document(root);\n",
              "        clearInterval(timer);\n",
              "      }\n",
              "      attempts++;\n",
              "      if (attempts > 100) {\n",
              "        console.log(\"Bokeh: ERROR: Unable to run BokehJS code because BokehJS library is missing\")\n",
              "        clearInterval(timer);\n",
              "      }\n",
              "    }, 10, root)\n",
              "  }\n",
              "})(window);"
            ],
            "application/vnd.bokehjs_exec.v0+json": ""
          },
          "metadata": {
            "application/vnd.bokehjs_exec.v0+json": {
              "id": "35688490-7bbd-4d8e-ab6e-c6348032b2d3"
            }
          }
        },
        {
          "output_type": "display_data",
          "data": {
            "text/html": [
              "\n",
              "<div class=\"bk-root\">\n",
              "    <div class=\"bk-plotdiv\" id=\"3237c5fd-641e-40b0-b0b1-77749deae189\"></div>\n",
              "</div>"
            ]
          },
          "metadata": {}
        },
        {
          "output_type": "display_data",
          "data": {
            "application/javascript": [
              "(function(root) {\n",
              "  function embed_document(root) {\n",
              "    \n",
              "  var docs_json = {\"fa4d2c71-9216-4a33-a0e9-81a8f621d8e1\":{\"roots\":{\"references\":[{\"attributes\":{\"axis_label\":\"Categories\",\"formatter\":{\"id\":\"e0292cbc-b246-4ded-a0c8-68029634753f\",\"type\":\"CategoricalTickFormatter\"},\"plot\":{\"id\":\"30c2020a-e814-4dce-a2a7-cee853283628\",\"subtype\":\"Figure\",\"type\":\"Plot\"},\"ticker\":{\"id\":\"3dfd090a-2793-4b92-9ae9-1ca7f07714a4\",\"type\":\"CategoricalTicker\"}},\"id\":\"66350b1f-6ae8-4f08-971c-3804da51ff13\",\"type\":\"CategoricalAxis\"},{\"attributes\":{\"dimension\":1,\"plot\":{\"id\":\"30c2020a-e814-4dce-a2a7-cee853283628\",\"subtype\":\"Figure\",\"type\":\"Plot\"},\"ticker\":{\"id\":\"3dfd090a-2793-4b92-9ae9-1ca7f07714a4\",\"type\":\"CategoricalTicker\"}},\"id\":\"e6b5273a-7d75-4da2-b002-158d7929b942\",\"type\":\"Grid\"},{\"attributes\":{},\"id\":\"7220878f-c33b-47f3-a3db-69318cbc4756\",\"type\":\"HelpTool\"},{\"attributes\":{},\"id\":\"8df91422-c46a-40f9-97ad-ae6b71b1145f\",\"type\":\"BasicTickFormatter\"},{\"attributes\":{},\"id\":\"d5fd313a-f489-4b2b-894b-165ed9254bb0\",\"type\":\"BasicTicker\"},{\"attributes\":{},\"id\":\"3dfd090a-2793-4b92-9ae9-1ca7f07714a4\",\"type\":\"CategoricalTicker\"},{\"attributes\":{},\"id\":\"e7e7c15d-75c7-4d5e-8d8f-326b3e9b9ca1\",\"type\":\"SaveTool\"},{\"attributes\":{\"level\":\"glyph\",\"plot\":{\"id\":\"30c2020a-e814-4dce-a2a7-cee853283628\",\"subtype\":\"Figure\",\"type\":\"Plot\"},\"source\":{\"id\":\"8be3f6c6-c45e-454d-8720-deac2dd0e05d\",\"type\":\"ColumnDataSource\"},\"text\":{\"field\":\"x\"},\"text_font_size\":{\"value\":\"8pt\"},\"x\":{\"field\":\"x\"},\"x_offset\":{\"value\":10},\"y\":{\"field\":\"y\"},\"y_offset\":{\"value\":-12}},\"id\":\"d932f402-e04d-47bf-a642-fc5adb70aaf7\",\"type\":\"LabelSet\"},{\"attributes\":{\"callback\":null,\"factors\":[\"Not LGBTQ\",\"LGBTQ\",\"Prefer not to say\"]},\"id\":\"b990f8f3-313d-4c40-b90b-405240819ef6\",\"type\":\"FactorRange\"},{\"attributes\":{\"data_source\":{\"id\":\"8be3f6c6-c45e-454d-8720-deac2dd0e05d\",\"type\":\"ColumnDataSource\"},\"glyph\":{\"id\":\"6026ca4c-68ed-43d8-84a9-5a6edbeb41ad\",\"type\":\"HBar\"},\"hover_glyph\":null,\"muted_glyph\":null,\"nonselection_glyph\":{\"id\":\"4513f191-4890-46af-ae5d-b25897014bca\",\"type\":\"HBar\"},\"selection_glyph\":null,\"view\":{\"id\":\"fd62f5ec-f86e-455b-85e8-da62a91e2e87\",\"type\":\"CDSView\"}},\"id\":\"86a6b381-ee99-43cf-ac82-6e5891201ff8\",\"type\":\"GlyphRenderer\"},{\"attributes\":{},\"id\":\"e0292cbc-b246-4ded-a0c8-68029634753f\",\"type\":\"CategoricalTickFormatter\"},{\"attributes\":{\"active_drag\":\"auto\",\"active_inspect\":\"auto\",\"active_scroll\":\"auto\",\"active_tap\":\"auto\",\"tools\":[{\"id\":\"56102087-9700-4776-9d6d-06b9e7b74fd3\",\"type\":\"PanTool\"},{\"id\":\"ccab9a73-b86b-43be-b6ed-9ba45b8b286c\",\"type\":\"WheelZoomTool\"},{\"id\":\"3df9efdf-c836-4fdf-8b6f-31d078a07b10\",\"type\":\"BoxZoomTool\"},{\"id\":\"e7e7c15d-75c7-4d5e-8d8f-326b3e9b9ca1\",\"type\":\"SaveTool\"},{\"id\":\"c1f2cb48-79ad-4c27-8fcb-a27dfe97e63f\",\"type\":\"ResetTool\"},{\"id\":\"7220878f-c33b-47f3-a3db-69318cbc4756\",\"type\":\"HelpTool\"}]},\"id\":\"a5580860-6cf9-4543-a3d1-ea1b2e825dd9\",\"type\":\"Toolbar\"},{\"attributes\":{\"below\":[{\"id\":\"e6b9eab6-3c48-45df-ba6d-f516fc317238\",\"type\":\"LinearAxis\"}],\"left\":[{\"id\":\"66350b1f-6ae8-4f08-971c-3804da51ff13\",\"type\":\"CategoricalAxis\"}],\"min_border_right\":50,\"output_backend\":\"svg\",\"plot_height\":900,\"plot_width\":1400,\"renderers\":[{\"id\":\"e6b9eab6-3c48-45df-ba6d-f516fc317238\",\"type\":\"LinearAxis\"},{\"id\":\"70904ddd-8d48-4180-8577-75404c72e966\",\"type\":\"Grid\"},{\"id\":\"66350b1f-6ae8-4f08-971c-3804da51ff13\",\"type\":\"CategoricalAxis\"},{\"id\":\"e6b5273a-7d75-4da2-b002-158d7929b942\",\"type\":\"Grid\"},{\"id\":\"4a787931-bf1a-47ce-99ba-532765f93bac\",\"type\":\"BoxAnnotation\"},{\"id\":\"86a6b381-ee99-43cf-ac82-6e5891201ff8\",\"type\":\"GlyphRenderer\"},{\"id\":\"ee5c65b8-961c-4369-91e0-7ed5eec4a06d\",\"type\":\"LabelSet\"},{\"id\":\"d932f402-e04d-47bf-a642-fc5adb70aaf7\",\"type\":\"LabelSet\"}],\"title\":{\"id\":\"6687b1bf-5d9d-46a5-b1a8-ea4b4ce3d55a\",\"type\":\"Title\"},\"toolbar\":{\"id\":\"a5580860-6cf9-4543-a3d1-ea1b2e825dd9\",\"type\":\"Toolbar\"},\"x_range\":{\"id\":\"15494b99-b1e6-4390-b27b-eb154ac1b4e7\",\"type\":\"Range1d\"},\"x_scale\":{\"id\":\"81fbe04d-e640-4375-96e4-3a894b50319e\",\"type\":\"LinearScale\"},\"y_range\":{\"id\":\"b990f8f3-313d-4c40-b90b-405240819ef6\",\"type\":\"FactorRange\"},\"y_scale\":{\"id\":\"67e6455c-0606-4e62-b7ca-5cfc5c101696\",\"type\":\"CategoricalScale\"}},\"id\":\"30c2020a-e814-4dce-a2a7-cee853283628\",\"subtype\":\"Figure\",\"type\":\"Plot\"},{\"attributes\":{\"level\":\"glyph\",\"plot\":{\"id\":\"30c2020a-e814-4dce-a2a7-cee853283628\",\"subtype\":\"Figure\",\"type\":\"Plot\"},\"source\":{\"id\":\"8be3f6c6-c45e-454d-8720-deac2dd0e05d\",\"type\":\"ColumnDataSource\"},\"text\":{\"field\":\"pct\"},\"text_font_size\":{\"value\":\"8pt\"},\"x\":{\"field\":\"x\"},\"x_offset\":{\"value\":10},\"y\":{\"field\":\"y\"},\"y_offset\":{\"value\":2}},\"id\":\"ee5c65b8-961c-4369-91e0-7ed5eec4a06d\",\"type\":\"LabelSet\"},{\"attributes\":{},\"id\":\"c1f2cb48-79ad-4c27-8fcb-a27dfe97e63f\",\"type\":\"ResetTool\"},{\"attributes\":{\"fill_color\":{\"value\":\"#1f77b4\"},\"height\":{\"value\":0.75},\"line_color\":{\"value\":\"#1f77b4\"},\"right\":{\"field\":\"x\"},\"y\":{\"field\":\"y\"}},\"id\":\"6026ca4c-68ed-43d8-84a9-5a6edbeb41ad\",\"type\":\"HBar\"},{\"attributes\":{},\"id\":\"ccab9a73-b86b-43be-b6ed-9ba45b8b286c\",\"type\":\"WheelZoomTool\"},{\"attributes\":{\"plot\":null,\"text\":\"AIGA-Only: I consider myself:\"},\"id\":\"6687b1bf-5d9d-46a5-b1a8-ea4b4ce3d55a\",\"type\":\"Title\"},{\"attributes\":{\"axis_label\":\"Respondents\",\"formatter\":{\"id\":\"8df91422-c46a-40f9-97ad-ae6b71b1145f\",\"type\":\"BasicTickFormatter\"},\"plot\":{\"id\":\"30c2020a-e814-4dce-a2a7-cee853283628\",\"subtype\":\"Figure\",\"type\":\"Plot\"},\"ticker\":{\"id\":\"d5fd313a-f489-4b2b-894b-165ed9254bb0\",\"type\":\"BasicTicker\"}},\"id\":\"e6b9eab6-3c48-45df-ba6d-f516fc317238\",\"type\":\"LinearAxis\"},{\"attributes\":{\"source\":{\"id\":\"8be3f6c6-c45e-454d-8720-deac2dd0e05d\",\"type\":\"ColumnDataSource\"}},\"id\":\"fd62f5ec-f86e-455b-85e8-da62a91e2e87\",\"type\":\"CDSView\"},{\"attributes\":{},\"id\":\"56102087-9700-4776-9d6d-06b9e7b74fd3\",\"type\":\"PanTool\"},{\"attributes\":{\"fill_alpha\":{\"value\":0.1},\"fill_color\":{\"value\":\"#1f77b4\"},\"height\":{\"value\":0.75},\"line_alpha\":{\"value\":0.1},\"line_color\":{\"value\":\"#1f77b4\"},\"right\":{\"field\":\"x\"},\"y\":{\"field\":\"y\"}},\"id\":\"4513f191-4890-46af-ae5d-b25897014bca\",\"type\":\"HBar\"},{\"attributes\":{\"bottom_units\":\"screen\",\"fill_alpha\":{\"value\":0.5},\"fill_color\":{\"value\":\"lightgrey\"},\"left_units\":\"screen\",\"level\":\"overlay\",\"line_alpha\":{\"value\":1.0},\"line_color\":{\"value\":\"black\"},\"line_dash\":[4,4],\"line_width\":{\"value\":2},\"plot\":null,\"render_mode\":\"css\",\"right_units\":\"screen\",\"top_units\":\"screen\"},\"id\":\"4a787931-bf1a-47ce-99ba-532765f93bac\",\"type\":\"BoxAnnotation\"},{\"attributes\":{\"callback\":null,\"column_names\":[\"y\",\"x\",\"pct\"],\"data\":{\"pct\":[\"81.80%\",\"11.88%\",\"6.32%\"],\"x\":[3794,551,293],\"y\":[\"Not LGBTQ\",\"LGBTQ\",\"Prefer not to say\"]}},\"id\":\"8be3f6c6-c45e-454d-8720-deac2dd0e05d\",\"type\":\"ColumnDataSource\"},{\"attributes\":{\"overlay\":{\"id\":\"4a787931-bf1a-47ce-99ba-532765f93bac\",\"type\":\"BoxAnnotation\"}},\"id\":\"3df9efdf-c836-4fdf-8b6f-31d078a07b10\",\"type\":\"BoxZoomTool\"},{\"attributes\":{},\"id\":\"81fbe04d-e640-4375-96e4-3a894b50319e\",\"type\":\"LinearScale\"},{\"attributes\":{\"plot\":{\"id\":\"30c2020a-e814-4dce-a2a7-cee853283628\",\"subtype\":\"Figure\",\"type\":\"Plot\"},\"ticker\":{\"id\":\"d5fd313a-f489-4b2b-894b-165ed9254bb0\",\"type\":\"BasicTicker\"}},\"id\":\"70904ddd-8d48-4180-8577-75404c72e966\",\"type\":\"Grid\"},{\"attributes\":{},\"id\":\"67e6455c-0606-4e62-b7ca-5cfc5c101696\",\"type\":\"CategoricalScale\"},{\"attributes\":{\"callback\":null,\"end\":4612.8},\"id\":\"15494b99-b1e6-4390-b27b-eb154ac1b4e7\",\"type\":\"Range1d\"}],\"root_ids\":[\"30c2020a-e814-4dce-a2a7-cee853283628\"]},\"title\":\"Bokeh Application\",\"version\":\"0.12.13\"}};\n",
              "  var render_items = [{\"docid\":\"fa4d2c71-9216-4a33-a0e9-81a8f621d8e1\",\"elementid\":\"3237c5fd-641e-40b0-b0b1-77749deae189\",\"modelid\":\"30c2020a-e814-4dce-a2a7-cee853283628\"}];\n",
              "  root.Bokeh.embed.embed_items_notebook(docs_json, render_items);\n",
              "\n",
              "  }\n",
              "  if (root.Bokeh !== undefined) {\n",
              "    embed_document(root);\n",
              "  } else {\n",
              "    var attempts = 0;\n",
              "    var timer = setInterval(function(root) {\n",
              "      if (root.Bokeh !== undefined) {\n",
              "        embed_document(root);\n",
              "        clearInterval(timer);\n",
              "      }\n",
              "      attempts++;\n",
              "      if (attempts > 100) {\n",
              "        console.log(\"Bokeh: ERROR: Unable to run BokehJS code because BokehJS library is missing\")\n",
              "        clearInterval(timer);\n",
              "      }\n",
              "    }, 10, root)\n",
              "  }\n",
              "})(window);"
            ],
            "application/vnd.bokehjs_exec.v0+json": ""
          },
          "metadata": {
            "application/vnd.bokehjs_exec.v0+json": {
              "id": "30c2020a-e814-4dce-a2a7-cee853283628"
            }
          }
        },
        {
          "output_type": "display_data",
          "data": {
            "text/html": [
              "\n",
              "<div class=\"bk-root\">\n",
              "    <div class=\"bk-plotdiv\" id=\"715d521b-de89-4235-9e31-3072ec4ba6ce\"></div>\n",
              "</div>"
            ]
          },
          "metadata": {}
        },
        {
          "output_type": "display_data",
          "data": {
            "application/javascript": [
              "(function(root) {\n",
              "  function embed_document(root) {\n",
              "    \n",
              "  var docs_json = {\"6031f3cb-394f-4e11-94ec-e41aaec12815\":{\"roots\":{\"references\":[{\"attributes\":{\"level\":\"glyph\",\"plot\":{\"id\":\"ece08a43-6a92-437c-b3f8-1d49970e0c13\",\"subtype\":\"Figure\",\"type\":\"Plot\"},\"source\":{\"id\":\"5ef51a2a-1c53-4fb1-815f-6f122b18c4d6\",\"type\":\"ColumnDataSource\"},\"text\":{\"field\":\"x\"},\"text_font_size\":{\"value\":\"8pt\"},\"x\":{\"field\":\"x\"},\"x_offset\":{\"value\":10},\"y\":{\"field\":\"y\"},\"y_offset\":{\"value\":-12}},\"id\":\"5c901e0b-84c7-49f9-a36f-146f1a3a10f5\",\"type\":\"LabelSet\"},{\"attributes\":{},\"id\":\"75554653-5200-4cb2-9673-c85a724788e8\",\"type\":\"CategoricalScale\"},{\"attributes\":{\"plot\":{\"id\":\"ece08a43-6a92-437c-b3f8-1d49970e0c13\",\"subtype\":\"Figure\",\"type\":\"Plot\"},\"ticker\":{\"id\":\"4c83c369-d4f4-47da-96c5-91edd049cd96\",\"type\":\"BasicTicker\"}},\"id\":\"216e18ef-1872-4c38-aee5-9a3096ce4ede\",\"type\":\"Grid\"},{\"attributes\":{\"level\":\"glyph\",\"plot\":{\"id\":\"ece08a43-6a92-437c-b3f8-1d49970e0c13\",\"subtype\":\"Figure\",\"type\":\"Plot\"},\"source\":{\"id\":\"5ef51a2a-1c53-4fb1-815f-6f122b18c4d6\",\"type\":\"ColumnDataSource\"},\"text\":{\"field\":\"pct\"},\"text_font_size\":{\"value\":\"8pt\"},\"x\":{\"field\":\"x\"},\"x_offset\":{\"value\":10},\"y\":{\"field\":\"y\"},\"y_offset\":{\"value\":2}},\"id\":\"1b6af9a3-5d7f-43cd-a08f-2ae9c9c3accb\",\"type\":\"LabelSet\"},{\"attributes\":{\"below\":[{\"id\":\"254890fd-064d-4598-bc55-188e4528968f\",\"type\":\"LinearAxis\"}],\"left\":[{\"id\":\"55a318e4-ba29-4ea6-8734-3e2481f715a6\",\"type\":\"CategoricalAxis\"}],\"min_border_right\":50,\"output_backend\":\"svg\",\"plot_height\":900,\"plot_width\":1400,\"renderers\":[{\"id\":\"254890fd-064d-4598-bc55-188e4528968f\",\"type\":\"LinearAxis\"},{\"id\":\"216e18ef-1872-4c38-aee5-9a3096ce4ede\",\"type\":\"Grid\"},{\"id\":\"55a318e4-ba29-4ea6-8734-3e2481f715a6\",\"type\":\"CategoricalAxis\"},{\"id\":\"7c9af8d7-b341-4b83-aa49-11a346725a59\",\"type\":\"Grid\"},{\"id\":\"cb666c44-15c0-45a0-b218-01950cf69fb1\",\"type\":\"BoxAnnotation\"},{\"id\":\"73021699-cc09-45b0-8f66-3f72d791fc9e\",\"type\":\"GlyphRenderer\"},{\"id\":\"1b6af9a3-5d7f-43cd-a08f-2ae9c9c3accb\",\"type\":\"LabelSet\"},{\"id\":\"5c901e0b-84c7-49f9-a36f-146f1a3a10f5\",\"type\":\"LabelSet\"}],\"title\":{\"id\":\"a93bc368-d6df-4bf9-a8a1-7bb58b4f700f\",\"type\":\"Title\"},\"toolbar\":{\"id\":\"a025013c-218f-4bfa-9615-9768b79c248c\",\"type\":\"Toolbar\"},\"x_range\":{\"id\":\"72119013-a94c-4ad7-815e-3b76b97e7f5f\",\"type\":\"Range1d\"},\"x_scale\":{\"id\":\"dd60ca40-1430-458c-97a4-8b09a53b75bd\",\"type\":\"LinearScale\"},\"y_range\":{\"id\":\"1ef2d7a7-367e-462f-9b0c-b62aed0ba59c\",\"type\":\"FactorRange\"},\"y_scale\":{\"id\":\"75554653-5200-4cb2-9673-c85a724788e8\",\"type\":\"CategoricalScale\"}},\"id\":\"ece08a43-6a92-437c-b3f8-1d49970e0c13\",\"subtype\":\"Figure\",\"type\":\"Plot\"},{\"attributes\":{},\"id\":\"6d679f00-2049-4d67-8f6d-1071de16eb71\",\"type\":\"PanTool\"},{\"attributes\":{\"axis_label\":\"Respondents\",\"formatter\":{\"id\":\"a4d8d78e-02ff-4462-a441-d90fc49eec6c\",\"type\":\"BasicTickFormatter\"},\"plot\":{\"id\":\"ece08a43-6a92-437c-b3f8-1d49970e0c13\",\"subtype\":\"Figure\",\"type\":\"Plot\"},\"ticker\":{\"id\":\"4c83c369-d4f4-47da-96c5-91edd049cd96\",\"type\":\"BasicTicker\"}},\"id\":\"254890fd-064d-4598-bc55-188e4528968f\",\"type\":\"LinearAxis\"},{\"attributes\":{},\"id\":\"dd60ca40-1430-458c-97a4-8b09a53b75bd\",\"type\":\"LinearScale\"},{\"attributes\":{},\"id\":\"f628a03b-febd-4153-a62e-b2a802936c1e\",\"type\":\"WheelZoomTool\"},{\"attributes\":{},\"id\":\"4c83c369-d4f4-47da-96c5-91edd049cd96\",\"type\":\"BasicTicker\"},{\"attributes\":{},\"id\":\"6e972ca8-4645-412e-ad11-9e03cfc767d9\",\"type\":\"ResetTool\"},{\"attributes\":{\"active_drag\":\"auto\",\"active_inspect\":\"auto\",\"active_scroll\":\"auto\",\"active_tap\":\"auto\",\"tools\":[{\"id\":\"6d679f00-2049-4d67-8f6d-1071de16eb71\",\"type\":\"PanTool\"},{\"id\":\"f628a03b-febd-4153-a62e-b2a802936c1e\",\"type\":\"WheelZoomTool\"},{\"id\":\"fdc3a63f-6bf4-44d1-8890-55ee116eba0e\",\"type\":\"BoxZoomTool\"},{\"id\":\"88af0c2e-c996-411e-a16b-335a0ff3f8cc\",\"type\":\"SaveTool\"},{\"id\":\"6e972ca8-4645-412e-ad11-9e03cfc767d9\",\"type\":\"ResetTool\"},{\"id\":\"d6ba5cf0-9c3c-44ad-a608-ce57f375db02\",\"type\":\"HelpTool\"}]},\"id\":\"a025013c-218f-4bfa-9615-9768b79c248c\",\"type\":\"Toolbar\"},{\"attributes\":{},\"id\":\"88af0c2e-c996-411e-a16b-335a0ff3f8cc\",\"type\":\"SaveTool\"},{\"attributes\":{\"callback\":null,\"end\":4410.0},\"id\":\"72119013-a94c-4ad7-815e-3b76b97e7f5f\",\"type\":\"Range1d\"},{\"attributes\":{\"data_source\":{\"id\":\"5ef51a2a-1c53-4fb1-815f-6f122b18c4d6\",\"type\":\"ColumnDataSource\"},\"glyph\":{\"id\":\"a02b9342-23c4-40e1-9a19-1d971d58c200\",\"type\":\"HBar\"},\"hover_glyph\":null,\"muted_glyph\":null,\"nonselection_glyph\":{\"id\":\"410b8f6e-f0c1-43e4-bf73-c96c07e98581\",\"type\":\"HBar\"},\"selection_glyph\":null,\"view\":{\"id\":\"6cd9ff22-5950-455c-ad0d-c9957de01d3c\",\"type\":\"CDSView\"}},\"id\":\"73021699-cc09-45b0-8f66-3f72d791fc9e\",\"type\":\"GlyphRenderer\"},{\"attributes\":{\"callback\":null,\"column_names\":[\"y\",\"x\",\"pct\"],\"data\":{\"pct\":[\"78.16%\",\"9.75%\",\"9.47%\",\"4.10%\",\"2.50%\",\"1.68%\",\"1.51%\",\"1.16%\"],\"x\":[3625,452,439,190,116,78,70,54],\"y\":[\"White or Caucasian\",\"Asian\",\"Latina, Latino, Latinx, or Hispanic\",\"Black or African American\",\"Other\",\"Prefer not to say\",\"Native American, First Nations, or First People\",\"Native Hawaiian or Pacific Islander\"]}},\"id\":\"5ef51a2a-1c53-4fb1-815f-6f122b18c4d6\",\"type\":\"ColumnDataSource\"},{\"attributes\":{},\"id\":\"d6ba5cf0-9c3c-44ad-a608-ce57f375db02\",\"type\":\"HelpTool\"},{\"attributes\":{\"overlay\":{\"id\":\"cb666c44-15c0-45a0-b218-01950cf69fb1\",\"type\":\"BoxAnnotation\"}},\"id\":\"fdc3a63f-6bf4-44d1-8890-55ee116eba0e\",\"type\":\"BoxZoomTool\"},{\"attributes\":{},\"id\":\"a4d8d78e-02ff-4462-a441-d90fc49eec6c\",\"type\":\"BasicTickFormatter\"},{\"attributes\":{\"callback\":null,\"factors\":[\"White or Caucasian\",\"Asian\",\"Latina, Latino, Latinx, or Hispanic\",\"Black or African American\",\"Other\",\"Prefer not to say\",\"Native American, First Nations, or First People\",\"Native Hawaiian or Pacific Islander\"]},\"id\":\"1ef2d7a7-367e-462f-9b0c-b62aed0ba59c\",\"type\":\"FactorRange\"},{\"attributes\":{\"bottom_units\":\"screen\",\"fill_alpha\":{\"value\":0.5},\"fill_color\":{\"value\":\"lightgrey\"},\"left_units\":\"screen\",\"level\":\"overlay\",\"line_alpha\":{\"value\":1.0},\"line_color\":{\"value\":\"black\"},\"line_dash\":[4,4],\"line_width\":{\"value\":2},\"plot\":null,\"render_mode\":\"css\",\"right_units\":\"screen\",\"top_units\":\"screen\"},\"id\":\"cb666c44-15c0-45a0-b218-01950cf69fb1\",\"type\":\"BoxAnnotation\"},{\"attributes\":{\"fill_alpha\":{\"value\":0.1},\"fill_color\":{\"value\":\"#1f77b4\"},\"height\":{\"value\":0.75},\"line_alpha\":{\"value\":0.1},\"line_color\":{\"value\":\"#1f77b4\"},\"right\":{\"field\":\"x\"},\"y\":{\"field\":\"y\"}},\"id\":\"410b8f6e-f0c1-43e4-bf73-c96c07e98581\",\"type\":\"HBar\"},{\"attributes\":{\"dimension\":1,\"plot\":{\"id\":\"ece08a43-6a92-437c-b3f8-1d49970e0c13\",\"subtype\":\"Figure\",\"type\":\"Plot\"},\"ticker\":{\"id\":\"b1c3e47f-9cf8-4b0a-82ec-103f68b8646f\",\"type\":\"CategoricalTicker\"}},\"id\":\"7c9af8d7-b341-4b83-aa49-11a346725a59\",\"type\":\"Grid\"},{\"attributes\":{},\"id\":\"fac2b809-554b-40d5-96e5-fc1a6d5ccf22\",\"type\":\"CategoricalTickFormatter\"},{\"attributes\":{\"source\":{\"id\":\"5ef51a2a-1c53-4fb1-815f-6f122b18c4d6\",\"type\":\"ColumnDataSource\"}},\"id\":\"6cd9ff22-5950-455c-ad0d-c9957de01d3c\",\"type\":\"CDSView\"},{\"attributes\":{\"fill_color\":{\"value\":\"#1f77b4\"},\"height\":{\"value\":0.75},\"line_color\":{\"value\":\"#1f77b4\"},\"right\":{\"field\":\"x\"},\"y\":{\"field\":\"y\"}},\"id\":\"a02b9342-23c4-40e1-9a19-1d971d58c200\",\"type\":\"HBar\"},{\"attributes\":{\"plot\":null,\"text\":\"AIGA-Only: My ethnicity is:\"},\"id\":\"a93bc368-d6df-4bf9-a8a1-7bb58b4f700f\",\"type\":\"Title\"},{\"attributes\":{\"axis_label\":\"Categories\",\"formatter\":{\"id\":\"fac2b809-554b-40d5-96e5-fc1a6d5ccf22\",\"type\":\"CategoricalTickFormatter\"},\"plot\":{\"id\":\"ece08a43-6a92-437c-b3f8-1d49970e0c13\",\"subtype\":\"Figure\",\"type\":\"Plot\"},\"ticker\":{\"id\":\"b1c3e47f-9cf8-4b0a-82ec-103f68b8646f\",\"type\":\"CategoricalTicker\"}},\"id\":\"55a318e4-ba29-4ea6-8734-3e2481f715a6\",\"type\":\"CategoricalAxis\"},{\"attributes\":{},\"id\":\"b1c3e47f-9cf8-4b0a-82ec-103f68b8646f\",\"type\":\"CategoricalTicker\"}],\"root_ids\":[\"ece08a43-6a92-437c-b3f8-1d49970e0c13\"]},\"title\":\"Bokeh Application\",\"version\":\"0.12.13\"}};\n",
              "  var render_items = [{\"docid\":\"6031f3cb-394f-4e11-94ec-e41aaec12815\",\"elementid\":\"715d521b-de89-4235-9e31-3072ec4ba6ce\",\"modelid\":\"ece08a43-6a92-437c-b3f8-1d49970e0c13\"}];\n",
              "  root.Bokeh.embed.embed_items_notebook(docs_json, render_items);\n",
              "\n",
              "  }\n",
              "  if (root.Bokeh !== undefined) {\n",
              "    embed_document(root);\n",
              "  } else {\n",
              "    var attempts = 0;\n",
              "    var timer = setInterval(function(root) {\n",
              "      if (root.Bokeh !== undefined) {\n",
              "        embed_document(root);\n",
              "        clearInterval(timer);\n",
              "      }\n",
              "      attempts++;\n",
              "      if (attempts > 100) {\n",
              "        console.log(\"Bokeh: ERROR: Unable to run BokehJS code because BokehJS library is missing\")\n",
              "        clearInterval(timer);\n",
              "      }\n",
              "    }, 10, root)\n",
              "  }\n",
              "})(window);"
            ],
            "application/vnd.bokehjs_exec.v0+json": ""
          },
          "metadata": {
            "application/vnd.bokehjs_exec.v0+json": {
              "id": "ece08a43-6a92-437c-b3f8-1d49970e0c13"
            }
          }
        },
        {
          "output_type": "display_data",
          "data": {
            "text/html": [
              "\n",
              "<div class=\"bk-root\">\n",
              "    <div class=\"bk-plotdiv\" id=\"ccd478be-e3b6-4d44-8e12-dd6f8b842809\"></div>\n",
              "</div>"
            ]
          },
          "metadata": {}
        },
        {
          "output_type": "display_data",
          "data": {
            "application/javascript": [
              "(function(root) {\n",
              "  function embed_document(root) {\n",
              "    \n",
              "  var docs_json = {\"a5d41853-8dbf-4dd9-ac8a-b4ae38a6a354\":{\"roots\":{\"references\":[{\"attributes\":{\"callback\":null,\"factors\":[\"Design not having a \\\"seat at the table\\\"\",\"Diversity in design and tech\",\"Education cost and equity of access\",\"Ethics in design\",\"Consumer vs. social impact focus\",\"Generational differences in the workforce\",\"Environmental impacts of design\",\"Algorithm bias\",\"Advertising supported content model\",\"Human-machine interface limitations\",\"Dark UX patterns\",\"Machine ethics\",\"Software complexity\",\"Trademark and patent issues\",\"None of these\"]},\"id\":\"220d916e-c721-4727-b096-0792e977e458\",\"type\":\"FactorRange\"},{\"attributes\":{\"overlay\":{\"id\":\"a2f6de96-b239-4566-844d-7c216d542d84\",\"type\":\"BoxAnnotation\"}},\"id\":\"2a955bc1-8124-45a9-af71-a9e137ce0ce9\",\"type\":\"BoxZoomTool\"},{\"attributes\":{\"active_drag\":\"auto\",\"active_inspect\":\"auto\",\"active_scroll\":\"auto\",\"active_tap\":\"auto\",\"tools\":[{\"id\":\"4091422d-f85d-4368-88e0-0baf45b94ae8\",\"type\":\"PanTool\"},{\"id\":\"b496695e-46f6-4d1a-af0c-6e1de5db602e\",\"type\":\"WheelZoomTool\"},{\"id\":\"2a955bc1-8124-45a9-af71-a9e137ce0ce9\",\"type\":\"BoxZoomTool\"},{\"id\":\"876b2c66-1e6b-4cc1-b028-d1a3c7b3295a\",\"type\":\"SaveTool\"},{\"id\":\"5ae63875-019a-4651-964a-5fd8ace95c3f\",\"type\":\"ResetTool\"},{\"id\":\"4b3ade35-aa85-4001-805f-28243708fa87\",\"type\":\"HelpTool\"}]},\"id\":\"5608d97b-0956-4125-a667-48f2a2e217a5\",\"type\":\"Toolbar\"},{\"attributes\":{},\"id\":\"4091422d-f85d-4368-88e0-0baf45b94ae8\",\"type\":\"PanTool\"},{\"attributes\":{\"level\":\"glyph\",\"plot\":{\"id\":\"c6426379-cfaa-43d7-8db9-e03fceea74a9\",\"subtype\":\"Figure\",\"type\":\"Plot\"},\"source\":{\"id\":\"a472aa86-3468-4b50-99b9-ed1739782a2f\",\"type\":\"ColumnDataSource\"},\"text\":{\"field\":\"x\"},\"text_font_size\":{\"value\":\"8pt\"},\"x\":{\"field\":\"x\"},\"x_offset\":{\"value\":10},\"y\":{\"field\":\"y\"},\"y_offset\":{\"value\":-12}},\"id\":\"74b7fe44-e6fb-485b-a2d7-3c0af9a22d45\",\"type\":\"LabelSet\"},{\"attributes\":{},\"id\":\"9a9b6ce1-e3d9-49ef-adba-ec6ec7cb47af\",\"type\":\"CategoricalTickFormatter\"},{\"attributes\":{\"callback\":null,\"column_names\":[\"y\",\"x\",\"pct\"],\"data\":{\"pct\":[\"50.58%\",\"45.45%\",\"40.21%\",\"38.87%\",\"32.79%\",\"32.38%\",\"29.06%\",\"15.01%\",\"13.84%\",\"11.58%\",\"10.67%\",\"10.03%\",\"9.10%\",\"9.10%\",\"4.01%\"],\"x\":[2346,2108,1865,1803,1521,1502,1348,696,642,537,495,465,422,422,186],\"y\":[\"Design not having a \\\"seat at the table\\\"\",\"Diversity in design and tech\",\"Education cost and equity of access\",\"Ethics in design\",\"Consumer vs. social impact focus\",\"Generational differences in the workforce\",\"Environmental impacts of design\",\"Algorithm bias\",\"Advertising supported content model\",\"Human-machine interface limitations\",\"Dark UX patterns\",\"Machine ethics\",\"Software complexity\",\"Trademark and patent issues\",\"None of these\"]}},\"id\":\"a472aa86-3468-4b50-99b9-ed1739782a2f\",\"type\":\"ColumnDataSource\"},{\"attributes\":{},\"id\":\"b496695e-46f6-4d1a-af0c-6e1de5db602e\",\"type\":\"WheelZoomTool\"},{\"attributes\":{\"bottom_units\":\"screen\",\"fill_alpha\":{\"value\":0.5},\"fill_color\":{\"value\":\"lightgrey\"},\"left_units\":\"screen\",\"level\":\"overlay\",\"line_alpha\":{\"value\":1.0},\"line_color\":{\"value\":\"black\"},\"line_dash\":[4,4],\"line_width\":{\"value\":2},\"plot\":null,\"render_mode\":\"css\",\"right_units\":\"screen\",\"top_units\":\"screen\"},\"id\":\"a2f6de96-b239-4566-844d-7c216d542d84\",\"type\":\"BoxAnnotation\"},{\"attributes\":{\"callback\":null,\"end\":2875.2},\"id\":\"4857257f-aea4-4668-9342-21759f8e6f0b\",\"type\":\"Range1d\"},{\"attributes\":{\"axis_label\":\"Respondents\",\"formatter\":{\"id\":\"c602d33d-6df8-45a4-8479-c9a6a57ee385\",\"type\":\"BasicTickFormatter\"},\"plot\":{\"id\":\"c6426379-cfaa-43d7-8db9-e03fceea74a9\",\"subtype\":\"Figure\",\"type\":\"Plot\"},\"ticker\":{\"id\":\"bdcd5d9a-238a-40cf-9cc2-1c52289493f2\",\"type\":\"BasicTicker\"}},\"id\":\"ba3d8260-8546-468a-9e90-87a5df438f1a\",\"type\":\"LinearAxis\"},{\"attributes\":{\"data_source\":{\"id\":\"a472aa86-3468-4b50-99b9-ed1739782a2f\",\"type\":\"ColumnDataSource\"},\"glyph\":{\"id\":\"44dff530-5e20-4e44-bcc6-875f3307824a\",\"type\":\"HBar\"},\"hover_glyph\":null,\"muted_glyph\":null,\"nonselection_glyph\":{\"id\":\"87920a56-e7cd-4963-b787-a11365d5bb5c\",\"type\":\"HBar\"},\"selection_glyph\":null,\"view\":{\"id\":\"1dcfb6d8-5e00-46dd-8c92-859070fbde79\",\"type\":\"CDSView\"}},\"id\":\"4985993a-ed9a-4e31-95b2-862320232f07\",\"type\":\"GlyphRenderer\"},{\"attributes\":{\"below\":[{\"id\":\"ba3d8260-8546-468a-9e90-87a5df438f1a\",\"type\":\"LinearAxis\"}],\"left\":[{\"id\":\"e3fc695d-0469-46be-adc7-f560ed396ab3\",\"type\":\"CategoricalAxis\"}],\"min_border_right\":50,\"output_backend\":\"svg\",\"plot_height\":900,\"plot_width\":1400,\"renderers\":[{\"id\":\"ba3d8260-8546-468a-9e90-87a5df438f1a\",\"type\":\"LinearAxis\"},{\"id\":\"d6a71d2a-5d47-490e-8861-c90dbe543651\",\"type\":\"Grid\"},{\"id\":\"e3fc695d-0469-46be-adc7-f560ed396ab3\",\"type\":\"CategoricalAxis\"},{\"id\":\"5c3c9082-0561-46b6-93e4-ab5246433dc2\",\"type\":\"Grid\"},{\"id\":\"a2f6de96-b239-4566-844d-7c216d542d84\",\"type\":\"BoxAnnotation\"},{\"id\":\"4985993a-ed9a-4e31-95b2-862320232f07\",\"type\":\"GlyphRenderer\"},{\"id\":\"b828a5f0-3177-4038-9d95-5f874bd6726d\",\"type\":\"LabelSet\"},{\"id\":\"74b7fe44-e6fb-485b-a2d7-3c0af9a22d45\",\"type\":\"LabelSet\"}],\"title\":{\"id\":\"2d162aab-9dca-4ac1-81d0-254f2d1608a8\",\"type\":\"Title\"},\"toolbar\":{\"id\":\"5608d97b-0956-4125-a667-48f2a2e217a5\",\"type\":\"Toolbar\"},\"x_range\":{\"id\":\"4857257f-aea4-4668-9342-21759f8e6f0b\",\"type\":\"Range1d\"},\"x_scale\":{\"id\":\"1063ca3c-de7d-4357-9a79-28ddb702d7fc\",\"type\":\"LinearScale\"},\"y_range\":{\"id\":\"220d916e-c721-4727-b096-0792e977e458\",\"type\":\"FactorRange\"},\"y_scale\":{\"id\":\"851d40c6-9c4a-4473-a3f9-6e49620f4ad3\",\"type\":\"CategoricalScale\"}},\"id\":\"c6426379-cfaa-43d7-8db9-e03fceea74a9\",\"subtype\":\"Figure\",\"type\":\"Plot\"},{\"attributes\":{},\"id\":\"5ae63875-019a-4651-964a-5fd8ace95c3f\",\"type\":\"ResetTool\"},{\"attributes\":{\"dimension\":1,\"plot\":{\"id\":\"c6426379-cfaa-43d7-8db9-e03fceea74a9\",\"subtype\":\"Figure\",\"type\":\"Plot\"},\"ticker\":{\"id\":\"3ffce2b6-98a9-4fcf-9351-8098d60112d4\",\"type\":\"CategoricalTicker\"}},\"id\":\"5c3c9082-0561-46b6-93e4-ab5246433dc2\",\"type\":\"Grid\"},{\"attributes\":{\"plot\":null,\"text\":\"AIGA-Only: The most critical issues and challenges currently facing design are (answer optional):\"},\"id\":\"2d162aab-9dca-4ac1-81d0-254f2d1608a8\",\"type\":\"Title\"},{\"attributes\":{\"axis_label\":\"Categories\",\"formatter\":{\"id\":\"9a9b6ce1-e3d9-49ef-adba-ec6ec7cb47af\",\"type\":\"CategoricalTickFormatter\"},\"plot\":{\"id\":\"c6426379-cfaa-43d7-8db9-e03fceea74a9\",\"subtype\":\"Figure\",\"type\":\"Plot\"},\"ticker\":{\"id\":\"3ffce2b6-98a9-4fcf-9351-8098d60112d4\",\"type\":\"CategoricalTicker\"}},\"id\":\"e3fc695d-0469-46be-adc7-f560ed396ab3\",\"type\":\"CategoricalAxis\"},{\"attributes\":{\"source\":{\"id\":\"a472aa86-3468-4b50-99b9-ed1739782a2f\",\"type\":\"ColumnDataSource\"}},\"id\":\"1dcfb6d8-5e00-46dd-8c92-859070fbde79\",\"type\":\"CDSView\"},{\"attributes\":{},\"id\":\"4b3ade35-aa85-4001-805f-28243708fa87\",\"type\":\"HelpTool\"},{\"attributes\":{},\"id\":\"851d40c6-9c4a-4473-a3f9-6e49620f4ad3\",\"type\":\"CategoricalScale\"},{\"attributes\":{},\"id\":\"bdcd5d9a-238a-40cf-9cc2-1c52289493f2\",\"type\":\"BasicTicker\"},{\"attributes\":{},\"id\":\"1063ca3c-de7d-4357-9a79-28ddb702d7fc\",\"type\":\"LinearScale\"},{\"attributes\":{\"plot\":{\"id\":\"c6426379-cfaa-43d7-8db9-e03fceea74a9\",\"subtype\":\"Figure\",\"type\":\"Plot\"},\"ticker\":{\"id\":\"bdcd5d9a-238a-40cf-9cc2-1c52289493f2\",\"type\":\"BasicTicker\"}},\"id\":\"d6a71d2a-5d47-490e-8861-c90dbe543651\",\"type\":\"Grid\"},{\"attributes\":{},\"id\":\"c602d33d-6df8-45a4-8479-c9a6a57ee385\",\"type\":\"BasicTickFormatter\"},{\"attributes\":{\"level\":\"glyph\",\"plot\":{\"id\":\"c6426379-cfaa-43d7-8db9-e03fceea74a9\",\"subtype\":\"Figure\",\"type\":\"Plot\"},\"source\":{\"id\":\"a472aa86-3468-4b50-99b9-ed1739782a2f\",\"type\":\"ColumnDataSource\"},\"text\":{\"field\":\"pct\"},\"text_font_size\":{\"value\":\"8pt\"},\"x\":{\"field\":\"x\"},\"x_offset\":{\"value\":10},\"y\":{\"field\":\"y\"},\"y_offset\":{\"value\":2}},\"id\":\"b828a5f0-3177-4038-9d95-5f874bd6726d\",\"type\":\"LabelSet\"},{\"attributes\":{\"fill_color\":{\"value\":\"#1f77b4\"},\"height\":{\"value\":0.75},\"line_color\":{\"value\":\"#1f77b4\"},\"right\":{\"field\":\"x\"},\"y\":{\"field\":\"y\"}},\"id\":\"44dff530-5e20-4e44-bcc6-875f3307824a\",\"type\":\"HBar\"},{\"attributes\":{},\"id\":\"876b2c66-1e6b-4cc1-b028-d1a3c7b3295a\",\"type\":\"SaveTool\"},{\"attributes\":{},\"id\":\"3ffce2b6-98a9-4fcf-9351-8098d60112d4\",\"type\":\"CategoricalTicker\"},{\"attributes\":{\"fill_alpha\":{\"value\":0.1},\"fill_color\":{\"value\":\"#1f77b4\"},\"height\":{\"value\":0.75},\"line_alpha\":{\"value\":0.1},\"line_color\":{\"value\":\"#1f77b4\"},\"right\":{\"field\":\"x\"},\"y\":{\"field\":\"y\"}},\"id\":\"87920a56-e7cd-4963-b787-a11365d5bb5c\",\"type\":\"HBar\"}],\"root_ids\":[\"c6426379-cfaa-43d7-8db9-e03fceea74a9\"]},\"title\":\"Bokeh Application\",\"version\":\"0.12.13\"}};\n",
              "  var render_items = [{\"docid\":\"a5d41853-8dbf-4dd9-ac8a-b4ae38a6a354\",\"elementid\":\"ccd478be-e3b6-4d44-8e12-dd6f8b842809\",\"modelid\":\"c6426379-cfaa-43d7-8db9-e03fceea74a9\"}];\n",
              "  root.Bokeh.embed.embed_items_notebook(docs_json, render_items);\n",
              "\n",
              "  }\n",
              "  if (root.Bokeh !== undefined) {\n",
              "    embed_document(root);\n",
              "  } else {\n",
              "    var attempts = 0;\n",
              "    var timer = setInterval(function(root) {\n",
              "      if (root.Bokeh !== undefined) {\n",
              "        embed_document(root);\n",
              "        clearInterval(timer);\n",
              "      }\n",
              "      attempts++;\n",
              "      if (attempts > 100) {\n",
              "        console.log(\"Bokeh: ERROR: Unable to run BokehJS code because BokehJS library is missing\")\n",
              "        clearInterval(timer);\n",
              "      }\n",
              "    }, 10, root)\n",
              "  }\n",
              "})(window);"
            ],
            "application/vnd.bokehjs_exec.v0+json": ""
          },
          "metadata": {
            "application/vnd.bokehjs_exec.v0+json": {
              "id": "c6426379-cfaa-43d7-8db9-e03fceea74a9"
            }
          }
        },
        {
          "output_type": "display_data",
          "data": {
            "text/html": [
              "\n",
              "<div class=\"bk-root\">\n",
              "    <div class=\"bk-plotdiv\" id=\"6ab37e1b-e47c-44db-aef1-911a6e2e7427\"></div>\n",
              "</div>"
            ]
          },
          "metadata": {}
        },
        {
          "output_type": "display_data",
          "data": {
            "application/javascript": [
              "(function(root) {\n",
              "  function embed_document(root) {\n",
              "    \n",
              "  var docs_json = {\"19c720b1-fbf7-4005-b639-02151731fa06\":{\"roots\":{\"references\":[{\"attributes\":{\"dimension\":1,\"plot\":{\"id\":\"0918b504-4771-42b0-8fa4-352e2e55a239\",\"subtype\":\"Figure\",\"type\":\"Plot\"},\"ticker\":{\"id\":\"a5154db6-e18f-41a7-8305-4bda45627762\",\"type\":\"CategoricalTicker\"}},\"id\":\"aea04340-15bb-4674-b477-72c2231b5d4c\",\"type\":\"Grid\"},{\"attributes\":{\"fill_color\":{\"value\":\"#1f77b4\"},\"height\":{\"value\":0.75},\"line_color\":{\"value\":\"#1f77b4\"},\"right\":{\"field\":\"x\"},\"y\":{\"field\":\"y\"}},\"id\":\"a69b2863-ac9c-48fc-a7b2-1ec3f662f311\",\"type\":\"HBar\"},{\"attributes\":{\"level\":\"glyph\",\"plot\":{\"id\":\"0918b504-4771-42b0-8fa4-352e2e55a239\",\"subtype\":\"Figure\",\"type\":\"Plot\"},\"source\":{\"id\":\"47f3a8e2-e1e2-4caf-9519-b898ab22c642\",\"type\":\"ColumnDataSource\"},\"text\":{\"field\":\"pct\"},\"text_font_size\":{\"value\":\"8pt\"},\"x\":{\"field\":\"x\"},\"x_offset\":{\"value\":10},\"y\":{\"field\":\"y\"},\"y_offset\":{\"value\":2}},\"id\":\"b41fff07-a9f9-4049-b40e-986e339332bd\",\"type\":\"LabelSet\"},{\"attributes\":{\"callback\":null,\"factors\":[\"AI and machine learning\",\"Augmented Reality\",\"Virtual Reality\",\"Behavior tracking and modeling\",\"Democratization of design\",\"Distributed teams and virtual workplace\",\"3D printing\",\"Internet of Things\",\"Crowdsourcing and open source\",\"Algorithmic design\",\"Facial and voice recognition\",\"Image recognition\",\"Conversational interfaces\",\"Human augmentation\",\"Biological or genetic design\",\"Battery and energy technology\",\"Quantum computing\",\"Miniaturization and nanotechnology\",\"Networked device ubiquity\",\"None of these\"]},\"id\":\"51ffb683-b4ad-4290-9aaa-bf538d7b3cab\",\"type\":\"FactorRange\"},{\"attributes\":{},\"id\":\"df21990e-a972-4a7b-badc-7833f08ac2fb\",\"type\":\"HelpTool\"},{\"attributes\":{\"overlay\":{\"id\":\"bd2dbebf-bbca-4cf6-9dc5-290b2b9afb36\",\"type\":\"BoxAnnotation\"}},\"id\":\"7747637c-2d58-4278-96c6-0806c663c730\",\"type\":\"BoxZoomTool\"},{\"attributes\":{},\"id\":\"2b8e6188-0ae2-4343-b911-a7b9a96e08ea\",\"type\":\"LinearScale\"},{\"attributes\":{\"source\":{\"id\":\"47f3a8e2-e1e2-4caf-9519-b898ab22c642\",\"type\":\"ColumnDataSource\"}},\"id\":\"f58238e3-8f70-412b-bf5d-370f8c55f80b\",\"type\":\"CDSView\"},{\"attributes\":{\"active_drag\":\"auto\",\"active_inspect\":\"auto\",\"active_scroll\":\"auto\",\"active_tap\":\"auto\",\"tools\":[{\"id\":\"5ab57ab4-c62a-43d6-bc97-637ce13310e1\",\"type\":\"PanTool\"},{\"id\":\"caf43dfa-6adf-4099-8763-f2651acba049\",\"type\":\"WheelZoomTool\"},{\"id\":\"7747637c-2d58-4278-96c6-0806c663c730\",\"type\":\"BoxZoomTool\"},{\"id\":\"f168fef2-0dd2-49cd-b33a-880471661d7c\",\"type\":\"SaveTool\"},{\"id\":\"9f709433-86a6-4cb9-8d5c-63a4eff4d215\",\"type\":\"ResetTool\"},{\"id\":\"df21990e-a972-4a7b-badc-7833f08ac2fb\",\"type\":\"HelpTool\"}]},\"id\":\"74d4347b-e31d-4199-af1a-da9284b30815\",\"type\":\"Toolbar\"},{\"attributes\":{\"callback\":null,\"end\":2832.0},\"id\":\"d4806997-4792-45d2-b684-78668876a600\",\"type\":\"Range1d\"},{\"attributes\":{},\"id\":\"caf43dfa-6adf-4099-8763-f2651acba049\",\"type\":\"WheelZoomTool\"},{\"attributes\":{},\"id\":\"9f709433-86a6-4cb9-8d5c-63a4eff4d215\",\"type\":\"ResetTool\"},{\"attributes\":{},\"id\":\"5ab57ab4-c62a-43d6-bc97-637ce13310e1\",\"type\":\"PanTool\"},{\"attributes\":{\"below\":[{\"id\":\"b609b91b-32ea-47a7-929e-ffb357134b84\",\"type\":\"LinearAxis\"}],\"left\":[{\"id\":\"04db2eee-b252-4d0c-9c20-f6b5a082f77d\",\"type\":\"CategoricalAxis\"}],\"min_border_right\":50,\"output_backend\":\"svg\",\"plot_height\":1000,\"plot_width\":1400,\"renderers\":[{\"id\":\"b609b91b-32ea-47a7-929e-ffb357134b84\",\"type\":\"LinearAxis\"},{\"id\":\"f45c80f4-5b0f-4e6e-99be-7fe50999e518\",\"type\":\"Grid\"},{\"id\":\"04db2eee-b252-4d0c-9c20-f6b5a082f77d\",\"type\":\"CategoricalAxis\"},{\"id\":\"aea04340-15bb-4674-b477-72c2231b5d4c\",\"type\":\"Grid\"},{\"id\":\"bd2dbebf-bbca-4cf6-9dc5-290b2b9afb36\",\"type\":\"BoxAnnotation\"},{\"id\":\"e8357984-697f-4e47-9724-2e9980cec3b1\",\"type\":\"GlyphRenderer\"},{\"id\":\"b41fff07-a9f9-4049-b40e-986e339332bd\",\"type\":\"LabelSet\"},{\"id\":\"9c5df1a2-677a-4822-abf4-688475bdc53b\",\"type\":\"LabelSet\"}],\"title\":{\"id\":\"300d5c11-5958-4c04-a58c-f199ea2168f3\",\"type\":\"Title\"},\"toolbar\":{\"id\":\"74d4347b-e31d-4199-af1a-da9284b30815\",\"type\":\"Toolbar\"},\"x_range\":{\"id\":\"d4806997-4792-45d2-b684-78668876a600\",\"type\":\"Range1d\"},\"x_scale\":{\"id\":\"2b8e6188-0ae2-4343-b911-a7b9a96e08ea\",\"type\":\"LinearScale\"},\"y_range\":{\"id\":\"51ffb683-b4ad-4290-9aaa-bf538d7b3cab\",\"type\":\"FactorRange\"},\"y_scale\":{\"id\":\"a37eec31-4d31-4fa1-918e-c52b0c93bb21\",\"type\":\"CategoricalScale\"}},\"id\":\"0918b504-4771-42b0-8fa4-352e2e55a239\",\"subtype\":\"Figure\",\"type\":\"Plot\"},{\"attributes\":{\"data_source\":{\"id\":\"47f3a8e2-e1e2-4caf-9519-b898ab22c642\",\"type\":\"ColumnDataSource\"},\"glyph\":{\"id\":\"a69b2863-ac9c-48fc-a7b2-1ec3f662f311\",\"type\":\"HBar\"},\"hover_glyph\":null,\"muted_glyph\":null,\"nonselection_glyph\":{\"id\":\"1263d83c-c7d7-49ee-8b90-36ded8649e80\",\"type\":\"HBar\"},\"selection_glyph\":null,\"view\":{\"id\":\"f58238e3-8f70-412b-bf5d-370f8c55f80b\",\"type\":\"CDSView\"}},\"id\":\"e8357984-697f-4e47-9724-2e9980cec3b1\",\"type\":\"GlyphRenderer\"},{\"attributes\":{},\"id\":\"47cbb891-8a62-40b8-98b3-1b00fc4c7f0c\",\"type\":\"BasicTickFormatter\"},{\"attributes\":{\"axis_label\":\"Categories\",\"formatter\":{\"id\":\"3f80f5a0-49f6-441d-8765-099d31522378\",\"type\":\"CategoricalTickFormatter\"},\"plot\":{\"id\":\"0918b504-4771-42b0-8fa4-352e2e55a239\",\"subtype\":\"Figure\",\"type\":\"Plot\"},\"ticker\":{\"id\":\"a5154db6-e18f-41a7-8305-4bda45627762\",\"type\":\"CategoricalTicker\"}},\"id\":\"04db2eee-b252-4d0c-9c20-f6b5a082f77d\",\"type\":\"CategoricalAxis\"},{\"attributes\":{},\"id\":\"3f80f5a0-49f6-441d-8765-099d31522378\",\"type\":\"CategoricalTickFormatter\"},{\"attributes\":{},\"id\":\"a5154db6-e18f-41a7-8305-4bda45627762\",\"type\":\"CategoricalTicker\"},{\"attributes\":{},\"id\":\"a30a1b57-2213-44b1-9cec-0b7e7af3a35f\",\"type\":\"BasicTicker\"},{\"attributes\":{},\"id\":\"f168fef2-0dd2-49cd-b33a-880471661d7c\",\"type\":\"SaveTool\"},{\"attributes\":{\"plot\":{\"id\":\"0918b504-4771-42b0-8fa4-352e2e55a239\",\"subtype\":\"Figure\",\"type\":\"Plot\"},\"ticker\":{\"id\":\"a30a1b57-2213-44b1-9cec-0b7e7af3a35f\",\"type\":\"BasicTicker\"}},\"id\":\"f45c80f4-5b0f-4e6e-99be-7fe50999e518\",\"type\":\"Grid\"},{\"attributes\":{\"bottom_units\":\"screen\",\"fill_alpha\":{\"value\":0.5},\"fill_color\":{\"value\":\"lightgrey\"},\"left_units\":\"screen\",\"level\":\"overlay\",\"line_alpha\":{\"value\":1.0},\"line_color\":{\"value\":\"black\"},\"line_dash\":[4,4],\"line_width\":{\"value\":2},\"plot\":null,\"render_mode\":\"css\",\"right_units\":\"screen\",\"top_units\":\"screen\"},\"id\":\"bd2dbebf-bbca-4cf6-9dc5-290b2b9afb36\",\"type\":\"BoxAnnotation\"},{\"attributes\":{\"plot\":null,\"text\":\"AIGA-Only: The emerging trends and technologies that will have the biggest impact on design are (answer optional):\"},\"id\":\"300d5c11-5958-4c04-a58c-f199ea2168f3\",\"type\":\"Title\"},{\"attributes\":{\"level\":\"glyph\",\"plot\":{\"id\":\"0918b504-4771-42b0-8fa4-352e2e55a239\",\"subtype\":\"Figure\",\"type\":\"Plot\"},\"source\":{\"id\":\"47f3a8e2-e1e2-4caf-9519-b898ab22c642\",\"type\":\"ColumnDataSource\"},\"text\":{\"field\":\"x\"},\"text_font_size\":{\"value\":\"8pt\"},\"x\":{\"field\":\"x\"},\"x_offset\":{\"value\":10},\"y\":{\"field\":\"y\"},\"y_offset\":{\"value\":-12}},\"id\":\"9c5df1a2-677a-4822-abf4-688475bdc53b\",\"type\":\"LabelSet\"},{\"attributes\":{\"callback\":null,\"column_names\":[\"y\",\"x\",\"pct\"],\"data\":{\"pct\":[\"49.81%\",\"40.97%\",\"40.04%\",\"37.02%\",\"29.73%\",\"29.32%\",\"28.16%\",\"27.94%\",\"25.81%\",\"23.26%\",\"22.47%\",\"18.11%\",\"16.93%\",\"15.76%\",\"13.91%\",\"8.13%\",\"7.87%\",\"7.87%\",\"7.18%\",\"1.66%\"],\"x\":[2310,1900,1857,1717,1379,1360,1306,1296,1197,1079,1042,840,785,731,645,377,365,365,333,77],\"y\":[\"AI and machine learning\",\"Augmented Reality\",\"Virtual Reality\",\"Behavior tracking and modeling\",\"Democratization of design\",\"Distributed teams and virtual workplace\",\"3D printing\",\"Internet of Things\",\"Crowdsourcing and open source\",\"Algorithmic design\",\"Facial and voice recognition\",\"Image recognition\",\"Conversational interfaces\",\"Human augmentation\",\"Biological or genetic design\",\"Battery and energy technology\",\"Quantum computing\",\"Miniaturization and nanotechnology\",\"Networked device ubiquity\",\"None of these\"]}},\"id\":\"47f3a8e2-e1e2-4caf-9519-b898ab22c642\",\"type\":\"ColumnDataSource\"},{\"attributes\":{},\"id\":\"a37eec31-4d31-4fa1-918e-c52b0c93bb21\",\"type\":\"CategoricalScale\"},{\"attributes\":{\"axis_label\":\"Respondents\",\"formatter\":{\"id\":\"47cbb891-8a62-40b8-98b3-1b00fc4c7f0c\",\"type\":\"BasicTickFormatter\"},\"plot\":{\"id\":\"0918b504-4771-42b0-8fa4-352e2e55a239\",\"subtype\":\"Figure\",\"type\":\"Plot\"},\"ticker\":{\"id\":\"a30a1b57-2213-44b1-9cec-0b7e7af3a35f\",\"type\":\"BasicTicker\"}},\"id\":\"b609b91b-32ea-47a7-929e-ffb357134b84\",\"type\":\"LinearAxis\"},{\"attributes\":{\"fill_alpha\":{\"value\":0.1},\"fill_color\":{\"value\":\"#1f77b4\"},\"height\":{\"value\":0.75},\"line_alpha\":{\"value\":0.1},\"line_color\":{\"value\":\"#1f77b4\"},\"right\":{\"field\":\"x\"},\"y\":{\"field\":\"y\"}},\"id\":\"1263d83c-c7d7-49ee-8b90-36ded8649e80\",\"type\":\"HBar\"}],\"root_ids\":[\"0918b504-4771-42b0-8fa4-352e2e55a239\"]},\"title\":\"Bokeh Application\",\"version\":\"0.12.13\"}};\n",
              "  var render_items = [{\"docid\":\"19c720b1-fbf7-4005-b639-02151731fa06\",\"elementid\":\"6ab37e1b-e47c-44db-aef1-911a6e2e7427\",\"modelid\":\"0918b504-4771-42b0-8fa4-352e2e55a239\"}];\n",
              "  root.Bokeh.embed.embed_items_notebook(docs_json, render_items);\n",
              "\n",
              "  }\n",
              "  if (root.Bokeh !== undefined) {\n",
              "    embed_document(root);\n",
              "  } else {\n",
              "    var attempts = 0;\n",
              "    var timer = setInterval(function(root) {\n",
              "      if (root.Bokeh !== undefined) {\n",
              "        embed_document(root);\n",
              "        clearInterval(timer);\n",
              "      }\n",
              "      attempts++;\n",
              "      if (attempts > 100) {\n",
              "        console.log(\"Bokeh: ERROR: Unable to run BokehJS code because BokehJS library is missing\")\n",
              "        clearInterval(timer);\n",
              "      }\n",
              "    }, 10, root)\n",
              "  }\n",
              "})(window);"
            ],
            "application/vnd.bokehjs_exec.v0+json": ""
          },
          "metadata": {
            "application/vnd.bokehjs_exec.v0+json": {
              "id": "0918b504-4771-42b0-8fa4-352e2e55a239"
            }
          }
        },
        {
          "output_type": "display_data",
          "data": {
            "text/html": [
              "\n",
              "<div class=\"bk-root\">\n",
              "    <div class=\"bk-plotdiv\" id=\"38017378-cafc-4d2c-ac05-014a8eddc599\"></div>\n",
              "</div>"
            ]
          },
          "metadata": {}
        },
        {
          "output_type": "display_data",
          "data": {
            "application/javascript": [
              "(function(root) {\n",
              "  function embed_document(root) {\n",
              "    \n",
              "  var docs_json = {\"67620dad-8f77-4666-bbed-4928d8e7fb23\":{\"roots\":{\"references\":[{\"attributes\":{},\"id\":\"9720b4aa-105e-4ee5-8ac4-61a873460a36\",\"type\":\"ResetTool\"},{\"attributes\":{\"callback\":null,\"factors\":[\"Adaptability to tech and social change\",\"Communication skills\",\"Empathy\",\"Asking good questions\",\"Cross-functional skills\",\"Storytelling\",\"Cross-cultural skills\",\"Observation and listening\",\"Interpersonal skills\",\"Managing complexity\",\"Psychology and human behavior\",\"Leadership\",\"Systems thinking\",\"Improvisation\",\"Play\",\"DIY or maker mentality\",\"Data analysis\",\"Risk tolerance\",\"Algorithm and data model design\",\"Facilitation\",\"Voice interface design\",\"Architecture and environmental design\",\"Scientific methods\",\"None of these\"]},\"id\":\"1381a30f-bfdb-4807-8183-d233af0e8446\",\"type\":\"FactorRange\"},{\"attributes\":{},\"id\":\"bc3cb529-cb2e-46dc-b6a7-fe3f56878577\",\"type\":\"PanTool\"},{\"attributes\":{\"plot\":null,\"text\":\"AIGA-Only: The most valuable design skills for the future will be (answer optional):\"},\"id\":\"9d77ac7f-8a0b-4a83-9e73-5ae17d34102b\",\"type\":\"Title\"},{\"attributes\":{},\"id\":\"2b31976d-2a2e-439d-b695-8a7b8fba9b81\",\"type\":\"BasicTicker\"},{\"attributes\":{},\"id\":\"c3c70650-6568-489e-bde7-ab1e3ac45106\",\"type\":\"CategoricalScale\"},{\"attributes\":{\"active_drag\":\"auto\",\"active_inspect\":\"auto\",\"active_scroll\":\"auto\",\"active_tap\":\"auto\",\"tools\":[{\"id\":\"bc3cb529-cb2e-46dc-b6a7-fe3f56878577\",\"type\":\"PanTool\"},{\"id\":\"65ca936b-ac44-4ab5-9b80-6f8cf27466ef\",\"type\":\"WheelZoomTool\"},{\"id\":\"d725f8aa-cc9a-4cf9-b217-72426dd69143\",\"type\":\"BoxZoomTool\"},{\"id\":\"3772978b-6b90-46ec-9834-68188b0b80cf\",\"type\":\"SaveTool\"},{\"id\":\"9720b4aa-105e-4ee5-8ac4-61a873460a36\",\"type\":\"ResetTool\"},{\"id\":\"dcd53810-54ce-489b-a5cb-0bb3499bd26c\",\"type\":\"HelpTool\"}]},\"id\":\"5c2372c0-01bd-4e88-b646-d5374838ec9a\",\"type\":\"Toolbar\"},{\"attributes\":{},\"id\":\"dcd53810-54ce-489b-a5cb-0bb3499bd26c\",\"type\":\"HelpTool\"},{\"attributes\":{},\"id\":\"60f0162e-bcc3-47d5-b8f2-a3980bd7172d\",\"type\":\"CategoricalTicker\"},{\"attributes\":{},\"id\":\"ead42270-f05a-48d5-86a1-af887dcec056\",\"type\":\"CategoricalTickFormatter\"},{\"attributes\":{\"axis_label\":\"Respondents\",\"formatter\":{\"id\":\"1b43371a-0b23-4a62-bea2-a5cb391d81c3\",\"type\":\"BasicTickFormatter\"},\"plot\":{\"id\":\"88bd3623-c52c-4d3c-8f1e-1ee076a4c37d\",\"subtype\":\"Figure\",\"type\":\"Plot\"},\"ticker\":{\"id\":\"2b31976d-2a2e-439d-b695-8a7b8fba9b81\",\"type\":\"BasicTicker\"}},\"id\":\"d1e78482-5149-43b4-a057-581db3665a9d\",\"type\":\"LinearAxis\"},{\"attributes\":{\"axis_label\":\"Categories\",\"formatter\":{\"id\":\"ead42270-f05a-48d5-86a1-af887dcec056\",\"type\":\"CategoricalTickFormatter\"},\"plot\":{\"id\":\"88bd3623-c52c-4d3c-8f1e-1ee076a4c37d\",\"subtype\":\"Figure\",\"type\":\"Plot\"},\"ticker\":{\"id\":\"60f0162e-bcc3-47d5-b8f2-a3980bd7172d\",\"type\":\"CategoricalTicker\"}},\"id\":\"2750e6a9-aaa2-47a5-9883-7c6e5d28eb00\",\"type\":\"CategoricalAxis\"},{\"attributes\":{\"callback\":null,\"end\":4186.8},\"id\":\"8266d1fe-8f25-40d4-b9a0-0eddaa6c81c4\",\"type\":\"Range1d\"},{\"attributes\":{},\"id\":\"1b43371a-0b23-4a62-bea2-a5cb391d81c3\",\"type\":\"BasicTickFormatter\"},{\"attributes\":{\"plot\":{\"id\":\"88bd3623-c52c-4d3c-8f1e-1ee076a4c37d\",\"subtype\":\"Figure\",\"type\":\"Plot\"},\"ticker\":{\"id\":\"2b31976d-2a2e-439d-b695-8a7b8fba9b81\",\"type\":\"BasicTicker\"}},\"id\":\"919e2ee2-75a6-4336-bd26-56e4e9c4d430\",\"type\":\"Grid\"},{\"attributes\":{},\"id\":\"3772978b-6b90-46ec-9834-68188b0b80cf\",\"type\":\"SaveTool\"},{\"attributes\":{},\"id\":\"f3d2b786-959f-4ab0-9fa6-88a6d9b22fb9\",\"type\":\"LinearScale\"},{\"attributes\":{\"source\":{\"id\":\"fb91110d-697a-4f42-a9e7-c42a548080f4\",\"type\":\"ColumnDataSource\"}},\"id\":\"ad310a76-c46f-49c1-abf1-10721ff147b7\",\"type\":\"CDSView\"},{\"attributes\":{\"fill_color\":{\"value\":\"#1f77b4\"},\"height\":{\"value\":0.75},\"line_color\":{\"value\":\"#1f77b4\"},\"right\":{\"field\":\"x\"},\"y\":{\"field\":\"y\"}},\"id\":\"138b42e4-06e8-4b25-9baa-d3aa3bf39e40\",\"type\":\"HBar\"},{\"attributes\":{\"level\":\"glyph\",\"plot\":{\"id\":\"88bd3623-c52c-4d3c-8f1e-1ee076a4c37d\",\"subtype\":\"Figure\",\"type\":\"Plot\"},\"source\":{\"id\":\"fb91110d-697a-4f42-a9e7-c42a548080f4\",\"type\":\"ColumnDataSource\"},\"text\":{\"field\":\"x\"},\"text_font_size\":{\"value\":\"8pt\"},\"x\":{\"field\":\"x\"},\"x_offset\":{\"value\":10},\"y\":{\"field\":\"y\"},\"y_offset\":{\"value\":-12}},\"id\":\"26102c96-d032-4571-a25e-2c24399322f9\",\"type\":\"LabelSet\"},{\"attributes\":{\"level\":\"glyph\",\"plot\":{\"id\":\"88bd3623-c52c-4d3c-8f1e-1ee076a4c37d\",\"subtype\":\"Figure\",\"type\":\"Plot\"},\"source\":{\"id\":\"fb91110d-697a-4f42-a9e7-c42a548080f4\",\"type\":\"ColumnDataSource\"},\"text\":{\"field\":\"pct\"},\"text_font_size\":{\"value\":\"8pt\"},\"x\":{\"field\":\"x\"},\"x_offset\":{\"value\":10},\"y\":{\"field\":\"y\"},\"y_offset\":{\"value\":2}},\"id\":\"a3ff385a-aecd-4c00-b93e-ae50068312e2\",\"type\":\"LabelSet\"},{\"attributes\":{\"below\":[{\"id\":\"d1e78482-5149-43b4-a057-581db3665a9d\",\"type\":\"LinearAxis\"}],\"left\":[{\"id\":\"2750e6a9-aaa2-47a5-9883-7c6e5d28eb00\",\"type\":\"CategoricalAxis\"}],\"min_border_right\":50,\"output_backend\":\"svg\",\"plot_height\":1200,\"plot_width\":1400,\"renderers\":[{\"id\":\"d1e78482-5149-43b4-a057-581db3665a9d\",\"type\":\"LinearAxis\"},{\"id\":\"919e2ee2-75a6-4336-bd26-56e4e9c4d430\",\"type\":\"Grid\"},{\"id\":\"2750e6a9-aaa2-47a5-9883-7c6e5d28eb00\",\"type\":\"CategoricalAxis\"},{\"id\":\"db4bc407-5a78-4908-95b7-bf723c1a18f8\",\"type\":\"Grid\"},{\"id\":\"53a6af9d-0c73-4668-b230-c7ca61d048cd\",\"type\":\"BoxAnnotation\"},{\"id\":\"393a07af-8b31-44cf-9fdc-041ac3476e5e\",\"type\":\"GlyphRenderer\"},{\"id\":\"a3ff385a-aecd-4c00-b93e-ae50068312e2\",\"type\":\"LabelSet\"},{\"id\":\"26102c96-d032-4571-a25e-2c24399322f9\",\"type\":\"LabelSet\"}],\"title\":{\"id\":\"9d77ac7f-8a0b-4a83-9e73-5ae17d34102b\",\"type\":\"Title\"},\"toolbar\":{\"id\":\"5c2372c0-01bd-4e88-b646-d5374838ec9a\",\"type\":\"Toolbar\"},\"x_range\":{\"id\":\"8266d1fe-8f25-40d4-b9a0-0eddaa6c81c4\",\"type\":\"Range1d\"},\"x_scale\":{\"id\":\"f3d2b786-959f-4ab0-9fa6-88a6d9b22fb9\",\"type\":\"LinearScale\"},\"y_range\":{\"id\":\"1381a30f-bfdb-4807-8183-d233af0e8446\",\"type\":\"FactorRange\"},\"y_scale\":{\"id\":\"c3c70650-6568-489e-bde7-ab1e3ac45106\",\"type\":\"CategoricalScale\"}},\"id\":\"88bd3623-c52c-4d3c-8f1e-1ee076a4c37d\",\"subtype\":\"Figure\",\"type\":\"Plot\"},{\"attributes\":{\"fill_alpha\":{\"value\":0.1},\"fill_color\":{\"value\":\"#1f77b4\"},\"height\":{\"value\":0.75},\"line_alpha\":{\"value\":0.1},\"line_color\":{\"value\":\"#1f77b4\"},\"right\":{\"field\":\"x\"},\"y\":{\"field\":\"y\"}},\"id\":\"8c4736b6-8381-4cfc-a3a5-5688fd20ec53\",\"type\":\"HBar\"},{\"attributes\":{},\"id\":\"65ca936b-ac44-4ab5-9b80-6f8cf27466ef\",\"type\":\"WheelZoomTool\"},{\"attributes\":{\"overlay\":{\"id\":\"53a6af9d-0c73-4668-b230-c7ca61d048cd\",\"type\":\"BoxAnnotation\"}},\"id\":\"d725f8aa-cc9a-4cf9-b217-72426dd69143\",\"type\":\"BoxZoomTool\"},{\"attributes\":{\"bottom_units\":\"screen\",\"fill_alpha\":{\"value\":0.5},\"fill_color\":{\"value\":\"lightgrey\"},\"left_units\":\"screen\",\"level\":\"overlay\",\"line_alpha\":{\"value\":1.0},\"line_color\":{\"value\":\"black\"},\"line_dash\":[4,4],\"line_width\":{\"value\":2},\"plot\":null,\"render_mode\":\"css\",\"right_units\":\"screen\",\"top_units\":\"screen\"},\"id\":\"53a6af9d-0c73-4668-b230-c7ca61d048cd\",\"type\":\"BoxAnnotation\"},{\"attributes\":{\"callback\":null,\"column_names\":[\"y\",\"x\",\"pct\"],\"data\":{\"pct\":[\"74.15%\",\"62.55%\",\"49.48%\",\"44.74%\",\"44.39%\",\"43.75%\",\"43.25%\",\"41.35%\",\"40.45%\",\"39.33%\",\"37.65%\",\"30.40%\",\"27.53%\",\"25.66%\",\"24.47%\",\"18.76%\",\"16.60%\",\"13.95%\",\"12.59%\",\"12.18%\",\"9.34%\",\"9.31%\",\"8.04%\",\"0.54%\"],\"x\":[3439,2901,2295,2075,2059,2029,2006,1918,1876,1824,1746,1410,1277,1190,1135,870,770,647,584,565,433,432,373,25],\"y\":[\"Adaptability to tech and social change\",\"Communication skills\",\"Empathy\",\"Asking good questions\",\"Cross-functional skills\",\"Storytelling\",\"Cross-cultural skills\",\"Observation and listening\",\"Interpersonal skills\",\"Managing complexity\",\"Psychology and human behavior\",\"Leadership\",\"Systems thinking\",\"Improvisation\",\"Play\",\"DIY or maker mentality\",\"Data analysis\",\"Risk tolerance\",\"Algorithm and data model design\",\"Facilitation\",\"Voice interface design\",\"Architecture and environmental design\",\"Scientific methods\",\"None of these\"]}},\"id\":\"fb91110d-697a-4f42-a9e7-c42a548080f4\",\"type\":\"ColumnDataSource\"},{\"attributes\":{\"dimension\":1,\"plot\":{\"id\":\"88bd3623-c52c-4d3c-8f1e-1ee076a4c37d\",\"subtype\":\"Figure\",\"type\":\"Plot\"},\"ticker\":{\"id\":\"60f0162e-bcc3-47d5-b8f2-a3980bd7172d\",\"type\":\"CategoricalTicker\"}},\"id\":\"db4bc407-5a78-4908-95b7-bf723c1a18f8\",\"type\":\"Grid\"},{\"attributes\":{\"data_source\":{\"id\":\"fb91110d-697a-4f42-a9e7-c42a548080f4\",\"type\":\"ColumnDataSource\"},\"glyph\":{\"id\":\"138b42e4-06e8-4b25-9baa-d3aa3bf39e40\",\"type\":\"HBar\"},\"hover_glyph\":null,\"muted_glyph\":null,\"nonselection_glyph\":{\"id\":\"8c4736b6-8381-4cfc-a3a5-5688fd20ec53\",\"type\":\"HBar\"},\"selection_glyph\":null,\"view\":{\"id\":\"ad310a76-c46f-49c1-abf1-10721ff147b7\",\"type\":\"CDSView\"}},\"id\":\"393a07af-8b31-44cf-9fdc-041ac3476e5e\",\"type\":\"GlyphRenderer\"}],\"root_ids\":[\"88bd3623-c52c-4d3c-8f1e-1ee076a4c37d\"]},\"title\":\"Bokeh Application\",\"version\":\"0.12.13\"}};\n",
              "  var render_items = [{\"docid\":\"67620dad-8f77-4666-bbed-4928d8e7fb23\",\"elementid\":\"38017378-cafc-4d2c-ac05-014a8eddc599\",\"modelid\":\"88bd3623-c52c-4d3c-8f1e-1ee076a4c37d\"}];\n",
              "  root.Bokeh.embed.embed_items_notebook(docs_json, render_items);\n",
              "\n",
              "  }\n",
              "  if (root.Bokeh !== undefined) {\n",
              "    embed_document(root);\n",
              "  } else {\n",
              "    var attempts = 0;\n",
              "    var timer = setInterval(function(root) {\n",
              "      if (root.Bokeh !== undefined) {\n",
              "        embed_document(root);\n",
              "        clearInterval(timer);\n",
              "      }\n",
              "      attempts++;\n",
              "      if (attempts > 100) {\n",
              "        console.log(\"Bokeh: ERROR: Unable to run BokehJS code because BokehJS library is missing\")\n",
              "        clearInterval(timer);\n",
              "      }\n",
              "    }, 10, root)\n",
              "  }\n",
              "})(window);"
            ],
            "application/vnd.bokehjs_exec.v0+json": ""
          },
          "metadata": {
            "application/vnd.bokehjs_exec.v0+json": {
              "id": "88bd3623-c52c-4d3c-8f1e-1ee076a4c37d"
            }
          }
        },
        {
          "output_type": "display_data",
          "data": {
            "text/html": [
              "\n",
              "<div class=\"bk-root\">\n",
              "    <div class=\"bk-plotdiv\" id=\"b55f247c-8d9f-4d75-9dbc-ab001090b872\"></div>\n",
              "</div>"
            ]
          },
          "metadata": {}
        },
        {
          "output_type": "display_data",
          "data": {
            "application/javascript": [
              "(function(root) {\n",
              "  function embed_document(root) {\n",
              "    \n",
              "  var docs_json = {\"84726105-4390-4065-ab3c-5cb19ccf4ab4\":{\"roots\":{\"references\":[{\"attributes\":{\"axis_label\":\"Respondents\",\"formatter\":{\"id\":\"cfb20138-7286-4d26-8853-af8d019b32f9\",\"type\":\"BasicTickFormatter\"},\"plot\":{\"id\":\"e7af6946-2c1f-46ec-80ec-ef2839beddcf\",\"subtype\":\"Figure\",\"type\":\"Plot\"},\"ticker\":{\"id\":\"1d98479d-804f-4b6d-998b-cce0d611467a\",\"type\":\"BasicTicker\"}},\"id\":\"c18ceb13-f455-4993-af0a-60ff84749657\",\"type\":\"LinearAxis\"},{\"attributes\":{},\"id\":\"8661e565-ac79-42c4-9437-7e4d1232a142\",\"type\":\"CategoricalScale\"},{\"attributes\":{\"axis_label\":\"Categories\",\"formatter\":{\"id\":\"596268fa-014f-42d5-bcd7-8230169a19b6\",\"type\":\"CategoricalTickFormatter\"},\"plot\":{\"id\":\"e7af6946-2c1f-46ec-80ec-ef2839beddcf\",\"subtype\":\"Figure\",\"type\":\"Plot\"},\"ticker\":{\"id\":\"ed8cbb42-0ab9-4e7b-972b-899cadcb73b5\",\"type\":\"CategoricalTicker\"}},\"id\":\"6e0590b8-a529-432d-8e6e-348dd093af56\",\"type\":\"CategoricalAxis\"},{\"attributes\":{\"active_drag\":\"auto\",\"active_inspect\":\"auto\",\"active_scroll\":\"auto\",\"active_tap\":\"auto\",\"tools\":[{\"id\":\"8cff52e6-96b7-4ff4-a47e-556f4bcb93af\",\"type\":\"PanTool\"},{\"id\":\"b5583d76-0fb0-4194-9c8b-10335aabae60\",\"type\":\"WheelZoomTool\"},{\"id\":\"f7e354b8-2796-494d-a998-524510a289f3\",\"type\":\"BoxZoomTool\"},{\"id\":\"29177e1b-b06c-40aa-8e01-0f7e09d27987\",\"type\":\"SaveTool\"},{\"id\":\"bda20609-84ef-47d4-bb78-6d773dd0d9cc\",\"type\":\"ResetTool\"},{\"id\":\"a69d6a5b-27b2-4dc8-b370-b28632537f15\",\"type\":\"HelpTool\"}]},\"id\":\"0f474218-da00-489c-b946-4acd8a88de83\",\"type\":\"Toolbar\"},{\"attributes\":{\"callback\":null,\"end\":1609.2},\"id\":\"2b5794b3-cacd-44b0-81ee-ab04f7e73f02\",\"type\":\"Range1d\"},{\"attributes\":{\"plot\":{\"id\":\"e7af6946-2c1f-46ec-80ec-ef2839beddcf\",\"subtype\":\"Figure\",\"type\":\"Plot\"},\"ticker\":{\"id\":\"1d98479d-804f-4b6d-998b-cce0d611467a\",\"type\":\"BasicTicker\"}},\"id\":\"89492782-cf4b-428d-abd2-772d474711c2\",\"type\":\"Grid\"},{\"attributes\":{},\"id\":\"8cff52e6-96b7-4ff4-a47e-556f4bcb93af\",\"type\":\"PanTool\"},{\"attributes\":{\"overlay\":{\"id\":\"e9520357-a104-4847-95e1-2cda2dd0531f\",\"type\":\"BoxAnnotation\"}},\"id\":\"f7e354b8-2796-494d-a998-524510a289f3\",\"type\":\"BoxZoomTool\"},{\"attributes\":{\"level\":\"glyph\",\"plot\":{\"id\":\"e7af6946-2c1f-46ec-80ec-ef2839beddcf\",\"subtype\":\"Figure\",\"type\":\"Plot\"},\"source\":{\"id\":\"d4428812-9224-4a3a-a66d-a7461ae1fc23\",\"type\":\"ColumnDataSource\"},\"text\":{\"field\":\"pct\"},\"text_font_size\":{\"value\":\"8pt\"},\"x\":{\"field\":\"x\"},\"x_offset\":{\"value\":10},\"y\":{\"field\":\"y\"},\"y_offset\":{\"value\":2}},\"id\":\"84661e2b-782a-452a-b43e-c3f26f5afe10\",\"type\":\"LabelSet\"},{\"attributes\":{},\"id\":\"bda20609-84ef-47d4-bb78-6d773dd0d9cc\",\"type\":\"ResetTool\"},{\"attributes\":{\"bottom_units\":\"screen\",\"fill_alpha\":{\"value\":0.5},\"fill_color\":{\"value\":\"lightgrey\"},\"left_units\":\"screen\",\"level\":\"overlay\",\"line_alpha\":{\"value\":1.0},\"line_color\":{\"value\":\"black\"},\"line_dash\":[4,4],\"line_width\":{\"value\":2},\"plot\":null,\"render_mode\":\"css\",\"right_units\":\"screen\",\"top_units\":\"screen\"},\"id\":\"e9520357-a104-4847-95e1-2cda2dd0531f\",\"type\":\"BoxAnnotation\"},{\"attributes\":{},\"id\":\"1d98479d-804f-4b6d-998b-cce0d611467a\",\"type\":\"BasicTicker\"},{\"attributes\":{},\"id\":\"a69d6a5b-27b2-4dc8-b370-b28632537f15\",\"type\":\"HelpTool\"},{\"attributes\":{\"level\":\"glyph\",\"plot\":{\"id\":\"e7af6946-2c1f-46ec-80ec-ef2839beddcf\",\"subtype\":\"Figure\",\"type\":\"Plot\"},\"source\":{\"id\":\"d4428812-9224-4a3a-a66d-a7461ae1fc23\",\"type\":\"ColumnDataSource\"},\"text\":{\"field\":\"x\"},\"text_font_size\":{\"value\":\"8pt\"},\"x\":{\"field\":\"x\"},\"x_offset\":{\"value\":10},\"y\":{\"field\":\"y\"},\"y_offset\":{\"value\":-12}},\"id\":\"9e767fbf-1e0c-413b-ad70-6aeaba44e21c\",\"type\":\"LabelSet\"},{\"attributes\":{},\"id\":\"596268fa-014f-42d5-bcd7-8230169a19b6\",\"type\":\"CategoricalTickFormatter\"},{\"attributes\":{\"fill_alpha\":{\"value\":0.1},\"fill_color\":{\"value\":\"#1f77b4\"},\"height\":{\"value\":0.75},\"line_alpha\":{\"value\":0.1},\"line_color\":{\"value\":\"#1f77b4\"},\"right\":{\"field\":\"x\"},\"y\":{\"field\":\"y\"}},\"id\":\"39d202a6-a641-4c90-bdee-14d5a2fe07ca\",\"type\":\"HBar\"},{\"attributes\":{},\"id\":\"cfb20138-7286-4d26-8853-af8d019b32f9\",\"type\":\"BasicTickFormatter\"},{\"attributes\":{},\"id\":\"b5583d76-0fb0-4194-9c8b-10335aabae60\",\"type\":\"WheelZoomTool\"},{\"attributes\":{},\"id\":\"ed8cbb42-0ab9-4e7b-972b-899cadcb73b5\",\"type\":\"CategoricalTicker\"},{\"attributes\":{\"fill_color\":{\"value\":\"#1f77b4\"},\"height\":{\"value\":0.75},\"line_color\":{\"value\":\"#1f77b4\"},\"right\":{\"field\":\"x\"},\"y\":{\"field\":\"y\"}},\"id\":\"be30128b-2f27-4bf8-b433-93cd54c71e42\",\"type\":\"HBar\"},{\"attributes\":{\"plot\":null,\"text\":\"AIGA-Only: My age is:\"},\"id\":\"ade5a517-39c1-4aec-8bee-a73760b6b642\",\"type\":\"Title\"},{\"attributes\":{\"dimension\":1,\"plot\":{\"id\":\"e7af6946-2c1f-46ec-80ec-ef2839beddcf\",\"subtype\":\"Figure\",\"type\":\"Plot\"},\"ticker\":{\"id\":\"ed8cbb42-0ab9-4e7b-972b-899cadcb73b5\",\"type\":\"CategoricalTicker\"}},\"id\":\"ab35c79f-c4ee-4bb1-9b9f-ff73c24b9825\",\"type\":\"Grid\"},{\"attributes\":{\"below\":[{\"id\":\"c18ceb13-f455-4993-af0a-60ff84749657\",\"type\":\"LinearAxis\"}],\"left\":[{\"id\":\"6e0590b8-a529-432d-8e6e-348dd093af56\",\"type\":\"CategoricalAxis\"}],\"min_border_right\":50,\"output_backend\":\"svg\",\"plot_height\":900,\"plot_width\":1400,\"renderers\":[{\"id\":\"c18ceb13-f455-4993-af0a-60ff84749657\",\"type\":\"LinearAxis\"},{\"id\":\"89492782-cf4b-428d-abd2-772d474711c2\",\"type\":\"Grid\"},{\"id\":\"6e0590b8-a529-432d-8e6e-348dd093af56\",\"type\":\"CategoricalAxis\"},{\"id\":\"ab35c79f-c4ee-4bb1-9b9f-ff73c24b9825\",\"type\":\"Grid\"},{\"id\":\"e9520357-a104-4847-95e1-2cda2dd0531f\",\"type\":\"BoxAnnotation\"},{\"id\":\"dd665d85-9d8b-4f70-aaa5-6636987af3c3\",\"type\":\"GlyphRenderer\"},{\"id\":\"84661e2b-782a-452a-b43e-c3f26f5afe10\",\"type\":\"LabelSet\"},{\"id\":\"9e767fbf-1e0c-413b-ad70-6aeaba44e21c\",\"type\":\"LabelSet\"}],\"title\":{\"id\":\"ade5a517-39c1-4aec-8bee-a73760b6b642\",\"type\":\"Title\"},\"toolbar\":{\"id\":\"0f474218-da00-489c-b946-4acd8a88de83\",\"type\":\"Toolbar\"},\"x_range\":{\"id\":\"2b5794b3-cacd-44b0-81ee-ab04f7e73f02\",\"type\":\"Range1d\"},\"x_scale\":{\"id\":\"83cd38b1-28c5-4d62-a27c-fc09d98c3c44\",\"type\":\"LinearScale\"},\"y_range\":{\"id\":\"92bb8f09-e0ea-4c3f-b360-7a5f4fd2f41f\",\"type\":\"FactorRange\"},\"y_scale\":{\"id\":\"8661e565-ac79-42c4-9437-7e4d1232a142\",\"type\":\"CategoricalScale\"}},\"id\":\"e7af6946-2c1f-46ec-80ec-ef2839beddcf\",\"subtype\":\"Figure\",\"type\":\"Plot\"},{\"attributes\":{\"callback\":null,\"factors\":[\"25 to 30\",\"20 to 25\",\"30 to 35\",\"35 to 40\",\"40 to 45\",\"Older than 50\",\"45 to 50\",\"Younger than 20\"]},\"id\":\"92bb8f09-e0ea-4c3f-b360-7a5f4fd2f41f\",\"type\":\"FactorRange\"},{\"attributes\":{\"data_source\":{\"id\":\"d4428812-9224-4a3a-a66d-a7461ae1fc23\",\"type\":\"ColumnDataSource\"},\"glyph\":{\"id\":\"be30128b-2f27-4bf8-b433-93cd54c71e42\",\"type\":\"HBar\"},\"hover_glyph\":null,\"muted_glyph\":null,\"nonselection_glyph\":{\"id\":\"39d202a6-a641-4c90-bdee-14d5a2fe07ca\",\"type\":\"HBar\"},\"selection_glyph\":null,\"view\":{\"id\":\"7da83fef-5d0f-4758-98c0-f017d2ae6916\",\"type\":\"CDSView\"}},\"id\":\"dd665d85-9d8b-4f70-aaa5-6636987af3c3\",\"type\":\"GlyphRenderer\"},{\"attributes\":{},\"id\":\"29177e1b-b06c-40aa-8e01-0f7e09d27987\",\"type\":\"SaveTool\"},{\"attributes\":{\"callback\":null,\"column_names\":[\"y\",\"x\",\"pct\"],\"data\":{\"pct\":[\"27.84%\",\"22.14%\",\"18.11%\",\"11.04%\",\"7.96%\",\"7.59%\",\"5.15%\",\"0.17%\"],\"x\":[1291,1027,840,512,369,352,239,8],\"y\":[\"25 to 30\",\"20 to 25\",\"30 to 35\",\"35 to 40\",\"40 to 45\",\"Older than 50\",\"45 to 50\",\"Younger than 20\"]}},\"id\":\"d4428812-9224-4a3a-a66d-a7461ae1fc23\",\"type\":\"ColumnDataSource\"},{\"attributes\":{\"source\":{\"id\":\"d4428812-9224-4a3a-a66d-a7461ae1fc23\",\"type\":\"ColumnDataSource\"}},\"id\":\"7da83fef-5d0f-4758-98c0-f017d2ae6916\",\"type\":\"CDSView\"},{\"attributes\":{},\"id\":\"83cd38b1-28c5-4d62-a27c-fc09d98c3c44\",\"type\":\"LinearScale\"}],\"root_ids\":[\"e7af6946-2c1f-46ec-80ec-ef2839beddcf\"]},\"title\":\"Bokeh Application\",\"version\":\"0.12.13\"}};\n",
              "  var render_items = [{\"docid\":\"84726105-4390-4065-ab3c-5cb19ccf4ab4\",\"elementid\":\"b55f247c-8d9f-4d75-9dbc-ab001090b872\",\"modelid\":\"e7af6946-2c1f-46ec-80ec-ef2839beddcf\"}];\n",
              "  root.Bokeh.embed.embed_items_notebook(docs_json, render_items);\n",
              "\n",
              "  }\n",
              "  if (root.Bokeh !== undefined) {\n",
              "    embed_document(root);\n",
              "  } else {\n",
              "    var attempts = 0;\n",
              "    var timer = setInterval(function(root) {\n",
              "      if (root.Bokeh !== undefined) {\n",
              "        embed_document(root);\n",
              "        clearInterval(timer);\n",
              "      }\n",
              "      attempts++;\n",
              "      if (attempts > 100) {\n",
              "        console.log(\"Bokeh: ERROR: Unable to run BokehJS code because BokehJS library is missing\")\n",
              "        clearInterval(timer);\n",
              "      }\n",
              "    }, 10, root)\n",
              "  }\n",
              "})(window);"
            ],
            "application/vnd.bokehjs_exec.v0+json": ""
          },
          "metadata": {
            "application/vnd.bokehjs_exec.v0+json": {
              "id": "e7af6946-2c1f-46ec-80ec-ef2839beddcf"
            }
          }
        }
      ],
      "execution_count": 7,
      "metadata": {
        "collapsed": false,
        "outputHidden": false,
        "inputHidden": false
      }
    },
    {
      "cell_type": "code",
      "source": [],
      "outputs": [],
      "execution_count": null,
      "metadata": {
        "collapsed": false,
        "outputHidden": false,
        "inputHidden": false
      }
    }
  ],
  "metadata": {
    "kernel_info": {
      "name": "python2"
    },
    "kernelspec": {
      "name": "python2",
      "language": "python",
      "display_name": "Python 2"
    },
    "language_info": {
      "mimetype": "text/x-python",
      "nbconvert_exporter": "python",
      "name": "python",
      "pygments_lexer": "ipython2",
      "version": "2.7.14",
      "file_extension": ".py",
      "codemirror_mode": {
        "version": 2,
        "name": "ipython"
      }
    },
    "nteract": {
      "version": "0.8.4"
    }
  },
  "nbformat": 4,
  "nbformat_minor": 2
}