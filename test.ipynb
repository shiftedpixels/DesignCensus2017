{
 "cells": [
  {
   "cell_type": "markdown",
   "metadata": {},
   "source": [
    "Data Source: https://designcensus.org/"
   ]
  },
  {
   "cell_type": "markdown",
   "metadata": {},
   "source": [
    "### Import data"
   ]
  },
  {
   "cell_type": "code",
   "execution_count": 19,
   "metadata": {
    "collapsed": true
   },
   "outputs": [],
   "source": [
    "import numpy as np\n",
    "import pandas as pd\n",
    "import math\n",
    "from IPython.display import display\n",
    "import seaborn as sns\n",
    "import matplotlib.pyplot as plt\n",
    "%matplotlib inline\n",
    "sns.set_context(\"notebook\", font_scale=1.2)"
   ]
  },
  {
   "cell_type": "code",
   "execution_count": 20,
   "metadata": {
    "collapsed": true
   },
   "outputs": [],
   "source": [
    "df = pd.read_csv('DesignCensus2017_Data.csv')"
   ]
  },
  {
   "cell_type": "code",
   "execution_count": 21,
   "metadata": {},
   "outputs": [
    {
     "name": "stdout",
     "output_type": "stream",
     "text": [
      "There a a total of 43 columns.\n"
     ]
    }
   ],
   "source": [
    "print('There a a total of ' + str(len(df.columns)) + ' columns.')"
   ]
  },
  {
   "cell_type": "markdown",
   "metadata": {},
   "source": [
    "### Column name dictionary"
   ]
  },
  {
   "cell_type": "code",
   "execution_count": 22,
   "metadata": {
    "collapsed": true
   },
   "outputs": [],
   "source": [
    "col_dict = {}\n",
    "for col in df.columns:\n",
    "    index, desc = col.split(' --')\n",
    "    col_dict['V_' + str(index)] = desc"
   ]
  },
  {
   "cell_type": "code",
   "execution_count": 23,
   "metadata": {},
   "outputs": [],
   "source": [
    "def df_with_column_names(df, col_dict):\n",
    "    df_v2 = df\n",
    "    df_v2.columns = [col_dict[col] for col in df_v2.columns]\n",
    "    return df_v2"
   ]
  },
  {
   "cell_type": "code",
   "execution_count": 24,
   "metadata": {},
   "outputs": [
    {
     "data": {
      "text/plain": [
       "{'V_1': \" I've worked in design for:\",\n",
       " 'V_10': 'My immediate team is:',\n",
       " 'V_11': 'My work touches these industries or sectors:',\n",
       " 'V_12': 'I’ve been at my current place of work for:',\n",
       " 'V_13': 'My role is:',\n",
       " 'V_14': 'My role is:',\n",
       " 'V_15': 'My role is:',\n",
       " 'V_16': \"I've been in my current role for:\",\n",
       " 'V_17': 'I typically work:',\n",
       " 'V_18': 'My annual salary is:',\n",
       " 'V_19': 'My job provides:',\n",
       " 'V_2': 'I primarily work in:',\n",
       " 'V_20': 'In my current role, there is:',\n",
       " 'V_21': 'In my current role, I am:',\n",
       " 'V_22': 'My job is:',\n",
       " 'V_23': 'My job stability is:',\n",
       " 'V_24': 'In addition to my job, I also:',\n",
       " 'V_25': 'I fuel my daily creativity with coffee:',\n",
       " 'V_26': \"Highest level of education I've completed:\",\n",
       " 'V_27': 'I learned design:',\n",
       " 'V_28': 'My major focus of study was:',\n",
       " 'V_29': \"Over my career, I've had:\",\n",
       " 'V_3': \"I'm also good at:\",\n",
       " 'V_30': \"I've shifted my specialty or focus area:\",\n",
       " 'V_31': 'I stay current with design by:',\n",
       " 'V_32': \"I'm a member of:\",\n",
       " 'V_33': \"I'd like to get better at:\",\n",
       " 'V_34': 'I am:',\n",
       " 'V_35': \"Right now, I can't stop listening to:\",\n",
       " 'V_36': 'I live in:',\n",
       " 'V_37': 'My age is:',\n",
       " 'V_38': 'I am:',\n",
       " 'V_39': 'I consider myself:',\n",
       " 'V_4': 'I am currently:',\n",
       " 'V_40': 'My ethnicity is:',\n",
       " 'V_41': 'The most critical issues and challenges currently facing design are (answer optional):',\n",
       " 'V_42': 'The emerging trends and technologies that will have the biggest impact on design are (answer optional):',\n",
       " 'V_43': 'The most valuable design skills for the future will be (answer optional):',\n",
       " 'V_5': 'My company specializes in:',\n",
       " 'V_6': 'My company is:',\n",
       " 'V_7': 'I teach:',\n",
       " 'V_8': \"I'm not working because:\",\n",
       " 'V_9': 'My organization has:'}"
      ]
     },
     "execution_count": 24,
     "metadata": {},
     "output_type": "execute_result"
    }
   ],
   "source": [
    "col_dict"
   ]
  },
  {
   "cell_type": "markdown",
   "metadata": {},
   "source": [
    "### Classify columns (continuous, categorical, multiple pipe)"
   ]
  },
  {
   "cell_type": "code",
   "execution_count": 25,
   "metadata": {
    "collapsed": true
   },
   "outputs": [],
   "source": [
    "df.columns = map(lambda x : 'V_' + str(x+1), list(range(len(df.columns)))) "
   ]
  },
  {
   "cell_type": "code",
   "execution_count": 26,
   "metadata": {
    "collapsed": true
   },
   "outputs": [],
   "source": [
    "continous_cols = ['V_18', 'V_37']"
   ]
  },
  {
   "cell_type": "code",
   "execution_count": 27,
   "metadata": {
    "collapsed": true
   },
   "outputs": [],
   "source": [
    "pipe_col = ['V_2', 'V_3','V_5','V_7','V_11','V_19',\\\n",
    "            'V_24', 'V_27', 'V_28', 'V_31', 'V_32',\\\n",
    "            'V_33', 'V_40', 'V_41', 'V_42', 'V_43']"
   ]
  },
  {
   "cell_type": "code",
   "execution_count": 28,
   "metadata": {},
   "outputs": [],
   "source": [
    "cate_cols = list(set(df.columns) - set(continous_cols))\n",
    "cate_cols.sort(key = lambda x : int(x.split('_')[1]))"
   ]
  },
  {
   "cell_type": "markdown",
   "metadata": {},
   "source": [
    "### Summary of null value for each column"
   ]
  },
  {
   "cell_type": "code",
   "execution_count": 29,
   "metadata": {},
   "outputs": [
    {
     "data": {
      "text/html": [
       "<div>\n",
       "<style>\n",
       "    .dataframe thead tr:only-child th {\n",
       "        text-align: right;\n",
       "    }\n",
       "\n",
       "    .dataframe thead th {\n",
       "        text-align: left;\n",
       "    }\n",
       "\n",
       "    .dataframe tbody tr th {\n",
       "        vertical-align: top;\n",
       "    }\n",
       "</style>\n",
       "<table border=\"1\" class=\"dataframe\">\n",
       "  <thead>\n",
       "    <tr style=\"text-align: right;\">\n",
       "      <th></th>\n",
       "      <th>Column</th>\n",
       "      <th>Desc</th>\n",
       "      <th>Null</th>\n",
       "    </tr>\n",
       "  </thead>\n",
       "  <tbody>\n",
       "    <tr>\n",
       "      <th>0</th>\n",
       "      <td>V_1</td>\n",
       "      <td>I've worked in design for:</td>\n",
       "      <td>0</td>\n",
       "    </tr>\n",
       "    <tr>\n",
       "      <th>1</th>\n",
       "      <td>V_2</td>\n",
       "      <td>I primarily work in:</td>\n",
       "      <td>0</td>\n",
       "    </tr>\n",
       "    <tr>\n",
       "      <th>2</th>\n",
       "      <td>V_3</td>\n",
       "      <td>I'm also good at:</td>\n",
       "      <td>0</td>\n",
       "    </tr>\n",
       "    <tr>\n",
       "      <th>3</th>\n",
       "      <td>V_4</td>\n",
       "      <td>I am currently:</td>\n",
       "      <td>0</td>\n",
       "    </tr>\n",
       "    <tr>\n",
       "      <th>4</th>\n",
       "      <td>V_5</td>\n",
       "      <td>My company specializes in:</td>\n",
       "      <td>7198</td>\n",
       "    </tr>\n",
       "    <tr>\n",
       "      <th>5</th>\n",
       "      <td>V_6</td>\n",
       "      <td>My company is:</td>\n",
       "      <td>7317</td>\n",
       "    </tr>\n",
       "    <tr>\n",
       "      <th>6</th>\n",
       "      <td>V_7</td>\n",
       "      <td>I teach:</td>\n",
       "      <td>12800</td>\n",
       "    </tr>\n",
       "    <tr>\n",
       "      <th>7</th>\n",
       "      <td>V_8</td>\n",
       "      <td>I'm not working because:</td>\n",
       "      <td>12831</td>\n",
       "    </tr>\n",
       "    <tr>\n",
       "      <th>8</th>\n",
       "      <td>V_9</td>\n",
       "      <td>My organization has:</td>\n",
       "      <td>409</td>\n",
       "    </tr>\n",
       "    <tr>\n",
       "      <th>9</th>\n",
       "      <td>V_10</td>\n",
       "      <td>My immediate team is:</td>\n",
       "      <td>402</td>\n",
       "    </tr>\n",
       "    <tr>\n",
       "      <th>10</th>\n",
       "      <td>V_11</td>\n",
       "      <td>My work touches these industries or sectors:</td>\n",
       "      <td>401</td>\n",
       "    </tr>\n",
       "    <tr>\n",
       "      <th>11</th>\n",
       "      <td>V_12</td>\n",
       "      <td>I’ve been at my current place of work for:</td>\n",
       "      <td>401</td>\n",
       "    </tr>\n",
       "    <tr>\n",
       "      <th>12</th>\n",
       "      <td>V_13</td>\n",
       "      <td>My role is:</td>\n",
       "      <td>7090</td>\n",
       "    </tr>\n",
       "    <tr>\n",
       "      <th>13</th>\n",
       "      <td>V_14</td>\n",
       "      <td>My role is:</td>\n",
       "      <td>7217</td>\n",
       "    </tr>\n",
       "    <tr>\n",
       "      <th>14</th>\n",
       "      <td>V_15</td>\n",
       "      <td>My role is:</td>\n",
       "      <td>12769</td>\n",
       "    </tr>\n",
       "    <tr>\n",
       "      <th>15</th>\n",
       "      <td>V_16</td>\n",
       "      <td>I've been in my current role for:</td>\n",
       "      <td>401</td>\n",
       "    </tr>\n",
       "    <tr>\n",
       "      <th>16</th>\n",
       "      <td>V_17</td>\n",
       "      <td>I typically work:</td>\n",
       "      <td>401</td>\n",
       "    </tr>\n",
       "    <tr>\n",
       "      <th>17</th>\n",
       "      <td>V_18</td>\n",
       "      <td>My annual salary is:</td>\n",
       "      <td>397</td>\n",
       "    </tr>\n",
       "    <tr>\n",
       "      <th>18</th>\n",
       "      <td>V_19</td>\n",
       "      <td>My job provides:</td>\n",
       "      <td>400</td>\n",
       "    </tr>\n",
       "    <tr>\n",
       "      <th>19</th>\n",
       "      <td>V_20</td>\n",
       "      <td>In my current role, there is:</td>\n",
       "      <td>399</td>\n",
       "    </tr>\n",
       "    <tr>\n",
       "      <th>20</th>\n",
       "      <td>V_21</td>\n",
       "      <td>In my current role, I am:</td>\n",
       "      <td>399</td>\n",
       "    </tr>\n",
       "    <tr>\n",
       "      <th>21</th>\n",
       "      <td>V_22</td>\n",
       "      <td>My job is:</td>\n",
       "      <td>399</td>\n",
       "    </tr>\n",
       "    <tr>\n",
       "      <th>22</th>\n",
       "      <td>V_23</td>\n",
       "      <td>My job stability is:</td>\n",
       "      <td>399</td>\n",
       "    </tr>\n",
       "    <tr>\n",
       "      <th>23</th>\n",
       "      <td>V_24</td>\n",
       "      <td>In addition to my job, I also:</td>\n",
       "      <td>399</td>\n",
       "    </tr>\n",
       "    <tr>\n",
       "      <th>24</th>\n",
       "      <td>V_25</td>\n",
       "      <td>I fuel my daily creativity with coffee:</td>\n",
       "      <td>0</td>\n",
       "    </tr>\n",
       "    <tr>\n",
       "      <th>25</th>\n",
       "      <td>V_26</td>\n",
       "      <td>Highest level of education I've completed:</td>\n",
       "      <td>0</td>\n",
       "    </tr>\n",
       "    <tr>\n",
       "      <th>26</th>\n",
       "      <td>V_27</td>\n",
       "      <td>I learned design:</td>\n",
       "      <td>0</td>\n",
       "    </tr>\n",
       "    <tr>\n",
       "      <th>27</th>\n",
       "      <td>V_28</td>\n",
       "      <td>My major focus of study was:</td>\n",
       "      <td>0</td>\n",
       "    </tr>\n",
       "    <tr>\n",
       "      <th>28</th>\n",
       "      <td>V_29</td>\n",
       "      <td>Over my career, I've had:</td>\n",
       "      <td>0</td>\n",
       "    </tr>\n",
       "    <tr>\n",
       "      <th>29</th>\n",
       "      <td>V_30</td>\n",
       "      <td>I've shifted my specialty or focus area:</td>\n",
       "      <td>0</td>\n",
       "    </tr>\n",
       "    <tr>\n",
       "      <th>30</th>\n",
       "      <td>V_31</td>\n",
       "      <td>I stay current with design by:</td>\n",
       "      <td>0</td>\n",
       "    </tr>\n",
       "    <tr>\n",
       "      <th>31</th>\n",
       "      <td>V_32</td>\n",
       "      <td>I'm a member of:</td>\n",
       "      <td>0</td>\n",
       "    </tr>\n",
       "    <tr>\n",
       "      <th>32</th>\n",
       "      <td>V_33</td>\n",
       "      <td>I'd like to get better at:</td>\n",
       "      <td>0</td>\n",
       "    </tr>\n",
       "    <tr>\n",
       "      <th>33</th>\n",
       "      <td>V_34</td>\n",
       "      <td>I am:</td>\n",
       "      <td>0</td>\n",
       "    </tr>\n",
       "    <tr>\n",
       "      <th>34</th>\n",
       "      <td>V_35</td>\n",
       "      <td>Right now, I can't stop listening to:</td>\n",
       "      <td>78</td>\n",
       "    </tr>\n",
       "    <tr>\n",
       "      <th>35</th>\n",
       "      <td>V_36</td>\n",
       "      <td>I live in:</td>\n",
       "      <td>2382</td>\n",
       "    </tr>\n",
       "    <tr>\n",
       "      <th>36</th>\n",
       "      <td>V_37</td>\n",
       "      <td>My age is:</td>\n",
       "      <td>0</td>\n",
       "    </tr>\n",
       "    <tr>\n",
       "      <th>37</th>\n",
       "      <td>V_38</td>\n",
       "      <td>I am:</td>\n",
       "      <td>0</td>\n",
       "    </tr>\n",
       "    <tr>\n",
       "      <th>38</th>\n",
       "      <td>V_39</td>\n",
       "      <td>I consider myself:</td>\n",
       "      <td>0</td>\n",
       "    </tr>\n",
       "    <tr>\n",
       "      <th>39</th>\n",
       "      <td>V_40</td>\n",
       "      <td>My ethnicity is:</td>\n",
       "      <td>0</td>\n",
       "    </tr>\n",
       "    <tr>\n",
       "      <th>40</th>\n",
       "      <td>V_41</td>\n",
       "      <td>The most critical issues and challenges curren...</td>\n",
       "      <td>439</td>\n",
       "    </tr>\n",
       "    <tr>\n",
       "      <th>41</th>\n",
       "      <td>V_42</td>\n",
       "      <td>The emerging trends and technologies that will...</td>\n",
       "      <td>655</td>\n",
       "    </tr>\n",
       "    <tr>\n",
       "      <th>42</th>\n",
       "      <td>V_43</td>\n",
       "      <td>The most valuable design skills for the future...</td>\n",
       "      <td>429</td>\n",
       "    </tr>\n",
       "  </tbody>\n",
       "</table>\n",
       "</div>"
      ],
      "text/plain": [
       "   Column                                               Desc   Null\n",
       "0     V_1                         I've worked in design for:      0\n",
       "1     V_2                               I primarily work in:      0\n",
       "2     V_3                                  I'm also good at:      0\n",
       "3     V_4                                    I am currently:      0\n",
       "4     V_5                         My company specializes in:   7198\n",
       "5     V_6                                     My company is:   7317\n",
       "6     V_7                                           I teach:  12800\n",
       "7     V_8                           I'm not working because:  12831\n",
       "8     V_9                               My organization has:    409\n",
       "9    V_10                              My immediate team is:    402\n",
       "10   V_11       My work touches these industries or sectors:    401\n",
       "11   V_12         I’ve been at my current place of work for:    401\n",
       "12   V_13                                        My role is:   7090\n",
       "13   V_14                                        My role is:   7217\n",
       "14   V_15                                        My role is:  12769\n",
       "15   V_16                  I've been in my current role for:    401\n",
       "16   V_17                                  I typically work:    401\n",
       "17   V_18                               My annual salary is:    397\n",
       "18   V_19                                   My job provides:    400\n",
       "19   V_20                      In my current role, there is:    399\n",
       "20   V_21                          In my current role, I am:    399\n",
       "21   V_22                                         My job is:    399\n",
       "22   V_23                               My job stability is:    399\n",
       "23   V_24                     In addition to my job, I also:    399\n",
       "24   V_25            I fuel my daily creativity with coffee:      0\n",
       "25   V_26         Highest level of education I've completed:      0\n",
       "26   V_27                                  I learned design:      0\n",
       "27   V_28                       My major focus of study was:      0\n",
       "28   V_29                          Over my career, I've had:      0\n",
       "29   V_30           I've shifted my specialty or focus area:      0\n",
       "30   V_31                     I stay current with design by:      0\n",
       "31   V_32                                   I'm a member of:      0\n",
       "32   V_33                         I'd like to get better at:      0\n",
       "33   V_34                                              I am:      0\n",
       "34   V_35              Right now, I can't stop listening to:     78\n",
       "35   V_36                                         I live in:   2382\n",
       "36   V_37                                         My age is:      0\n",
       "37   V_38                                              I am:      0\n",
       "38   V_39                                 I consider myself:      0\n",
       "39   V_40                                   My ethnicity is:      0\n",
       "40   V_41  The most critical issues and challenges curren...    439\n",
       "41   V_42  The emerging trends and technologies that will...    655\n",
       "42   V_43  The most valuable design skills for the future...    429"
      ]
     },
     "execution_count": 29,
     "metadata": {},
     "output_type": "execute_result"
    }
   ],
   "source": [
    "dff = pd.DataFrame(columns=['Column','Desc', 'Null'])\n",
    "for col in df.columns:\n",
    "    num_null = df[col].isnull().sum()\n",
    "    dff = dff.append({'Column': col, 'Desc' : col_dict[col], 'Null' : num_null }, ignore_index=True)\n",
    "dff"
   ]
  },
  {
   "cell_type": "markdown",
   "metadata": {},
   "source": [
    "### ** Take a look at Salary Outliers"
   ]
  },
  {
   "cell_type": "code",
   "execution_count": 30,
   "metadata": {},
   "outputs": [
    {
     "name": "stdout",
     "output_type": "stream",
     "text": [
      "The 99% percentile of salary is: 210799\n",
      "The 90% percentile of salary is: 120000\n",
      "The 85% percentile of salary is: 103000\n"
     ]
    }
   ],
   "source": [
    "print('The 99% percentile of salary is: ' + \\\n",
    "      str(int(np.percentile(df.V_18.dropna(), 99))))\n",
    "\n",
    "print('The 90% percentile of salary is: ' + \\\n",
    "      str(int(np.percentile(df.V_18.dropna(), 90))))\n",
    "\n",
    "print('The 85% percentile of salary is: ' + \\\n",
    "      str(int(np.percentile(df.V_18.dropna(), 85))))"
   ]
  },
  {
   "cell_type": "code",
   "execution_count": 31,
   "metadata": {},
   "outputs": [
    {
     "data": {
      "text/plain": [
       "Text(50.5228,0.5,'Age')"
      ]
     },
     "execution_count": 31,
     "metadata": {},
     "output_type": "execute_result"
    },
    {
     "data": {
      "image/png": "[encoded data removed]",
      "text/plain": [
       "<matplotlib.figure.Figure at 0x1a0ebe0048>"
      ]
     },
     "metadata": {},
     "output_type": "display_data"
    }
   ],
   "source": [
    "# take a look at salary vs. age\n",
    "dff = pd.DataFrame()\n",
    "dff['salary'] = df['V_18'] / 1000\n",
    "dff['age'] = df['V_37']\n",
    "dff['salary over million'] = dff['salary'] > 1000\n",
    "sns.lmplot(data = dff, x = 'salary', y = 'age', fit_reg = False, hue = 'salary over million')\n",
    "plt.xlabel('Salary (thousand)')\n",
    "plt.ylabel('Age')"
   ]
  },
  {
   "cell_type": "code",
   "execution_count": 32,
   "metadata": {},
   "outputs": [],
   "source": [
    "# export a separate file with salary over million record\n",
    "df_with_column_names(df[df.V_18 > 1000000], col_dict).to_csv('output_salary_over_million.csv', index = False)"
   ]
  },
  {
   "cell_type": "markdown",
   "metadata": {},
   "source": [
    "### **Break \"Age\" into groups"
   ]
  },
  {
   "cell_type": "code",
   "execution_count": 33,
   "metadata": {},
   "outputs": [],
   "source": [
    "def age_break(x):\n",
    "    if (x < 20): return ('Younger than 20')\n",
    "    elif (x <= 25): return ('20 to 25')\n",
    "    elif (x <= 30): return ('25 to 30')\n",
    "    elif (x <= 35): return ('30 to 35')\n",
    "    elif (x <= 40): return ('35 to 40')\n",
    "    elif (x <= 45): return ('40 to 45')\n",
    "    elif (x <= 50): return ('45 to 50')\n",
    "    else: return ('Older than 50')\n",
    "\n",
    "df['V_37'] = df['V_37'].apply(lambda x : age_break(x))\n",
    "cate_cols.append('V_37')\n",
    "continous_cols.remove('V_37')"
   ]
  },
  {
   "cell_type": "markdown",
   "metadata": {},
   "source": [
    "### **Exclude outliers for salary"
   ]
  },
  {
   "cell_type": "code",
   "execution_count": 34,
   "metadata": {},
   "outputs": [],
   "source": [
    "## Remove outliers for salary\n",
    "# 1. Null values \n",
    "# 2. zero salary\n",
    "# 3. Top 1% salary\n",
    "\n",
    "df = df[~((df.V_18.isnull()) | \n",
    "          (df.V_18 == 0) | \n",
    "          (df.V_18 > 210000))]\n",
    "\n",
    "df = df.reset_index()\n",
    "df = df.drop('index', axis = 1)"
   ]
  },
  {
   "cell_type": "markdown",
   "metadata": {},
   "source": [
    "### Script to deal with columns with pipe"
   ]
  },
  {
   "cell_type": "code",
   "execution_count": 35,
   "metadata": {
    "collapsed": true
   },
   "outputs": [],
   "source": [
    "df['V_36'] = df['V_36'].astype(np.object)\n",
    "df = df.replace(np.nan,'', regex=True)\n",
    "pipe_col_dict = {}\n",
    "\n",
    "for col in pipe_col:\n",
    "    options = set()\n",
    "    for row in df[col]:\n",
    "        arrs = row.split('|') \n",
    "        for arr in arrs:\n",
    "            if arr != '':\n",
    "                options.add(arr)\n",
    "    \n",
    "    pipe_col_dict[col] = {}\n",
    "    \n",
    "    index = 1\n",
    "    for option in options:\n",
    "        sub_col = col + '_' + str(index)\n",
    "        df.loc[:,sub_col] = 0\n",
    "        pipe_col_dict[col][option] = sub_col\n",
    "        col_dict[sub_col] = col_dict[col] + '-' + option\n",
    "        index += 1"
   ]
  },
  {
   "cell_type": "code",
   "execution_count": null,
   "metadata": {},
   "outputs": [],
   "source": [
    "for col in pipe_col:\n",
    "    row_num = 0;\n",
    "    for row in df[col]:\n",
    "        arrs = row.split('|') \n",
    "        for arr in arrs:\n",
    "            if arr != '':\n",
    "                sub_col = pipe_col_dict[col][arr]\n",
    "                df.loc[row_num, sub_col] += 1\n",
    "        row_num += 1"
   ]
  },
  {
   "cell_type": "markdown",
   "metadata": {},
   "source": [
    "### Output csv w/ and w/o column names"
   ]
  },
  {
   "cell_type": "code",
   "execution_count": 37,
   "metadata": {
    "collapsed": true
   },
   "outputs": [],
   "source": [
    "df.to_csv('output.csv', index = False)"
   ]
  },
  {
   "cell_type": "code",
   "execution_count": 38,
   "metadata": {},
   "outputs": [],
   "source": [
    "df_with_column_names(df, col_dict).to_csv('output_with_column_names.csv', index = False)    "
   ]
  },
  {
   "cell_type": "markdown",
   "metadata": {},
   "source": [
    "### End of preprocessing"
   ]
  },
  {
   "cell_type": "code",
   "execution_count": 39,
   "metadata": {
    "collapsed": true
   },
   "outputs": [],
   "source": [
    "df = pd.read_csv('output.csv')\n",
    "num_records = len(df)"
   ]
  },
  {
   "cell_type": "markdown",
   "metadata": {},
   "source": [
    "### Basic Summary of each column (only show top 5)"
   ]
  },
  {
   "cell_type": "code",
   "execution_count": 40,
   "metadata": {
    "collapsed": true
   },
   "outputs": [],
   "source": [
    "def summary_cate_col(col):\n",
    "    if col in continous_cols:\n",
    "        return\n",
    "    \n",
    "    elif col in pipe_col:\n",
    "        dff = pd.DataFrame(columns=['Options','Count','Percent'])\n",
    "        for key, value in pipe_col_dict[col].items():\n",
    "            count = df[value].sum()\n",
    "            dff = dff.append({'Options': key, 'Count' : count}, ignore_index=True)\n",
    "    \n",
    "    else:\n",
    "        dff = pd.DataFrame(df[col].value_counts())\n",
    "        dff.reset_index(inplace=True)\n",
    "        dff.columns = ['Options','Count']\n",
    "    \n",
    "    dff['Percent'] = dff.Count / num_records\n",
    "    dff = dff.sort_values(by = 'Percent', ascending = False).head(5)\n",
    "    dff = dff.style.format({'Percent': '{:,.2%}'.format})\n",
    "    return dff"
   ]
  },
  {
   "cell_type": "code",
   "execution_count": 43,
   "metadata": {},
   "outputs": [
    {
     "data": {
      "text/plain": [
       "\"V_1 :  I've worked in design for:\""
      ]
     },
     "metadata": {},
     "output_type": "display_data"
    },
    {
     "data": {
      "text/html": [
       "<style  type=\"text/css\" >\n",
       "</style>  \n",
       "<table id=\"T_5d313fd8_499e_11e8_88e6_8c85905f408e\" > \n",
       "<thead>    <tr> \n",
       "        <th class=\"blank level0\" ></th> \n",
       "        <th class=\"col_heading level0 col0\" >Options</th> \n",
       "        <th class=\"col_heading level0 col1\" >Count</th> \n",
       "        <th class=\"col_heading level0 col2\" >Percent</th> \n",
       "    </tr></thead> \n",
       "<tbody>    <tr> \n",
       "        <th id=\"T_5d313fd8_499e_11e8_88e6_8c85905f408elevel0_row0\" class=\"row_heading level0 row0\" >0</th> \n",
       "        <td id=\"T_5d313fd8_499e_11e8_88e6_8c85905f408erow0_col0\" class=\"data row0 col0\" >1-4 years</td> \n",
       "        <td id=\"T_5d313fd8_499e_11e8_88e6_8c85905f408erow0_col1\" class=\"data row0 col1\" >3954</td> \n",
       "        <td id=\"T_5d313fd8_499e_11e8_88e6_8c85905f408erow0_col2\" class=\"data row0 col2\" >31.69%</td> \n",
       "    </tr>    <tr> \n",
       "        <th id=\"T_5d313fd8_499e_11e8_88e6_8c85905f408elevel0_row1\" class=\"row_heading level0 row1\" >1</th> \n",
       "        <td id=\"T_5d313fd8_499e_11e8_88e6_8c85905f408erow1_col0\" class=\"data row1 col0\" >5-9 years</td> \n",
       "        <td id=\"T_5d313fd8_499e_11e8_88e6_8c85905f408erow1_col1\" class=\"data row1 col1\" >3597</td> \n",
       "        <td id=\"T_5d313fd8_499e_11e8_88e6_8c85905f408erow1_col2\" class=\"data row1 col2\" >28.83%</td> \n",
       "    </tr>    <tr> \n",
       "        <th id=\"T_5d313fd8_499e_11e8_88e6_8c85905f408elevel0_row2\" class=\"row_heading level0 row2\" >2</th> \n",
       "        <td id=\"T_5d313fd8_499e_11e8_88e6_8c85905f408erow2_col0\" class=\"data row2 col0\" >10-14 years</td> \n",
       "        <td id=\"T_5d313fd8_499e_11e8_88e6_8c85905f408erow2_col1\" class=\"data row2 col1\" >1986</td> \n",
       "        <td id=\"T_5d313fd8_499e_11e8_88e6_8c85905f408erow2_col2\" class=\"data row2 col2\" >15.92%</td> \n",
       "    </tr>    <tr> \n",
       "        <th id=\"T_5d313fd8_499e_11e8_88e6_8c85905f408elevel0_row3\" class=\"row_heading level0 row3\" >3</th> \n",
       "        <td id=\"T_5d313fd8_499e_11e8_88e6_8c85905f408erow3_col0\" class=\"data row3 col0\" >15-20 years</td> \n",
       "        <td id=\"T_5d313fd8_499e_11e8_88e6_8c85905f408erow3_col1\" class=\"data row3 col1\" >1234</td> \n",
       "        <td id=\"T_5d313fd8_499e_11e8_88e6_8c85905f408erow3_col2\" class=\"data row3 col2\" >9.89%</td> \n",
       "    </tr>    <tr> \n",
       "        <th id=\"T_5d313fd8_499e_11e8_88e6_8c85905f408elevel0_row4\" class=\"row_heading level0 row4\" >4</th> \n",
       "        <td id=\"T_5d313fd8_499e_11e8_88e6_8c85905f408erow4_col0\" class=\"data row4 col0\" >20+ years</td> \n",
       "        <td id=\"T_5d313fd8_499e_11e8_88e6_8c85905f408erow4_col1\" class=\"data row4 col1\" >1148</td> \n",
       "        <td id=\"T_5d313fd8_499e_11e8_88e6_8c85905f408erow4_col2\" class=\"data row4 col2\" >9.20%</td> \n",
       "    </tr></tbody> \n",
       "</table> "
      ],
      "text/plain": [
       "<pandas.io.formats.style.Styler at 0x10bcdd2b0>"
      ]
     },
     "metadata": {},
     "output_type": "display_data"
    },
    {
     "data": {
      "text/plain": [
       "'V_2 : I primarily work in:'"
      ]
     },
     "metadata": {},
     "output_type": "display_data"
    },
    {
     "data": {
      "text/html": [
       "<style  type=\"text/css\" >\n",
       "</style>  \n",
       "<table id=\"T_5d417b78_499e_11e8_a51c_8c85905f408e\" > \n",
       "<thead>    <tr> \n",
       "        <th class=\"blank level0\" ></th> \n",
       "        <th class=\"col_heading level0 col0\" >Options</th> \n",
       "        <th class=\"col_heading level0 col1\" >Count</th> \n",
       "        <th class=\"col_heading level0 col2\" >Percent</th> \n",
       "    </tr></thead> \n",
       "<tbody>    <tr> \n",
       "        <th id=\"T_5d417b78_499e_11e8_a51c_8c85905f408elevel0_row0\" class=\"row_heading level0 row0\" >13</th> \n",
       "        <td id=\"T_5d417b78_499e_11e8_a51c_8c85905f408erow0_col0\" class=\"data row0 col0\" >Graphic Design</td> \n",
       "        <td id=\"T_5d417b78_499e_11e8_a51c_8c85905f408erow0_col1\" class=\"data row0 col1\" >8537</td> \n",
       "        <td id=\"T_5d417b78_499e_11e8_a51c_8c85905f408erow0_col2\" class=\"data row0 col2\" >68.42%</td> \n",
       "    </tr>    <tr> \n",
       "        <th id=\"T_5d417b78_499e_11e8_a51c_8c85905f408elevel0_row1\" class=\"row_heading level0 row1\" >17</th> \n",
       "        <td id=\"T_5d417b78_499e_11e8_a51c_8c85905f408erow1_col0\" class=\"data row1 col0\" >Web Design</td> \n",
       "        <td id=\"T_5d417b78_499e_11e8_a51c_8c85905f408erow1_col1\" class=\"data row1 col1\" >4709</td> \n",
       "        <td id=\"T_5d417b78_499e_11e8_a51c_8c85905f408erow1_col2\" class=\"data row1 col2\" >37.74%</td> \n",
       "    </tr>    <tr> \n",
       "        <th id=\"T_5d417b78_499e_11e8_a51c_8c85905f408elevel0_row2\" class=\"row_heading level0 row2\" >0</th> \n",
       "        <td id=\"T_5d417b78_499e_11e8_a51c_8c85905f408erow2_col0\" class=\"data row2 col0\" >UX Design</td> \n",
       "        <td id=\"T_5d417b78_499e_11e8_a51c_8c85905f408erow2_col1\" class=\"data row2 col1\" >4097</td> \n",
       "        <td id=\"T_5d417b78_499e_11e8_a51c_8c85905f408erow2_col2\" class=\"data row2 col2\" >32.84%</td> \n",
       "    </tr>    <tr> \n",
       "        <th id=\"T_5d417b78_499e_11e8_a51c_8c85905f408elevel0_row3\" class=\"row_heading level0 row3\" >30</th> \n",
       "        <td id=\"T_5d417b78_499e_11e8_a51c_8c85905f408erow3_col0\" class=\"data row3 col0\" >UI Design</td> \n",
       "        <td id=\"T_5d417b78_499e_11e8_a51c_8c85905f408erow3_col1\" class=\"data row3 col1\" >3801</td> \n",
       "        <td id=\"T_5d417b78_499e_11e8_a51c_8c85905f408erow3_col2\" class=\"data row3 col2\" >30.46%</td> \n",
       "    </tr>    <tr> \n",
       "        <th id=\"T_5d417b78_499e_11e8_a51c_8c85905f408elevel0_row4\" class=\"row_heading level0 row4\" >10</th> \n",
       "        <td id=\"T_5d417b78_499e_11e8_a51c_8c85905f408erow4_col0\" class=\"data row4 col0\" >Marketing</td> \n",
       "        <td id=\"T_5d417b78_499e_11e8_a51c_8c85905f408erow4_col1\" class=\"data row4 col1\" >3793</td> \n",
       "        <td id=\"T_5d417b78_499e_11e8_a51c_8c85905f408erow4_col2\" class=\"data row4 col2\" >30.40%</td> \n",
       "    </tr></tbody> \n",
       "</table> "
      ],
      "text/plain": [
       "<pandas.io.formats.style.Styler at 0x1a183c6898>"
      ]
     },
     "metadata": {},
     "output_type": "display_data"
    },
    {
     "data": {
      "text/plain": [
       "\"V_3 : I'm also good at:\""
      ]
     },
     "metadata": {},
     "output_type": "display_data"
    },
    {
     "data": {
      "text/html": [
       "<style  type=\"text/css\" >\n",
       "</style>  \n",
       "<table id=\"T_5d4aa6d0_499e_11e8_93a2_8c85905f408e\" > \n",
       "<thead>    <tr> \n",
       "        <th class=\"blank level0\" ></th> \n",
       "        <th class=\"col_heading level0 col0\" >Options</th> \n",
       "        <th class=\"col_heading level0 col1\" >Count</th> \n",
       "        <th class=\"col_heading level0 col2\" >Percent</th> \n",
       "    </tr></thead> \n",
       "<tbody>    <tr> \n",
       "        <th id=\"T_5d4aa6d0_499e_11e8_93a2_8c85905f408elevel0_row0\" class=\"row_heading level0 row0\" >17</th> \n",
       "        <td id=\"T_5d4aa6d0_499e_11e8_93a2_8c85905f408erow0_col0\" class=\"data row0 col0\" >Brainstorming and Ideation</td> \n",
       "        <td id=\"T_5d4aa6d0_499e_11e8_93a2_8c85905f408erow0_col1\" class=\"data row0 col1\" >9710</td> \n",
       "        <td id=\"T_5d4aa6d0_499e_11e8_93a2_8c85905f408erow0_col2\" class=\"data row0 col2\" >77.82%</td> \n",
       "    </tr>    <tr> \n",
       "        <th id=\"T_5d4aa6d0_499e_11e8_93a2_8c85905f408elevel0_row1\" class=\"row_heading level0 row1\" >11</th> \n",
       "        <td id=\"T_5d4aa6d0_499e_11e8_93a2_8c85905f408erow1_col0\" class=\"data row1 col0\" >Project Management</td> \n",
       "        <td id=\"T_5d4aa6d0_499e_11e8_93a2_8c85905f408erow1_col1\" class=\"data row1 col1\" >5441</td> \n",
       "        <td id=\"T_5d4aa6d0_499e_11e8_93a2_8c85905f408erow1_col2\" class=\"data row1 col2\" >43.61%</td> \n",
       "    </tr>    <tr> \n",
       "        <th id=\"T_5d4aa6d0_499e_11e8_93a2_8c85905f408elevel0_row2\" class=\"row_heading level0 row2\" >14</th> \n",
       "        <td id=\"T_5d4aa6d0_499e_11e8_93a2_8c85905f408erow2_col0\" class=\"data row2 col0\" >Drawing or Painting</td> \n",
       "        <td id=\"T_5d4aa6d0_499e_11e8_93a2_8c85905f408erow2_col1\" class=\"data row2 col1\" >4969</td> \n",
       "        <td id=\"T_5d4aa6d0_499e_11e8_93a2_8c85905f408erow2_col2\" class=\"data row2 col2\" >39.83%</td> \n",
       "    </tr>    <tr> \n",
       "        <th id=\"T_5d4aa6d0_499e_11e8_93a2_8c85905f408elevel0_row3\" class=\"row_heading level0 row3\" >2</th> \n",
       "        <td id=\"T_5d4aa6d0_499e_11e8_93a2_8c85905f408erow3_col0\" class=\"data row3 col0\" >Leadership</td> \n",
       "        <td id=\"T_5d4aa6d0_499e_11e8_93a2_8c85905f408erow3_col1\" class=\"data row3 col1\" >4960</td> \n",
       "        <td id=\"T_5d4aa6d0_499e_11e8_93a2_8c85905f408erow3_col2\" class=\"data row3 col2\" >39.75%</td> \n",
       "    </tr>    <tr> \n",
       "        <th id=\"T_5d4aa6d0_499e_11e8_93a2_8c85905f408elevel0_row4\" class=\"row_heading level0 row4\" >4</th> \n",
       "        <td id=\"T_5d4aa6d0_499e_11e8_93a2_8c85905f408erow4_col0\" class=\"data row4 col0\" >Writing</td> \n",
       "        <td id=\"T_5d4aa6d0_499e_11e8_93a2_8c85905f408erow4_col1\" class=\"data row4 col1\" >4570</td> \n",
       "        <td id=\"T_5d4aa6d0_499e_11e8_93a2_8c85905f408erow4_col2\" class=\"data row4 col2\" >36.63%</td> \n",
       "    </tr></tbody> \n",
       "</table> "
      ],
      "text/plain": [
       "<pandas.io.formats.style.Styler at 0x1a183bccc0>"
      ]
     },
     "metadata": {},
     "output_type": "display_data"
    },
    {
     "data": {
      "text/plain": [
       "'V_4 : I am currently:'"
      ]
     },
     "metadata": {},
     "output_type": "display_data"
    },
    {
     "data": {
      "text/html": [
       "<style  type=\"text/css\" >\n",
       "</style>  \n",
       "<table id=\"T_5d4c4bde_499e_11e8_91cc_8c85905f408e\" > \n",
       "<thead>    <tr> \n",
       "        <th class=\"blank level0\" ></th> \n",
       "        <th class=\"col_heading level0 col0\" >Options</th> \n",
       "        <th class=\"col_heading level0 col1\" >Count</th> \n",
       "        <th class=\"col_heading level0 col2\" >Percent</th> \n",
       "    </tr></thead> \n",
       "<tbody>    <tr> \n",
       "        <th id=\"T_5d4c4bde_499e_11e8_91cc_8c85905f408elevel0_row0\" class=\"row_heading level0 row0\" >0</th> \n",
       "        <td id=\"T_5d4c4bde_499e_11e8_91cc_8c85905f408erow0_col0\" class=\"data row0 col0\" >A full-time employee in-house</td> \n",
       "        <td id=\"T_5d4c4bde_499e_11e8_91cc_8c85905f408erow0_col1\" class=\"data row0 col1\" >5453</td> \n",
       "        <td id=\"T_5d4c4bde_499e_11e8_91cc_8c85905f408erow0_col2\" class=\"data row0 col2\" >43.70%</td> \n",
       "    </tr>    <tr> \n",
       "        <th id=\"T_5d4c4bde_499e_11e8_91cc_8c85905f408elevel0_row1\" class=\"row_heading level0 row1\" >1</th> \n",
       "        <td id=\"T_5d4c4bde_499e_11e8_91cc_8c85905f408erow1_col0\" class=\"data row1 col0\" >A full-time employee at an agency or consultancy</td> \n",
       "        <td id=\"T_5d4c4bde_499e_11e8_91cc_8c85905f408erow1_col1\" class=\"data row1 col1\" >3690</td> \n",
       "        <td id=\"T_5d4c4bde_499e_11e8_91cc_8c85905f408erow1_col2\" class=\"data row1 col2\" >29.57%</td> \n",
       "    </tr>    <tr> \n",
       "        <th id=\"T_5d4c4bde_499e_11e8_91cc_8c85905f408elevel0_row2\" class=\"row_heading level0 row2\" >2</th> \n",
       "        <td id=\"T_5d4c4bde_499e_11e8_91cc_8c85905f408erow2_col0\" class=\"data row2 col0\" >Self-employed or freelancing</td> \n",
       "        <td id=\"T_5d4c4bde_499e_11e8_91cc_8c85905f408erow2_col1\" class=\"data row2 col1\" >1932</td> \n",
       "        <td id=\"T_5d4c4bde_499e_11e8_91cc_8c85905f408erow2_col2\" class=\"data row2 col2\" >15.48%</td> \n",
       "    </tr>    <tr> \n",
       "        <th id=\"T_5d4c4bde_499e_11e8_91cc_8c85905f408elevel0_row3\" class=\"row_heading level0 row3\" >3</th> \n",
       "        <td id=\"T_5d4c4bde_499e_11e8_91cc_8c85905f408erow3_col0\" class=\"data row3 col0\" >A contract employee in-house</td> \n",
       "        <td id=\"T_5d4c4bde_499e_11e8_91cc_8c85905f408erow3_col1\" class=\"data row3 col1\" >395</td> \n",
       "        <td id=\"T_5d4c4bde_499e_11e8_91cc_8c85905f408erow3_col2\" class=\"data row3 col2\" >3.17%</td> \n",
       "    </tr>    <tr> \n",
       "        <th id=\"T_5d4c4bde_499e_11e8_91cc_8c85905f408elevel0_row4\" class=\"row_heading level0 row4\" >4</th> \n",
       "        <td id=\"T_5d4c4bde_499e_11e8_91cc_8c85905f408erow4_col0\" class=\"data row4 col0\" >An educator</td> \n",
       "        <td id=\"T_5d4c4bde_499e_11e8_91cc_8c85905f408erow4_col1\" class=\"data row4 col1\" >382</td> \n",
       "        <td id=\"T_5d4c4bde_499e_11e8_91cc_8c85905f408erow4_col2\" class=\"data row4 col2\" >3.06%</td> \n",
       "    </tr></tbody> \n",
       "</table> "
      ],
      "text/plain": [
       "<pandas.io.formats.style.Styler at 0x1a183cc0b8>"
      ]
     },
     "metadata": {},
     "output_type": "display_data"
    },
    {
     "data": {
      "text/plain": [
       "'V_5 : My company specializes in:'"
      ]
     },
     "metadata": {},
     "output_type": "display_data"
    },
    {
     "data": {
      "text/html": [
       "<style  type=\"text/css\" >\n",
       "</style>  \n",
       "<table id=\"T_5d524d18_499e_11e8_b90c_8c85905f408e\" > \n",
       "<thead>    <tr> \n",
       "        <th class=\"blank level0\" ></th> \n",
       "        <th class=\"col_heading level0 col0\" >Options</th> \n",
       "        <th class=\"col_heading level0 col1\" >Count</th> \n",
       "        <th class=\"col_heading level0 col2\" >Percent</th> \n",
       "    </tr></thead> \n",
       "<tbody>    <tr> \n",
       "        <th id=\"T_5d524d18_499e_11e8_b90c_8c85905f408elevel0_row0\" class=\"row_heading level0 row0\" >3</th> \n",
       "        <td id=\"T_5d524d18_499e_11e8_b90c_8c85905f408erow0_col0\" class=\"data row0 col0\" >Digital</td> \n",
       "        <td id=\"T_5d524d18_499e_11e8_b90c_8c85905f408erow0_col1\" class=\"data row0 col1\" >3337</td> \n",
       "        <td id=\"T_5d524d18_499e_11e8_b90c_8c85905f408erow0_col2\" class=\"data row0 col2\" >26.75%</td> \n",
       "    </tr>    <tr> \n",
       "        <th id=\"T_5d524d18_499e_11e8_b90c_8c85905f408elevel0_row1\" class=\"row_heading level0 row1\" >4</th> \n",
       "        <td id=\"T_5d524d18_499e_11e8_b90c_8c85905f408erow1_col0\" class=\"data row1 col0\" >Branding</td> \n",
       "        <td id=\"T_5d524d18_499e_11e8_b90c_8c85905f408erow1_col1\" class=\"data row1 col1\" >2928</td> \n",
       "        <td id=\"T_5d524d18_499e_11e8_b90c_8c85905f408erow1_col2\" class=\"data row1 col2\" >23.47%</td> \n",
       "    </tr>    <tr> \n",
       "        <th id=\"T_5d524d18_499e_11e8_b90c_8c85905f408elevel0_row2\" class=\"row_heading level0 row2\" >6</th> \n",
       "        <td id=\"T_5d524d18_499e_11e8_b90c_8c85905f408erow2_col0\" class=\"data row2 col0\" >Print</td> \n",
       "        <td id=\"T_5d524d18_499e_11e8_b90c_8c85905f408erow2_col1\" class=\"data row2 col1\" >2330</td> \n",
       "        <td id=\"T_5d524d18_499e_11e8_b90c_8c85905f408erow2_col2\" class=\"data row2 col2\" >18.67%</td> \n",
       "    </tr>    <tr> \n",
       "        <th id=\"T_5d524d18_499e_11e8_b90c_8c85905f408elevel0_row3\" class=\"row_heading level0 row3\" >2</th> \n",
       "        <td id=\"T_5d524d18_499e_11e8_b90c_8c85905f408erow3_col0\" class=\"data row3 col0\" >Advertising</td> \n",
       "        <td id=\"T_5d524d18_499e_11e8_b90c_8c85905f408erow3_col1\" class=\"data row3 col1\" >2046</td> \n",
       "        <td id=\"T_5d524d18_499e_11e8_b90c_8c85905f408erow3_col2\" class=\"data row3 col2\" >16.40%</td> \n",
       "    </tr>    <tr> \n",
       "        <th id=\"T_5d524d18_499e_11e8_b90c_8c85905f408elevel0_row4\" class=\"row_heading level0 row4\" >10</th> \n",
       "        <td id=\"T_5d524d18_499e_11e8_b90c_8c85905f408erow4_col0\" class=\"data row4 col0\" >Strategy</td> \n",
       "        <td id=\"T_5d524d18_499e_11e8_b90c_8c85905f408erow4_col1\" class=\"data row4 col1\" >2039</td> \n",
       "        <td id=\"T_5d524d18_499e_11e8_b90c_8c85905f408erow4_col2\" class=\"data row4 col2\" >16.34%</td> \n",
       "    </tr></tbody> \n",
       "</table> "
      ],
      "text/plain": [
       "<pandas.io.formats.style.Styler at 0x1a183c63c8>"
      ]
     },
     "metadata": {},
     "output_type": "display_data"
    },
    {
     "data": {
      "text/plain": [
       "'V_6 : My company is:'"
      ]
     },
     "metadata": {},
     "output_type": "display_data"
    },
    {
     "data": {
      "text/html": [
       "<style  type=\"text/css\" >\n",
       "</style>  \n",
       "<table id=\"T_5d541364_499e_11e8_9555_8c85905f408e\" > \n",
       "<thead>    <tr> \n",
       "        <th class=\"blank level0\" ></th> \n",
       "        <th class=\"col_heading level0 col0\" >Options</th> \n",
       "        <th class=\"col_heading level0 col1\" >Count</th> \n",
       "        <th class=\"col_heading level0 col2\" >Percent</th> \n",
       "    </tr></thead> \n",
       "<tbody>    <tr> \n",
       "        <th id=\"T_5d541364_499e_11e8_9555_8c85905f408elevel0_row0\" class=\"row_heading level0 row0\" >0</th> \n",
       "        <td id=\"T_5d541364_499e_11e8_9555_8c85905f408erow0_col0\" class=\"data row0 col0\" >For-Profit/Corporate</td> \n",
       "        <td id=\"T_5d541364_499e_11e8_9555_8c85905f408erow0_col1\" class=\"data row0 col1\" >3662</td> \n",
       "        <td id=\"T_5d541364_499e_11e8_9555_8c85905f408erow0_col2\" class=\"data row0 col2\" >29.35%</td> \n",
       "    </tr>    <tr> \n",
       "        <th id=\"T_5d541364_499e_11e8_9555_8c85905f408elevel0_row1\" class=\"row_heading level0 row1\" >1</th> \n",
       "        <td id=\"T_5d541364_499e_11e8_9555_8c85905f408erow1_col0\" class=\"data row1 col0\" >Startup</td> \n",
       "        <td id=\"T_5d541364_499e_11e8_9555_8c85905f408erow1_col1\" class=\"data row1 col1\" >676</td> \n",
       "        <td id=\"T_5d541364_499e_11e8_9555_8c85905f408erow1_col2\" class=\"data row1 col2\" >5.42%</td> \n",
       "    </tr>    <tr> \n",
       "        <th id=\"T_5d541364_499e_11e8_9555_8c85905f408elevel0_row2\" class=\"row_heading level0 row2\" >2</th> \n",
       "        <td id=\"T_5d541364_499e_11e8_9555_8c85905f408erow2_col0\" class=\"data row2 col0\" >Non-Profit</td> \n",
       "        <td id=\"T_5d541364_499e_11e8_9555_8c85905f408erow2_col1\" class=\"data row2 col1\" >600</td> \n",
       "        <td id=\"T_5d541364_499e_11e8_9555_8c85905f408erow2_col2\" class=\"data row2 col2\" >4.81%</td> \n",
       "    </tr>    <tr> \n",
       "        <th id=\"T_5d541364_499e_11e8_9555_8c85905f408elevel0_row3\" class=\"row_heading level0 row3\" >3</th> \n",
       "        <td id=\"T_5d541364_499e_11e8_9555_8c85905f408erow3_col0\" class=\"data row3 col0\" >Education</td> \n",
       "        <td id=\"T_5d541364_499e_11e8_9555_8c85905f408erow3_col1\" class=\"data row3 col1\" >447</td> \n",
       "        <td id=\"T_5d541364_499e_11e8_9555_8c85905f408erow3_col2\" class=\"data row3 col2\" >3.58%</td> \n",
       "    </tr>    <tr> \n",
       "        <th id=\"T_5d541364_499e_11e8_9555_8c85905f408elevel0_row4\" class=\"row_heading level0 row4\" >4</th> \n",
       "        <td id=\"T_5d541364_499e_11e8_9555_8c85905f408erow4_col0\" class=\"data row4 col0\" >Other</td> \n",
       "        <td id=\"T_5d541364_499e_11e8_9555_8c85905f408erow4_col1\" class=\"data row4 col1\" >214</td> \n",
       "        <td id=\"T_5d541364_499e_11e8_9555_8c85905f408erow4_col2\" class=\"data row4 col2\" >1.72%</td> \n",
       "    </tr></tbody> \n",
       "</table> "
      ],
      "text/plain": [
       "<pandas.io.formats.style.Styler at 0x1a183c67f0>"
      ]
     },
     "metadata": {},
     "output_type": "display_data"
    },
    {
     "data": {
      "text/plain": [
       "'V_7 : I teach:'"
      ]
     },
     "metadata": {},
     "output_type": "display_data"
    },
    {
     "data": {
      "text/html": [
       "<style  type=\"text/css\" >\n",
       "</style>  \n",
       "<table id=\"T_5d58708a_499e_11e8_8b73_8c85905f408e\" > \n",
       "<thead>    <tr> \n",
       "        <th class=\"blank level0\" ></th> \n",
       "        <th class=\"col_heading level0 col0\" >Options</th> \n",
       "        <th class=\"col_heading level0 col1\" >Count</th> \n",
       "        <th class=\"col_heading level0 col2\" >Percent</th> \n",
       "    </tr></thead> \n",
       "<tbody>    <tr> \n",
       "        <th id=\"T_5d58708a_499e_11e8_8b73_8c85905f408elevel0_row0\" class=\"row_heading level0 row0\" >0</th> \n",
       "        <td id=\"T_5d58708a_499e_11e8_8b73_8c85905f408erow0_col0\" class=\"data row0 col0\" >Undergraduate school</td> \n",
       "        <td id=\"T_5d58708a_499e_11e8_8b73_8c85905f408erow0_col1\" class=\"data row0 col1\" >261</td> \n",
       "        <td id=\"T_5d58708a_499e_11e8_8b73_8c85905f408erow0_col2\" class=\"data row0 col2\" >2.09%</td> \n",
       "    </tr>    <tr> \n",
       "        <th id=\"T_5d58708a_499e_11e8_8b73_8c85905f408elevel0_row1\" class=\"row_heading level0 row1\" >4</th> \n",
       "        <td id=\"T_5d58708a_499e_11e8_8b73_8c85905f408erow1_col0\" class=\"data row1 col0\" >Graduate school</td> \n",
       "        <td id=\"T_5d58708a_499e_11e8_8b73_8c85905f408erow1_col1\" class=\"data row1 col1\" >116</td> \n",
       "        <td id=\"T_5d58708a_499e_11e8_8b73_8c85905f408erow1_col2\" class=\"data row1 col2\" >0.93%</td> \n",
       "    </tr>    <tr> \n",
       "        <th id=\"T_5d58708a_499e_11e8_8b73_8c85905f408elevel0_row2\" class=\"row_heading level0 row2\" >6</th> \n",
       "        <td id=\"T_5d58708a_499e_11e8_8b73_8c85905f408erow2_col0\" class=\"data row2 col0\" >Programs or workshops</td> \n",
       "        <td id=\"T_5d58708a_499e_11e8_8b73_8c85905f408erow2_col1\" class=\"data row2 col1\" >82</td> \n",
       "        <td id=\"T_5d58708a_499e_11e8_8b73_8c85905f408erow2_col2\" class=\"data row2 col2\" >0.66%</td> \n",
       "    </tr>    <tr> \n",
       "        <th id=\"T_5d58708a_499e_11e8_8b73_8c85905f408elevel0_row3\" class=\"row_heading level0 row3\" >5</th> \n",
       "        <td id=\"T_5d58708a_499e_11e8_8b73_8c85905f408erow3_col0\" class=\"data row3 col0\" >Art school</td> \n",
       "        <td id=\"T_5d58708a_499e_11e8_8b73_8c85905f408erow3_col1\" class=\"data row3 col1\" >65</td> \n",
       "        <td id=\"T_5d58708a_499e_11e8_8b73_8c85905f408erow3_col2\" class=\"data row3 col2\" >0.52%</td> \n",
       "    </tr>    <tr> \n",
       "        <th id=\"T_5d58708a_499e_11e8_8b73_8c85905f408elevel0_row4\" class=\"row_heading level0 row4\" >2</th> \n",
       "        <td id=\"T_5d58708a_499e_11e8_8b73_8c85905f408erow4_col0\" class=\"data row4 col0\" >Technical or Trade school</td> \n",
       "        <td id=\"T_5d58708a_499e_11e8_8b73_8c85905f408erow4_col1\" class=\"data row4 col1\" >34</td> \n",
       "        <td id=\"T_5d58708a_499e_11e8_8b73_8c85905f408erow4_col2\" class=\"data row4 col2\" >0.27%</td> \n",
       "    </tr></tbody> \n",
       "</table> "
      ],
      "text/plain": [
       "<pandas.io.formats.style.Styler at 0x1a183f5ef0>"
      ]
     },
     "metadata": {},
     "output_type": "display_data"
    },
    {
     "data": {
      "text/plain": [
       "\"V_8 : I'm not working because:\""
      ]
     },
     "metadata": {},
     "output_type": "display_data"
    },
    {
     "data": {
      "text/html": [
       "<style  type=\"text/css\" >\n",
       "</style>  \n",
       "<table id=\"T_5d5a63e8_499e_11e8_ae2e_8c85905f408e\" > \n",
       "<thead>    <tr> \n",
       "        <th class=\"blank level0\" ></th> \n",
       "        <th class=\"col_heading level0 col0\" >Options</th> \n",
       "        <th class=\"col_heading level0 col1\" >Count</th> \n",
       "        <th class=\"col_heading level0 col2\" >Percent</th> \n",
       "    </tr></thead> \n",
       "<tbody></tbody> \n",
       "</table> "
      ],
      "text/plain": [
       "<pandas.io.formats.style.Styler at 0x1a183c6160>"
      ]
     },
     "metadata": {},
     "output_type": "display_data"
    },
    {
     "data": {
      "text/plain": [
       "'V_9 : My organization has:'"
      ]
     },
     "metadata": {},
     "output_type": "display_data"
    },
    {
     "data": {
      "text/html": [
       "<style  type=\"text/css\" >\n",
       "</style>  \n",
       "<table id=\"T_5d5c2478_499e_11e8_b457_8c85905f408e\" > \n",
       "<thead>    <tr> \n",
       "        <th class=\"blank level0\" ></th> \n",
       "        <th class=\"col_heading level0 col0\" >Options</th> \n",
       "        <th class=\"col_heading level0 col1\" >Count</th> \n",
       "        <th class=\"col_heading level0 col2\" >Percent</th> \n",
       "    </tr></thead> \n",
       "<tbody>    <tr> \n",
       "        <th id=\"T_5d5c2478_499e_11e8_b457_8c85905f408elevel0_row0\" class=\"row_heading level0 row0\" >0</th> \n",
       "        <td id=\"T_5d5c2478_499e_11e8_b457_8c85905f408erow0_col0\" class=\"data row0 col0\" >1-10 employees</td> \n",
       "        <td id=\"T_5d5c2478_499e_11e8_b457_8c85905f408erow0_col1\" class=\"data row0 col1\" >3144</td> \n",
       "        <td id=\"T_5d5c2478_499e_11e8_b457_8c85905f408erow0_col2\" class=\"data row0 col2\" >25.20%</td> \n",
       "    </tr>    <tr> \n",
       "        <th id=\"T_5d5c2478_499e_11e8_b457_8c85905f408elevel0_row1\" class=\"row_heading level0 row1\" >1</th> \n",
       "        <td id=\"T_5d5c2478_499e_11e8_b457_8c85905f408erow1_col0\" class=\"data row1 col0\" >1000+ employees</td> \n",
       "        <td id=\"T_5d5c2478_499e_11e8_b457_8c85905f408erow1_col1\" class=\"data row1 col1\" >2832</td> \n",
       "        <td id=\"T_5d5c2478_499e_11e8_b457_8c85905f408erow1_col2\" class=\"data row1 col2\" >22.70%</td> \n",
       "    </tr>    <tr> \n",
       "        <th id=\"T_5d5c2478_499e_11e8_b457_8c85905f408elevel0_row2\" class=\"row_heading level0 row2\" >2</th> \n",
       "        <td id=\"T_5d5c2478_499e_11e8_b457_8c85905f408erow2_col0\" class=\"data row2 col0\" >11-50 employees</td> \n",
       "        <td id=\"T_5d5c2478_499e_11e8_b457_8c85905f408erow2_col1\" class=\"data row2 col1\" >2387</td> \n",
       "        <td id=\"T_5d5c2478_499e_11e8_b457_8c85905f408erow2_col2\" class=\"data row2 col2\" >19.13%</td> \n",
       "    </tr>    <tr> \n",
       "        <th id=\"T_5d5c2478_499e_11e8_b457_8c85905f408elevel0_row3\" class=\"row_heading level0 row3\" >3</th> \n",
       "        <td id=\"T_5d5c2478_499e_11e8_b457_8c85905f408erow3_col0\" class=\"data row3 col0\" >101-250 employees</td> \n",
       "        <td id=\"T_5d5c2478_499e_11e8_b457_8c85905f408erow3_col1\" class=\"data row3 col1\" >1136</td> \n",
       "        <td id=\"T_5d5c2478_499e_11e8_b457_8c85905f408erow3_col2\" class=\"data row3 col2\" >9.10%</td> \n",
       "    </tr>    <tr> \n",
       "        <th id=\"T_5d5c2478_499e_11e8_b457_8c85905f408elevel0_row4\" class=\"row_heading level0 row4\" >4</th> \n",
       "        <td id=\"T_5d5c2478_499e_11e8_b457_8c85905f408erow4_col0\" class=\"data row4 col0\" >51-100 employees</td> \n",
       "        <td id=\"T_5d5c2478_499e_11e8_b457_8c85905f408erow4_col1\" class=\"data row4 col1\" >1125</td> \n",
       "        <td id=\"T_5d5c2478_499e_11e8_b457_8c85905f408erow4_col2\" class=\"data row4 col2\" >9.02%</td> \n",
       "    </tr></tbody> \n",
       "</table> "
      ],
      "text/plain": [
       "<pandas.io.formats.style.Styler at 0x1a183cc128>"
      ]
     },
     "metadata": {},
     "output_type": "display_data"
    },
    {
     "data": {
      "text/plain": [
       "'V_10 : My immediate team is:'"
      ]
     },
     "metadata": {},
     "output_type": "display_data"
    },
    {
     "data": {
      "text/html": [
       "<style  type=\"text/css\" >\n",
       "</style>  \n",
       "<table id=\"T_5d5dc94a_499e_11e8_822e_8c85905f408e\" > \n",
       "<thead>    <tr> \n",
       "        <th class=\"blank level0\" ></th> \n",
       "        <th class=\"col_heading level0 col0\" >Options</th> \n",
       "        <th class=\"col_heading level0 col1\" >Count</th> \n",
       "        <th class=\"col_heading level0 col2\" >Percent</th> \n",
       "    </tr></thead> \n",
       "<tbody>    <tr> \n",
       "        <th id=\"T_5d5dc94a_499e_11e8_822e_8c85905f408elevel0_row0\" class=\"row_heading level0 row0\" >0</th> \n",
       "        <td id=\"T_5d5dc94a_499e_11e8_822e_8c85905f408erow0_col0\" class=\"data row0 col0\" >2-4 people</td> \n",
       "        <td id=\"T_5d5dc94a_499e_11e8_822e_8c85905f408erow0_col1\" class=\"data row0 col1\" >4842</td> \n",
       "        <td id=\"T_5d5dc94a_499e_11e8_822e_8c85905f408erow0_col2\" class=\"data row0 col2\" >38.81%</td> \n",
       "    </tr>    <tr> \n",
       "        <th id=\"T_5d5dc94a_499e_11e8_822e_8c85905f408elevel0_row1\" class=\"row_heading level0 row1\" >1</th> \n",
       "        <td id=\"T_5d5dc94a_499e_11e8_822e_8c85905f408erow1_col0\" class=\"data row1 col0\" >5-10 people</td> \n",
       "        <td id=\"T_5d5dc94a_499e_11e8_822e_8c85905f408erow1_col1\" class=\"data row1 col1\" >3747</td> \n",
       "        <td id=\"T_5d5dc94a_499e_11e8_822e_8c85905f408erow1_col2\" class=\"data row1 col2\" >30.03%</td> \n",
       "    </tr>    <tr> \n",
       "        <th id=\"T_5d5dc94a_499e_11e8_822e_8c85905f408elevel0_row2\" class=\"row_heading level0 row2\" >2</th> \n",
       "        <td id=\"T_5d5dc94a_499e_11e8_822e_8c85905f408erow2_col0\" class=\"data row2 col0\" >Just me</td> \n",
       "        <td id=\"T_5d5dc94a_499e_11e8_822e_8c85905f408erow2_col1\" class=\"data row2 col1\" >2229</td> \n",
       "        <td id=\"T_5d5dc94a_499e_11e8_822e_8c85905f408erow2_col2\" class=\"data row2 col2\" >17.86%</td> \n",
       "    </tr>    <tr> \n",
       "        <th id=\"T_5d5dc94a_499e_11e8_822e_8c85905f408elevel0_row3\" class=\"row_heading level0 row3\" >3</th> \n",
       "        <td id=\"T_5d5dc94a_499e_11e8_822e_8c85905f408erow3_col0\" class=\"data row3 col0\" >11-20 people</td> \n",
       "        <td id=\"T_5d5dc94a_499e_11e8_822e_8c85905f408erow3_col1\" class=\"data row3 col1\" >1160</td> \n",
       "        <td id=\"T_5d5dc94a_499e_11e8_822e_8c85905f408erow3_col2\" class=\"data row3 col2\" >9.30%</td> \n",
       "    </tr>    <tr> \n",
       "        <th id=\"T_5d5dc94a_499e_11e8_822e_8c85905f408elevel0_row4\" class=\"row_heading level0 row4\" >4</th> \n",
       "        <td id=\"T_5d5dc94a_499e_11e8_822e_8c85905f408erow4_col0\" class=\"data row4 col0\" >20+ people</td> \n",
       "        <td id=\"T_5d5dc94a_499e_11e8_822e_8c85905f408erow4_col1\" class=\"data row4 col1\" >494</td> \n",
       "        <td id=\"T_5d5dc94a_499e_11e8_822e_8c85905f408erow4_col2\" class=\"data row4 col2\" >3.96%</td> \n",
       "    </tr></tbody> \n",
       "</table> "
      ],
      "text/plain": [
       "<pandas.io.formats.style.Styler at 0x1a183c6a90>"
      ]
     },
     "metadata": {},
     "output_type": "display_data"
    },
    {
     "data": {
      "text/plain": [
       "'V_11 : My work touches these industries or sectors:'"
      ]
     },
     "metadata": {},
     "output_type": "display_data"
    },
    {
     "data": {
      "text/html": [
       "<style  type=\"text/css\" >\n",
       "</style>  \n",
       "<table id=\"T_5d74ba10_499e_11e8_98ba_8c85905f408e\" > \n",
       "<thead>    <tr> \n",
       "        <th class=\"blank level0\" ></th> \n",
       "        <th class=\"col_heading level0 col0\" >Options</th> \n",
       "        <th class=\"col_heading level0 col1\" >Count</th> \n",
       "        <th class=\"col_heading level0 col2\" >Percent</th> \n",
       "    </tr></thead> \n",
       "<tbody>    <tr> \n",
       "        <th id=\"T_5d74ba10_499e_11e8_98ba_8c85905f408elevel0_row0\" class=\"row_heading level0 row0\" >28</th> \n",
       "        <td id=\"T_5d74ba10_499e_11e8_98ba_8c85905f408erow0_col0\" class=\"data row0 col0\" >Marketing and Communications</td> \n",
       "        <td id=\"T_5d74ba10_499e_11e8_98ba_8c85905f408erow0_col1\" class=\"data row0 col1\" >5301</td> \n",
       "        <td id=\"T_5d74ba10_499e_11e8_98ba_8c85905f408erow0_col2\" class=\"data row0 col2\" >42.49%</td> \n",
       "    </tr>    <tr> \n",
       "        <th id=\"T_5d74ba10_499e_11e8_98ba_8c85905f408elevel0_row1\" class=\"row_heading level0 row1\" >15</th> \n",
       "        <td id=\"T_5d74ba10_499e_11e8_98ba_8c85905f408erow1_col0\" class=\"data row1 col0\" >Advertising</td> \n",
       "        <td id=\"T_5d74ba10_499e_11e8_98ba_8c85905f408erow1_col1\" class=\"data row1 col1\" >5129</td> \n",
       "        <td id=\"T_5d74ba10_499e_11e8_98ba_8c85905f408erow1_col2\" class=\"data row1 col2\" >41.11%</td> \n",
       "    </tr>    <tr> \n",
       "        <th id=\"T_5d74ba10_499e_11e8_98ba_8c85905f408elevel0_row2\" class=\"row_heading level0 row2\" >1</th> \n",
       "        <td id=\"T_5d74ba10_499e_11e8_98ba_8c85905f408erow2_col0\" class=\"data row2 col0\" >Technology</td> \n",
       "        <td id=\"T_5d74ba10_499e_11e8_98ba_8c85905f408erow2_col1\" class=\"data row2 col1\" >4100</td> \n",
       "        <td id=\"T_5d74ba10_499e_11e8_98ba_8c85905f408erow2_col2\" class=\"data row2 col2\" >32.86%</td> \n",
       "    </tr>    <tr> \n",
       "        <th id=\"T_5d74ba10_499e_11e8_98ba_8c85905f408elevel0_row3\" class=\"row_heading level0 row3\" >48</th> \n",
       "        <td id=\"T_5d74ba10_499e_11e8_98ba_8c85905f408erow3_col0\" class=\"data row3 col0\" >Education</td> \n",
       "        <td id=\"T_5d74ba10_499e_11e8_98ba_8c85905f408erow3_col1\" class=\"data row3 col1\" >4025</td> \n",
       "        <td id=\"T_5d74ba10_499e_11e8_98ba_8c85905f408erow3_col2\" class=\"data row3 col2\" >32.26%</td> \n",
       "    </tr>    <tr> \n",
       "        <th id=\"T_5d74ba10_499e_11e8_98ba_8c85905f408elevel0_row4\" class=\"row_heading level0 row4\" >16</th> \n",
       "        <td id=\"T_5d74ba10_499e_11e8_98ba_8c85905f408erow4_col0\" class=\"data row4 col0\" >Web Services</td> \n",
       "        <td id=\"T_5d74ba10_499e_11e8_98ba_8c85905f408erow4_col1\" class=\"data row4 col1\" >3527</td> \n",
       "        <td id=\"T_5d74ba10_499e_11e8_98ba_8c85905f408erow4_col2\" class=\"data row4 col2\" >28.27%</td> \n",
       "    </tr></tbody> \n",
       "</table> "
      ],
      "text/plain": [
       "<pandas.io.formats.style.Styler at 0x1a183b0c18>"
      ]
     },
     "metadata": {},
     "output_type": "display_data"
    },
    {
     "data": {
      "text/plain": [
       "'V_12 : I’ve been at my current place of work for:'"
      ]
     },
     "metadata": {},
     "output_type": "display_data"
    },
    {
     "data": {
      "text/html": [
       "<style  type=\"text/css\" >\n",
       "</style>  \n",
       "<table id=\"T_5d766c86_499e_11e8_8fe5_8c85905f408e\" > \n",
       "<thead>    <tr> \n",
       "        <th class=\"blank level0\" ></th> \n",
       "        <th class=\"col_heading level0 col0\" >Options</th> \n",
       "        <th class=\"col_heading level0 col1\" >Count</th> \n",
       "        <th class=\"col_heading level0 col2\" >Percent</th> \n",
       "    </tr></thead> \n",
       "<tbody>    <tr> \n",
       "        <th id=\"T_5d766c86_499e_11e8_8fe5_8c85905f408elevel0_row0\" class=\"row_heading level0 row0\" >0</th> \n",
       "        <td id=\"T_5d766c86_499e_11e8_8fe5_8c85905f408erow0_col0\" class=\"data row0 col0\" >1-2 years</td> \n",
       "        <td id=\"T_5d766c86_499e_11e8_8fe5_8c85905f408erow0_col1\" class=\"data row0 col1\" >3730</td> \n",
       "        <td id=\"T_5d766c86_499e_11e8_8fe5_8c85905f408erow0_col2\" class=\"data row0 col2\" >29.90%</td> \n",
       "    </tr>    <tr> \n",
       "        <th id=\"T_5d766c86_499e_11e8_8fe5_8c85905f408elevel0_row1\" class=\"row_heading level0 row1\" >1</th> \n",
       "        <td id=\"T_5d766c86_499e_11e8_8fe5_8c85905f408erow1_col0\" class=\"data row1 col0\" >Less than 1 year</td> \n",
       "        <td id=\"T_5d766c86_499e_11e8_8fe5_8c85905f408erow1_col1\" class=\"data row1 col1\" >3534</td> \n",
       "        <td id=\"T_5d766c86_499e_11e8_8fe5_8c85905f408erow1_col2\" class=\"data row1 col2\" >28.32%</td> \n",
       "    </tr>    <tr> \n",
       "        <th id=\"T_5d766c86_499e_11e8_8fe5_8c85905f408elevel0_row2\" class=\"row_heading level0 row2\" >2</th> \n",
       "        <td id=\"T_5d766c86_499e_11e8_8fe5_8c85905f408erow2_col0\" class=\"data row2 col0\" >3-4 years</td> \n",
       "        <td id=\"T_5d766c86_499e_11e8_8fe5_8c85905f408erow2_col1\" class=\"data row2 col1\" >2467</td> \n",
       "        <td id=\"T_5d766c86_499e_11e8_8fe5_8c85905f408erow2_col2\" class=\"data row2 col2\" >19.77%</td> \n",
       "    </tr>    <tr> \n",
       "        <th id=\"T_5d766c86_499e_11e8_8fe5_8c85905f408elevel0_row3\" class=\"row_heading level0 row3\" >3</th> \n",
       "        <td id=\"T_5d766c86_499e_11e8_8fe5_8c85905f408erow3_col0\" class=\"data row3 col0\" >5-7 years</td> \n",
       "        <td id=\"T_5d766c86_499e_11e8_8fe5_8c85905f408erow3_col1\" class=\"data row3 col1\" >1196</td> \n",
       "        <td id=\"T_5d766c86_499e_11e8_8fe5_8c85905f408erow3_col2\" class=\"data row3 col2\" >9.59%</td> \n",
       "    </tr>    <tr> \n",
       "        <th id=\"T_5d766c86_499e_11e8_8fe5_8c85905f408elevel0_row4\" class=\"row_heading level0 row4\" >4</th> \n",
       "        <td id=\"T_5d766c86_499e_11e8_8fe5_8c85905f408erow4_col0\" class=\"data row4 col0\" >10+ years</td> \n",
       "        <td id=\"T_5d766c86_499e_11e8_8fe5_8c85905f408erow4_col1\" class=\"data row4 col1\" >1066</td> \n",
       "        <td id=\"T_5d766c86_499e_11e8_8fe5_8c85905f408erow4_col2\" class=\"data row4 col2\" >8.54%</td> \n",
       "    </tr></tbody> \n",
       "</table> "
      ],
      "text/plain": [
       "<pandas.io.formats.style.Styler at 0x1a183b0f60>"
      ]
     },
     "metadata": {},
     "output_type": "display_data"
    },
    {
     "data": {
      "text/plain": [
       "'V_13 : My role is:'"
      ]
     },
     "metadata": {},
     "output_type": "display_data"
    },
    {
     "data": {
      "text/html": [
       "<style  type=\"text/css\" >\n",
       "</style>  \n",
       "<table id=\"T_5d784afe_499e_11e8_9d5a_8c85905f408e\" > \n",
       "<thead>    <tr> \n",
       "        <th class=\"blank level0\" ></th> \n",
       "        <th class=\"col_heading level0 col0\" >Options</th> \n",
       "        <th class=\"col_heading level0 col1\" >Count</th> \n",
       "        <th class=\"col_heading level0 col2\" >Percent</th> \n",
       "    </tr></thead> \n",
       "<tbody>    <tr> \n",
       "        <th id=\"T_5d784afe_499e_11e8_9d5a_8c85905f408elevel0_row0\" class=\"row_heading level0 row0\" >0</th> \n",
       "        <td id=\"T_5d784afe_499e_11e8_9d5a_8c85905f408erow0_col0\" class=\"data row0 col0\" >Mid-level specialist</td> \n",
       "        <td id=\"T_5d784afe_499e_11e8_9d5a_8c85905f408erow0_col1\" class=\"data row0 col1\" >1416</td> \n",
       "        <td id=\"T_5d784afe_499e_11e8_9d5a_8c85905f408erow0_col2\" class=\"data row0 col2\" >11.35%</td> \n",
       "    </tr>    <tr> \n",
       "        <th id=\"T_5d784afe_499e_11e8_9d5a_8c85905f408elevel0_row1\" class=\"row_heading level0 row1\" >1</th> \n",
       "        <td id=\"T_5d784afe_499e_11e8_9d5a_8c85905f408erow1_col0\" class=\"data row1 col0\" >Owner/Partner</td> \n",
       "        <td id=\"T_5d784afe_499e_11e8_9d5a_8c85905f408erow1_col1\" class=\"data row1 col1\" >1393</td> \n",
       "        <td id=\"T_5d784afe_499e_11e8_9d5a_8c85905f408erow1_col2\" class=\"data row1 col2\" >11.16%</td> \n",
       "    </tr>    <tr> \n",
       "        <th id=\"T_5d784afe_499e_11e8_9d5a_8c85905f408elevel0_row2\" class=\"row_heading level0 row2\" >2</th> \n",
       "        <td id=\"T_5d784afe_499e_11e8_9d5a_8c85905f408erow2_col0\" class=\"data row2 col0\" >Art Director</td> \n",
       "        <td id=\"T_5d784afe_499e_11e8_9d5a_8c85905f408erow2_col1\" class=\"data row2 col1\" >751</td> \n",
       "        <td id=\"T_5d784afe_499e_11e8_9d5a_8c85905f408erow2_col2\" class=\"data row2 col2\" >6.02%</td> \n",
       "    </tr>    <tr> \n",
       "        <th id=\"T_5d784afe_499e_11e8_9d5a_8c85905f408elevel0_row3\" class=\"row_heading level0 row3\" >3</th> \n",
       "        <td id=\"T_5d784afe_499e_11e8_9d5a_8c85905f408erow3_col0\" class=\"data row3 col0\" >Junior contributor</td> \n",
       "        <td id=\"T_5d784afe_499e_11e8_9d5a_8c85905f408erow3_col1\" class=\"data row3 col1\" >618</td> \n",
       "        <td id=\"T_5d784afe_499e_11e8_9d5a_8c85905f408erow3_col2\" class=\"data row3 col2\" >4.95%</td> \n",
       "    </tr>    <tr> \n",
       "        <th id=\"T_5d784afe_499e_11e8_9d5a_8c85905f408elevel0_row4\" class=\"row_heading level0 row4\" >4</th> \n",
       "        <td id=\"T_5d784afe_499e_11e8_9d5a_8c85905f408erow4_col0\" class=\"data row4 col0\" >Creative Director</td> \n",
       "        <td id=\"T_5d784afe_499e_11e8_9d5a_8c85905f408erow4_col1\" class=\"data row4 col1\" >557</td> \n",
       "        <td id=\"T_5d784afe_499e_11e8_9d5a_8c85905f408erow4_col2\" class=\"data row4 col2\" >4.46%</td> \n",
       "    </tr></tbody> \n",
       "</table> "
      ],
      "text/plain": [
       "<pandas.io.formats.style.Styler at 0x1a183f5ac8>"
      ]
     },
     "metadata": {},
     "output_type": "display_data"
    },
    {
     "data": {
      "text/plain": [
       "'V_14 : My role is:'"
      ]
     },
     "metadata": {},
     "output_type": "display_data"
    },
    {
     "data": {
      "text/html": [
       "<style  type=\"text/css\" >\n",
       "</style>  \n",
       "<table id=\"T_5d7a3634_499e_11e8_b3e9_8c85905f408e\" > \n",
       "<thead>    <tr> \n",
       "        <th class=\"blank level0\" ></th> \n",
       "        <th class=\"col_heading level0 col0\" >Options</th> \n",
       "        <th class=\"col_heading level0 col1\" >Count</th> \n",
       "        <th class=\"col_heading level0 col2\" >Percent</th> \n",
       "    </tr></thead> \n",
       "<tbody>    <tr> \n",
       "        <th id=\"T_5d7a3634_499e_11e8_b3e9_8c85905f408elevel0_row0\" class=\"row_heading level0 row0\" >0</th> \n",
       "        <td id=\"T_5d7a3634_499e_11e8_b3e9_8c85905f408erow0_col0\" class=\"data row0 col0\" >Mid-level specialist</td> \n",
       "        <td id=\"T_5d7a3634_499e_11e8_b3e9_8c85905f408erow0_col1\" class=\"data row0 col1\" >2758</td> \n",
       "        <td id=\"T_5d7a3634_499e_11e8_b3e9_8c85905f408erow0_col2\" class=\"data row0 col2\" >22.10%</td> \n",
       "    </tr>    <tr> \n",
       "        <th id=\"T_5d7a3634_499e_11e8_b3e9_8c85905f408elevel0_row1\" class=\"row_heading level0 row1\" >1</th> \n",
       "        <td id=\"T_5d7a3634_499e_11e8_b3e9_8c85905f408erow1_col0\" class=\"data row1 col0\" >Junior contributor</td> \n",
       "        <td id=\"T_5d7a3634_499e_11e8_b3e9_8c85905f408erow1_col1\" class=\"data row1 col1\" >711</td> \n",
       "        <td id=\"T_5d7a3634_499e_11e8_b3e9_8c85905f408erow1_col2\" class=\"data row1 col2\" >5.70%</td> \n",
       "    </tr>    <tr> \n",
       "        <th id=\"T_5d7a3634_499e_11e8_b3e9_8c85905f408elevel0_row2\" class=\"row_heading level0 row2\" >2</th> \n",
       "        <td id=\"T_5d7a3634_499e_11e8_b3e9_8c85905f408erow2_col0\" class=\"data row2 col0\" >Director</td> \n",
       "        <td id=\"T_5d7a3634_499e_11e8_b3e9_8c85905f408erow2_col1\" class=\"data row2 col1\" >561</td> \n",
       "        <td id=\"T_5d7a3634_499e_11e8_b3e9_8c85905f408erow2_col2\" class=\"data row2 col2\" >4.50%</td> \n",
       "    </tr>    <tr> \n",
       "        <th id=\"T_5d7a3634_499e_11e8_b3e9_8c85905f408elevel0_row3\" class=\"row_heading level0 row3\" >3</th> \n",
       "        <td id=\"T_5d7a3634_499e_11e8_b3e9_8c85905f408erow3_col0\" class=\"data row3 col0\" >Senior manager</td> \n",
       "        <td id=\"T_5d7a3634_499e_11e8_b3e9_8c85905f408erow3_col1\" class=\"data row3 col1\" >559</td> \n",
       "        <td id=\"T_5d7a3634_499e_11e8_b3e9_8c85905f408erow3_col2\" class=\"data row3 col2\" >4.48%</td> \n",
       "    </tr>    <tr> \n",
       "        <th id=\"T_5d7a3634_499e_11e8_b3e9_8c85905f408elevel0_row4\" class=\"row_heading level0 row4\" >4</th> \n",
       "        <td id=\"T_5d7a3634_499e_11e8_b3e9_8c85905f408erow4_col0\" class=\"data row4 col0\" >Team Leader</td> \n",
       "        <td id=\"T_5d7a3634_499e_11e8_b3e9_8c85905f408erow4_col1\" class=\"data row4 col1\" >520</td> \n",
       "        <td id=\"T_5d7a3634_499e_11e8_b3e9_8c85905f408erow4_col2\" class=\"data row4 col2\" >4.17%</td> \n",
       "    </tr></tbody> \n",
       "</table> "
      ],
      "text/plain": [
       "<pandas.io.formats.style.Styler at 0x1a183e85f8>"
      ]
     },
     "metadata": {},
     "output_type": "display_data"
    },
    {
     "data": {
      "text/plain": [
       "'V_15 : My role is:'"
      ]
     },
     "metadata": {},
     "output_type": "display_data"
    },
    {
     "data": {
      "text/html": [
       "<style  type=\"text/css\" >\n",
       "</style>  \n",
       "<table id=\"T_5d7bef92_499e_11e8_8cda_8c85905f408e\" > \n",
       "<thead>    <tr> \n",
       "        <th class=\"blank level0\" ></th> \n",
       "        <th class=\"col_heading level0 col0\" >Options</th> \n",
       "        <th class=\"col_heading level0 col1\" >Count</th> \n",
       "        <th class=\"col_heading level0 col2\" >Percent</th> \n",
       "    </tr></thead> \n",
       "<tbody>    <tr> \n",
       "        <th id=\"T_5d7bef92_499e_11e8_8cda_8c85905f408elevel0_row0\" class=\"row_heading level0 row0\" >0</th> \n",
       "        <td id=\"T_5d7bef92_499e_11e8_8cda_8c85905f408erow0_col0\" class=\"data row0 col0\" >Associate Professor</td> \n",
       "        <td id=\"T_5d7bef92_499e_11e8_8cda_8c85905f408erow0_col1\" class=\"data row0 col1\" >121</td> \n",
       "        <td id=\"T_5d7bef92_499e_11e8_8cda_8c85905f408erow0_col2\" class=\"data row0 col2\" >0.97%</td> \n",
       "    </tr>    <tr> \n",
       "        <th id=\"T_5d7bef92_499e_11e8_8cda_8c85905f408elevel0_row1\" class=\"row_heading level0 row1\" >1</th> \n",
       "        <td id=\"T_5d7bef92_499e_11e8_8cda_8c85905f408erow1_col0\" class=\"data row1 col0\" >Professor</td> \n",
       "        <td id=\"T_5d7bef92_499e_11e8_8cda_8c85905f408erow1_col1\" class=\"data row1 col1\" >59</td> \n",
       "        <td id=\"T_5d7bef92_499e_11e8_8cda_8c85905f408erow1_col2\" class=\"data row1 col2\" >0.47%</td> \n",
       "    </tr>    <tr> \n",
       "        <th id=\"T_5d7bef92_499e_11e8_8cda_8c85905f408elevel0_row2\" class=\"row_heading level0 row2\" >2</th> \n",
       "        <td id=\"T_5d7bef92_499e_11e8_8cda_8c85905f408erow2_col0\" class=\"data row2 col0\" >Instructor</td> \n",
       "        <td id=\"T_5d7bef92_499e_11e8_8cda_8c85905f408erow2_col1\" class=\"data row2 col1\" >56</td> \n",
       "        <td id=\"T_5d7bef92_499e_11e8_8cda_8c85905f408erow2_col2\" class=\"data row2 col2\" >0.45%</td> \n",
       "    </tr>    <tr> \n",
       "        <th id=\"T_5d7bef92_499e_11e8_8cda_8c85905f408elevel0_row3\" class=\"row_heading level0 row3\" >3</th> \n",
       "        <td id=\"T_5d7bef92_499e_11e8_8cda_8c85905f408erow3_col0\" class=\"data row3 col0\" >Program Chair</td> \n",
       "        <td id=\"T_5d7bef92_499e_11e8_8cda_8c85905f408erow3_col1\" class=\"data row3 col1\" >48</td> \n",
       "        <td id=\"T_5d7bef92_499e_11e8_8cda_8c85905f408erow3_col2\" class=\"data row3 col2\" >0.38%</td> \n",
       "    </tr>    <tr> \n",
       "        <th id=\"T_5d7bef92_499e_11e8_8cda_8c85905f408elevel0_row4\" class=\"row_heading level0 row4\" >4</th> \n",
       "        <td id=\"T_5d7bef92_499e_11e8_8cda_8c85905f408erow4_col0\" class=\"data row4 col0\" >Other</td> \n",
       "        <td id=\"T_5d7bef92_499e_11e8_8cda_8c85905f408erow4_col1\" class=\"data row4 col1\" >39</td> \n",
       "        <td id=\"T_5d7bef92_499e_11e8_8cda_8c85905f408erow4_col2\" class=\"data row4 col2\" >0.31%</td> \n",
       "    </tr></tbody> \n",
       "</table> "
      ],
      "text/plain": [
       "<pandas.io.formats.style.Styler at 0x1a183bcd30>"
      ]
     },
     "metadata": {},
     "output_type": "display_data"
    },
    {
     "data": {
      "text/plain": [
       "\"V_16 : I've been in my current role for:\""
      ]
     },
     "metadata": {},
     "output_type": "display_data"
    },
    {
     "data": {
      "text/html": [
       "<style  type=\"text/css\" >\n",
       "</style>  \n",
       "<table id=\"T_5d7da288_499e_11e8_bf9c_8c85905f408e\" > \n",
       "<thead>    <tr> \n",
       "        <th class=\"blank level0\" ></th> \n",
       "        <th class=\"col_heading level0 col0\" >Options</th> \n",
       "        <th class=\"col_heading level0 col1\" >Count</th> \n",
       "        <th class=\"col_heading level0 col2\" >Percent</th> \n",
       "    </tr></thead> \n",
       "<tbody>    <tr> \n",
       "        <th id=\"T_5d7da288_499e_11e8_bf9c_8c85905f408elevel0_row0\" class=\"row_heading level0 row0\" >0</th> \n",
       "        <td id=\"T_5d7da288_499e_11e8_bf9c_8c85905f408erow0_col0\" class=\"data row0 col0\" >1-2 years</td> \n",
       "        <td id=\"T_5d7da288_499e_11e8_bf9c_8c85905f408erow0_col1\" class=\"data row0 col1\" >4352</td> \n",
       "        <td id=\"T_5d7da288_499e_11e8_bf9c_8c85905f408erow0_col2\" class=\"data row0 col2\" >34.88%</td> \n",
       "    </tr>    <tr> \n",
       "        <th id=\"T_5d7da288_499e_11e8_bf9c_8c85905f408elevel0_row1\" class=\"row_heading level0 row1\" >1</th> \n",
       "        <td id=\"T_5d7da288_499e_11e8_bf9c_8c85905f408erow1_col0\" class=\"data row1 col0\" >Less than 1 year</td> \n",
       "        <td id=\"T_5d7da288_499e_11e8_bf9c_8c85905f408erow1_col1\" class=\"data row1 col1\" >3865</td> \n",
       "        <td id=\"T_5d7da288_499e_11e8_bf9c_8c85905f408erow1_col2\" class=\"data row1 col2\" >30.98%</td> \n",
       "    </tr>    <tr> \n",
       "        <th id=\"T_5d7da288_499e_11e8_bf9c_8c85905f408elevel0_row2\" class=\"row_heading level0 row2\" >2</th> \n",
       "        <td id=\"T_5d7da288_499e_11e8_bf9c_8c85905f408erow2_col0\" class=\"data row2 col0\" >3-4 years</td> \n",
       "        <td id=\"T_5d7da288_499e_11e8_bf9c_8c85905f408erow2_col1\" class=\"data row2 col1\" >2192</td> \n",
       "        <td id=\"T_5d7da288_499e_11e8_bf9c_8c85905f408erow2_col2\" class=\"data row2 col2\" >17.57%</td> \n",
       "    </tr>    <tr> \n",
       "        <th id=\"T_5d7da288_499e_11e8_bf9c_8c85905f408elevel0_row3\" class=\"row_heading level0 row3\" >3</th> \n",
       "        <td id=\"T_5d7da288_499e_11e8_bf9c_8c85905f408erow3_col0\" class=\"data row3 col0\" >5-7 years</td> \n",
       "        <td id=\"T_5d7da288_499e_11e8_bf9c_8c85905f408erow3_col1\" class=\"data row3 col1\" >928</td> \n",
       "        <td id=\"T_5d7da288_499e_11e8_bf9c_8c85905f408erow3_col2\" class=\"data row3 col2\" >7.44%</td> \n",
       "    </tr>    <tr> \n",
       "        <th id=\"T_5d7da288_499e_11e8_bf9c_8c85905f408elevel0_row4\" class=\"row_heading level0 row4\" >4</th> \n",
       "        <td id=\"T_5d7da288_499e_11e8_bf9c_8c85905f408erow4_col0\" class=\"data row4 col0\" >10+ years</td> \n",
       "        <td id=\"T_5d7da288_499e_11e8_bf9c_8c85905f408erow4_col1\" class=\"data row4 col1\" >769</td> \n",
       "        <td id=\"T_5d7da288_499e_11e8_bf9c_8c85905f408erow4_col2\" class=\"data row4 col2\" >6.16%</td> \n",
       "    </tr></tbody> \n",
       "</table> "
      ],
      "text/plain": [
       "<pandas.io.formats.style.Styler at 0x1a183bc978>"
      ]
     },
     "metadata": {},
     "output_type": "display_data"
    },
    {
     "data": {
      "text/plain": [
       "'V_17 : I typically work:'"
      ]
     },
     "metadata": {},
     "output_type": "display_data"
    },
    {
     "data": {
      "text/html": [
       "<style  type=\"text/css\" >\n",
       "</style>  \n",
       "<table id=\"T_5d7f996c_499e_11e8_9b2c_8c85905f408e\" > \n",
       "<thead>    <tr> \n",
       "        <th class=\"blank level0\" ></th> \n",
       "        <th class=\"col_heading level0 col0\" >Options</th> \n",
       "        <th class=\"col_heading level0 col1\" >Count</th> \n",
       "        <th class=\"col_heading level0 col2\" >Percent</th> \n",
       "    </tr></thead> \n",
       "<tbody>    <tr> \n",
       "        <th id=\"T_5d7f996c_499e_11e8_9b2c_8c85905f408elevel0_row0\" class=\"row_heading level0 row0\" >0</th> \n",
       "        <td id=\"T_5d7f996c_499e_11e8_9b2c_8c85905f408erow0_col0\" class=\"data row0 col0\" >40 hours per week</td> \n",
       "        <td id=\"T_5d7f996c_499e_11e8_9b2c_8c85905f408erow0_col1\" class=\"data row0 col1\" >5553</td> \n",
       "        <td id=\"T_5d7f996c_499e_11e8_9b2c_8c85905f408erow0_col2\" class=\"data row0 col2\" >44.51%</td> \n",
       "    </tr>    <tr> \n",
       "        <th id=\"T_5d7f996c_499e_11e8_9b2c_8c85905f408elevel0_row1\" class=\"row_heading level0 row1\" >1</th> \n",
       "        <td id=\"T_5d7f996c_499e_11e8_9b2c_8c85905f408erow1_col0\" class=\"data row1 col0\" >41-50 hours per week</td> \n",
       "        <td id=\"T_5d7f996c_499e_11e8_9b2c_8c85905f408erow1_col1\" class=\"data row1 col1\" >4070</td> \n",
       "        <td id=\"T_5d7f996c_499e_11e8_9b2c_8c85905f408erow1_col2\" class=\"data row1 col2\" >32.62%</td> \n",
       "    </tr>    <tr> \n",
       "        <th id=\"T_5d7f996c_499e_11e8_9b2c_8c85905f408elevel0_row2\" class=\"row_heading level0 row2\" >2</th> \n",
       "        <td id=\"T_5d7f996c_499e_11e8_9b2c_8c85905f408erow2_col0\" class=\"data row2 col0\" >Less than 40 hours per week</td> \n",
       "        <td id=\"T_5d7f996c_499e_11e8_9b2c_8c85905f408erow2_col1\" class=\"data row2 col1\" >1913</td> \n",
       "        <td id=\"T_5d7f996c_499e_11e8_9b2c_8c85905f408erow2_col2\" class=\"data row2 col2\" >15.33%</td> \n",
       "    </tr>    <tr> \n",
       "        <th id=\"T_5d7f996c_499e_11e8_9b2c_8c85905f408elevel0_row3\" class=\"row_heading level0 row3\" >3</th> \n",
       "        <td id=\"T_5d7f996c_499e_11e8_9b2c_8c85905f408erow3_col0\" class=\"data row3 col0\" >51-60 hours per week</td> \n",
       "        <td id=\"T_5d7f996c_499e_11e8_9b2c_8c85905f408erow3_col1\" class=\"data row3 col1\" >695</td> \n",
       "        <td id=\"T_5d7f996c_499e_11e8_9b2c_8c85905f408erow3_col2\" class=\"data row3 col2\" >5.57%</td> \n",
       "    </tr>    <tr> \n",
       "        <th id=\"T_5d7f996c_499e_11e8_9b2c_8c85905f408elevel0_row4\" class=\"row_heading level0 row4\" >4</th> \n",
       "        <td id=\"T_5d7f996c_499e_11e8_9b2c_8c85905f408erow4_col0\" class=\"data row4 col0\" >60+ hours per week</td> \n",
       "        <td id=\"T_5d7f996c_499e_11e8_9b2c_8c85905f408erow4_col1\" class=\"data row4 col1\" >241</td> \n",
       "        <td id=\"T_5d7f996c_499e_11e8_9b2c_8c85905f408erow4_col2\" class=\"data row4 col2\" >1.93%</td> \n",
       "    </tr></tbody> \n",
       "</table> "
      ],
      "text/plain": [
       "<pandas.io.formats.style.Styler at 0x1a1ec8add8>"
      ]
     },
     "metadata": {},
     "output_type": "display_data"
    },
    {
     "data": {
      "text/plain": [
       "'V_19 : My job provides:'"
      ]
     },
     "metadata": {},
     "output_type": "display_data"
    },
    {
     "data": {
      "text/html": [
       "<style  type=\"text/css\" >\n",
       "</style>  \n",
       "<table id=\"T_5d87d83e_499e_11e8_ba94_8c85905f408e\" > \n",
       "<thead>    <tr> \n",
       "        <th class=\"blank level0\" ></th> \n",
       "        <th class=\"col_heading level0 col0\" >Options</th> \n",
       "        <th class=\"col_heading level0 col1\" >Count</th> \n",
       "        <th class=\"col_heading level0 col2\" >Percent</th> \n",
       "    </tr></thead> \n",
       "<tbody>    <tr> \n",
       "        <th id=\"T_5d87d83e_499e_11e8_ba94_8c85905f408elevel0_row0\" class=\"row_heading level0 row0\" >15</th> \n",
       "        <td id=\"T_5d87d83e_499e_11e8_ba94_8c85905f408erow0_col0\" class=\"data row0 col0\" >Paid Time Off</td> \n",
       "        <td id=\"T_5d87d83e_499e_11e8_ba94_8c85905f408erow0_col1\" class=\"data row0 col1\" >8731</td> \n",
       "        <td id=\"T_5d87d83e_499e_11e8_ba94_8c85905f408erow0_col2\" class=\"data row0 col2\" >69.98%</td> \n",
       "    </tr>    <tr> \n",
       "        <th id=\"T_5d87d83e_499e_11e8_ba94_8c85905f408elevel0_row1\" class=\"row_heading level0 row1\" >8</th> \n",
       "        <td id=\"T_5d87d83e_499e_11e8_ba94_8c85905f408erow1_col0\" class=\"data row1 col0\" >Medical Insurance</td> \n",
       "        <td id=\"T_5d87d83e_499e_11e8_ba94_8c85905f408erow1_col1\" class=\"data row1 col1\" >8609</td> \n",
       "        <td id=\"T_5d87d83e_499e_11e8_ba94_8c85905f408erow1_col2\" class=\"data row1 col2\" >69.00%</td> \n",
       "    </tr>    <tr> \n",
       "        <th id=\"T_5d87d83e_499e_11e8_ba94_8c85905f408elevel0_row2\" class=\"row_heading level0 row2\" >14</th> \n",
       "        <td id=\"T_5d87d83e_499e_11e8_ba94_8c85905f408erow2_col0\" class=\"data row2 col0\" >Dental Insurance</td> \n",
       "        <td id=\"T_5d87d83e_499e_11e8_ba94_8c85905f408erow2_col1\" class=\"data row2 col1\" >7414</td> \n",
       "        <td id=\"T_5d87d83e_499e_11e8_ba94_8c85905f408erow2_col2\" class=\"data row2 col2\" >59.42%</td> \n",
       "    </tr>    <tr> \n",
       "        <th id=\"T_5d87d83e_499e_11e8_ba94_8c85905f408elevel0_row3\" class=\"row_heading level0 row3\" >0</th> \n",
       "        <td id=\"T_5d87d83e_499e_11e8_ba94_8c85905f408erow3_col0\" class=\"data row3 col0\" >Employer-matched Retirement</td> \n",
       "        <td id=\"T_5d87d83e_499e_11e8_ba94_8c85905f408erow3_col1\" class=\"data row3 col1\" >5759</td> \n",
       "        <td id=\"T_5d87d83e_499e_11e8_ba94_8c85905f408erow3_col2\" class=\"data row3 col2\" >46.16%</td> \n",
       "    </tr>    <tr> \n",
       "        <th id=\"T_5d87d83e_499e_11e8_ba94_8c85905f408elevel0_row4\" class=\"row_heading level0 row4\" >7</th> \n",
       "        <td id=\"T_5d87d83e_499e_11e8_ba94_8c85905f408erow4_col0\" class=\"data row4 col0\" >Life Insurance</td> \n",
       "        <td id=\"T_5d87d83e_499e_11e8_ba94_8c85905f408erow4_col1\" class=\"data row4 col1\" >5733</td> \n",
       "        <td id=\"T_5d87d83e_499e_11e8_ba94_8c85905f408erow4_col2\" class=\"data row4 col2\" >45.95%</td> \n",
       "    </tr></tbody> \n",
       "</table> "
      ],
      "text/plain": [
       "<pandas.io.formats.style.Styler at 0x1a183de5f8>"
      ]
     },
     "metadata": {},
     "output_type": "display_data"
    },
    {
     "data": {
      "text/plain": [
       "'V_20 : In my current role, there is:'"
      ]
     },
     "metadata": {},
     "output_type": "display_data"
    },
    {
     "data": {
      "text/html": [
       "<style  type=\"text/css\" >\n",
       "</style>  \n",
       "<table id=\"T_5d89787e_499e_11e8_88db_8c85905f408e\" > \n",
       "<thead>    <tr> \n",
       "        <th class=\"blank level0\" ></th> \n",
       "        <th class=\"col_heading level0 col0\" >Options</th> \n",
       "        <th class=\"col_heading level0 col1\" >Count</th> \n",
       "        <th class=\"col_heading level0 col2\" >Percent</th> \n",
       "    </tr></thead> \n",
       "<tbody>    <tr> \n",
       "        <th id=\"T_5d89787e_499e_11e8_88db_8c85905f408elevel0_row0\" class=\"row_heading level0 row0\" >0</th> \n",
       "        <td id=\"T_5d89787e_499e_11e8_88db_8c85905f408erow0_col0\" class=\"data row0 col0\" >Some opportunity for advancement</td> \n",
       "        <td id=\"T_5d89787e_499e_11e8_88db_8c85905f408erow0_col1\" class=\"data row0 col1\" >3880</td> \n",
       "        <td id=\"T_5d89787e_499e_11e8_88db_8c85905f408erow0_col2\" class=\"data row0 col2\" >31.10%</td> \n",
       "    </tr>    <tr> \n",
       "        <th id=\"T_5d89787e_499e_11e8_88db_8c85905f408elevel0_row1\" class=\"row_heading level0 row1\" >1</th> \n",
       "        <td id=\"T_5d89787e_499e_11e8_88db_8c85905f408erow1_col0\" class=\"data row1 col0\" >Promising opportunity for advancement</td> \n",
       "        <td id=\"T_5d89787e_499e_11e8_88db_8c85905f408erow1_col1\" class=\"data row1 col1\" >3256</td> \n",
       "        <td id=\"T_5d89787e_499e_11e8_88db_8c85905f408erow1_col2\" class=\"data row1 col2\" >26.10%</td> \n",
       "    </tr>    <tr> \n",
       "        <th id=\"T_5d89787e_499e_11e8_88db_8c85905f408elevel0_row2\" class=\"row_heading level0 row2\" >2</th> \n",
       "        <td id=\"T_5d89787e_499e_11e8_88db_8c85905f408erow2_col0\" class=\"data row2 col0\" >Limited opportunity for advancement</td> \n",
       "        <td id=\"T_5d89787e_499e_11e8_88db_8c85905f408erow2_col1\" class=\"data row2 col1\" >3093</td> \n",
       "        <td id=\"T_5d89787e_499e_11e8_88db_8c85905f408erow2_col2\" class=\"data row2 col2\" >24.79%</td> \n",
       "    </tr>    <tr> \n",
       "        <th id=\"T_5d89787e_499e_11e8_88db_8c85905f408elevel0_row3\" class=\"row_heading level0 row3\" >3</th> \n",
       "        <td id=\"T_5d89787e_499e_11e8_88db_8c85905f408erow3_col0\" class=\"data row3 col0\" >No opportunity for advancement</td> \n",
       "        <td id=\"T_5d89787e_499e_11e8_88db_8c85905f408erow3_col1\" class=\"data row3 col1\" >1478</td> \n",
       "        <td id=\"T_5d89787e_499e_11e8_88db_8c85905f408erow3_col2\" class=\"data row3 col2\" >11.85%</td> \n",
       "    </tr>    <tr> \n",
       "        <th id=\"T_5d89787e_499e_11e8_88db_8c85905f408elevel0_row4\" class=\"row_heading level0 row4\" >4</th> \n",
       "        <td id=\"T_5d89787e_499e_11e8_88db_8c85905f408erow4_col0\" class=\"data row4 col0\" >Not sure</td> \n",
       "        <td id=\"T_5d89787e_499e_11e8_88db_8c85905f408erow4_col1\" class=\"data row4 col1\" >767</td> \n",
       "        <td id=\"T_5d89787e_499e_11e8_88db_8c85905f408erow4_col2\" class=\"data row4 col2\" >6.15%</td> \n",
       "    </tr></tbody> \n",
       "</table> "
      ],
      "text/plain": [
       "<pandas.io.formats.style.Styler at 0x1a18400cc0>"
      ]
     },
     "metadata": {},
     "output_type": "display_data"
    },
    {
     "data": {
      "text/plain": [
       "'V_21 : In my current role, I am:'"
      ]
     },
     "metadata": {},
     "output_type": "display_data"
    },
    {
     "data": {
      "text/html": [
       "<style  type=\"text/css\" >\n",
       "</style>  \n",
       "<table id=\"T_5d8b0f2c_499e_11e8_9cd4_8c85905f408e\" > \n",
       "<thead>    <tr> \n",
       "        <th class=\"blank level0\" ></th> \n",
       "        <th class=\"col_heading level0 col0\" >Options</th> \n",
       "        <th class=\"col_heading level0 col1\" >Count</th> \n",
       "        <th class=\"col_heading level0 col2\" >Percent</th> \n",
       "    </tr></thead> \n",
       "<tbody>    <tr> \n",
       "        <th id=\"T_5d8b0f2c_499e_11e8_9cd4_8c85905f408elevel0_row0\" class=\"row_heading level0 row0\" >0</th> \n",
       "        <td id=\"T_5d8b0f2c_499e_11e8_9cd4_8c85905f408erow0_col0\" class=\"data row0 col0\" >Learning some new skills</td> \n",
       "        <td id=\"T_5d8b0f2c_499e_11e8_9cd4_8c85905f408erow0_col1\" class=\"data row0 col1\" >5439</td> \n",
       "        <td id=\"T_5d8b0f2c_499e_11e8_9cd4_8c85905f408erow0_col2\" class=\"data row0 col2\" >43.59%</td> \n",
       "    </tr>    <tr> \n",
       "        <th id=\"T_5d8b0f2c_499e_11e8_9cd4_8c85905f408elevel0_row1\" class=\"row_heading level0 row1\" >1</th> \n",
       "        <td id=\"T_5d8b0f2c_499e_11e8_9cd4_8c85905f408erow1_col0\" class=\"data row1 col0\" >Learning and increasing my skill set every day</td> \n",
       "        <td id=\"T_5d8b0f2c_499e_11e8_9cd4_8c85905f408erow1_col1\" class=\"data row1 col1\" >5018</td> \n",
       "        <td id=\"T_5d8b0f2c_499e_11e8_9cd4_8c85905f408erow1_col2\" class=\"data row1 col2\" >40.22%</td> \n",
       "    </tr>    <tr> \n",
       "        <th id=\"T_5d8b0f2c_499e_11e8_9cd4_8c85905f408elevel0_row2\" class=\"row_heading level0 row2\" >2</th> \n",
       "        <td id=\"T_5d8b0f2c_499e_11e8_9cd4_8c85905f408erow2_col0\" class=\"data row2 col0\" >Learning very little</td> \n",
       "        <td id=\"T_5d8b0f2c_499e_11e8_9cd4_8c85905f408erow2_col1\" class=\"data row2 col1\" >1699</td> \n",
       "        <td id=\"T_5d8b0f2c_499e_11e8_9cd4_8c85905f408erow2_col2\" class=\"data row2 col2\" >13.62%</td> \n",
       "    </tr>    <tr> \n",
       "        <th id=\"T_5d8b0f2c_499e_11e8_9cd4_8c85905f408elevel0_row3\" class=\"row_heading level0 row3\" >3</th> \n",
       "        <td id=\"T_5d8b0f2c_499e_11e8_9cd4_8c85905f408erow3_col0\" class=\"data row3 col0\" >Learning nothing</td> \n",
       "        <td id=\"T_5d8b0f2c_499e_11e8_9cd4_8c85905f408erow3_col1\" class=\"data row3 col1\" >249</td> \n",
       "        <td id=\"T_5d8b0f2c_499e_11e8_9cd4_8c85905f408erow3_col2\" class=\"data row3 col2\" >2.00%</td> \n",
       "    </tr>    <tr> \n",
       "        <th id=\"T_5d8b0f2c_499e_11e8_9cd4_8c85905f408elevel0_row4\" class=\"row_heading level0 row4\" >4</th> \n",
       "        <td id=\"T_5d8b0f2c_499e_11e8_9cd4_8c85905f408erow4_col0\" class=\"data row4 col0\" >Not sure</td> \n",
       "        <td id=\"T_5d8b0f2c_499e_11e8_9cd4_8c85905f408erow4_col1\" class=\"data row4 col1\" >69</td> \n",
       "        <td id=\"T_5d8b0f2c_499e_11e8_9cd4_8c85905f408erow4_col2\" class=\"data row4 col2\" >0.55%</td> \n",
       "    </tr></tbody> \n",
       "</table> "
      ],
      "text/plain": [
       "<pandas.io.formats.style.Styler at 0x1a183ccfd0>"
      ]
     },
     "metadata": {},
     "output_type": "display_data"
    },
    {
     "data": {
      "text/plain": [
       "'V_22 : My job is:'"
      ]
     },
     "metadata": {},
     "output_type": "display_data"
    },
    {
     "data": {
      "text/html": [
       "<style  type=\"text/css\" >\n",
       "</style>  \n",
       "<table id=\"T_5d8cdcd0_499e_11e8_8650_8c85905f408e\" > \n",
       "<thead>    <tr> \n",
       "        <th class=\"blank level0\" ></th> \n",
       "        <th class=\"col_heading level0 col0\" >Options</th> \n",
       "        <th class=\"col_heading level0 col1\" >Count</th> \n",
       "        <th class=\"col_heading level0 col2\" >Percent</th> \n",
       "    </tr></thead> \n",
       "<tbody>    <tr> \n",
       "        <th id=\"T_5d8cdcd0_499e_11e8_8650_8c85905f408elevel0_row0\" class=\"row_heading level0 row0\" >0</th> \n",
       "        <td id=\"T_5d8cdcd0_499e_11e8_8650_8c85905f408erow0_col0\" class=\"data row0 col0\" >Pretty good</td> \n",
       "        <td id=\"T_5d8cdcd0_499e_11e8_8650_8c85905f408erow0_col1\" class=\"data row0 col1\" >8014</td> \n",
       "        <td id=\"T_5d8cdcd0_499e_11e8_8650_8c85905f408erow0_col2\" class=\"data row0 col2\" >64.23%</td> \n",
       "    </tr>    <tr> \n",
       "        <th id=\"T_5d8cdcd0_499e_11e8_8650_8c85905f408elevel0_row1\" class=\"row_heading level0 row1\" >1</th> \n",
       "        <td id=\"T_5d8cdcd0_499e_11e8_8650_8c85905f408erow1_col0\" class=\"data row1 col0\" >The best</td> \n",
       "        <td id=\"T_5d8cdcd0_499e_11e8_8650_8c85905f408erow1_col1\" class=\"data row1 col1\" >2161</td> \n",
       "        <td id=\"T_5d8cdcd0_499e_11e8_8650_8c85905f408erow1_col2\" class=\"data row1 col2\" >17.32%</td> \n",
       "    </tr>    <tr> \n",
       "        <th id=\"T_5d8cdcd0_499e_11e8_8650_8c85905f408elevel0_row2\" class=\"row_heading level0 row2\" >2</th> \n",
       "        <td id=\"T_5d8cdcd0_499e_11e8_8650_8c85905f408erow2_col0\" class=\"data row2 col0\" >Not great</td> \n",
       "        <td id=\"T_5d8cdcd0_499e_11e8_8650_8c85905f408erow2_col1\" class=\"data row2 col1\" >1942</td> \n",
       "        <td id=\"T_5d8cdcd0_499e_11e8_8650_8c85905f408erow2_col2\" class=\"data row2 col2\" >15.56%</td> \n",
       "    </tr>    <tr> \n",
       "        <th id=\"T_5d8cdcd0_499e_11e8_8650_8c85905f408elevel0_row3\" class=\"row_heading level0 row3\" >3</th> \n",
       "        <td id=\"T_5d8cdcd0_499e_11e8_8650_8c85905f408erow3_col0\" class=\"data row3 col0\" >Not sure</td> \n",
       "        <td id=\"T_5d8cdcd0_499e_11e8_8650_8c85905f408erow3_col1\" class=\"data row3 col1\" >194</td> \n",
       "        <td id=\"T_5d8cdcd0_499e_11e8_8650_8c85905f408erow3_col2\" class=\"data row3 col2\" >1.55%</td> \n",
       "    </tr>    <tr> \n",
       "        <th id=\"T_5d8cdcd0_499e_11e8_8650_8c85905f408elevel0_row4\" class=\"row_heading level0 row4\" >4</th> \n",
       "        <td id=\"T_5d8cdcd0_499e_11e8_8650_8c85905f408erow4_col0\" class=\"data row4 col0\" >The worst</td> \n",
       "        <td id=\"T_5d8cdcd0_499e_11e8_8650_8c85905f408erow4_col1\" class=\"data row4 col1\" >163</td> \n",
       "        <td id=\"T_5d8cdcd0_499e_11e8_8650_8c85905f408erow4_col2\" class=\"data row4 col2\" >1.31%</td> \n",
       "    </tr></tbody> \n",
       "</table> "
      ],
      "text/plain": [
       "<pandas.io.formats.style.Styler at 0x1a18400a20>"
      ]
     },
     "metadata": {},
     "output_type": "display_data"
    },
    {
     "data": {
      "text/plain": [
       "'V_23 : My job stability is:'"
      ]
     },
     "metadata": {},
     "output_type": "display_data"
    },
    {
     "data": {
      "text/html": [
       "<style  type=\"text/css\" >\n",
       "</style>  \n",
       "<table id=\"T_5d8ebd86_499e_11e8_ac75_8c85905f408e\" > \n",
       "<thead>    <tr> \n",
       "        <th class=\"blank level0\" ></th> \n",
       "        <th class=\"col_heading level0 col0\" >Options</th> \n",
       "        <th class=\"col_heading level0 col1\" >Count</th> \n",
       "        <th class=\"col_heading level0 col2\" >Percent</th> \n",
       "    </tr></thead> \n",
       "<tbody>    <tr> \n",
       "        <th id=\"T_5d8ebd86_499e_11e8_ac75_8c85905f408elevel0_row0\" class=\"row_heading level0 row0\" >0</th> \n",
       "        <td id=\"T_5d8ebd86_499e_11e8_ac75_8c85905f408erow0_col0\" class=\"data row0 col0\" >Fairly stable</td> \n",
       "        <td id=\"T_5d8ebd86_499e_11e8_ac75_8c85905f408erow0_col1\" class=\"data row0 col1\" >7152</td> \n",
       "        <td id=\"T_5d8ebd86_499e_11e8_ac75_8c85905f408erow0_col2\" class=\"data row0 col2\" >57.32%</td> \n",
       "    </tr>    <tr> \n",
       "        <th id=\"T_5d8ebd86_499e_11e8_ac75_8c85905f408elevel0_row1\" class=\"row_heading level0 row1\" >1</th> \n",
       "        <td id=\"T_5d8ebd86_499e_11e8_ac75_8c85905f408erow1_col0\" class=\"data row1 col0\" >Rock solid</td> \n",
       "        <td id=\"T_5d8ebd86_499e_11e8_ac75_8c85905f408erow1_col1\" class=\"data row1 col1\" >3154</td> \n",
       "        <td id=\"T_5d8ebd86_499e_11e8_ac75_8c85905f408erow1_col2\" class=\"data row1 col2\" >25.28%</td> \n",
       "    </tr>    <tr> \n",
       "        <th id=\"T_5d8ebd86_499e_11e8_ac75_8c85905f408elevel0_row2\" class=\"row_heading level0 row2\" >2</th> \n",
       "        <td id=\"T_5d8ebd86_499e_11e8_ac75_8c85905f408erow2_col0\" class=\"data row2 col0\" >Somewhat shaky</td> \n",
       "        <td id=\"T_5d8ebd86_499e_11e8_ac75_8c85905f408erow2_col1\" class=\"data row2 col1\" >1580</td> \n",
       "        <td id=\"T_5d8ebd86_499e_11e8_ac75_8c85905f408erow2_col2\" class=\"data row2 col2\" >12.66%</td> \n",
       "    </tr>    <tr> \n",
       "        <th id=\"T_5d8ebd86_499e_11e8_ac75_8c85905f408elevel0_row3\" class=\"row_heading level0 row3\" >3</th> \n",
       "        <td id=\"T_5d8ebd86_499e_11e8_ac75_8c85905f408erow3_col0\" class=\"data row3 col0\" >Non-existent</td> \n",
       "        <td id=\"T_5d8ebd86_499e_11e8_ac75_8c85905f408erow3_col1\" class=\"data row3 col1\" >408</td> \n",
       "        <td id=\"T_5d8ebd86_499e_11e8_ac75_8c85905f408erow3_col2\" class=\"data row3 col2\" >3.27%</td> \n",
       "    </tr>    <tr> \n",
       "        <th id=\"T_5d8ebd86_499e_11e8_ac75_8c85905f408elevel0_row4\" class=\"row_heading level0 row4\" >4</th> \n",
       "        <td id=\"T_5d8ebd86_499e_11e8_ac75_8c85905f408erow4_col0\" class=\"data row4 col0\" >Not sure</td> \n",
       "        <td id=\"T_5d8ebd86_499e_11e8_ac75_8c85905f408erow4_col1\" class=\"data row4 col1\" >180</td> \n",
       "        <td id=\"T_5d8ebd86_499e_11e8_ac75_8c85905f408erow4_col2\" class=\"data row4 col2\" >1.44%</td> \n",
       "    </tr></tbody> \n",
       "</table> "
      ],
      "text/plain": [
       "<pandas.io.formats.style.Styler at 0x1a183de5f8>"
      ]
     },
     "metadata": {},
     "output_type": "display_data"
    },
    {
     "data": {
      "text/plain": [
       "'V_24 : In addition to my job, I also:'"
      ]
     },
     "metadata": {},
     "output_type": "display_data"
    },
    {
     "data": {
      "text/html": [
       "<style  type=\"text/css\" >\n",
       "</style>  \n",
       "<table id=\"T_5d942418_499e_11e8_adb7_8c85905f408e\" > \n",
       "<thead>    <tr> \n",
       "        <th class=\"blank level0\" ></th> \n",
       "        <th class=\"col_heading level0 col0\" >Options</th> \n",
       "        <th class=\"col_heading level0 col1\" >Count</th> \n",
       "        <th class=\"col_heading level0 col2\" >Percent</th> \n",
       "    </tr></thead> \n",
       "<tbody>    <tr> \n",
       "        <th id=\"T_5d942418_499e_11e8_adb7_8c85905f408elevel0_row0\" class=\"row_heading level0 row0\" >0</th> \n",
       "        <td id=\"T_5d942418_499e_11e8_adb7_8c85905f408erow0_col0\" class=\"data row0 col0\" >Design for friends and family</td> \n",
       "        <td id=\"T_5d942418_499e_11e8_adb7_8c85905f408erow0_col1\" class=\"data row0 col1\" >6966</td> \n",
       "        <td id=\"T_5d942418_499e_11e8_adb7_8c85905f408erow0_col2\" class=\"data row0 col2\" >55.83%</td> \n",
       "    </tr>    <tr> \n",
       "        <th id=\"T_5d942418_499e_11e8_adb7_8c85905f408elevel0_row1\" class=\"row_heading level0 row1\" >6</th> \n",
       "        <td id=\"T_5d942418_499e_11e8_adb7_8c85905f408erow1_col0\" class=\"data row1 col0\" >Maintain personal projects</td> \n",
       "        <td id=\"T_5d942418_499e_11e8_adb7_8c85905f408erow1_col1\" class=\"data row1 col1\" >6814</td> \n",
       "        <td id=\"T_5d942418_499e_11e8_adb7_8c85905f408erow1_col2\" class=\"data row1 col2\" >54.61%</td> \n",
       "    </tr>    <tr> \n",
       "        <th id=\"T_5d942418_499e_11e8_adb7_8c85905f408elevel0_row2\" class=\"row_heading level0 row2\" >7</th> \n",
       "        <td id=\"T_5d942418_499e_11e8_adb7_8c85905f408erow2_col0\" class=\"data row2 col0\" >Take occasional freelance projects</td> \n",
       "        <td id=\"T_5d942418_499e_11e8_adb7_8c85905f408erow2_col1\" class=\"data row2 col1\" >6177</td> \n",
       "        <td id=\"T_5d942418_499e_11e8_adb7_8c85905f408erow2_col2\" class=\"data row2 col2\" >49.51%</td> \n",
       "    </tr>    <tr> \n",
       "        <th id=\"T_5d942418_499e_11e8_adb7_8c85905f408elevel0_row3\" class=\"row_heading level0 row3\" >8</th> \n",
       "        <td id=\"T_5d942418_499e_11e8_adb7_8c85905f408erow3_col0\" class=\"data row3 col0\" >Volunteer</td> \n",
       "        <td id=\"T_5d942418_499e_11e8_adb7_8c85905f408erow3_col1\" class=\"data row3 col1\" >3986</td> \n",
       "        <td id=\"T_5d942418_499e_11e8_adb7_8c85905f408erow3_col2\" class=\"data row3 col2\" >31.95%</td> \n",
       "    </tr>    <tr> \n",
       "        <th id=\"T_5d942418_499e_11e8_adb7_8c85905f408elevel0_row4\" class=\"row_heading level0 row4\" >4</th> \n",
       "        <td id=\"T_5d942418_499e_11e8_adb7_8c85905f408erow4_col0\" class=\"data row4 col0\" >Have regular freelance clients</td> \n",
       "        <td id=\"T_5d942418_499e_11e8_adb7_8c85905f408erow4_col1\" class=\"data row4 col1\" >2154</td> \n",
       "        <td id=\"T_5d942418_499e_11e8_adb7_8c85905f408erow4_col2\" class=\"data row4 col2\" >17.26%</td> \n",
       "    </tr></tbody> \n",
       "</table> "
      ],
      "text/plain": [
       "<pandas.io.formats.style.Styler at 0x1a183bcf98>"
      ]
     },
     "metadata": {},
     "output_type": "display_data"
    },
    {
     "data": {
      "text/plain": [
       "'V_25 : I fuel my daily creativity with coffee:'"
      ]
     },
     "metadata": {},
     "output_type": "display_data"
    },
    {
     "data": {
      "text/html": [
       "<style  type=\"text/css\" >\n",
       "</style>  \n",
       "<table id=\"T_5d960ff8_499e_11e8_be9a_8c85905f408e\" > \n",
       "<thead>    <tr> \n",
       "        <th class=\"blank level0\" ></th> \n",
       "        <th class=\"col_heading level0 col0\" >Options</th> \n",
       "        <th class=\"col_heading level0 col1\" >Count</th> \n",
       "        <th class=\"col_heading level0 col2\" >Percent</th> \n",
       "    </tr></thead> \n",
       "<tbody>    <tr> \n",
       "        <th id=\"T_5d960ff8_499e_11e8_be9a_8c85905f408elevel0_row0\" class=\"row_heading level0 row0\" >0</th> \n",
       "        <td id=\"T_5d960ff8_499e_11e8_be9a_8c85905f408erow0_col0\" class=\"data row0 col0\" >1-2 cups</td> \n",
       "        <td id=\"T_5d960ff8_499e_11e8_be9a_8c85905f408erow0_col1\" class=\"data row0 col1\" >5982</td> \n",
       "        <td id=\"T_5d960ff8_499e_11e8_be9a_8c85905f408erow0_col2\" class=\"data row0 col2\" >47.94%</td> \n",
       "    </tr>    <tr> \n",
       "        <th id=\"T_5d960ff8_499e_11e8_be9a_8c85905f408elevel0_row1\" class=\"row_heading level0 row1\" >1</th> \n",
       "        <td id=\"T_5d960ff8_499e_11e8_be9a_8c85905f408erow1_col0\" class=\"data row1 col0\" >3-4 cups</td> \n",
       "        <td id=\"T_5d960ff8_499e_11e8_be9a_8c85905f408erow1_col1\" class=\"data row1 col1\" >2349</td> \n",
       "        <td id=\"T_5d960ff8_499e_11e8_be9a_8c85905f408erow1_col2\" class=\"data row1 col2\" >18.83%</td> \n",
       "    </tr>    <tr> \n",
       "        <th id=\"T_5d960ff8_499e_11e8_be9a_8c85905f408elevel0_row2\" class=\"row_heading level0 row2\" >2</th> \n",
       "        <td id=\"T_5d960ff8_499e_11e8_be9a_8c85905f408erow2_col0\" class=\"data row2 col0\" >No way, tea</td> \n",
       "        <td id=\"T_5d960ff8_499e_11e8_be9a_8c85905f408erow2_col1\" class=\"data row2 col1\" >2102</td> \n",
       "        <td id=\"T_5d960ff8_499e_11e8_be9a_8c85905f408erow2_col2\" class=\"data row2 col2\" >16.85%</td> \n",
       "    </tr>    <tr> \n",
       "        <th id=\"T_5d960ff8_499e_11e8_be9a_8c85905f408elevel0_row3\" class=\"row_heading level0 row3\" >3</th> \n",
       "        <td id=\"T_5d960ff8_499e_11e8_be9a_8c85905f408erow3_col0\" class=\"data row3 col0\" >Other</td> \n",
       "        <td id=\"T_5d960ff8_499e_11e8_be9a_8c85905f408erow3_col1\" class=\"data row3 col1\" >1439</td> \n",
       "        <td id=\"T_5d960ff8_499e_11e8_be9a_8c85905f408erow3_col2\" class=\"data row3 col2\" >11.53%</td> \n",
       "    </tr>    <tr> \n",
       "        <th id=\"T_5d960ff8_499e_11e8_be9a_8c85905f408elevel0_row4\" class=\"row_heading level0 row4\" >4</th> \n",
       "        <td id=\"T_5d960ff8_499e_11e8_be9a_8c85905f408erow4_col0\" class=\"data row4 col0\" >5-6 cups</td> \n",
       "        <td id=\"T_5d960ff8_499e_11e8_be9a_8c85905f408erow4_col1\" class=\"data row4 col1\" >459</td> \n",
       "        <td id=\"T_5d960ff8_499e_11e8_be9a_8c85905f408erow4_col2\" class=\"data row4 col2\" >3.68%</td> \n",
       "    </tr></tbody> \n",
       "</table> "
      ],
      "text/plain": [
       "<pandas.io.formats.style.Styler at 0x1a183c6710>"
      ]
     },
     "metadata": {},
     "output_type": "display_data"
    },
    {
     "data": {
      "text/plain": [
       "\"V_26 : Highest level of education I've completed:\""
      ]
     },
     "metadata": {},
     "output_type": "display_data"
    },
    {
     "data": {
      "text/html": [
       "<style  type=\"text/css\" >\n",
       "</style>  \n",
       "<table id=\"T_5d97ccba_499e_11e8_afe2_8c85905f408e\" > \n",
       "<thead>    <tr> \n",
       "        <th class=\"blank level0\" ></th> \n",
       "        <th class=\"col_heading level0 col0\" >Options</th> \n",
       "        <th class=\"col_heading level0 col1\" >Count</th> \n",
       "        <th class=\"col_heading level0 col2\" >Percent</th> \n",
       "    </tr></thead> \n",
       "<tbody>    <tr> \n",
       "        <th id=\"T_5d97ccba_499e_11e8_afe2_8c85905f408elevel0_row0\" class=\"row_heading level0 row0\" >0</th> \n",
       "        <td id=\"T_5d97ccba_499e_11e8_afe2_8c85905f408erow0_col0\" class=\"data row0 col0\" >Bachelor's degree</td> \n",
       "        <td id=\"T_5d97ccba_499e_11e8_afe2_8c85905f408erow0_col1\" class=\"data row0 col1\" >8613</td> \n",
       "        <td id=\"T_5d97ccba_499e_11e8_afe2_8c85905f408erow0_col2\" class=\"data row0 col2\" >69.03%</td> \n",
       "    </tr>    <tr> \n",
       "        <th id=\"T_5d97ccba_499e_11e8_afe2_8c85905f408elevel0_row1\" class=\"row_heading level0 row1\" >1</th> \n",
       "        <td id=\"T_5d97ccba_499e_11e8_afe2_8c85905f408erow1_col0\" class=\"data row1 col0\" >Master's degree</td> \n",
       "        <td id=\"T_5d97ccba_499e_11e8_afe2_8c85905f408erow1_col1\" class=\"data row1 col1\" >2117</td> \n",
       "        <td id=\"T_5d97ccba_499e_11e8_afe2_8c85905f408erow1_col2\" class=\"data row1 col2\" >16.97%</td> \n",
       "    </tr>    <tr> \n",
       "        <th id=\"T_5d97ccba_499e_11e8_afe2_8c85905f408elevel0_row2\" class=\"row_heading level0 row2\" >2</th> \n",
       "        <td id=\"T_5d97ccba_499e_11e8_afe2_8c85905f408erow2_col0\" class=\"data row2 col0\" >Some college</td> \n",
       "        <td id=\"T_5d97ccba_499e_11e8_afe2_8c85905f408erow2_col1\" class=\"data row2 col1\" >628</td> \n",
       "        <td id=\"T_5d97ccba_499e_11e8_afe2_8c85905f408erow2_col2\" class=\"data row2 col2\" >5.03%</td> \n",
       "    </tr>    <tr> \n",
       "        <th id=\"T_5d97ccba_499e_11e8_afe2_8c85905f408elevel0_row3\" class=\"row_heading level0 row3\" >3</th> \n",
       "        <td id=\"T_5d97ccba_499e_11e8_afe2_8c85905f408erow3_col0\" class=\"data row3 col0\" >Associate's degree</td> \n",
       "        <td id=\"T_5d97ccba_499e_11e8_afe2_8c85905f408erow3_col1\" class=\"data row3 col1\" >545</td> \n",
       "        <td id=\"T_5d97ccba_499e_11e8_afe2_8c85905f408erow3_col2\" class=\"data row3 col2\" >4.37%</td> \n",
       "    </tr>    <tr> \n",
       "        <th id=\"T_5d97ccba_499e_11e8_afe2_8c85905f408elevel0_row4\" class=\"row_heading level0 row4\" >4</th> \n",
       "        <td id=\"T_5d97ccba_499e_11e8_afe2_8c85905f408erow4_col0\" class=\"data row4 col0\" >Technical degree or certificate</td> \n",
       "        <td id=\"T_5d97ccba_499e_11e8_afe2_8c85905f408erow4_col1\" class=\"data row4 col1\" >284</td> \n",
       "        <td id=\"T_5d97ccba_499e_11e8_afe2_8c85905f408erow4_col2\" class=\"data row4 col2\" >2.28%</td> \n",
       "    </tr></tbody> \n",
       "</table> "
      ],
      "text/plain": [
       "<pandas.io.formats.style.Styler at 0x1a183e85f8>"
      ]
     },
     "metadata": {},
     "output_type": "display_data"
    },
    {
     "data": {
      "text/plain": [
       "'V_27 : I learned design:'"
      ]
     },
     "metadata": {},
     "output_type": "display_data"
    },
    {
     "data": {
      "text/html": [
       "<style  type=\"text/css\" >\n",
       "</style>  \n",
       "<table id=\"T_5d9bfd34_499e_11e8_8fc3_8c85905f408e\" > \n",
       "<thead>    <tr> \n",
       "        <th class=\"blank level0\" ></th> \n",
       "        <th class=\"col_heading level0 col0\" >Options</th> \n",
       "        <th class=\"col_heading level0 col1\" >Count</th> \n",
       "        <th class=\"col_heading level0 col2\" >Percent</th> \n",
       "    </tr></thead> \n",
       "<tbody>    <tr> \n",
       "        <th id=\"T_5d9bfd34_499e_11e8_8fc3_8c85905f408elevel0_row0\" class=\"row_heading level0 row0\" >4</th> \n",
       "        <td id=\"T_5d9bfd34_499e_11e8_8fc3_8c85905f408erow0_col0\" class=\"data row0 col0\" >In school</td> \n",
       "        <td id=\"T_5d9bfd34_499e_11e8_8fc3_8c85905f408erow0_col1\" class=\"data row0 col1\" >10055</td> \n",
       "        <td id=\"T_5d9bfd34_499e_11e8_8fc3_8c85905f408erow0_col2\" class=\"data row0 col2\" >80.59%</td> \n",
       "    </tr>    <tr> \n",
       "        <th id=\"T_5d9bfd34_499e_11e8_8fc3_8c85905f408elevel0_row1\" class=\"row_heading level0 row1\" >2</th> \n",
       "        <td id=\"T_5d9bfd34_499e_11e8_8fc3_8c85905f408erow1_col0\" class=\"data row1 col0\" >On the job</td> \n",
       "        <td id=\"T_5d9bfd34_499e_11e8_8fc3_8c85905f408erow1_col1\" class=\"data row1 col1\" >8861</td> \n",
       "        <td id=\"T_5d9bfd34_499e_11e8_8fc3_8c85905f408erow1_col2\" class=\"data row1 col2\" >71.02%</td> \n",
       "    </tr>    <tr> \n",
       "        <th id=\"T_5d9bfd34_499e_11e8_8fc3_8c85905f408elevel0_row2\" class=\"row_heading level0 row2\" >1</th> \n",
       "        <td id=\"T_5d9bfd34_499e_11e8_8fc3_8c85905f408erow2_col0\" class=\"data row2 col0\" >On my own</td> \n",
       "        <td id=\"T_5d9bfd34_499e_11e8_8fc3_8c85905f408erow2_col1\" class=\"data row2 col1\" >8014</td> \n",
       "        <td id=\"T_5d9bfd34_499e_11e8_8fc3_8c85905f408erow2_col2\" class=\"data row2 col2\" >64.23%</td> \n",
       "    </tr>    <tr> \n",
       "        <th id=\"T_5d9bfd34_499e_11e8_8fc3_8c85905f408elevel0_row3\" class=\"row_heading level0 row3\" >5</th> \n",
       "        <td id=\"T_5d9bfd34_499e_11e8_8fc3_8c85905f408erow3_col0\" class=\"data row3 col0\" >From programs or workshops</td> \n",
       "        <td id=\"T_5d9bfd34_499e_11e8_8fc3_8c85905f408erow3_col1\" class=\"data row3 col1\" >4554</td> \n",
       "        <td id=\"T_5d9bfd34_499e_11e8_8fc3_8c85905f408erow3_col2\" class=\"data row3 col2\" >36.50%</td> \n",
       "    </tr>    <tr> \n",
       "        <th id=\"T_5d9bfd34_499e_11e8_8fc3_8c85905f408elevel0_row4\" class=\"row_heading level0 row4\" >0</th> \n",
       "        <td id=\"T_5d9bfd34_499e_11e8_8fc3_8c85905f408erow4_col0\" class=\"data row4 col0\" >Through online training</td> \n",
       "        <td id=\"T_5d9bfd34_499e_11e8_8fc3_8c85905f408erow4_col1\" class=\"data row4 col1\" >3970</td> \n",
       "        <td id=\"T_5d9bfd34_499e_11e8_8fc3_8c85905f408erow4_col2\" class=\"data row4 col2\" >31.82%</td> \n",
       "    </tr></tbody> \n",
       "</table> "
      ],
      "text/plain": [
       "<pandas.io.formats.style.Styler at 0x1a183d4588>"
      ]
     },
     "metadata": {},
     "output_type": "display_data"
    },
    {
     "data": {
      "text/plain": [
       "'V_28 : My major focus of study was:'"
      ]
     },
     "metadata": {},
     "output_type": "display_data"
    },
    {
     "data": {
      "text/html": [
       "<style  type=\"text/css\" >\n",
       "</style>  \n",
       "<table id=\"T_5dabe742_499e_11e8_a20b_8c85905f408e\" > \n",
       "<thead>    <tr> \n",
       "        <th class=\"blank level0\" ></th> \n",
       "        <th class=\"col_heading level0 col0\" >Options</th> \n",
       "        <th class=\"col_heading level0 col1\" >Count</th> \n",
       "        <th class=\"col_heading level0 col2\" >Percent</th> \n",
       "    </tr></thead> \n",
       "<tbody>    <tr> \n",
       "        <th id=\"T_5dabe742_499e_11e8_a20b_8c85905f408elevel0_row0\" class=\"row_heading level0 row0\" >19</th> \n",
       "        <td id=\"T_5dabe742_499e_11e8_a20b_8c85905f408erow0_col0\" class=\"data row0 col0\" >Graphic Design</td> \n",
       "        <td id=\"T_5dabe742_499e_11e8_a20b_8c85905f408erow0_col1\" class=\"data row0 col1\" >8470</td> \n",
       "        <td id=\"T_5dabe742_499e_11e8_a20b_8c85905f408erow0_col2\" class=\"data row0 col2\" >67.88%</td> \n",
       "    </tr>    <tr> \n",
       "        <th id=\"T_5dabe742_499e_11e8_a20b_8c85905f408elevel0_row1\" class=\"row_heading level0 row1\" >11</th> \n",
       "        <td id=\"T_5dabe742_499e_11e8_a20b_8c85905f408erow1_col0\" class=\"data row1 col0\" >Art</td> \n",
       "        <td id=\"T_5dabe742_499e_11e8_a20b_8c85905f408erow1_col1\" class=\"data row1 col1\" >2821</td> \n",
       "        <td id=\"T_5dabe742_499e_11e8_a20b_8c85905f408erow1_col2\" class=\"data row1 col2\" >22.61%</td> \n",
       "    </tr>    <tr> \n",
       "        <th id=\"T_5dabe742_499e_11e8_a20b_8c85905f408elevel0_row2\" class=\"row_heading level0 row2\" >23</th> \n",
       "        <td id=\"T_5dabe742_499e_11e8_a20b_8c85905f408erow2_col0\" class=\"data row2 col0\" >Visual Design</td> \n",
       "        <td id=\"T_5dabe742_499e_11e8_a20b_8c85905f408erow2_col1\" class=\"data row2 col1\" >2424</td> \n",
       "        <td id=\"T_5dabe742_499e_11e8_a20b_8c85905f408erow2_col2\" class=\"data row2 col2\" >19.43%</td> \n",
       "    </tr>    <tr> \n",
       "        <th id=\"T_5dabe742_499e_11e8_a20b_8c85905f408elevel0_row3\" class=\"row_heading level0 row3\" >8</th> \n",
       "        <td id=\"T_5dabe742_499e_11e8_a20b_8c85905f408erow3_col0\" class=\"data row3 col0\" >Website Design</td> \n",
       "        <td id=\"T_5dabe742_499e_11e8_a20b_8c85905f408erow3_col1\" class=\"data row3 col1\" >2080</td> \n",
       "        <td id=\"T_5dabe742_499e_11e8_a20b_8c85905f408erow3_col2\" class=\"data row3 col2\" >16.67%</td> \n",
       "    </tr>    <tr> \n",
       "        <th id=\"T_5dabe742_499e_11e8_a20b_8c85905f408elevel0_row4\" class=\"row_heading level0 row4\" >13</th> \n",
       "        <td id=\"T_5dabe742_499e_11e8_a20b_8c85905f408erow4_col0\" class=\"data row4 col0\" >Design and Technology</td> \n",
       "        <td id=\"T_5dabe742_499e_11e8_a20b_8c85905f408erow4_col1\" class=\"data row4 col1\" >2050</td> \n",
       "        <td id=\"T_5dabe742_499e_11e8_a20b_8c85905f408erow4_col2\" class=\"data row4 col2\" >16.43%</td> \n",
       "    </tr></tbody> \n",
       "</table> "
      ],
      "text/plain": [
       "<pandas.io.formats.style.Styler at 0x1a183a5ba8>"
      ]
     },
     "metadata": {},
     "output_type": "display_data"
    },
    {
     "data": {
      "text/plain": [
       "\"V_29 : Over my career, I've had:\""
      ]
     },
     "metadata": {},
     "output_type": "display_data"
    },
    {
     "data": {
      "text/html": [
       "<style  type=\"text/css\" >\n",
       "</style>  \n",
       "<table id=\"T_5dad7436_499e_11e8_8d21_8c85905f408e\" > \n",
       "<thead>    <tr> \n",
       "        <th class=\"blank level0\" ></th> \n",
       "        <th class=\"col_heading level0 col0\" >Options</th> \n",
       "        <th class=\"col_heading level0 col1\" >Count</th> \n",
       "        <th class=\"col_heading level0 col2\" >Percent</th> \n",
       "    </tr></thead> \n",
       "<tbody>    <tr> \n",
       "        <th id=\"T_5dad7436_499e_11e8_8d21_8c85905f408elevel0_row0\" class=\"row_heading level0 row0\" >0</th> \n",
       "        <td id=\"T_5dad7436_499e_11e8_8d21_8c85905f408erow0_col0\" class=\"data row0 col0\" >2-3 design jobs</td> \n",
       "        <td id=\"T_5dad7436_499e_11e8_8d21_8c85905f408erow0_col1\" class=\"data row0 col1\" >5729</td> \n",
       "        <td id=\"T_5dad7436_499e_11e8_8d21_8c85905f408erow0_col2\" class=\"data row0 col2\" >45.92%</td> \n",
       "    </tr>    <tr> \n",
       "        <th id=\"T_5dad7436_499e_11e8_8d21_8c85905f408elevel0_row1\" class=\"row_heading level0 row1\" >1</th> \n",
       "        <td id=\"T_5dad7436_499e_11e8_8d21_8c85905f408erow1_col0\" class=\"data row1 col0\" >4-5 design jobs</td> \n",
       "        <td id=\"T_5dad7436_499e_11e8_8d21_8c85905f408erow1_col1\" class=\"data row1 col1\" >3052</td> \n",
       "        <td id=\"T_5dad7436_499e_11e8_8d21_8c85905f408erow1_col2\" class=\"data row1 col2\" >24.46%</td> \n",
       "    </tr>    <tr> \n",
       "        <th id=\"T_5dad7436_499e_11e8_8d21_8c85905f408elevel0_row2\" class=\"row_heading level0 row2\" >2</th> \n",
       "        <td id=\"T_5dad7436_499e_11e8_8d21_8c85905f408erow2_col0\" class=\"data row2 col0\" >1 design job</td> \n",
       "        <td id=\"T_5dad7436_499e_11e8_8d21_8c85905f408erow2_col1\" class=\"data row2 col1\" >1736</td> \n",
       "        <td id=\"T_5dad7436_499e_11e8_8d21_8c85905f408erow2_col2\" class=\"data row2 col2\" >13.91%</td> \n",
       "    </tr>    <tr> \n",
       "        <th id=\"T_5dad7436_499e_11e8_8d21_8c85905f408elevel0_row3\" class=\"row_heading level0 row3\" >3</th> \n",
       "        <td id=\"T_5dad7436_499e_11e8_8d21_8c85905f408erow3_col0\" class=\"data row3 col0\" >6-7 design jobs</td> \n",
       "        <td id=\"T_5dad7436_499e_11e8_8d21_8c85905f408erow3_col1\" class=\"data row3 col1\" >1029</td> \n",
       "        <td id=\"T_5dad7436_499e_11e8_8d21_8c85905f408erow3_col2\" class=\"data row3 col2\" >8.25%</td> \n",
       "    </tr>    <tr> \n",
       "        <th id=\"T_5dad7436_499e_11e8_8d21_8c85905f408elevel0_row4\" class=\"row_heading level0 row4\" >4</th> \n",
       "        <td id=\"T_5dad7436_499e_11e8_8d21_8c85905f408erow4_col0\" class=\"data row4 col0\" >10+ design jobs</td> \n",
       "        <td id=\"T_5dad7436_499e_11e8_8d21_8c85905f408erow4_col1\" class=\"data row4 col1\" >545</td> \n",
       "        <td id=\"T_5dad7436_499e_11e8_8d21_8c85905f408erow4_col2\" class=\"data row4 col2\" >4.37%</td> \n",
       "    </tr></tbody> \n",
       "</table> "
      ],
      "text/plain": [
       "<pandas.io.formats.style.Styler at 0x1a183b0160>"
      ]
     },
     "metadata": {},
     "output_type": "display_data"
    },
    {
     "data": {
      "text/plain": [
       "\"V_30 : I've shifted my specialty or focus area:\""
      ]
     },
     "metadata": {},
     "output_type": "display_data"
    },
    {
     "data": {
      "text/html": [
       "<style  type=\"text/css\" >\n",
       "</style>  \n",
       "<table id=\"T_5daf03dc_499e_11e8_a47e_8c85905f408e\" > \n",
       "<thead>    <tr> \n",
       "        <th class=\"blank level0\" ></th> \n",
       "        <th class=\"col_heading level0 col0\" >Options</th> \n",
       "        <th class=\"col_heading level0 col1\" >Count</th> \n",
       "        <th class=\"col_heading level0 col2\" >Percent</th> \n",
       "    </tr></thead> \n",
       "<tbody>    <tr> \n",
       "        <th id=\"T_5daf03dc_499e_11e8_a47e_8c85905f408elevel0_row0\" class=\"row_heading level0 row0\" >0</th> \n",
       "        <td id=\"T_5daf03dc_499e_11e8_a47e_8c85905f408erow0_col0\" class=\"data row0 col0\" >1-2 times</td> \n",
       "        <td id=\"T_5daf03dc_499e_11e8_a47e_8c85905f408erow0_col1\" class=\"data row0 col1\" >6228</td> \n",
       "        <td id=\"T_5daf03dc_499e_11e8_a47e_8c85905f408erow0_col2\" class=\"data row0 col2\" >49.92%</td> \n",
       "    </tr>    <tr> \n",
       "        <th id=\"T_5daf03dc_499e_11e8_a47e_8c85905f408elevel0_row1\" class=\"row_heading level0 row1\" >1</th> \n",
       "        <td id=\"T_5daf03dc_499e_11e8_a47e_8c85905f408erow1_col0\" class=\"data row1 col0\" >0 times</td> \n",
       "        <td id=\"T_5daf03dc_499e_11e8_a47e_8c85905f408erow1_col1\" class=\"data row1 col1\" >2967</td> \n",
       "        <td id=\"T_5daf03dc_499e_11e8_a47e_8c85905f408erow1_col2\" class=\"data row1 col2\" >23.78%</td> \n",
       "    </tr>    <tr> \n",
       "        <th id=\"T_5daf03dc_499e_11e8_a47e_8c85905f408elevel0_row2\" class=\"row_heading level0 row2\" >2</th> \n",
       "        <td id=\"T_5daf03dc_499e_11e8_a47e_8c85905f408erow2_col0\" class=\"data row2 col0\" >3-4 times</td> \n",
       "        <td id=\"T_5daf03dc_499e_11e8_a47e_8c85905f408erow2_col1\" class=\"data row2 col1\" >1172</td> \n",
       "        <td id=\"T_5daf03dc_499e_11e8_a47e_8c85905f408erow2_col2\" class=\"data row2 col2\" >9.39%</td> \n",
       "    </tr>    <tr> \n",
       "        <th id=\"T_5daf03dc_499e_11e8_a47e_8c85905f408elevel0_row3\" class=\"row_heading level0 row3\" >3</th> \n",
       "        <td id=\"T_5daf03dc_499e_11e8_a47e_8c85905f408erow3_col0\" class=\"data row3 col0\" >Slowly over time</td> \n",
       "        <td id=\"T_5daf03dc_499e_11e8_a47e_8c85905f408erow3_col1\" class=\"data row3 col1\" >1095</td> \n",
       "        <td id=\"T_5daf03dc_499e_11e8_a47e_8c85905f408erow3_col2\" class=\"data row3 col2\" >8.78%</td> \n",
       "    </tr>    <tr> \n",
       "        <th id=\"T_5daf03dc_499e_11e8_a47e_8c85905f408elevel0_row4\" class=\"row_heading level0 row4\" >4</th> \n",
       "        <td id=\"T_5daf03dc_499e_11e8_a47e_8c85905f408erow4_col0\" class=\"data row4 col0\" >Always ready for what's next</td> \n",
       "        <td id=\"T_5daf03dc_499e_11e8_a47e_8c85905f408erow4_col1\" class=\"data row4 col1\" >1015</td> \n",
       "        <td id=\"T_5daf03dc_499e_11e8_a47e_8c85905f408erow4_col2\" class=\"data row4 col2\" >8.13%</td> \n",
       "    </tr></tbody> \n",
       "</table> "
      ],
      "text/plain": [
       "<pandas.io.formats.style.Styler at 0x1a183b01d0>"
      ]
     },
     "metadata": {},
     "output_type": "display_data"
    },
    {
     "data": {
      "text/plain": [
       "'V_31 : I stay current with design by:'"
      ]
     },
     "metadata": {},
     "output_type": "display_data"
    },
    {
     "data": {
      "text/html": [
       "<style  type=\"text/css\" >\n",
       "</style>  \n",
       "<table id=\"T_5db46f70_499e_11e8_a5c0_8c85905f408e\" > \n",
       "<thead>    <tr> \n",
       "        <th class=\"blank level0\" ></th> \n",
       "        <th class=\"col_heading level0 col0\" >Options</th> \n",
       "        <th class=\"col_heading level0 col1\" >Count</th> \n",
       "        <th class=\"col_heading level0 col2\" >Percent</th> \n",
       "    </tr></thead> \n",
       "<tbody>    <tr> \n",
       "        <th id=\"T_5db46f70_499e_11e8_a5c0_8c85905f408elevel0_row0\" class=\"row_heading level0 row0\" >5</th> \n",
       "        <td id=\"T_5db46f70_499e_11e8_a5c0_8c85905f408erow0_col0\" class=\"data row0 col0\" >Following design feeds</td> \n",
       "        <td id=\"T_5db46f70_499e_11e8_a5c0_8c85905f408erow0_col1\" class=\"data row0 col1\" >10127</td> \n",
       "        <td id=\"T_5db46f70_499e_11e8_a5c0_8c85905f408erow0_col2\" class=\"data row0 col2\" >81.17%</td> \n",
       "    </tr>    <tr> \n",
       "        <th id=\"T_5db46f70_499e_11e8_a5c0_8c85905f408elevel0_row1\" class=\"row_heading level0 row1\" >3</th> \n",
       "        <td id=\"T_5db46f70_499e_11e8_a5c0_8c85905f408erow1_col0\" class=\"data row1 col0\" >Reading online publications</td> \n",
       "        <td id=\"T_5db46f70_499e_11e8_a5c0_8c85905f408erow1_col1\" class=\"data row1 col1\" >9563</td> \n",
       "        <td id=\"T_5db46f70_499e_11e8_a5c0_8c85905f408erow1_col2\" class=\"data row1 col2\" >76.65%</td> \n",
       "    </tr>    <tr> \n",
       "        <th id=\"T_5db46f70_499e_11e8_a5c0_8c85905f408elevel0_row2\" class=\"row_heading level0 row2\" >4</th> \n",
       "        <td id=\"T_5db46f70_499e_11e8_a5c0_8c85905f408erow2_col0\" class=\"data row2 col0\" >Following social media</td> \n",
       "        <td id=\"T_5db46f70_499e_11e8_a5c0_8c85905f408erow2_col1\" class=\"data row2 col1\" >9151</td> \n",
       "        <td id=\"T_5db46f70_499e_11e8_a5c0_8c85905f408erow2_col2\" class=\"data row2 col2\" >73.34%</td> \n",
       "    </tr>    <tr> \n",
       "        <th id=\"T_5db46f70_499e_11e8_a5c0_8c85905f408elevel0_row3\" class=\"row_heading level0 row3\" >2</th> \n",
       "        <td id=\"T_5db46f70_499e_11e8_a5c0_8c85905f408erow3_col0\" class=\"data row3 col0\" >Discussing with peers</td> \n",
       "        <td id=\"T_5db46f70_499e_11e8_a5c0_8c85905f408erow3_col1\" class=\"data row3 col1\" >8760</td> \n",
       "        <td id=\"T_5db46f70_499e_11e8_a5c0_8c85905f408erow3_col2\" class=\"data row3 col2\" >70.21%</td> \n",
       "    </tr>    <tr> \n",
       "        <th id=\"T_5db46f70_499e_11e8_a5c0_8c85905f408elevel0_row4\" class=\"row_heading level0 row4\" >1</th> \n",
       "        <td id=\"T_5db46f70_499e_11e8_a5c0_8c85905f408erow4_col0\" class=\"data row4 col0\" >Reading books/magazines</td> \n",
       "        <td id=\"T_5db46f70_499e_11e8_a5c0_8c85905f408erow4_col1\" class=\"data row4 col1\" >7084</td> \n",
       "        <td id=\"T_5db46f70_499e_11e8_a5c0_8c85905f408erow4_col2\" class=\"data row4 col2\" >56.78%</td> \n",
       "    </tr></tbody> \n",
       "</table> "
      ],
      "text/plain": [
       "<pandas.io.formats.style.Styler at 0x1a183cc978>"
      ]
     },
     "metadata": {},
     "output_type": "display_data"
    },
    {
     "data": {
      "text/plain": [
       "\"V_32 : I'm a member of:\""
      ]
     },
     "metadata": {},
     "output_type": "display_data"
    },
    {
     "data": {
      "text/html": [
       "<style  type=\"text/css\" >\n",
       "</style>  \n",
       "<table id=\"T_5dc312f0_499e_11e8_b567_8c85905f408e\" > \n",
       "<thead>    <tr> \n",
       "        <th class=\"blank level0\" ></th> \n",
       "        <th class=\"col_heading level0 col0\" >Options</th> \n",
       "        <th class=\"col_heading level0 col1\" >Count</th> \n",
       "        <th class=\"col_heading level0 col2\" >Percent</th> \n",
       "    </tr></thead> \n",
       "<tbody>    <tr> \n",
       "        <th id=\"T_5dc312f0_499e_11e8_b567_8c85905f408elevel0_row0\" class=\"row_heading level0 row0\" >8</th> \n",
       "        <td id=\"T_5dc312f0_499e_11e8_b567_8c85905f408erow0_col0\" class=\"data row0 col0\" >None of these</td> \n",
       "        <td id=\"T_5dc312f0_499e_11e8_b567_8c85905f408erow0_col1\" class=\"data row0 col1\" >6371</td> \n",
       "        <td id=\"T_5dc312f0_499e_11e8_b567_8c85905f408erow0_col2\" class=\"data row0 col2\" >51.06%</td> \n",
       "    </tr>    <tr> \n",
       "        <th id=\"T_5dc312f0_499e_11e8_b567_8c85905f408elevel0_row1\" class=\"row_heading level0 row1\" >13</th> \n",
       "        <td id=\"T_5dc312f0_499e_11e8_b567_8c85905f408erow1_col0\" class=\"data row1 col0\" >AIGA</td> \n",
       "        <td id=\"T_5dc312f0_499e_11e8_b567_8c85905f408erow1_col1\" class=\"data row1 col1\" >4638</td> \n",
       "        <td id=\"T_5dc312f0_499e_11e8_b567_8c85905f408erow1_col2\" class=\"data row1 col2\" >37.17%</td> \n",
       "    </tr>    <tr> \n",
       "        <th id=\"T_5dc312f0_499e_11e8_b567_8c85905f408elevel0_row2\" class=\"row_heading level0 row2\" >17</th> \n",
       "        <td id=\"T_5dc312f0_499e_11e8_b567_8c85905f408erow2_col0\" class=\"data row2 col0\" >Creative Mornings</td> \n",
       "        <td id=\"T_5dc312f0_499e_11e8_b567_8c85905f408erow2_col1\" class=\"data row2 col1\" >1726</td> \n",
       "        <td id=\"T_5dc312f0_499e_11e8_b567_8c85905f408erow2_col2\" class=\"data row2 col2\" >13.83%</td> \n",
       "    </tr>    <tr> \n",
       "        <th id=\"T_5dc312f0_499e_11e8_b567_8c85905f408elevel0_row3\" class=\"row_heading level0 row3\" >29</th> \n",
       "        <td id=\"T_5dc312f0_499e_11e8_b567_8c85905f408erow3_col0\" class=\"data row3 col0\" >IXDA</td> \n",
       "        <td id=\"T_5dc312f0_499e_11e8_b567_8c85905f408erow3_col1\" class=\"data row3 col1\" >718</td> \n",
       "        <td id=\"T_5dc312f0_499e_11e8_b567_8c85905f408erow3_col2\" class=\"data row3 col2\" >5.75%</td> \n",
       "    </tr>    <tr> \n",
       "        <th id=\"T_5dc312f0_499e_11e8_b567_8c85905f408elevel0_row4\" class=\"row_heading level0 row4\" >9</th> \n",
       "        <td id=\"T_5dc312f0_499e_11e8_b567_8c85905f408erow4_col0\" class=\"data row4 col0\" >Freelancers Union</td> \n",
       "        <td id=\"T_5dc312f0_499e_11e8_b567_8c85905f408erow4_col1\" class=\"data row4 col1\" >395</td> \n",
       "        <td id=\"T_5dc312f0_499e_11e8_b567_8c85905f408erow4_col2\" class=\"data row4 col2\" >3.17%</td> \n",
       "    </tr></tbody> \n",
       "</table> "
      ],
      "text/plain": [
       "<pandas.io.formats.style.Styler at 0x1a1839b6a0>"
      ]
     },
     "metadata": {},
     "output_type": "display_data"
    },
    {
     "data": {
      "text/plain": [
       "\"V_33 : I'd like to get better at:\""
      ]
     },
     "metadata": {},
     "output_type": "display_data"
    },
    {
     "data": {
      "text/html": [
       "<style  type=\"text/css\" >\n",
       "</style>  \n",
       "<table id=\"T_5dd1ecd0_499e_11e8_9ac7_8c85905f408e\" > \n",
       "<thead>    <tr> \n",
       "        <th class=\"blank level0\" ></th> \n",
       "        <th class=\"col_heading level0 col0\" >Options</th> \n",
       "        <th class=\"col_heading level0 col1\" >Count</th> \n",
       "        <th class=\"col_heading level0 col2\" >Percent</th> \n",
       "    </tr></thead> \n",
       "<tbody>    <tr> \n",
       "        <th id=\"T_5dd1ecd0_499e_11e8_9ac7_8c85905f408elevel0_row0\" class=\"row_heading level0 row0\" >0</th> \n",
       "        <td id=\"T_5dd1ecd0_499e_11e8_9ac7_8c85905f408erow0_col0\" class=\"data row0 col0\" >UX Design</td> \n",
       "        <td id=\"T_5dd1ecd0_499e_11e8_9ac7_8c85905f408erow0_col1\" class=\"data row0 col1\" >5396</td> \n",
       "        <td id=\"T_5dd1ecd0_499e_11e8_9ac7_8c85905f408erow0_col2\" class=\"data row0 col2\" >43.25%</td> \n",
       "    </tr>    <tr> \n",
       "        <th id=\"T_5dd1ecd0_499e_11e8_9ac7_8c85905f408elevel0_row1\" class=\"row_heading level0 row1\" >15</th> \n",
       "        <td id=\"T_5dd1ecd0_499e_11e8_9ac7_8c85905f408erow1_col0\" class=\"data row1 col0\" >Web Design</td> \n",
       "        <td id=\"T_5dd1ecd0_499e_11e8_9ac7_8c85905f408erow1_col1\" class=\"data row1 col1\" >4818</td> \n",
       "        <td id=\"T_5dd1ecd0_499e_11e8_9ac7_8c85905f408erow1_col2\" class=\"data row1 col2\" >38.62%</td> \n",
       "    </tr>    <tr> \n",
       "        <th id=\"T_5dd1ecd0_499e_11e8_9ac7_8c85905f408elevel0_row2\" class=\"row_heading level0 row2\" >29</th> \n",
       "        <td id=\"T_5dd1ecd0_499e_11e8_9ac7_8c85905f408erow2_col0\" class=\"data row2 col0\" >UI Design</td> \n",
       "        <td id=\"T_5dd1ecd0_499e_11e8_9ac7_8c85905f408erow2_col1\" class=\"data row2 col1\" >4647</td> \n",
       "        <td id=\"T_5dd1ecd0_499e_11e8_9ac7_8c85905f408erow2_col2\" class=\"data row2 col2\" >37.24%</td> \n",
       "    </tr>    <tr> \n",
       "        <th id=\"T_5dd1ecd0_499e_11e8_9ac7_8c85905f408elevel0_row3\" class=\"row_heading level0 row3\" >2</th> \n",
       "        <td id=\"T_5dd1ecd0_499e_11e8_9ac7_8c85905f408erow3_col0\" class=\"data row3 col0\" >Leadership</td> \n",
       "        <td id=\"T_5dd1ecd0_499e_11e8_9ac7_8c85905f408erow3_col1\" class=\"data row3 col1\" >4488</td> \n",
       "        <td id=\"T_5dd1ecd0_499e_11e8_9ac7_8c85905f408erow3_col2\" class=\"data row3 col2\" >35.97%</td> \n",
       "    </tr>    <tr> \n",
       "        <th id=\"T_5dd1ecd0_499e_11e8_9ac7_8c85905f408elevel0_row4\" class=\"row_heading level0 row4\" >5</th> \n",
       "        <td id=\"T_5dd1ecd0_499e_11e8_9ac7_8c85905f408erow4_col0\" class=\"data row4 col0\" >Motion Graphics</td> \n",
       "        <td id=\"T_5dd1ecd0_499e_11e8_9ac7_8c85905f408erow4_col1\" class=\"data row4 col1\" >4460</td> \n",
       "        <td id=\"T_5dd1ecd0_499e_11e8_9ac7_8c85905f408erow4_col2\" class=\"data row4 col2\" >35.75%</td> \n",
       "    </tr></tbody> \n",
       "</table> "
      ],
      "text/plain": [
       "<pandas.io.formats.style.Styler at 0x1a1840a860>"
      ]
     },
     "metadata": {},
     "output_type": "display_data"
    },
    {
     "data": {
      "text/plain": [
       "'V_34 : I am:'"
      ]
     },
     "metadata": {},
     "output_type": "display_data"
    },
    {
     "data": {
      "text/html": [
       "<style  type=\"text/css\" >\n",
       "</style>  \n",
       "<table id=\"T_5dd37386_499e_11e8_b1e9_8c85905f408e\" > \n",
       "<thead>    <tr> \n",
       "        <th class=\"blank level0\" ></th> \n",
       "        <th class=\"col_heading level0 col0\" >Options</th> \n",
       "        <th class=\"col_heading level0 col1\" >Count</th> \n",
       "        <th class=\"col_heading level0 col2\" >Percent</th> \n",
       "    </tr></thead> \n",
       "<tbody>    <tr> \n",
       "        <th id=\"T_5dd37386_499e_11e8_b1e9_8c85905f408elevel0_row0\" class=\"row_heading level0 row0\" >0</th> \n",
       "        <td id=\"T_5dd37386_499e_11e8_b1e9_8c85905f408erow0_col0\" class=\"data row0 col0\" >Open to opportunities, but not actively looking</td> \n",
       "        <td id=\"T_5dd37386_499e_11e8_b1e9_8c85905f408erow0_col1\" class=\"data row0 col1\" >5662</td> \n",
       "        <td id=\"T_5dd37386_499e_11e8_b1e9_8c85905f408erow0_col2\" class=\"data row0 col2\" >45.38%</td> \n",
       "    </tr>    <tr> \n",
       "        <th id=\"T_5dd37386_499e_11e8_b1e9_8c85905f408elevel0_row1\" class=\"row_heading level0 row1\" >1</th> \n",
       "        <td id=\"T_5dd37386_499e_11e8_b1e9_8c85905f408erow1_col0\" class=\"data row1 col0\" >Not interested in a new job right now</td> \n",
       "        <td id=\"T_5dd37386_499e_11e8_b1e9_8c85905f408erow1_col1\" class=\"data row1 col1\" >2851</td> \n",
       "        <td id=\"T_5dd37386_499e_11e8_b1e9_8c85905f408erow1_col2\" class=\"data row1 col2\" >22.85%</td> \n",
       "    </tr>    <tr> \n",
       "        <th id=\"T_5dd37386_499e_11e8_b1e9_8c85905f408elevel0_row2\" class=\"row_heading level0 row2\" >2</th> \n",
       "        <td id=\"T_5dd37386_499e_11e8_b1e9_8c85905f408erow2_col0\" class=\"data row2 col0\" >Casually looking for the right opportunity</td> \n",
       "        <td id=\"T_5dd37386_499e_11e8_b1e9_8c85905f408erow2_col1\" class=\"data row2 col1\" >2591</td> \n",
       "        <td id=\"T_5dd37386_499e_11e8_b1e9_8c85905f408erow2_col2\" class=\"data row2 col2\" >20.77%</td> \n",
       "    </tr>    <tr> \n",
       "        <th id=\"T_5dd37386_499e_11e8_b1e9_8c85905f408elevel0_row3\" class=\"row_heading level0 row3\" >3</th> \n",
       "        <td id=\"T_5dd37386_499e_11e8_b1e9_8c85905f408erow3_col0\" class=\"data row3 col0\" >Working hard to find my next job</td> \n",
       "        <td id=\"T_5dd37386_499e_11e8_b1e9_8c85905f408erow3_col1\" class=\"data row3 col1\" >1254</td> \n",
       "        <td id=\"T_5dd37386_499e_11e8_b1e9_8c85905f408erow3_col2\" class=\"data row3 col2\" >10.05%</td> \n",
       "    </tr>    <tr> \n",
       "        <th id=\"T_5dd37386_499e_11e8_b1e9_8c85905f408elevel0_row4\" class=\"row_heading level0 row4\" >4</th> \n",
       "        <td id=\"T_5dd37386_499e_11e8_b1e9_8c85905f408erow4_col0\" class=\"data row4 col0\" >Not sure</td> \n",
       "        <td id=\"T_5dd37386_499e_11e8_b1e9_8c85905f408erow4_col1\" class=\"data row4 col1\" >119</td> \n",
       "        <td id=\"T_5dd37386_499e_11e8_b1e9_8c85905f408erow4_col2\" class=\"data row4 col2\" >0.95%</td> \n",
       "    </tr></tbody> \n",
       "</table> "
      ],
      "text/plain": [
       "<pandas.io.formats.style.Styler at 0x1a183e85f8>"
      ]
     },
     "metadata": {},
     "output_type": "display_data"
    },
    {
     "data": {
      "text/plain": [
       "\"V_35 : Right now, I can't stop listening to:\""
      ]
     },
     "metadata": {},
     "output_type": "display_data"
    },
    {
     "data": {
      "text/html": [
       "<style  type=\"text/css\" >\n",
       "</style>  \n",
       "<table id=\"T_5dd58e6c_499e_11e8_a875_8c85905f408e\" > \n",
       "<thead>    <tr> \n",
       "        <th class=\"blank level0\" ></th> \n",
       "        <th class=\"col_heading level0 col0\" >Options</th> \n",
       "        <th class=\"col_heading level0 col1\" >Count</th> \n",
       "        <th class=\"col_heading level0 col2\" >Percent</th> \n",
       "    </tr></thead> \n",
       "<tbody>    <tr> \n",
       "        <th id=\"T_5dd58e6c_499e_11e8_a875_8c85905f408elevel0_row0\" class=\"row_heading level0 row0\" >0</th> \n",
       "        <td id=\"T_5dd58e6c_499e_11e8_a875_8c85905f408erow0_col0\" class=\"data row0 col0\" >Podcasts</td> \n",
       "        <td id=\"T_5dd58e6c_499e_11e8_a875_8c85905f408erow0_col1\" class=\"data row0 col1\" >246</td> \n",
       "        <td id=\"T_5dd58e6c_499e_11e8_a875_8c85905f408erow0_col2\" class=\"data row0 col2\" >1.97%</td> \n",
       "    </tr>    <tr> \n",
       "        <th id=\"T_5dd58e6c_499e_11e8_a875_8c85905f408elevel0_row1\" class=\"row_heading level0 row1\" >1</th> \n",
       "        <td id=\"T_5dd58e6c_499e_11e8_a875_8c85905f408erow1_col0\" class=\"data row1 col0\" >NPR</td> \n",
       "        <td id=\"T_5dd58e6c_499e_11e8_a875_8c85905f408erow1_col1\" class=\"data row1 col1\" >123</td> \n",
       "        <td id=\"T_5dd58e6c_499e_11e8_a875_8c85905f408erow1_col2\" class=\"data row1 col2\" >0.99%</td> \n",
       "    </tr>    <tr> \n",
       "        <th id=\"T_5dd58e6c_499e_11e8_a875_8c85905f408elevel0_row2\" class=\"row_heading level0 row2\" >2</th> \n",
       "        <td id=\"T_5dd58e6c_499e_11e8_a875_8c85905f408erow2_col0\" class=\"data row2 col0\" >podcasts</td> \n",
       "        <td id=\"T_5dd58e6c_499e_11e8_a875_8c85905f408erow2_col1\" class=\"data row2 col1\" >101</td> \n",
       "        <td id=\"T_5dd58e6c_499e_11e8_a875_8c85905f408erow2_col2\" class=\"data row2 col2\" >0.81%</td> \n",
       "    </tr>    <tr> \n",
       "        <th id=\"T_5dd58e6c_499e_11e8_a875_8c85905f408elevel0_row3\" class=\"row_heading level0 row3\" >3</th> \n",
       "        <td id=\"T_5dd58e6c_499e_11e8_a875_8c85905f408erow3_col0\" class=\"data row3 col0\" >Spotify</td> \n",
       "        <td id=\"T_5dd58e6c_499e_11e8_a875_8c85905f408erow3_col1\" class=\"data row3 col1\" >96</td> \n",
       "        <td id=\"T_5dd58e6c_499e_11e8_a875_8c85905f408erow3_col2\" class=\"data row3 col2\" >0.77%</td> \n",
       "    </tr>    <tr> \n",
       "        <th id=\"T_5dd58e6c_499e_11e8_a875_8c85905f408elevel0_row4\" class=\"row_heading level0 row4\" >4</th> \n",
       "        <td id=\"T_5dd58e6c_499e_11e8_a875_8c85905f408erow4_col0\" class=\"data row4 col0\" >Music</td> \n",
       "        <td id=\"T_5dd58e6c_499e_11e8_a875_8c85905f408erow4_col1\" class=\"data row4 col1\" >87</td> \n",
       "        <td id=\"T_5dd58e6c_499e_11e8_a875_8c85905f408erow4_col2\" class=\"data row4 col2\" >0.70%</td> \n",
       "    </tr></tbody> \n",
       "</table> "
      ],
      "text/plain": [
       "<pandas.io.formats.style.Styler at 0x1a183d4b70>"
      ]
     },
     "metadata": {},
     "output_type": "display_data"
    },
    {
     "data": {
      "text/plain": [
       "'V_36 : I live in:'"
      ]
     },
     "metadata": {},
     "output_type": "display_data"
    },
    {
     "data": {
      "text/html": [
       "<style  type=\"text/css\" >\n",
       "</style>  \n",
       "<table id=\"T_5dd712e6_499e_11e8_9d6f_8c85905f408e\" > \n",
       "<thead>    <tr> \n",
       "        <th class=\"blank level0\" ></th> \n",
       "        <th class=\"col_heading level0 col0\" >Options</th> \n",
       "        <th class=\"col_heading level0 col1\" >Count</th> \n",
       "        <th class=\"col_heading level0 col2\" >Percent</th> \n",
       "    </tr></thead> \n",
       "<tbody>    <tr> \n",
       "        <th id=\"T_5dd712e6_499e_11e8_9d6f_8c85905f408elevel0_row0\" class=\"row_heading level0 row0\" >0</th> \n",
       "        <td id=\"T_5dd712e6_499e_11e8_9d6f_8c85905f408erow0_col0\" class=\"data row0 col0\" >11238</td> \n",
       "        <td id=\"T_5dd712e6_499e_11e8_9d6f_8c85905f408erow0_col1\" class=\"data row0 col1\" >70</td> \n",
       "        <td id=\"T_5dd712e6_499e_11e8_9d6f_8c85905f408erow0_col2\" class=\"data row0 col2\" >0.56%</td> \n",
       "    </tr>    <tr> \n",
       "        <th id=\"T_5dd712e6_499e_11e8_9d6f_8c85905f408elevel0_row1\" class=\"row_heading level0 row1\" >1</th> \n",
       "        <td id=\"T_5dd712e6_499e_11e8_9d6f_8c85905f408erow1_col0\" class=\"data row1 col0\" >94117</td> \n",
       "        <td id=\"T_5dd712e6_499e_11e8_9d6f_8c85905f408erow1_col1\" class=\"data row1 col1\" >60</td> \n",
       "        <td id=\"T_5dd712e6_499e_11e8_9d6f_8c85905f408erow1_col2\" class=\"data row1 col2\" >0.48%</td> \n",
       "    </tr>    <tr> \n",
       "        <th id=\"T_5dd712e6_499e_11e8_9d6f_8c85905f408elevel0_row2\" class=\"row_heading level0 row2\" >2</th> \n",
       "        <td id=\"T_5dd712e6_499e_11e8_9d6f_8c85905f408erow2_col0\" class=\"data row2 col0\" >94110</td> \n",
       "        <td id=\"T_5dd712e6_499e_11e8_9d6f_8c85905f408erow2_col1\" class=\"data row2 col1\" >57</td> \n",
       "        <td id=\"T_5dd712e6_499e_11e8_9d6f_8c85905f408erow2_col2\" class=\"data row2 col2\" >0.46%</td> \n",
       "    </tr>    <tr> \n",
       "        <th id=\"T_5dd712e6_499e_11e8_9d6f_8c85905f408elevel0_row3\" class=\"row_heading level0 row3\" >3</th> \n",
       "        <td id=\"T_5dd712e6_499e_11e8_9d6f_8c85905f408erow3_col0\" class=\"data row3 col0\" >60647</td> \n",
       "        <td id=\"T_5dd712e6_499e_11e8_9d6f_8c85905f408erow3_col1\" class=\"data row3 col1\" >50</td> \n",
       "        <td id=\"T_5dd712e6_499e_11e8_9d6f_8c85905f408erow3_col2\" class=\"data row3 col2\" >0.40%</td> \n",
       "    </tr>    <tr> \n",
       "        <th id=\"T_5dd712e6_499e_11e8_9d6f_8c85905f408elevel0_row4\" class=\"row_heading level0 row4\" >4</th> \n",
       "        <td id=\"T_5dd712e6_499e_11e8_9d6f_8c85905f408erow4_col0\" class=\"data row4 col0\" >11215</td> \n",
       "        <td id=\"T_5dd712e6_499e_11e8_9d6f_8c85905f408erow4_col1\" class=\"data row4 col1\" >47</td> \n",
       "        <td id=\"T_5dd712e6_499e_11e8_9d6f_8c85905f408erow4_col2\" class=\"data row4 col2\" >0.38%</td> \n",
       "    </tr></tbody> \n",
       "</table> "
      ],
      "text/plain": [
       "<pandas.io.formats.style.Styler at 0x1a183b01d0>"
      ]
     },
     "metadata": {},
     "output_type": "display_data"
    },
    {
     "data": {
      "text/plain": [
       "'V_38 : I am:'"
      ]
     },
     "metadata": {},
     "output_type": "display_data"
    },
    {
     "data": {
      "text/html": [
       "<style  type=\"text/css\" >\n",
       "</style>  \n",
       "<table id=\"T_5dd8a08c_499e_11e8_98f1_8c85905f408e\" > \n",
       "<thead>    <tr> \n",
       "        <th class=\"blank level0\" ></th> \n",
       "        <th class=\"col_heading level0 col0\" >Options</th> \n",
       "        <th class=\"col_heading level0 col1\" >Count</th> \n",
       "        <th class=\"col_heading level0 col2\" >Percent</th> \n",
       "    </tr></thead> \n",
       "<tbody>    <tr> \n",
       "        <th id=\"T_5dd8a08c_499e_11e8_98f1_8c85905f408elevel0_row0\" class=\"row_heading level0 row0\" >0</th> \n",
       "        <td id=\"T_5dd8a08c_499e_11e8_98f1_8c85905f408erow0_col0\" class=\"data row0 col0\" >Female</td> \n",
       "        <td id=\"T_5dd8a08c_499e_11e8_98f1_8c85905f408erow0_col1\" class=\"data row0 col1\" >6718</td> \n",
       "        <td id=\"T_5dd8a08c_499e_11e8_98f1_8c85905f408erow0_col2\" class=\"data row0 col2\" >53.84%</td> \n",
       "    </tr>    <tr> \n",
       "        <th id=\"T_5dd8a08c_499e_11e8_98f1_8c85905f408elevel0_row1\" class=\"row_heading level0 row1\" >1</th> \n",
       "        <td id=\"T_5dd8a08c_499e_11e8_98f1_8c85905f408erow1_col0\" class=\"data row1 col0\" >Male</td> \n",
       "        <td id=\"T_5dd8a08c_499e_11e8_98f1_8c85905f408erow1_col1\" class=\"data row1 col1\" >5558</td> \n",
       "        <td id=\"T_5dd8a08c_499e_11e8_98f1_8c85905f408erow1_col2\" class=\"data row1 col2\" >44.55%</td> \n",
       "    </tr>    <tr> \n",
       "        <th id=\"T_5dd8a08c_499e_11e8_98f1_8c85905f408elevel0_row2\" class=\"row_heading level0 row2\" >2</th> \n",
       "        <td id=\"T_5dd8a08c_499e_11e8_98f1_8c85905f408erow2_col0\" class=\"data row2 col0\" >Prefer not to say</td> \n",
       "        <td id=\"T_5dd8a08c_499e_11e8_98f1_8c85905f408erow2_col1\" class=\"data row2 col1\" >98</td> \n",
       "        <td id=\"T_5dd8a08c_499e_11e8_98f1_8c85905f408erow2_col2\" class=\"data row2 col2\" >0.79%</td> \n",
       "    </tr>    <tr> \n",
       "        <th id=\"T_5dd8a08c_499e_11e8_98f1_8c85905f408elevel0_row3\" class=\"row_heading level0 row3\" >3</th> \n",
       "        <td id=\"T_5dd8a08c_499e_11e8_98f1_8c85905f408erow3_col0\" class=\"data row3 col0\" >Non-binary or third gender</td> \n",
       "        <td id=\"T_5dd8a08c_499e_11e8_98f1_8c85905f408erow3_col1\" class=\"data row3 col1\" >95</td> \n",
       "        <td id=\"T_5dd8a08c_499e_11e8_98f1_8c85905f408erow3_col2\" class=\"data row3 col2\" >0.76%</td> \n",
       "    </tr>    <tr> \n",
       "        <th id=\"T_5dd8a08c_499e_11e8_98f1_8c85905f408elevel0_row4\" class=\"row_heading level0 row4\" >4</th> \n",
       "        <td id=\"T_5dd8a08c_499e_11e8_98f1_8c85905f408erow4_col0\" class=\"data row4 col0\" >Other</td> \n",
       "        <td id=\"T_5dd8a08c_499e_11e8_98f1_8c85905f408erow4_col1\" class=\"data row4 col1\" >8</td> \n",
       "        <td id=\"T_5dd8a08c_499e_11e8_98f1_8c85905f408erow4_col2\" class=\"data row4 col2\" >0.06%</td> \n",
       "    </tr></tbody> \n",
       "</table> "
      ],
      "text/plain": [
       "<pandas.io.formats.style.Styler at 0x1a183c6710>"
      ]
     },
     "metadata": {},
     "output_type": "display_data"
    },
    {
     "data": {
      "text/plain": [
       "'V_39 : I consider myself:'"
      ]
     },
     "metadata": {},
     "output_type": "display_data"
    },
    {
     "data": {
      "text/html": [
       "<style  type=\"text/css\" >\n",
       "</style>  \n",
       "<table id=\"T_5dda3f48_499e_11e8_aab2_8c85905f408e\" > \n",
       "<thead>    <tr> \n",
       "        <th class=\"blank level0\" ></th> \n",
       "        <th class=\"col_heading level0 col0\" >Options</th> \n",
       "        <th class=\"col_heading level0 col1\" >Count</th> \n",
       "        <th class=\"col_heading level0 col2\" >Percent</th> \n",
       "    </tr></thead> \n",
       "<tbody>    <tr> \n",
       "        <th id=\"T_5dda3f48_499e_11e8_aab2_8c85905f408elevel0_row0\" class=\"row_heading level0 row0\" >0</th> \n",
       "        <td id=\"T_5dda3f48_499e_11e8_aab2_8c85905f408erow0_col0\" class=\"data row0 col0\" >Not LGBTQ</td> \n",
       "        <td id=\"T_5dda3f48_499e_11e8_aab2_8c85905f408erow0_col1\" class=\"data row0 col1\" >10018</td> \n",
       "        <td id=\"T_5dda3f48_499e_11e8_aab2_8c85905f408erow0_col2\" class=\"data row0 col2\" >80.29%</td> \n",
       "    </tr>    <tr> \n",
       "        <th id=\"T_5dda3f48_499e_11e8_aab2_8c85905f408elevel0_row1\" class=\"row_heading level0 row1\" >1</th> \n",
       "        <td id=\"T_5dda3f48_499e_11e8_aab2_8c85905f408erow1_col0\" class=\"data row1 col0\" >LGBTQ</td> \n",
       "        <td id=\"T_5dda3f48_499e_11e8_aab2_8c85905f408erow1_col1\" class=\"data row1 col1\" >1418</td> \n",
       "        <td id=\"T_5dda3f48_499e_11e8_aab2_8c85905f408erow1_col2\" class=\"data row1 col2\" >11.36%</td> \n",
       "    </tr>    <tr> \n",
       "        <th id=\"T_5dda3f48_499e_11e8_aab2_8c85905f408elevel0_row2\" class=\"row_heading level0 row2\" >2</th> \n",
       "        <td id=\"T_5dda3f48_499e_11e8_aab2_8c85905f408erow2_col0\" class=\"data row2 col0\" >Prefer not to say</td> \n",
       "        <td id=\"T_5dda3f48_499e_11e8_aab2_8c85905f408erow2_col1\" class=\"data row2 col1\" >1041</td> \n",
       "        <td id=\"T_5dda3f48_499e_11e8_aab2_8c85905f408erow2_col2\" class=\"data row2 col2\" >8.34%</td> \n",
       "    </tr></tbody> \n",
       "</table> "
      ],
      "text/plain": [
       "<pandas.io.formats.style.Styler at 0x1a183a5438>"
      ]
     },
     "metadata": {},
     "output_type": "display_data"
    },
    {
     "data": {
      "text/plain": [
       "'V_40 : My ethnicity is:'"
      ]
     },
     "metadata": {},
     "output_type": "display_data"
    },
    {
     "data": {
      "text/html": [
       "<style  type=\"text/css\" >\n",
       "</style>  \n",
       "<table id=\"T_5ddf181a_499e_11e8_8134_8c85905f408e\" > \n",
       "<thead>    <tr> \n",
       "        <th class=\"blank level0\" ></th> \n",
       "        <th class=\"col_heading level0 col0\" >Options</th> \n",
       "        <th class=\"col_heading level0 col1\" >Count</th> \n",
       "        <th class=\"col_heading level0 col2\" >Percent</th> \n",
       "    </tr></thead> \n",
       "<tbody>    <tr> \n",
       "        <th id=\"T_5ddf181a_499e_11e8_8134_8c85905f408elevel0_row0\" class=\"row_heading level0 row0\" >7</th> \n",
       "        <td id=\"T_5ddf181a_499e_11e8_8134_8c85905f408erow0_col0\" class=\"data row0 col0\" >White or Caucasian</td> \n",
       "        <td id=\"T_5ddf181a_499e_11e8_8134_8c85905f408erow0_col1\" class=\"data row0 col1\" >9215</td> \n",
       "        <td id=\"T_5ddf181a_499e_11e8_8134_8c85905f408erow0_col2\" class=\"data row0 col2\" >73.86%</td> \n",
       "    </tr>    <tr> \n",
       "        <th id=\"T_5ddf181a_499e_11e8_8134_8c85905f408elevel0_row1\" class=\"row_heading level0 row1\" >2</th> \n",
       "        <td id=\"T_5ddf181a_499e_11e8_8134_8c85905f408erow1_col0\" class=\"data row1 col0\" >Asian</td> \n",
       "        <td id=\"T_5ddf181a_499e_11e8_8134_8c85905f408erow1_col1\" class=\"data row1 col1\" >1517</td> \n",
       "        <td id=\"T_5ddf181a_499e_11e8_8134_8c85905f408erow1_col2\" class=\"data row1 col2\" >12.16%</td> \n",
       "    </tr>    <tr> \n",
       "        <th id=\"T_5ddf181a_499e_11e8_8134_8c85905f408elevel0_row2\" class=\"row_heading level0 row2\" >3</th> \n",
       "        <td id=\"T_5ddf181a_499e_11e8_8134_8c85905f408erow2_col0\" class=\"data row2 col0\" >Latina, Latino, Latinx, or Hispanic</td> \n",
       "        <td id=\"T_5ddf181a_499e_11e8_8134_8c85905f408erow2_col1\" class=\"data row2 col1\" >1222</td> \n",
       "        <td id=\"T_5ddf181a_499e_11e8_8134_8c85905f408erow2_col2\" class=\"data row2 col2\" >9.79%</td> \n",
       "    </tr>    <tr> \n",
       "        <th id=\"T_5ddf181a_499e_11e8_8134_8c85905f408elevel0_row3\" class=\"row_heading level0 row3\" >4</th> \n",
       "        <td id=\"T_5ddf181a_499e_11e8_8134_8c85905f408erow3_col0\" class=\"data row3 col0\" >Black or African American</td> \n",
       "        <td id=\"T_5ddf181a_499e_11e8_8134_8c85905f408erow3_col1\" class=\"data row3 col1\" >500</td> \n",
       "        <td id=\"T_5ddf181a_499e_11e8_8134_8c85905f408erow3_col2\" class=\"data row3 col2\" >4.01%</td> \n",
       "    </tr>    <tr> \n",
       "        <th id=\"T_5ddf181a_499e_11e8_8134_8c85905f408elevel0_row4\" class=\"row_heading level0 row4\" >5</th> \n",
       "        <td id=\"T_5ddf181a_499e_11e8_8134_8c85905f408erow4_col0\" class=\"data row4 col0\" >Other</td> \n",
       "        <td id=\"T_5ddf181a_499e_11e8_8134_8c85905f408erow4_col1\" class=\"data row4 col1\" >362</td> \n",
       "        <td id=\"T_5ddf181a_499e_11e8_8134_8c85905f408erow4_col2\" class=\"data row4 col2\" >2.90%</td> \n",
       "    </tr></tbody> \n",
       "</table> "
      ],
      "text/plain": [
       "<pandas.io.formats.style.Styler at 0x1a183b0320>"
      ]
     },
     "metadata": {},
     "output_type": "display_data"
    },
    {
     "data": {
      "text/plain": [
       "'V_41 : The most critical issues and challenges currently facing design are (answer optional):'"
      ]
     },
     "metadata": {},
     "output_type": "display_data"
    },
    {
     "data": {
      "text/html": [
       "<style  type=\"text/css\" >\n",
       "</style>  \n",
       "<table id=\"T_5de73a2c_499e_11e8_863d_8c85905f408e\" > \n",
       "<thead>    <tr> \n",
       "        <th class=\"blank level0\" ></th> \n",
       "        <th class=\"col_heading level0 col0\" >Options</th> \n",
       "        <th class=\"col_heading level0 col1\" >Count</th> \n",
       "        <th class=\"col_heading level0 col2\" >Percent</th> \n",
       "    </tr></thead> \n",
       "<tbody>    <tr> \n",
       "        <th id=\"T_5de73a2c_499e_11e8_863d_8c85905f408elevel0_row0\" class=\"row_heading level0 row0\" >14</th> \n",
       "        <td id=\"T_5de73a2c_499e_11e8_863d_8c85905f408erow0_col0\" class=\"data row0 col0\" >Design not having a \"seat at the table\"</td> \n",
       "        <td id=\"T_5de73a2c_499e_11e8_863d_8c85905f408erow0_col1\" class=\"data row0 col1\" >5803</td> \n",
       "        <td id=\"T_5de73a2c_499e_11e8_863d_8c85905f408erow0_col2\" class=\"data row0 col2\" >46.51%</td> \n",
       "    </tr>    <tr> \n",
       "        <th id=\"T_5de73a2c_499e_11e8_863d_8c85905f408elevel0_row1\" class=\"row_heading level0 row1\" >13</th> \n",
       "        <td id=\"T_5de73a2c_499e_11e8_863d_8c85905f408erow1_col0\" class=\"data row1 col0\" >Diversity in design and tech</td> \n",
       "        <td id=\"T_5de73a2c_499e_11e8_863d_8c85905f408erow1_col1\" class=\"data row1 col1\" >5301</td> \n",
       "        <td id=\"T_5de73a2c_499e_11e8_863d_8c85905f408erow1_col2\" class=\"data row1 col2\" >42.49%</td> \n",
       "    </tr>    <tr> \n",
       "        <th id=\"T_5de73a2c_499e_11e8_863d_8c85905f408elevel0_row2\" class=\"row_heading level0 row2\" >2</th> \n",
       "        <td id=\"T_5de73a2c_499e_11e8_863d_8c85905f408erow2_col0\" class=\"data row2 col0\" >Ethics in design</td> \n",
       "        <td id=\"T_5de73a2c_499e_11e8_863d_8c85905f408erow2_col1\" class=\"data row2 col1\" >4847</td> \n",
       "        <td id=\"T_5de73a2c_499e_11e8_863d_8c85905f408erow2_col2\" class=\"data row2 col2\" >38.85%</td> \n",
       "    </tr>    <tr> \n",
       "        <th id=\"T_5de73a2c_499e_11e8_863d_8c85905f408elevel0_row3\" class=\"row_heading level0 row3\" >5</th> \n",
       "        <td id=\"T_5de73a2c_499e_11e8_863d_8c85905f408erow3_col0\" class=\"data row3 col0\" >Education cost and equity of access</td> \n",
       "        <td id=\"T_5de73a2c_499e_11e8_863d_8c85905f408erow3_col1\" class=\"data row3 col1\" >4317</td> \n",
       "        <td id=\"T_5de73a2c_499e_11e8_863d_8c85905f408erow3_col2\" class=\"data row3 col2\" >34.60%</td> \n",
       "    </tr>    <tr> \n",
       "        <th id=\"T_5de73a2c_499e_11e8_863d_8c85905f408elevel0_row4\" class=\"row_heading level0 row4\" >9</th> \n",
       "        <td id=\"T_5de73a2c_499e_11e8_863d_8c85905f408erow4_col0\" class=\"data row4 col0\" >Consumer vs. social impact focus</td> \n",
       "        <td id=\"T_5de73a2c_499e_11e8_863d_8c85905f408erow4_col1\" class=\"data row4 col1\" >3727</td> \n",
       "        <td id=\"T_5de73a2c_499e_11e8_863d_8c85905f408erow4_col2\" class=\"data row4 col2\" >29.87%</td> \n",
       "    </tr></tbody> \n",
       "</table> "
      ],
      "text/plain": [
       "<pandas.io.formats.style.Styler at 0x1a1839b9e8>"
      ]
     },
     "metadata": {},
     "output_type": "display_data"
    },
    {
     "data": {
      "text/plain": [
       "'V_42 : The emerging trends and technologies that will have the biggest impact on design are (answer optional):'"
      ]
     },
     "metadata": {},
     "output_type": "display_data"
    },
    {
     "data": {
      "text/html": [
       "<style  type=\"text/css\" >\n",
       "</style>  \n",
       "<table id=\"T_5df1f412_499e_11e8_9ee0_8c85905f408e\" > \n",
       "<thead>    <tr> \n",
       "        <th class=\"blank level0\" ></th> \n",
       "        <th class=\"col_heading level0 col0\" >Options</th> \n",
       "        <th class=\"col_heading level0 col1\" >Count</th> \n",
       "        <th class=\"col_heading level0 col2\" >Percent</th> \n",
       "    </tr></thead> \n",
       "<tbody>    <tr> \n",
       "        <th id=\"T_5df1f412_499e_11e8_9ee0_8c85905f408elevel0_row0\" class=\"row_heading level0 row0\" >10</th> \n",
       "        <td id=\"T_5df1f412_499e_11e8_9ee0_8c85905f408erow0_col0\" class=\"data row0 col0\" >AI and machine learning</td> \n",
       "        <td id=\"T_5df1f412_499e_11e8_9ee0_8c85905f408erow0_col1\" class=\"data row0 col1\" >6660</td> \n",
       "        <td id=\"T_5df1f412_499e_11e8_9ee0_8c85905f408erow0_col2\" class=\"data row0 col2\" >53.38%</td> \n",
       "    </tr>    <tr> \n",
       "        <th id=\"T_5df1f412_499e_11e8_9ee0_8c85905f408elevel0_row1\" class=\"row_heading level0 row1\" >18</th> \n",
       "        <td id=\"T_5df1f412_499e_11e8_9ee0_8c85905f408erow1_col0\" class=\"data row1 col0\" >Augmented Reality</td> \n",
       "        <td id=\"T_5df1f412_499e_11e8_9ee0_8c85905f408erow1_col1\" class=\"data row1 col1\" >5076</td> \n",
       "        <td id=\"T_5df1f412_499e_11e8_9ee0_8c85905f408erow1_col2\" class=\"data row1 col2\" >40.68%</td> \n",
       "    </tr>    <tr> \n",
       "        <th id=\"T_5df1f412_499e_11e8_9ee0_8c85905f408elevel0_row2\" class=\"row_heading level0 row2\" >16</th> \n",
       "        <td id=\"T_5df1f412_499e_11e8_9ee0_8c85905f408erow2_col0\" class=\"data row2 col0\" >Virtual Reality</td> \n",
       "        <td id=\"T_5df1f412_499e_11e8_9ee0_8c85905f408erow2_col1\" class=\"data row2 col1\" >4815</td> \n",
       "        <td id=\"T_5df1f412_499e_11e8_9ee0_8c85905f408erow2_col2\" class=\"data row2 col2\" >38.59%</td> \n",
       "    </tr>    <tr> \n",
       "        <th id=\"T_5df1f412_499e_11e8_9ee0_8c85905f408elevel0_row3\" class=\"row_heading level0 row3\" >2</th> \n",
       "        <td id=\"T_5df1f412_499e_11e8_9ee0_8c85905f408erow3_col0\" class=\"data row3 col0\" >Behavior tracking and modeling</td> \n",
       "        <td id=\"T_5df1f412_499e_11e8_9ee0_8c85905f408erow3_col1\" class=\"data row3 col1\" >4334</td> \n",
       "        <td id=\"T_5df1f412_499e_11e8_9ee0_8c85905f408erow3_col2\" class=\"data row3 col2\" >34.74%</td> \n",
       "    </tr>    <tr> \n",
       "        <th id=\"T_5df1f412_499e_11e8_9ee0_8c85905f408elevel0_row4\" class=\"row_heading level0 row4\" >14</th> \n",
       "        <td id=\"T_5df1f412_499e_11e8_9ee0_8c85905f408erow4_col0\" class=\"data row4 col0\" >Internet of Things</td> \n",
       "        <td id=\"T_5df1f412_499e_11e8_9ee0_8c85905f408erow4_col1\" class=\"data row4 col1\" >3629</td> \n",
       "        <td id=\"T_5df1f412_499e_11e8_9ee0_8c85905f408erow4_col2\" class=\"data row4 col2\" >29.09%</td> \n",
       "    </tr></tbody> \n",
       "</table> "
      ],
      "text/plain": [
       "<pandas.io.formats.style.Styler at 0x1a183a5940>"
      ]
     },
     "metadata": {},
     "output_type": "display_data"
    },
    {
     "data": {
      "text/plain": [
       "'V_43 : The most valuable design skills for the future will be (answer optional):'"
      ]
     },
     "metadata": {},
     "output_type": "display_data"
    },
    {
     "data": {
      "text/html": [
       "<style  type=\"text/css\" >\n",
       "</style>  \n",
       "<table id=\"T_5dfe068a_499e_11e8_aac8_8c85905f408e\" > \n",
       "<thead>    <tr> \n",
       "        <th class=\"blank level0\" ></th> \n",
       "        <th class=\"col_heading level0 col0\" >Options</th> \n",
       "        <th class=\"col_heading level0 col1\" >Count</th> \n",
       "        <th class=\"col_heading level0 col2\" >Percent</th> \n",
       "    </tr></thead> \n",
       "<tbody>    <tr> \n",
       "        <th id=\"T_5dfe068a_499e_11e8_aac8_8c85905f408elevel0_row0\" class=\"row_heading level0 row0\" >19</th> \n",
       "        <td id=\"T_5dfe068a_499e_11e8_aac8_8c85905f408erow0_col0\" class=\"data row0 col0\" >Adaptability to tech and social change</td> \n",
       "        <td id=\"T_5dfe068a_499e_11e8_aac8_8c85905f408erow0_col1\" class=\"data row0 col1\" >8726</td> \n",
       "        <td id=\"T_5dfe068a_499e_11e8_aac8_8c85905f408erow0_col2\" class=\"data row0 col2\" >69.94%</td> \n",
       "    </tr>    <tr> \n",
       "        <th id=\"T_5dfe068a_499e_11e8_aac8_8c85905f408elevel0_row1\" class=\"row_heading level0 row1\" >17</th> \n",
       "        <td id=\"T_5dfe068a_499e_11e8_aac8_8c85905f408erow1_col0\" class=\"data row1 col0\" >Communication skills</td> \n",
       "        <td id=\"T_5dfe068a_499e_11e8_aac8_8c85905f408erow1_col1\" class=\"data row1 col1\" >7286</td> \n",
       "        <td id=\"T_5dfe068a_499e_11e8_aac8_8c85905f408erow1_col2\" class=\"data row1 col2\" >58.40%</td> \n",
       "    </tr>    <tr> \n",
       "        <th id=\"T_5dfe068a_499e_11e8_aac8_8c85905f408elevel0_row2\" class=\"row_heading level0 row2\" >11</th> \n",
       "        <td id=\"T_5dfe068a_499e_11e8_aac8_8c85905f408erow2_col0\" class=\"data row2 col0\" >Empathy</td> \n",
       "        <td id=\"T_5dfe068a_499e_11e8_aac8_8c85905f408erow2_col1\" class=\"data row2 col1\" >5927</td> \n",
       "        <td id=\"T_5dfe068a_499e_11e8_aac8_8c85905f408erow2_col2\" class=\"data row2 col2\" >47.50%</td> \n",
       "    </tr>    <tr> \n",
       "        <th id=\"T_5dfe068a_499e_11e8_aac8_8c85905f408elevel0_row3\" class=\"row_heading level0 row3\" >1</th> \n",
       "        <td id=\"T_5dfe068a_499e_11e8_aac8_8c85905f408erow3_col0\" class=\"data row3 col0\" >Asking good questions</td> \n",
       "        <td id=\"T_5dfe068a_499e_11e8_aac8_8c85905f408erow3_col1\" class=\"data row3 col1\" >5440</td> \n",
       "        <td id=\"T_5dfe068a_499e_11e8_aac8_8c85905f408erow3_col2\" class=\"data row3 col2\" >43.60%</td> \n",
       "    </tr>    <tr> \n",
       "        <th id=\"T_5dfe068a_499e_11e8_aac8_8c85905f408elevel0_row4\" class=\"row_heading level0 row4\" >0</th> \n",
       "        <td id=\"T_5dfe068a_499e_11e8_aac8_8c85905f408erow4_col0\" class=\"data row4 col0\" >Cross-functional skills</td> \n",
       "        <td id=\"T_5dfe068a_499e_11e8_aac8_8c85905f408erow4_col1\" class=\"data row4 col1\" >5239</td> \n",
       "        <td id=\"T_5dfe068a_499e_11e8_aac8_8c85905f408erow4_col2\" class=\"data row4 col2\" >41.99%</td> \n",
       "    </tr></tbody> \n",
       "</table> "
      ],
      "text/plain": [
       "<pandas.io.formats.style.Styler at 0x1a183d4be0>"
      ]
     },
     "metadata": {},
     "output_type": "display_data"
    },
    {
     "data": {
      "text/plain": [
       "'V_37 : My age is:'"
      ]
     },
     "metadata": {},
     "output_type": "display_data"
    },
    {
     "data": {
      "text/html": [
       "<style  type=\"text/css\" >\n",
       "</style>  \n",
       "<table id=\"T_5dff95fe_499e_11e8_bebc_8c85905f408e\" > \n",
       "<thead>    <tr> \n",
       "        <th class=\"blank level0\" ></th> \n",
       "        <th class=\"col_heading level0 col0\" >Options</th> \n",
       "        <th class=\"col_heading level0 col1\" >Count</th> \n",
       "        <th class=\"col_heading level0 col2\" >Percent</th> \n",
       "    </tr></thead> \n",
       "<tbody>    <tr> \n",
       "        <th id=\"T_5dff95fe_499e_11e8_bebc_8c85905f408elevel0_row0\" class=\"row_heading level0 row0\" >0</th> \n",
       "        <td id=\"T_5dff95fe_499e_11e8_bebc_8c85905f408erow0_col0\" class=\"data row0 col0\" >25 to 30</td> \n",
       "        <td id=\"T_5dff95fe_499e_11e8_bebc_8c85905f408erow0_col1\" class=\"data row0 col1\" >3809</td> \n",
       "        <td id=\"T_5dff95fe_499e_11e8_bebc_8c85905f408erow0_col2\" class=\"data row0 col2\" >30.53%</td> \n",
       "    </tr>    <tr> \n",
       "        <th id=\"T_5dff95fe_499e_11e8_bebc_8c85905f408elevel0_row1\" class=\"row_heading level0 row1\" >1</th> \n",
       "        <td id=\"T_5dff95fe_499e_11e8_bebc_8c85905f408erow1_col0\" class=\"data row1 col0\" >20 to 25</td> \n",
       "        <td id=\"T_5dff95fe_499e_11e8_bebc_8c85905f408erow1_col1\" class=\"data row1 col1\" >2625</td> \n",
       "        <td id=\"T_5dff95fe_499e_11e8_bebc_8c85905f408erow1_col2\" class=\"data row1 col2\" >21.04%</td> \n",
       "    </tr>    <tr> \n",
       "        <th id=\"T_5dff95fe_499e_11e8_bebc_8c85905f408elevel0_row2\" class=\"row_heading level0 row2\" >2</th> \n",
       "        <td id=\"T_5dff95fe_499e_11e8_bebc_8c85905f408erow2_col0\" class=\"data row2 col0\" >30 to 35</td> \n",
       "        <td id=\"T_5dff95fe_499e_11e8_bebc_8c85905f408erow2_col1\" class=\"data row2 col1\" >2541</td> \n",
       "        <td id=\"T_5dff95fe_499e_11e8_bebc_8c85905f408erow2_col2\" class=\"data row2 col2\" >20.37%</td> \n",
       "    </tr>    <tr> \n",
       "        <th id=\"T_5dff95fe_499e_11e8_bebc_8c85905f408elevel0_row3\" class=\"row_heading level0 row3\" >3</th> \n",
       "        <td id=\"T_5dff95fe_499e_11e8_bebc_8c85905f408erow3_col0\" class=\"data row3 col0\" >35 to 40</td> \n",
       "        <td id=\"T_5dff95fe_499e_11e8_bebc_8c85905f408erow3_col1\" class=\"data row3 col1\" >1363</td> \n",
       "        <td id=\"T_5dff95fe_499e_11e8_bebc_8c85905f408erow3_col2\" class=\"data row3 col2\" >10.92%</td> \n",
       "    </tr>    <tr> \n",
       "        <th id=\"T_5dff95fe_499e_11e8_bebc_8c85905f408elevel0_row4\" class=\"row_heading level0 row4\" >4</th> \n",
       "        <td id=\"T_5dff95fe_499e_11e8_bebc_8c85905f408erow4_col0\" class=\"data row4 col0\" >40 to 45</td> \n",
       "        <td id=\"T_5dff95fe_499e_11e8_bebc_8c85905f408erow4_col1\" class=\"data row4 col1\" >845</td> \n",
       "        <td id=\"T_5dff95fe_499e_11e8_bebc_8c85905f408erow4_col2\" class=\"data row4 col2\" >6.77%</td> \n",
       "    </tr></tbody> \n",
       "</table> "
      ],
      "text/plain": [
       "<pandas.io.formats.style.Styler at 0x1a183937b8>"
      ]
     },
     "metadata": {},
     "output_type": "display_data"
    }
   ],
   "source": [
    "for col in cate_cols:\n",
    "    display(str(col) + ' : ' + col_dict[col])\n",
    "    display(summary_cate_col(col))"
   ]
  },
  {
   "cell_type": "markdown",
   "metadata": {},
   "source": [
    "### **Further explore salary"
   ]
  },
  {
   "cell_type": "code",
   "execution_count": 46,
   "metadata": {},
   "outputs": [],
   "source": [
    "# 1. For columns without pipes\n",
    "cate_cols_v2 = list(set(cate_cols) - set(pipe_col))\n",
    "cate_cols_v2.remove('V_35') # \"Right now, I can't stop listening to:\" - No fixed options\n",
    "cate_cols_v2.remove('V_36') # \"I live in:\" - Zipcode\n",
    "cate_cols_v2.remove('V_8') # \"I'm not working because:\" - null\n",
    "cate_cols_v2.sort(key = lambda x : int(x.split('_')[1]))"
   ]
  },
  {
   "cell_type": "code",
   "execution_count": null,
   "metadata": {},
   "outputs": [],
   "source": [
    "# All figs are saved under 'fig' folder\n",
    "for col in cate_cols_v2:\n",
    "    temp = df.groupby(col, as_index = False).agg({'V_18': np.mean})\n",
    "    order = list(temp.sort_values(by = 'V_18')[col])\n",
    "    plt.figure(figsize=(10,10))\n",
    "    sns.barplot(x=col, y='V_18', data=df, estimator= np.mean, \\\n",
    "                order = order, orient = 'H', palette=\"Blues_d\")\n",
    "    plt.ylabel('Salary')\n",
    "    plt.xlabel(col_dict[col])\n",
    "    plt.xticks(rotation=90)\n",
    "    plt.tight_layout()\n",
    "    plt.savefig('./fig/'+ 'Salary vs. ' + col_dict[col] + '_Plot.png',dpi=100)\n",
    "    plt.gcf().clear()"
   ]
  },
  {
   "cell_type": "code",
   "execution_count": 66,
   "metadata": {},
   "outputs": [],
   "source": [
    "# 2. For columns with pipes\n",
    "dff = pd.DataFrame(columns = ['Col', 'Option', 'Salary'])\n",
    "for col in pipe_col:\n",
    "    for option, sub_col in pipe_col_dict[col].items():\n",
    "        salary = df.loc[df[sub_col] == 1, 'V_18'].mean()\n",
    "        dff = dff.append({'Col': col, 'Option' : option, 'Salary' : salary }, \\\n",
    "                         ignore_index=True)"
   ]
  },
  {
   "cell_type": "code",
   "execution_count": null,
   "metadata": {},
   "outputs": [],
   "source": [
    "# All figs are saved under 'fig' folder\n",
    "for col in pipe_col:\n",
    "    dfff = dff[dff.Col == col]\n",
    "    order = list(dfff.sort_values(by = 'Salary')['Option'])\n",
    "    plt.figure(figsize=(10,10))\n",
    "    sns.barplot(x = 'Option', y = 'Salary', data = dfff, estimator= np.mean, \\\n",
    "                order = order, orient = 'H', palette=\"Blues_d\")\n",
    "    plt.ylabel('Salary')\n",
    "    plt.xlabel(col_dict[col])\n",
    "    plt.xticks(rotation=90)\n",
    "    plt.tight_layout()\n",
    "    plt.savefig('./fig/'+ 'Salary vs. ' + col_dict[col] + '_Plot.png',dpi=100)\n",
    "    plt.gcf().clear()"
   ]
  },
  {
   "cell_type": "code",
   "execution_count": null,
   "metadata": {
    "collapsed": true
   },
   "outputs": [],
   "source": []
  }
 ],
 "metadata": {
  "kernelspec": {
   "display_name": "Python 3",
   "language": "python",
   "name": "python3"
  },
  "language_info": {
   "codemirror_mode": {
    "name": "ipython",
    "version": 3
   },
   "file_extension": ".py",
   "mimetype": "text/x-python",
   "name": "python",
   "nbconvert_exporter": "python",
   "pygments_lexer": "ipython3",
   "version": "3.6.3"
  }
 },
 "nbformat": 4,
 "nbformat_minor": 2
}
