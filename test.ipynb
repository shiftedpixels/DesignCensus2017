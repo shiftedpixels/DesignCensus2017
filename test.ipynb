{
 "cells": [
  {
   "cell_type": "markdown",
   "metadata": {},
   "source": [
    "Data Source: https://designcensus.org/"
   ]
  },
  {
   "cell_type": "code",
   "execution_count": 1,
   "metadata": {
    "collapsed": true
   },
   "outputs": [],
   "source": [
    "import numpy as np\n",
    "import pandas as pd\n",
    "import math\n",
    "from IPython.display import display"
   ]
  },
  {
   "cell_type": "code",
   "execution_count": 2,
   "metadata": {
    "collapsed": true
   },
   "outputs": [],
   "source": [
    "df = pd.read_csv('DesignCensus2017_Data.csv')"
   ]
  },
  {
   "cell_type": "code",
   "execution_count": 3,
   "metadata": {},
   "outputs": [
    {
     "name": "stdout",
     "output_type": "stream",
     "text": [
      "There a a total of 43 columns.\n"
     ]
    }
   ],
   "source": [
    "print('There a a total of ' + str(len(df.columns)) + ' columns.')"
   ]
  },
  {
   "cell_type": "markdown",
   "metadata": {},
   "source": [
    "### Column dictionary"
   ]
  },
  {
   "cell_type": "code",
   "execution_count": 4,
   "metadata": {
    "collapsed": true
   },
   "outputs": [],
   "source": [
    "col_dict = {}\n",
    "for col in df.columns:\n",
    "    index, desc = col.split(' --')\n",
    "    col_dict['V_' + str(index)] = desc"
   ]
  },
  {
   "cell_type": "code",
   "execution_count": 5,
   "metadata": {},
   "outputs": [
    {
     "data": {
      "text/plain": [
       "{'V_1': \" I've worked in design for:\",\n",
       " 'V_10': 'My immediate team is:',\n",
       " 'V_11': 'My work touches these industries or sectors:',\n",
       " 'V_12': 'I’ve been at my current place of work for:',\n",
       " 'V_13': 'My role is:',\n",
       " 'V_14': 'My role is:',\n",
       " 'V_15': 'My role is:',\n",
       " 'V_16': \"I've been in my current role for:\",\n",
       " 'V_17': 'I typically work:',\n",
       " 'V_18': 'My annual salary is:',\n",
       " 'V_19': 'My job provides:',\n",
       " 'V_2': 'I primarily work in:',\n",
       " 'V_20': 'In my current role, there is:',\n",
       " 'V_21': 'In my current role, I am:',\n",
       " 'V_22': 'My job is:',\n",
       " 'V_23': 'My job stability is:',\n",
       " 'V_24': 'In addition to my job, I also:',\n",
       " 'V_25': 'I fuel my daily creativity with coffee:',\n",
       " 'V_26': \"Highest level of education I've completed:\",\n",
       " 'V_27': 'I learned design:',\n",
       " 'V_28': 'My major focus of study was:',\n",
       " 'V_29': \"Over my career, I've had:\",\n",
       " 'V_3': \"I'm also good at:\",\n",
       " 'V_30': \"I've shifted my specialty or focus area:\",\n",
       " 'V_31': 'I stay current with design by:',\n",
       " 'V_32': \"I'm a member of:\",\n",
       " 'V_33': \"I'd like to get better at:\",\n",
       " 'V_34': 'I am:',\n",
       " 'V_35': \"Right now, I can't stop listening to:\",\n",
       " 'V_36': 'I live in:',\n",
       " 'V_37': 'My age is:',\n",
       " 'V_38': 'I am:',\n",
       " 'V_39': 'I consider myself:',\n",
       " 'V_4': 'I am currently:',\n",
       " 'V_40': 'My ethnicity is:',\n",
       " 'V_41': 'The most critical issues and challenges currently facing design are (answer optional):',\n",
       " 'V_42': 'The emerging trends and technologies that will have the biggest impact on design are (answer optional):',\n",
       " 'V_43': 'The most valuable design skills for the future will be (answer optional):',\n",
       " 'V_5': 'My company specializes in:',\n",
       " 'V_6': 'My company is:',\n",
       " 'V_7': 'I teach:',\n",
       " 'V_8': \"I'm not working because:\",\n",
       " 'V_9': 'My organization has:'}"
      ]
     },
     "execution_count": 5,
     "metadata": {},
     "output_type": "execute_result"
    }
   ],
   "source": [
    "col_dict"
   ]
  },
  {
   "cell_type": "markdown",
   "metadata": {},
   "source": [
    "### Classify Columns"
   ]
  },
  {
   "cell_type": "code",
   "execution_count": 6,
   "metadata": {
    "collapsed": true
   },
   "outputs": [],
   "source": [
    "df.columns = map(lambda x : 'V_' + str(x+1), list(range(len(df.columns)))) "
   ]
  },
  {
   "cell_type": "code",
   "execution_count": 7,
   "metadata": {
    "collapsed": true
   },
   "outputs": [],
   "source": [
    "continous_cols = ['V_18', 'V_37']"
   ]
  },
  {
   "cell_type": "code",
   "execution_count": 8,
   "metadata": {
    "collapsed": true
   },
   "outputs": [],
   "source": [
    "pipe_col = ['V_2', 'V_3','V_5','V_7','V_11','V_19',\\\n",
    "            'V_24', 'V_27', 'V_28', 'V_31', 'V_32',\\\n",
    "            'V_33', 'V_40', 'V_41', 'V_42', 'V_43']"
   ]
  },
  {
   "cell_type": "code",
   "execution_count": 9,
   "metadata": {
    "collapsed": true
   },
   "outputs": [],
   "source": [
    "cate_cols = list(df.columns)\n",
    "for col in continous_cols:\n",
    "    cate_cols.remove(col)"
   ]
  },
  {
   "cell_type": "markdown",
   "metadata": {},
   "source": [
    "### Summary of Null Value"
   ]
  },
  {
   "cell_type": "code",
   "execution_count": 10,
   "metadata": {},
   "outputs": [
    {
     "data": {
      "text/html": [
       "<div>\n",
       "<style>\n",
       "    .dataframe thead tr:only-child th {\n",
       "        text-align: right;\n",
       "    }\n",
       "\n",
       "    .dataframe thead th {\n",
       "        text-align: left;\n",
       "    }\n",
       "\n",
       "    .dataframe tbody tr th {\n",
       "        vertical-align: top;\n",
       "    }\n",
       "</style>\n",
       "<table border=\"1\" class=\"dataframe\">\n",
       "  <thead>\n",
       "    <tr style=\"text-align: right;\">\n",
       "      <th></th>\n",
       "      <th>Column</th>\n",
       "      <th>Desc</th>\n",
       "      <th>Null</th>\n",
       "    </tr>\n",
       "  </thead>\n",
       "  <tbody>\n",
       "    <tr>\n",
       "      <th>0</th>\n",
       "      <td>V_1</td>\n",
       "      <td>I've worked in design for:</td>\n",
       "      <td>0</td>\n",
       "    </tr>\n",
       "    <tr>\n",
       "      <th>1</th>\n",
       "      <td>V_2</td>\n",
       "      <td>I primarily work in:</td>\n",
       "      <td>0</td>\n",
       "    </tr>\n",
       "    <tr>\n",
       "      <th>2</th>\n",
       "      <td>V_3</td>\n",
       "      <td>I'm also good at:</td>\n",
       "      <td>0</td>\n",
       "    </tr>\n",
       "    <tr>\n",
       "      <th>3</th>\n",
       "      <td>V_4</td>\n",
       "      <td>I am currently:</td>\n",
       "      <td>0</td>\n",
       "    </tr>\n",
       "    <tr>\n",
       "      <th>4</th>\n",
       "      <td>V_5</td>\n",
       "      <td>My company specializes in:</td>\n",
       "      <td>7198</td>\n",
       "    </tr>\n",
       "    <tr>\n",
       "      <th>5</th>\n",
       "      <td>V_6</td>\n",
       "      <td>My company is:</td>\n",
       "      <td>7317</td>\n",
       "    </tr>\n",
       "    <tr>\n",
       "      <th>6</th>\n",
       "      <td>V_7</td>\n",
       "      <td>I teach:</td>\n",
       "      <td>12800</td>\n",
       "    </tr>\n",
       "    <tr>\n",
       "      <th>7</th>\n",
       "      <td>V_8</td>\n",
       "      <td>I'm not working because:</td>\n",
       "      <td>12831</td>\n",
       "    </tr>\n",
       "    <tr>\n",
       "      <th>8</th>\n",
       "      <td>V_9</td>\n",
       "      <td>My organization has:</td>\n",
       "      <td>409</td>\n",
       "    </tr>\n",
       "    <tr>\n",
       "      <th>9</th>\n",
       "      <td>V_10</td>\n",
       "      <td>My immediate team is:</td>\n",
       "      <td>402</td>\n",
       "    </tr>\n",
       "    <tr>\n",
       "      <th>10</th>\n",
       "      <td>V_11</td>\n",
       "      <td>My work touches these industries or sectors:</td>\n",
       "      <td>401</td>\n",
       "    </tr>\n",
       "    <tr>\n",
       "      <th>11</th>\n",
       "      <td>V_12</td>\n",
       "      <td>I’ve been at my current place of work for:</td>\n",
       "      <td>401</td>\n",
       "    </tr>\n",
       "    <tr>\n",
       "      <th>12</th>\n",
       "      <td>V_13</td>\n",
       "      <td>My role is:</td>\n",
       "      <td>7090</td>\n",
       "    </tr>\n",
       "    <tr>\n",
       "      <th>13</th>\n",
       "      <td>V_14</td>\n",
       "      <td>My role is:</td>\n",
       "      <td>7217</td>\n",
       "    </tr>\n",
       "    <tr>\n",
       "      <th>14</th>\n",
       "      <td>V_15</td>\n",
       "      <td>My role is:</td>\n",
       "      <td>12769</td>\n",
       "    </tr>\n",
       "    <tr>\n",
       "      <th>15</th>\n",
       "      <td>V_16</td>\n",
       "      <td>I've been in my current role for:</td>\n",
       "      <td>401</td>\n",
       "    </tr>\n",
       "    <tr>\n",
       "      <th>16</th>\n",
       "      <td>V_17</td>\n",
       "      <td>I typically work:</td>\n",
       "      <td>401</td>\n",
       "    </tr>\n",
       "    <tr>\n",
       "      <th>17</th>\n",
       "      <td>V_18</td>\n",
       "      <td>My annual salary is:</td>\n",
       "      <td>397</td>\n",
       "    </tr>\n",
       "    <tr>\n",
       "      <th>18</th>\n",
       "      <td>V_19</td>\n",
       "      <td>My job provides:</td>\n",
       "      <td>400</td>\n",
       "    </tr>\n",
       "    <tr>\n",
       "      <th>19</th>\n",
       "      <td>V_20</td>\n",
       "      <td>In my current role, there is:</td>\n",
       "      <td>399</td>\n",
       "    </tr>\n",
       "    <tr>\n",
       "      <th>20</th>\n",
       "      <td>V_21</td>\n",
       "      <td>In my current role, I am:</td>\n",
       "      <td>399</td>\n",
       "    </tr>\n",
       "    <tr>\n",
       "      <th>21</th>\n",
       "      <td>V_22</td>\n",
       "      <td>My job is:</td>\n",
       "      <td>399</td>\n",
       "    </tr>\n",
       "    <tr>\n",
       "      <th>22</th>\n",
       "      <td>V_23</td>\n",
       "      <td>My job stability is:</td>\n",
       "      <td>399</td>\n",
       "    </tr>\n",
       "    <tr>\n",
       "      <th>23</th>\n",
       "      <td>V_24</td>\n",
       "      <td>In addition to my job, I also:</td>\n",
       "      <td>399</td>\n",
       "    </tr>\n",
       "    <tr>\n",
       "      <th>24</th>\n",
       "      <td>V_25</td>\n",
       "      <td>I fuel my daily creativity with coffee:</td>\n",
       "      <td>0</td>\n",
       "    </tr>\n",
       "    <tr>\n",
       "      <th>25</th>\n",
       "      <td>V_26</td>\n",
       "      <td>Highest level of education I've completed:</td>\n",
       "      <td>0</td>\n",
       "    </tr>\n",
       "    <tr>\n",
       "      <th>26</th>\n",
       "      <td>V_27</td>\n",
       "      <td>I learned design:</td>\n",
       "      <td>0</td>\n",
       "    </tr>\n",
       "    <tr>\n",
       "      <th>27</th>\n",
       "      <td>V_28</td>\n",
       "      <td>My major focus of study was:</td>\n",
       "      <td>0</td>\n",
       "    </tr>\n",
       "    <tr>\n",
       "      <th>28</th>\n",
       "      <td>V_29</td>\n",
       "      <td>Over my career, I've had:</td>\n",
       "      <td>0</td>\n",
       "    </tr>\n",
       "    <tr>\n",
       "      <th>29</th>\n",
       "      <td>V_30</td>\n",
       "      <td>I've shifted my specialty or focus area:</td>\n",
       "      <td>0</td>\n",
       "    </tr>\n",
       "    <tr>\n",
       "      <th>30</th>\n",
       "      <td>V_31</td>\n",
       "      <td>I stay current with design by:</td>\n",
       "      <td>0</td>\n",
       "    </tr>\n",
       "    <tr>\n",
       "      <th>31</th>\n",
       "      <td>V_32</td>\n",
       "      <td>I'm a member of:</td>\n",
       "      <td>0</td>\n",
       "    </tr>\n",
       "    <tr>\n",
       "      <th>32</th>\n",
       "      <td>V_33</td>\n",
       "      <td>I'd like to get better at:</td>\n",
       "      <td>0</td>\n",
       "    </tr>\n",
       "    <tr>\n",
       "      <th>33</th>\n",
       "      <td>V_34</td>\n",
       "      <td>I am:</td>\n",
       "      <td>0</td>\n",
       "    </tr>\n",
       "    <tr>\n",
       "      <th>34</th>\n",
       "      <td>V_35</td>\n",
       "      <td>Right now, I can't stop listening to:</td>\n",
       "      <td>78</td>\n",
       "    </tr>\n",
       "    <tr>\n",
       "      <th>35</th>\n",
       "      <td>V_36</td>\n",
       "      <td>I live in:</td>\n",
       "      <td>2382</td>\n",
       "    </tr>\n",
       "    <tr>\n",
       "      <th>36</th>\n",
       "      <td>V_37</td>\n",
       "      <td>My age is:</td>\n",
       "      <td>0</td>\n",
       "    </tr>\n",
       "    <tr>\n",
       "      <th>37</th>\n",
       "      <td>V_38</td>\n",
       "      <td>I am:</td>\n",
       "      <td>0</td>\n",
       "    </tr>\n",
       "    <tr>\n",
       "      <th>38</th>\n",
       "      <td>V_39</td>\n",
       "      <td>I consider myself:</td>\n",
       "      <td>0</td>\n",
       "    </tr>\n",
       "    <tr>\n",
       "      <th>39</th>\n",
       "      <td>V_40</td>\n",
       "      <td>My ethnicity is:</td>\n",
       "      <td>0</td>\n",
       "    </tr>\n",
       "    <tr>\n",
       "      <th>40</th>\n",
       "      <td>V_41</td>\n",
       "      <td>The most critical issues and challenges curren...</td>\n",
       "      <td>439</td>\n",
       "    </tr>\n",
       "    <tr>\n",
       "      <th>41</th>\n",
       "      <td>V_42</td>\n",
       "      <td>The emerging trends and technologies that will...</td>\n",
       "      <td>655</td>\n",
       "    </tr>\n",
       "    <tr>\n",
       "      <th>42</th>\n",
       "      <td>V_43</td>\n",
       "      <td>The most valuable design skills for the future...</td>\n",
       "      <td>429</td>\n",
       "    </tr>\n",
       "  </tbody>\n",
       "</table>\n",
       "</div>"
      ],
      "text/plain": [
       "   Column                                               Desc   Null\n",
       "0     V_1                         I've worked in design for:      0\n",
       "1     V_2                               I primarily work in:      0\n",
       "2     V_3                                  I'm also good at:      0\n",
       "3     V_4                                    I am currently:      0\n",
       "4     V_5                         My company specializes in:   7198\n",
       "5     V_6                                     My company is:   7317\n",
       "6     V_7                                           I teach:  12800\n",
       "7     V_8                           I'm not working because:  12831\n",
       "8     V_9                               My organization has:    409\n",
       "9    V_10                              My immediate team is:    402\n",
       "10   V_11       My work touches these industries or sectors:    401\n",
       "11   V_12         I’ve been at my current place of work for:    401\n",
       "12   V_13                                        My role is:   7090\n",
       "13   V_14                                        My role is:   7217\n",
       "14   V_15                                        My role is:  12769\n",
       "15   V_16                  I've been in my current role for:    401\n",
       "16   V_17                                  I typically work:    401\n",
       "17   V_18                               My annual salary is:    397\n",
       "18   V_19                                   My job provides:    400\n",
       "19   V_20                      In my current role, there is:    399\n",
       "20   V_21                          In my current role, I am:    399\n",
       "21   V_22                                         My job is:    399\n",
       "22   V_23                               My job stability is:    399\n",
       "23   V_24                     In addition to my job, I also:    399\n",
       "24   V_25            I fuel my daily creativity with coffee:      0\n",
       "25   V_26         Highest level of education I've completed:      0\n",
       "26   V_27                                  I learned design:      0\n",
       "27   V_28                       My major focus of study was:      0\n",
       "28   V_29                          Over my career, I've had:      0\n",
       "29   V_30           I've shifted my specialty or focus area:      0\n",
       "30   V_31                     I stay current with design by:      0\n",
       "31   V_32                                   I'm a member of:      0\n",
       "32   V_33                         I'd like to get better at:      0\n",
       "33   V_34                                              I am:      0\n",
       "34   V_35              Right now, I can't stop listening to:     78\n",
       "35   V_36                                         I live in:   2382\n",
       "36   V_37                                         My age is:      0\n",
       "37   V_38                                              I am:      0\n",
       "38   V_39                                 I consider myself:      0\n",
       "39   V_40                                   My ethnicity is:      0\n",
       "40   V_41  The most critical issues and challenges curren...    439\n",
       "41   V_42  The emerging trends and technologies that will...    655\n",
       "42   V_43  The most valuable design skills for the future...    429"
      ]
     },
     "execution_count": 10,
     "metadata": {},
     "output_type": "execute_result"
    }
   ],
   "source": [
    "dff = pd.DataFrame(columns=['Column','Desc', 'Null'])\n",
    "for col in df.columns:\n",
    "    num_null = df[col].isnull().sum()\n",
    "    dff = dff.append({'Column': col, 'Desc' : col_dict[col], 'Null' : num_null }, ignore_index=True)\n",
    "dff"
   ]
  },
  {
   "cell_type": "markdown",
   "metadata": {},
   "source": [
    "### Deal with columns with pipe"
   ]
  },
  {
   "cell_type": "code",
   "execution_count": 19,
   "metadata": {
    "collapsed": true
   },
   "outputs": [],
   "source": [
    "df['V_36'] = df['V_36'].astype(np.object)\n",
    "df = df.replace(np.nan,'', regex=True)\n",
    "pipe_col_dict = {}\n",
    "\n",
    "for col in pipe_col:\n",
    "    options = set()\n",
    "    for row in df[col]:\n",
    "        arrs = row.split('|') \n",
    "        for arr in arrs:\n",
    "            if arr != '':\n",
    "                options.add(arr)\n",
    "    \n",
    "    pipe_col_dict[col] = {}\n",
    "    \n",
    "    index = 1\n",
    "    for option in options:\n",
    "        sub_col = col + '_' + str(index)\n",
    "        df.loc[:,sub_col] = 0\n",
    "        pipe_col_dict[col][option] = sub_col\n",
    "        col_dict[sub_col] = col_dict[col] + '-' + option\n",
    "        index += 1"
   ]
  },
  {
   "cell_type": "code",
   "execution_count": 14,
   "metadata": {},
   "outputs": [],
   "source": [
    "for col in pipe_col:\n",
    "    row_num = 0;\n",
    "    for row in df[col]:\n",
    "        arrs = row.split('|') \n",
    "        for arr in arrs:\n",
    "            if arr != '':\n",
    "                sub_col = pipe_col_dict[col][arr]\n",
    "                df.loc[row_num, sub_col] += 1\n",
    "        row_num += 1"
   ]
  },
  {
   "cell_type": "code",
   "execution_count": 15,
   "metadata": {
    "collapsed": true
   },
   "outputs": [],
   "source": [
    "df.to_csv('output.csv',index=False)"
   ]
  },
  {
   "cell_type": "markdown",
   "metadata": {},
   "source": [
    "### Output csv with column names"
   ]
  },
  {
   "cell_type": "code",
   "execution_count": 36,
   "metadata": {},
   "outputs": [],
   "source": [
    "#df_v2 = df.drop('Unnamed: 0', axis = 1).copy()\n",
    "df_v2.columns = [col_dict[col] for col in df_v2.columns]\n",
    "df_v2.to_csv('output_with_column_names.csv',index=False)\n",
    "del df_v2"
   ]
  },
  {
   "cell_type": "markdown",
   "metadata": {},
   "source": [
    "### Exclude null, outliers, etc"
   ]
  },
  {
   "cell_type": "markdown",
   "metadata": {},
   "source": [
    "TBD"
   ]
  },
  {
   "cell_type": "markdown",
   "metadata": {},
   "source": [
    "### End of preprocessing"
   ]
  },
  {
   "cell_type": "code",
   "execution_count": 37,
   "metadata": {
    "collapsed": true
   },
   "outputs": [],
   "source": [
    "df = pd.read_csv('output.csv')\n",
    "num_records = len(df)"
   ]
  },
  {
   "cell_type": "code",
   "execution_count": 38,
   "metadata": {
    "collapsed": true
   },
   "outputs": [],
   "source": [
    "def summary_cate_col(col):\n",
    "    if col in continous_cols:\n",
    "        return\n",
    "    \n",
    "    elif col in pipe_col:\n",
    "        dff = pd.DataFrame(columns=['Options','Count','Percent'])\n",
    "        for key, value in pipe_col_dict[col].items():\n",
    "            count = df[value].sum()\n",
    "            dff = dff.append({'Options': key, 'Count' : count}, ignore_index=True)\n",
    "    \n",
    "    else:\n",
    "        dff = pd.DataFrame(df[col].value_counts())\n",
    "        dff.reset_index(inplace=True)\n",
    "        dff.columns = ['Options','Count']\n",
    "    \n",
    "    dff['Percent'] = dff.Count / num_records\n",
    "    dff = dff.sort_values(by = 'Percent', ascending = False).head(5)\n",
    "    dff = dff.style.format({'Percent': '{:,.2%}'.format})\n",
    "    return dff"
   ]
  },
  {
   "cell_type": "markdown",
   "metadata": {},
   "source": [
    "### Basic Summary of each column (only show top 5)"
   ]
  },
  {
   "cell_type": "code",
   "execution_count": 39,
   "metadata": {},
   "outputs": [
    {
     "data": {
      "text/plain": [
       "\"V_1 :  I've worked in design for:\""
      ]
     },
     "metadata": {},
     "output_type": "display_data"
    },
    {
     "data": {
      "text/html": [
       "<style  type=\"text/css\" >\n",
       "</style>  \n",
       "<table id=\"T_2370e50a_4976_11e8_afed_8c85905f408e\" > \n",
       "<thead>    <tr> \n",
       "        <th class=\"blank level0\" ></th> \n",
       "        <th class=\"col_heading level0 col0\" >Options</th> \n",
       "        <th class=\"col_heading level0 col1\" >Count</th> \n",
       "        <th class=\"col_heading level0 col2\" >Percent</th> \n",
       "    </tr></thead> \n",
       "<tbody>    <tr> \n",
       "        <th id=\"T_2370e50a_4976_11e8_afed_8c85905f408elevel0_row0\" class=\"row_heading level0 row0\" >0</th> \n",
       "        <td id=\"T_2370e50a_4976_11e8_afed_8c85905f408erow0_col0\" class=\"data row0 col0\" >1-4 years</td> \n",
       "        <td id=\"T_2370e50a_4976_11e8_afed_8c85905f408erow0_col1\" class=\"data row0 col1\" >4168</td> \n",
       "        <td id=\"T_2370e50a_4976_11e8_afed_8c85905f408erow0_col2\" class=\"data row0 col2\" >31.68%</td> \n",
       "    </tr>    <tr> \n",
       "        <th id=\"T_2370e50a_4976_11e8_afed_8c85905f408elevel0_row1\" class=\"row_heading level0 row1\" >1</th> \n",
       "        <td id=\"T_2370e50a_4976_11e8_afed_8c85905f408erow1_col0\" class=\"data row1 col0\" >5-9 years</td> \n",
       "        <td id=\"T_2370e50a_4976_11e8_afed_8c85905f408erow1_col1\" class=\"data row1 col1\" >3682</td> \n",
       "        <td id=\"T_2370e50a_4976_11e8_afed_8c85905f408erow1_col2\" class=\"data row1 col2\" >27.98%</td> \n",
       "    </tr>    <tr> \n",
       "        <th id=\"T_2370e50a_4976_11e8_afed_8c85905f408elevel0_row2\" class=\"row_heading level0 row2\" >2</th> \n",
       "        <td id=\"T_2370e50a_4976_11e8_afed_8c85905f408erow2_col0\" class=\"data row2 col0\" >10-14 years</td> \n",
       "        <td id=\"T_2370e50a_4976_11e8_afed_8c85905f408erow2_col1\" class=\"data row2 col1\" >2059</td> \n",
       "        <td id=\"T_2370e50a_4976_11e8_afed_8c85905f408erow2_col2\" class=\"data row2 col2\" >15.65%</td> \n",
       "    </tr>    <tr> \n",
       "        <th id=\"T_2370e50a_4976_11e8_afed_8c85905f408elevel0_row3\" class=\"row_heading level0 row3\" >3</th> \n",
       "        <td id=\"T_2370e50a_4976_11e8_afed_8c85905f408erow3_col0\" class=\"data row3 col0\" >15-20 years</td> \n",
       "        <td id=\"T_2370e50a_4976_11e8_afed_8c85905f408erow3_col1\" class=\"data row3 col1\" >1298</td> \n",
       "        <td id=\"T_2370e50a_4976_11e8_afed_8c85905f408erow3_col2\" class=\"data row3 col2\" >9.86%</td> \n",
       "    </tr>    <tr> \n",
       "        <th id=\"T_2370e50a_4976_11e8_afed_8c85905f408elevel0_row4\" class=\"row_heading level0 row4\" >4</th> \n",
       "        <td id=\"T_2370e50a_4976_11e8_afed_8c85905f408erow4_col0\" class=\"data row4 col0\" >20+ years</td> \n",
       "        <td id=\"T_2370e50a_4976_11e8_afed_8c85905f408erow4_col1\" class=\"data row4 col1\" >1243</td> \n",
       "        <td id=\"T_2370e50a_4976_11e8_afed_8c85905f408erow4_col2\" class=\"data row4 col2\" >9.45%</td> \n",
       "    </tr></tbody> \n",
       "</table> "
      ],
      "text/plain": [
       "<pandas.io.formats.style.Styler at 0x1096ac7b8>"
      ]
     },
     "metadata": {},
     "output_type": "display_data"
    },
    {
     "data": {
      "text/plain": [
       "'V_2 : I primarily work in:'"
      ]
     },
     "metadata": {},
     "output_type": "display_data"
    },
    {
     "data": {
      "text/html": [
       "<style  type=\"text/css\" >\n",
       "</style>  \n",
       "<table id=\"T_2380900c_4976_11e8_8d97_8c85905f408e\" > \n",
       "<thead>    <tr> \n",
       "        <th class=\"blank level0\" ></th> \n",
       "        <th class=\"col_heading level0 col0\" >Options</th> \n",
       "        <th class=\"col_heading level0 col1\" >Count</th> \n",
       "        <th class=\"col_heading level0 col2\" >Percent</th> \n",
       "    </tr></thead> \n",
       "<tbody>    <tr> \n",
       "        <th id=\"T_2380900c_4976_11e8_8d97_8c85905f408elevel0_row0\" class=\"row_heading level0 row0\" >16</th> \n",
       "        <td id=\"T_2380900c_4976_11e8_8d97_8c85905f408erow0_col0\" class=\"data row0 col0\" >Graphic Design</td> \n",
       "        <td id=\"T_2380900c_4976_11e8_8d97_8c85905f408erow0_col1\" class=\"data row0 col1\" >8976</td> \n",
       "        <td id=\"T_2380900c_4976_11e8_8d97_8c85905f408erow0_col2\" class=\"data row0 col2\" >68.22%</td> \n",
       "    </tr>    <tr> \n",
       "        <th id=\"T_2380900c_4976_11e8_8d97_8c85905f408elevel0_row1\" class=\"row_heading level0 row1\" >9</th> \n",
       "        <td id=\"T_2380900c_4976_11e8_8d97_8c85905f408erow1_col0\" class=\"data row1 col0\" >Web Design</td> \n",
       "        <td id=\"T_2380900c_4976_11e8_8d97_8c85905f408erow1_col1\" class=\"data row1 col1\" >4935</td> \n",
       "        <td id=\"T_2380900c_4976_11e8_8d97_8c85905f408erow1_col2\" class=\"data row1 col2\" >37.51%</td> \n",
       "    </tr>    <tr> \n",
       "        <th id=\"T_2380900c_4976_11e8_8d97_8c85905f408elevel0_row2\" class=\"row_heading level0 row2\" >10</th> \n",
       "        <td id=\"T_2380900c_4976_11e8_8d97_8c85905f408erow2_col0\" class=\"data row2 col0\" >UX Design</td> \n",
       "        <td id=\"T_2380900c_4976_11e8_8d97_8c85905f408erow2_col1\" class=\"data row2 col1\" >4321</td> \n",
       "        <td id=\"T_2380900c_4976_11e8_8d97_8c85905f408erow2_col2\" class=\"data row2 col2\" >32.84%</td> \n",
       "    </tr>    <tr> \n",
       "        <th id=\"T_2380900c_4976_11e8_8d97_8c85905f408elevel0_row3\" class=\"row_heading level0 row3\" >23</th> \n",
       "        <td id=\"T_2380900c_4976_11e8_8d97_8c85905f408erow3_col0\" class=\"data row3 col0\" >UI Design</td> \n",
       "        <td id=\"T_2380900c_4976_11e8_8d97_8c85905f408erow3_col1\" class=\"data row3 col1\" >3991</td> \n",
       "        <td id=\"T_2380900c_4976_11e8_8d97_8c85905f408erow3_col2\" class=\"data row3 col2\" >30.33%</td> \n",
       "    </tr>    <tr> \n",
       "        <th id=\"T_2380900c_4976_11e8_8d97_8c85905f408elevel0_row4\" class=\"row_heading level0 row4\" >13</th> \n",
       "        <td id=\"T_2380900c_4976_11e8_8d97_8c85905f408erow4_col0\" class=\"data row4 col0\" >Marketing</td> \n",
       "        <td id=\"T_2380900c_4976_11e8_8d97_8c85905f408erow4_col1\" class=\"data row4 col1\" >3952</td> \n",
       "        <td id=\"T_2380900c_4976_11e8_8d97_8c85905f408erow4_col2\" class=\"data row4 col2\" >30.03%</td> \n",
       "    </tr></tbody> \n",
       "</table> "
      ],
      "text/plain": [
       "<pandas.io.formats.style.Styler at 0x1096abac8>"
      ]
     },
     "metadata": {},
     "output_type": "display_data"
    },
    {
     "data": {
      "text/plain": [
       "\"V_3 : I'm also good at:\""
      ]
     },
     "metadata": {},
     "output_type": "display_data"
    },
    {
     "data": {
      "text/html": [
       "<style  type=\"text/css\" >\n",
       "</style>  \n",
       "<table id=\"T_2389519e_4976_11e8_83a9_8c85905f408e\" > \n",
       "<thead>    <tr> \n",
       "        <th class=\"blank level0\" ></th> \n",
       "        <th class=\"col_heading level0 col0\" >Options</th> \n",
       "        <th class=\"col_heading level0 col1\" >Count</th> \n",
       "        <th class=\"col_heading level0 col2\" >Percent</th> \n",
       "    </tr></thead> \n",
       "<tbody>    <tr> \n",
       "        <th id=\"T_2389519e_4976_11e8_83a9_8c85905f408elevel0_row0\" class=\"row_heading level0 row0\" >16</th> \n",
       "        <td id=\"T_2389519e_4976_11e8_83a9_8c85905f408erow0_col0\" class=\"data row0 col0\" >Brainstorming and Ideation</td> \n",
       "        <td id=\"T_2389519e_4976_11e8_83a9_8c85905f408erow0_col1\" class=\"data row0 col1\" >10209</td> \n",
       "        <td id=\"T_2389519e_4976_11e8_83a9_8c85905f408erow0_col2\" class=\"data row0 col2\" >77.59%</td> \n",
       "    </tr>    <tr> \n",
       "        <th id=\"T_2389519e_4976_11e8_83a9_8c85905f408elevel0_row1\" class=\"row_heading level0 row1\" >14</th> \n",
       "        <td id=\"T_2389519e_4976_11e8_83a9_8c85905f408erow1_col0\" class=\"data row1 col0\" >Project Management</td> \n",
       "        <td id=\"T_2389519e_4976_11e8_83a9_8c85905f408erow1_col1\" class=\"data row1 col1\" >5695</td> \n",
       "        <td id=\"T_2389519e_4976_11e8_83a9_8c85905f408erow1_col2\" class=\"data row1 col2\" >43.28%</td> \n",
       "    </tr>    <tr> \n",
       "        <th id=\"T_2389519e_4976_11e8_83a9_8c85905f408elevel0_row2\" class=\"row_heading level0 row2\" >13</th> \n",
       "        <td id=\"T_2389519e_4976_11e8_83a9_8c85905f408erow2_col0\" class=\"data row2 col0\" >Leadership</td> \n",
       "        <td id=\"T_2389519e_4976_11e8_83a9_8c85905f408erow2_col1\" class=\"data row2 col1\" >5271</td> \n",
       "        <td id=\"T_2389519e_4976_11e8_83a9_8c85905f408erow2_col2\" class=\"data row2 col2\" >40.06%</td> \n",
       "    </tr>    <tr> \n",
       "        <th id=\"T_2389519e_4976_11e8_83a9_8c85905f408elevel0_row3\" class=\"row_heading level0 row3\" >12</th> \n",
       "        <td id=\"T_2389519e_4976_11e8_83a9_8c85905f408erow3_col0\" class=\"data row3 col0\" >Drawing or Painting</td> \n",
       "        <td id=\"T_2389519e_4976_11e8_83a9_8c85905f408erow3_col1\" class=\"data row3 col1\" >5245</td> \n",
       "        <td id=\"T_2389519e_4976_11e8_83a9_8c85905f408erow3_col2\" class=\"data row3 col2\" >39.86%</td> \n",
       "    </tr>    <tr> \n",
       "        <th id=\"T_2389519e_4976_11e8_83a9_8c85905f408elevel0_row4\" class=\"row_heading level0 row4\" >9</th> \n",
       "        <td id=\"T_2389519e_4976_11e8_83a9_8c85905f408erow4_col0\" class=\"data row4 col0\" >Writing</td> \n",
       "        <td id=\"T_2389519e_4976_11e8_83a9_8c85905f408erow4_col1\" class=\"data row4 col1\" >4838</td> \n",
       "        <td id=\"T_2389519e_4976_11e8_83a9_8c85905f408erow4_col2\" class=\"data row4 col2\" >36.77%</td> \n",
       "    </tr></tbody> \n",
       "</table> "
      ],
      "text/plain": [
       "<pandas.io.formats.style.Styler at 0x1096acdd8>"
      ]
     },
     "metadata": {},
     "output_type": "display_data"
    },
    {
     "data": {
      "text/plain": [
       "'V_4 : I am currently:'"
      ]
     },
     "metadata": {},
     "output_type": "display_data"
    },
    {
     "data": {
      "text/html": [
       "<style  type=\"text/css\" >\n",
       "</style>  \n",
       "<table id=\"T_238ad6f4_4976_11e8_aec0_8c85905f408e\" > \n",
       "<thead>    <tr> \n",
       "        <th class=\"blank level0\" ></th> \n",
       "        <th class=\"col_heading level0 col0\" >Options</th> \n",
       "        <th class=\"col_heading level0 col1\" >Count</th> \n",
       "        <th class=\"col_heading level0 col2\" >Percent</th> \n",
       "    </tr></thead> \n",
       "<tbody>    <tr> \n",
       "        <th id=\"T_238ad6f4_4976_11e8_aec0_8c85905f408elevel0_row0\" class=\"row_heading level0 row0\" >0</th> \n",
       "        <td id=\"T_238ad6f4_4976_11e8_aec0_8c85905f408erow0_col0\" class=\"data row0 col0\" >A full-time employee in-house</td> \n",
       "        <td id=\"T_238ad6f4_4976_11e8_aec0_8c85905f408erow0_col1\" class=\"data row0 col1\" >5539</td> \n",
       "        <td id=\"T_238ad6f4_4976_11e8_aec0_8c85905f408erow0_col2\" class=\"data row0 col2\" >42.10%</td> \n",
       "    </tr>    <tr> \n",
       "        <th id=\"T_238ad6f4_4976_11e8_aec0_8c85905f408elevel0_row1\" class=\"row_heading level0 row1\" >1</th> \n",
       "        <td id=\"T_238ad6f4_4976_11e8_aec0_8c85905f408erow1_col0\" class=\"data row1 col0\" >A full-time employee at an agency or consultancy</td> \n",
       "        <td id=\"T_238ad6f4_4976_11e8_aec0_8c85905f408erow1_col1\" class=\"data row1 col1\" >3757</td> \n",
       "        <td id=\"T_238ad6f4_4976_11e8_aec0_8c85905f408erow1_col2\" class=\"data row1 col2\" >28.55%</td> \n",
       "    </tr>    <tr> \n",
       "        <th id=\"T_238ad6f4_4976_11e8_aec0_8c85905f408elevel0_row2\" class=\"row_heading level0 row2\" >2</th> \n",
       "        <td id=\"T_238ad6f4_4976_11e8_aec0_8c85905f408erow2_col0\" class=\"data row2 col0\" >Self-employed or freelancing</td> \n",
       "        <td id=\"T_238ad6f4_4976_11e8_aec0_8c85905f408erow2_col1\" class=\"data row2 col1\" >2006</td> \n",
       "        <td id=\"T_238ad6f4_4976_11e8_aec0_8c85905f408erow2_col2\" class=\"data row2 col2\" >15.25%</td> \n",
       "    </tr>    <tr> \n",
       "        <th id=\"T_238ad6f4_4976_11e8_aec0_8c85905f408elevel0_row3\" class=\"row_heading level0 row3\" >3</th> \n",
       "        <td id=\"T_238ad6f4_4976_11e8_aec0_8c85905f408erow3_col0\" class=\"data row3 col0\" >A contract employee in-house</td> \n",
       "        <td id=\"T_238ad6f4_4976_11e8_aec0_8c85905f408erow3_col1\" class=\"data row3 col1\" >402</td> \n",
       "        <td id=\"T_238ad6f4_4976_11e8_aec0_8c85905f408erow3_col2\" class=\"data row3 col2\" >3.06%</td> \n",
       "    </tr>    <tr> \n",
       "        <th id=\"T_238ad6f4_4976_11e8_aec0_8c85905f408elevel0_row4\" class=\"row_heading level0 row4\" >4</th> \n",
       "        <td id=\"T_238ad6f4_4976_11e8_aec0_8c85905f408erow4_col0\" class=\"data row4 col0\" >Not working</td> \n",
       "        <td id=\"T_238ad6f4_4976_11e8_aec0_8c85905f408erow4_col1\" class=\"data row4 col1\" >396</td> \n",
       "        <td id=\"T_238ad6f4_4976_11e8_aec0_8c85905f408erow4_col2\" class=\"data row4 col2\" >3.01%</td> \n",
       "    </tr></tbody> \n",
       "</table> "
      ],
      "text/plain": [
       "<pandas.io.formats.style.Styler at 0x1096acd68>"
      ]
     },
     "metadata": {},
     "output_type": "display_data"
    },
    {
     "data": {
      "text/plain": [
       "'V_5 : My company specializes in:'"
      ]
     },
     "metadata": {},
     "output_type": "display_data"
    },
    {
     "data": {
      "text/html": [
       "<style  type=\"text/css\" >\n",
       "</style>  \n",
       "<table id=\"T_23931f30_4976_11e8_8cd1_8c85905f408e\" > \n",
       "<thead>    <tr> \n",
       "        <th class=\"blank level0\" ></th> \n",
       "        <th class=\"col_heading level0 col0\" >Options</th> \n",
       "        <th class=\"col_heading level0 col1\" >Count</th> \n",
       "        <th class=\"col_heading level0 col2\" >Percent</th> \n",
       "    </tr></thead> \n",
       "<tbody>    <tr> \n",
       "        <th id=\"T_23931f30_4976_11e8_8cd1_8c85905f408elevel0_row0\" class=\"row_heading level0 row0\" >8</th> \n",
       "        <td id=\"T_23931f30_4976_11e8_8cd1_8c85905f408erow0_col0\" class=\"data row0 col0\" >Digital</td> \n",
       "        <td id=\"T_23931f30_4976_11e8_8cd1_8c85905f408erow0_col1\" class=\"data row0 col1\" >3408</td> \n",
       "        <td id=\"T_23931f30_4976_11e8_8cd1_8c85905f408erow0_col2\" class=\"data row0 col2\" >25.90%</td> \n",
       "    </tr>    <tr> \n",
       "        <th id=\"T_23931f30_4976_11e8_8cd1_8c85905f408elevel0_row1\" class=\"row_heading level0 row1\" >9</th> \n",
       "        <td id=\"T_23931f30_4976_11e8_8cd1_8c85905f408erow1_col0\" class=\"data row1 col0\" >Branding</td> \n",
       "        <td id=\"T_23931f30_4976_11e8_8cd1_8c85905f408erow1_col1\" class=\"data row1 col1\" >2986</td> \n",
       "        <td id=\"T_23931f30_4976_11e8_8cd1_8c85905f408erow1_col2\" class=\"data row1 col2\" >22.69%</td> \n",
       "    </tr>    <tr> \n",
       "        <th id=\"T_23931f30_4976_11e8_8cd1_8c85905f408elevel0_row2\" class=\"row_heading level0 row2\" >0</th> \n",
       "        <td id=\"T_23931f30_4976_11e8_8cd1_8c85905f408erow2_col0\" class=\"data row2 col0\" >Print</td> \n",
       "        <td id=\"T_23931f30_4976_11e8_8cd1_8c85905f408erow2_col1\" class=\"data row2 col1\" >2363</td> \n",
       "        <td id=\"T_23931f30_4976_11e8_8cd1_8c85905f408erow2_col2\" class=\"data row2 col2\" >17.96%</td> \n",
       "    </tr>    <tr> \n",
       "        <th id=\"T_23931f30_4976_11e8_8cd1_8c85905f408elevel0_row3\" class=\"row_heading level0 row3\" >1</th> \n",
       "        <td id=\"T_23931f30_4976_11e8_8cd1_8c85905f408erow3_col0\" class=\"data row3 col0\" >Strategy</td> \n",
       "        <td id=\"T_23931f30_4976_11e8_8cd1_8c85905f408erow3_col1\" class=\"data row3 col1\" >2079</td> \n",
       "        <td id=\"T_23931f30_4976_11e8_8cd1_8c85905f408erow3_col2\" class=\"data row3 col2\" >15.80%</td> \n",
       "    </tr>    <tr> \n",
       "        <th id=\"T_23931f30_4976_11e8_8cd1_8c85905f408elevel0_row4\" class=\"row_heading level0 row4\" >5</th> \n",
       "        <td id=\"T_23931f30_4976_11e8_8cd1_8c85905f408erow4_col0\" class=\"data row4 col0\" >Advertising</td> \n",
       "        <td id=\"T_23931f30_4976_11e8_8cd1_8c85905f408erow4_col1\" class=\"data row4 col1\" >2077</td> \n",
       "        <td id=\"T_23931f30_4976_11e8_8cd1_8c85905f408erow4_col2\" class=\"data row4 col2\" >15.79%</td> \n",
       "    </tr></tbody> \n",
       "</table> "
      ],
      "text/plain": [
       "<pandas.io.formats.style.Styler at 0x115c9c080>"
      ]
     },
     "metadata": {},
     "output_type": "display_data"
    },
    {
     "data": {
      "text/plain": [
       "'V_6 : My company is:'"
      ]
     },
     "metadata": {},
     "output_type": "display_data"
    },
    {
     "data": {
      "text/html": [
       "<style  type=\"text/css\" >\n",
       "</style>  \n",
       "<table id=\"T_2394dc9e_4976_11e8_9193_8c85905f408e\" > \n",
       "<thead>    <tr> \n",
       "        <th class=\"blank level0\" ></th> \n",
       "        <th class=\"col_heading level0 col0\" >Options</th> \n",
       "        <th class=\"col_heading level0 col1\" >Count</th> \n",
       "        <th class=\"col_heading level0 col2\" >Percent</th> \n",
       "    </tr></thead> \n",
       "<tbody>    <tr> \n",
       "        <th id=\"T_2394dc9e_4976_11e8_9193_8c85905f408elevel0_row0\" class=\"row_heading level0 row0\" >0</th> \n",
       "        <td id=\"T_2394dc9e_4976_11e8_9193_8c85905f408erow0_col0\" class=\"data row0 col0\" >For-Profit/Corporate</td> \n",
       "        <td id=\"T_2394dc9e_4976_11e8_9193_8c85905f408erow0_col1\" class=\"data row0 col1\" >3738</td> \n",
       "        <td id=\"T_2394dc9e_4976_11e8_9193_8c85905f408erow0_col2\" class=\"data row0 col2\" >28.41%</td> \n",
       "    </tr>    <tr> \n",
       "        <th id=\"T_2394dc9e_4976_11e8_9193_8c85905f408elevel0_row1\" class=\"row_heading level0 row1\" >1</th> \n",
       "        <td id=\"T_2394dc9e_4976_11e8_9193_8c85905f408erow1_col0\" class=\"data row1 col0\" >Startup</td> \n",
       "        <td id=\"T_2394dc9e_4976_11e8_9193_8c85905f408erow1_col1\" class=\"data row1 col1\" >681</td> \n",
       "        <td id=\"T_2394dc9e_4976_11e8_9193_8c85905f408erow1_col2\" class=\"data row1 col2\" >5.18%</td> \n",
       "    </tr>    <tr> \n",
       "        <th id=\"T_2394dc9e_4976_11e8_9193_8c85905f408elevel0_row2\" class=\"row_heading level0 row2\" >2</th> \n",
       "        <td id=\"T_2394dc9e_4976_11e8_9193_8c85905f408erow2_col0\" class=\"data row2 col0\" >Non-Profit</td> \n",
       "        <td id=\"T_2394dc9e_4976_11e8_9193_8c85905f408erow2_col1\" class=\"data row2 col1\" >605</td> \n",
       "        <td id=\"T_2394dc9e_4976_11e8_9193_8c85905f408erow2_col2\" class=\"data row2 col2\" >4.60%</td> \n",
       "    </tr>    <tr> \n",
       "        <th id=\"T_2394dc9e_4976_11e8_9193_8c85905f408elevel0_row3\" class=\"row_heading level0 row3\" >3</th> \n",
       "        <td id=\"T_2394dc9e_4976_11e8_9193_8c85905f408erow3_col0\" class=\"data row3 col0\" >Education</td> \n",
       "        <td id=\"T_2394dc9e_4976_11e8_9193_8c85905f408erow3_col1\" class=\"data row3 col1\" >449</td> \n",
       "        <td id=\"T_2394dc9e_4976_11e8_9193_8c85905f408erow3_col2\" class=\"data row3 col2\" >3.41%</td> \n",
       "    </tr>    <tr> \n",
       "        <th id=\"T_2394dc9e_4976_11e8_9193_8c85905f408elevel0_row4\" class=\"row_heading level0 row4\" >4</th> \n",
       "        <td id=\"T_2394dc9e_4976_11e8_9193_8c85905f408erow4_col0\" class=\"data row4 col0\" >Other</td> \n",
       "        <td id=\"T_2394dc9e_4976_11e8_9193_8c85905f408erow4_col1\" class=\"data row4 col1\" >217</td> \n",
       "        <td id=\"T_2394dc9e_4976_11e8_9193_8c85905f408erow4_col2\" class=\"data row4 col2\" >1.65%</td> \n",
       "    </tr></tbody> \n",
       "</table> "
      ],
      "text/plain": [
       "<pandas.io.formats.style.Styler at 0x10cb7ad68>"
      ]
     },
     "metadata": {},
     "output_type": "display_data"
    },
    {
     "data": {
      "text/plain": [
       "'V_7 : I teach:'"
      ]
     },
     "metadata": {},
     "output_type": "display_data"
    },
    {
     "data": {
      "text/html": [
       "<style  type=\"text/css\" >\n",
       "</style>  \n",
       "<table id=\"T_23995eae_4976_11e8_9bfd_8c85905f408e\" > \n",
       "<thead>    <tr> \n",
       "        <th class=\"blank level0\" ></th> \n",
       "        <th class=\"col_heading level0 col0\" >Options</th> \n",
       "        <th class=\"col_heading level0 col1\" >Count</th> \n",
       "        <th class=\"col_heading level0 col2\" >Percent</th> \n",
       "    </tr></thead> \n",
       "<tbody>    <tr> \n",
       "        <th id=\"T_23995eae_4976_11e8_9bfd_8c85905f408elevel0_row0\" class=\"row_heading level0 row0\" >3</th> \n",
       "        <td id=\"T_23995eae_4976_11e8_9bfd_8c85905f408erow0_col0\" class=\"data row0 col0\" >Undergraduate school</td> \n",
       "        <td id=\"T_23995eae_4976_11e8_9bfd_8c85905f408erow0_col1\" class=\"data row0 col1\" >265</td> \n",
       "        <td id=\"T_23995eae_4976_11e8_9bfd_8c85905f408erow0_col2\" class=\"data row0 col2\" >2.01%</td> \n",
       "    </tr>    <tr> \n",
       "        <th id=\"T_23995eae_4976_11e8_9bfd_8c85905f408elevel0_row1\" class=\"row_heading level0 row1\" >1</th> \n",
       "        <td id=\"T_23995eae_4976_11e8_9bfd_8c85905f408erow1_col0\" class=\"data row1 col0\" >Graduate school</td> \n",
       "        <td id=\"T_23995eae_4976_11e8_9bfd_8c85905f408erow1_col1\" class=\"data row1 col1\" >119</td> \n",
       "        <td id=\"T_23995eae_4976_11e8_9bfd_8c85905f408erow1_col2\" class=\"data row1 col2\" >0.90%</td> \n",
       "    </tr>    <tr> \n",
       "        <th id=\"T_23995eae_4976_11e8_9bfd_8c85905f408elevel0_row2\" class=\"row_heading level0 row2\" >2</th> \n",
       "        <td id=\"T_23995eae_4976_11e8_9bfd_8c85905f408erow2_col0\" class=\"data row2 col0\" >Programs or workshops</td> \n",
       "        <td id=\"T_23995eae_4976_11e8_9bfd_8c85905f408erow2_col1\" class=\"data row2 col1\" >86</td> \n",
       "        <td id=\"T_23995eae_4976_11e8_9bfd_8c85905f408erow2_col2\" class=\"data row2 col2\" >0.65%</td> \n",
       "    </tr>    <tr> \n",
       "        <th id=\"T_23995eae_4976_11e8_9bfd_8c85905f408elevel0_row3\" class=\"row_heading level0 row3\" >0</th> \n",
       "        <td id=\"T_23995eae_4976_11e8_9bfd_8c85905f408erow3_col0\" class=\"data row3 col0\" >Art school</td> \n",
       "        <td id=\"T_23995eae_4976_11e8_9bfd_8c85905f408erow3_col1\" class=\"data row3 col1\" >67</td> \n",
       "        <td id=\"T_23995eae_4976_11e8_9bfd_8c85905f408erow3_col2\" class=\"data row3 col2\" >0.51%</td> \n",
       "    </tr>    <tr> \n",
       "        <th id=\"T_23995eae_4976_11e8_9bfd_8c85905f408elevel0_row4\" class=\"row_heading level0 row4\" >5</th> \n",
       "        <td id=\"T_23995eae_4976_11e8_9bfd_8c85905f408erow4_col0\" class=\"data row4 col0\" >Technical or Trade school</td> \n",
       "        <td id=\"T_23995eae_4976_11e8_9bfd_8c85905f408erow4_col1\" class=\"data row4 col1\" >36</td> \n",
       "        <td id=\"T_23995eae_4976_11e8_9bfd_8c85905f408erow4_col2\" class=\"data row4 col2\" >0.27%</td> \n",
       "    </tr></tbody> \n",
       "</table> "
      ],
      "text/plain": [
       "<pandas.io.formats.style.Styler at 0x1094489e8>"
      ]
     },
     "metadata": {},
     "output_type": "display_data"
    },
    {
     "data": {
      "text/plain": [
       "\"V_8 : I'm not working because:\""
      ]
     },
     "metadata": {},
     "output_type": "display_data"
    },
    {
     "data": {
      "text/html": [
       "<style  type=\"text/css\" >\n",
       "</style>  \n",
       "<table id=\"T_239ae71a_4976_11e8_a39f_8c85905f408e\" > \n",
       "<thead>    <tr> \n",
       "        <th class=\"blank level0\" ></th> \n",
       "        <th class=\"col_heading level0 col0\" >Options</th> \n",
       "        <th class=\"col_heading level0 col1\" >Count</th> \n",
       "        <th class=\"col_heading level0 col2\" >Percent</th> \n",
       "    </tr></thead> \n",
       "<tbody>    <tr> \n",
       "        <th id=\"T_239ae71a_4976_11e8_a39f_8c85905f408elevel0_row0\" class=\"row_heading level0 row0\" >0</th> \n",
       "        <td id=\"T_239ae71a_4976_11e8_a39f_8c85905f408erow0_col0\" class=\"data row0 col0\" >Prefer not to say</td> \n",
       "        <td id=\"T_239ae71a_4976_11e8_a39f_8c85905f408erow0_col1\" class=\"data row0 col1\" >155</td> \n",
       "        <td id=\"T_239ae71a_4976_11e8_a39f_8c85905f408erow0_col2\" class=\"data row0 col2\" >1.18%</td> \n",
       "    </tr>    <tr> \n",
       "        <th id=\"T_239ae71a_4976_11e8_a39f_8c85905f408elevel0_row1\" class=\"row_heading level0 row1\" >1</th> \n",
       "        <td id=\"T_239ae71a_4976_11e8_a39f_8c85905f408erow1_col0\" class=\"data row1 col0\" >I was laid off</td> \n",
       "        <td id=\"T_239ae71a_4976_11e8_a39f_8c85905f408erow1_col1\" class=\"data row1 col1\" >94</td> \n",
       "        <td id=\"T_239ae71a_4976_11e8_a39f_8c85905f408erow1_col2\" class=\"data row1 col2\" >0.71%</td> \n",
       "    </tr>    <tr> \n",
       "        <th id=\"T_239ae71a_4976_11e8_a39f_8c85905f408elevel0_row2\" class=\"row_heading level0 row2\" >2</th> \n",
       "        <td id=\"T_239ae71a_4976_11e8_a39f_8c85905f408erow2_col0\" class=\"data row2 col0\" >I quit</td> \n",
       "        <td id=\"T_239ae71a_4976_11e8_a39f_8c85905f408erow2_col1\" class=\"data row2 col1\" >72</td> \n",
       "        <td id=\"T_239ae71a_4976_11e8_a39f_8c85905f408erow2_col2\" class=\"data row2 col2\" >0.55%</td> \n",
       "    </tr>    <tr> \n",
       "        <th id=\"T_239ae71a_4976_11e8_a39f_8c85905f408elevel0_row3\" class=\"row_heading level0 row3\" >3</th> \n",
       "        <td id=\"T_239ae71a_4976_11e8_a39f_8c85905f408erow3_col0\" class=\"data row3 col0\" >I'm retired or semi-retired</td> \n",
       "        <td id=\"T_239ae71a_4976_11e8_a39f_8c85905f408erow3_col1\" class=\"data row3 col1\" >6</td> \n",
       "        <td id=\"T_239ae71a_4976_11e8_a39f_8c85905f408erow3_col2\" class=\"data row3 col2\" >0.05%</td> \n",
       "    </tr></tbody> \n",
       "</table> "
      ],
      "text/plain": [
       "<pandas.io.formats.style.Styler at 0x1096ace10>"
      ]
     },
     "metadata": {},
     "output_type": "display_data"
    },
    {
     "data": {
      "text/plain": [
       "'V_9 : My organization has:'"
      ]
     },
     "metadata": {},
     "output_type": "display_data"
    },
    {
     "data": {
      "text/html": [
       "<style  type=\"text/css\" >\n",
       "</style>  \n",
       "<table id=\"T_239cd958_4976_11e8_a62d_8c85905f408e\" > \n",
       "<thead>    <tr> \n",
       "        <th class=\"blank level0\" ></th> \n",
       "        <th class=\"col_heading level0 col0\" >Options</th> \n",
       "        <th class=\"col_heading level0 col1\" >Count</th> \n",
       "        <th class=\"col_heading level0 col2\" >Percent</th> \n",
       "    </tr></thead> \n",
       "<tbody>    <tr> \n",
       "        <th id=\"T_239cd958_4976_11e8_a62d_8c85905f408elevel0_row0\" class=\"row_heading level0 row0\" >0</th> \n",
       "        <td id=\"T_239cd958_4976_11e8_a62d_8c85905f408erow0_col0\" class=\"data row0 col0\" >1-10 employees</td> \n",
       "        <td id=\"T_239cd958_4976_11e8_a62d_8c85905f408erow0_col1\" class=\"data row0 col1\" >3235</td> \n",
       "        <td id=\"T_239cd958_4976_11e8_a62d_8c85905f408erow0_col2\" class=\"data row0 col2\" >24.59%</td> \n",
       "    </tr>    <tr> \n",
       "        <th id=\"T_239cd958_4976_11e8_a62d_8c85905f408elevel0_row1\" class=\"row_heading level0 row1\" >1</th> \n",
       "        <td id=\"T_239cd958_4976_11e8_a62d_8c85905f408erow1_col0\" class=\"data row1 col0\" >1000+ employees</td> \n",
       "        <td id=\"T_239cd958_4976_11e8_a62d_8c85905f408erow1_col1\" class=\"data row1 col1\" >2910</td> \n",
       "        <td id=\"T_239cd958_4976_11e8_a62d_8c85905f408erow1_col2\" class=\"data row1 col2\" >22.12%</td> \n",
       "    </tr>    <tr> \n",
       "        <th id=\"T_239cd958_4976_11e8_a62d_8c85905f408elevel0_row2\" class=\"row_heading level0 row2\" >2</th> \n",
       "        <td id=\"T_239cd958_4976_11e8_a62d_8c85905f408erow2_col0\" class=\"data row2 col0\" >11-50 employees</td> \n",
       "        <td id=\"T_239cd958_4976_11e8_a62d_8c85905f408erow2_col1\" class=\"data row2 col1\" >2423</td> \n",
       "        <td id=\"T_239cd958_4976_11e8_a62d_8c85905f408erow2_col2\" class=\"data row2 col2\" >18.41%</td> \n",
       "    </tr>    <tr> \n",
       "        <th id=\"T_239cd958_4976_11e8_a62d_8c85905f408elevel0_row3\" class=\"row_heading level0 row3\" >3</th> \n",
       "        <td id=\"T_239cd958_4976_11e8_a62d_8c85905f408erow3_col0\" class=\"data row3 col0\" >101-250 employees</td> \n",
       "        <td id=\"T_239cd958_4976_11e8_a62d_8c85905f408erow3_col1\" class=\"data row3 col1\" >1149</td> \n",
       "        <td id=\"T_239cd958_4976_11e8_a62d_8c85905f408erow3_col2\" class=\"data row3 col2\" >8.73%</td> \n",
       "    </tr>    <tr> \n",
       "        <th id=\"T_239cd958_4976_11e8_a62d_8c85905f408elevel0_row4\" class=\"row_heading level0 row4\" >4</th> \n",
       "        <td id=\"T_239cd958_4976_11e8_a62d_8c85905f408erow4_col0\" class=\"data row4 col0\" >51-100 employees</td> \n",
       "        <td id=\"T_239cd958_4976_11e8_a62d_8c85905f408erow4_col1\" class=\"data row4 col1\" >1140</td> \n",
       "        <td id=\"T_239cd958_4976_11e8_a62d_8c85905f408erow4_col2\" class=\"data row4 col2\" >8.66%</td> \n",
       "    </tr></tbody> \n",
       "</table> "
      ],
      "text/plain": [
       "<pandas.io.formats.style.Styler at 0x1096acd68>"
      ]
     },
     "metadata": {},
     "output_type": "display_data"
    },
    {
     "data": {
      "text/plain": [
       "'V_10 : My immediate team is:'"
      ]
     },
     "metadata": {},
     "output_type": "display_data"
    },
    {
     "data": {
      "text/html": [
       "<style  type=\"text/css\" >\n",
       "</style>  \n",
       "<table id=\"T_239eb534_4976_11e8_a3d4_8c85905f408e\" > \n",
       "<thead>    <tr> \n",
       "        <th class=\"blank level0\" ></th> \n",
       "        <th class=\"col_heading level0 col0\" >Options</th> \n",
       "        <th class=\"col_heading level0 col1\" >Count</th> \n",
       "        <th class=\"col_heading level0 col2\" >Percent</th> \n",
       "    </tr></thead> \n",
       "<tbody>    <tr> \n",
       "        <th id=\"T_239eb534_4976_11e8_a3d4_8c85905f408elevel0_row0\" class=\"row_heading level0 row0\" >0</th> \n",
       "        <td id=\"T_239eb534_4976_11e8_a3d4_8c85905f408erow0_col0\" class=\"data row0 col0\" >2-4 people</td> \n",
       "        <td id=\"T_239eb534_4976_11e8_a3d4_8c85905f408erow0_col1\" class=\"data row0 col1\" >4919</td> \n",
       "        <td id=\"T_239eb534_4976_11e8_a3d4_8c85905f408erow0_col2\" class=\"data row0 col2\" >37.38%</td> \n",
       "    </tr>    <tr> \n",
       "        <th id=\"T_239eb534_4976_11e8_a3d4_8c85905f408elevel0_row1\" class=\"row_heading level0 row1\" >1</th> \n",
       "        <td id=\"T_239eb534_4976_11e8_a3d4_8c85905f408erow1_col0\" class=\"data row1 col0\" >5-10 people</td> \n",
       "        <td id=\"T_239eb534_4976_11e8_a3d4_8c85905f408erow1_col1\" class=\"data row1 col1\" >3805</td> \n",
       "        <td id=\"T_239eb534_4976_11e8_a3d4_8c85905f408erow1_col2\" class=\"data row1 col2\" >28.92%</td> \n",
       "    </tr>    <tr> \n",
       "        <th id=\"T_239eb534_4976_11e8_a3d4_8c85905f408elevel0_row2\" class=\"row_heading level0 row2\" >2</th> \n",
       "        <td id=\"T_239eb534_4976_11e8_a3d4_8c85905f408erow2_col0\" class=\"data row2 col0\" >Just me</td> \n",
       "        <td id=\"T_239eb534_4976_11e8_a3d4_8c85905f408erow2_col1\" class=\"data row2 col1\" >2302</td> \n",
       "        <td id=\"T_239eb534_4976_11e8_a3d4_8c85905f408erow2_col2\" class=\"data row2 col2\" >17.50%</td> \n",
       "    </tr>    <tr> \n",
       "        <th id=\"T_239eb534_4976_11e8_a3d4_8c85905f408elevel0_row3\" class=\"row_heading level0 row3\" >3</th> \n",
       "        <td id=\"T_239eb534_4976_11e8_a3d4_8c85905f408erow3_col0\" class=\"data row3 col0\" >11-20 people</td> \n",
       "        <td id=\"T_239eb534_4976_11e8_a3d4_8c85905f408erow3_col1\" class=\"data row3 col1\" >1202</td> \n",
       "        <td id=\"T_239eb534_4976_11e8_a3d4_8c85905f408erow3_col2\" class=\"data row3 col2\" >9.14%</td> \n",
       "    </tr>    <tr> \n",
       "        <th id=\"T_239eb534_4976_11e8_a3d4_8c85905f408elevel0_row4\" class=\"row_heading level0 row4\" >4</th> \n",
       "        <td id=\"T_239eb534_4976_11e8_a3d4_8c85905f408erow4_col0\" class=\"data row4 col0\" >20+ people</td> \n",
       "        <td id=\"T_239eb534_4976_11e8_a3d4_8c85905f408erow4_col1\" class=\"data row4 col1\" >528</td> \n",
       "        <td id=\"T_239eb534_4976_11e8_a3d4_8c85905f408erow4_col2\" class=\"data row4 col2\" >4.01%</td> \n",
       "    </tr></tbody> \n",
       "</table> "
      ],
      "text/plain": [
       "<pandas.io.formats.style.Styler at 0x1096abe80>"
      ]
     },
     "metadata": {},
     "output_type": "display_data"
    },
    {
     "data": {
      "text/plain": [
       "'V_11 : My work touches these industries or sectors:'"
      ]
     },
     "metadata": {},
     "output_type": "display_data"
    },
    {
     "data": {
      "text/html": [
       "<style  type=\"text/css\" >\n",
       "</style>  \n",
       "<table id=\"T_23b42518_4976_11e8_a35d_8c85905f408e\" > \n",
       "<thead>    <tr> \n",
       "        <th class=\"blank level0\" ></th> \n",
       "        <th class=\"col_heading level0 col0\" >Options</th> \n",
       "        <th class=\"col_heading level0 col1\" >Count</th> \n",
       "        <th class=\"col_heading level0 col2\" >Percent</th> \n",
       "    </tr></thead> \n",
       "<tbody>    <tr> \n",
       "        <th id=\"T_23b42518_4976_11e8_a35d_8c85905f408elevel0_row0\" class=\"row_heading level0 row0\" >26</th> \n",
       "        <td id=\"T_23b42518_4976_11e8_a35d_8c85905f408erow0_col0\" class=\"data row0 col0\" >Marketing and Communications</td> \n",
       "        <td id=\"T_23b42518_4976_11e8_a35d_8c85905f408erow0_col1\" class=\"data row0 col1\" >5413</td> \n",
       "        <td id=\"T_23b42518_4976_11e8_a35d_8c85905f408erow0_col2\" class=\"data row0 col2\" >41.14%</td> \n",
       "    </tr>    <tr> \n",
       "        <th id=\"T_23b42518_4976_11e8_a35d_8c85905f408elevel0_row1\" class=\"row_heading level0 row1\" >6</th> \n",
       "        <td id=\"T_23b42518_4976_11e8_a35d_8c85905f408erow1_col0\" class=\"data row1 col0\" >Advertising</td> \n",
       "        <td id=\"T_23b42518_4976_11e8_a35d_8c85905f408erow1_col1\" class=\"data row1 col1\" >5251</td> \n",
       "        <td id=\"T_23b42518_4976_11e8_a35d_8c85905f408erow1_col2\" class=\"data row1 col2\" >39.91%</td> \n",
       "    </tr>    <tr> \n",
       "        <th id=\"T_23b42518_4976_11e8_a35d_8c85905f408elevel0_row2\" class=\"row_heading level0 row2\" >28</th> \n",
       "        <td id=\"T_23b42518_4976_11e8_a35d_8c85905f408erow2_col0\" class=\"data row2 col0\" >Technology</td> \n",
       "        <td id=\"T_23b42518_4976_11e8_a35d_8c85905f408erow2_col1\" class=\"data row2 col1\" >4225</td> \n",
       "        <td id=\"T_23b42518_4976_11e8_a35d_8c85905f408erow2_col2\" class=\"data row2 col2\" >32.11%</td> \n",
       "    </tr>    <tr> \n",
       "        <th id=\"T_23b42518_4976_11e8_a35d_8c85905f408elevel0_row3\" class=\"row_heading level0 row3\" >25</th> \n",
       "        <td id=\"T_23b42518_4976_11e8_a35d_8c85905f408erow3_col0\" class=\"data row3 col0\" >Education</td> \n",
       "        <td id=\"T_23b42518_4976_11e8_a35d_8c85905f408erow3_col1\" class=\"data row3 col1\" >4113</td> \n",
       "        <td id=\"T_23b42518_4976_11e8_a35d_8c85905f408erow3_col2\" class=\"data row3 col2\" >31.26%</td> \n",
       "    </tr>    <tr> \n",
       "        <th id=\"T_23b42518_4976_11e8_a35d_8c85905f408elevel0_row4\" class=\"row_heading level0 row4\" >43</th> \n",
       "        <td id=\"T_23b42518_4976_11e8_a35d_8c85905f408erow4_col0\" class=\"data row4 col0\" >Web Services</td> \n",
       "        <td id=\"T_23b42518_4976_11e8_a35d_8c85905f408erow4_col1\" class=\"data row4 col1\" >3619</td> \n",
       "        <td id=\"T_23b42518_4976_11e8_a35d_8c85905f408erow4_col2\" class=\"data row4 col2\" >27.50%</td> \n",
       "    </tr></tbody> \n",
       "</table> "
      ],
      "text/plain": [
       "<pandas.io.formats.style.Styler at 0x1096acac8>"
      ]
     },
     "metadata": {},
     "output_type": "display_data"
    },
    {
     "data": {
      "text/plain": [
       "'V_12 : I’ve been at my current place of work for:'"
      ]
     },
     "metadata": {},
     "output_type": "display_data"
    },
    {
     "data": {
      "text/html": [
       "<style  type=\"text/css\" >\n",
       "</style>  \n",
       "<table id=\"T_23b570b4_4976_11e8_9839_8c85905f408e\" > \n",
       "<thead>    <tr> \n",
       "        <th class=\"blank level0\" ></th> \n",
       "        <th class=\"col_heading level0 col0\" >Options</th> \n",
       "        <th class=\"col_heading level0 col1\" >Count</th> \n",
       "        <th class=\"col_heading level0 col2\" >Percent</th> \n",
       "    </tr></thead> \n",
       "<tbody>    <tr> \n",
       "        <th id=\"T_23b570b4_4976_11e8_9839_8c85905f408elevel0_row0\" class=\"row_heading level0 row0\" >0</th> \n",
       "        <td id=\"T_23b570b4_4976_11e8_9839_8c85905f408erow0_col0\" class=\"data row0 col0\" >1-2 years</td> \n",
       "        <td id=\"T_23b570b4_4976_11e8_9839_8c85905f408erow0_col1\" class=\"data row0 col1\" >3789</td> \n",
       "        <td id=\"T_23b570b4_4976_11e8_9839_8c85905f408erow0_col2\" class=\"data row0 col2\" >28.80%</td> \n",
       "    </tr>    <tr> \n",
       "        <th id=\"T_23b570b4_4976_11e8_9839_8c85905f408elevel0_row1\" class=\"row_heading level0 row1\" >1</th> \n",
       "        <td id=\"T_23b570b4_4976_11e8_9839_8c85905f408erow1_col0\" class=\"data row1 col0\" >Less than 1 year</td> \n",
       "        <td id=\"T_23b570b4_4976_11e8_9839_8c85905f408erow1_col1\" class=\"data row1 col1\" >3626</td> \n",
       "        <td id=\"T_23b570b4_4976_11e8_9839_8c85905f408erow1_col2\" class=\"data row1 col2\" >27.56%</td> \n",
       "    </tr>    <tr> \n",
       "        <th id=\"T_23b570b4_4976_11e8_9839_8c85905f408elevel0_row2\" class=\"row_heading level0 row2\" >2</th> \n",
       "        <td id=\"T_23b570b4_4976_11e8_9839_8c85905f408erow2_col0\" class=\"data row2 col0\" >3-4 years</td> \n",
       "        <td id=\"T_23b570b4_4976_11e8_9839_8c85905f408erow2_col1\" class=\"data row2 col1\" >2511</td> \n",
       "        <td id=\"T_23b570b4_4976_11e8_9839_8c85905f408erow2_col2\" class=\"data row2 col2\" >19.08%</td> \n",
       "    </tr>    <tr> \n",
       "        <th id=\"T_23b570b4_4976_11e8_9839_8c85905f408elevel0_row3\" class=\"row_heading level0 row3\" >3</th> \n",
       "        <td id=\"T_23b570b4_4976_11e8_9839_8c85905f408erow3_col0\" class=\"data row3 col0\" >5-7 years</td> \n",
       "        <td id=\"T_23b570b4_4976_11e8_9839_8c85905f408erow3_col1\" class=\"data row3 col1\" >1224</td> \n",
       "        <td id=\"T_23b570b4_4976_11e8_9839_8c85905f408erow3_col2\" class=\"data row3 col2\" >9.30%</td> \n",
       "    </tr>    <tr> \n",
       "        <th id=\"T_23b570b4_4976_11e8_9839_8c85905f408elevel0_row4\" class=\"row_heading level0 row4\" >4</th> \n",
       "        <td id=\"T_23b570b4_4976_11e8_9839_8c85905f408erow4_col0\" class=\"data row4 col0\" >10+ years</td> \n",
       "        <td id=\"T_23b570b4_4976_11e8_9839_8c85905f408erow4_col1\" class=\"data row4 col1\" >1112</td> \n",
       "        <td id=\"T_23b570b4_4976_11e8_9839_8c85905f408erow4_col2\" class=\"data row4 col2\" >8.45%</td> \n",
       "    </tr></tbody> \n",
       "</table> "
      ],
      "text/plain": [
       "<pandas.io.formats.style.Styler at 0x1096ab550>"
      ]
     },
     "metadata": {},
     "output_type": "display_data"
    },
    {
     "data": {
      "text/plain": [
       "'V_13 : My role is:'"
      ]
     },
     "metadata": {},
     "output_type": "display_data"
    },
    {
     "data": {
      "text/html": [
       "<style  type=\"text/css\" >\n",
       "</style>  \n",
       "<table id=\"T_23b6dab0_4976_11e8_ad1f_8c85905f408e\" > \n",
       "<thead>    <tr> \n",
       "        <th class=\"blank level0\" ></th> \n",
       "        <th class=\"col_heading level0 col0\" >Options</th> \n",
       "        <th class=\"col_heading level0 col1\" >Count</th> \n",
       "        <th class=\"col_heading level0 col2\" >Percent</th> \n",
       "    </tr></thead> \n",
       "<tbody>    <tr> \n",
       "        <th id=\"T_23b6dab0_4976_11e8_ad1f_8c85905f408elevel0_row0\" class=\"row_heading level0 row0\" >0</th> \n",
       "        <td id=\"T_23b6dab0_4976_11e8_ad1f_8c85905f408erow0_col0\" class=\"data row0 col0\" >Owner/Partner</td> \n",
       "        <td id=\"T_23b6dab0_4976_11e8_ad1f_8c85905f408erow0_col1\" class=\"data row0 col1\" >1458</td> \n",
       "        <td id=\"T_23b6dab0_4976_11e8_ad1f_8c85905f408erow0_col2\" class=\"data row0 col2\" >11.08%</td> \n",
       "    </tr>    <tr> \n",
       "        <th id=\"T_23b6dab0_4976_11e8_ad1f_8c85905f408elevel0_row1\" class=\"row_heading level0 row1\" >1</th> \n",
       "        <td id=\"T_23b6dab0_4976_11e8_ad1f_8c85905f408erow1_col0\" class=\"data row1 col0\" >Mid-level specialist</td> \n",
       "        <td id=\"T_23b6dab0_4976_11e8_ad1f_8c85905f408erow1_col1\" class=\"data row1 col1\" >1424</td> \n",
       "        <td id=\"T_23b6dab0_4976_11e8_ad1f_8c85905f408erow1_col2\" class=\"data row1 col2\" >10.82%</td> \n",
       "    </tr>    <tr> \n",
       "        <th id=\"T_23b6dab0_4976_11e8_ad1f_8c85905f408elevel0_row2\" class=\"row_heading level0 row2\" >2</th> \n",
       "        <td id=\"T_23b6dab0_4976_11e8_ad1f_8c85905f408erow2_col0\" class=\"data row2 col0\" >Art Director</td> \n",
       "        <td id=\"T_23b6dab0_4976_11e8_ad1f_8c85905f408erow2_col1\" class=\"data row2 col1\" >761</td> \n",
       "        <td id=\"T_23b6dab0_4976_11e8_ad1f_8c85905f408erow2_col2\" class=\"data row2 col2\" >5.78%</td> \n",
       "    </tr>    <tr> \n",
       "        <th id=\"T_23b6dab0_4976_11e8_ad1f_8c85905f408elevel0_row3\" class=\"row_heading level0 row3\" >3</th> \n",
       "        <td id=\"T_23b6dab0_4976_11e8_ad1f_8c85905f408erow3_col0\" class=\"data row3 col0\" >Junior contributor</td> \n",
       "        <td id=\"T_23b6dab0_4976_11e8_ad1f_8c85905f408erow3_col1\" class=\"data row3 col1\" >622</td> \n",
       "        <td id=\"T_23b6dab0_4976_11e8_ad1f_8c85905f408erow3_col2\" class=\"data row3 col2\" >4.73%</td> \n",
       "    </tr>    <tr> \n",
       "        <th id=\"T_23b6dab0_4976_11e8_ad1f_8c85905f408elevel0_row4\" class=\"row_heading level0 row4\" >4</th> \n",
       "        <td id=\"T_23b6dab0_4976_11e8_ad1f_8c85905f408erow4_col0\" class=\"data row4 col0\" >Creative Director</td> \n",
       "        <td id=\"T_23b6dab0_4976_11e8_ad1f_8c85905f408erow4_col1\" class=\"data row4 col1\" >570</td> \n",
       "        <td id=\"T_23b6dab0_4976_11e8_ad1f_8c85905f408erow4_col2\" class=\"data row4 col2\" >4.33%</td> \n",
       "    </tr></tbody> \n",
       "</table> "
      ],
      "text/plain": [
       "<pandas.io.formats.style.Styler at 0x1078d1e80>"
      ]
     },
     "metadata": {},
     "output_type": "display_data"
    },
    {
     "data": {
      "text/plain": [
       "'V_14 : My role is:'"
      ]
     },
     "metadata": {},
     "output_type": "display_data"
    },
    {
     "data": {
      "text/html": [
       "<style  type=\"text/css\" >\n",
       "</style>  \n",
       "<table id=\"T_23b869a2_4976_11e8_b633_8c85905f408e\" > \n",
       "<thead>    <tr> \n",
       "        <th class=\"blank level0\" ></th> \n",
       "        <th class=\"col_heading level0 col0\" >Options</th> \n",
       "        <th class=\"col_heading level0 col1\" >Count</th> \n",
       "        <th class=\"col_heading level0 col2\" >Percent</th> \n",
       "    </tr></thead> \n",
       "<tbody>    <tr> \n",
       "        <th id=\"T_23b869a2_4976_11e8_b633_8c85905f408elevel0_row0\" class=\"row_heading level0 row0\" >0</th> \n",
       "        <td id=\"T_23b869a2_4976_11e8_b633_8c85905f408erow0_col0\" class=\"data row0 col0\" >Mid-level specialist</td> \n",
       "        <td id=\"T_23b869a2_4976_11e8_b633_8c85905f408erow0_col1\" class=\"data row0 col1\" >2770</td> \n",
       "        <td id=\"T_23b869a2_4976_11e8_b633_8c85905f408erow0_col2\" class=\"data row0 col2\" >21.05%</td> \n",
       "    </tr>    <tr> \n",
       "        <th id=\"T_23b869a2_4976_11e8_b633_8c85905f408elevel0_row1\" class=\"row_heading level0 row1\" >1</th> \n",
       "        <td id=\"T_23b869a2_4976_11e8_b633_8c85905f408erow1_col0\" class=\"data row1 col0\" >Junior contributor</td> \n",
       "        <td id=\"T_23b869a2_4976_11e8_b633_8c85905f408erow1_col1\" class=\"data row1 col1\" >712</td> \n",
       "        <td id=\"T_23b869a2_4976_11e8_b633_8c85905f408erow1_col2\" class=\"data row1 col2\" >5.41%</td> \n",
       "    </tr>    <tr> \n",
       "        <th id=\"T_23b869a2_4976_11e8_b633_8c85905f408elevel0_row2\" class=\"row_heading level0 row2\" >2</th> \n",
       "        <td id=\"T_23b869a2_4976_11e8_b633_8c85905f408erow2_col0\" class=\"data row2 col0\" >Director</td> \n",
       "        <td id=\"T_23b869a2_4976_11e8_b633_8c85905f408erow2_col1\" class=\"data row2 col1\" >574</td> \n",
       "        <td id=\"T_23b869a2_4976_11e8_b633_8c85905f408erow2_col2\" class=\"data row2 col2\" >4.36%</td> \n",
       "    </tr>    <tr> \n",
       "        <th id=\"T_23b869a2_4976_11e8_b633_8c85905f408elevel0_row3\" class=\"row_heading level0 row3\" >3</th> \n",
       "        <td id=\"T_23b869a2_4976_11e8_b633_8c85905f408erow3_col0\" class=\"data row3 col0\" >Senior manager</td> \n",
       "        <td id=\"T_23b869a2_4976_11e8_b633_8c85905f408erow3_col1\" class=\"data row3 col1\" >569</td> \n",
       "        <td id=\"T_23b869a2_4976_11e8_b633_8c85905f408erow3_col2\" class=\"data row3 col2\" >4.32%</td> \n",
       "    </tr>    <tr> \n",
       "        <th id=\"T_23b869a2_4976_11e8_b633_8c85905f408elevel0_row4\" class=\"row_heading level0 row4\" >4</th> \n",
       "        <td id=\"T_23b869a2_4976_11e8_b633_8c85905f408erow4_col0\" class=\"data row4 col0\" >Team Leader</td> \n",
       "        <td id=\"T_23b869a2_4976_11e8_b633_8c85905f408erow4_col1\" class=\"data row4 col1\" >535</td> \n",
       "        <td id=\"T_23b869a2_4976_11e8_b633_8c85905f408erow4_col2\" class=\"data row4 col2\" >4.07%</td> \n",
       "    </tr></tbody> \n",
       "</table> "
      ],
      "text/plain": [
       "<pandas.io.formats.style.Styler at 0x109448a90>"
      ]
     },
     "metadata": {},
     "output_type": "display_data"
    },
    {
     "data": {
      "text/plain": [
       "'V_15 : My role is:'"
      ]
     },
     "metadata": {},
     "output_type": "display_data"
    },
    {
     "data": {
      "text/html": [
       "<style  type=\"text/css\" >\n",
       "</style>  \n",
       "<table id=\"T_23ba1810_4976_11e8_b7ba_8c85905f408e\" > \n",
       "<thead>    <tr> \n",
       "        <th class=\"blank level0\" ></th> \n",
       "        <th class=\"col_heading level0 col0\" >Options</th> \n",
       "        <th class=\"col_heading level0 col1\" >Count</th> \n",
       "        <th class=\"col_heading level0 col2\" >Percent</th> \n",
       "    </tr></thead> \n",
       "<tbody>    <tr> \n",
       "        <th id=\"T_23ba1810_4976_11e8_b7ba_8c85905f408elevel0_row0\" class=\"row_heading level0 row0\" >0</th> \n",
       "        <td id=\"T_23ba1810_4976_11e8_b7ba_8c85905f408erow0_col0\" class=\"data row0 col0\" >Associate Professor</td> \n",
       "        <td id=\"T_23ba1810_4976_11e8_b7ba_8c85905f408erow0_col1\" class=\"data row0 col1\" >122</td> \n",
       "        <td id=\"T_23ba1810_4976_11e8_b7ba_8c85905f408erow0_col2\" class=\"data row0 col2\" >0.93%</td> \n",
       "    </tr>    <tr> \n",
       "        <th id=\"T_23ba1810_4976_11e8_b7ba_8c85905f408elevel0_row1\" class=\"row_heading level0 row1\" >1</th> \n",
       "        <td id=\"T_23ba1810_4976_11e8_b7ba_8c85905f408erow1_col0\" class=\"data row1 col0\" >Professor</td> \n",
       "        <td id=\"T_23ba1810_4976_11e8_b7ba_8c85905f408erow1_col1\" class=\"data row1 col1\" >59</td> \n",
       "        <td id=\"T_23ba1810_4976_11e8_b7ba_8c85905f408erow1_col2\" class=\"data row1 col2\" >0.45%</td> \n",
       "    </tr>    <tr> \n",
       "        <th id=\"T_23ba1810_4976_11e8_b7ba_8c85905f408elevel0_row2\" class=\"row_heading level0 row2\" >2</th> \n",
       "        <td id=\"T_23ba1810_4976_11e8_b7ba_8c85905f408erow2_col0\" class=\"data row2 col0\" >Instructor</td> \n",
       "        <td id=\"T_23ba1810_4976_11e8_b7ba_8c85905f408erow2_col1\" class=\"data row2 col1\" >58</td> \n",
       "        <td id=\"T_23ba1810_4976_11e8_b7ba_8c85905f408erow2_col2\" class=\"data row2 col2\" >0.44%</td> \n",
       "    </tr>    <tr> \n",
       "        <th id=\"T_23ba1810_4976_11e8_b7ba_8c85905f408elevel0_row3\" class=\"row_heading level0 row3\" >3</th> \n",
       "        <td id=\"T_23ba1810_4976_11e8_b7ba_8c85905f408erow3_col0\" class=\"data row3 col0\" >Program Chair</td> \n",
       "        <td id=\"T_23ba1810_4976_11e8_b7ba_8c85905f408erow3_col1\" class=\"data row3 col1\" >48</td> \n",
       "        <td id=\"T_23ba1810_4976_11e8_b7ba_8c85905f408erow3_col2\" class=\"data row3 col2\" >0.36%</td> \n",
       "    </tr>    <tr> \n",
       "        <th id=\"T_23ba1810_4976_11e8_b7ba_8c85905f408elevel0_row4\" class=\"row_heading level0 row4\" >4</th> \n",
       "        <td id=\"T_23ba1810_4976_11e8_b7ba_8c85905f408erow4_col0\" class=\"data row4 col0\" >Other</td> \n",
       "        <td id=\"T_23ba1810_4976_11e8_b7ba_8c85905f408erow4_col1\" class=\"data row4 col1\" >42</td> \n",
       "        <td id=\"T_23ba1810_4976_11e8_b7ba_8c85905f408erow4_col2\" class=\"data row4 col2\" >0.32%</td> \n",
       "    </tr></tbody> \n",
       "</table> "
      ],
      "text/plain": [
       "<pandas.io.formats.style.Styler at 0x115cb1400>"
      ]
     },
     "metadata": {},
     "output_type": "display_data"
    },
    {
     "data": {
      "text/plain": [
       "\"V_16 : I've been in my current role for:\""
      ]
     },
     "metadata": {},
     "output_type": "display_data"
    },
    {
     "data": {
      "text/html": [
       "<style  type=\"text/css\" >\n",
       "</style>  \n",
       "<table id=\"T_23bbdbbe_4976_11e8_a975_8c85905f408e\" > \n",
       "<thead>    <tr> \n",
       "        <th class=\"blank level0\" ></th> \n",
       "        <th class=\"col_heading level0 col0\" >Options</th> \n",
       "        <th class=\"col_heading level0 col1\" >Count</th> \n",
       "        <th class=\"col_heading level0 col2\" >Percent</th> \n",
       "    </tr></thead> \n",
       "<tbody>    <tr> \n",
       "        <th id=\"T_23bbdbbe_4976_11e8_a975_8c85905f408elevel0_row0\" class=\"row_heading level0 row0\" >0</th> \n",
       "        <td id=\"T_23bbdbbe_4976_11e8_a975_8c85905f408erow0_col0\" class=\"data row0 col0\" >1-2 years</td> \n",
       "        <td id=\"T_23bbdbbe_4976_11e8_a975_8c85905f408erow0_col1\" class=\"data row0 col1\" >4424</td> \n",
       "        <td id=\"T_23bbdbbe_4976_11e8_a975_8c85905f408erow0_col2\" class=\"data row0 col2\" >33.62%</td> \n",
       "    </tr>    <tr> \n",
       "        <th id=\"T_23bbdbbe_4976_11e8_a975_8c85905f408elevel0_row1\" class=\"row_heading level0 row1\" >1</th> \n",
       "        <td id=\"T_23bbdbbe_4976_11e8_a975_8c85905f408erow1_col0\" class=\"data row1 col0\" >Less than 1 year</td> \n",
       "        <td id=\"T_23bbdbbe_4976_11e8_a975_8c85905f408erow1_col1\" class=\"data row1 col1\" >3955</td> \n",
       "        <td id=\"T_23bbdbbe_4976_11e8_a975_8c85905f408erow1_col2\" class=\"data row1 col2\" >30.06%</td> \n",
       "    </tr>    <tr> \n",
       "        <th id=\"T_23bbdbbe_4976_11e8_a975_8c85905f408elevel0_row2\" class=\"row_heading level0 row2\" >2</th> \n",
       "        <td id=\"T_23bbdbbe_4976_11e8_a975_8c85905f408erow2_col0\" class=\"data row2 col0\" >3-4 years</td> \n",
       "        <td id=\"T_23bbdbbe_4976_11e8_a975_8c85905f408erow2_col1\" class=\"data row2 col1\" >2239</td> \n",
       "        <td id=\"T_23bbdbbe_4976_11e8_a975_8c85905f408erow2_col2\" class=\"data row2 col2\" >17.02%</td> \n",
       "    </tr>    <tr> \n",
       "        <th id=\"T_23bbdbbe_4976_11e8_a975_8c85905f408elevel0_row3\" class=\"row_heading level0 row3\" >3</th> \n",
       "        <td id=\"T_23bbdbbe_4976_11e8_a975_8c85905f408erow3_col0\" class=\"data row3 col0\" >5-7 years</td> \n",
       "        <td id=\"T_23bbdbbe_4976_11e8_a975_8c85905f408erow3_col1\" class=\"data row3 col1\" >954</td> \n",
       "        <td id=\"T_23bbdbbe_4976_11e8_a975_8c85905f408erow3_col2\" class=\"data row3 col2\" >7.25%</td> \n",
       "    </tr>    <tr> \n",
       "        <th id=\"T_23bbdbbe_4976_11e8_a975_8c85905f408elevel0_row4\" class=\"row_heading level0 row4\" >4</th> \n",
       "        <td id=\"T_23bbdbbe_4976_11e8_a975_8c85905f408erow4_col0\" class=\"data row4 col0\" >10+ years</td> \n",
       "        <td id=\"T_23bbdbbe_4976_11e8_a975_8c85905f408erow4_col1\" class=\"data row4 col1\" >808</td> \n",
       "        <td id=\"T_23bbdbbe_4976_11e8_a975_8c85905f408erow4_col2\" class=\"data row4 col2\" >6.14%</td> \n",
       "    </tr></tbody> \n",
       "</table> "
      ],
      "text/plain": [
       "<pandas.io.formats.style.Styler at 0x115cb1390>"
      ]
     },
     "metadata": {},
     "output_type": "display_data"
    },
    {
     "data": {
      "text/plain": [
       "'V_17 : I typically work:'"
      ]
     },
     "metadata": {},
     "output_type": "display_data"
    },
    {
     "data": {
      "text/html": [
       "<style  type=\"text/css\" >\n",
       "</style>  \n",
       "<table id=\"T_23bd88d8_4976_11e8_97e6_8c85905f408e\" > \n",
       "<thead>    <tr> \n",
       "        <th class=\"blank level0\" ></th> \n",
       "        <th class=\"col_heading level0 col0\" >Options</th> \n",
       "        <th class=\"col_heading level0 col1\" >Count</th> \n",
       "        <th class=\"col_heading level0 col2\" >Percent</th> \n",
       "    </tr></thead> \n",
       "<tbody>    <tr> \n",
       "        <th id=\"T_23bd88d8_4976_11e8_97e6_8c85905f408elevel0_row0\" class=\"row_heading level0 row0\" >0</th> \n",
       "        <td id=\"T_23bd88d8_4976_11e8_97e6_8c85905f408erow0_col0\" class=\"data row0 col0\" >40 hours per week</td> \n",
       "        <td id=\"T_23bd88d8_4976_11e8_97e6_8c85905f408erow0_col1\" class=\"data row0 col1\" >5626</td> \n",
       "        <td id=\"T_23bd88d8_4976_11e8_97e6_8c85905f408erow0_col2\" class=\"data row0 col2\" >42.76%</td> \n",
       "    </tr>    <tr> \n",
       "        <th id=\"T_23bd88d8_4976_11e8_97e6_8c85905f408elevel0_row1\" class=\"row_heading level0 row1\" >1</th> \n",
       "        <td id=\"T_23bd88d8_4976_11e8_97e6_8c85905f408erow1_col0\" class=\"data row1 col0\" >41-50 hours per week</td> \n",
       "        <td id=\"T_23bd88d8_4976_11e8_97e6_8c85905f408erow1_col1\" class=\"data row1 col1\" >4150</td> \n",
       "        <td id=\"T_23bd88d8_4976_11e8_97e6_8c85905f408erow1_col2\" class=\"data row1 col2\" >31.54%</td> \n",
       "    </tr>    <tr> \n",
       "        <th id=\"T_23bd88d8_4976_11e8_97e6_8c85905f408elevel0_row2\" class=\"row_heading level0 row2\" >2</th> \n",
       "        <td id=\"T_23bd88d8_4976_11e8_97e6_8c85905f408erow2_col0\" class=\"data row2 col0\" >Less than 40 hours per week</td> \n",
       "        <td id=\"T_23bd88d8_4976_11e8_97e6_8c85905f408erow2_col1\" class=\"data row2 col1\" >1991</td> \n",
       "        <td id=\"T_23bd88d8_4976_11e8_97e6_8c85905f408erow2_col2\" class=\"data row2 col2\" >15.13%</td> \n",
       "    </tr>    <tr> \n",
       "        <th id=\"T_23bd88d8_4976_11e8_97e6_8c85905f408elevel0_row3\" class=\"row_heading level0 row3\" >3</th> \n",
       "        <td id=\"T_23bd88d8_4976_11e8_97e6_8c85905f408erow3_col0\" class=\"data row3 col0\" >51-60 hours per week</td> \n",
       "        <td id=\"T_23bd88d8_4976_11e8_97e6_8c85905f408erow3_col1\" class=\"data row3 col1\" >727</td> \n",
       "        <td id=\"T_23bd88d8_4976_11e8_97e6_8c85905f408erow3_col2\" class=\"data row3 col2\" >5.53%</td> \n",
       "    </tr>    <tr> \n",
       "        <th id=\"T_23bd88d8_4976_11e8_97e6_8c85905f408elevel0_row4\" class=\"row_heading level0 row4\" >4</th> \n",
       "        <td id=\"T_23bd88d8_4976_11e8_97e6_8c85905f408erow4_col0\" class=\"data row4 col0\" >60+ hours per week</td> \n",
       "        <td id=\"T_23bd88d8_4976_11e8_97e6_8c85905f408erow4_col1\" class=\"data row4 col1\" >263</td> \n",
       "        <td id=\"T_23bd88d8_4976_11e8_97e6_8c85905f408erow4_col2\" class=\"data row4 col2\" >2.00%</td> \n",
       "    </tr></tbody> \n",
       "</table> "
      ],
      "text/plain": [
       "<pandas.io.formats.style.Styler at 0x115c83630>"
      ]
     },
     "metadata": {},
     "output_type": "display_data"
    },
    {
     "data": {
      "text/plain": [
       "'V_19 : My job provides:'"
      ]
     },
     "metadata": {},
     "output_type": "display_data"
    },
    {
     "data": {
      "text/html": [
       "<style  type=\"text/css\" >\n",
       "</style>  \n",
       "<table id=\"T_23c58f38_4976_11e8_8619_8c85905f408e\" > \n",
       "<thead>    <tr> \n",
       "        <th class=\"blank level0\" ></th> \n",
       "        <th class=\"col_heading level0 col0\" >Options</th> \n",
       "        <th class=\"col_heading level0 col1\" >Count</th> \n",
       "        <th class=\"col_heading level0 col2\" >Percent</th> \n",
       "    </tr></thead> \n",
       "<tbody>    <tr> \n",
       "        <th id=\"T_23c58f38_4976_11e8_8619_8c85905f408elevel0_row0\" class=\"row_heading level0 row0\" >2</th> \n",
       "        <td id=\"T_23c58f38_4976_11e8_8619_8c85905f408erow0_col0\" class=\"data row0 col0\" >Paid Time Off</td> \n",
       "        <td id=\"T_23c58f38_4976_11e8_8619_8c85905f408erow0_col1\" class=\"data row0 col1\" >8876</td> \n",
       "        <td id=\"T_23c58f38_4976_11e8_8619_8c85905f408erow0_col2\" class=\"data row0 col2\" >67.46%</td> \n",
       "    </tr>    <tr> \n",
       "        <th id=\"T_23c58f38_4976_11e8_8619_8c85905f408elevel0_row1\" class=\"row_heading level0 row1\" >15</th> \n",
       "        <td id=\"T_23c58f38_4976_11e8_8619_8c85905f408erow1_col0\" class=\"data row1 col0\" >Medical Insurance</td> \n",
       "        <td id=\"T_23c58f38_4976_11e8_8619_8c85905f408erow1_col1\" class=\"data row1 col1\" >8766</td> \n",
       "        <td id=\"T_23c58f38_4976_11e8_8619_8c85905f408erow1_col2\" class=\"data row1 col2\" >66.62%</td> \n",
       "    </tr>    <tr> \n",
       "        <th id=\"T_23c58f38_4976_11e8_8619_8c85905f408elevel0_row2\" class=\"row_heading level0 row2\" >0</th> \n",
       "        <td id=\"T_23c58f38_4976_11e8_8619_8c85905f408erow2_col0\" class=\"data row2 col0\" >Dental Insurance</td> \n",
       "        <td id=\"T_23c58f38_4976_11e8_8619_8c85905f408erow2_col1\" class=\"data row2 col1\" >7542</td> \n",
       "        <td id=\"T_23c58f38_4976_11e8_8619_8c85905f408erow2_col2\" class=\"data row2 col2\" >57.32%</td> \n",
       "    </tr>    <tr> \n",
       "        <th id=\"T_23c58f38_4976_11e8_8619_8c85905f408elevel0_row3\" class=\"row_heading level0 row3\" >7</th> \n",
       "        <td id=\"T_23c58f38_4976_11e8_8619_8c85905f408erow3_col0\" class=\"data row3 col0\" >Employer-matched Retirement</td> \n",
       "        <td id=\"T_23c58f38_4976_11e8_8619_8c85905f408erow3_col1\" class=\"data row3 col1\" >5872</td> \n",
       "        <td id=\"T_23c58f38_4976_11e8_8619_8c85905f408erow3_col2\" class=\"data row3 col2\" >44.63%</td> \n",
       "    </tr>    <tr> \n",
       "        <th id=\"T_23c58f38_4976_11e8_8619_8c85905f408elevel0_row4\" class=\"row_heading level0 row4\" >3</th> \n",
       "        <td id=\"T_23c58f38_4976_11e8_8619_8c85905f408erow4_col0\" class=\"data row4 col0\" >Life Insurance</td> \n",
       "        <td id=\"T_23c58f38_4976_11e8_8619_8c85905f408erow4_col1\" class=\"data row4 col1\" >5842</td> \n",
       "        <td id=\"T_23c58f38_4976_11e8_8619_8c85905f408erow4_col2\" class=\"data row4 col2\" >44.40%</td> \n",
       "    </tr></tbody> \n",
       "</table> "
      ],
      "text/plain": [
       "<pandas.io.formats.style.Styler at 0x109448358>"
      ]
     },
     "metadata": {},
     "output_type": "display_data"
    },
    {
     "data": {
      "text/plain": [
       "'V_20 : In my current role, there is:'"
      ]
     },
     "metadata": {},
     "output_type": "display_data"
    },
    {
     "data": {
      "text/html": [
       "<style  type=\"text/css\" >\n",
       "</style>  \n",
       "<table id=\"T_23c6fe36_4976_11e8_9bb7_8c85905f408e\" > \n",
       "<thead>    <tr> \n",
       "        <th class=\"blank level0\" ></th> \n",
       "        <th class=\"col_heading level0 col0\" >Options</th> \n",
       "        <th class=\"col_heading level0 col1\" >Count</th> \n",
       "        <th class=\"col_heading level0 col2\" >Percent</th> \n",
       "    </tr></thead> \n",
       "<tbody>    <tr> \n",
       "        <th id=\"T_23c6fe36_4976_11e8_9bb7_8c85905f408elevel0_row0\" class=\"row_heading level0 row0\" >0</th> \n",
       "        <td id=\"T_23c6fe36_4976_11e8_9bb7_8c85905f408erow0_col0\" class=\"data row0 col0\" >Some opportunity for advancement</td> \n",
       "        <td id=\"T_23c6fe36_4976_11e8_9bb7_8c85905f408erow0_col1\" class=\"data row0 col1\" >3938</td> \n",
       "        <td id=\"T_23c6fe36_4976_11e8_9bb7_8c85905f408erow0_col2\" class=\"data row0 col2\" >29.93%</td> \n",
       "    </tr>    <tr> \n",
       "        <th id=\"T_23c6fe36_4976_11e8_9bb7_8c85905f408elevel0_row1\" class=\"row_heading level0 row1\" >1</th> \n",
       "        <td id=\"T_23c6fe36_4976_11e8_9bb7_8c85905f408erow1_col0\" class=\"data row1 col0\" >Promising opportunity for advancement</td> \n",
       "        <td id=\"T_23c6fe36_4976_11e8_9bb7_8c85905f408erow1_col1\" class=\"data row1 col1\" >3369</td> \n",
       "        <td id=\"T_23c6fe36_4976_11e8_9bb7_8c85905f408erow1_col2\" class=\"data row1 col2\" >25.60%</td> \n",
       "    </tr>    <tr> \n",
       "        <th id=\"T_23c6fe36_4976_11e8_9bb7_8c85905f408elevel0_row2\" class=\"row_heading level0 row2\" >2</th> \n",
       "        <td id=\"T_23c6fe36_4976_11e8_9bb7_8c85905f408erow2_col0\" class=\"data row2 col0\" >Limited opportunity for advancement</td> \n",
       "        <td id=\"T_23c6fe36_4976_11e8_9bb7_8c85905f408erow2_col1\" class=\"data row2 col1\" >3139</td> \n",
       "        <td id=\"T_23c6fe36_4976_11e8_9bb7_8c85905f408erow2_col2\" class=\"data row2 col2\" >23.86%</td> \n",
       "    </tr>    <tr> \n",
       "        <th id=\"T_23c6fe36_4976_11e8_9bb7_8c85905f408elevel0_row3\" class=\"row_heading level0 row3\" >3</th> \n",
       "        <td id=\"T_23c6fe36_4976_11e8_9bb7_8c85905f408erow3_col0\" class=\"data row3 col0\" >No opportunity for advancement</td> \n",
       "        <td id=\"T_23c6fe36_4976_11e8_9bb7_8c85905f408erow3_col1\" class=\"data row3 col1\" >1507</td> \n",
       "        <td id=\"T_23c6fe36_4976_11e8_9bb7_8c85905f408erow3_col2\" class=\"data row3 col2\" >11.45%</td> \n",
       "    </tr>    <tr> \n",
       "        <th id=\"T_23c6fe36_4976_11e8_9bb7_8c85905f408elevel0_row4\" class=\"row_heading level0 row4\" >4</th> \n",
       "        <td id=\"T_23c6fe36_4976_11e8_9bb7_8c85905f408erow4_col0\" class=\"data row4 col0\" >Not sure</td> \n",
       "        <td id=\"T_23c6fe36_4976_11e8_9bb7_8c85905f408erow4_col1\" class=\"data row4 col1\" >806</td> \n",
       "        <td id=\"T_23c6fe36_4976_11e8_9bb7_8c85905f408erow4_col2\" class=\"data row4 col2\" >6.13%</td> \n",
       "    </tr></tbody> \n",
       "</table> "
      ],
      "text/plain": [
       "<pandas.io.formats.style.Styler at 0x115c797b8>"
      ]
     },
     "metadata": {},
     "output_type": "display_data"
    },
    {
     "data": {
      "text/plain": [
       "'V_21 : In my current role, I am:'"
      ]
     },
     "metadata": {},
     "output_type": "display_data"
    },
    {
     "data": {
      "text/html": [
       "<style  type=\"text/css\" >\n",
       "</style>  \n",
       "<table id=\"T_23c8a8ee_4976_11e8_a13e_8c85905f408e\" > \n",
       "<thead>    <tr> \n",
       "        <th class=\"blank level0\" ></th> \n",
       "        <th class=\"col_heading level0 col0\" >Options</th> \n",
       "        <th class=\"col_heading level0 col1\" >Count</th> \n",
       "        <th class=\"col_heading level0 col2\" >Percent</th> \n",
       "    </tr></thead> \n",
       "<tbody>    <tr> \n",
       "        <th id=\"T_23c8a8ee_4976_11e8_a13e_8c85905f408elevel0_row0\" class=\"row_heading level0 row0\" >0</th> \n",
       "        <td id=\"T_23c8a8ee_4976_11e8_a13e_8c85905f408erow0_col0\" class=\"data row0 col0\" >Learning some new skills</td> \n",
       "        <td id=\"T_23c8a8ee_4976_11e8_a13e_8c85905f408erow0_col1\" class=\"data row0 col1\" >5539</td> \n",
       "        <td id=\"T_23c8a8ee_4976_11e8_a13e_8c85905f408erow0_col2\" class=\"data row0 col2\" >42.10%</td> \n",
       "    </tr>    <tr> \n",
       "        <th id=\"T_23c8a8ee_4976_11e8_a13e_8c85905f408elevel0_row1\" class=\"row_heading level0 row1\" >1</th> \n",
       "        <td id=\"T_23c8a8ee_4976_11e8_a13e_8c85905f408erow1_col0\" class=\"data row1 col0\" >Learning and increasing my skill set every day</td> \n",
       "        <td id=\"T_23c8a8ee_4976_11e8_a13e_8c85905f408erow1_col1\" class=\"data row1 col1\" >5175</td> \n",
       "        <td id=\"T_23c8a8ee_4976_11e8_a13e_8c85905f408erow1_col2\" class=\"data row1 col2\" >39.33%</td> \n",
       "    </tr>    <tr> \n",
       "        <th id=\"T_23c8a8ee_4976_11e8_a13e_8c85905f408elevel0_row2\" class=\"row_heading level0 row2\" >2</th> \n",
       "        <td id=\"T_23c8a8ee_4976_11e8_a13e_8c85905f408erow2_col0\" class=\"data row2 col0\" >Learning very little</td> \n",
       "        <td id=\"T_23c8a8ee_4976_11e8_a13e_8c85905f408erow2_col1\" class=\"data row2 col1\" >1720</td> \n",
       "        <td id=\"T_23c8a8ee_4976_11e8_a13e_8c85905f408erow2_col2\" class=\"data row2 col2\" >13.07%</td> \n",
       "    </tr>    <tr> \n",
       "        <th id=\"T_23c8a8ee_4976_11e8_a13e_8c85905f408elevel0_row3\" class=\"row_heading level0 row3\" >3</th> \n",
       "        <td id=\"T_23c8a8ee_4976_11e8_a13e_8c85905f408erow3_col0\" class=\"data row3 col0\" >Learning nothing</td> \n",
       "        <td id=\"T_23c8a8ee_4976_11e8_a13e_8c85905f408erow3_col1\" class=\"data row3 col1\" >252</td> \n",
       "        <td id=\"T_23c8a8ee_4976_11e8_a13e_8c85905f408erow3_col2\" class=\"data row3 col2\" >1.92%</td> \n",
       "    </tr>    <tr> \n",
       "        <th id=\"T_23c8a8ee_4976_11e8_a13e_8c85905f408elevel0_row4\" class=\"row_heading level0 row4\" >4</th> \n",
       "        <td id=\"T_23c8a8ee_4976_11e8_a13e_8c85905f408erow4_col0\" class=\"data row4 col0\" >Not sure</td> \n",
       "        <td id=\"T_23c8a8ee_4976_11e8_a13e_8c85905f408erow4_col1\" class=\"data row4 col1\" >73</td> \n",
       "        <td id=\"T_23c8a8ee_4976_11e8_a13e_8c85905f408erow4_col2\" class=\"data row4 col2\" >0.55%</td> \n",
       "    </tr></tbody> \n",
       "</table> "
      ],
      "text/plain": [
       "<pandas.io.formats.style.Styler at 0x115cb1470>"
      ]
     },
     "metadata": {},
     "output_type": "display_data"
    },
    {
     "data": {
      "text/plain": [
       "'V_22 : My job is:'"
      ]
     },
     "metadata": {},
     "output_type": "display_data"
    },
    {
     "data": {
      "text/html": [
       "<style  type=\"text/css\" >\n",
       "</style>  \n",
       "<table id=\"T_23ca5bc6_4976_11e8_8900_8c85905f408e\" > \n",
       "<thead>    <tr> \n",
       "        <th class=\"blank level0\" ></th> \n",
       "        <th class=\"col_heading level0 col0\" >Options</th> \n",
       "        <th class=\"col_heading level0 col1\" >Count</th> \n",
       "        <th class=\"col_heading level0 col2\" >Percent</th> \n",
       "    </tr></thead> \n",
       "<tbody>    <tr> \n",
       "        <th id=\"T_23ca5bc6_4976_11e8_8900_8c85905f408elevel0_row0\" class=\"row_heading level0 row0\" >0</th> \n",
       "        <td id=\"T_23ca5bc6_4976_11e8_8900_8c85905f408erow0_col0\" class=\"data row0 col0\" >Pretty good</td> \n",
       "        <td id=\"T_23ca5bc6_4976_11e8_8900_8c85905f408erow0_col1\" class=\"data row0 col1\" >8175</td> \n",
       "        <td id=\"T_23ca5bc6_4976_11e8_8900_8c85905f408erow0_col2\" class=\"data row0 col2\" >62.13%</td> \n",
       "    </tr>    <tr> \n",
       "        <th id=\"T_23ca5bc6_4976_11e8_8900_8c85905f408elevel0_row1\" class=\"row_heading level0 row1\" >1</th> \n",
       "        <td id=\"T_23ca5bc6_4976_11e8_8900_8c85905f408erow1_col0\" class=\"data row1 col0\" >The best</td> \n",
       "        <td id=\"T_23ca5bc6_4976_11e8_8900_8c85905f408erow1_col1\" class=\"data row1 col1\" >2239</td> \n",
       "        <td id=\"T_23ca5bc6_4976_11e8_8900_8c85905f408erow1_col2\" class=\"data row1 col2\" >17.02%</td> \n",
       "    </tr>    <tr> \n",
       "        <th id=\"T_23ca5bc6_4976_11e8_8900_8c85905f408elevel0_row2\" class=\"row_heading level0 row2\" >2</th> \n",
       "        <td id=\"T_23ca5bc6_4976_11e8_8900_8c85905f408erow2_col0\" class=\"data row2 col0\" >Not great</td> \n",
       "        <td id=\"T_23ca5bc6_4976_11e8_8900_8c85905f408erow2_col1\" class=\"data row2 col1\" >1971</td> \n",
       "        <td id=\"T_23ca5bc6_4976_11e8_8900_8c85905f408erow2_col2\" class=\"data row2 col2\" >14.98%</td> \n",
       "    </tr>    <tr> \n",
       "        <th id=\"T_23ca5bc6_4976_11e8_8900_8c85905f408elevel0_row3\" class=\"row_heading level0 row3\" >3</th> \n",
       "        <td id=\"T_23ca5bc6_4976_11e8_8900_8c85905f408erow3_col0\" class=\"data row3 col0\" >Not sure</td> \n",
       "        <td id=\"T_23ca5bc6_4976_11e8_8900_8c85905f408erow3_col1\" class=\"data row3 col1\" >211</td> \n",
       "        <td id=\"T_23ca5bc6_4976_11e8_8900_8c85905f408erow3_col2\" class=\"data row3 col2\" >1.60%</td> \n",
       "    </tr>    <tr> \n",
       "        <th id=\"T_23ca5bc6_4976_11e8_8900_8c85905f408elevel0_row4\" class=\"row_heading level0 row4\" >4</th> \n",
       "        <td id=\"T_23ca5bc6_4976_11e8_8900_8c85905f408erow4_col0\" class=\"data row4 col0\" >The worst</td> \n",
       "        <td id=\"T_23ca5bc6_4976_11e8_8900_8c85905f408erow4_col1\" class=\"data row4 col1\" >163</td> \n",
       "        <td id=\"T_23ca5bc6_4976_11e8_8900_8c85905f408erow4_col2\" class=\"data row4 col2\" >1.24%</td> \n",
       "    </tr></tbody> \n",
       "</table> "
      ],
      "text/plain": [
       "<pandas.io.formats.style.Styler at 0x109185d68>"
      ]
     },
     "metadata": {},
     "output_type": "display_data"
    },
    {
     "data": {
      "text/plain": [
       "'V_23 : My job stability is:'"
      ]
     },
     "metadata": {},
     "output_type": "display_data"
    },
    {
     "data": {
      "text/html": [
       "<style  type=\"text/css\" >\n",
       "</style>  \n",
       "<table id=\"T_23cc2c94_4976_11e8_94df_8c85905f408e\" > \n",
       "<thead>    <tr> \n",
       "        <th class=\"blank level0\" ></th> \n",
       "        <th class=\"col_heading level0 col0\" >Options</th> \n",
       "        <th class=\"col_heading level0 col1\" >Count</th> \n",
       "        <th class=\"col_heading level0 col2\" >Percent</th> \n",
       "    </tr></thead> \n",
       "<tbody>    <tr> \n",
       "        <th id=\"T_23cc2c94_4976_11e8_94df_8c85905f408elevel0_row0\" class=\"row_heading level0 row0\" >0</th> \n",
       "        <td id=\"T_23cc2c94_4976_11e8_94df_8c85905f408erow0_col0\" class=\"data row0 col0\" >Fairly stable</td> \n",
       "        <td id=\"T_23cc2c94_4976_11e8_94df_8c85905f408erow0_col1\" class=\"data row0 col1\" >7297</td> \n",
       "        <td id=\"T_23cc2c94_4976_11e8_94df_8c85905f408erow0_col2\" class=\"data row0 col2\" >55.46%</td> \n",
       "    </tr>    <tr> \n",
       "        <th id=\"T_23cc2c94_4976_11e8_94df_8c85905f408elevel0_row1\" class=\"row_heading level0 row1\" >1</th> \n",
       "        <td id=\"T_23cc2c94_4976_11e8_94df_8c85905f408erow1_col0\" class=\"data row1 col0\" >Rock solid</td> \n",
       "        <td id=\"T_23cc2c94_4976_11e8_94df_8c85905f408erow1_col1\" class=\"data row1 col1\" >3220</td> \n",
       "        <td id=\"T_23cc2c94_4976_11e8_94df_8c85905f408erow1_col2\" class=\"data row1 col2\" >24.47%</td> \n",
       "    </tr>    <tr> \n",
       "        <th id=\"T_23cc2c94_4976_11e8_94df_8c85905f408elevel0_row2\" class=\"row_heading level0 row2\" >2</th> \n",
       "        <td id=\"T_23cc2c94_4976_11e8_94df_8c85905f408erow2_col0\" class=\"data row2 col0\" >Somewhat shaky</td> \n",
       "        <td id=\"T_23cc2c94_4976_11e8_94df_8c85905f408erow2_col1\" class=\"data row2 col1\" >1610</td> \n",
       "        <td id=\"T_23cc2c94_4976_11e8_94df_8c85905f408erow2_col2\" class=\"data row2 col2\" >12.24%</td> \n",
       "    </tr>    <tr> \n",
       "        <th id=\"T_23cc2c94_4976_11e8_94df_8c85905f408elevel0_row3\" class=\"row_heading level0 row3\" >3</th> \n",
       "        <td id=\"T_23cc2c94_4976_11e8_94df_8c85905f408erow3_col0\" class=\"data row3 col0\" >Non-existent</td> \n",
       "        <td id=\"T_23cc2c94_4976_11e8_94df_8c85905f408erow3_col1\" class=\"data row3 col1\" >434</td> \n",
       "        <td id=\"T_23cc2c94_4976_11e8_94df_8c85905f408erow3_col2\" class=\"data row3 col2\" >3.30%</td> \n",
       "    </tr>    <tr> \n",
       "        <th id=\"T_23cc2c94_4976_11e8_94df_8c85905f408elevel0_row4\" class=\"row_heading level0 row4\" >4</th> \n",
       "        <td id=\"T_23cc2c94_4976_11e8_94df_8c85905f408erow4_col0\" class=\"data row4 col0\" >Not sure</td> \n",
       "        <td id=\"T_23cc2c94_4976_11e8_94df_8c85905f408erow4_col1\" class=\"data row4 col1\" >198</td> \n",
       "        <td id=\"T_23cc2c94_4976_11e8_94df_8c85905f408erow4_col2\" class=\"data row4 col2\" >1.50%</td> \n",
       "    </tr></tbody> \n",
       "</table> "
      ],
      "text/plain": [
       "<pandas.io.formats.style.Styler at 0x1096ab550>"
      ]
     },
     "metadata": {},
     "output_type": "display_data"
    },
    {
     "data": {
      "text/plain": [
       "'V_24 : In addition to my job, I also:'"
      ]
     },
     "metadata": {},
     "output_type": "display_data"
    },
    {
     "data": {
      "text/html": [
       "<style  type=\"text/css\" >\n",
       "</style>  \n",
       "<table id=\"T_23d13db0_4976_11e8_8fe0_8c85905f408e\" > \n",
       "<thead>    <tr> \n",
       "        <th class=\"blank level0\" ></th> \n",
       "        <th class=\"col_heading level0 col0\" >Options</th> \n",
       "        <th class=\"col_heading level0 col1\" >Count</th> \n",
       "        <th class=\"col_heading level0 col2\" >Percent</th> \n",
       "    </tr></thead> \n",
       "<tbody>    <tr> \n",
       "        <th id=\"T_23d13db0_4976_11e8_8fe0_8c85905f408elevel0_row0\" class=\"row_heading level0 row0\" >3</th> \n",
       "        <td id=\"T_23d13db0_4976_11e8_8fe0_8c85905f408erow0_col0\" class=\"data row0 col0\" >Design for friends and family</td> \n",
       "        <td id=\"T_23d13db0_4976_11e8_8fe0_8c85905f408erow0_col1\" class=\"data row0 col1\" >7098</td> \n",
       "        <td id=\"T_23d13db0_4976_11e8_8fe0_8c85905f408erow0_col2\" class=\"data row0 col2\" >53.94%</td> \n",
       "    </tr>    <tr> \n",
       "        <th id=\"T_23d13db0_4976_11e8_8fe0_8c85905f408elevel0_row1\" class=\"row_heading level0 row1\" >0</th> \n",
       "        <td id=\"T_23d13db0_4976_11e8_8fe0_8c85905f408erow1_col0\" class=\"data row1 col0\" >Maintain personal projects</td> \n",
       "        <td id=\"T_23d13db0_4976_11e8_8fe0_8c85905f408erow1_col1\" class=\"data row1 col1\" >6959</td> \n",
       "        <td id=\"T_23d13db0_4976_11e8_8fe0_8c85905f408erow1_col2\" class=\"data row1 col2\" >52.89%</td> \n",
       "    </tr>    <tr> \n",
       "        <th id=\"T_23d13db0_4976_11e8_8fe0_8c85905f408elevel0_row2\" class=\"row_heading level0 row2\" >2</th> \n",
       "        <td id=\"T_23d13db0_4976_11e8_8fe0_8c85905f408erow2_col0\" class=\"data row2 col0\" >Take occasional freelance projects</td> \n",
       "        <td id=\"T_23d13db0_4976_11e8_8fe0_8c85905f408erow2_col1\" class=\"data row2 col1\" >6266</td> \n",
       "        <td id=\"T_23d13db0_4976_11e8_8fe0_8c85905f408erow2_col2\" class=\"data row2 col2\" >47.62%</td> \n",
       "    </tr>    <tr> \n",
       "        <th id=\"T_23d13db0_4976_11e8_8fe0_8c85905f408elevel0_row3\" class=\"row_heading level0 row3\" >5</th> \n",
       "        <td id=\"T_23d13db0_4976_11e8_8fe0_8c85905f408erow3_col0\" class=\"data row3 col0\" >Volunteer</td> \n",
       "        <td id=\"T_23d13db0_4976_11e8_8fe0_8c85905f408erow3_col1\" class=\"data row3 col1\" >4081</td> \n",
       "        <td id=\"T_23d13db0_4976_11e8_8fe0_8c85905f408erow3_col2\" class=\"data row3 col2\" >31.02%</td> \n",
       "    </tr>    <tr> \n",
       "        <th id=\"T_23d13db0_4976_11e8_8fe0_8c85905f408elevel0_row4\" class=\"row_heading level0 row4\" >7</th> \n",
       "        <td id=\"T_23d13db0_4976_11e8_8fe0_8c85905f408erow4_col0\" class=\"data row4 col0\" >Have regular freelance clients</td> \n",
       "        <td id=\"T_23d13db0_4976_11e8_8fe0_8c85905f408erow4_col1\" class=\"data row4 col1\" >2184</td> \n",
       "        <td id=\"T_23d13db0_4976_11e8_8fe0_8c85905f408erow4_col2\" class=\"data row4 col2\" >16.60%</td> \n",
       "    </tr></tbody> \n",
       "</table> "
      ],
      "text/plain": [
       "<pandas.io.formats.style.Styler at 0x115caffd0>"
      ]
     },
     "metadata": {},
     "output_type": "display_data"
    },
    {
     "data": {
      "text/plain": [
       "'V_25 : I fuel my daily creativity with coffee:'"
      ]
     },
     "metadata": {},
     "output_type": "display_data"
    },
    {
     "data": {
      "text/html": [
       "<style  type=\"text/css\" >\n",
       "</style>  \n",
       "<table id=\"T_23d2eb62_4976_11e8_a0a4_8c85905f408e\" > \n",
       "<thead>    <tr> \n",
       "        <th class=\"blank level0\" ></th> \n",
       "        <th class=\"col_heading level0 col0\" >Options</th> \n",
       "        <th class=\"col_heading level0 col1\" >Count</th> \n",
       "        <th class=\"col_heading level0 col2\" >Percent</th> \n",
       "    </tr></thead> \n",
       "<tbody>    <tr> \n",
       "        <th id=\"T_23d2eb62_4976_11e8_a0a4_8c85905f408elevel0_row0\" class=\"row_heading level0 row0\" >0</th> \n",
       "        <td id=\"T_23d2eb62_4976_11e8_a0a4_8c85905f408erow0_col0\" class=\"data row0 col0\" >1-2 cups</td> \n",
       "        <td id=\"T_23d2eb62_4976_11e8_a0a4_8c85905f408erow0_col1\" class=\"data row0 col1\" >6279</td> \n",
       "        <td id=\"T_23d2eb62_4976_11e8_a0a4_8c85905f408erow0_col2\" class=\"data row0 col2\" >47.72%</td> \n",
       "    </tr>    <tr> \n",
       "        <th id=\"T_23d2eb62_4976_11e8_a0a4_8c85905f408elevel0_row1\" class=\"row_heading level0 row1\" >1</th> \n",
       "        <td id=\"T_23d2eb62_4976_11e8_a0a4_8c85905f408erow1_col0\" class=\"data row1 col0\" >3-4 cups</td> \n",
       "        <td id=\"T_23d2eb62_4976_11e8_a0a4_8c85905f408erow1_col1\" class=\"data row1 col1\" >2449</td> \n",
       "        <td id=\"T_23d2eb62_4976_11e8_a0a4_8c85905f408erow1_col2\" class=\"data row1 col2\" >18.61%</td> \n",
       "    </tr>    <tr> \n",
       "        <th id=\"T_23d2eb62_4976_11e8_a0a4_8c85905f408elevel0_row2\" class=\"row_heading level0 row2\" >2</th> \n",
       "        <td id=\"T_23d2eb62_4976_11e8_a0a4_8c85905f408erow2_col0\" class=\"data row2 col0\" >No way, tea</td> \n",
       "        <td id=\"T_23d2eb62_4976_11e8_a0a4_8c85905f408erow2_col1\" class=\"data row2 col1\" >2252</td> \n",
       "        <td id=\"T_23d2eb62_4976_11e8_a0a4_8c85905f408erow2_col2\" class=\"data row2 col2\" >17.12%</td> \n",
       "    </tr>    <tr> \n",
       "        <th id=\"T_23d2eb62_4976_11e8_a0a4_8c85905f408elevel0_row3\" class=\"row_heading level0 row3\" >3</th> \n",
       "        <td id=\"T_23d2eb62_4976_11e8_a0a4_8c85905f408erow3_col0\" class=\"data row3 col0\" >Other</td> \n",
       "        <td id=\"T_23d2eb62_4976_11e8_a0a4_8c85905f408erow3_col1\" class=\"data row3 col1\" >1542</td> \n",
       "        <td id=\"T_23d2eb62_4976_11e8_a0a4_8c85905f408erow3_col2\" class=\"data row3 col2\" >11.72%</td> \n",
       "    </tr>    <tr> \n",
       "        <th id=\"T_23d2eb62_4976_11e8_a0a4_8c85905f408elevel0_row4\" class=\"row_heading level0 row4\" >4</th> \n",
       "        <td id=\"T_23d2eb62_4976_11e8_a0a4_8c85905f408erow4_col0\" class=\"data row4 col0\" >5-6 cups</td> \n",
       "        <td id=\"T_23d2eb62_4976_11e8_a0a4_8c85905f408erow4_col1\" class=\"data row4 col1\" >483</td> \n",
       "        <td id=\"T_23d2eb62_4976_11e8_a0a4_8c85905f408erow4_col2\" class=\"data row4 col2\" >3.67%</td> \n",
       "    </tr></tbody> \n",
       "</table> "
      ],
      "text/plain": [
       "<pandas.io.formats.style.Styler at 0x1078d3cf8>"
      ]
     },
     "metadata": {},
     "output_type": "display_data"
    },
    {
     "data": {
      "text/plain": [
       "\"V_26 : Highest level of education I've completed:\""
      ]
     },
     "metadata": {},
     "output_type": "display_data"
    },
    {
     "data": {
      "text/html": [
       "<style  type=\"text/css\" >\n",
       "</style>  \n",
       "<table id=\"T_23d4a770_4976_11e8_8323_8c85905f408e\" > \n",
       "<thead>    <tr> \n",
       "        <th class=\"blank level0\" ></th> \n",
       "        <th class=\"col_heading level0 col0\" >Options</th> \n",
       "        <th class=\"col_heading level0 col1\" >Count</th> \n",
       "        <th class=\"col_heading level0 col2\" >Percent</th> \n",
       "    </tr></thead> \n",
       "<tbody>    <tr> \n",
       "        <th id=\"T_23d4a770_4976_11e8_8323_8c85905f408elevel0_row0\" class=\"row_heading level0 row0\" >0</th> \n",
       "        <td id=\"T_23d4a770_4976_11e8_8323_8c85905f408erow0_col0\" class=\"data row0 col0\" >Bachelor's degree</td> \n",
       "        <td id=\"T_23d4a770_4976_11e8_8323_8c85905f408erow0_col1\" class=\"data row0 col1\" >9015</td> \n",
       "        <td id=\"T_23d4a770_4976_11e8_8323_8c85905f408erow0_col2\" class=\"data row0 col2\" >68.51%</td> \n",
       "    </tr>    <tr> \n",
       "        <th id=\"T_23d4a770_4976_11e8_8323_8c85905f408elevel0_row1\" class=\"row_heading level0 row1\" >1</th> \n",
       "        <td id=\"T_23d4a770_4976_11e8_8323_8c85905f408erow1_col0\" class=\"data row1 col0\" >Master's degree</td> \n",
       "        <td id=\"T_23d4a770_4976_11e8_8323_8c85905f408erow1_col1\" class=\"data row1 col1\" >2217</td> \n",
       "        <td id=\"T_23d4a770_4976_11e8_8323_8c85905f408erow1_col2\" class=\"data row1 col2\" >16.85%</td> \n",
       "    </tr>    <tr> \n",
       "        <th id=\"T_23d4a770_4976_11e8_8323_8c85905f408elevel0_row2\" class=\"row_heading level0 row2\" >2</th> \n",
       "        <td id=\"T_23d4a770_4976_11e8_8323_8c85905f408erow2_col0\" class=\"data row2 col0\" >Some college</td> \n",
       "        <td id=\"T_23d4a770_4976_11e8_8323_8c85905f408erow2_col1\" class=\"data row2 col1\" >710</td> \n",
       "        <td id=\"T_23d4a770_4976_11e8_8323_8c85905f408erow2_col2\" class=\"data row2 col2\" >5.40%</td> \n",
       "    </tr>    <tr> \n",
       "        <th id=\"T_23d4a770_4976_11e8_8323_8c85905f408elevel0_row3\" class=\"row_heading level0 row3\" >3</th> \n",
       "        <td id=\"T_23d4a770_4976_11e8_8323_8c85905f408erow3_col0\" class=\"data row3 col0\" >Associate's degree</td> \n",
       "        <td id=\"T_23d4a770_4976_11e8_8323_8c85905f408erow3_col1\" class=\"data row3 col1\" >579</td> \n",
       "        <td id=\"T_23d4a770_4976_11e8_8323_8c85905f408erow3_col2\" class=\"data row3 col2\" >4.40%</td> \n",
       "    </tr>    <tr> \n",
       "        <th id=\"T_23d4a770_4976_11e8_8323_8c85905f408elevel0_row4\" class=\"row_heading level0 row4\" >4</th> \n",
       "        <td id=\"T_23d4a770_4976_11e8_8323_8c85905f408erow4_col0\" class=\"data row4 col0\" >Technical degree or certificate</td> \n",
       "        <td id=\"T_23d4a770_4976_11e8_8323_8c85905f408erow4_col1\" class=\"data row4 col1\" >304</td> \n",
       "        <td id=\"T_23d4a770_4976_11e8_8323_8c85905f408erow4_col2\" class=\"data row4 col2\" >2.31%</td> \n",
       "    </tr></tbody> \n",
       "</table> "
      ],
      "text/plain": [
       "<pandas.io.formats.style.Styler at 0x1096ac828>"
      ]
     },
     "metadata": {},
     "output_type": "display_data"
    },
    {
     "data": {
      "text/plain": [
       "'V_27 : I learned design:'"
      ]
     },
     "metadata": {},
     "output_type": "display_data"
    },
    {
     "data": {
      "text/html": [
       "<style  type=\"text/css\" >\n",
       "</style>  \n",
       "<table id=\"T_23d8e7ae_4976_11e8_858c_8c85905f408e\" > \n",
       "<thead>    <tr> \n",
       "        <th class=\"blank level0\" ></th> \n",
       "        <th class=\"col_heading level0 col0\" >Options</th> \n",
       "        <th class=\"col_heading level0 col1\" >Count</th> \n",
       "        <th class=\"col_heading level0 col2\" >Percent</th> \n",
       "    </tr></thead> \n",
       "<tbody>    <tr> \n",
       "        <th id=\"T_23d8e7ae_4976_11e8_858c_8c85905f408elevel0_row0\" class=\"row_heading level0 row0\" >2</th> \n",
       "        <td id=\"T_23d8e7ae_4976_11e8_858c_8c85905f408erow0_col0\" class=\"data row0 col0\" >In school</td> \n",
       "        <td id=\"T_23d8e7ae_4976_11e8_858c_8c85905f408erow0_col1\" class=\"data row0 col1\" >10560</td> \n",
       "        <td id=\"T_23d8e7ae_4976_11e8_858c_8c85905f408erow0_col2\" class=\"data row0 col2\" >80.26%</td> \n",
       "    </tr>    <tr> \n",
       "        <th id=\"T_23d8e7ae_4976_11e8_858c_8c85905f408elevel0_row1\" class=\"row_heading level0 row1\" >3</th> \n",
       "        <td id=\"T_23d8e7ae_4976_11e8_858c_8c85905f408erow1_col0\" class=\"data row1 col0\" >On the job</td> \n",
       "        <td id=\"T_23d8e7ae_4976_11e8_858c_8c85905f408erow1_col1\" class=\"data row1 col1\" >9215</td> \n",
       "        <td id=\"T_23d8e7ae_4976_11e8_858c_8c85905f408erow1_col2\" class=\"data row1 col2\" >70.03%</td> \n",
       "    </tr>    <tr> \n",
       "        <th id=\"T_23d8e7ae_4976_11e8_858c_8c85905f408elevel0_row2\" class=\"row_heading level0 row2\" >5</th> \n",
       "        <td id=\"T_23d8e7ae_4976_11e8_858c_8c85905f408erow2_col0\" class=\"data row2 col0\" >On my own</td> \n",
       "        <td id=\"T_23d8e7ae_4976_11e8_858c_8c85905f408erow2_col1\" class=\"data row2 col1\" >8419</td> \n",
       "        <td id=\"T_23d8e7ae_4976_11e8_858c_8c85905f408erow2_col2\" class=\"data row2 col2\" >63.98%</td> \n",
       "    </tr>    <tr> \n",
       "        <th id=\"T_23d8e7ae_4976_11e8_858c_8c85905f408elevel0_row3\" class=\"row_heading level0 row3\" >4</th> \n",
       "        <td id=\"T_23d8e7ae_4976_11e8_858c_8c85905f408erow3_col0\" class=\"data row3 col0\" >From programs or workshops</td> \n",
       "        <td id=\"T_23d8e7ae_4976_11e8_858c_8c85905f408erow3_col1\" class=\"data row3 col1\" >4769</td> \n",
       "        <td id=\"T_23d8e7ae_4976_11e8_858c_8c85905f408erow3_col2\" class=\"data row3 col2\" >36.24%</td> \n",
       "    </tr>    <tr> \n",
       "        <th id=\"T_23d8e7ae_4976_11e8_858c_8c85905f408elevel0_row4\" class=\"row_heading level0 row4\" >1</th> \n",
       "        <td id=\"T_23d8e7ae_4976_11e8_858c_8c85905f408erow4_col0\" class=\"data row4 col0\" >Through online training</td> \n",
       "        <td id=\"T_23d8e7ae_4976_11e8_858c_8c85905f408erow4_col1\" class=\"data row4 col1\" >4157</td> \n",
       "        <td id=\"T_23d8e7ae_4976_11e8_858c_8c85905f408erow4_col2\" class=\"data row4 col2\" >31.59%</td> \n",
       "    </tr></tbody> \n",
       "</table> "
      ],
      "text/plain": [
       "<pandas.io.formats.style.Styler at 0x1078d3b70>"
      ]
     },
     "metadata": {},
     "output_type": "display_data"
    },
    {
     "data": {
      "text/plain": [
       "'V_28 : My major focus of study was:'"
      ]
     },
     "metadata": {},
     "output_type": "display_data"
    },
    {
     "data": {
      "text/html": [
       "<style  type=\"text/css\" >\n",
       "</style>  \n",
       "<table id=\"T_23e70ae6_4976_11e8_ae9a_8c85905f408e\" > \n",
       "<thead>    <tr> \n",
       "        <th class=\"blank level0\" ></th> \n",
       "        <th class=\"col_heading level0 col0\" >Options</th> \n",
       "        <th class=\"col_heading level0 col1\" >Count</th> \n",
       "        <th class=\"col_heading level0 col2\" >Percent</th> \n",
       "    </tr></thead> \n",
       "<tbody>    <tr> \n",
       "        <th id=\"T_23e70ae6_4976_11e8_ae9a_8c85905f408elevel0_row0\" class=\"row_heading level0 row0\" >17</th> \n",
       "        <td id=\"T_23e70ae6_4976_11e8_ae9a_8c85905f408erow0_col0\" class=\"data row0 col0\" >Graphic Design</td> \n",
       "        <td id=\"T_23e70ae6_4976_11e8_ae9a_8c85905f408erow0_col1\" class=\"data row0 col1\" >8911</td> \n",
       "        <td id=\"T_23e70ae6_4976_11e8_ae9a_8c85905f408erow0_col2\" class=\"data row0 col2\" >67.72%</td> \n",
       "    </tr>    <tr> \n",
       "        <th id=\"T_23e70ae6_4976_11e8_ae9a_8c85905f408elevel0_row1\" class=\"row_heading level0 row1\" >10</th> \n",
       "        <td id=\"T_23e70ae6_4976_11e8_ae9a_8c85905f408erow1_col0\" class=\"data row1 col0\" >Art</td> \n",
       "        <td id=\"T_23e70ae6_4976_11e8_ae9a_8c85905f408erow1_col1\" class=\"data row1 col1\" >2957</td> \n",
       "        <td id=\"T_23e70ae6_4976_11e8_ae9a_8c85905f408erow1_col2\" class=\"data row1 col2\" >22.47%</td> \n",
       "    </tr>    <tr> \n",
       "        <th id=\"T_23e70ae6_4976_11e8_ae9a_8c85905f408elevel0_row2\" class=\"row_heading level0 row2\" >6</th> \n",
       "        <td id=\"T_23e70ae6_4976_11e8_ae9a_8c85905f408erow2_col0\" class=\"data row2 col0\" >Visual Design</td> \n",
       "        <td id=\"T_23e70ae6_4976_11e8_ae9a_8c85905f408erow2_col1\" class=\"data row2 col1\" >2552</td> \n",
       "        <td id=\"T_23e70ae6_4976_11e8_ae9a_8c85905f408erow2_col2\" class=\"data row2 col2\" >19.40%</td> \n",
       "    </tr>    <tr> \n",
       "        <th id=\"T_23e70ae6_4976_11e8_ae9a_8c85905f408elevel0_row3\" class=\"row_heading level0 row3\" >18</th> \n",
       "        <td id=\"T_23e70ae6_4976_11e8_ae9a_8c85905f408erow3_col0\" class=\"data row3 col0\" >Website Design</td> \n",
       "        <td id=\"T_23e70ae6_4976_11e8_ae9a_8c85905f408erow3_col1\" class=\"data row3 col1\" >2211</td> \n",
       "        <td id=\"T_23e70ae6_4976_11e8_ae9a_8c85905f408erow3_col2\" class=\"data row3 col2\" >16.80%</td> \n",
       "    </tr>    <tr> \n",
       "        <th id=\"T_23e70ae6_4976_11e8_ae9a_8c85905f408elevel0_row4\" class=\"row_heading level0 row4\" >13</th> \n",
       "        <td id=\"T_23e70ae6_4976_11e8_ae9a_8c85905f408erow4_col0\" class=\"data row4 col0\" >Design and Technology</td> \n",
       "        <td id=\"T_23e70ae6_4976_11e8_ae9a_8c85905f408erow4_col1\" class=\"data row4 col1\" >2166</td> \n",
       "        <td id=\"T_23e70ae6_4976_11e8_ae9a_8c85905f408erow4_col2\" class=\"data row4 col2\" >16.46%</td> \n",
       "    </tr></tbody> \n",
       "</table> "
      ],
      "text/plain": [
       "<pandas.io.formats.style.Styler at 0x1078d3b70>"
      ]
     },
     "metadata": {},
     "output_type": "display_data"
    },
    {
     "data": {
      "text/plain": [
       "\"V_29 : Over my career, I've had:\""
      ]
     },
     "metadata": {},
     "output_type": "display_data"
    },
    {
     "data": {
      "text/html": [
       "<style  type=\"text/css\" >\n",
       "</style>  \n",
       "<table id=\"T_23e85d38_4976_11e8_a6e9_8c85905f408e\" > \n",
       "<thead>    <tr> \n",
       "        <th class=\"blank level0\" ></th> \n",
       "        <th class=\"col_heading level0 col0\" >Options</th> \n",
       "        <th class=\"col_heading level0 col1\" >Count</th> \n",
       "        <th class=\"col_heading level0 col2\" >Percent</th> \n",
       "    </tr></thead> \n",
       "<tbody>    <tr> \n",
       "        <th id=\"T_23e85d38_4976_11e8_a6e9_8c85905f408elevel0_row0\" class=\"row_heading level0 row0\" >0</th> \n",
       "        <td id=\"T_23e85d38_4976_11e8_a6e9_8c85905f408erow0_col0\" class=\"data row0 col0\" >2-3 design jobs</td> \n",
       "        <td id=\"T_23e85d38_4976_11e8_a6e9_8c85905f408erow0_col1\" class=\"data row0 col1\" >5951</td> \n",
       "        <td id=\"T_23e85d38_4976_11e8_a6e9_8c85905f408erow0_col2\" class=\"data row0 col2\" >45.23%</td> \n",
       "    </tr>    <tr> \n",
       "        <th id=\"T_23e85d38_4976_11e8_a6e9_8c85905f408elevel0_row1\" class=\"row_heading level0 row1\" >1</th> \n",
       "        <td id=\"T_23e85d38_4976_11e8_a6e9_8c85905f408erow1_col0\" class=\"data row1 col0\" >4-5 design jobs</td> \n",
       "        <td id=\"T_23e85d38_4976_11e8_a6e9_8c85905f408erow1_col1\" class=\"data row1 col1\" >3187</td> \n",
       "        <td id=\"T_23e85d38_4976_11e8_a6e9_8c85905f408erow1_col2\" class=\"data row1 col2\" >24.22%</td> \n",
       "    </tr>    <tr> \n",
       "        <th id=\"T_23e85d38_4976_11e8_a6e9_8c85905f408elevel0_row2\" class=\"row_heading level0 row2\" >2</th> \n",
       "        <td id=\"T_23e85d38_4976_11e8_a6e9_8c85905f408erow2_col0\" class=\"data row2 col0\" >1 design job</td> \n",
       "        <td id=\"T_23e85d38_4976_11e8_a6e9_8c85905f408erow2_col1\" class=\"data row2 col1\" >1939</td> \n",
       "        <td id=\"T_23e85d38_4976_11e8_a6e9_8c85905f408erow2_col2\" class=\"data row2 col2\" >14.74%</td> \n",
       "    </tr>    <tr> \n",
       "        <th id=\"T_23e85d38_4976_11e8_a6e9_8c85905f408elevel0_row3\" class=\"row_heading level0 row3\" >3</th> \n",
       "        <td id=\"T_23e85d38_4976_11e8_a6e9_8c85905f408erow3_col0\" class=\"data row3 col0\" >6-7 design jobs</td> \n",
       "        <td id=\"T_23e85d38_4976_11e8_a6e9_8c85905f408erow3_col1\" class=\"data row3 col1\" >1076</td> \n",
       "        <td id=\"T_23e85d38_4976_11e8_a6e9_8c85905f408erow3_col2\" class=\"data row3 col2\" >8.18%</td> \n",
       "    </tr>    <tr> \n",
       "        <th id=\"T_23e85d38_4976_11e8_a6e9_8c85905f408elevel0_row4\" class=\"row_heading level0 row4\" >4</th> \n",
       "        <td id=\"T_23e85d38_4976_11e8_a6e9_8c85905f408erow4_col0\" class=\"data row4 col0\" >10+ design jobs</td> \n",
       "        <td id=\"T_23e85d38_4976_11e8_a6e9_8c85905f408erow4_col1\" class=\"data row4 col1\" >584</td> \n",
       "        <td id=\"T_23e85d38_4976_11e8_a6e9_8c85905f408erow4_col2\" class=\"data row4 col2\" >4.44%</td> \n",
       "    </tr></tbody> \n",
       "</table> "
      ],
      "text/plain": [
       "<pandas.io.formats.style.Styler at 0x109448da0>"
      ]
     },
     "metadata": {},
     "output_type": "display_data"
    },
    {
     "data": {
      "text/plain": [
       "\"V_30 : I've shifted my specialty or focus area:\""
      ]
     },
     "metadata": {},
     "output_type": "display_data"
    },
    {
     "data": {
      "text/html": [
       "<style  type=\"text/css\" >\n",
       "</style>  \n",
       "<table id=\"T_23e9e786_4976_11e8_ab04_8c85905f408e\" > \n",
       "<thead>    <tr> \n",
       "        <th class=\"blank level0\" ></th> \n",
       "        <th class=\"col_heading level0 col0\" >Options</th> \n",
       "        <th class=\"col_heading level0 col1\" >Count</th> \n",
       "        <th class=\"col_heading level0 col2\" >Percent</th> \n",
       "    </tr></thead> \n",
       "<tbody>    <tr> \n",
       "        <th id=\"T_23e9e786_4976_11e8_ab04_8c85905f408elevel0_row0\" class=\"row_heading level0 row0\" >0</th> \n",
       "        <td id=\"T_23e9e786_4976_11e8_ab04_8c85905f408erow0_col0\" class=\"data row0 col0\" >1-2 times</td> \n",
       "        <td id=\"T_23e9e786_4976_11e8_ab04_8c85905f408erow0_col1\" class=\"data row0 col1\" >6502</td> \n",
       "        <td id=\"T_23e9e786_4976_11e8_ab04_8c85905f408erow0_col2\" class=\"data row0 col2\" >49.41%</td> \n",
       "    </tr>    <tr> \n",
       "        <th id=\"T_23e9e786_4976_11e8_ab04_8c85905f408elevel0_row1\" class=\"row_heading level0 row1\" >1</th> \n",
       "        <td id=\"T_23e9e786_4976_11e8_ab04_8c85905f408erow1_col0\" class=\"data row1 col0\" >0 times</td> \n",
       "        <td id=\"T_23e9e786_4976_11e8_ab04_8c85905f408erow1_col1\" class=\"data row1 col1\" >3129</td> \n",
       "        <td id=\"T_23e9e786_4976_11e8_ab04_8c85905f408erow1_col2\" class=\"data row1 col2\" >23.78%</td> \n",
       "    </tr>    <tr> \n",
       "        <th id=\"T_23e9e786_4976_11e8_ab04_8c85905f408elevel0_row2\" class=\"row_heading level0 row2\" >2</th> \n",
       "        <td id=\"T_23e9e786_4976_11e8_ab04_8c85905f408erow2_col0\" class=\"data row2 col0\" >3-4 times</td> \n",
       "        <td id=\"T_23e9e786_4976_11e8_ab04_8c85905f408erow2_col1\" class=\"data row2 col1\" >1242</td> \n",
       "        <td id=\"T_23e9e786_4976_11e8_ab04_8c85905f408erow2_col2\" class=\"data row2 col2\" >9.44%</td> \n",
       "    </tr>    <tr> \n",
       "        <th id=\"T_23e9e786_4976_11e8_ab04_8c85905f408elevel0_row3\" class=\"row_heading level0 row3\" >3</th> \n",
       "        <td id=\"T_23e9e786_4976_11e8_ab04_8c85905f408erow3_col0\" class=\"data row3 col0\" >Slowly over time</td> \n",
       "        <td id=\"T_23e9e786_4976_11e8_ab04_8c85905f408erow3_col1\" class=\"data row3 col1\" >1170</td> \n",
       "        <td id=\"T_23e9e786_4976_11e8_ab04_8c85905f408erow3_col2\" class=\"data row3 col2\" >8.89%</td> \n",
       "    </tr>    <tr> \n",
       "        <th id=\"T_23e9e786_4976_11e8_ab04_8c85905f408elevel0_row4\" class=\"row_heading level0 row4\" >4</th> \n",
       "        <td id=\"T_23e9e786_4976_11e8_ab04_8c85905f408erow4_col0\" class=\"data row4 col0\" >Always ready for what's next</td> \n",
       "        <td id=\"T_23e9e786_4976_11e8_ab04_8c85905f408erow4_col1\" class=\"data row4 col1\" >1115</td> \n",
       "        <td id=\"T_23e9e786_4976_11e8_ab04_8c85905f408erow4_col2\" class=\"data row4 col2\" >8.47%</td> \n",
       "    </tr></tbody> \n",
       "</table> "
      ],
      "text/plain": [
       "<pandas.io.formats.style.Styler at 0x115c865c0>"
      ]
     },
     "metadata": {},
     "output_type": "display_data"
    },
    {
     "data": {
      "text/plain": [
       "'V_31 : I stay current with design by:'"
      ]
     },
     "metadata": {},
     "output_type": "display_data"
    },
    {
     "data": {
      "text/html": [
       "<style  type=\"text/css\" >\n",
       "</style>  \n",
       "<table id=\"T_23ef3176_4976_11e8_b111_8c85905f408e\" > \n",
       "<thead>    <tr> \n",
       "        <th class=\"blank level0\" ></th> \n",
       "        <th class=\"col_heading level0 col0\" >Options</th> \n",
       "        <th class=\"col_heading level0 col1\" >Count</th> \n",
       "        <th class=\"col_heading level0 col2\" >Percent</th> \n",
       "    </tr></thead> \n",
       "<tbody>    <tr> \n",
       "        <th id=\"T_23ef3176_4976_11e8_b111_8c85905f408elevel0_row0\" class=\"row_heading level0 row0\" >2</th> \n",
       "        <td id=\"T_23ef3176_4976_11e8_b111_8c85905f408erow0_col0\" class=\"data row0 col0\" >Following design feeds</td> \n",
       "        <td id=\"T_23ef3176_4976_11e8_b111_8c85905f408erow0_col1\" class=\"data row0 col1\" >10656</td> \n",
       "        <td id=\"T_23ef3176_4976_11e8_b111_8c85905f408erow0_col2\" class=\"data row0 col2\" >80.98%</td> \n",
       "    </tr>    <tr> \n",
       "        <th id=\"T_23ef3176_4976_11e8_b111_8c85905f408elevel0_row1\" class=\"row_heading level0 row1\" >4</th> \n",
       "        <td id=\"T_23ef3176_4976_11e8_b111_8c85905f408erow1_col0\" class=\"data row1 col0\" >Reading online publications</td> \n",
       "        <td id=\"T_23ef3176_4976_11e8_b111_8c85905f408erow1_col1\" class=\"data row1 col1\" >10048</td> \n",
       "        <td id=\"T_23ef3176_4976_11e8_b111_8c85905f408erow1_col2\" class=\"data row1 col2\" >76.36%</td> \n",
       "    </tr>    <tr> \n",
       "        <th id=\"T_23ef3176_4976_11e8_b111_8c85905f408elevel0_row2\" class=\"row_heading level0 row2\" >5</th> \n",
       "        <td id=\"T_23ef3176_4976_11e8_b111_8c85905f408erow2_col0\" class=\"data row2 col0\" >Following social media</td> \n",
       "        <td id=\"T_23ef3176_4976_11e8_b111_8c85905f408erow2_col1\" class=\"data row2 col1\" >9636</td> \n",
       "        <td id=\"T_23ef3176_4976_11e8_b111_8c85905f408erow2_col2\" class=\"data row2 col2\" >73.23%</td> \n",
       "    </tr>    <tr> \n",
       "        <th id=\"T_23ef3176_4976_11e8_b111_8c85905f408elevel0_row3\" class=\"row_heading level0 row3\" >3</th> \n",
       "        <td id=\"T_23ef3176_4976_11e8_b111_8c85905f408erow3_col0\" class=\"data row3 col0\" >Discussing with peers</td> \n",
       "        <td id=\"T_23ef3176_4976_11e8_b111_8c85905f408erow3_col1\" class=\"data row3 col1\" >9173</td> \n",
       "        <td id=\"T_23ef3176_4976_11e8_b111_8c85905f408erow3_col2\" class=\"data row3 col2\" >69.71%</td> \n",
       "    </tr>    <tr> \n",
       "        <th id=\"T_23ef3176_4976_11e8_b111_8c85905f408elevel0_row4\" class=\"row_heading level0 row4\" >0</th> \n",
       "        <td id=\"T_23ef3176_4976_11e8_b111_8c85905f408erow4_col0\" class=\"data row4 col0\" >Reading books/magazines</td> \n",
       "        <td id=\"T_23ef3176_4976_11e8_b111_8c85905f408erow4_col1\" class=\"data row4 col1\" >7456</td> \n",
       "        <td id=\"T_23ef3176_4976_11e8_b111_8c85905f408erow4_col2\" class=\"data row4 col2\" >56.67%</td> \n",
       "    </tr></tbody> \n",
       "</table> "
      ],
      "text/plain": [
       "<pandas.io.formats.style.Styler at 0x115c7ccf8>"
      ]
     },
     "metadata": {},
     "output_type": "display_data"
    },
    {
     "data": {
      "text/plain": [
       "\"V_32 : I'm a member of:\""
      ]
     },
     "metadata": {},
     "output_type": "display_data"
    },
    {
     "data": {
      "text/html": [
       "<style  type=\"text/css\" >\n",
       "</style>  \n",
       "<table id=\"T_23fb5564_4976_11e8_a17a_8c85905f408e\" > \n",
       "<thead>    <tr> \n",
       "        <th class=\"blank level0\" ></th> \n",
       "        <th class=\"col_heading level0 col0\" >Options</th> \n",
       "        <th class=\"col_heading level0 col1\" >Count</th> \n",
       "        <th class=\"col_heading level0 col2\" >Percent</th> \n",
       "    </tr></thead> \n",
       "<tbody>    <tr> \n",
       "        <th id=\"T_23fb5564_4976_11e8_a17a_8c85905f408elevel0_row0\" class=\"row_heading level0 row0\" >0</th> \n",
       "        <td id=\"T_23fb5564_4976_11e8_a17a_8c85905f408erow0_col0\" class=\"data row0 col0\" >None of these</td> \n",
       "        <td id=\"T_23fb5564_4976_11e8_a17a_8c85905f408erow0_col1\" class=\"data row0 col1\" >6752</td> \n",
       "        <td id=\"T_23fb5564_4976_11e8_a17a_8c85905f408erow0_col2\" class=\"data row0 col2\" >51.31%</td> \n",
       "    </tr>    <tr> \n",
       "        <th id=\"T_23fb5564_4976_11e8_a17a_8c85905f408elevel0_row1\" class=\"row_heading level0 row1\" >8</th> \n",
       "        <td id=\"T_23fb5564_4976_11e8_a17a_8c85905f408erow1_col0\" class=\"data row1 col0\" >AIGA</td> \n",
       "        <td id=\"T_23fb5564_4976_11e8_a17a_8c85905f408erow1_col1\" class=\"data row1 col1\" >4861</td> \n",
       "        <td id=\"T_23fb5564_4976_11e8_a17a_8c85905f408erow1_col2\" class=\"data row1 col2\" >36.94%</td> \n",
       "    </tr>    <tr> \n",
       "        <th id=\"T_23fb5564_4976_11e8_a17a_8c85905f408elevel0_row2\" class=\"row_heading level0 row2\" >7</th> \n",
       "        <td id=\"T_23fb5564_4976_11e8_a17a_8c85905f408erow2_col0\" class=\"data row2 col0\" >Creative Mornings</td> \n",
       "        <td id=\"T_23fb5564_4976_11e8_a17a_8c85905f408erow2_col1\" class=\"data row2 col1\" >1783</td> \n",
       "        <td id=\"T_23fb5564_4976_11e8_a17a_8c85905f408erow2_col2\" class=\"data row2 col2\" >13.55%</td> \n",
       "    </tr>    <tr> \n",
       "        <th id=\"T_23fb5564_4976_11e8_a17a_8c85905f408elevel0_row3\" class=\"row_heading level0 row3\" >10</th> \n",
       "        <td id=\"T_23fb5564_4976_11e8_a17a_8c85905f408erow3_col0\" class=\"data row3 col0\" >IXDA</td> \n",
       "        <td id=\"T_23fb5564_4976_11e8_a17a_8c85905f408erow3_col1\" class=\"data row3 col1\" >761</td> \n",
       "        <td id=\"T_23fb5564_4976_11e8_a17a_8c85905f408erow3_col2\" class=\"data row3 col2\" >5.78%</td> \n",
       "    </tr>    <tr> \n",
       "        <th id=\"T_23fb5564_4976_11e8_a17a_8c85905f408elevel0_row4\" class=\"row_heading level0 row4\" >20</th> \n",
       "        <td id=\"T_23fb5564_4976_11e8_a17a_8c85905f408erow4_col0\" class=\"data row4 col0\" >Freelancers Union</td> \n",
       "        <td id=\"T_23fb5564_4976_11e8_a17a_8c85905f408erow4_col1\" class=\"data row4 col1\" >410</td> \n",
       "        <td id=\"T_23fb5564_4976_11e8_a17a_8c85905f408erow4_col2\" class=\"data row4 col2\" >3.12%</td> \n",
       "    </tr></tbody> \n",
       "</table> "
      ],
      "text/plain": [
       "<pandas.io.formats.style.Styler at 0x115cab860>"
      ]
     },
     "metadata": {},
     "output_type": "display_data"
    },
    {
     "data": {
      "text/plain": [
       "\"V_33 : I'd like to get better at:\""
      ]
     },
     "metadata": {},
     "output_type": "display_data"
    },
    {
     "data": {
      "text/html": [
       "<style  type=\"text/css\" >\n",
       "</style>  \n",
       "<table id=\"T_2407a3f0_4976_11e8_ad35_8c85905f408e\" > \n",
       "<thead>    <tr> \n",
       "        <th class=\"blank level0\" ></th> \n",
       "        <th class=\"col_heading level0 col0\" >Options</th> \n",
       "        <th class=\"col_heading level0 col1\" >Count</th> \n",
       "        <th class=\"col_heading level0 col2\" >Percent</th> \n",
       "    </tr></thead> \n",
       "<tbody>    <tr> \n",
       "        <th id=\"T_2407a3f0_4976_11e8_ad35_8c85905f408elevel0_row0\" class=\"row_heading level0 row0\" >9</th> \n",
       "        <td id=\"T_2407a3f0_4976_11e8_ad35_8c85905f408erow0_col0\" class=\"data row0 col0\" >UX Design</td> \n",
       "        <td id=\"T_2407a3f0_4976_11e8_ad35_8c85905f408erow0_col1\" class=\"data row0 col1\" >5673</td> \n",
       "        <td id=\"T_2407a3f0_4976_11e8_ad35_8c85905f408erow0_col2\" class=\"data row0 col2\" >43.11%</td> \n",
       "    </tr>    <tr> \n",
       "        <th id=\"T_2407a3f0_4976_11e8_ad35_8c85905f408elevel0_row1\" class=\"row_heading level0 row1\" >8</th> \n",
       "        <td id=\"T_2407a3f0_4976_11e8_ad35_8c85905f408erow1_col0\" class=\"data row1 col0\" >Web Design</td> \n",
       "        <td id=\"T_2407a3f0_4976_11e8_ad35_8c85905f408erow1_col1\" class=\"data row1 col1\" >5107</td> \n",
       "        <td id=\"T_2407a3f0_4976_11e8_ad35_8c85905f408erow1_col2\" class=\"data row1 col2\" >38.81%</td> \n",
       "    </tr>    <tr> \n",
       "        <th id=\"T_2407a3f0_4976_11e8_ad35_8c85905f408elevel0_row2\" class=\"row_heading level0 row2\" >19</th> \n",
       "        <td id=\"T_2407a3f0_4976_11e8_ad35_8c85905f408erow2_col0\" class=\"data row2 col0\" >UI Design</td> \n",
       "        <td id=\"T_2407a3f0_4976_11e8_ad35_8c85905f408erow2_col1\" class=\"data row2 col1\" >4895</td> \n",
       "        <td id=\"T_2407a3f0_4976_11e8_ad35_8c85905f408erow2_col2\" class=\"data row2 col2\" >37.20%</td> \n",
       "    </tr>    <tr> \n",
       "        <th id=\"T_2407a3f0_4976_11e8_ad35_8c85905f408elevel0_row3\" class=\"row_heading level0 row3\" >17</th> \n",
       "        <td id=\"T_2407a3f0_4976_11e8_ad35_8c85905f408erow3_col0\" class=\"data row3 col0\" >Motion Graphics</td> \n",
       "        <td id=\"T_2407a3f0_4976_11e8_ad35_8c85905f408erow3_col1\" class=\"data row3 col1\" >4717</td> \n",
       "        <td id=\"T_2407a3f0_4976_11e8_ad35_8c85905f408erow3_col2\" class=\"data row3 col2\" >35.85%</td> \n",
       "    </tr>    <tr> \n",
       "        <th id=\"T_2407a3f0_4976_11e8_ad35_8c85905f408elevel0_row4\" class=\"row_heading level0 row4\" >11</th> \n",
       "        <td id=\"T_2407a3f0_4976_11e8_ad35_8c85905f408erow4_col0\" class=\"data row4 col0\" >Leadership</td> \n",
       "        <td id=\"T_2407a3f0_4976_11e8_ad35_8c85905f408erow4_col1\" class=\"data row4 col1\" >4695</td> \n",
       "        <td id=\"T_2407a3f0_4976_11e8_ad35_8c85905f408erow4_col2\" class=\"data row4 col2\" >35.68%</td> \n",
       "    </tr></tbody> \n",
       "</table> "
      ],
      "text/plain": [
       "<pandas.io.formats.style.Styler at 0x115c868d0>"
      ]
     },
     "metadata": {},
     "output_type": "display_data"
    },
    {
     "data": {
      "text/plain": [
       "'V_34 : I am:'"
      ]
     },
     "metadata": {},
     "output_type": "display_data"
    },
    {
     "data": {
      "text/html": [
       "<style  type=\"text/css\" >\n",
       "</style>  \n",
       "<table id=\"T_240986f4_4976_11e8_83ce_8c85905f408e\" > \n",
       "<thead>    <tr> \n",
       "        <th class=\"blank level0\" ></th> \n",
       "        <th class=\"col_heading level0 col0\" >Options</th> \n",
       "        <th class=\"col_heading level0 col1\" >Count</th> \n",
       "        <th class=\"col_heading level0 col2\" >Percent</th> \n",
       "    </tr></thead> \n",
       "<tbody>    <tr> \n",
       "        <th id=\"T_240986f4_4976_11e8_83ce_8c85905f408elevel0_row0\" class=\"row_heading level0 row0\" >0</th> \n",
       "        <td id=\"T_240986f4_4976_11e8_83ce_8c85905f408erow0_col0\" class=\"data row0 col0\" >Open to opportunities, but not actively looking</td> \n",
       "        <td id=\"T_240986f4_4976_11e8_83ce_8c85905f408erow0_col1\" class=\"data row0 col1\" >5845</td> \n",
       "        <td id=\"T_240986f4_4976_11e8_83ce_8c85905f408erow0_col2\" class=\"data row0 col2\" >44.42%</td> \n",
       "    </tr>    <tr> \n",
       "        <th id=\"T_240986f4_4976_11e8_83ce_8c85905f408elevel0_row1\" class=\"row_heading level0 row1\" >1</th> \n",
       "        <td id=\"T_240986f4_4976_11e8_83ce_8c85905f408erow1_col0\" class=\"data row1 col0\" >Not interested in a new job right now</td> \n",
       "        <td id=\"T_240986f4_4976_11e8_83ce_8c85905f408erow1_col1\" class=\"data row1 col1\" >2961</td> \n",
       "        <td id=\"T_240986f4_4976_11e8_83ce_8c85905f408erow1_col2\" class=\"data row1 col2\" >22.50%</td> \n",
       "    </tr>    <tr> \n",
       "        <th id=\"T_240986f4_4976_11e8_83ce_8c85905f408elevel0_row2\" class=\"row_heading level0 row2\" >2</th> \n",
       "        <td id=\"T_240986f4_4976_11e8_83ce_8c85905f408erow2_col0\" class=\"data row2 col0\" >Casually looking for the right opportunity</td> \n",
       "        <td id=\"T_240986f4_4976_11e8_83ce_8c85905f408erow2_col1\" class=\"data row2 col1\" >2721</td> \n",
       "        <td id=\"T_240986f4_4976_11e8_83ce_8c85905f408erow2_col2\" class=\"data row2 col2\" >20.68%</td> \n",
       "    </tr>    <tr> \n",
       "        <th id=\"T_240986f4_4976_11e8_83ce_8c85905f408elevel0_row3\" class=\"row_heading level0 row3\" >3</th> \n",
       "        <td id=\"T_240986f4_4976_11e8_83ce_8c85905f408erow3_col0\" class=\"data row3 col0\" >Working hard to find my next job</td> \n",
       "        <td id=\"T_240986f4_4976_11e8_83ce_8c85905f408erow3_col1\" class=\"data row3 col1\" >1497</td> \n",
       "        <td id=\"T_240986f4_4976_11e8_83ce_8c85905f408erow3_col2\" class=\"data row3 col2\" >11.38%</td> \n",
       "    </tr>    <tr> \n",
       "        <th id=\"T_240986f4_4976_11e8_83ce_8c85905f408elevel0_row4\" class=\"row_heading level0 row4\" >4</th> \n",
       "        <td id=\"T_240986f4_4976_11e8_83ce_8c85905f408erow4_col0\" class=\"data row4 col0\" >Not sure</td> \n",
       "        <td id=\"T_240986f4_4976_11e8_83ce_8c85905f408erow4_col1\" class=\"data row4 col1\" >134</td> \n",
       "        <td id=\"T_240986f4_4976_11e8_83ce_8c85905f408erow4_col2\" class=\"data row4 col2\" >1.02%</td> \n",
       "    </tr></tbody> \n",
       "</table> "
      ],
      "text/plain": [
       "<pandas.io.formats.style.Styler at 0x115c96ef0>"
      ]
     },
     "metadata": {},
     "output_type": "display_data"
    },
    {
     "data": {
      "text/plain": [
       "\"V_35 : Right now, I can't stop listening to:\""
      ]
     },
     "metadata": {},
     "output_type": "display_data"
    },
    {
     "data": {
      "text/html": [
       "<style  type=\"text/css\" >\n",
       "</style>  \n",
       "<table id=\"T_240bca18_4976_11e8_ae28_8c85905f408e\" > \n",
       "<thead>    <tr> \n",
       "        <th class=\"blank level0\" ></th> \n",
       "        <th class=\"col_heading level0 col0\" >Options</th> \n",
       "        <th class=\"col_heading level0 col1\" >Count</th> \n",
       "        <th class=\"col_heading level0 col2\" >Percent</th> \n",
       "    </tr></thead> \n",
       "<tbody>    <tr> \n",
       "        <th id=\"T_240bca18_4976_11e8_ae28_8c85905f408elevel0_row0\" class=\"row_heading level0 row0\" >0</th> \n",
       "        <td id=\"T_240bca18_4976_11e8_ae28_8c85905f408erow0_col0\" class=\"data row0 col0\" >Podcasts</td> \n",
       "        <td id=\"T_240bca18_4976_11e8_ae28_8c85905f408erow0_col1\" class=\"data row0 col1\" >255</td> \n",
       "        <td id=\"T_240bca18_4976_11e8_ae28_8c85905f408erow0_col2\" class=\"data row0 col2\" >1.94%</td> \n",
       "    </tr>    <tr> \n",
       "        <th id=\"T_240bca18_4976_11e8_ae28_8c85905f408elevel0_row1\" class=\"row_heading level0 row1\" >1</th> \n",
       "        <td id=\"T_240bca18_4976_11e8_ae28_8c85905f408erow1_col0\" class=\"data row1 col0\" >NPR</td> \n",
       "        <td id=\"T_240bca18_4976_11e8_ae28_8c85905f408erow1_col1\" class=\"data row1 col1\" >127</td> \n",
       "        <td id=\"T_240bca18_4976_11e8_ae28_8c85905f408erow1_col2\" class=\"data row1 col2\" >0.97%</td> \n",
       "    </tr>    <tr> \n",
       "        <th id=\"T_240bca18_4976_11e8_ae28_8c85905f408elevel0_row2\" class=\"row_heading level0 row2\" >2</th> \n",
       "        <td id=\"T_240bca18_4976_11e8_ae28_8c85905f408erow2_col0\" class=\"data row2 col0\" >podcasts</td> \n",
       "        <td id=\"T_240bca18_4976_11e8_ae28_8c85905f408erow2_col1\" class=\"data row2 col1\" >104</td> \n",
       "        <td id=\"T_240bca18_4976_11e8_ae28_8c85905f408erow2_col2\" class=\"data row2 col2\" >0.79%</td> \n",
       "    </tr>    <tr> \n",
       "        <th id=\"T_240bca18_4976_11e8_ae28_8c85905f408elevel0_row3\" class=\"row_heading level0 row3\" >3</th> \n",
       "        <td id=\"T_240bca18_4976_11e8_ae28_8c85905f408erow3_col0\" class=\"data row3 col0\" >Music</td> \n",
       "        <td id=\"T_240bca18_4976_11e8_ae28_8c85905f408erow3_col1\" class=\"data row3 col1\" >100</td> \n",
       "        <td id=\"T_240bca18_4976_11e8_ae28_8c85905f408erow3_col2\" class=\"data row3 col2\" >0.76%</td> \n",
       "    </tr>    <tr> \n",
       "        <th id=\"T_240bca18_4976_11e8_ae28_8c85905f408elevel0_row4\" class=\"row_heading level0 row4\" >4</th> \n",
       "        <td id=\"T_240bca18_4976_11e8_ae28_8c85905f408erow4_col0\" class=\"data row4 col0\" >Spotify</td> \n",
       "        <td id=\"T_240bca18_4976_11e8_ae28_8c85905f408erow4_col1\" class=\"data row4 col1\" >99</td> \n",
       "        <td id=\"T_240bca18_4976_11e8_ae28_8c85905f408erow4_col2\" class=\"data row4 col2\" >0.75%</td> \n",
       "    </tr></tbody> \n",
       "</table> "
      ],
      "text/plain": [
       "<pandas.io.formats.style.Styler at 0x115cabef0>"
      ]
     },
     "metadata": {},
     "output_type": "display_data"
    },
    {
     "data": {
      "text/plain": [
       "'V_36 : I live in:'"
      ]
     },
     "metadata": {},
     "output_type": "display_data"
    },
    {
     "data": {
      "text/html": [
       "<style  type=\"text/css\" >\n",
       "</style>  \n",
       "<table id=\"T_240d719a_4976_11e8_be8e_8c85905f408e\" > \n",
       "<thead>    <tr> \n",
       "        <th class=\"blank level0\" ></th> \n",
       "        <th class=\"col_heading level0 col0\" >Options</th> \n",
       "        <th class=\"col_heading level0 col1\" >Count</th> \n",
       "        <th class=\"col_heading level0 col2\" >Percent</th> \n",
       "    </tr></thead> \n",
       "<tbody>    <tr> \n",
       "        <th id=\"T_240d719a_4976_11e8_be8e_8c85905f408elevel0_row0\" class=\"row_heading level0 row0\" >0</th> \n",
       "        <td id=\"T_240d719a_4976_11e8_be8e_8c85905f408erow0_col0\" class=\"data row0 col0\" >11238</td> \n",
       "        <td id=\"T_240d719a_4976_11e8_be8e_8c85905f408erow0_col1\" class=\"data row0 col1\" >70</td> \n",
       "        <td id=\"T_240d719a_4976_11e8_be8e_8c85905f408erow0_col2\" class=\"data row0 col2\" >0.53%</td> \n",
       "    </tr>    <tr> \n",
       "        <th id=\"T_240d719a_4976_11e8_be8e_8c85905f408elevel0_row1\" class=\"row_heading level0 row1\" >1</th> \n",
       "        <td id=\"T_240d719a_4976_11e8_be8e_8c85905f408erow1_col0\" class=\"data row1 col0\" >94117</td> \n",
       "        <td id=\"T_240d719a_4976_11e8_be8e_8c85905f408erow1_col1\" class=\"data row1 col1\" >63</td> \n",
       "        <td id=\"T_240d719a_4976_11e8_be8e_8c85905f408erow1_col2\" class=\"data row1 col2\" >0.48%</td> \n",
       "    </tr>    <tr> \n",
       "        <th id=\"T_240d719a_4976_11e8_be8e_8c85905f408elevel0_row2\" class=\"row_heading level0 row2\" >2</th> \n",
       "        <td id=\"T_240d719a_4976_11e8_be8e_8c85905f408erow2_col0\" class=\"data row2 col0\" >94110</td> \n",
       "        <td id=\"T_240d719a_4976_11e8_be8e_8c85905f408erow2_col1\" class=\"data row2 col1\" >58</td> \n",
       "        <td id=\"T_240d719a_4976_11e8_be8e_8c85905f408erow2_col2\" class=\"data row2 col2\" >0.44%</td> \n",
       "    </tr>    <tr> \n",
       "        <th id=\"T_240d719a_4976_11e8_be8e_8c85905f408elevel0_row3\" class=\"row_heading level0 row3\" >3</th> \n",
       "        <td id=\"T_240d719a_4976_11e8_be8e_8c85905f408erow3_col0\" class=\"data row3 col0\" >60647</td> \n",
       "        <td id=\"T_240d719a_4976_11e8_be8e_8c85905f408erow3_col1\" class=\"data row3 col1\" >50</td> \n",
       "        <td id=\"T_240d719a_4976_11e8_be8e_8c85905f408erow3_col2\" class=\"data row3 col2\" >0.38%</td> \n",
       "    </tr>    <tr> \n",
       "        <th id=\"T_240d719a_4976_11e8_be8e_8c85905f408elevel0_row4\" class=\"row_heading level0 row4\" >4</th> \n",
       "        <td id=\"T_240d719a_4976_11e8_be8e_8c85905f408erow4_col0\" class=\"data row4 col0\" >11201</td> \n",
       "        <td id=\"T_240d719a_4976_11e8_be8e_8c85905f408erow4_col1\" class=\"data row4 col1\" >48</td> \n",
       "        <td id=\"T_240d719a_4976_11e8_be8e_8c85905f408erow4_col2\" class=\"data row4 col2\" >0.36%</td> \n",
       "    </tr></tbody> \n",
       "</table> "
      ],
      "text/plain": [
       "<pandas.io.formats.style.Styler at 0x1078c9160>"
      ]
     },
     "metadata": {},
     "output_type": "display_data"
    },
    {
     "data": {
      "text/plain": [
       "'V_38 : I am:'"
      ]
     },
     "metadata": {},
     "output_type": "display_data"
    },
    {
     "data": {
      "text/html": [
       "<style  type=\"text/css\" >\n",
       "</style>  \n",
       "<table id=\"T_240f38cc_4976_11e8_a163_8c85905f408e\" > \n",
       "<thead>    <tr> \n",
       "        <th class=\"blank level0\" ></th> \n",
       "        <th class=\"col_heading level0 col0\" >Options</th> \n",
       "        <th class=\"col_heading level0 col1\" >Count</th> \n",
       "        <th class=\"col_heading level0 col2\" >Percent</th> \n",
       "    </tr></thead> \n",
       "<tbody>    <tr> \n",
       "        <th id=\"T_240f38cc_4976_11e8_a163_8c85905f408elevel0_row0\" class=\"row_heading level0 row0\" >0</th> \n",
       "        <td id=\"T_240f38cc_4976_11e8_a163_8c85905f408erow0_col0\" class=\"data row0 col0\" >Female</td> \n",
       "        <td id=\"T_240f38cc_4976_11e8_a163_8c85905f408erow0_col1\" class=\"data row0 col1\" >7039</td> \n",
       "        <td id=\"T_240f38cc_4976_11e8_a163_8c85905f408erow0_col2\" class=\"data row0 col2\" >53.50%</td> \n",
       "    </tr>    <tr> \n",
       "        <th id=\"T_240f38cc_4976_11e8_a163_8c85905f408elevel0_row1\" class=\"row_heading level0 row1\" >1</th> \n",
       "        <td id=\"T_240f38cc_4976_11e8_a163_8c85905f408erow1_col0\" class=\"data row1 col0\" >Male</td> \n",
       "        <td id=\"T_240f38cc_4976_11e8_a163_8c85905f408erow1_col1\" class=\"data row1 col1\" >5895</td> \n",
       "        <td id=\"T_240f38cc_4976_11e8_a163_8c85905f408erow1_col2\" class=\"data row1 col2\" >44.80%</td> \n",
       "    </tr>    <tr> \n",
       "        <th id=\"T_240f38cc_4976_11e8_a163_8c85905f408elevel0_row2\" class=\"row_heading level0 row2\" >2</th> \n",
       "        <td id=\"T_240f38cc_4976_11e8_a163_8c85905f408erow2_col0\" class=\"data row2 col0\" >Prefer not to say</td> \n",
       "        <td id=\"T_240f38cc_4976_11e8_a163_8c85905f408erow2_col1\" class=\"data row2 col1\" >112</td> \n",
       "        <td id=\"T_240f38cc_4976_11e8_a163_8c85905f408erow2_col2\" class=\"data row2 col2\" >0.85%</td> \n",
       "    </tr>    <tr> \n",
       "        <th id=\"T_240f38cc_4976_11e8_a163_8c85905f408elevel0_row3\" class=\"row_heading level0 row3\" >3</th> \n",
       "        <td id=\"T_240f38cc_4976_11e8_a163_8c85905f408erow3_col0\" class=\"data row3 col0\" >Non-binary or third gender</td> \n",
       "        <td id=\"T_240f38cc_4976_11e8_a163_8c85905f408erow3_col1\" class=\"data row3 col1\" >102</td> \n",
       "        <td id=\"T_240f38cc_4976_11e8_a163_8c85905f408erow3_col2\" class=\"data row3 col2\" >0.78%</td> \n",
       "    </tr>    <tr> \n",
       "        <th id=\"T_240f38cc_4976_11e8_a163_8c85905f408elevel0_row4\" class=\"row_heading level0 row4\" >4</th> \n",
       "        <td id=\"T_240f38cc_4976_11e8_a163_8c85905f408erow4_col0\" class=\"data row4 col0\" >Other</td> \n",
       "        <td id=\"T_240f38cc_4976_11e8_a163_8c85905f408erow4_col1\" class=\"data row4 col1\" >10</td> \n",
       "        <td id=\"T_240f38cc_4976_11e8_a163_8c85905f408erow4_col2\" class=\"data row4 col2\" >0.08%</td> \n",
       "    </tr></tbody> \n",
       "</table> "
      ],
      "text/plain": [
       "<pandas.io.formats.style.Styler at 0x115c79cc0>"
      ]
     },
     "metadata": {},
     "output_type": "display_data"
    },
    {
     "data": {
      "text/plain": [
       "'V_39 : I consider myself:'"
      ]
     },
     "metadata": {},
     "output_type": "display_data"
    },
    {
     "data": {
      "text/html": [
       "<style  type=\"text/css\" >\n",
       "</style>  \n",
       "<table id=\"T_24113a00_4976_11e8_a289_8c85905f408e\" > \n",
       "<thead>    <tr> \n",
       "        <th class=\"blank level0\" ></th> \n",
       "        <th class=\"col_heading level0 col0\" >Options</th> \n",
       "        <th class=\"col_heading level0 col1\" >Count</th> \n",
       "        <th class=\"col_heading level0 col2\" >Percent</th> \n",
       "    </tr></thead> \n",
       "<tbody>    <tr> \n",
       "        <th id=\"T_24113a00_4976_11e8_a289_8c85905f408elevel0_row0\" class=\"row_heading level0 row0\" >0</th> \n",
       "        <td id=\"T_24113a00_4976_11e8_a289_8c85905f408erow0_col0\" class=\"data row0 col0\" >Not LGBTQ</td> \n",
       "        <td id=\"T_24113a00_4976_11e8_a289_8c85905f408erow0_col1\" class=\"data row0 col1\" >10516</td> \n",
       "        <td id=\"T_24113a00_4976_11e8_a289_8c85905f408erow0_col2\" class=\"data row0 col2\" >79.92%</td> \n",
       "    </tr>    <tr> \n",
       "        <th id=\"T_24113a00_4976_11e8_a289_8c85905f408elevel0_row1\" class=\"row_heading level0 row1\" >1</th> \n",
       "        <td id=\"T_24113a00_4976_11e8_a289_8c85905f408erow1_col0\" class=\"data row1 col0\" >LGBTQ</td> \n",
       "        <td id=\"T_24113a00_4976_11e8_a289_8c85905f408erow1_col1\" class=\"data row1 col1\" >1515</td> \n",
       "        <td id=\"T_24113a00_4976_11e8_a289_8c85905f408erow1_col2\" class=\"data row1 col2\" >11.51%</td> \n",
       "    </tr>    <tr> \n",
       "        <th id=\"T_24113a00_4976_11e8_a289_8c85905f408elevel0_row2\" class=\"row_heading level0 row2\" >2</th> \n",
       "        <td id=\"T_24113a00_4976_11e8_a289_8c85905f408erow2_col0\" class=\"data row2 col0\" >Prefer not to say</td> \n",
       "        <td id=\"T_24113a00_4976_11e8_a289_8c85905f408erow2_col1\" class=\"data row2 col1\" >1127</td> \n",
       "        <td id=\"T_24113a00_4976_11e8_a289_8c85905f408erow2_col2\" class=\"data row2 col2\" >8.57%</td> \n",
       "    </tr></tbody> \n",
       "</table> "
      ],
      "text/plain": [
       "<pandas.io.formats.style.Styler at 0x115cab630>"
      ]
     },
     "metadata": {},
     "output_type": "display_data"
    },
    {
     "data": {
      "text/plain": [
       "'V_40 : My ethnicity is:'"
      ]
     },
     "metadata": {},
     "output_type": "display_data"
    },
    {
     "data": {
      "text/html": [
       "<style  type=\"text/css\" >\n",
       "</style>  \n",
       "<table id=\"T_24169c8c_4976_11e8_be25_8c85905f408e\" > \n",
       "<thead>    <tr> \n",
       "        <th class=\"blank level0\" ></th> \n",
       "        <th class=\"col_heading level0 col0\" >Options</th> \n",
       "        <th class=\"col_heading level0 col1\" >Count</th> \n",
       "        <th class=\"col_heading level0 col2\" >Percent</th> \n",
       "    </tr></thead> \n",
       "<tbody>    <tr> \n",
       "        <th id=\"T_24169c8c_4976_11e8_be25_8c85905f408elevel0_row0\" class=\"row_heading level0 row0\" >4</th> \n",
       "        <td id=\"T_24169c8c_4976_11e8_be25_8c85905f408erow0_col0\" class=\"data row0 col0\" >White or Caucasian</td> \n",
       "        <td id=\"T_24169c8c_4976_11e8_be25_8c85905f408erow0_col1\" class=\"data row0 col1\" >9624</td> \n",
       "        <td id=\"T_24169c8c_4976_11e8_be25_8c85905f408erow0_col2\" class=\"data row0 col2\" >73.14%</td> \n",
       "    </tr>    <tr> \n",
       "        <th id=\"T_24169c8c_4976_11e8_be25_8c85905f408elevel0_row1\" class=\"row_heading level0 row1\" >5</th> \n",
       "        <td id=\"T_24169c8c_4976_11e8_be25_8c85905f408erow1_col0\" class=\"data row1 col0\" >Asian</td> \n",
       "        <td id=\"T_24169c8c_4976_11e8_be25_8c85905f408erow1_col1\" class=\"data row1 col1\" >1653</td> \n",
       "        <td id=\"T_24169c8c_4976_11e8_be25_8c85905f408erow1_col2\" class=\"data row1 col2\" >12.56%</td> \n",
       "    </tr>    <tr> \n",
       "        <th id=\"T_24169c8c_4976_11e8_be25_8c85905f408elevel0_row2\" class=\"row_heading level0 row2\" >1</th> \n",
       "        <td id=\"T_24169c8c_4976_11e8_be25_8c85905f408erow2_col0\" class=\"data row2 col0\" >Latina, Latino, Latinx, or Hispanic</td> \n",
       "        <td id=\"T_24169c8c_4976_11e8_be25_8c85905f408erow2_col1\" class=\"data row2 col1\" >1296</td> \n",
       "        <td id=\"T_24169c8c_4976_11e8_be25_8c85905f408erow2_col2\" class=\"data row2 col2\" >9.85%</td> \n",
       "    </tr>    <tr> \n",
       "        <th id=\"T_24169c8c_4976_11e8_be25_8c85905f408elevel0_row3\" class=\"row_heading level0 row3\" >0</th> \n",
       "        <td id=\"T_24169c8c_4976_11e8_be25_8c85905f408erow3_col0\" class=\"data row3 col0\" >Black or African American</td> \n",
       "        <td id=\"T_24169c8c_4976_11e8_be25_8c85905f408erow3_col1\" class=\"data row3 col1\" >544</td> \n",
       "        <td id=\"T_24169c8c_4976_11e8_be25_8c85905f408erow3_col2\" class=\"data row3 col2\" >4.13%</td> \n",
       "    </tr>    <tr> \n",
       "        <th id=\"T_24169c8c_4976_11e8_be25_8c85905f408elevel0_row4\" class=\"row_heading level0 row4\" >6</th> \n",
       "        <td id=\"T_24169c8c_4976_11e8_be25_8c85905f408erow4_col0\" class=\"data row4 col0\" >Other</td> \n",
       "        <td id=\"T_24169c8c_4976_11e8_be25_8c85905f408erow4_col1\" class=\"data row4 col1\" >389</td> \n",
       "        <td id=\"T_24169c8c_4976_11e8_be25_8c85905f408erow4_col2\" class=\"data row4 col2\" >2.96%</td> \n",
       "    </tr></tbody> \n",
       "</table> "
      ],
      "text/plain": [
       "<pandas.io.formats.style.Styler at 0x115ca5710>"
      ]
     },
     "metadata": {},
     "output_type": "display_data"
    },
    {
     "data": {
      "text/plain": [
       "'V_41 : The most critical issues and challenges currently facing design are (answer optional):'"
      ]
     },
     "metadata": {},
     "output_type": "display_data"
    },
    {
     "data": {
      "text/html": [
       "<style  type=\"text/css\" >\n",
       "</style>  \n",
       "<table id=\"T_241e9e98_4976_11e8_be33_8c85905f408e\" > \n",
       "<thead>    <tr> \n",
       "        <th class=\"blank level0\" ></th> \n",
       "        <th class=\"col_heading level0 col0\" >Options</th> \n",
       "        <th class=\"col_heading level0 col1\" >Count</th> \n",
       "        <th class=\"col_heading level0 col2\" >Percent</th> \n",
       "    </tr></thead> \n",
       "<tbody>    <tr> \n",
       "        <th id=\"T_241e9e98_4976_11e8_be33_8c85905f408elevel0_row0\" class=\"row_heading level0 row0\" >0</th> \n",
       "        <td id=\"T_241e9e98_4976_11e8_be33_8c85905f408erow0_col0\" class=\"data row0 col0\" >Design not having a \"seat at the table\"</td> \n",
       "        <td id=\"T_241e9e98_4976_11e8_be33_8c85905f408erow0_col1\" class=\"data row0 col1\" >6081</td> \n",
       "        <td id=\"T_241e9e98_4976_11e8_be33_8c85905f408erow0_col2\" class=\"data row0 col2\" >46.22%</td> \n",
       "    </tr>    <tr> \n",
       "        <th id=\"T_241e9e98_4976_11e8_be33_8c85905f408elevel0_row1\" class=\"row_heading level0 row1\" >1</th> \n",
       "        <td id=\"T_241e9e98_4976_11e8_be33_8c85905f408erow1_col0\" class=\"data row1 col0\" >Diversity in design and tech</td> \n",
       "        <td id=\"T_241e9e98_4976_11e8_be33_8c85905f408erow1_col1\" class=\"data row1 col1\" >5560</td> \n",
       "        <td id=\"T_241e9e98_4976_11e8_be33_8c85905f408erow1_col2\" class=\"data row1 col2\" >42.26%</td> \n",
       "    </tr>    <tr> \n",
       "        <th id=\"T_241e9e98_4976_11e8_be33_8c85905f408elevel0_row2\" class=\"row_heading level0 row2\" >9</th> \n",
       "        <td id=\"T_241e9e98_4976_11e8_be33_8c85905f408erow2_col0\" class=\"data row2 col0\" >Ethics in design</td> \n",
       "        <td id=\"T_241e9e98_4976_11e8_be33_8c85905f408erow2_col1\" class=\"data row2 col1\" >5091</td> \n",
       "        <td id=\"T_241e9e98_4976_11e8_be33_8c85905f408erow2_col2\" class=\"data row2 col2\" >38.69%</td> \n",
       "    </tr>    <tr> \n",
       "        <th id=\"T_241e9e98_4976_11e8_be33_8c85905f408elevel0_row3\" class=\"row_heading level0 row3\" >5</th> \n",
       "        <td id=\"T_241e9e98_4976_11e8_be33_8c85905f408erow3_col0\" class=\"data row3 col0\" >Education cost and equity of access</td> \n",
       "        <td id=\"T_241e9e98_4976_11e8_be33_8c85905f408erow3_col1\" class=\"data row3 col1\" >4569</td> \n",
       "        <td id=\"T_241e9e98_4976_11e8_be33_8c85905f408erow3_col2\" class=\"data row3 col2\" >34.72%</td> \n",
       "    </tr>    <tr> \n",
       "        <th id=\"T_241e9e98_4976_11e8_be33_8c85905f408elevel0_row4\" class=\"row_heading level0 row4\" >13</th> \n",
       "        <td id=\"T_241e9e98_4976_11e8_be33_8c85905f408erow4_col0\" class=\"data row4 col0\" >Consumer vs. social impact focus</td> \n",
       "        <td id=\"T_241e9e98_4976_11e8_be33_8c85905f408erow4_col1\" class=\"data row4 col1\" >3922</td> \n",
       "        <td id=\"T_241e9e98_4976_11e8_be33_8c85905f408erow4_col2\" class=\"data row4 col2\" >29.81%</td> \n",
       "    </tr></tbody> \n",
       "</table> "
      ],
      "text/plain": [
       "<pandas.io.formats.style.Styler at 0x115c79cc0>"
      ]
     },
     "metadata": {},
     "output_type": "display_data"
    },
    {
     "data": {
      "text/plain": [
       "'V_42 : The emerging trends and technologies that will have the biggest impact on design are (answer optional):'"
      ]
     },
     "metadata": {},
     "output_type": "display_data"
    },
    {
     "data": {
      "text/html": [
       "<style  type=\"text/css\" >\n",
       "</style>  \n",
       "<table id=\"T_2428fa8c_4976_11e8_b31b_8c85905f408e\" > \n",
       "<thead>    <tr> \n",
       "        <th class=\"blank level0\" ></th> \n",
       "        <th class=\"col_heading level0 col0\" >Options</th> \n",
       "        <th class=\"col_heading level0 col1\" >Count</th> \n",
       "        <th class=\"col_heading level0 col2\" >Percent</th> \n",
       "    </tr></thead> \n",
       "<tbody>    <tr> \n",
       "        <th id=\"T_2428fa8c_4976_11e8_b31b_8c85905f408elevel0_row0\" class=\"row_heading level0 row0\" >7</th> \n",
       "        <td id=\"T_2428fa8c_4976_11e8_b31b_8c85905f408erow0_col0\" class=\"data row0 col0\" >AI and machine learning</td> \n",
       "        <td id=\"T_2428fa8c_4976_11e8_b31b_8c85905f408erow0_col1\" class=\"data row0 col1\" >7000</td> \n",
       "        <td id=\"T_2428fa8c_4976_11e8_b31b_8c85905f408erow0_col2\" class=\"data row0 col2\" >53.20%</td> \n",
       "    </tr>    <tr> \n",
       "        <th id=\"T_2428fa8c_4976_11e8_b31b_8c85905f408elevel0_row1\" class=\"row_heading level0 row1\" >5</th> \n",
       "        <td id=\"T_2428fa8c_4976_11e8_b31b_8c85905f408erow1_col0\" class=\"data row1 col0\" >Augmented Reality</td> \n",
       "        <td id=\"T_2428fa8c_4976_11e8_b31b_8c85905f408erow1_col1\" class=\"data row1 col1\" >5361</td> \n",
       "        <td id=\"T_2428fa8c_4976_11e8_b31b_8c85905f408erow1_col2\" class=\"data row1 col2\" >40.74%</td> \n",
       "    </tr>    <tr> \n",
       "        <th id=\"T_2428fa8c_4976_11e8_b31b_8c85905f408elevel0_row2\" class=\"row_heading level0 row2\" >13</th> \n",
       "        <td id=\"T_2428fa8c_4976_11e8_b31b_8c85905f408erow2_col0\" class=\"data row2 col0\" >Virtual Reality</td> \n",
       "        <td id=\"T_2428fa8c_4976_11e8_b31b_8c85905f408erow2_col1\" class=\"data row2 col1\" >5078</td> \n",
       "        <td id=\"T_2428fa8c_4976_11e8_b31b_8c85905f408erow2_col2\" class=\"data row2 col2\" >38.59%</td> \n",
       "    </tr>    <tr> \n",
       "        <th id=\"T_2428fa8c_4976_11e8_b31b_8c85905f408elevel0_row3\" class=\"row_heading level0 row3\" >17</th> \n",
       "        <td id=\"T_2428fa8c_4976_11e8_b31b_8c85905f408erow3_col0\" class=\"data row3 col0\" >Behavior tracking and modeling</td> \n",
       "        <td id=\"T_2428fa8c_4976_11e8_b31b_8c85905f408erow3_col1\" class=\"data row3 col1\" >4543</td> \n",
       "        <td id=\"T_2428fa8c_4976_11e8_b31b_8c85905f408erow3_col2\" class=\"data row3 col2\" >34.53%</td> \n",
       "    </tr>    <tr> \n",
       "        <th id=\"T_2428fa8c_4976_11e8_b31b_8c85905f408elevel0_row4\" class=\"row_heading level0 row4\" >3</th> \n",
       "        <td id=\"T_2428fa8c_4976_11e8_b31b_8c85905f408erow4_col0\" class=\"data row4 col0\" >Internet of Things</td> \n",
       "        <td id=\"T_2428fa8c_4976_11e8_b31b_8c85905f408erow4_col1\" class=\"data row4 col1\" >3839</td> \n",
       "        <td id=\"T_2428fa8c_4976_11e8_b31b_8c85905f408erow4_col2\" class=\"data row4 col2\" >29.18%</td> \n",
       "    </tr></tbody> \n",
       "</table> "
      ],
      "text/plain": [
       "<pandas.io.formats.style.Styler at 0x115c76390>"
      ]
     },
     "metadata": {},
     "output_type": "display_data"
    },
    {
     "data": {
      "text/plain": [
       "'V_43 : The most valuable design skills for the future will be (answer optional):'"
      ]
     },
     "metadata": {},
     "output_type": "display_data"
    },
    {
     "data": {
      "text/html": [
       "<style  type=\"text/css\" >\n",
       "</style>  \n",
       "<table id=\"T_2433f342_4976_11e8_9e63_8c85905f408e\" > \n",
       "<thead>    <tr> \n",
       "        <th class=\"blank level0\" ></th> \n",
       "        <th class=\"col_heading level0 col0\" >Options</th> \n",
       "        <th class=\"col_heading level0 col1\" >Count</th> \n",
       "        <th class=\"col_heading level0 col2\" >Percent</th> \n",
       "    </tr></thead> \n",
       "<tbody>    <tr> \n",
       "        <th id=\"T_2433f342_4976_11e8_9e63_8c85905f408elevel0_row0\" class=\"row_heading level0 row0\" >16</th> \n",
       "        <td id=\"T_2433f342_4976_11e8_9e63_8c85905f408erow0_col0\" class=\"data row0 col0\" >Adaptability to tech and social change</td> \n",
       "        <td id=\"T_2433f342_4976_11e8_9e63_8c85905f408erow0_col1\" class=\"data row0 col1\" >9170</td> \n",
       "        <td id=\"T_2433f342_4976_11e8_9e63_8c85905f408erow0_col2\" class=\"data row0 col2\" >69.69%</td> \n",
       "    </tr>    <tr> \n",
       "        <th id=\"T_2433f342_4976_11e8_9e63_8c85905f408elevel0_row1\" class=\"row_heading level0 row1\" >5</th> \n",
       "        <td id=\"T_2433f342_4976_11e8_9e63_8c85905f408erow1_col0\" class=\"data row1 col0\" >Communication skills</td> \n",
       "        <td id=\"T_2433f342_4976_11e8_9e63_8c85905f408erow1_col1\" class=\"data row1 col1\" >7671</td> \n",
       "        <td id=\"T_2433f342_4976_11e8_9e63_8c85905f408erow1_col2\" class=\"data row1 col2\" >58.30%</td> \n",
       "    </tr>    <tr> \n",
       "        <th id=\"T_2433f342_4976_11e8_9e63_8c85905f408elevel0_row2\" class=\"row_heading level0 row2\" >10</th> \n",
       "        <td id=\"T_2433f342_4976_11e8_9e63_8c85905f408erow2_col0\" class=\"data row2 col0\" >Empathy</td> \n",
       "        <td id=\"T_2433f342_4976_11e8_9e63_8c85905f408erow2_col1\" class=\"data row2 col1\" >6244</td> \n",
       "        <td id=\"T_2433f342_4976_11e8_9e63_8c85905f408erow2_col2\" class=\"data row2 col2\" >47.45%</td> \n",
       "    </tr>    <tr> \n",
       "        <th id=\"T_2433f342_4976_11e8_9e63_8c85905f408elevel0_row3\" class=\"row_heading level0 row3\" >0</th> \n",
       "        <td id=\"T_2433f342_4976_11e8_9e63_8c85905f408erow3_col0\" class=\"data row3 col0\" >Asking good questions</td> \n",
       "        <td id=\"T_2433f342_4976_11e8_9e63_8c85905f408erow3_col1\" class=\"data row3 col1\" >5727</td> \n",
       "        <td id=\"T_2433f342_4976_11e8_9e63_8c85905f408erow3_col2\" class=\"data row3 col2\" >43.52%</td> \n",
       "    </tr>    <tr> \n",
       "        <th id=\"T_2433f342_4976_11e8_9e63_8c85905f408elevel0_row4\" class=\"row_heading level0 row4\" >6</th> \n",
       "        <td id=\"T_2433f342_4976_11e8_9e63_8c85905f408erow4_col0\" class=\"data row4 col0\" >Cross-functional skills</td> \n",
       "        <td id=\"T_2433f342_4976_11e8_9e63_8c85905f408erow4_col1\" class=\"data row4 col1\" >5493</td> \n",
       "        <td id=\"T_2433f342_4976_11e8_9e63_8c85905f408erow4_col2\" class=\"data row4 col2\" >41.75%</td> \n",
       "    </tr></tbody> \n",
       "</table> "
      ],
      "text/plain": [
       "<pandas.io.formats.style.Styler at 0x115c8d4a8>"
      ]
     },
     "metadata": {},
     "output_type": "display_data"
    }
   ],
   "source": [
    "for col in cate_cols:\n",
    "    display(str(col) + ' : ' + col_dict[col])\n",
    "    display(summary_cate_col(col))"
   ]
  }
 ],
 "metadata": {
  "kernelspec": {
   "display_name": "Python 3",
   "language": "python",
   "name": "python3"
  },
  "language_info": {
   "codemirror_mode": {
    "name": "ipython",
    "version": 3
   },
   "file_extension": ".py",
   "mimetype": "text/x-python",
   "name": "python",
   "nbconvert_exporter": "python",
   "pygments_lexer": "ipython3",
   "version": "3.6.3"
  }
 },
 "nbformat": 4,
 "nbformat_minor": 2
}
