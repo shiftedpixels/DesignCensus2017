{
  "cells": [
    {
      "cell_type": "code",
      "source": [
        "import numpy as np\n",
        "import pandas as pd\n",
        "import math\n",
        "from IPython.display import display\n",
        "import seaborn as sns\n",
        "import matplotlib.pyplot as plt\n",
        "import locale\n",
        "locale.setlocale(locale.LC_ALL, '')\n",
        "%matplotlib inline\n",
        "\n",
        "# Bokeh is cool.\n",
        "from bokeh.io import output_file, show,curdoc, output_notebook\n",
        "from bokeh.models import Quad\n",
        "from bokeh.layouts import row, layout,widgetbox\n",
        "from bokeh.models.widgets import Select,MultiSelect\n",
        "from bokeh.plotting import ColumnDataSource,Figure,reset_output,gridplot\n",
        "\n",
        "import pickle\n",
        "\n",
        "# Ensure vector figure output uses editable text\n",
        "plt.rcParams['pdf.fonttype'] = 42\n",
        "plt.rcParams['ps.fonttype'] = 42\n",
        "plt.rcParams['svg.fonttype'] = 'none'\n",
        "# Autolayout on graphs\n",
        "plt.rcParams['figure.autolayout'] = True\n",
        "\n",
        "# Read in our preprocessed data\n",
        "df = pd.read_csv('./export_csv/processed_output_without_column_names.csv', encoding = 'utf8')\n",
        "with open('SavedVariables.pckl', 'rb') as f:\n",
        "    continous_cols, cate_cols, cate_cols_v2, pipe_col, col_dict, pipe_col_dict = pickle.load(f)\n"
      ],
      "outputs": [],
      "execution_count": 39,
      "metadata": {
        "collapsed": true,
        "outputExpanded": true
      }
    },
    {
      "cell_type": "code",
      "source": [],
      "outputs": [],
      "execution_count": 40,
      "metadata": {}
    },
    {
      "cell_type": "code",
      "source": [
        "AIGA_col = pipe_col_dict['V_32']['AIGA']\n",
        "print('The total numeber of AIGA members is: ' + str(len(df[df[AIGA_col] == 1])))\n",
        "print('The total numeber of Non AIGA members is: ' + str(len(df[df[AIGA_col] == 0])))"
      ],
      "outputs": [],
      "execution_count": 40,
      "metadata": {
        "outputExpanded": true
      }
    },
    {
      "cell_type": "code",
      "source": [
        "def summary_cate_col(col, AllorAIGA = 'All'): #default is all records\n",
        "    \n",
        "    AIGA_col = pipe_col_dict['V_32']['AIGA']\n",
        "    if AllorAIGA == 'All':\n",
        "        df_filtered = df\n",
        "    elif AllorAIGA ==\"NotAIGA\":\n",
        "        df_filtered = df[df[AIGA_col] == 0]\n",
        "    else:\n",
        "        df_filtered = df[df[AIGA_col] == 1]\n",
        "\n",
        "        \n",
        "    if col in continous_cols:\n",
        "        return\n",
        "    \n",
        "    elif col in pipe_col:\n",
        "        dff = pd.DataFrame(columns=['Options','Count','Percent'])\n",
        "        for key, value in pipe_col_dict[col].items():\n",
        "            count = df_filtered[value].sum()\n",
        "            dff = dff.append({'Options': key, 'Count' : count}, ignore_index=True)\n",
        "    else:\n",
        "        dff = pd.DataFrame(df_filtered[col].value_counts())\n",
        "        dff.reset_index(inplace=True)\n",
        "        dff.columns = ['Options','Count']\n",
        "    \n",
        "    dff['Percent'] = dff.Count / len(df_filtered)\n",
        "    dff = dff.sort_values(by = 'Percent', ascending = False)\n",
        "    return dff\n"
      ],
      "outputs": [],
      "execution_count": 41,
      "metadata": {
        "collapsed": false,
        "outputHidden": false,
        "inputHidden": false
      }
    },
    {
      "cell_type": "code",
      "source": [
        "# plot bar plot for each option\n",
        "# Sized to fit three charts (AIGA, Not AIGA, ALL) horizontally in a 16 wide page\n",
        "\n",
        "def plotColumn(dff, AllorAIGA):\n",
        "\n",
        "    # g = sns.barplot(y='Options', x = 'Count',data=dff, color = 'blue', ci = None)\n",
        "    max_count = max(dff['Count'])\n",
        "    \n",
        "    for count, option in zip(dff['Count'],dff['Options']):\n",
        "        print(AllorAIGA + ' - ' + col_dict[col] + ': ' + str(option.decode('utf-8')) + \": \" + str(count))\n"
      ],
      "outputs": [],
      "execution_count": 44,
      "metadata": {
        "collapsed": false,
        "outputHidden": false,
        "inputHidden": false
      }
    },
    {
      "cell_type": "code",
      "source": [
        "for col in cate_cols:\n",
        "    if 'V_8' in col:\n",
        "        continue\n",
        "    if 'V_35' in col:\n",
        "        continue\n",
        "    if 'V_36' in col:\n",
        "        continue\n",
        "    \n",
        "    # get summary table each column (All)\n",
        "    dff = summary_cate_col(col, AllorAIGA = 'All')\n",
        "    plotColumn(dff, AllorAIGA = 'All')\n",
        "    \n",
        "    # get summary table each column (AIGA-Only)\n",
        "    dff = summary_cate_col(col, AllorAIGA = 'AIGA-Only')\n",
        "    plotColumn(dff, AllorAIGA = 'AIGA-Only')\n",
        "    \n",
        "    \n",
        "    # get summary table each column (Not AIGA)\n",
        "    #dff = summary_cate_col(col, AllorAIGA = 'NotAIGA')\n",
        "    #plot_single_column(dff, AllorAIGA = 'NotAIGA')"
      ],
      "outputs": [],
      "execution_count": 45,
      "metadata": {
        "collapsed": false,
        "outputHidden": false,
        "inputHidden": false
      }
    }
  ],
  "metadata": {
    "kernel_info": {
      "name": "python2"
    },
    "kernelspec": {
      "name": "python2",
      "language": "python",
      "display_name": "Python 2"
    },
    "language_info": {
      "mimetype": "text/x-python",
      "nbconvert_exporter": "python",
      "name": "python",
      "pygments_lexer": "ipython2",
      "version": "2.7.14",
      "file_extension": ".py",
      "codemirror_mode": {
        "version": 2,
        "name": "ipython"
      }
    },
    "nteract": {
      "version": "0.8.4"
    }
  },
  "nbformat": 4,
  "nbformat_minor": 2
}